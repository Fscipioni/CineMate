{
 "cells": [
  {
   "cell_type": "markdown",
   "id": "46c4e004-6bbc-4872-97b3-2951a2513745",
   "metadata": {},
   "source": [
    "# Part 2"
   ]
  },
  {
   "cell_type": "code",
   "execution_count": null,
   "id": "a73965d5-08b8-465e-8243-c6b72c20a62a",
   "metadata": {},
   "outputs": [],
   "source": [
    "import pandas as pd\n",
    "import numpy as np\n",
    "import logging\n",
    "import os\n",
    "import requests\n",
    "from tqdm import tqdm\n",
    "from bs4 import BeautifulSoup\n",
    "import re\n",
    "import pickle\n",
    "\n",
    "import openai\n",
    "\n",
    "from sklearn.metrics.pairwise import cosine_similarity\n",
    "\n",
    "# Set up logging to track progress and issues\n",
    "logging.basicConfig(level=logging.INFO, format=\"%(asctime)s - %(levelname)s - %(message)s\")\n",
    "\n",
    "# Import the OpenAI API key\n",
    "from config_loader import load_config_value\n",
    "openai_api_key = load_config_value(\"OPENAI_API_KEY\")\n",
    "omdb_key = load_config_value(\"OMDB_API_KEY\")"
   ]
  },
  {
   "cell_type": "code",
   "execution_count": null,
   "id": "81d5634a-1f5e-44a0-aa29-82302aee67ff",
   "metadata": {},
   "outputs": [],
   "source": [
    "# Local paths\n",
    "current_path = os.getcwd()\n",
    "parent_path = os.path.dirname(current_path)"
   ]
  },
  {
   "cell_type": "code",
   "execution_count": null,
   "id": "fba4d2a1-14fd-4434-a2e5-e4c27da7b493",
   "metadata": {},
   "outputs": [],
   "source": [
    "# Load previously fetched movie data\n",
    "pickle_path = parent_path + \"/movie_data.pkl\"\n",
    "\n",
    "with open(pickle_path, \"rb\") as f:\n",
    "    movie_data_list = pickle.load(f)\n",
    "\n",
    "# Convert to DataFrame\n",
    "movie_df = pd.DataFrame(movie_data_list)"
   ]
  },
  {
   "cell_type": "markdown",
   "id": "fdaf4490-a1de-4d61-8687-d5f9cd75185f",
   "metadata": {},
   "source": [
    "### drop columns and fill missing data with IMDB datasets"
   ]
  },
  {
   "cell_type": "code",
   "execution_count": null,
   "id": "f187a125-f6d7-4400-911b-aef6297c453f",
   "metadata": {},
   "outputs": [],
   "source": []
  }
 ],
 "metadata": {
  "kernelspec": {
   "display_name": "Python [conda env:base] *",
   "language": "python",
   "name": "conda-base-py"
  },
  "language_info": {
   "codemirror_mode": {
    "name": "ipython",
    "version": 3
   },
   "file_extension": ".py",
   "mimetype": "text/x-python",
   "name": "python",
   "nbconvert_exporter": "python",
   "pygments_lexer": "ipython3",
   "version": "3.12.2"
  }
 },
 "nbformat": 4,
 "nbformat_minor": 5
}
