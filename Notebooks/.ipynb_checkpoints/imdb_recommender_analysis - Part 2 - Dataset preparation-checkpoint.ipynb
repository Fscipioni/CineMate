{
 "cells": [
  {
   "cell_type": "markdown",
   "id": "46c4e004-6bbc-4872-97b3-2951a2513745",
   "metadata": {},
   "source": [
    "# **IMDB Recommender Chatbot Project**\n",
    "## **IMDB Movie Recommendation System Using RAG**\n",
    "\n",
    "### Project Overview\n",
    "This project demonstrates my ability to build a custom recommendation system using Retrieval-Augmented Generation (RAG) with IMDB datasets. The system recommends movies based on user preferences or trending content.\n",
    "\n",
    "The dataset includes:\n",
    "- movies and tv shows\n",
    "- produced in the US\n",
    "- from 2014 on\n",
    "- 100 additional titles from [The 100 Best Movies Of All Time](https://www.empireonline.com/movies/features/best-movies-2/)\n",
    "\n",
    "### Objectives\n",
    "1. Showcase proficiency in data cleaning, merging, and preprocessing.\n",
    "2. Implement a RAG pipeline for movie recommendations.\n",
    "3. Present results interactively and narratively."
   ]
  },
  {
   "cell_type": "markdown",
   "id": "aff2e0ce-cf59-40de-aa85-3441906ccee7",
   "metadata": {},
   "source": [
    "## **PART 2 - Preparing the Dataset**\n",
    "\n",
    "This notebook focuses on cleaning and enriching the movie_df dataset by leveraging the IMDb non-commercial datasets. The goal is to ensure data completeness and consistency across all key attributes while preserving data integrity.\n",
    "\n",
    "**Objectives**  \n",
    "\n",
    "1.\tHandling Missing Values:\n",
    "- Identify and fill in missing values across all columns\n",
    "- Use external IMDb datasets to replace missing values where applicable.\n",
    "\n",
    "2.\tStandardizing Movie Titles:\n",
    "- If a movie’s title is not in English, replace it with its English version from IMDb’s alternative titles dataset.\n",
    "\n",
    "By the end of this notebook, movie_df will be fully cleaned and standardized, making it ready for further analysis and modeling."
   ]
  },
  {
   "cell_type": "markdown",
   "id": "636f96cd-4af2-4b2e-b2e1-fce998811610",
   "metadata": {},
   "source": [
    "### **1. Import libraries and load the movie dataset prepared in Step 1**"
   ]
  },
  {
   "cell_type": "code",
   "execution_count": 4,
   "id": "a73965d5-08b8-465e-8243-c6b72c20a62a",
   "metadata": {},
   "outputs": [],
   "source": [
    "import pandas as pd\n",
    "import numpy as np\n",
    "import os\n",
    "import re\n",
    "import pickle\n",
    "import openai\n",
    "from sklearn.metrics.pairwise import cosine_similarity\n",
    "\n",
    "# # Import the OpenAI API key\n",
    "# from config_loader import load_config_value\n",
    "# openai_api_key = load_config_value(\"OPENAI_API_KEY\")\n",
    "# omdb_key = load_config_value(\"OMDB_API_KEY\")"
   ]
  },
  {
   "cell_type": "code",
   "execution_count": 5,
   "id": "81d5634a-1f5e-44a0-aa29-82302aee67ff",
   "metadata": {},
   "outputs": [],
   "source": [
    "# Local paths\n",
    "current_path = os.getcwd()\n",
    "parent_path = os.path.dirname(current_path)"
   ]
  },
  {
   "cell_type": "code",
   "execution_count": 6,
   "id": "fba4d2a1-14fd-4434-a2e5-e4c27da7b493",
   "metadata": {},
   "outputs": [],
   "source": [
    "# Load previously fetched movie data\n",
    "pickle_path = parent_path + \"/Data/movie_data.pkl\"\n",
    "\n",
    "with open(pickle_path, \"rb\") as f:\n",
    "    movie_data_list = pickle.load(f)\n",
    "\n",
    "# Convert to DataFrame\n",
    "movie_df = pd.DataFrame(movie_data_list)"
   ]
  },
  {
   "cell_type": "code",
   "execution_count": 7,
   "id": "fc876f8a-c19e-474a-8fca-b5cc283c379c",
   "metadata": {},
   "outputs": [
    {
     "data": {
      "text/html": [
       "<div>\n",
       "<style scoped>\n",
       "    .dataframe tbody tr th:only-of-type {\n",
       "        vertical-align: middle;\n",
       "    }\n",
       "\n",
       "    .dataframe tbody tr th {\n",
       "        vertical-align: top;\n",
       "    }\n",
       "\n",
       "    .dataframe thead th {\n",
       "        text-align: right;\n",
       "    }\n",
       "</style>\n",
       "<table border=\"1\" class=\"dataframe\">\n",
       "  <thead>\n",
       "    <tr style=\"text-align: right;\">\n",
       "      <th></th>\n",
       "      <th>imdb_id</th>\n",
       "      <th>title</th>\n",
       "      <th>year</th>\n",
       "      <th>genre</th>\n",
       "      <th>director</th>\n",
       "      <th>actors</th>\n",
       "      <th>plot</th>\n",
       "      <th>country</th>\n",
       "      <th>awards</th>\n",
       "      <th>poster</th>\n",
       "      <th>rating</th>\n",
       "      <th>metascore</th>\n",
       "      <th>votes</th>\n",
       "      <th>type</th>\n",
       "    </tr>\n",
       "  </thead>\n",
       "  <tbody>\n",
       "    <tr>\n",
       "      <th>0</th>\n",
       "      <td>tt4076360</td>\n",
       "      <td>Third Person</td>\n",
       "      <td>2015</td>\n",
       "      <td>Documentary, Drama</td>\n",
       "      <td>Sharon Luzon</td>\n",
       "      <td>N/A</td>\n",
       "      <td>Suzan, an Arab- Israeli woman, must reshape he...</td>\n",
       "      <td>Israel</td>\n",
       "      <td>N/A</td>\n",
       "      <td>https://m.media-amazon.com/images/M/MV5BOTI5OT...</td>\n",
       "      <td>N/A</td>\n",
       "      <td>N/A</td>\n",
       "      <td>N/A</td>\n",
       "      <td>movie</td>\n",
       "    </tr>\n",
       "    <tr>\n",
       "      <th>1</th>\n",
       "      <td>tt3608918</td>\n",
       "      <td>Azzurrina</td>\n",
       "      <td>2023</td>\n",
       "      <td>Horror</td>\n",
       "      <td>Giacomo Franciosa</td>\n",
       "      <td>Tatiana Luter, Paolo Stella, Gianfranco Terrin</td>\n",
       "      <td>The tale of Guendalina was passed down verball...</td>\n",
       "      <td>Italy</td>\n",
       "      <td>N/A</td>\n",
       "      <td>https://m.media-amazon.com/images/M/MV5BOWQ5MG...</td>\n",
       "      <td>N/A</td>\n",
       "      <td>N/A</td>\n",
       "      <td>N/A</td>\n",
       "      <td>movie</td>\n",
       "    </tr>\n",
       "    <tr>\n",
       "      <th>2</th>\n",
       "      <td>tt15908496</td>\n",
       "      <td>Dear Jackie</td>\n",
       "      <td>2021</td>\n",
       "      <td>Documentary</td>\n",
       "      <td>Henri Pardo</td>\n",
       "      <td>Ronald Jones, Ivan Livingstone, Majiza Philips</td>\n",
       "      <td>Dear Jackie paints a picture of the Black comm...</td>\n",
       "      <td>Canada</td>\n",
       "      <td>N/A</td>\n",
       "      <td>https://m.media-amazon.com/images/M/MV5BNDIwYz...</td>\n",
       "      <td>N/A</td>\n",
       "      <td>N/A</td>\n",
       "      <td>N/A</td>\n",
       "      <td>movie</td>\n",
       "    </tr>\n",
       "    <tr>\n",
       "      <th>3</th>\n",
       "      <td>tt28378602</td>\n",
       "      <td>Zena s gumenim rukavicama</td>\n",
       "      <td>2023</td>\n",
       "      <td>Drama</td>\n",
       "      <td>Mario Sulina</td>\n",
       "      <td>Areta Curkovic, Sandra Loncaric, Miro Cabraja</td>\n",
       "      <td>The film was inspired by the great strike of e...</td>\n",
       "      <td>Croatia</td>\n",
       "      <td>N/A</td>\n",
       "      <td>https://m.media-amazon.com/images/M/MV5BODE4NG...</td>\n",
       "      <td>N/A</td>\n",
       "      <td>N/A</td>\n",
       "      <td>N/A</td>\n",
       "      <td>movie</td>\n",
       "    </tr>\n",
       "    <tr>\n",
       "      <th>4</th>\n",
       "      <td>tt6340460</td>\n",
       "      <td>Los caminos de Cuba</td>\n",
       "      <td>2019</td>\n",
       "      <td>Documentary</td>\n",
       "      <td>Luciano Nacci</td>\n",
       "      <td>N/A</td>\n",
       "      <td>N/A</td>\n",
       "      <td>Argentina, Cuba, Colombia</td>\n",
       "      <td>N/A</td>\n",
       "      <td>https://m.media-amazon.com/images/M/MV5BMzhjOT...</td>\n",
       "      <td>N/A</td>\n",
       "      <td>N/A</td>\n",
       "      <td>N/A</td>\n",
       "      <td>movie</td>\n",
       "    </tr>\n",
       "  </tbody>\n",
       "</table>\n",
       "</div>"
      ],
      "text/plain": [
       "      imdb_id                      title  year               genre  \\\n",
       "0   tt4076360               Third Person  2015  Documentary, Drama   \n",
       "1   tt3608918                  Azzurrina  2023              Horror   \n",
       "2  tt15908496                Dear Jackie  2021         Documentary   \n",
       "3  tt28378602  Zena s gumenim rukavicama  2023               Drama   \n",
       "4   tt6340460        Los caminos de Cuba  2019         Documentary   \n",
       "\n",
       "            director                                          actors  \\\n",
       "0       Sharon Luzon                                             N/A   \n",
       "1  Giacomo Franciosa  Tatiana Luter, Paolo Stella, Gianfranco Terrin   \n",
       "2        Henri Pardo  Ronald Jones, Ivan Livingstone, Majiza Philips   \n",
       "3       Mario Sulina   Areta Curkovic, Sandra Loncaric, Miro Cabraja   \n",
       "4      Luciano Nacci                                             N/A   \n",
       "\n",
       "                                                plot  \\\n",
       "0  Suzan, an Arab- Israeli woman, must reshape he...   \n",
       "1  The tale of Guendalina was passed down verball...   \n",
       "2  Dear Jackie paints a picture of the Black comm...   \n",
       "3  The film was inspired by the great strike of e...   \n",
       "4                                                N/A   \n",
       "\n",
       "                     country awards  \\\n",
       "0                     Israel    N/A   \n",
       "1                      Italy    N/A   \n",
       "2                     Canada    N/A   \n",
       "3                    Croatia    N/A   \n",
       "4  Argentina, Cuba, Colombia    N/A   \n",
       "\n",
       "                                              poster rating metascore votes  \\\n",
       "0  https://m.media-amazon.com/images/M/MV5BOTI5OT...    N/A       N/A   N/A   \n",
       "1  https://m.media-amazon.com/images/M/MV5BOWQ5MG...    N/A       N/A   N/A   \n",
       "2  https://m.media-amazon.com/images/M/MV5BNDIwYz...    N/A       N/A   N/A   \n",
       "3  https://m.media-amazon.com/images/M/MV5BODE4NG...    N/A       N/A   N/A   \n",
       "4  https://m.media-amazon.com/images/M/MV5BMzhjOT...    N/A       N/A   N/A   \n",
       "\n",
       "    type  \n",
       "0  movie  \n",
       "1  movie  \n",
       "2  movie  \n",
       "3  movie  \n",
       "4  movie  "
      ]
     },
     "execution_count": 7,
     "metadata": {},
     "output_type": "execute_result"
    }
   ],
   "source": [
    "movie_df.head()"
   ]
  },
  {
   "cell_type": "markdown",
   "id": "fdaf4490-a1de-4d61-8687-d5f9cd75185f",
   "metadata": {},
   "source": [
    "### **2. Imputing missing values**"
   ]
  },
  {
   "cell_type": "code",
   "execution_count": 9,
   "id": "26591e55-5458-4b1f-a94b-b2fd96d9cbbb",
   "metadata": {},
   "outputs": [],
   "source": [
    "def check_missings(df):\n",
    "    print('Missing values for each field:\\n')\n",
    "    \n",
    "    columns = df.columns\n",
    "    \n",
    "    for column in columns:\n",
    "        miss = int(movie_df[df[column] == 'N/A']['title'].count())\n",
    "        print(\" {} = {}\".format(column, miss))"
   ]
  },
  {
   "cell_type": "code",
   "execution_count": 10,
   "id": "fa57e0da-be73-4f17-a66d-e09a80a6588b",
   "metadata": {},
   "outputs": [
    {
     "name": "stdout",
     "output_type": "stream",
     "text": [
      "Missing values for each field:\n",
      "\n",
      " imdb_id = 0\n",
      " title = 0\n",
      " year = 0\n",
      " genre = 1082\n",
      " director = 830\n",
      " actors = 5816\n",
      " plot = 4535\n",
      " country = 830\n",
      " awards = 24983\n",
      " poster = 2533\n",
      " rating = 17167\n",
      " metascore = 17167\n",
      " votes = 36738\n",
      " type = 0\n"
     ]
    }
   ],
   "source": [
    "check_missings(movie_df)"
   ]
  },
  {
   "cell_type": "markdown",
   "id": "09ff4608-f748-49b0-bbef-a402033c7883",
   "metadata": {},
   "source": [
    "#### **2.1 Approach**\n",
    "\n",
    "- genre --> replace 'N/A' values using `title.basics.tsv` IMDB Dataset\n",
    "- director --> replace 'N/A' values using `title.crew.tsv` and `name.basics.tsv` IMDB Datasets\n",
    "- actors --> replace 'N/A' values using `title.principals.tsv` and `name.basics.tsv` IMDB Datasets\n",
    "- plot --> Delate raws having plot = 'N/A'\n",
    "- country  --> Delate raws having country = 'N/A'\n",
    "- awards --> replace 'N/A' values with sentence '0 awards and 0 nominees'\n",
    "- rating & votes --> replace 'N/A' values using `title.ratings.tsv` IMDB Dataset\n"
   ]
  },
  {
   "cell_type": "code",
   "execution_count": 12,
   "id": "89ff12c0-0751-4be7-9282-731802173325",
   "metadata": {},
   "outputs": [],
   "source": [
    "## Load the IMDB datasets\n",
    "imdb_dataset_path = os.path.dirname(parent_path) + '/IMDB_Dataset/'\n",
    "\n",
    "# Load IMDb datasets\n",
    "title_basics = pd.read_csv(imdb_dataset_path + 'title.basics.tsv', sep='\\t', dtype=str, na_values=['\\\\N'])\n",
    "title_crew = pd.read_csv(imdb_dataset_path + 'title.crew.tsv', sep='\\t', dtype=str, na_values=['\\\\N'])\n",
    "name_basics = pd.read_csv(imdb_dataset_path + 'name.basics.tsv', sep='\\t', dtype=str, na_values=['\\\\N'])\n",
    "title_principals = pd.read_csv(imdb_dataset_path + 'title.principals.tsv', sep='\\t', dtype=str, na_values=['\\\\N'])\n",
    "title_ratings = pd.read_csv(imdb_dataset_path + 'title.ratings.tsv', sep='\\t', dtype={'tconst': str, 'averageRating': float, 'numVotes': int}, na_values=['\\\\N'])\n"
   ]
  },
  {
   "cell_type": "code",
   "execution_count": 13,
   "id": "a1eabd8b-dc8a-463d-915f-1670718bf7ff",
   "metadata": {},
   "outputs": [],
   "source": [
    "## Rename 'imdb_id' field to align with the IMDB datasets id field\n",
    "movie_df = movie_df.rename(columns={'imdb_id': 'tconst'})"
   ]
  },
  {
   "cell_type": "code",
   "execution_count": 14,
   "id": "fa98186f-a511-4bff-a5b4-4768c45c361e",
   "metadata": {},
   "outputs": [
    {
     "name": "stderr",
     "output_type": "stream",
     "text": [
      "/var/folders/dk/nwt6ddv12cd3hjtm1brdfz2m0000gn/T/ipykernel_27156/933872826.py:6: FutureWarning: A value is trying to be set on a copy of a DataFrame or Series through chained assignment using an inplace method.\n",
      "The behavior will change in pandas 3.0. This inplace method will never work because the intermediate object on which we are setting values always behaves as a copy.\n",
      "\n",
      "For example, when doing 'df[col].method(value, inplace=True)', try using 'df.method({col: value}, inplace=True)' or df[col] = df[col].method(value) instead, to perform the operation inplace on the original object.\n",
      "\n",
      "\n",
      "  movie_df['genre'].fillna(movie_df['genres'], inplace=True)\n",
      "/var/folders/dk/nwt6ddv12cd3hjtm1brdfz2m0000gn/T/ipykernel_27156/933872826.py:14: FutureWarning: A value is trying to be set on a copy of a DataFrame or Series through chained assignment using an inplace method.\n",
      "The behavior will change in pandas 3.0. This inplace method will never work because the intermediate object on which we are setting values always behaves as a copy.\n",
      "\n",
      "For example, when doing 'df[col].method(value, inplace=True)', try using 'df.method({col: value}, inplace=True)' or df[col] = df[col].method(value) instead, to perform the operation inplace on the original object.\n",
      "\n",
      "\n",
      "  movie_df['director'].fillna(movie_df['primaryName'], inplace=True)\n",
      "/var/folders/dk/nwt6ddv12cd3hjtm1brdfz2m0000gn/T/ipykernel_27156/933872826.py:22: FutureWarning: A value is trying to be set on a copy of a DataFrame or Series through chained assignment using an inplace method.\n",
      "The behavior will change in pandas 3.0. This inplace method will never work because the intermediate object on which we are setting values always behaves as a copy.\n",
      "\n",
      "For example, when doing 'df[col].method(value, inplace=True)', try using 'df.method({col: value}, inplace=True)' or df[col] = df[col].method(value) instead, to perform the operation inplace on the original object.\n",
      "\n",
      "\n",
      "  movie_df['actors'].fillna(movie_df['primaryName'], inplace=True)\n",
      "/var/folders/dk/nwt6ddv12cd3hjtm1brdfz2m0000gn/T/ipykernel_27156/933872826.py:32: FutureWarning: A value is trying to be set on a copy of a DataFrame or Series through chained assignment using an inplace method.\n",
      "The behavior will change in pandas 3.0. This inplace method will never work because the intermediate object on which we are setting values always behaves as a copy.\n",
      "\n",
      "For example, when doing 'df[col].method(value, inplace=True)', try using 'df.method({col: value}, inplace=True)' or df[col] = df[col].method(value) instead, to perform the operation inplace on the original object.\n",
      "\n",
      "\n",
      "  movie_df['awards'].fillna('0 awards and 0 nominees', inplace=True)\n",
      "/var/folders/dk/nwt6ddv12cd3hjtm1brdfz2m0000gn/T/ipykernel_27156/933872826.py:36: FutureWarning: A value is trying to be set on a copy of a DataFrame or Series through chained assignment using an inplace method.\n",
      "The behavior will change in pandas 3.0. This inplace method will never work because the intermediate object on which we are setting values always behaves as a copy.\n",
      "\n",
      "For example, when doing 'df[col].method(value, inplace=True)', try using 'df.method({col: value}, inplace=True)' or df[col] = df[col].method(value) instead, to perform the operation inplace on the original object.\n",
      "\n",
      "\n",
      "  movie_df['rating'].fillna(movie_df['averageRating'], inplace=True)\n",
      "/var/folders/dk/nwt6ddv12cd3hjtm1brdfz2m0000gn/T/ipykernel_27156/933872826.py:37: FutureWarning: A value is trying to be set on a copy of a DataFrame or Series through chained assignment using an inplace method.\n",
      "The behavior will change in pandas 3.0. This inplace method will never work because the intermediate object on which we are setting values always behaves as a copy.\n",
      "\n",
      "For example, when doing 'df[col].method(value, inplace=True)', try using 'df.method({col: value}, inplace=True)' or df[col] = df[col].method(value) instead, to perform the operation inplace on the original object.\n",
      "\n",
      "\n",
      "  movie_df['votes'].fillna(movie_df['numVotes'], inplace=True)\n"
     ]
    }
   ],
   "source": [
    "# Convert 'N/A' values to NaN for easier handling\n",
    "movie_df.replace('N/A', pd.NA, inplace=True)\n",
    "\n",
    "# 1. Impute 'genre' using title.basics.tsv\n",
    "movie_df = movie_df.merge(title_basics[['tconst', 'genres']], on='tconst', how='left')\n",
    "movie_df['genre'].fillna(movie_df['genres'], inplace=True)\n",
    "movie_df.drop(columns=['genres'], inplace=True)\n",
    "\n",
    "# 2. Impute 'director' using title.crew.tsv and name.basics.tsv\n",
    "title_crew = title_crew.explode('directors')  # Expand director lists\n",
    "title_crew = title_crew.merge(name_basics[['nconst', 'primaryName']], left_on='directors', right_on='nconst', how='left')\n",
    "director_mapping = title_crew.groupby('tconst')['primaryName'].apply(lambda x: ', '.join(x.dropna())).reset_index()\n",
    "movie_df = movie_df.merge(director_mapping, on='tconst', how='left')\n",
    "movie_df['director'].fillna(movie_df['primaryName'], inplace=True)\n",
    "movie_df.drop(columns=['primaryName'], inplace=True)\n",
    "\n",
    "# 3. Impute 'actors' using title.principals.tsv and name.basics.tsv\n",
    "title_principals = title_principals[title_principals['category'].isin(['actor', 'actress'])]\n",
    "title_principals = title_principals.merge(name_basics[['nconst', 'primaryName']], on='nconst', how='left')\n",
    "actors_mapping = title_principals.groupby('tconst')['primaryName'].apply(lambda x: ', '.join(x.dropna())).reset_index()\n",
    "movie_df = movie_df.merge(actors_mapping, on='tconst', how='left')\n",
    "movie_df['actors'].fillna(movie_df['primaryName'], inplace=True)\n",
    "movie_df.drop(columns=['primaryName'], inplace=True)\n",
    "\n",
    "# 4. Remove rows where 'plot' is missing\n",
    "movie_df.dropna(subset=['plot'], inplace=True)\n",
    "\n",
    "# 5. Remove rows where 'country' is missing\n",
    "movie_df.dropna(subset=['country'], inplace=True)\n",
    "\n",
    "# 6. Replace missing 'awards' with default text\n",
    "movie_df['awards'].fillna('0 awards and 0 nominees', inplace=True)\n",
    "\n",
    "# 7. Impute 'rating' and 'votes' using title.ratings.tsv\n",
    "movie_df = movie_df.merge(title_ratings[['tconst', 'averageRating', 'numVotes']], on='tconst', how='left')\n",
    "movie_df['rating'].fillna(movie_df['averageRating'], inplace=True)\n",
    "movie_df['votes'].fillna(movie_df['numVotes'], inplace=True)\n",
    "movie_df.drop(columns=['averageRating', 'numVotes'], inplace=True)"
   ]
  },
  {
   "cell_type": "code",
   "execution_count": 15,
   "id": "6204b486-0b5a-47fc-8230-b5ea2e0aad15",
   "metadata": {},
   "outputs": [
    {
     "data": {
      "text/plain": [
       "tconst           0\n",
       "title            0\n",
       "year             0\n",
       "genre          373\n",
       "director         0\n",
       "actors        4584\n",
       "plot             0\n",
       "country          0\n",
       "awards           0\n",
       "poster        1301\n",
       "rating           0\n",
       "metascore    13229\n",
       "votes            0\n",
       "type             0\n",
       "dtype: int64"
      ]
     },
     "execution_count": 15,
     "metadata": {},
     "output_type": "execute_result"
    }
   ],
   "source": [
    "movie_df.isnull().sum()"
   ]
  },
  {
   "cell_type": "markdown",
   "id": "f39680dc-4d68-465d-8da0-6a57b07111dd",
   "metadata": {},
   "source": [
    "#### **2.2 Additional Steps for imputing missing values**\n",
    "\n",
    "1.\tDropping rows where 'genre' or 'actors' is null.\n",
    "2.\tDropping the 'metascore' column.\n"
   ]
  },
  {
   "cell_type": "code",
   "execution_count": 17,
   "id": "f883cc02-1a38-4f4c-a41d-5e4a2cd83f3b",
   "metadata": {},
   "outputs": [],
   "source": [
    "# 8. Remove rows where 'genre' or 'actors' are missing\n",
    "movie_df.dropna(subset=['genre', 'actors'], inplace=True)\n",
    "\n",
    "# 9. Drop the 'metascore' column\n",
    "movie_df.drop(columns=['metascore'], inplace=True)"
   ]
  },
  {
   "cell_type": "code",
   "execution_count": 18,
   "id": "c2abd59b-0204-45b6-9773-d44e33f0d8cf",
   "metadata": {},
   "outputs": [],
   "source": [
    "movie_df.to_csv(parent_path + \"/Data/movies_dataset_final.csv\")"
   ]
  },
  {
   "cell_type": "code",
   "execution_count": 19,
   "id": "da971ed4-bb6a-47d2-a8c8-305f729489f5",
   "metadata": {},
   "outputs": [
    {
     "data": {
      "text/plain": [
       "tconst        0\n",
       "title         0\n",
       "year          0\n",
       "genre         0\n",
       "director      0\n",
       "actors        0\n",
       "plot          0\n",
       "country       0\n",
       "awards        0\n",
       "poster      942\n",
       "rating        0\n",
       "votes         0\n",
       "type          0\n",
       "dtype: int64"
      ]
     },
     "execution_count": 19,
     "metadata": {},
     "output_type": "execute_result"
    }
   ],
   "source": [
    "movie_df.isnull().sum()"
   ]
  }
 ],
 "metadata": {
  "kernelspec": {
   "display_name": "Python [conda env:base] *",
   "language": "python",
   "name": "conda-base-py"
  },
  "language_info": {
   "codemirror_mode": {
    "name": "ipython",
    "version": 3
   },
   "file_extension": ".py",
   "mimetype": "text/x-python",
   "name": "python",
   "nbconvert_exporter": "python",
   "pygments_lexer": "ipython3",
   "version": "3.12.2"
  }
 },
 "nbformat": 4,
 "nbformat_minor": 5
}
