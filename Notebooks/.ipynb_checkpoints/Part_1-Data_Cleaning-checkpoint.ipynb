{
 "cells": [
  {
   "cell_type": "markdown",
   "id": "c3f01c3d-e7bc-422f-8716-ef5549d74493",
   "metadata": {},
   "source": [
    "# **IMDB Recommender Chatbot Project**\n",
    "## **IMDB Movie Recommendation System Using RAG**\n",
    "\n",
    "### Project Overview\n",
    "This project demonstrates my ability to build a custom recommendation system using Retrieval-Augmented Generation (RAG) with IMDB datasets. The system recommends movies based on user preferences or trending content.\n",
    "\n",
    "The dataset includes:\n",
    "- movies and tv shows\n",
    "- produced in the US\n",
    "- from 2014 on\n",
    "- 100 additional titles from [The 100 Best Movies Of All Time](https://www.empireonline.com/movies/features/best-movies-2/)\n",
    "\n",
    "### Objectives\n",
    "1. Showcase proficiency in data cleaning, merging, and preprocessing.\n",
    "2. Implement a RAG pipeline for movie recommendations.\n",
    "3. Present results interactively and narratively."
   ]
  },
  {
   "cell_type": "markdown",
   "id": "dbfbb742-8224-443a-9157-6e4d363d2897",
   "metadata": {},
   "source": [
    "## **PART 1 - Creating the Dataset**\n",
    "\n",
    "This is a **standalone notebook** dedicated to the creation of the dataset that will be used to train the LLM model for movie recommendations.\n",
    "\n",
    "Since collecting information using the OMDb API is a time-consuming process—estimated to take approximately **40 hours for around 30,000 movie IDs**—this notebook is intended to be run only once to generate and store the dataset.\n",
    "\n",
    "Once the dataset is ready, all future work will be conducted using the preprocessed and saved dataset, eliminating the need to re-run this notebook. This ensures efficiency and prevents unnecessary API calls.\n",
    "\n",
    "The final dataset will be saved in a structured format for easy retrieval and use in subsequent notebooks."
   ]
  },
  {
   "cell_type": "markdown",
   "id": "e2bea7ef-91a6-4976-8ffc-1008aae09c8f",
   "metadata": {},
   "source": [
    "## **1. Data Preparation**\n",
    "\n",
    "### **1.1 Import libraries**\n"
   ]
  },
  {
   "cell_type": "code",
   "execution_count": 1,
   "id": "065e3018-d733-48ac-8b57-8886dcc6d96c",
   "metadata": {},
   "outputs": [],
   "source": [
    "import pandas as pd\n",
    "import numpy as np\n",
    "import logging\n",
    "import os\n",
    "import requests\n",
    "from tqdm import tqdm\n",
    "from bs4 import BeautifulSoup\n",
    "import re\n",
    "import pickle\n",
    "\n",
    "import openai\n",
    "\n",
    "from sklearn.metrics.pairwise import cosine_similarity\n",
    "\n",
    "# Set up logging to track progress and issues\n",
    "logging.basicConfig(level=logging.INFO, format=\"%(asctime)s - %(levelname)s - %(message)s\")\n",
    "\n",
    "# Import the OpenAI API key\n",
    "from config_loader import load_config_value\n",
    "openai_api_key = load_config_value(\"OPENAI_API_KEY\")\n",
    "omdb_key = load_config_value(\"OMDB_API_KEY\")"
   ]
  },
  {
   "cell_type": "code",
   "execution_count": 3,
   "id": "e8ba15f1-d53c-42b2-866b-a2907fe78dc8",
   "metadata": {},
   "outputs": [],
   "source": [
    "# Local paths\n",
    "current_path = os.getcwd()\n",
    "parent_path = os.path.dirname(current_path)"
   ]
  },
  {
   "cell_type": "markdown",
   "id": "2bddfa6a-0b73-4a73-976b-8aae4b8de9ed",
   "metadata": {},
   "source": [
    "## **2. Data Collection**\n",
    "\n",
    "### **2.1 Scraping Top 100 Iconic Movies from Empire Online**\n",
    "\n",
    "The first step in our data collection process is to scrape the 100 most iconic movies from Empire Online. This ensures that we have a curated list of historically significant films to include in our recommendation system.\n",
    "\n",
    "How It Works:\n",
    "- The function scrape_empire_top_100(url) fetches the webpage and extracts movie titles and release years using BeautifulSoup and regex.\n",
    "- The extracted movies are stored in a Pandas DataFrame for further processing.\n",
    "- The data is then saved as a CSV file for easy reference."
   ]
  },
  {
   "cell_type": "code",
   "execution_count": 5,
   "id": "ac8e48e6-3a0a-4341-b043-c3eead0b4ee6",
   "metadata": {},
   "outputs": [
    {
     "name": "stdout",
     "output_type": "stream",
     "text": [
      "Scraping completed and saved to 'empire_top_100_movies.csv'.\n",
      "                         Title  Year\n",
      "0               Reservoir Dogs  1992\n",
      "1                Groundhog Day  1993\n",
      "2                 Paddington 2  2017\n",
      "3                       Amélie  2001\n",
      "4           Brokeback Mountain  2005\n",
      "5                 Donnie Darko  2001\n",
      "6  Scott Pilgrim Vs. The World  2010\n",
      "7   Portrait Of A Lady On Fire  2020\n",
      "8       Léon: The Professional  1994\n",
      "9                        Logan  2017\n"
     ]
    }
   ],
   "source": [
    "def scrape_empire_top_100(url):\n",
    "    \"\"\"\n",
    "    Scrape the 100 most iconic movies from the Empire Online website, extracting titles and release years.\n",
    "\n",
    "    Args:\n",
    "        url (str): URL of the Empire Online top movies page.\n",
    "\n",
    "    Returns:\n",
    "        pd.DataFrame: A DataFrame containing the scraped movie titles and years.\n",
    "    \"\"\"\n",
    "    # Send a GET request to the URL\n",
    "    response = requests.get(url, headers={\"User-Agent\": \"Mozilla/5.0\"})\n",
    "    \n",
    "    # Check if the request was successful\n",
    "    if response.status_code != 200:\n",
    "        print(f\"Failed to fetch the webpage. Status code: {response.status_code}\")\n",
    "        return None\n",
    "    \n",
    "    # Parse the webpage content\n",
    "    soup = BeautifulSoup(response.content, 'html.parser')\n",
    "    \n",
    "    # Extract movie titles and years, skipping the first <h2>\n",
    "    movies = []\n",
    "    h2_tags = soup.find_all('h2')[1:]  # Skip the first occurrence\n",
    "\n",
    "    for item in h2_tags:\n",
    "        title_text = item.get_text(strip=True)\n",
    "        \n",
    "        # Extract the title and year separately using regex\n",
    "        match = re.search(r\"\\d+\\)\\s*(.+?)\\s*\\((\\d{4})\\)\", title_text)\n",
    "        if match:\n",
    "            title, year = match.group(1), match.group(2)\n",
    "            movies.append({'Title': title, 'Year': year})\n",
    "\n",
    "    # Convert to a DataFrame\n",
    "    movies_df = pd.DataFrame(movies)\n",
    "    \n",
    "    return movies_df\n",
    "\n",
    "# URL of the Empire Online webpage\n",
    "url = \"https://www.empireonline.com/movies/features/best-movies-2/\"\n",
    "\n",
    "# Scrape the data\n",
    "top_100_movies = scrape_empire_top_100(url)\n",
    "\n",
    "# Save to a CSV file (optional)\n",
    "if top_100_movies is not None:\n",
    "    top_100_movies.to_csv(\"empire_top_100_movies.csv\", index=False)\n",
    "    print(\"Scraping completed and saved to 'empire_top_100_movies.csv'.\")\n",
    "else:\n",
    "    print(\"Scraping failed.\")\n",
    "\n",
    "# Print first 10 rows\n",
    "print(top_100_movies.head(10))"
   ]
  },
  {
   "cell_type": "markdown",
   "id": "96423663-3f18-47b2-ae50-1e39fa7eef5b",
   "metadata": {},
   "source": [
    "### **2.2 Filtering and Merging IMDb Data**\n",
    "\n",
    "Now that we have our top 100 movies, we need to fetch their corresponding IMDb metadata. To do this, we use IMDb’s title.basics.tsv dataset, which contains:\n",
    "- Title Type (movie, tvSeries, etc.)\n",
    "- Release Year\n",
    "- Title Name\n",
    "- Unique IMDb Identifier (tconst)\n",
    "\n",
    "How It Works:\n",
    "- Filters IMDb data to select:\n",
    "- Movies (titleType == 'movie')\n",
    "- Titles released from 2014 onward (to keep recent content relevant)\n",
    "- Merges this dataset with the top 100 movies list, ensuring that only movies that exist in both sets are included.\n",
    "- Extracts IMDb IDs (tconst) from:\n",
    "- The filtered IMDb dataset\n",
    "- The iconic movie dataset\n",
    "- Combines the IDs, ensuring all relevant movies are included in our final list."
   ]
  },
  {
   "cell_type": "markdown",
   "id": "117624e3-d9c9-413b-8090-cba489997f74",
   "metadata": {},
   "source": [
    "## **2.3 Fetching Additional Movie Data from OMDB API**\n",
    "\n",
    "Now that we have identified relevant IMDb movie IDs, we use the OMDb API to fetch additional movie details, including:\n",
    "- Genres, Directors, Actors\n",
    "- Plot Summary\n",
    "- IMDB Ratings and Votes\n",
    "- Country of Production\n",
    "- Awards and Poster URLs\n",
    "\n",
    "How It Works:\n",
    "- Loads the IMDb title.basics.tsv dataset and filters it.\n",
    "- Extracts IMDb tconst IDs for:\n",
    "- General filtered movies.\n",
    "- The top 100 iconic movies.\n",
    "- Calls the OMDb API for each tconst, retrieving structured movie metadata.\n",
    "- Stores the data in a Pandas DataFrame for further use."
   ]
  },
  {
   "cell_type": "code",
   "execution_count": 7,
   "id": "380a4191-3919-4358-9ee4-743cbcd2e0f4",
   "metadata": {},
   "outputs": [],
   "source": [
    "def collect_data_ids(basics_path, ratings_path, top_100_movies):\n",
    "    \"\"\"\n",
    "    Filter IMDb datasets to collect movie IDs of interest.\n",
    "\n",
    "    Args:\n",
    "        basics_path (str): Path to the `title.basics.tsv` file.\n",
    "        ratings_path (str): Path to the `title.ratings.tsv` file.\n",
    "        top_100_movies (pd.DataFrame): DataFrame containing the top 100 iconic movies.\n",
    "        \n",
    "    Returns:\n",
    "        List: A list containing the movie IDs.\n",
    "    \"\"\"\n",
    "    \n",
    "    \n",
    "    ### 1. Load and Filter `title.basics.tsv`\n",
    "    basics = pd.read_csv(basics_path, sep='\\t', low_memory=False)\n",
    "    basics_filtered = basics[\n",
    "        (basics['titleType'] == 'movie') & \n",
    "        (basics['isAdult'] == '0') & \n",
    "        (basics['startYear'].apply(lambda x: x.isdigit() and int(x) >= 2014))\n",
    "    ]\n",
    "\n",
    "    ### 2. Load and Filter `title.ratings.tsv`\n",
    "    ratings = pd.read_csv(ratings_path, sep='\\t', low_memory=False)\n",
    "    ratings_filtered = ratings[ratings['averageRating'] >= 7]\n",
    "\n",
    "    ### 3. Join Basics and Ratings on `tconst`\n",
    "    filtered_movies = basics_filtered.merge(ratings_filtered, on='tconst', how='inner')\n",
    "\n",
    "    ### 4. Merge with Top 100 Iconic Movies\n",
    "    top_100_movies['Year'] = top_100_movies['Year'].astype(str)  # Ensure year is a string\n",
    "    iconic = basics.merge(top_100_movies, left_on=['originalTitle', 'startYear'], right_on=['Title', 'Year'], how='inner')\n",
    "    iconic = iconic[iconic['titleType'] == 'movie']  # Keep only movies\n",
    "    iconic = iconic.drop(columns=['Title'])  # Remove duplicate column\n",
    "\n",
    "    ### 5. Combine IMDb and Iconic Movie IDs\n",
    "    filtered_ids = filtered_movies['tconst'].tolist()\n",
    "    iconic_ids = iconic['tconst'].tolist()\n",
    "    movie_ids = list(set(filtered_ids + iconic_ids))  # Ensure unique IDs\n",
    "\n",
    "    return movie_ids\n"
   ]
  },
  {
   "cell_type": "code",
   "execution_count": 9,
   "id": "6a7e998f-f15e-47c7-ae39-1eac344c22ec",
   "metadata": {},
   "outputs": [],
   "source": [
    "basics_path = parent_path + '/IMDB_Dataset/title.basics.tsv'\n",
    "ratings_path = parent_path + '/IMDB_Dataset/title.ratings.tsv'\n",
    "\n",
    "movie_ids = collect_data_ids(basics_path, ratings_path, top_100_movies)\n",
    "\n",
    "# Save the result to a .txt file\n",
    "with open('movie_ids_list.txt', 'w+') as f:\n",
    "    for id in movie_ids:\n",
    "         f.write('%s\\n' %str(id))\n",
    "\n",
    "f.close()"
   ]
  },
  {
   "cell_type": "code",
   "execution_count": 10,
   "id": "08514b8e-dc02-4278-961b-5feb1f250654",
   "metadata": {},
   "outputs": [],
   "source": [
    "def fetch_movie_data_from_omdb(movie_ids, api_key, save_path):\n",
    "    \"\"\"\n",
    "    Fetch movie information from the OMDB API based on IMDb movie IDs.\n",
    "    \n",
    "    If a pickle file exists, it resumes from where it left off.\n",
    "\n",
    "    Args:\n",
    "        movie_ids (list): List of filtered movie IDs.\n",
    "        api_key (str): Your OMDB API key.\n",
    "        save_path (str): Path to save progress as a pickle file.\n",
    "\n",
    "    Returns:\n",
    "        pd.DataFrame: A DataFrame containing the fetched movie information.\n",
    "    \"\"\"\n",
    "    \n",
    "    # Try loading previously saved progress\n",
    "    try:\n",
    "        with open(save_path, \"rb\") as f:\n",
    "            movie_data_list = pickle.load(f)\n",
    "            fetched_ids = {movie[\"imdb_id\"] for movie in movie_data_list}  # Track already fetched IDs\n",
    "            print(f\"Resuming from {len(movie_data_list)} movies...\")\n",
    "    except (FileNotFoundError, EOFError):\n",
    "        movie_data_list = []\n",
    "        fetched_ids = set()\n",
    "\n",
    "    # Fetch only missing movie IDs\n",
    "    remaining_ids = [m_id for m_id in movie_ids if m_id not in fetched_ids]\n",
    "\n",
    "    for movie_id in tqdm(remaining_ids, desc=\"Fetching movie data\"):\n",
    "        print(f\"Fetching data for movie ID {movie_id} from OMDb...\")\n",
    "        \n",
    "        url = f\"http://www.omdbapi.com/?apikey={api_key}&i={movie_id}&plot=full\"\n",
    "        response = requests.get(url)\n",
    "        \n",
    "        if response.status_code == 200:\n",
    "            movie_data = response.json()\n",
    "            \n",
    "            if movie_data.get(\"Response\", \"False\") == \"True\":\n",
    "                # Store relevant fields\n",
    "                movie_data_list.append({\n",
    "                    \"imdb_id\": movie_id,\n",
    "                    \"title\": movie_data.get(\"Title\", None),\n",
    "                    \"year\": movie_data.get(\"Year\", None),\n",
    "                    \"genre\": movie_data.get(\"Genre\", None),\n",
    "                    \"director\": movie_data.get(\"Director\", None),\n",
    "                    \"actors\": movie_data.get(\"Actors\", None),\n",
    "                    \"plot\": movie_data.get(\"Plot\", None),\n",
    "                    \"country\": movie_data.get(\"Country\", None),\n",
    "                    \"awards\": movie_data.get(\"Awards\", None),\n",
    "                    \"poster\": movie_data.get(\"Poster\", None),\n",
    "                    \"rating\": movie_data.get(\"imdbRating\", None),\n",
    "                    'metascore':movie_data.get(\"imdbRating\", None),\n",
    "                    \"votes\": movie_data.get(\"Metascore\", None),\n",
    "                    \"type\": movie_data.get(\"Type\", None)\n",
    "                })\n",
    "\n",
    "                # Save progress every 10 movies\n",
    "                if len(movie_data_list) % 100 == 0:\n",
    "                    with open(save_path, \"wb\") as f:\n",
    "                        pickle.dump(movie_data_list, f)\n",
    "                    print(f\"Progress saved after {len(movie_data_list)} movies.\")\n",
    "        else:\n",
    "            print(f\"Failed to fetch data for ID: {movie_id}, Status Code: {response.status_code}\")\n",
    "\n",
    "    # Final save after completion\n",
    "    with open(save_path, \"wb\") as f:\n",
    "        pickle.dump(movie_data_list, f)\n",
    "    print(\"Final dataset saved!\")\n",
    "\n",
    "    # Convert to DataFrame and return\n",
    "    movie_df = pd.DataFrame(movie_data_list)\n",
    "    return movie_df"
   ]
  },
  {
   "cell_type": "code",
   "execution_count": 13,
   "id": "18299b19-d219-4b5c-86da-7a5ad75c97c0",
   "metadata": {},
   "outputs": [],
   "source": [
    "movie_ids.remove('tt4745832')\n",
    "movie_ids.remove('tt4176748')"
   ]
  },
  {
   "cell_type": "code",
   "execution_count": 15,
   "id": "6021fa9a-1660-44bf-a4ed-8b2b1abb3699",
   "metadata": {},
   "outputs": [
    {
     "name": "stdout",
     "output_type": "stream",
     "text": [
      "Resuming from 36400 movies...\n"
     ]
    },
    {
     "name": "stderr",
     "output_type": "stream",
     "text": [
      "Fetching movie data:   0%|                             | 0/2614 [00:00<?, ?it/s]"
     ]
    },
    {
     "name": "stdout",
     "output_type": "stream",
     "text": [
      "Fetching data for movie ID tt13701810 from OMDb...\n"
     ]
    },
    {
     "name": "stderr",
     "output_type": "stream",
     "text": [
      "Fetching movie data:   0%|                     | 1/2614 [00:00<20:05,  2.17it/s]"
     ]
    },
    {
     "name": "stdout",
     "output_type": "stream",
     "text": [
      "Fetching data for movie ID tt5080012 from OMDb...\n"
     ]
    },
    {
     "name": "stderr",
     "output_type": "stream",
     "text": [
      "Fetching movie data:   0%|                     | 2/2614 [00:00<17:43,  2.46it/s]"
     ]
    },
    {
     "name": "stdout",
     "output_type": "stream",
     "text": [
      "Fetching data for movie ID tt7876510 from OMDb...\n"
     ]
    },
    {
     "name": "stderr",
     "output_type": "stream",
     "text": [
      "Fetching movie data:   0%|                     | 3/2614 [00:01<16:50,  2.58it/s]"
     ]
    },
    {
     "name": "stdout",
     "output_type": "stream",
     "text": [
      "Fetching data for movie ID tt8524904 from OMDb...\n"
     ]
    },
    {
     "name": "stderr",
     "output_type": "stream",
     "text": [
      "Fetching movie data:   0%|                     | 5/2614 [00:01<12:43,  3.42it/s]"
     ]
    },
    {
     "name": "stdout",
     "output_type": "stream",
     "text": [
      "Fetching data for movie ID tt3721936 from OMDb...\n",
      "Fetching data for movie ID tt5887636 from OMDb...\n"
     ]
    },
    {
     "name": "stderr",
     "output_type": "stream",
     "text": [
      "Fetching movie data:   0%|                     | 6/2614 [00:02<14:41,  2.96it/s]"
     ]
    },
    {
     "name": "stdout",
     "output_type": "stream",
     "text": [
      "Fetching data for movie ID tt7570242 from OMDb...\n"
     ]
    },
    {
     "name": "stderr",
     "output_type": "stream",
     "text": [
      "Fetching movie data:   0%|                     | 8/2614 [00:02<13:00,  3.34it/s]"
     ]
    },
    {
     "name": "stdout",
     "output_type": "stream",
     "text": [
      "Fetching data for movie ID tt4975722 from OMDb...\n",
      "Fetching data for movie ID tt25434788 from OMDb...\n"
     ]
    },
    {
     "name": "stderr",
     "output_type": "stream",
     "text": [
      "Fetching movie data:   0%|                     | 9/2614 [00:03<13:50,  3.14it/s]"
     ]
    },
    {
     "name": "stdout",
     "output_type": "stream",
     "text": [
      "Fetching data for movie ID tt19121588 from OMDb...\n"
     ]
    },
    {
     "name": "stderr",
     "output_type": "stream",
     "text": [
      "Fetching movie data:   0%|                    | 10/2614 [00:03<15:28,  2.81it/s]"
     ]
    },
    {
     "name": "stdout",
     "output_type": "stream",
     "text": [
      "Fetching data for movie ID tt5761862 from OMDb...\n"
     ]
    },
    {
     "name": "stderr",
     "output_type": "stream",
     "text": [
      "Fetching movie data:   0%|                    | 11/2614 [00:03<16:07,  2.69it/s]"
     ]
    },
    {
     "name": "stdout",
     "output_type": "stream",
     "text": [
      "Fetching data for movie ID tt3280234 from OMDb...\n"
     ]
    },
    {
     "name": "stderr",
     "output_type": "stream",
     "text": [
      "Fetching movie data:   0%|                    | 12/2614 [00:04<16:01,  2.71it/s]"
     ]
    },
    {
     "name": "stdout",
     "output_type": "stream",
     "text": [
      "Fetching data for movie ID tt15568968 from OMDb...\n"
     ]
    },
    {
     "name": "stderr",
     "output_type": "stream",
     "text": [
      "Fetching movie data:   0%|                    | 13/2614 [00:04<17:09,  2.53it/s]"
     ]
    },
    {
     "name": "stdout",
     "output_type": "stream",
     "text": [
      "Fetching data for movie ID tt31521570 from OMDb...\n"
     ]
    },
    {
     "name": "stderr",
     "output_type": "stream",
     "text": [
      "Fetching movie data:   1%|                    | 14/2614 [00:05<17:14,  2.51it/s]"
     ]
    },
    {
     "name": "stdout",
     "output_type": "stream",
     "text": [
      "Fetching data for movie ID tt9822474 from OMDb...\n"
     ]
    },
    {
     "name": "stderr",
     "output_type": "stream",
     "text": [
      "Fetching movie data:   1%|                    | 15/2614 [00:05<16:46,  2.58it/s]"
     ]
    },
    {
     "name": "stdout",
     "output_type": "stream",
     "text": [
      "Fetching data for movie ID tt30624155 from OMDb...\n"
     ]
    },
    {
     "name": "stderr",
     "output_type": "stream",
     "text": [
      "Fetching movie data:   1%|                    | 16/2614 [00:05<16:43,  2.59it/s]"
     ]
    },
    {
     "name": "stdout",
     "output_type": "stream",
     "text": [
      "Fetching data for movie ID tt9082786 from OMDb...\n"
     ]
    },
    {
     "name": "stderr",
     "output_type": "stream",
     "text": [
      "Fetching movie data:   1%|▏                   | 17/2614 [00:06<16:58,  2.55it/s]"
     ]
    },
    {
     "name": "stdout",
     "output_type": "stream",
     "text": [
      "Fetching data for movie ID tt6164254 from OMDb...\n"
     ]
    },
    {
     "name": "stderr",
     "output_type": "stream",
     "text": [
      "Fetching movie data:   1%|▏                   | 18/2614 [00:06<16:57,  2.55it/s]"
     ]
    },
    {
     "name": "stdout",
     "output_type": "stream",
     "text": [
      "Fetching data for movie ID tt3627050 from OMDb...\n"
     ]
    },
    {
     "name": "stderr",
     "output_type": "stream",
     "text": [
      "Fetching movie data:   1%|▏                   | 19/2614 [00:07<16:56,  2.55it/s]"
     ]
    },
    {
     "name": "stdout",
     "output_type": "stream",
     "text": [
      "Fetching data for movie ID tt30958791 from OMDb...\n"
     ]
    },
    {
     "name": "stderr",
     "output_type": "stream",
     "text": [
      "Fetching movie data:   1%|▏                   | 20/2614 [00:07<17:25,  2.48it/s]"
     ]
    },
    {
     "name": "stdout",
     "output_type": "stream",
     "text": [
      "Fetching data for movie ID tt19889330 from OMDb...\n"
     ]
    },
    {
     "name": "stderr",
     "output_type": "stream",
     "text": [
      "Fetching movie data:   1%|▏                   | 21/2614 [00:07<17:27,  2.48it/s]"
     ]
    },
    {
     "name": "stdout",
     "output_type": "stream",
     "text": [
      "Fetching data for movie ID tt2752980 from OMDb...\n"
     ]
    },
    {
     "name": "stderr",
     "output_type": "stream",
     "text": [
      "Fetching movie data:   1%|▏                   | 22/2614 [00:08<17:31,  2.47it/s]"
     ]
    },
    {
     "name": "stdout",
     "output_type": "stream",
     "text": [
      "Fetching data for movie ID tt2368908 from OMDb...\n"
     ]
    },
    {
     "name": "stderr",
     "output_type": "stream",
     "text": [
      "Fetching movie data:   1%|▏                   | 23/2614 [00:08<17:34,  2.46it/s]"
     ]
    },
    {
     "name": "stdout",
     "output_type": "stream",
     "text": [
      "Fetching data for movie ID tt7070022 from OMDb...\n"
     ]
    },
    {
     "name": "stderr",
     "output_type": "stream",
     "text": [
      "Fetching movie data:   1%|▏                   | 24/2614 [00:09<17:35,  2.45it/s]"
     ]
    },
    {
     "name": "stdout",
     "output_type": "stream",
     "text": [
      "Fetching data for movie ID tt3333240 from OMDb...\n"
     ]
    },
    {
     "name": "stderr",
     "output_type": "stream",
     "text": [
      "Fetching movie data:   1%|▏                   | 25/2614 [00:09<17:37,  2.45it/s]"
     ]
    },
    {
     "name": "stdout",
     "output_type": "stream",
     "text": [
      "Fetching data for movie ID tt3462482 from OMDb...\n"
     ]
    },
    {
     "name": "stderr",
     "output_type": "stream",
     "text": [
      "Fetching movie data:   1%|▏                   | 27/2614 [00:10<15:30,  2.78it/s]"
     ]
    },
    {
     "name": "stdout",
     "output_type": "stream",
     "text": [
      "Fetching data for movie ID tt7671392 from OMDb...\n",
      "Fetching data for movie ID tt27032419 from OMDb...\n"
     ]
    },
    {
     "name": "stderr",
     "output_type": "stream",
     "text": [
      "Fetching movie data:   1%|▏                   | 28/2614 [00:10<15:34,  2.77it/s]"
     ]
    },
    {
     "name": "stdout",
     "output_type": "stream",
     "text": [
      "Fetching data for movie ID tt6065284 from OMDb...\n"
     ]
    },
    {
     "name": "stderr",
     "output_type": "stream",
     "text": [
      "Fetching movie data:   1%|▏                   | 29/2614 [00:11<16:02,  2.68it/s]"
     ]
    },
    {
     "name": "stdout",
     "output_type": "stream",
     "text": [
      "Fetching data for movie ID tt21977920 from OMDb...\n"
     ]
    },
    {
     "name": "stderr",
     "output_type": "stream",
     "text": [
      "Fetching movie data:   1%|▏                   | 30/2614 [00:11<15:30,  2.78it/s]"
     ]
    },
    {
     "name": "stdout",
     "output_type": "stream",
     "text": [
      "Fetching data for movie ID tt6389500 from OMDb...\n"
     ]
    },
    {
     "name": "stderr",
     "output_type": "stream",
     "text": [
      "Fetching movie data:   1%|▏                   | 31/2614 [00:11<15:56,  2.70it/s]"
     ]
    },
    {
     "name": "stdout",
     "output_type": "stream",
     "text": [
      "Fetching data for movie ID tt31842614 from OMDb...\n"
     ]
    },
    {
     "name": "stderr",
     "output_type": "stream",
     "text": [
      "Fetching movie data:   1%|▏                   | 32/2614 [00:12<15:46,  2.73it/s]"
     ]
    },
    {
     "name": "stdout",
     "output_type": "stream",
     "text": [
      "Fetching data for movie ID tt14850886 from OMDb...\n"
     ]
    },
    {
     "name": "stderr",
     "output_type": "stream",
     "text": [
      "Fetching movie data:   1%|▎                   | 33/2614 [00:12<16:11,  2.66it/s]"
     ]
    },
    {
     "name": "stdout",
     "output_type": "stream",
     "text": [
      "Fetching data for movie ID tt5870288 from OMDb...\n"
     ]
    },
    {
     "name": "stderr",
     "output_type": "stream",
     "text": [
      "Fetching movie data:   1%|▎                   | 34/2614 [00:12<16:19,  2.63it/s]"
     ]
    },
    {
     "name": "stdout",
     "output_type": "stream",
     "text": [
      "Fetching data for movie ID tt24082644 from OMDb...\n"
     ]
    },
    {
     "name": "stderr",
     "output_type": "stream",
     "text": [
      "Fetching movie data:   1%|▎                   | 35/2614 [00:13<17:06,  2.51it/s]"
     ]
    },
    {
     "name": "stdout",
     "output_type": "stream",
     "text": [
      "Fetching data for movie ID tt6531500 from OMDb...\n"
     ]
    },
    {
     "name": "stderr",
     "output_type": "stream",
     "text": [
      "Fetching movie data:   1%|▎                   | 36/2614 [00:13<18:34,  2.31it/s]"
     ]
    },
    {
     "name": "stdout",
     "output_type": "stream",
     "text": [
      "Fetching data for movie ID tt16381608 from OMDb...\n"
     ]
    },
    {
     "name": "stderr",
     "output_type": "stream",
     "text": [
      "Fetching movie data:   1%|▎                   | 37/2614 [00:14<19:36,  2.19it/s]"
     ]
    },
    {
     "name": "stdout",
     "output_type": "stream",
     "text": [
      "Fetching data for movie ID tt7889414 from OMDb...\n"
     ]
    },
    {
     "name": "stderr",
     "output_type": "stream",
     "text": [
      "Fetching movie data:   1%|▎                   | 38/2614 [00:14<18:58,  2.26it/s]"
     ]
    },
    {
     "name": "stdout",
     "output_type": "stream",
     "text": [
      "Fetching data for movie ID tt21209308 from OMDb...\n"
     ]
    },
    {
     "name": "stderr",
     "output_type": "stream",
     "text": [
      "Fetching movie data:   1%|▎                   | 39/2614 [00:15<18:32,  2.31it/s]"
     ]
    },
    {
     "name": "stdout",
     "output_type": "stream",
     "text": [
      "Fetching data for movie ID tt11465650 from OMDb...\n"
     ]
    },
    {
     "name": "stderr",
     "output_type": "stream",
     "text": [
      "Fetching movie data:   2%|▎                   | 40/2614 [00:15<18:15,  2.35it/s]"
     ]
    },
    {
     "name": "stdout",
     "output_type": "stream",
     "text": [
      "Fetching data for movie ID tt7531040 from OMDb...\n"
     ]
    },
    {
     "name": "stderr",
     "output_type": "stream",
     "text": [
      "Fetching movie data:   2%|▎                   | 41/2614 [00:16<18:58,  2.26it/s]"
     ]
    },
    {
     "name": "stdout",
     "output_type": "stream",
     "text": [
      "Fetching data for movie ID tt5434562 from OMDb...\n"
     ]
    },
    {
     "name": "stderr",
     "output_type": "stream",
     "text": [
      "Fetching movie data:   2%|▎                   | 42/2614 [00:16<18:10,  2.36it/s]"
     ]
    },
    {
     "name": "stdout",
     "output_type": "stream",
     "text": [
      "Fetching data for movie ID tt32222964 from OMDb...\n"
     ]
    },
    {
     "name": "stderr",
     "output_type": "stream",
     "text": [
      "Fetching movie data:   2%|▎                   | 43/2614 [00:16<17:43,  2.42it/s]"
     ]
    },
    {
     "name": "stdout",
     "output_type": "stream",
     "text": [
      "Fetching data for movie ID tt13434000 from OMDb...\n"
     ]
    },
    {
     "name": "stderr",
     "output_type": "stream",
     "text": [
      "Fetching movie data:   2%|▎                   | 44/2614 [00:17<17:18,  2.48it/s]"
     ]
    },
    {
     "name": "stdout",
     "output_type": "stream",
     "text": [
      "Fetching data for movie ID tt6335682 from OMDb...\n"
     ]
    },
    {
     "name": "stderr",
     "output_type": "stream",
     "text": [
      "Fetching movie data:   2%|▎                   | 45/2614 [00:17<17:06,  2.50it/s]"
     ]
    },
    {
     "name": "stdout",
     "output_type": "stream",
     "text": [
      "Fetching data for movie ID tt6191876 from OMDb...\n"
     ]
    },
    {
     "name": "stderr",
     "output_type": "stream",
     "text": [
      "Fetching movie data:   2%|▎                   | 46/2614 [00:18<17:01,  2.51it/s]"
     ]
    },
    {
     "name": "stdout",
     "output_type": "stream",
     "text": [
      "Fetching data for movie ID tt33334889 from OMDb...\n"
     ]
    },
    {
     "name": "stderr",
     "output_type": "stream",
     "text": [
      "Fetching movie data:   2%|▎                   | 47/2614 [00:18<17:09,  2.49it/s]"
     ]
    },
    {
     "name": "stdout",
     "output_type": "stream",
     "text": [
      "Fetching data for movie ID tt6700846 from OMDb...\n"
     ]
    },
    {
     "name": "stderr",
     "output_type": "stream",
     "text": [
      "Fetching movie data:   2%|▎                   | 48/2614 [00:18<17:11,  2.49it/s]"
     ]
    },
    {
     "name": "stdout",
     "output_type": "stream",
     "text": [
      "Fetching data for movie ID tt5864562 from OMDb...\n"
     ]
    },
    {
     "name": "stderr",
     "output_type": "stream",
     "text": [
      "Fetching movie data:   2%|▎                   | 49/2614 [00:19<16:44,  2.55it/s]"
     ]
    },
    {
     "name": "stdout",
     "output_type": "stream",
     "text": [
      "Fetching data for movie ID tt9603212 from OMDb...\n"
     ]
    },
    {
     "name": "stderr",
     "output_type": "stream",
     "text": [
      "Fetching movie data:   2%|▍                   | 50/2614 [00:19<16:59,  2.51it/s]"
     ]
    },
    {
     "name": "stdout",
     "output_type": "stream",
     "text": [
      "Fetching data for movie ID tt4230204 from OMDb...\n"
     ]
    },
    {
     "name": "stderr",
     "output_type": "stream",
     "text": [
      "Fetching movie data:   2%|▍                   | 51/2614 [00:19<16:24,  2.60it/s]"
     ]
    },
    {
     "name": "stdout",
     "output_type": "stream",
     "text": [
      "Fetching data for movie ID tt4651472 from OMDb...\n"
     ]
    },
    {
     "name": "stderr",
     "output_type": "stream",
     "text": [
      "Fetching movie data:   2%|▍                   | 52/2614 [00:20<16:11,  2.64it/s]"
     ]
    },
    {
     "name": "stdout",
     "output_type": "stream",
     "text": [
      "Fetching data for movie ID tt5103870 from OMDb...\n"
     ]
    },
    {
     "name": "stderr",
     "output_type": "stream",
     "text": [
      "Fetching movie data:   2%|▍                   | 53/2614 [00:20<16:14,  2.63it/s]"
     ]
    },
    {
     "name": "stdout",
     "output_type": "stream",
     "text": [
      "Fetching data for movie ID tt33999669 from OMDb...\n"
     ]
    },
    {
     "name": "stderr",
     "output_type": "stream",
     "text": [
      "Fetching movie data:   2%|▍                   | 54/2614 [00:21<20:46,  2.05it/s]"
     ]
    },
    {
     "name": "stdout",
     "output_type": "stream",
     "text": [
      "Fetching data for movie ID tt4942088 from OMDb...\n"
     ]
    },
    {
     "name": "stderr",
     "output_type": "stream",
     "text": [
      "Fetching movie data:   2%|▍                   | 56/2614 [00:22<15:51,  2.69it/s]"
     ]
    },
    {
     "name": "stdout",
     "output_type": "stream",
     "text": [
      "Fetching data for movie ID tt35266812 from OMDb...\n",
      "Fetching data for movie ID tt10916104 from OMDb...\n"
     ]
    },
    {
     "name": "stderr",
     "output_type": "stream",
     "text": [
      "Fetching movie data:   2%|▍                   | 57/2614 [00:22<15:29,  2.75it/s]"
     ]
    },
    {
     "name": "stdout",
     "output_type": "stream",
     "text": [
      "Fetching data for movie ID tt12984936 from OMDb...\n"
     ]
    },
    {
     "name": "stderr",
     "output_type": "stream",
     "text": [
      "Fetching movie data:   2%|▍                   | 58/2614 [00:22<15:24,  2.76it/s]"
     ]
    },
    {
     "name": "stdout",
     "output_type": "stream",
     "text": [
      "Fetching data for movie ID tt8484252 from OMDb...\n"
     ]
    },
    {
     "name": "stderr",
     "output_type": "stream",
     "text": [
      "Fetching movie data:   2%|▍                   | 59/2614 [00:23<15:15,  2.79it/s]"
     ]
    },
    {
     "name": "stdout",
     "output_type": "stream",
     "text": [
      "Fetching data for movie ID tt5312560 from OMDb...\n"
     ]
    },
    {
     "name": "stderr",
     "output_type": "stream",
     "text": [
      "Fetching movie data:   2%|▍                   | 60/2614 [00:23<15:32,  2.74it/s]"
     ]
    },
    {
     "name": "stdout",
     "output_type": "stream",
     "text": [
      "Fetching data for movie ID tt32599613 from OMDb...\n"
     ]
    },
    {
     "name": "stderr",
     "output_type": "stream",
     "text": [
      "Fetching movie data:   2%|▍                   | 61/2614 [00:23<15:14,  2.79it/s]"
     ]
    },
    {
     "name": "stdout",
     "output_type": "stream",
     "text": [
      "Fetching data for movie ID tt2883512 from OMDb...\n"
     ]
    },
    {
     "name": "stderr",
     "output_type": "stream",
     "text": [
      "Fetching movie data:   2%|▍                   | 63/2614 [00:24<11:28,  3.70it/s]"
     ]
    },
    {
     "name": "stdout",
     "output_type": "stream",
     "text": [
      "Fetching data for movie ID tt4830786 from OMDb...\n",
      "Fetching data for movie ID tt4151198 from OMDb...\n"
     ]
    },
    {
     "name": "stderr",
     "output_type": "stream",
     "text": [
      "Fetching movie data:   2%|▍                   | 64/2614 [00:24<14:49,  2.87it/s]"
     ]
    },
    {
     "name": "stdout",
     "output_type": "stream",
     "text": [
      "Fetching data for movie ID tt7688258 from OMDb...\n"
     ]
    },
    {
     "name": "stderr",
     "output_type": "stream",
     "text": [
      "Fetching movie data:   2%|▍                   | 65/2614 [00:25<15:33,  2.73it/s]"
     ]
    },
    {
     "name": "stdout",
     "output_type": "stream",
     "text": [
      "Fetching data for movie ID tt2865822 from OMDb...\n"
     ]
    },
    {
     "name": "stderr",
     "output_type": "stream",
     "text": [
      "Fetching movie data:   3%|▌                   | 66/2614 [00:25<15:21,  2.77it/s]"
     ]
    },
    {
     "name": "stdout",
     "output_type": "stream",
     "text": [
      "Fetching data for movie ID tt3621336 from OMDb...\n"
     ]
    },
    {
     "name": "stderr",
     "output_type": "stream",
     "text": [
      "Fetching movie data:   3%|▌                   | 67/2614 [00:25<17:00,  2.50it/s]"
     ]
    },
    {
     "name": "stdout",
     "output_type": "stream",
     "text": [
      "Fetching data for movie ID tt5343072 from OMDb...\n"
     ]
    },
    {
     "name": "stderr",
     "output_type": "stream",
     "text": [
      "Fetching movie data:   3%|▌                   | 68/2614 [00:26<17:05,  2.48it/s]"
     ]
    },
    {
     "name": "stdout",
     "output_type": "stream",
     "text": [
      "Fetching data for movie ID tt29900129 from OMDb...\n"
     ]
    },
    {
     "name": "stderr",
     "output_type": "stream",
     "text": [
      "Fetching movie data:   3%|▌                   | 69/2614 [00:26<17:07,  2.48it/s]"
     ]
    },
    {
     "name": "stdout",
     "output_type": "stream",
     "text": [
      "Fetching data for movie ID tt4514674 from OMDb...\n"
     ]
    },
    {
     "name": "stderr",
     "output_type": "stream",
     "text": [
      "Fetching movie data:   3%|▌                   | 70/2614 [00:27<18:31,  2.29it/s]"
     ]
    },
    {
     "name": "stdout",
     "output_type": "stream",
     "text": [
      "Fetching data for movie ID tt6562910 from OMDb...\n"
     ]
    },
    {
     "name": "stderr",
     "output_type": "stream",
     "text": [
      "Fetching movie data:   3%|▌                   | 71/2614 [00:27<19:28,  2.18it/s]"
     ]
    },
    {
     "name": "stdout",
     "output_type": "stream",
     "text": [
      "Fetching data for movie ID tt30468799 from OMDb...\n"
     ]
    },
    {
     "name": "stderr",
     "output_type": "stream",
     "text": [
      "Fetching movie data:   3%|▌                   | 72/2614 [00:28<18:04,  2.34it/s]"
     ]
    },
    {
     "name": "stdout",
     "output_type": "stream",
     "text": [
      "Fetching data for movie ID tt5490848 from OMDb...\n"
     ]
    },
    {
     "name": "stderr",
     "output_type": "stream",
     "text": [
      "Fetching movie data:   3%|▌                   | 73/2614 [00:28<18:37,  2.27it/s]"
     ]
    },
    {
     "name": "stdout",
     "output_type": "stream",
     "text": [
      "Fetching data for movie ID tt18251794 from OMDb...\n"
     ]
    },
    {
     "name": "stderr",
     "output_type": "stream",
     "text": [
      "Fetching movie data:   3%|▌                   | 74/2614 [00:29<18:04,  2.34it/s]"
     ]
    },
    {
     "name": "stdout",
     "output_type": "stream",
     "text": [
      "Fetching data for movie ID tt3828488 from OMDb...\n"
     ]
    },
    {
     "name": "stderr",
     "output_type": "stream",
     "text": [
      "Fetching movie data:   3%|▌                   | 75/2614 [00:29<17:24,  2.43it/s]"
     ]
    },
    {
     "name": "stdout",
     "output_type": "stream",
     "text": [
      "Fetching data for movie ID tt34279347 from OMDb...\n"
     ]
    },
    {
     "name": "stderr",
     "output_type": "stream",
     "text": [
      "Fetching movie data:   3%|▌                   | 76/2614 [00:29<16:33,  2.56it/s]"
     ]
    },
    {
     "name": "stdout",
     "output_type": "stream",
     "text": [
      "Fetching data for movie ID tt20452698 from OMDb...\n"
     ]
    },
    {
     "name": "stderr",
     "output_type": "stream",
     "text": [
      "Fetching movie data:   3%|▌                   | 77/2614 [00:30<19:28,  2.17it/s]"
     ]
    },
    {
     "name": "stdout",
     "output_type": "stream",
     "text": [
      "Fetching data for movie ID tt5278464 from OMDb...\n"
     ]
    },
    {
     "name": "stderr",
     "output_type": "stream",
     "text": [
      "Fetching movie data:   3%|▌                   | 78/2614 [00:30<18:13,  2.32it/s]"
     ]
    },
    {
     "name": "stdout",
     "output_type": "stream",
     "text": [
      "Fetching data for movie ID tt7910086 from OMDb...\n"
     ]
    },
    {
     "name": "stderr",
     "output_type": "stream",
     "text": [
      "Fetching movie data:   3%|▌                   | 79/2614 [00:31<17:13,  2.45it/s]"
     ]
    },
    {
     "name": "stdout",
     "output_type": "stream",
     "text": [
      "Fetching data for movie ID tt26744813 from OMDb...\n"
     ]
    },
    {
     "name": "stderr",
     "output_type": "stream",
     "text": [
      "Fetching movie data:   3%|▌                   | 80/2614 [00:31<16:41,  2.53it/s]"
     ]
    },
    {
     "name": "stdout",
     "output_type": "stream",
     "text": [
      "Fetching data for movie ID tt11789866 from OMDb...\n"
     ]
    },
    {
     "name": "stderr",
     "output_type": "stream",
     "text": [
      "Fetching movie data:   3%|▌                   | 81/2614 [00:31<16:59,  2.48it/s]"
     ]
    },
    {
     "name": "stdout",
     "output_type": "stream",
     "text": [
      "Fetching data for movie ID tt27530547 from OMDb...\n"
     ]
    },
    {
     "name": "stderr",
     "output_type": "stream",
     "text": [
      "Fetching movie data:   3%|▋                   | 82/2614 [00:32<17:30,  2.41it/s]"
     ]
    },
    {
     "name": "stdout",
     "output_type": "stream",
     "text": [
      "Fetching data for movie ID tt5275844 from OMDb...\n"
     ]
    },
    {
     "name": "stderr",
     "output_type": "stream",
     "text": [
      "Fetching movie data:   3%|▋                   | 83/2614 [00:32<19:35,  2.15it/s]"
     ]
    },
    {
     "name": "stdout",
     "output_type": "stream",
     "text": [
      "Fetching data for movie ID tt6577538 from OMDb...\n"
     ]
    },
    {
     "name": "stderr",
     "output_type": "stream",
     "text": [
      "Fetching movie data:   3%|▋                   | 84/2614 [00:33<19:19,  2.18it/s]"
     ]
    },
    {
     "name": "stdout",
     "output_type": "stream",
     "text": [
      "Fetching data for movie ID tt3157690 from OMDb...\n"
     ]
    },
    {
     "name": "stderr",
     "output_type": "stream",
     "text": [
      "Fetching movie data:   3%|▋                   | 85/2614 [00:34<26:31,  1.59it/s]"
     ]
    },
    {
     "name": "stdout",
     "output_type": "stream",
     "text": [
      "Fetching data for movie ID tt11941042 from OMDb...\n"
     ]
    },
    {
     "name": "stderr",
     "output_type": "stream",
     "text": [
      "Fetching movie data:   3%|▋                   | 86/2614 [00:34<25:00,  1.68it/s]"
     ]
    },
    {
     "name": "stdout",
     "output_type": "stream",
     "text": [
      "Fetching data for movie ID tt13105806 from OMDb...\n"
     ]
    },
    {
     "name": "stderr",
     "output_type": "stream",
     "text": [
      "Fetching movie data:   3%|▋                   | 87/2614 [00:35<23:59,  1.76it/s]"
     ]
    },
    {
     "name": "stdout",
     "output_type": "stream",
     "text": [
      "Fetching data for movie ID tt21115330 from OMDb...\n"
     ]
    },
    {
     "name": "stderr",
     "output_type": "stream",
     "text": [
      "Fetching movie data:   3%|▋                   | 88/2614 [00:35<24:29,  1.72it/s]"
     ]
    },
    {
     "name": "stdout",
     "output_type": "stream",
     "text": [
      "Fetching data for movie ID tt3627458 from OMDb...\n"
     ]
    },
    {
     "name": "stderr",
     "output_type": "stream",
     "text": [
      "Fetching movie data:   3%|▋                   | 89/2614 [00:36<22:18,  1.89it/s]"
     ]
    },
    {
     "name": "stdout",
     "output_type": "stream",
     "text": [
      "Fetching data for movie ID tt14726550 from OMDb...\n"
     ]
    },
    {
     "name": "stderr",
     "output_type": "stream",
     "text": [
      "Fetching movie data:   3%|▋                   | 90/2614 [00:36<19:57,  2.11it/s]"
     ]
    },
    {
     "name": "stdout",
     "output_type": "stream",
     "text": [
      "Fetching data for movie ID tt3904942 from OMDb...\n"
     ]
    },
    {
     "name": "stderr",
     "output_type": "stream",
     "text": [
      "Fetching movie data:   3%|▋                   | 91/2614 [00:37<18:27,  2.28it/s]"
     ]
    },
    {
     "name": "stdout",
     "output_type": "stream",
     "text": [
      "Fetching data for movie ID tt18259440 from OMDb...\n"
     ]
    },
    {
     "name": "stderr",
     "output_type": "stream",
     "text": [
      "Fetching movie data:   4%|▋                   | 92/2614 [00:37<21:15,  1.98it/s]"
     ]
    },
    {
     "name": "stdout",
     "output_type": "stream",
     "text": [
      "Fetching data for movie ID tt29001902 from OMDb...\n"
     ]
    },
    {
     "name": "stderr",
     "output_type": "stream",
     "text": [
      "Fetching movie data:   4%|▋                   | 93/2614 [00:38<20:56,  2.01it/s]"
     ]
    },
    {
     "name": "stdout",
     "output_type": "stream",
     "text": [
      "Fetching data for movie ID tt4658786 from OMDb...\n"
     ]
    },
    {
     "name": "stderr",
     "output_type": "stream",
     "text": [
      "Fetching movie data:   4%|▋                   | 94/2614 [00:38<19:26,  2.16it/s]"
     ]
    },
    {
     "name": "stdout",
     "output_type": "stream",
     "text": [
      "Fetching data for movie ID tt12274690 from OMDb...\n"
     ]
    },
    {
     "name": "stderr",
     "output_type": "stream",
     "text": [
      "Fetching movie data:   4%|▋                   | 95/2614 [00:38<18:02,  2.33it/s]"
     ]
    },
    {
     "name": "stdout",
     "output_type": "stream",
     "text": [
      "Fetching data for movie ID tt11418290 from OMDb...\n"
     ]
    },
    {
     "name": "stderr",
     "output_type": "stream",
     "text": [
      "Fetching movie data:   4%|▋                   | 96/2614 [00:39<17:35,  2.38it/s]"
     ]
    },
    {
     "name": "stdout",
     "output_type": "stream",
     "text": [
      "Fetching data for movie ID tt10320050 from OMDb...\n"
     ]
    },
    {
     "name": "stderr",
     "output_type": "stream",
     "text": [
      "Fetching movie data:   4%|▋                   | 97/2614 [00:39<17:30,  2.40it/s]"
     ]
    },
    {
     "name": "stdout",
     "output_type": "stream",
     "text": [
      "Fetching data for movie ID tt15249292 from OMDb...\n"
     ]
    },
    {
     "name": "stderr",
     "output_type": "stream",
     "text": [
      "Fetching movie data:   4%|▋                   | 98/2614 [00:40<16:39,  2.52it/s]"
     ]
    },
    {
     "name": "stdout",
     "output_type": "stream",
     "text": [
      "Fetching data for movie ID tt27589496 from OMDb...\n"
     ]
    },
    {
     "name": "stderr",
     "output_type": "stream",
     "text": [
      "Fetching movie data:   4%|▊                   | 99/2614 [00:40<17:30,  2.39it/s]"
     ]
    },
    {
     "name": "stdout",
     "output_type": "stream",
     "text": [
      "Fetching data for movie ID tt4571138 from OMDb...\n"
     ]
    },
    {
     "name": "stderr",
     "output_type": "stream",
     "text": [
      "Fetching movie data:   4%|▋                  | 100/2614 [00:41<18:29,  2.27it/s]"
     ]
    },
    {
     "name": "stdout",
     "output_type": "stream",
     "text": [
      "Progress saved after 36500 movies.\n",
      "Fetching data for movie ID tt2211666 from OMDb...\n"
     ]
    },
    {
     "name": "stderr",
     "output_type": "stream",
     "text": [
      "Fetching movie data:   4%|▋                  | 101/2614 [00:41<17:47,  2.35it/s]"
     ]
    },
    {
     "name": "stdout",
     "output_type": "stream",
     "text": [
      "Fetching data for movie ID tt9765902 from OMDb...\n"
     ]
    },
    {
     "name": "stderr",
     "output_type": "stream",
     "text": [
      "Fetching movie data:   4%|▋                  | 102/2614 [00:41<17:11,  2.44it/s]"
     ]
    },
    {
     "name": "stdout",
     "output_type": "stream",
     "text": [
      "Fetching data for movie ID tt27867935 from OMDb...\n"
     ]
    },
    {
     "name": "stderr",
     "output_type": "stream",
     "text": [
      "Fetching movie data:   4%|▋                  | 103/2614 [00:42<16:43,  2.50it/s]"
     ]
    },
    {
     "name": "stdout",
     "output_type": "stream",
     "text": [
      "Fetching data for movie ID tt4137902 from OMDb...\n"
     ]
    },
    {
     "name": "stderr",
     "output_type": "stream",
     "text": [
      "Fetching movie data:   4%|▊                  | 104/2614 [00:42<16:08,  2.59it/s]"
     ]
    },
    {
     "name": "stdout",
     "output_type": "stream",
     "text": [
      "Fetching data for movie ID tt31975872 from OMDb...\n"
     ]
    },
    {
     "name": "stderr",
     "output_type": "stream",
     "text": [
      "Fetching movie data:   4%|▊                  | 105/2614 [00:42<15:33,  2.69it/s]"
     ]
    },
    {
     "name": "stdout",
     "output_type": "stream",
     "text": [
      "Fetching data for movie ID tt33083563 from OMDb...\n"
     ]
    },
    {
     "name": "stderr",
     "output_type": "stream",
     "text": [
      "Fetching movie data:   4%|▊                  | 106/2614 [00:43<15:14,  2.74it/s]"
     ]
    },
    {
     "name": "stdout",
     "output_type": "stream",
     "text": [
      "Fetching data for movie ID tt13110154 from OMDb...\n"
     ]
    },
    {
     "name": "stderr",
     "output_type": "stream",
     "text": [
      "Fetching movie data:   4%|▊                  | 107/2614 [00:43<15:57,  2.62it/s]"
     ]
    },
    {
     "name": "stdout",
     "output_type": "stream",
     "text": [
      "Fetching data for movie ID tt4573464 from OMDb...\n"
     ]
    },
    {
     "name": "stderr",
     "output_type": "stream",
     "text": [
      "Fetching movie data:   4%|▊                  | 108/2614 [00:44<15:38,  2.67it/s]"
     ]
    },
    {
     "name": "stdout",
     "output_type": "stream",
     "text": [
      "Fetching data for movie ID tt34773331 from OMDb...\n"
     ]
    },
    {
     "name": "stderr",
     "output_type": "stream",
     "text": [
      "Fetching movie data:   4%|▊                  | 109/2614 [00:44<15:37,  2.67it/s]"
     ]
    },
    {
     "name": "stdout",
     "output_type": "stream",
     "text": [
      "Fetching data for movie ID tt3773072 from OMDb...\n"
     ]
    },
    {
     "name": "stderr",
     "output_type": "stream",
     "text": [
      "Fetching movie data:   4%|▊                  | 110/2614 [00:44<15:31,  2.69it/s]"
     ]
    },
    {
     "name": "stdout",
     "output_type": "stream",
     "text": [
      "Fetching data for movie ID tt10515994 from OMDb...\n"
     ]
    },
    {
     "name": "stderr",
     "output_type": "stream",
     "text": [
      "Fetching movie data:   4%|▊                  | 111/2614 [00:45<15:44,  2.65it/s]"
     ]
    },
    {
     "name": "stdout",
     "output_type": "stream",
     "text": [
      "Fetching data for movie ID tt7901246 from OMDb...\n"
     ]
    },
    {
     "name": "stderr",
     "output_type": "stream",
     "text": [
      "Fetching movie data:   4%|▊                  | 113/2614 [00:45<12:51,  3.24it/s]"
     ]
    },
    {
     "name": "stdout",
     "output_type": "stream",
     "text": [
      "Fetching data for movie ID tt35341941 from OMDb...\n",
      "Fetching data for movie ID tt34461774 from OMDb...\n",
      "Fetching data for movie ID tt11225756 from OMDb...\n"
     ]
    },
    {
     "name": "stderr",
     "output_type": "stream",
     "text": [
      "Fetching movie data:   4%|▊                  | 115/2614 [00:46<11:56,  3.49it/s]"
     ]
    },
    {
     "name": "stdout",
     "output_type": "stream",
     "text": [
      "Fetching data for movie ID tt29120447 from OMDb...\n"
     ]
    },
    {
     "name": "stderr",
     "output_type": "stream",
     "text": [
      "Fetching movie data:   4%|▊                  | 116/2614 [00:46<14:15,  2.92it/s]"
     ]
    },
    {
     "name": "stdout",
     "output_type": "stream",
     "text": [
      "Fetching data for movie ID tt6182126 from OMDb...\n"
     ]
    },
    {
     "name": "stderr",
     "output_type": "stream",
     "text": [
      "Fetching movie data:   4%|▊                  | 117/2614 [00:47<14:44,  2.82it/s]"
     ]
    },
    {
     "name": "stdout",
     "output_type": "stream",
     "text": [
      "Fetching data for movie ID tt2342700 from OMDb...\n"
     ]
    },
    {
     "name": "stderr",
     "output_type": "stream",
     "text": [
      "Fetching movie data:   5%|▊                  | 118/2614 [00:47<14:59,  2.77it/s]"
     ]
    },
    {
     "name": "stdout",
     "output_type": "stream",
     "text": [
      "Fetching data for movie ID tt3566788 from OMDb...\n"
     ]
    },
    {
     "name": "stderr",
     "output_type": "stream",
     "text": [
      "Fetching movie data:   5%|▊                  | 119/2614 [00:47<16:09,  2.57it/s]"
     ]
    },
    {
     "name": "stdout",
     "output_type": "stream",
     "text": [
      "Fetching data for movie ID tt19820538 from OMDb...\n"
     ]
    },
    {
     "name": "stderr",
     "output_type": "stream",
     "text": [
      "Fetching movie data:   5%|▉                  | 122/2614 [00:48<10:43,  3.87it/s]"
     ]
    },
    {
     "name": "stdout",
     "output_type": "stream",
     "text": [
      "Fetching data for movie ID tt10799740 from OMDb...\n",
      "Fetching data for movie ID tt13872628 from OMDb...\n",
      "Fetching data for movie ID tt14030142 from OMDb...\n"
     ]
    },
    {
     "name": "stderr",
     "output_type": "stream",
     "text": [
      "Fetching movie data:   5%|▉                  | 123/2614 [00:48<12:27,  3.33it/s]"
     ]
    },
    {
     "name": "stdout",
     "output_type": "stream",
     "text": [
      "Fetching data for movie ID tt3871940 from OMDb...\n"
     ]
    },
    {
     "name": "stderr",
     "output_type": "stream",
     "text": [
      "Fetching movie data:   5%|▉                  | 124/2614 [00:49<13:39,  3.04it/s]"
     ]
    },
    {
     "name": "stdout",
     "output_type": "stream",
     "text": [
      "Fetching data for movie ID tt11202048 from OMDb...\n"
     ]
    },
    {
     "name": "stderr",
     "output_type": "stream",
     "text": [
      "Fetching movie data:   5%|▉                  | 126/2614 [00:49<11:44,  3.53it/s]"
     ]
    },
    {
     "name": "stdout",
     "output_type": "stream",
     "text": [
      "Fetching data for movie ID tt35254606 from OMDb...\n",
      "Fetching data for movie ID tt6374458 from OMDb...\n"
     ]
    },
    {
     "name": "stderr",
     "output_type": "stream",
     "text": [
      "Fetching movie data:   5%|▉                  | 127/2614 [00:50<13:19,  3.11it/s]"
     ]
    },
    {
     "name": "stdout",
     "output_type": "stream",
     "text": [
      "Fetching data for movie ID tt16763048 from OMDb...\n"
     ]
    },
    {
     "name": "stderr",
     "output_type": "stream",
     "text": [
      "Fetching movie data:   5%|▉                  | 128/2614 [00:50<14:21,  2.89it/s]"
     ]
    },
    {
     "name": "stdout",
     "output_type": "stream",
     "text": [
      "Fetching data for movie ID tt26929916 from OMDb...\n"
     ]
    },
    {
     "name": "stderr",
     "output_type": "stream",
     "text": [
      "Fetching movie data:   5%|▉                  | 129/2614 [00:51<15:08,  2.74it/s]"
     ]
    },
    {
     "name": "stdout",
     "output_type": "stream",
     "text": [
      "Fetching data for movie ID tt6093868 from OMDb...\n"
     ]
    },
    {
     "name": "stderr",
     "output_type": "stream",
     "text": [
      "Fetching movie data:   5%|▉                  | 130/2614 [00:51<20:21,  2.03it/s]"
     ]
    },
    {
     "name": "stdout",
     "output_type": "stream",
     "text": [
      "Fetching data for movie ID tt7608274 from OMDb...\n"
     ]
    },
    {
     "name": "stderr",
     "output_type": "stream",
     "text": [
      "Fetching movie data:   5%|▉                  | 131/2614 [00:52<20:38,  2.00it/s]"
     ]
    },
    {
     "name": "stdout",
     "output_type": "stream",
     "text": [
      "Fetching data for movie ID tt35498451 from OMDb...\n"
     ]
    },
    {
     "name": "stderr",
     "output_type": "stream",
     "text": [
      "Fetching movie data:   5%|▉                  | 132/2614 [00:52<20:59,  1.97it/s]"
     ]
    },
    {
     "name": "stdout",
     "output_type": "stream",
     "text": [
      "Fetching data for movie ID tt9219740 from OMDb...\n"
     ]
    },
    {
     "name": "stderr",
     "output_type": "stream",
     "text": [
      "Fetching movie data:   5%|▉                  | 133/2614 [00:53<21:11,  1.95it/s]"
     ]
    },
    {
     "name": "stdout",
     "output_type": "stream",
     "text": [
      "Fetching data for movie ID tt7535756 from OMDb...\n"
     ]
    },
    {
     "name": "stderr",
     "output_type": "stream",
     "text": [
      "Fetching movie data:   5%|▉                  | 134/2614 [00:54<21:19,  1.94it/s]"
     ]
    },
    {
     "name": "stdout",
     "output_type": "stream",
     "text": [
      "Fetching data for movie ID tt15125820 from OMDb...\n"
     ]
    },
    {
     "name": "stderr",
     "output_type": "stream",
     "text": [
      "Fetching movie data:   5%|▉                  | 135/2614 [00:54<21:23,  1.93it/s]"
     ]
    },
    {
     "name": "stdout",
     "output_type": "stream",
     "text": [
      "Fetching data for movie ID tt19732254 from OMDb...\n"
     ]
    },
    {
     "name": "stderr",
     "output_type": "stream",
     "text": [
      "Fetching movie data:   5%|▉                  | 136/2614 [00:55<21:28,  1.92it/s]"
     ]
    },
    {
     "name": "stdout",
     "output_type": "stream",
     "text": [
      "Fetching data for movie ID tt11082984 from OMDb...\n"
     ]
    },
    {
     "name": "stderr",
     "output_type": "stream",
     "text": [
      "Fetching movie data:   5%|▉                  | 137/2614 [00:55<21:33,  1.92it/s]"
     ]
    },
    {
     "name": "stdout",
     "output_type": "stream",
     "text": [
      "Fetching data for movie ID tt6159624 from OMDb...\n"
     ]
    },
    {
     "name": "stderr",
     "output_type": "stream",
     "text": [
      "Fetching movie data:   5%|█                  | 138/2614 [00:56<21:34,  1.91it/s]"
     ]
    },
    {
     "name": "stdout",
     "output_type": "stream",
     "text": [
      "Fetching data for movie ID tt28516588 from OMDb...\n"
     ]
    },
    {
     "name": "stderr",
     "output_type": "stream",
     "text": [
      "Fetching movie data:   5%|█                  | 139/2614 [00:56<19:43,  2.09it/s]"
     ]
    },
    {
     "name": "stdout",
     "output_type": "stream",
     "text": [
      "Fetching data for movie ID tt11710954 from OMDb...\n"
     ]
    },
    {
     "name": "stderr",
     "output_type": "stream",
     "text": [
      "Fetching movie data:   5%|█                  | 140/2614 [00:56<19:43,  2.09it/s]"
     ]
    },
    {
     "name": "stdout",
     "output_type": "stream",
     "text": [
      "Fetching data for movie ID tt6325386 from OMDb...\n"
     ]
    },
    {
     "name": "stderr",
     "output_type": "stream",
     "text": [
      "Fetching movie data:   5%|█                  | 141/2614 [00:57<18:41,  2.20it/s]"
     ]
    },
    {
     "name": "stdout",
     "output_type": "stream",
     "text": [
      "Fetching data for movie ID tt10153510 from OMDb...\n"
     ]
    },
    {
     "name": "stderr",
     "output_type": "stream",
     "text": [
      "Fetching movie data:   5%|█                  | 142/2614 [00:57<19:05,  2.16it/s]"
     ]
    },
    {
     "name": "stdout",
     "output_type": "stream",
     "text": [
      "Fetching data for movie ID tt26448497 from OMDb...\n"
     ]
    },
    {
     "name": "stderr",
     "output_type": "stream",
     "text": [
      "Fetching movie data:   5%|█                  | 143/2614 [00:58<18:38,  2.21it/s]"
     ]
    },
    {
     "name": "stdout",
     "output_type": "stream",
     "text": [
      "Fetching data for movie ID tt30286333 from OMDb...\n",
      "Fetching data for movie ID tt14565242 from OMDb...\n"
     ]
    },
    {
     "name": "stderr",
     "output_type": "stream",
     "text": [
      "Fetching movie data:   6%|█                  | 145/2614 [00:58<14:22,  2.86it/s]"
     ]
    },
    {
     "name": "stdout",
     "output_type": "stream",
     "text": [
      "Fetching data for movie ID tt3252178 from OMDb...\n"
     ]
    },
    {
     "name": "stderr",
     "output_type": "stream",
     "text": [
      "Fetching movie data:   6%|█                  | 147/2614 [00:59<12:26,  3.31it/s]"
     ]
    },
    {
     "name": "stdout",
     "output_type": "stream",
     "text": [
      "Fetching data for movie ID tt27908622 from OMDb...\n",
      "Fetching data for movie ID tt8004966 from OMDb...\n"
     ]
    },
    {
     "name": "stderr",
     "output_type": "stream",
     "text": [
      "Fetching movie data:   6%|█                  | 148/2614 [00:59<13:36,  3.02it/s]"
     ]
    },
    {
     "name": "stdout",
     "output_type": "stream",
     "text": [
      "Fetching data for movie ID tt11795580 from OMDb...\n"
     ]
    },
    {
     "name": "stderr",
     "output_type": "stream",
     "text": [
      "Fetching movie data:   6%|█                  | 149/2614 [01:00<15:15,  2.69it/s]"
     ]
    },
    {
     "name": "stdout",
     "output_type": "stream",
     "text": [
      "Fetching data for movie ID tt13391556 from OMDb...\n"
     ]
    },
    {
     "name": "stderr",
     "output_type": "stream",
     "text": [
      "Fetching movie data:   6%|█                  | 150/2614 [01:00<16:53,  2.43it/s]"
     ]
    },
    {
     "name": "stdout",
     "output_type": "stream",
     "text": [
      "Fetching data for movie ID tt10516484 from OMDb...\n"
     ]
    },
    {
     "name": "stderr",
     "output_type": "stream",
     "text": [
      "Fetching movie data:   6%|█                  | 151/2614 [01:01<16:51,  2.43it/s]"
     ]
    },
    {
     "name": "stdout",
     "output_type": "stream",
     "text": [
      "Fetching data for movie ID tt5271442 from OMDb...\n"
     ]
    },
    {
     "name": "stderr",
     "output_type": "stream",
     "text": [
      "Fetching movie data:   6%|█                  | 152/2614 [01:01<17:13,  2.38it/s]"
     ]
    },
    {
     "name": "stdout",
     "output_type": "stream",
     "text": [
      "Fetching data for movie ID tt28662969 from OMDb...\n"
     ]
    },
    {
     "name": "stderr",
     "output_type": "stream",
     "text": [
      "Fetching movie data:   6%|█                  | 153/2614 [01:01<16:43,  2.45it/s]"
     ]
    },
    {
     "name": "stdout",
     "output_type": "stream",
     "text": [
      "Fetching data for movie ID tt13818942 from OMDb...\n"
     ]
    },
    {
     "name": "stderr",
     "output_type": "stream",
     "text": [
      "Fetching movie data:   6%|█                  | 154/2614 [01:02<16:22,  2.50it/s]"
     ]
    },
    {
     "name": "stdout",
     "output_type": "stream",
     "text": [
      "Fetching data for movie ID tt27843756 from OMDb...\n"
     ]
    },
    {
     "name": "stderr",
     "output_type": "stream",
     "text": [
      "Fetching movie data:   6%|█▏                 | 155/2614 [01:02<18:08,  2.26it/s]"
     ]
    },
    {
     "name": "stdout",
     "output_type": "stream",
     "text": [
      "Fetching data for movie ID tt8852284 from OMDb...\n"
     ]
    },
    {
     "name": "stderr",
     "output_type": "stream",
     "text": [
      "Fetching movie data:   6%|█▏                 | 156/2614 [01:03<18:58,  2.16it/s]"
     ]
    },
    {
     "name": "stdout",
     "output_type": "stream",
     "text": [
      "Fetching data for movie ID tt11139374 from OMDb...\n"
     ]
    },
    {
     "name": "stderr",
     "output_type": "stream",
     "text": [
      "Fetching movie data:   6%|█▏                 | 157/2614 [01:03<17:48,  2.30it/s]"
     ]
    },
    {
     "name": "stdout",
     "output_type": "stream",
     "text": [
      "Fetching data for movie ID tt0034583 from OMDb...\n"
     ]
    },
    {
     "name": "stderr",
     "output_type": "stream",
     "text": [
      "Fetching movie data:   6%|█▏                 | 158/2614 [01:03<15:00,  2.73it/s]"
     ]
    },
    {
     "name": "stdout",
     "output_type": "stream",
     "text": [
      "Fetching data for movie ID tt4392738 from OMDb...\n"
     ]
    },
    {
     "name": "stderr",
     "output_type": "stream",
     "text": [
      "Fetching movie data:   6%|█▏                 | 159/2614 [01:04<15:57,  2.56it/s]"
     ]
    },
    {
     "name": "stdout",
     "output_type": "stream",
     "text": [
      "Fetching data for movie ID tt27116128 from OMDb...\n"
     ]
    },
    {
     "name": "stderr",
     "output_type": "stream",
     "text": [
      "Fetching movie data:   6%|█▏                 | 160/2614 [01:04<17:27,  2.34it/s]"
     ]
    },
    {
     "name": "stdout",
     "output_type": "stream",
     "text": [
      "Fetching data for movie ID tt1661394 from OMDb...\n"
     ]
    },
    {
     "name": "stderr",
     "output_type": "stream",
     "text": [
      "Fetching movie data:   6%|█▏                 | 161/2614 [01:05<16:25,  2.49it/s]"
     ]
    },
    {
     "name": "stdout",
     "output_type": "stream",
     "text": [
      "Fetching data for movie ID tt7158998 from OMDb...\n"
     ]
    },
    {
     "name": "stderr",
     "output_type": "stream",
     "text": [
      "Fetching movie data:   6%|█▏                 | 162/2614 [01:05<16:23,  2.49it/s]"
     ]
    },
    {
     "name": "stdout",
     "output_type": "stream",
     "text": [
      "Fetching data for movie ID tt6673164 from OMDb...\n"
     ]
    },
    {
     "name": "stderr",
     "output_type": "stream",
     "text": [
      "Fetching movie data:   6%|█▏                 | 163/2614 [01:06<17:25,  2.35it/s]"
     ]
    },
    {
     "name": "stdout",
     "output_type": "stream",
     "text": [
      "Fetching data for movie ID tt7746652 from OMDb...\n"
     ]
    },
    {
     "name": "stderr",
     "output_type": "stream",
     "text": [
      "Fetching movie data:   6%|█▏                 | 164/2614 [01:06<16:53,  2.42it/s]"
     ]
    },
    {
     "name": "stdout",
     "output_type": "stream",
     "text": [
      "Fetching data for movie ID tt3588982 from OMDb...\n"
     ]
    },
    {
     "name": "stderr",
     "output_type": "stream",
     "text": [
      "Fetching movie data:   6%|█▏                 | 165/2614 [01:07<18:24,  2.22it/s]"
     ]
    },
    {
     "name": "stdout",
     "output_type": "stream",
     "text": [
      "Fetching data for movie ID tt5155004 from OMDb...\n"
     ]
    },
    {
     "name": "stderr",
     "output_type": "stream",
     "text": [
      "Fetching movie data:   6%|█▏                 | 166/2614 [01:07<18:22,  2.22it/s]"
     ]
    },
    {
     "name": "stdout",
     "output_type": "stream",
     "text": [
      "Fetching data for movie ID tt17497664 from OMDb...\n"
     ]
    },
    {
     "name": "stderr",
     "output_type": "stream",
     "text": [
      "Fetching movie data:   6%|█▏                 | 167/2614 [01:07<17:30,  2.33it/s]"
     ]
    },
    {
     "name": "stdout",
     "output_type": "stream",
     "text": [
      "Fetching data for movie ID tt31100533 from OMDb...\n"
     ]
    },
    {
     "name": "stderr",
     "output_type": "stream",
     "text": [
      "Fetching movie data:   6%|█▏                 | 168/2614 [01:08<20:53,  1.95it/s]"
     ]
    },
    {
     "name": "stdout",
     "output_type": "stream",
     "text": [
      "Fetching data for movie ID tt3565744 from OMDb...\n"
     ]
    },
    {
     "name": "stderr",
     "output_type": "stream",
     "text": [
      "Fetching movie data:   6%|█▏                 | 169/2614 [01:08<18:59,  2.14it/s]"
     ]
    },
    {
     "name": "stdout",
     "output_type": "stream",
     "text": [
      "Fetching data for movie ID tt15378300 from OMDb...\n"
     ]
    },
    {
     "name": "stderr",
     "output_type": "stream",
     "text": [
      "Fetching movie data:   7%|█▏                 | 170/2614 [01:09<17:30,  2.33it/s]"
     ]
    },
    {
     "name": "stdout",
     "output_type": "stream",
     "text": [
      "Fetching data for movie ID tt13648230 from OMDb...\n"
     ]
    },
    {
     "name": "stderr",
     "output_type": "stream",
     "text": [
      "Fetching movie data:   7%|█▏                 | 171/2614 [01:09<16:53,  2.41it/s]"
     ]
    },
    {
     "name": "stdout",
     "output_type": "stream",
     "text": [
      "Fetching data for movie ID tt4492986 from OMDb...\n"
     ]
    },
    {
     "name": "stderr",
     "output_type": "stream",
     "text": [
      "Fetching movie data:   7%|█▎                 | 172/2614 [01:10<17:20,  2.35it/s]"
     ]
    },
    {
     "name": "stdout",
     "output_type": "stream",
     "text": [
      "Fetching data for movie ID tt9343816 from OMDb...\n"
     ]
    },
    {
     "name": "stderr",
     "output_type": "stream",
     "text": [
      "Fetching movie data:   7%|█▎                 | 173/2614 [01:10<17:15,  2.36it/s]"
     ]
    },
    {
     "name": "stdout",
     "output_type": "stream",
     "text": [
      "Fetching data for movie ID tt13046056 from OMDb...\n"
     ]
    },
    {
     "name": "stderr",
     "output_type": "stream",
     "text": [
      "Fetching movie data:   7%|█▎                 | 174/2614 [01:11<18:12,  2.23it/s]"
     ]
    },
    {
     "name": "stdout",
     "output_type": "stream",
     "text": [
      "Fetching data for movie ID tt7437596 from OMDb...\n"
     ]
    },
    {
     "name": "stderr",
     "output_type": "stream",
     "text": [
      "Fetching movie data:   7%|█▎                 | 175/2614 [01:11<18:14,  2.23it/s]"
     ]
    },
    {
     "name": "stdout",
     "output_type": "stream",
     "text": [
      "Fetching data for movie ID tt6202404 from OMDb...\n"
     ]
    },
    {
     "name": "stderr",
     "output_type": "stream",
     "text": [
      "Fetching movie data:   7%|█▎                 | 176/2614 [01:11<16:44,  2.43it/s]"
     ]
    },
    {
     "name": "stdout",
     "output_type": "stream",
     "text": [
      "Fetching data for movie ID tt4081852 from OMDb...\n"
     ]
    },
    {
     "name": "stderr",
     "output_type": "stream",
     "text": [
      "Fetching movie data:   7%|█▎                 | 177/2614 [01:12<16:34,  2.45it/s]"
     ]
    },
    {
     "name": "stdout",
     "output_type": "stream",
     "text": [
      "Fetching data for movie ID tt10820234 from OMDb...\n"
     ]
    },
    {
     "name": "stderr",
     "output_type": "stream",
     "text": [
      "Fetching movie data:   7%|█▎                 | 178/2614 [01:12<18:30,  2.19it/s]"
     ]
    },
    {
     "name": "stdout",
     "output_type": "stream",
     "text": [
      "Fetching data for movie ID tt13027292 from OMDb...\n"
     ]
    },
    {
     "name": "stderr",
     "output_type": "stream",
     "text": [
      "Fetching movie data:   7%|█▎                 | 179/2614 [01:13<17:16,  2.35it/s]"
     ]
    },
    {
     "name": "stdout",
     "output_type": "stream",
     "text": [
      "Fetching data for movie ID tt26420503 from OMDb...\n"
     ]
    },
    {
     "name": "stderr",
     "output_type": "stream",
     "text": [
      "Fetching movie data:   7%|█▎                 | 180/2614 [01:13<20:14,  2.00it/s]"
     ]
    },
    {
     "name": "stdout",
     "output_type": "stream",
     "text": [
      "Fetching data for movie ID tt15816938 from OMDb...\n"
     ]
    },
    {
     "name": "stderr",
     "output_type": "stream",
     "text": [
      "Fetching movie data:   7%|█▎                 | 181/2614 [01:14<20:20,  1.99it/s]"
     ]
    },
    {
     "name": "stdout",
     "output_type": "stream",
     "text": [
      "Fetching data for movie ID tt15724188 from OMDb...\n",
      "Fetching data for movie ID tt10691436 from OMDb...\n"
     ]
    },
    {
     "name": "stderr",
     "output_type": "stream",
     "text": [
      "Fetching movie data:   7%|█▎                 | 183/2614 [01:14<16:42,  2.42it/s]"
     ]
    },
    {
     "name": "stdout",
     "output_type": "stream",
     "text": [
      "Fetching data for movie ID tt8887720 from OMDb...\n"
     ]
    },
    {
     "name": "stderr",
     "output_type": "stream",
     "text": [
      "Fetching movie data:   7%|█▎                 | 184/2614 [01:15<17:40,  2.29it/s]"
     ]
    },
    {
     "name": "stdout",
     "output_type": "stream",
     "text": [
      "Fetching data for movie ID tt12370388 from OMDb...\n"
     ]
    },
    {
     "name": "stderr",
     "output_type": "stream",
     "text": [
      "Fetching movie data:   7%|█▎                 | 185/2614 [01:15<18:28,  2.19it/s]"
     ]
    },
    {
     "name": "stdout",
     "output_type": "stream",
     "text": [
      "Fetching data for movie ID tt7640230 from OMDb...\n"
     ]
    },
    {
     "name": "stderr",
     "output_type": "stream",
     "text": [
      "Fetching movie data:   7%|█▎                 | 186/2614 [01:16<19:05,  2.12it/s]"
     ]
    },
    {
     "name": "stdout",
     "output_type": "stream",
     "text": [
      "Fetching data for movie ID tt13182756 from OMDb...\n"
     ]
    },
    {
     "name": "stderr",
     "output_type": "stream",
     "text": [
      "Fetching movie data:   7%|█▎                 | 187/2614 [01:16<19:32,  2.07it/s]"
     ]
    },
    {
     "name": "stdout",
     "output_type": "stream",
     "text": [
      "Fetching data for movie ID tt30248814 from OMDb...\n"
     ]
    },
    {
     "name": "stderr",
     "output_type": "stream",
     "text": [
      "Fetching movie data:   7%|█▎                 | 188/2614 [01:17<19:51,  2.04it/s]"
     ]
    },
    {
     "name": "stdout",
     "output_type": "stream",
     "text": [
      "Fetching data for movie ID tt14658460 from OMDb...\n"
     ]
    },
    {
     "name": "stderr",
     "output_type": "stream",
     "text": [
      "Fetching movie data:   7%|█▎                 | 189/2614 [01:17<20:04,  2.01it/s]"
     ]
    },
    {
     "name": "stdout",
     "output_type": "stream",
     "text": [
      "Fetching data for movie ID tt8768868 from OMDb...\n"
     ]
    },
    {
     "name": "stderr",
     "output_type": "stream",
     "text": [
      "Fetching movie data:   7%|█▍                 | 190/2614 [01:18<20:08,  2.01it/s]"
     ]
    },
    {
     "name": "stdout",
     "output_type": "stream",
     "text": [
      "Fetching data for movie ID tt7689960 from OMDb...\n"
     ]
    },
    {
     "name": "stderr",
     "output_type": "stream",
     "text": [
      "Fetching movie data:   7%|█▍                 | 191/2614 [01:18<19:10,  2.11it/s]"
     ]
    },
    {
     "name": "stdout",
     "output_type": "stream",
     "text": [
      "Fetching data for movie ID tt8230384 from OMDb...\n"
     ]
    },
    {
     "name": "stderr",
     "output_type": "stream",
     "text": [
      "Fetching movie data:   7%|█▍                 | 192/2614 [01:19<19:37,  2.06it/s]"
     ]
    },
    {
     "name": "stdout",
     "output_type": "stream",
     "text": [
      "Fetching data for movie ID tt2989348 from OMDb...\n"
     ]
    },
    {
     "name": "stderr",
     "output_type": "stream",
     "text": [
      "Fetching movie data:   7%|█▍                 | 193/2614 [01:19<19:55,  2.02it/s]"
     ]
    },
    {
     "name": "stdout",
     "output_type": "stream",
     "text": [
      "Fetching data for movie ID tt7654492 from OMDb...\n"
     ]
    },
    {
     "name": "stderr",
     "output_type": "stream",
     "text": [
      "Fetching movie data:   7%|█▍                 | 195/2614 [01:20<14:48,  2.72it/s]"
     ]
    },
    {
     "name": "stdout",
     "output_type": "stream",
     "text": [
      "Fetching data for movie ID tt35077007 from OMDb...\n",
      "Fetching data for movie ID tt5456706 from OMDb...\n"
     ]
    },
    {
     "name": "stderr",
     "output_type": "stream",
     "text": [
      "Fetching movie data:   7%|█▍                 | 196/2614 [01:20<16:13,  2.49it/s]"
     ]
    },
    {
     "name": "stdout",
     "output_type": "stream",
     "text": [
      "Fetching data for movie ID tt6896442 from OMDb...\n"
     ]
    },
    {
     "name": "stderr",
     "output_type": "stream",
     "text": [
      "Fetching movie data:   8%|█▍                 | 197/2614 [01:21<16:07,  2.50it/s]"
     ]
    },
    {
     "name": "stdout",
     "output_type": "stream",
     "text": [
      "Fetching data for movie ID tt5104954 from OMDb...\n"
     ]
    },
    {
     "name": "stderr",
     "output_type": "stream",
     "text": [
      "Fetching movie data:   8%|█▍                 | 198/2614 [01:21<17:39,  2.28it/s]"
     ]
    },
    {
     "name": "stdout",
     "output_type": "stream",
     "text": [
      "Fetching data for movie ID tt9518536 from OMDb...\n"
     ]
    },
    {
     "name": "stderr",
     "output_type": "stream",
     "text": [
      "Fetching movie data:   8%|█▍                 | 201/2614 [01:22<11:01,  3.65it/s]"
     ]
    },
    {
     "name": "stdout",
     "output_type": "stream",
     "text": [
      "Fetching data for movie ID tt19767724 from OMDb...\n",
      "Fetching data for movie ID tt21195478 from OMDb...\n",
      "Fetching data for movie ID tt11269014 from OMDb...\n"
     ]
    },
    {
     "name": "stderr",
     "output_type": "stream",
     "text": [
      "Fetching movie data:   8%|█▍                 | 202/2614 [01:22<12:26,  3.23it/s]"
     ]
    },
    {
     "name": "stdout",
     "output_type": "stream",
     "text": [
      "Fetching data for movie ID tt5254712 from OMDb...\n"
     ]
    },
    {
     "name": "stderr",
     "output_type": "stream",
     "text": [
      "Fetching movie data:   8%|█▍                 | 203/2614 [01:23<14:36,  2.75it/s]"
     ]
    },
    {
     "name": "stdout",
     "output_type": "stream",
     "text": [
      "Fetching data for movie ID tt27679373 from OMDb...\n"
     ]
    },
    {
     "name": "stderr",
     "output_type": "stream",
     "text": [
      "Fetching movie data:   8%|█▍                 | 204/2614 [01:23<14:46,  2.72it/s]"
     ]
    },
    {
     "name": "stdout",
     "output_type": "stream",
     "text": [
      "Fetching data for movie ID tt3318014 from OMDb...\n"
     ]
    },
    {
     "name": "stderr",
     "output_type": "stream",
     "text": [
      "Fetching movie data:   8%|█▍                 | 205/2614 [01:24<14:38,  2.74it/s]"
     ]
    },
    {
     "name": "stdout",
     "output_type": "stream",
     "text": [
      "Fetching data for movie ID tt7691818 from OMDb...\n"
     ]
    },
    {
     "name": "stderr",
     "output_type": "stream",
     "text": [
      "Fetching movie data:   8%|█▍                 | 206/2614 [01:24<17:07,  2.34it/s]"
     ]
    },
    {
     "name": "stdout",
     "output_type": "stream",
     "text": [
      "Progress saved after 36600 movies.\n",
      "Fetching data for movie ID tt31079461 from OMDb...\n"
     ]
    },
    {
     "name": "stderr",
     "output_type": "stream",
     "text": [
      "Fetching movie data:   8%|█▌                 | 207/2614 [01:25<16:43,  2.40it/s]"
     ]
    },
    {
     "name": "stdout",
     "output_type": "stream",
     "text": [
      "Fetching data for movie ID tt11658084 from OMDb...\n"
     ]
    },
    {
     "name": "stderr",
     "output_type": "stream",
     "text": [
      "Fetching movie data:   8%|█▌                 | 208/2614 [01:25<16:18,  2.46it/s]"
     ]
    },
    {
     "name": "stdout",
     "output_type": "stream",
     "text": [
      "Fetching data for movie ID tt10692622 from OMDb...\n"
     ]
    },
    {
     "name": "stderr",
     "output_type": "stream",
     "text": [
      "Fetching movie data:   8%|█▌                 | 209/2614 [01:25<15:36,  2.57it/s]"
     ]
    },
    {
     "name": "stdout",
     "output_type": "stream",
     "text": [
      "Fetching data for movie ID tt32696907 from OMDb...\n"
     ]
    },
    {
     "name": "stderr",
     "output_type": "stream",
     "text": [
      "Fetching movie data:   8%|█▌                 | 211/2614 [01:26<13:27,  2.98it/s]"
     ]
    },
    {
     "name": "stdout",
     "output_type": "stream",
     "text": [
      "Fetching data for movie ID tt33308899 from OMDb...\n",
      "Fetching data for movie ID tt6442506 from OMDb...\n"
     ]
    },
    {
     "name": "stderr",
     "output_type": "stream",
     "text": [
      "Fetching movie data:   8%|█▌                 | 212/2614 [01:26<14:45,  2.71it/s]"
     ]
    },
    {
     "name": "stdout",
     "output_type": "stream",
     "text": [
      "Fetching data for movie ID tt10462840 from OMDb...\n"
     ]
    },
    {
     "name": "stderr",
     "output_type": "stream",
     "text": [
      "Fetching movie data:   8%|█▌                 | 213/2614 [01:27<14:48,  2.70it/s]"
     ]
    },
    {
     "name": "stdout",
     "output_type": "stream",
     "text": [
      "Fetching data for movie ID tt8791350 from OMDb...\n"
     ]
    },
    {
     "name": "stderr",
     "output_type": "stream",
     "text": [
      "Fetching movie data:   8%|█▌                 | 214/2614 [01:27<15:29,  2.58it/s]"
     ]
    },
    {
     "name": "stdout",
     "output_type": "stream",
     "text": [
      "Fetching data for movie ID tt11012206 from OMDb...\n"
     ]
    },
    {
     "name": "stderr",
     "output_type": "stream",
     "text": [
      "Fetching movie data:   8%|█▌                 | 215/2614 [01:28<15:31,  2.58it/s]"
     ]
    },
    {
     "name": "stdout",
     "output_type": "stream",
     "text": [
      "Fetching data for movie ID tt31314310 from OMDb...\n"
     ]
    },
    {
     "name": "stderr",
     "output_type": "stream",
     "text": [
      "Fetching movie data:   8%|█▌                 | 216/2614 [01:28<15:33,  2.57it/s]"
     ]
    },
    {
     "name": "stdout",
     "output_type": "stream",
     "text": [
      "Fetching data for movie ID tt32318304 from OMDb...\n"
     ]
    },
    {
     "name": "stderr",
     "output_type": "stream",
     "text": [
      "Fetching movie data:   8%|█▌                 | 217/2614 [01:28<16:25,  2.43it/s]"
     ]
    },
    {
     "name": "stdout",
     "output_type": "stream",
     "text": [
      "Fetching data for movie ID tt30306038 from OMDb...\n"
     ]
    },
    {
     "name": "stderr",
     "output_type": "stream",
     "text": [
      "Fetching movie data:   8%|█▌                 | 218/2614 [01:29<15:59,  2.50it/s]"
     ]
    },
    {
     "name": "stdout",
     "output_type": "stream",
     "text": [
      "Fetching data for movie ID tt4423632 from OMDb...\n"
     ]
    },
    {
     "name": "stderr",
     "output_type": "stream",
     "text": [
      "Fetching movie data:   8%|█▌                 | 219/2614 [01:29<15:37,  2.56it/s]"
     ]
    },
    {
     "name": "stdout",
     "output_type": "stream",
     "text": [
      "Fetching data for movie ID tt10942166 from OMDb...\n"
     ]
    },
    {
     "name": "stderr",
     "output_type": "stream",
     "text": [
      "Fetching movie data:   8%|█▌                 | 220/2614 [01:30<15:17,  2.61it/s]"
     ]
    },
    {
     "name": "stdout",
     "output_type": "stream",
     "text": [
      "Fetching data for movie ID tt12017394 from OMDb...\n"
     ]
    },
    {
     "name": "stderr",
     "output_type": "stream",
     "text": [
      "Fetching movie data:   8%|█▌                 | 221/2614 [01:30<16:36,  2.40it/s]"
     ]
    },
    {
     "name": "stdout",
     "output_type": "stream",
     "text": [
      "Fetching data for movie ID tt6828810 from OMDb...\n"
     ]
    },
    {
     "name": "stderr",
     "output_type": "stream",
     "text": [
      "Fetching movie data:   8%|█▌                 | 222/2614 [01:31<17:28,  2.28it/s]"
     ]
    },
    {
     "name": "stdout",
     "output_type": "stream",
     "text": [
      "Fetching data for movie ID tt2380390 from OMDb...\n"
     ]
    },
    {
     "name": "stderr",
     "output_type": "stream",
     "text": [
      "Fetching movie data:   9%|█▌                 | 223/2614 [01:31<17:23,  2.29it/s]"
     ]
    },
    {
     "name": "stdout",
     "output_type": "stream",
     "text": [
      "Fetching data for movie ID tt7205466 from OMDb...\n"
     ]
    },
    {
     "name": "stderr",
     "output_type": "stream",
     "text": [
      "Fetching movie data:   9%|█▋                 | 224/2614 [01:32<18:16,  2.18it/s]"
     ]
    },
    {
     "name": "stdout",
     "output_type": "stream",
     "text": [
      "Fetching data for movie ID tt5016702 from OMDb...\n"
     ]
    },
    {
     "name": "stderr",
     "output_type": "stream",
     "text": [
      "Fetching movie data:   9%|█▋                 | 225/2614 [01:32<18:58,  2.10it/s]"
     ]
    },
    {
     "name": "stdout",
     "output_type": "stream",
     "text": [
      "Fetching data for movie ID tt30151383 from OMDb...\n"
     ]
    },
    {
     "name": "stderr",
     "output_type": "stream",
     "text": [
      "Fetching movie data:   9%|█▋                 | 226/2614 [01:32<18:51,  2.11it/s]"
     ]
    },
    {
     "name": "stdout",
     "output_type": "stream",
     "text": [
      "Fetching data for movie ID tt5805752 from OMDb...\n"
     ]
    },
    {
     "name": "stderr",
     "output_type": "stream",
     "text": [
      "Fetching movie data:   9%|█▋                 | 227/2614 [01:33<18:33,  2.14it/s]"
     ]
    },
    {
     "name": "stdout",
     "output_type": "stream",
     "text": [
      "Fetching data for movie ID tt4170288 from OMDb...\n"
     ]
    },
    {
     "name": "stderr",
     "output_type": "stream",
     "text": [
      "Fetching movie data:   9%|█▋                 | 228/2614 [01:33<16:57,  2.35it/s]"
     ]
    },
    {
     "name": "stdout",
     "output_type": "stream",
     "text": [
      "Fetching data for movie ID tt29537534 from OMDb...\n"
     ]
    },
    {
     "name": "stderr",
     "output_type": "stream",
     "text": [
      "Fetching movie data:   9%|█▋                 | 229/2614 [01:34<17:41,  2.25it/s]"
     ]
    },
    {
     "name": "stdout",
     "output_type": "stream",
     "text": [
      "Fetching data for movie ID tt9486898 from OMDb...\n"
     ]
    },
    {
     "name": "stderr",
     "output_type": "stream",
     "text": [
      "Fetching movie data:   9%|█▋                 | 230/2614 [01:34<18:27,  2.15it/s]"
     ]
    },
    {
     "name": "stdout",
     "output_type": "stream",
     "text": [
      "Fetching data for movie ID tt15191042 from OMDb...\n"
     ]
    },
    {
     "name": "stderr",
     "output_type": "stream",
     "text": [
      "Fetching movie data:   9%|█▋                 | 231/2614 [01:35<18:42,  2.12it/s]"
     ]
    },
    {
     "name": "stdout",
     "output_type": "stream",
     "text": [
      "Fetching data for movie ID tt7313300 from OMDb...\n"
     ]
    },
    {
     "name": "stderr",
     "output_type": "stream",
     "text": [
      "Fetching movie data:   9%|█▋                 | 232/2614 [01:35<19:29,  2.04it/s]"
     ]
    },
    {
     "name": "stdout",
     "output_type": "stream",
     "text": [
      "Fetching data for movie ID tt32888092 from OMDb...\n",
      "Fetching data for movie ID tt5963774 from OMDb...\n"
     ]
    },
    {
     "name": "stderr",
     "output_type": "stream",
     "text": [
      "Fetching movie data:   9%|█▋                 | 234/2614 [01:36<15:10,  2.61it/s]"
     ]
    },
    {
     "name": "stdout",
     "output_type": "stream",
     "text": [
      "Fetching data for movie ID tt14642116 from OMDb...\n"
     ]
    },
    {
     "name": "stderr",
     "output_type": "stream",
     "text": [
      "Fetching movie data:   9%|█▋                 | 235/2614 [01:36<15:17,  2.59it/s]"
     ]
    },
    {
     "name": "stdout",
     "output_type": "stream",
     "text": [
      "Fetching data for movie ID tt21065476 from OMDb...\n"
     ]
    },
    {
     "name": "stderr",
     "output_type": "stream",
     "text": [
      "Fetching movie data:   9%|█▋                 | 236/2614 [01:37<15:38,  2.53it/s]"
     ]
    },
    {
     "name": "stdout",
     "output_type": "stream",
     "text": [
      "Fetching data for movie ID tt10398080 from OMDb...\n"
     ]
    },
    {
     "name": "stderr",
     "output_type": "stream",
     "text": [
      "Fetching movie data:   9%|█▋                 | 237/2614 [01:37<15:50,  2.50it/s]"
     ]
    },
    {
     "name": "stdout",
     "output_type": "stream",
     "text": [
      "Fetching data for movie ID tt10800756 from OMDb...\n"
     ]
    },
    {
     "name": "stderr",
     "output_type": "stream",
     "text": [
      "Fetching movie data:   9%|█▋                 | 238/2614 [01:37<16:08,  2.45it/s]"
     ]
    },
    {
     "name": "stdout",
     "output_type": "stream",
     "text": [
      "Fetching data for movie ID tt5461272 from OMDb...\n"
     ]
    },
    {
     "name": "stderr",
     "output_type": "stream",
     "text": [
      "Fetching movie data:   9%|█▋                 | 239/2614 [01:38<17:06,  2.31it/s]"
     ]
    },
    {
     "name": "stdout",
     "output_type": "stream",
     "text": [
      "Fetching data for movie ID tt6344406 from OMDb...\n"
     ]
    },
    {
     "name": "stderr",
     "output_type": "stream",
     "text": [
      "Fetching movie data:   9%|█▋                 | 240/2614 [01:38<16:14,  2.44it/s]"
     ]
    },
    {
     "name": "stdout",
     "output_type": "stream",
     "text": [
      "Fetching data for movie ID tt27416868 from OMDb...\n"
     ]
    },
    {
     "name": "stderr",
     "output_type": "stream",
     "text": [
      "Fetching movie data:   9%|█▊                 | 241/2614 [01:39<16:51,  2.35it/s]"
     ]
    },
    {
     "name": "stdout",
     "output_type": "stream",
     "text": [
      "Fetching data for movie ID tt5649968 from OMDb...\n"
     ]
    },
    {
     "name": "stderr",
     "output_type": "stream",
     "text": [
      "Fetching movie data:   9%|█▊                 | 242/2614 [01:39<15:49,  2.50it/s]"
     ]
    },
    {
     "name": "stdout",
     "output_type": "stream",
     "text": [
      "Fetching data for movie ID tt9668648 from OMDb...\n"
     ]
    },
    {
     "name": "stderr",
     "output_type": "stream",
     "text": [
      "Fetching movie data:   9%|█▊                 | 243/2614 [01:39<15:19,  2.58it/s]"
     ]
    },
    {
     "name": "stdout",
     "output_type": "stream",
     "text": [
      "Fetching data for movie ID tt31549049 from OMDb...\n"
     ]
    },
    {
     "name": "stderr",
     "output_type": "stream",
     "text": [
      "Fetching movie data:   9%|█▊                 | 244/2614 [01:40<15:48,  2.50it/s]"
     ]
    },
    {
     "name": "stdout",
     "output_type": "stream",
     "text": [
      "Fetching data for movie ID tt10036406 from OMDb...\n"
     ]
    },
    {
     "name": "stderr",
     "output_type": "stream",
     "text": [
      "Fetching movie data:   9%|█▊                 | 245/2614 [01:40<17:07,  2.31it/s]"
     ]
    },
    {
     "name": "stdout",
     "output_type": "stream",
     "text": [
      "Fetching data for movie ID tt4449576 from OMDb...\n"
     ]
    },
    {
     "name": "stderr",
     "output_type": "stream",
     "text": [
      "Fetching movie data:   9%|█▊                 | 246/2614 [01:41<17:05,  2.31it/s]"
     ]
    },
    {
     "name": "stdout",
     "output_type": "stream",
     "text": [
      "Fetching data for movie ID tt4940568 from OMDb...\n"
     ]
    },
    {
     "name": "stderr",
     "output_type": "stream",
     "text": [
      "Fetching movie data:   9%|█▊                 | 247/2614 [01:41<17:44,  2.22it/s]"
     ]
    },
    {
     "name": "stdout",
     "output_type": "stream",
     "text": [
      "Fetching data for movie ID tt6741368 from OMDb...\n"
     ]
    },
    {
     "name": "stderr",
     "output_type": "stream",
     "text": [
      "Fetching movie data:   9%|█▊                 | 248/2614 [01:42<18:28,  2.13it/s]"
     ]
    },
    {
     "name": "stdout",
     "output_type": "stream",
     "text": [
      "Fetching data for movie ID tt7573720 from OMDb...\n"
     ]
    },
    {
     "name": "stderr",
     "output_type": "stream",
     "text": [
      "Fetching movie data:  10%|█▊                 | 249/2614 [01:42<17:30,  2.25it/s]"
     ]
    },
    {
     "name": "stdout",
     "output_type": "stream",
     "text": [
      "Fetching data for movie ID tt10369434 from OMDb...\n"
     ]
    },
    {
     "name": "stderr",
     "output_type": "stream",
     "text": [
      "Fetching movie data:  10%|█▊                 | 250/2614 [01:43<17:14,  2.28it/s]"
     ]
    },
    {
     "name": "stdout",
     "output_type": "stream",
     "text": [
      "Fetching data for movie ID tt6752848 from OMDb...\n"
     ]
    },
    {
     "name": "stderr",
     "output_type": "stream",
     "text": [
      "Fetching movie data:  10%|█▊                 | 251/2614 [01:43<18:12,  2.16it/s]"
     ]
    },
    {
     "name": "stdout",
     "output_type": "stream",
     "text": [
      "Fetching data for movie ID tt10443324 from OMDb...\n"
     ]
    },
    {
     "name": "stderr",
     "output_type": "stream",
     "text": [
      "Fetching movie data:  10%|█▊                 | 252/2614 [01:44<18:47,  2.09it/s]"
     ]
    },
    {
     "name": "stdout",
     "output_type": "stream",
     "text": [
      "Fetching data for movie ID tt7034674 from OMDb...\n"
     ]
    },
    {
     "name": "stderr",
     "output_type": "stream",
     "text": [
      "Fetching movie data:  10%|█▊                 | 253/2614 [01:44<17:59,  2.19it/s]"
     ]
    },
    {
     "name": "stdout",
     "output_type": "stream",
     "text": [
      "Fetching data for movie ID tt6219508 from OMDb...\n"
     ]
    },
    {
     "name": "stderr",
     "output_type": "stream",
     "text": [
      "Fetching movie data:  10%|█▊                 | 254/2614 [01:45<18:36,  2.11it/s]"
     ]
    },
    {
     "name": "stdout",
     "output_type": "stream",
     "text": [
      "Fetching data for movie ID tt11117398 from OMDb...\n"
     ]
    },
    {
     "name": "stderr",
     "output_type": "stream",
     "text": [
      "Fetching movie data:  10%|█▊                 | 255/2614 [01:45<18:09,  2.16it/s]"
     ]
    },
    {
     "name": "stdout",
     "output_type": "stream",
     "text": [
      "Fetching data for movie ID tt23708786 from OMDb...\n"
     ]
    },
    {
     "name": "stderr",
     "output_type": "stream",
     "text": [
      "Fetching movie data:  10%|█▊                 | 256/2614 [01:45<17:15,  2.28it/s]"
     ]
    },
    {
     "name": "stdout",
     "output_type": "stream",
     "text": [
      "Fetching data for movie ID tt26687422 from OMDb...\n"
     ]
    },
    {
     "name": "stderr",
     "output_type": "stream",
     "text": [
      "Fetching movie data:  10%|█▊                 | 257/2614 [01:46<16:18,  2.41it/s]"
     ]
    },
    {
     "name": "stdout",
     "output_type": "stream",
     "text": [
      "Fetching data for movie ID tt13565016 from OMDb...\n"
     ]
    },
    {
     "name": "stderr",
     "output_type": "stream",
     "text": [
      "Fetching movie data:  10%|█▉                 | 258/2614 [01:46<18:04,  2.17it/s]"
     ]
    },
    {
     "name": "stdout",
     "output_type": "stream",
     "text": [
      "Fetching data for movie ID tt10553756 from OMDb...\n"
     ]
    },
    {
     "name": "stderr",
     "output_type": "stream",
     "text": [
      "Fetching movie data:  10%|█▉                 | 259/2614 [01:47<18:37,  2.11it/s]"
     ]
    },
    {
     "name": "stdout",
     "output_type": "stream",
     "text": [
      "Fetching data for movie ID tt26441980 from OMDb...\n"
     ]
    },
    {
     "name": "stderr",
     "output_type": "stream",
     "text": [
      "Fetching movie data:  10%|█▉                 | 260/2614 [01:47<19:02,  2.06it/s]"
     ]
    },
    {
     "name": "stdout",
     "output_type": "stream",
     "text": [
      "Fetching data for movie ID tt3037676 from OMDb...\n"
     ]
    },
    {
     "name": "stderr",
     "output_type": "stream",
     "text": [
      "Fetching movie data:  10%|█▉                 | 261/2614 [01:48<17:35,  2.23it/s]"
     ]
    },
    {
     "name": "stdout",
     "output_type": "stream",
     "text": [
      "Fetching data for movie ID tt3395118 from OMDb...\n"
     ]
    },
    {
     "name": "stderr",
     "output_type": "stream",
     "text": [
      "Fetching movie data:  10%|█▉                 | 262/2614 [01:48<17:30,  2.24it/s]"
     ]
    },
    {
     "name": "stdout",
     "output_type": "stream",
     "text": [
      "Fetching data for movie ID tt5794622 from OMDb...\n"
     ]
    },
    {
     "name": "stderr",
     "output_type": "stream",
     "text": [
      "Fetching movie data:  10%|█▉                 | 263/2614 [01:49<17:14,  2.27it/s]"
     ]
    },
    {
     "name": "stdout",
     "output_type": "stream",
     "text": [
      "Fetching data for movie ID tt17054432 from OMDb...\n"
     ]
    },
    {
     "name": "stderr",
     "output_type": "stream",
     "text": [
      "Fetching movie data:  10%|█▉                 | 264/2614 [01:49<16:03,  2.44it/s]"
     ]
    },
    {
     "name": "stdout",
     "output_type": "stream",
     "text": [
      "Fetching data for movie ID tt15766884 from OMDb...\n"
     ]
    },
    {
     "name": "stderr",
     "output_type": "stream",
     "text": [
      "Fetching movie data:  10%|█▉                 | 265/2614 [01:49<15:23,  2.54it/s]"
     ]
    },
    {
     "name": "stdout",
     "output_type": "stream",
     "text": [
      "Fetching data for movie ID tt6159054 from OMDb...\n"
     ]
    },
    {
     "name": "stderr",
     "output_type": "stream",
     "text": [
      "Fetching movie data:  10%|█▉                 | 266/2614 [01:50<15:51,  2.47it/s]"
     ]
    },
    {
     "name": "stdout",
     "output_type": "stream",
     "text": [
      "Fetching data for movie ID tt33368662 from OMDb...\n",
      "Fetching data for movie ID tt14850454 from OMDb...\n"
     ]
    },
    {
     "name": "stderr",
     "output_type": "stream",
     "text": [
      "Fetching movie data:  10%|█▉                 | 268/2614 [01:50<12:43,  3.07it/s]"
     ]
    },
    {
     "name": "stdout",
     "output_type": "stream",
     "text": [
      "Fetching data for movie ID tt26431368 from OMDb...\n"
     ]
    },
    {
     "name": "stderr",
     "output_type": "stream",
     "text": [
      "Fetching movie data:  10%|█▉                 | 269/2614 [01:51<13:27,  2.90it/s]"
     ]
    },
    {
     "name": "stdout",
     "output_type": "stream",
     "text": [
      "Fetching data for movie ID tt10837246 from OMDb...\n"
     ]
    },
    {
     "name": "stderr",
     "output_type": "stream",
     "text": [
      "Fetching movie data:  10%|█▉                 | 270/2614 [01:51<14:41,  2.66it/s]"
     ]
    },
    {
     "name": "stdout",
     "output_type": "stream",
     "text": [
      "Fetching data for movie ID tt4001002 from OMDb...\n"
     ]
    },
    {
     "name": "stderr",
     "output_type": "stream",
     "text": [
      "Fetching movie data:  10%|█▉                 | 271/2614 [01:52<15:39,  2.49it/s]"
     ]
    },
    {
     "name": "stdout",
     "output_type": "stream",
     "text": [
      "Fetching data for movie ID tt7131104 from OMDb...\n"
     ]
    },
    {
     "name": "stderr",
     "output_type": "stream",
     "text": [
      "Fetching movie data:  10%|█▉                 | 272/2614 [01:52<17:43,  2.20it/s]"
     ]
    },
    {
     "name": "stdout",
     "output_type": "stream",
     "text": [
      "Fetching data for movie ID tt28639095 from OMDb...\n"
     ]
    },
    {
     "name": "stderr",
     "output_type": "stream",
     "text": [
      "Fetching movie data:  10%|█▉                 | 273/2614 [01:53<18:29,  2.11it/s]"
     ]
    },
    {
     "name": "stdout",
     "output_type": "stream",
     "text": [
      "Fetching data for movie ID tt3715970 from OMDb...\n"
     ]
    },
    {
     "name": "stderr",
     "output_type": "stream",
     "text": [
      "Fetching movie data:  10%|█▉                 | 274/2614 [01:53<19:02,  2.05it/s]"
     ]
    },
    {
     "name": "stdout",
     "output_type": "stream",
     "text": [
      "Fetching data for movie ID tt12277540 from OMDb...\n"
     ]
    },
    {
     "name": "stderr",
     "output_type": "stream",
     "text": [
      "Fetching movie data:  11%|█▉                 | 275/2614 [01:54<17:53,  2.18it/s]"
     ]
    },
    {
     "name": "stdout",
     "output_type": "stream",
     "text": [
      "Fetching data for movie ID tt7462462 from OMDb...\n"
     ]
    },
    {
     "name": "stderr",
     "output_type": "stream",
     "text": [
      "Fetching movie data:  11%|██                 | 276/2614 [01:54<18:03,  2.16it/s]"
     ]
    },
    {
     "name": "stdout",
     "output_type": "stream",
     "text": [
      "Fetching data for movie ID tt9068190 from OMDb...\n"
     ]
    },
    {
     "name": "stderr",
     "output_type": "stream",
     "text": [
      "Fetching movie data:  11%|██                 | 277/2614 [01:54<17:12,  2.26it/s]"
     ]
    },
    {
     "name": "stdout",
     "output_type": "stream",
     "text": [
      "Fetching data for movie ID tt5530838 from OMDb...\n"
     ]
    },
    {
     "name": "stderr",
     "output_type": "stream",
     "text": [
      "Fetching movie data:  11%|██                 | 278/2614 [01:55<17:04,  2.28it/s]"
     ]
    },
    {
     "name": "stdout",
     "output_type": "stream",
     "text": [
      "Fetching data for movie ID tt31720618 from OMDb...\n"
     ]
    },
    {
     "name": "stderr",
     "output_type": "stream",
     "text": [
      "Fetching movie data:  11%|██                 | 279/2614 [01:55<16:43,  2.33it/s]"
     ]
    },
    {
     "name": "stdout",
     "output_type": "stream",
     "text": [
      "Fetching data for movie ID tt5574102 from OMDb...\n"
     ]
    },
    {
     "name": "stderr",
     "output_type": "stream",
     "text": [
      "Fetching movie data:  11%|██                 | 281/2614 [01:56<12:51,  3.02it/s]"
     ]
    },
    {
     "name": "stdout",
     "output_type": "stream",
     "text": [
      "Fetching data for movie ID tt32459847 from OMDb...\n",
      "Fetching data for movie ID tt26932566 from OMDb...\n"
     ]
    },
    {
     "name": "stderr",
     "output_type": "stream",
     "text": [
      "Fetching movie data:  11%|██                 | 282/2614 [01:56<13:42,  2.83it/s]"
     ]
    },
    {
     "name": "stdout",
     "output_type": "stream",
     "text": [
      "Fetching data for movie ID tt5560340 from OMDb...\n"
     ]
    },
    {
     "name": "stderr",
     "output_type": "stream",
     "text": [
      "Fetching movie data:  11%|██                 | 283/2614 [01:57<14:18,  2.71it/s]"
     ]
    },
    {
     "name": "stdout",
     "output_type": "stream",
     "text": [
      "Fetching data for movie ID tt10950526 from OMDb...\n"
     ]
    },
    {
     "name": "stderr",
     "output_type": "stream",
     "text": [
      "Fetching movie data:  11%|██                 | 284/2614 [01:57<14:46,  2.63it/s]"
     ]
    },
    {
     "name": "stdout",
     "output_type": "stream",
     "text": [
      "Fetching data for movie ID tt22006728 from OMDb...\n"
     ]
    },
    {
     "name": "stderr",
     "output_type": "stream",
     "text": [
      "Fetching movie data:  11%|██                 | 285/2614 [01:58<16:18,  2.38it/s]"
     ]
    },
    {
     "name": "stdout",
     "output_type": "stream",
     "text": [
      "Fetching data for movie ID tt31835273 from OMDb...\n"
     ]
    },
    {
     "name": "stderr",
     "output_type": "stream",
     "text": [
      "Fetching movie data:  11%|██                 | 286/2614 [01:58<15:52,  2.45it/s]"
     ]
    },
    {
     "name": "stdout",
     "output_type": "stream",
     "text": [
      "Fetching data for movie ID tt4375326 from OMDb...\n"
     ]
    },
    {
     "name": "stderr",
     "output_type": "stream",
     "text": [
      "Fetching movie data:  11%|██                 | 287/2614 [01:58<15:03,  2.58it/s]"
     ]
    },
    {
     "name": "stdout",
     "output_type": "stream",
     "text": [
      "Fetching data for movie ID tt30777416 from OMDb...\n"
     ]
    },
    {
     "name": "stderr",
     "output_type": "stream",
     "text": [
      "Fetching movie data:  11%|██                 | 288/2614 [01:59<16:25,  2.36it/s]"
     ]
    },
    {
     "name": "stdout",
     "output_type": "stream",
     "text": [
      "Fetching data for movie ID tt33090645 from OMDb...\n"
     ]
    },
    {
     "name": "stderr",
     "output_type": "stream",
     "text": [
      "Fetching movie data:  11%|██                 | 289/2614 [01:59<16:14,  2.39it/s]"
     ]
    },
    {
     "name": "stdout",
     "output_type": "stream",
     "text": [
      "Fetching data for movie ID tt4557512 from OMDb...\n"
     ]
    },
    {
     "name": "stderr",
     "output_type": "stream",
     "text": [
      "Fetching movie data:  11%|██                 | 290/2614 [02:00<16:04,  2.41it/s]"
     ]
    },
    {
     "name": "stdout",
     "output_type": "stream",
     "text": [
      "Fetching data for movie ID tt28892738 from OMDb...\n"
     ]
    },
    {
     "name": "stderr",
     "output_type": "stream",
     "text": [
      "Fetching movie data:  11%|██                 | 291/2614 [02:00<16:04,  2.41it/s]"
     ]
    },
    {
     "name": "stdout",
     "output_type": "stream",
     "text": [
      "Fetching data for movie ID tt7395490 from OMDb...\n"
     ]
    },
    {
     "name": "stderr",
     "output_type": "stream",
     "text": [
      "Fetching movie data:  11%|██                 | 292/2614 [02:00<15:11,  2.55it/s]"
     ]
    },
    {
     "name": "stdout",
     "output_type": "stream",
     "text": [
      "Fetching data for movie ID tt5001744 from OMDb...\n"
     ]
    },
    {
     "name": "stderr",
     "output_type": "stream",
     "text": [
      "Fetching movie data:  11%|██▏                | 293/2614 [02:01<14:58,  2.58it/s]"
     ]
    },
    {
     "name": "stdout",
     "output_type": "stream",
     "text": [
      "Fetching data for movie ID tt11783582 from OMDb...\n"
     ]
    },
    {
     "name": "stderr",
     "output_type": "stream",
     "text": [
      "Fetching movie data:  11%|██▏                | 294/2614 [02:01<14:39,  2.64it/s]"
     ]
    },
    {
     "name": "stdout",
     "output_type": "stream",
     "text": [
      "Fetching data for movie ID tt29361930 from OMDb...\n"
     ]
    },
    {
     "name": "stderr",
     "output_type": "stream",
     "text": [
      "Fetching movie data:  11%|██▏                | 295/2614 [02:01<14:37,  2.64it/s]"
     ]
    },
    {
     "name": "stdout",
     "output_type": "stream",
     "text": [
      "Fetching data for movie ID tt10545446 from OMDb...\n"
     ]
    },
    {
     "name": "stderr",
     "output_type": "stream",
     "text": [
      "Fetching movie data:  11%|██▏                | 296/2614 [02:02<14:24,  2.68it/s]"
     ]
    },
    {
     "name": "stdout",
     "output_type": "stream",
     "text": [
      "Fetching data for movie ID tt3730064 from OMDb...\n"
     ]
    },
    {
     "name": "stderr",
     "output_type": "stream",
     "text": [
      "Fetching movie data:  11%|██▏                | 297/2614 [02:02<15:11,  2.54it/s]"
     ]
    },
    {
     "name": "stdout",
     "output_type": "stream",
     "text": [
      "Fetching data for movie ID tt6243230 from OMDb...\n"
     ]
    },
    {
     "name": "stderr",
     "output_type": "stream",
     "text": [
      "Fetching movie data:  11%|██▏                | 298/2614 [02:03<14:43,  2.62it/s]"
     ]
    },
    {
     "name": "stdout",
     "output_type": "stream",
     "text": [
      "Fetching data for movie ID tt33256586 from OMDb...\n"
     ]
    },
    {
     "name": "stderr",
     "output_type": "stream",
     "text": [
      "Fetching movie data:  11%|██▏                | 299/2614 [02:03<14:52,  2.59it/s]"
     ]
    },
    {
     "name": "stdout",
     "output_type": "stream",
     "text": [
      "Fetching data for movie ID tt7958194 from OMDb...\n"
     ]
    },
    {
     "name": "stderr",
     "output_type": "stream",
     "text": [
      "Fetching movie data:  11%|██▏                | 300/2614 [02:03<14:23,  2.68it/s]"
     ]
    },
    {
     "name": "stdout",
     "output_type": "stream",
     "text": [
      "Fetching data for movie ID tt6047030 from OMDb...\n"
     ]
    },
    {
     "name": "stderr",
     "output_type": "stream",
     "text": [
      "Fetching movie data:  12%|██▏                | 301/2614 [02:04<14:59,  2.57it/s]"
     ]
    },
    {
     "name": "stdout",
     "output_type": "stream",
     "text": [
      "Fetching data for movie ID tt5805058 from OMDb...\n"
     ]
    },
    {
     "name": "stderr",
     "output_type": "stream",
     "text": [
      "Fetching movie data:  12%|██▏                | 302/2614 [02:04<16:20,  2.36it/s]"
     ]
    },
    {
     "name": "stdout",
     "output_type": "stream",
     "text": [
      "Fetching data for movie ID tt22939052 from OMDb...\n"
     ]
    },
    {
     "name": "stderr",
     "output_type": "stream",
     "text": [
      "Fetching movie data:  12%|██▏                | 303/2614 [02:05<15:53,  2.42it/s]"
     ]
    },
    {
     "name": "stdout",
     "output_type": "stream",
     "text": [
      "Fetching data for movie ID tt9248966 from OMDb...\n"
     ]
    },
    {
     "name": "stderr",
     "output_type": "stream",
     "text": [
      "Fetching movie data:  12%|██▏                | 304/2614 [02:05<15:07,  2.55it/s]"
     ]
    },
    {
     "name": "stdout",
     "output_type": "stream",
     "text": [
      "Fetching data for movie ID tt10462260 from OMDb...\n"
     ]
    },
    {
     "name": "stderr",
     "output_type": "stream",
     "text": [
      "Fetching movie data:  12%|██▏                | 305/2614 [02:05<15:17,  2.52it/s]"
     ]
    },
    {
     "name": "stdout",
     "output_type": "stream",
     "text": [
      "Fetching data for movie ID tt6961300 from OMDb...\n"
     ]
    },
    {
     "name": "stderr",
     "output_type": "stream",
     "text": [
      "Fetching movie data:  12%|██▏                | 306/2614 [02:06<14:43,  2.61it/s]"
     ]
    },
    {
     "name": "stdout",
     "output_type": "stream",
     "text": [
      "Fetching data for movie ID tt5655642 from OMDb...\n"
     ]
    },
    {
     "name": "stderr",
     "output_type": "stream",
     "text": [
      "Fetching movie data:  12%|██▏                | 307/2614 [02:06<14:20,  2.68it/s]"
     ]
    },
    {
     "name": "stdout",
     "output_type": "stream",
     "text": [
      "Fetching data for movie ID tt11122316 from OMDb...\n"
     ]
    },
    {
     "name": "stderr",
     "output_type": "stream",
     "text": [
      "Fetching movie data:  12%|██▏                | 308/2614 [02:07<14:47,  2.60it/s]"
     ]
    },
    {
     "name": "stdout",
     "output_type": "stream",
     "text": [
      "Fetching data for movie ID tt5214108 from OMDb...\n"
     ]
    },
    {
     "name": "stderr",
     "output_type": "stream",
     "text": [
      "Fetching movie data:  12%|██▏                | 309/2614 [02:07<14:29,  2.65it/s]"
     ]
    },
    {
     "name": "stdout",
     "output_type": "stream",
     "text": [
      "Fetching data for movie ID tt10300570 from OMDb...\n"
     ]
    },
    {
     "name": "stderr",
     "output_type": "stream",
     "text": [
      "Fetching movie data:  12%|██▎                | 310/2614 [02:07<15:08,  2.53it/s]"
     ]
    },
    {
     "name": "stdout",
     "output_type": "stream",
     "text": [
      "Progress saved after 36700 movies.\n",
      "Fetching data for movie ID tt6228518 from OMDb...\n"
     ]
    },
    {
     "name": "stderr",
     "output_type": "stream",
     "text": [
      "Fetching movie data:  12%|██▎                | 311/2614 [02:08<14:52,  2.58it/s]"
     ]
    },
    {
     "name": "stdout",
     "output_type": "stream",
     "text": [
      "Fetching data for movie ID tt11779688 from OMDb...\n"
     ]
    },
    {
     "name": "stderr",
     "output_type": "stream",
     "text": [
      "Fetching movie data:  12%|██▎                | 312/2614 [02:08<14:25,  2.66it/s]"
     ]
    },
    {
     "name": "stdout",
     "output_type": "stream",
     "text": [
      "Fetching data for movie ID tt26340586 from OMDb...\n"
     ]
    },
    {
     "name": "stderr",
     "output_type": "stream",
     "text": [
      "Fetching movie data:  12%|██▎                | 313/2614 [02:08<14:29,  2.65it/s]"
     ]
    },
    {
     "name": "stdout",
     "output_type": "stream",
     "text": [
      "Fetching data for movie ID tt2210955 from OMDb...\n"
     ]
    },
    {
     "name": "stderr",
     "output_type": "stream",
     "text": [
      "Fetching movie data:  12%|██▎                | 314/2614 [02:09<14:37,  2.62it/s]"
     ]
    },
    {
     "name": "stdout",
     "output_type": "stream",
     "text": [
      "Fetching data for movie ID tt9327942 from OMDb...\n"
     ]
    },
    {
     "name": "stderr",
     "output_type": "stream",
     "text": [
      "Fetching movie data:  12%|██▎                | 315/2614 [02:09<14:03,  2.73it/s]"
     ]
    },
    {
     "name": "stdout",
     "output_type": "stream",
     "text": [
      "Fetching data for movie ID tt10020682 from OMDb...\n"
     ]
    },
    {
     "name": "stderr",
     "output_type": "stream",
     "text": [
      "Fetching movie data:  12%|██▎                | 316/2614 [02:09<13:42,  2.79it/s]"
     ]
    },
    {
     "name": "stdout",
     "output_type": "stream",
     "text": [
      "Fetching data for movie ID tt10230576 from OMDb...\n"
     ]
    },
    {
     "name": "stderr",
     "output_type": "stream",
     "text": [
      "Fetching movie data:  12%|██▎                | 317/2614 [02:10<14:21,  2.67it/s]"
     ]
    },
    {
     "name": "stdout",
     "output_type": "stream",
     "text": [
      "Fetching data for movie ID tt3315408 from OMDb...\n"
     ]
    },
    {
     "name": "stderr",
     "output_type": "stream",
     "text": [
      "Fetching movie data:  12%|██▎                | 319/2614 [02:10<10:59,  3.48it/s]"
     ]
    },
    {
     "name": "stdout",
     "output_type": "stream",
     "text": [
      "Fetching data for movie ID tt4272866 from OMDb...\n",
      "Fetching data for movie ID tt9448868 from OMDb...\n"
     ]
    },
    {
     "name": "stderr",
     "output_type": "stream",
     "text": [
      "Fetching movie data:  12%|██▎                | 320/2614 [02:11<09:50,  3.88it/s]"
     ]
    },
    {
     "name": "stdout",
     "output_type": "stream",
     "text": [
      "Fetching data for movie ID tt10044220 from OMDb...\n"
     ]
    },
    {
     "name": "stderr",
     "output_type": "stream",
     "text": [
      "Fetching movie data:  12%|██▎                | 321/2614 [02:11<11:22,  3.36it/s]"
     ]
    },
    {
     "name": "stdout",
     "output_type": "stream",
     "text": [
      "Fetching data for movie ID tt7390054 from OMDb...\n"
     ]
    },
    {
     "name": "stderr",
     "output_type": "stream",
     "text": [
      "Fetching movie data:  12%|██▎                | 323/2614 [02:11<10:39,  3.58it/s]"
     ]
    },
    {
     "name": "stdout",
     "output_type": "stream",
     "text": [
      "Fetching data for movie ID tt4714454 from OMDb...\n",
      "Fetching data for movie ID tt9540702 from OMDb...\n"
     ]
    },
    {
     "name": "stderr",
     "output_type": "stream",
     "text": [
      "Fetching movie data:  12%|██▎                | 324/2614 [02:12<11:50,  3.22it/s]"
     ]
    },
    {
     "name": "stdout",
     "output_type": "stream",
     "text": [
      "Fetching data for movie ID tt16612140 from OMDb...\n"
     ]
    },
    {
     "name": "stderr",
     "output_type": "stream",
     "text": [
      "Fetching movie data:  12%|██▎                | 325/2614 [02:12<13:01,  2.93it/s]"
     ]
    },
    {
     "name": "stdout",
     "output_type": "stream",
     "text": [
      "Fetching data for movie ID tt5688108 from OMDb...\n"
     ]
    },
    {
     "name": "stderr",
     "output_type": "stream",
     "text": [
      "Fetching movie data:  12%|██▎                | 326/2614 [02:13<12:58,  2.94it/s]"
     ]
    },
    {
     "name": "stdout",
     "output_type": "stream",
     "text": [
      "Fetching data for movie ID tt34526586 from OMDb...\n"
     ]
    },
    {
     "name": "stderr",
     "output_type": "stream",
     "text": [
      "Fetching movie data:  13%|██▍                | 327/2614 [02:13<13:30,  2.82it/s]"
     ]
    },
    {
     "name": "stdout",
     "output_type": "stream",
     "text": [
      "Fetching data for movie ID tt21277048 from OMDb...\n"
     ]
    },
    {
     "name": "stderr",
     "output_type": "stream",
     "text": [
      "Fetching movie data:  13%|██▍                | 328/2614 [02:13<13:15,  2.87it/s]"
     ]
    },
    {
     "name": "stdout",
     "output_type": "stream",
     "text": [
      "Fetching data for movie ID tt13445934 from OMDb...\n"
     ]
    },
    {
     "name": "stderr",
     "output_type": "stream",
     "text": [
      "Fetching movie data:  13%|██▍                | 329/2614 [02:14<13:22,  2.85it/s]"
     ]
    },
    {
     "name": "stdout",
     "output_type": "stream",
     "text": [
      "Fetching data for movie ID tt3359476 from OMDb...\n"
     ]
    },
    {
     "name": "stderr",
     "output_type": "stream",
     "text": [
      "Fetching movie data:  13%|██▍                | 330/2614 [02:14<14:14,  2.67it/s]"
     ]
    },
    {
     "name": "stdout",
     "output_type": "stream",
     "text": [
      "Fetching data for movie ID tt6710212 from OMDb...\n"
     ]
    },
    {
     "name": "stderr",
     "output_type": "stream",
     "text": [
      "Fetching movie data:  13%|██▍                | 331/2614 [02:15<14:37,  2.60it/s]"
     ]
    },
    {
     "name": "stdout",
     "output_type": "stream",
     "text": [
      "Fetching data for movie ID tt3551770 from OMDb...\n"
     ]
    },
    {
     "name": "stderr",
     "output_type": "stream",
     "text": [
      "Fetching movie data:  13%|██▍                | 332/2614 [02:15<14:47,  2.57it/s]"
     ]
    },
    {
     "name": "stdout",
     "output_type": "stream",
     "text": [
      "Fetching data for movie ID tt16025108 from OMDb...\n"
     ]
    },
    {
     "name": "stderr",
     "output_type": "stream",
     "text": [
      "Fetching movie data:  13%|██▍                | 333/2614 [02:15<14:45,  2.58it/s]"
     ]
    },
    {
     "name": "stdout",
     "output_type": "stream",
     "text": [
      "Fetching data for movie ID tt9091008 from OMDb...\n"
     ]
    },
    {
     "name": "stderr",
     "output_type": "stream",
     "text": [
      "Fetching movie data:  13%|██▍                | 334/2614 [02:16<14:50,  2.56it/s]"
     ]
    },
    {
     "name": "stdout",
     "output_type": "stream",
     "text": [
      "Fetching data for movie ID tt5637568 from OMDb...\n"
     ]
    },
    {
     "name": "stderr",
     "output_type": "stream",
     "text": [
      "Fetching movie data:  13%|██▍                | 335/2614 [02:16<14:26,  2.63it/s]"
     ]
    },
    {
     "name": "stdout",
     "output_type": "stream",
     "text": [
      "Fetching data for movie ID tt11680986 from OMDb...\n"
     ]
    },
    {
     "name": "stderr",
     "output_type": "stream",
     "text": [
      "Fetching movie data:  13%|██▍                | 336/2614 [02:16<14:45,  2.57it/s]"
     ]
    },
    {
     "name": "stdout",
     "output_type": "stream",
     "text": [
      "Fetching data for movie ID tt15727970 from OMDb...\n"
     ]
    },
    {
     "name": "stderr",
     "output_type": "stream",
     "text": [
      "Fetching movie data:  13%|██▍                | 337/2614 [02:17<14:59,  2.53it/s]"
     ]
    },
    {
     "name": "stdout",
     "output_type": "stream",
     "text": [
      "Fetching data for movie ID tt7746270 from OMDb...\n"
     ]
    },
    {
     "name": "stderr",
     "output_type": "stream",
     "text": [
      "Fetching movie data:  13%|██▍                | 338/2614 [02:17<14:57,  2.53it/s]"
     ]
    },
    {
     "name": "stdout",
     "output_type": "stream",
     "text": [
      "Fetching data for movie ID tt7592934 from OMDb...\n"
     ]
    },
    {
     "name": "stderr",
     "output_type": "stream",
     "text": [
      "Fetching movie data:  13%|██▍                | 339/2614 [02:18<15:18,  2.48it/s]"
     ]
    },
    {
     "name": "stdout",
     "output_type": "stream",
     "text": [
      "Fetching data for movie ID tt3924450 from OMDb...\n",
      "Fetching data for movie ID tt26763551 from OMDb...\n"
     ]
    },
    {
     "name": "stderr",
     "output_type": "stream",
     "text": [
      "Fetching movie data:  13%|██▍                | 341/2614 [02:18<10:23,  3.65it/s]"
     ]
    },
    {
     "name": "stdout",
     "output_type": "stream",
     "text": [
      "Fetching data for movie ID tt8267532 from OMDb...\n"
     ]
    },
    {
     "name": "stderr",
     "output_type": "stream",
     "text": [
      "Fetching movie data:  13%|██▍                | 342/2614 [02:18<12:15,  3.09it/s]"
     ]
    },
    {
     "name": "stdout",
     "output_type": "stream",
     "text": [
      "Fetching data for movie ID tt14124038 from OMDb...\n",
      "Fetching data for movie ID tt12319964 from OMDb...\n"
     ]
    },
    {
     "name": "stderr",
     "output_type": "stream",
     "text": [
      "Fetching movie data:  13%|██▌                | 344/2614 [02:19<11:09,  3.39it/s]"
     ]
    },
    {
     "name": "stdout",
     "output_type": "stream",
     "text": [
      "Fetching data for movie ID tt10955384 from OMDb...\n"
     ]
    },
    {
     "name": "stderr",
     "output_type": "stream",
     "text": [
      "Fetching movie data:  13%|██▌                | 345/2614 [02:19<11:58,  3.16it/s]"
     ]
    },
    {
     "name": "stdout",
     "output_type": "stream",
     "text": [
      "Fetching data for movie ID tt10469928 from OMDb...\n"
     ]
    },
    {
     "name": "stderr",
     "output_type": "stream",
     "text": [
      "Fetching movie data:  13%|██▌                | 347/2614 [02:20<10:20,  3.65it/s]"
     ]
    },
    {
     "name": "stdout",
     "output_type": "stream",
     "text": [
      "Fetching data for movie ID tt35155463 from OMDb...\n",
      "Fetching data for movie ID tt15402842 from OMDb...\n"
     ]
    },
    {
     "name": "stderr",
     "output_type": "stream",
     "text": [
      "Fetching movie data:  13%|██▌                | 348/2614 [02:20<11:22,  3.32it/s]"
     ]
    },
    {
     "name": "stdout",
     "output_type": "stream",
     "text": [
      "Fetching data for movie ID tt5926914 from OMDb...\n"
     ]
    },
    {
     "name": "stderr",
     "output_type": "stream",
     "text": [
      "Fetching movie data:  13%|██▌                | 349/2614 [02:21<12:31,  3.01it/s]"
     ]
    },
    {
     "name": "stdout",
     "output_type": "stream",
     "text": [
      "Fetching data for movie ID tt12268472 from OMDb...\n"
     ]
    },
    {
     "name": "stderr",
     "output_type": "stream",
     "text": [
      "Fetching movie data:  13%|██▌                | 350/2614 [02:21<12:59,  2.90it/s]"
     ]
    },
    {
     "name": "stdout",
     "output_type": "stream",
     "text": [
      "Fetching data for movie ID tt16476202 from OMDb...\n"
     ]
    },
    {
     "name": "stderr",
     "output_type": "stream",
     "text": [
      "Fetching movie data:  13%|██▌                | 351/2614 [02:21<13:29,  2.80it/s]"
     ]
    },
    {
     "name": "stdout",
     "output_type": "stream",
     "text": [
      "Fetching data for movie ID tt12572972 from OMDb...\n",
      "Fetching data for movie ID tt8203706 from OMDb...\n"
     ]
    },
    {
     "name": "stderr",
     "output_type": "stream",
     "text": [
      "Fetching movie data:  14%|██▌                | 353/2614 [02:22<11:04,  3.40it/s]"
     ]
    },
    {
     "name": "stdout",
     "output_type": "stream",
     "text": [
      "Fetching data for movie ID tt32339528 from OMDb...\n"
     ]
    },
    {
     "name": "stderr",
     "output_type": "stream",
     "text": [
      "Fetching movie data:  14%|██▌                | 354/2614 [02:22<11:58,  3.15it/s]"
     ]
    },
    {
     "name": "stdout",
     "output_type": "stream",
     "text": [
      "Fetching data for movie ID tt14167118 from OMDb...\n"
     ]
    },
    {
     "name": "stderr",
     "output_type": "stream",
     "text": [
      "Fetching movie data:  14%|██▌                | 355/2614 [02:23<12:47,  2.94it/s]"
     ]
    },
    {
     "name": "stdout",
     "output_type": "stream",
     "text": [
      "Fetching data for movie ID tt5750608 from OMDb...\n"
     ]
    },
    {
     "name": "stderr",
     "output_type": "stream",
     "text": [
      "Fetching movie data:  14%|██▌                | 356/2614 [02:23<13:21,  2.82it/s]"
     ]
    },
    {
     "name": "stdout",
     "output_type": "stream",
     "text": [
      "Fetching data for movie ID tt4500956 from OMDb...\n"
     ]
    },
    {
     "name": "stderr",
     "output_type": "stream",
     "text": [
      "Fetching movie data:  14%|██▌                | 357/2614 [02:23<14:18,  2.63it/s]"
     ]
    },
    {
     "name": "stdout",
     "output_type": "stream",
     "text": [
      "Fetching data for movie ID tt9452304 from OMDb...\n"
     ]
    },
    {
     "name": "stderr",
     "output_type": "stream",
     "text": [
      "Fetching movie data:  14%|██▌                | 358/2614 [02:24<14:18,  2.63it/s]"
     ]
    },
    {
     "name": "stdout",
     "output_type": "stream",
     "text": [
      "Fetching data for movie ID tt10358912 from OMDb...\n"
     ]
    },
    {
     "name": "stderr",
     "output_type": "stream",
     "text": [
      "Fetching movie data:  14%|██▌                | 359/2614 [02:24<14:18,  2.63it/s]"
     ]
    },
    {
     "name": "stdout",
     "output_type": "stream",
     "text": [
      "Fetching data for movie ID tt7946936 from OMDb...\n"
     ]
    },
    {
     "name": "stderr",
     "output_type": "stream",
     "text": [
      "Fetching movie data:  14%|██▌                | 360/2614 [02:25<14:27,  2.60it/s]"
     ]
    },
    {
     "name": "stdout",
     "output_type": "stream",
     "text": [
      "Fetching data for movie ID tt9581786 from OMDb...\n"
     ]
    },
    {
     "name": "stderr",
     "output_type": "stream",
     "text": [
      "Fetching movie data:  14%|██▌                | 361/2614 [02:25<14:29,  2.59it/s]"
     ]
    },
    {
     "name": "stdout",
     "output_type": "stream",
     "text": [
      "Fetching data for movie ID tt10263986 from OMDb...\n"
     ]
    },
    {
     "name": "stderr",
     "output_type": "stream",
     "text": [
      "Fetching movie data:  14%|██▋                | 362/2614 [02:25<14:37,  2.57it/s]"
     ]
    },
    {
     "name": "stdout",
     "output_type": "stream",
     "text": [
      "Fetching data for movie ID tt6419594 from OMDb...\n"
     ]
    },
    {
     "name": "stderr",
     "output_type": "stream",
     "text": [
      "Fetching movie data:  14%|██▋                | 364/2614 [02:26<11:54,  3.15it/s]"
     ]
    },
    {
     "name": "stdout",
     "output_type": "stream",
     "text": [
      "Fetching data for movie ID tt5037692 from OMDb...\n",
      "Fetching data for movie ID tt12026324 from OMDb...\n"
     ]
    },
    {
     "name": "stderr",
     "output_type": "stream",
     "text": [
      "Fetching movie data:  14%|██▋                | 365/2614 [02:26<13:48,  2.72it/s]"
     ]
    },
    {
     "name": "stdout",
     "output_type": "stream",
     "text": [
      "Fetching data for movie ID tt13241608 from OMDb...\n"
     ]
    },
    {
     "name": "stderr",
     "output_type": "stream",
     "text": [
      "Fetching movie data:  14%|██▋                | 366/2614 [02:27<13:36,  2.75it/s]"
     ]
    },
    {
     "name": "stdout",
     "output_type": "stream",
     "text": [
      "Fetching data for movie ID tt28543819 from OMDb...\n"
     ]
    },
    {
     "name": "stderr",
     "output_type": "stream",
     "text": [
      "Fetching movie data:  14%|██▋                | 367/2614 [02:27<13:59,  2.68it/s]"
     ]
    },
    {
     "name": "stdout",
     "output_type": "stream",
     "text": [
      "Fetching data for movie ID tt27637335 from OMDb...\n"
     ]
    },
    {
     "name": "stderr",
     "output_type": "stream",
     "text": [
      "Fetching movie data:  14%|██▋                | 368/2614 [02:28<16:18,  2.30it/s]"
     ]
    },
    {
     "name": "stdout",
     "output_type": "stream",
     "text": [
      "Fetching data for movie ID tt13051728 from OMDb...\n"
     ]
    },
    {
     "name": "stderr",
     "output_type": "stream",
     "text": [
      "Fetching movie data:  14%|██▋                | 369/2614 [02:28<16:00,  2.34it/s]"
     ]
    },
    {
     "name": "stdout",
     "output_type": "stream",
     "text": [
      "Fetching data for movie ID tt12747222 from OMDb...\n"
     ]
    },
    {
     "name": "stderr",
     "output_type": "stream",
     "text": [
      "Fetching movie data:  14%|██▋                | 370/2614 [02:29<15:46,  2.37it/s]"
     ]
    },
    {
     "name": "stdout",
     "output_type": "stream",
     "text": [
      "Fetching data for movie ID tt6537990 from OMDb...\n"
     ]
    },
    {
     "name": "stderr",
     "output_type": "stream",
     "text": [
      "Fetching movie data:  14%|██▋                | 372/2614 [02:29<12:12,  3.06it/s]"
     ]
    },
    {
     "name": "stdout",
     "output_type": "stream",
     "text": [
      "Fetching data for movie ID tt35330350 from OMDb...\n",
      "Fetching data for movie ID tt6361308 from OMDb...\n"
     ]
    },
    {
     "name": "stderr",
     "output_type": "stream",
     "text": [
      "Fetching movie data:  14%|██▋                | 373/2614 [02:29<12:51,  2.91it/s]"
     ]
    },
    {
     "name": "stdout",
     "output_type": "stream",
     "text": [
      "Fetching data for movie ID tt7549012 from OMDb...\n"
     ]
    },
    {
     "name": "stderr",
     "output_type": "stream",
     "text": [
      "Fetching movie data:  14%|██▋                | 374/2614 [02:30<13:43,  2.72it/s]"
     ]
    },
    {
     "name": "stdout",
     "output_type": "stream",
     "text": [
      "Fetching data for movie ID tt3398322 from OMDb...\n"
     ]
    },
    {
     "name": "stderr",
     "output_type": "stream",
     "text": [
      "Fetching movie data:  14%|██▋                | 375/2614 [02:30<14:02,  2.66it/s]"
     ]
    },
    {
     "name": "stdout",
     "output_type": "stream",
     "text": [
      "Fetching data for movie ID tt13229154 from OMDb...\n"
     ]
    },
    {
     "name": "stderr",
     "output_type": "stream",
     "text": [
      "Fetching movie data:  14%|██▋                | 376/2614 [02:31<14:34,  2.56it/s]"
     ]
    },
    {
     "name": "stdout",
     "output_type": "stream",
     "text": [
      "Fetching data for movie ID tt10546990 from OMDb...\n"
     ]
    },
    {
     "name": "stderr",
     "output_type": "stream",
     "text": [
      "Fetching movie data:  14%|██▋                | 377/2614 [02:31<14:32,  2.56it/s]"
     ]
    },
    {
     "name": "stdout",
     "output_type": "stream",
     "text": [
      "Fetching data for movie ID tt4022534 from OMDb...\n"
     ]
    },
    {
     "name": "stderr",
     "output_type": "stream",
     "text": [
      "Fetching movie data:  14%|██▋                | 378/2614 [02:31<14:16,  2.61it/s]"
     ]
    },
    {
     "name": "stdout",
     "output_type": "stream",
     "text": [
      "Fetching data for movie ID tt4470260 from OMDb...\n"
     ]
    },
    {
     "name": "stderr",
     "output_type": "stream",
     "text": [
      "Fetching movie data:  14%|██▊                | 379/2614 [02:32<15:16,  2.44it/s]"
     ]
    },
    {
     "name": "stdout",
     "output_type": "stream",
     "text": [
      "Fetching data for movie ID tt21599078 from OMDb...\n"
     ]
    },
    {
     "name": "stderr",
     "output_type": "stream",
     "text": [
      "Fetching movie data:  15%|██▊                | 380/2614 [02:32<15:16,  2.44it/s]"
     ]
    },
    {
     "name": "stdout",
     "output_type": "stream",
     "text": [
      "Fetching data for movie ID tt5205814 from OMDb...\n"
     ]
    },
    {
     "name": "stderr",
     "output_type": "stream",
     "text": [
      "Fetching movie data:  15%|██▊                | 381/2614 [02:33<14:50,  2.51it/s]"
     ]
    },
    {
     "name": "stdout",
     "output_type": "stream",
     "text": [
      "Fetching data for movie ID tt5721734 from OMDb...\n"
     ]
    },
    {
     "name": "stderr",
     "output_type": "stream",
     "text": [
      "Fetching movie data:  15%|██▊                | 382/2614 [02:33<14:51,  2.50it/s]"
     ]
    },
    {
     "name": "stdout",
     "output_type": "stream",
     "text": [
      "Fetching data for movie ID tt16538910 from OMDb...\n"
     ]
    },
    {
     "name": "stderr",
     "output_type": "stream",
     "text": [
      "Fetching movie data:  15%|██▊                | 383/2614 [02:33<14:17,  2.60it/s]"
     ]
    },
    {
     "name": "stdout",
     "output_type": "stream",
     "text": [
      "Fetching data for movie ID tt7345948 from OMDb...\n"
     ]
    },
    {
     "name": "stderr",
     "output_type": "stream",
     "text": [
      "Fetching movie data:  15%|██▊                | 384/2614 [02:34<13:50,  2.68it/s]"
     ]
    },
    {
     "name": "stdout",
     "output_type": "stream",
     "text": [
      "Fetching data for movie ID tt15799522 from OMDb...\n"
     ]
    },
    {
     "name": "stderr",
     "output_type": "stream",
     "text": [
      "Fetching movie data:  15%|██▊                | 385/2614 [02:34<13:58,  2.66it/s]"
     ]
    },
    {
     "name": "stdout",
     "output_type": "stream",
     "text": [
      "Fetching data for movie ID tt3582166 from OMDb...\n"
     ]
    },
    {
     "name": "stderr",
     "output_type": "stream",
     "text": [
      "Fetching movie data:  15%|██▊                | 386/2614 [02:35<13:56,  2.66it/s]"
     ]
    },
    {
     "name": "stdout",
     "output_type": "stream",
     "text": [
      "Fetching data for movie ID tt6202264 from OMDb...\n"
     ]
    },
    {
     "name": "stderr",
     "output_type": "stream",
     "text": [
      "Fetching movie data:  15%|██▊                | 387/2614 [02:35<13:42,  2.71it/s]"
     ]
    },
    {
     "name": "stdout",
     "output_type": "stream",
     "text": [
      "Fetching data for movie ID tt30210397 from OMDb...\n"
     ]
    },
    {
     "name": "stderr",
     "output_type": "stream",
     "text": [
      "Fetching movie data:  15%|██▊                | 389/2614 [02:35<10:56,  3.39it/s]"
     ]
    },
    {
     "name": "stdout",
     "output_type": "stream",
     "text": [
      "Fetching data for movie ID tt16426418 from OMDb...\n",
      "Fetching data for movie ID tt6997344 from OMDb...\n"
     ]
    },
    {
     "name": "stderr",
     "output_type": "stream",
     "text": [
      "Fetching movie data:  15%|██▊                | 390/2614 [02:36<12:15,  3.02it/s]"
     ]
    },
    {
     "name": "stdout",
     "output_type": "stream",
     "text": [
      "Fetching data for movie ID tt8063272 from OMDb...\n"
     ]
    },
    {
     "name": "stderr",
     "output_type": "stream",
     "text": [
      "Fetching movie data:  15%|██▊                | 391/2614 [02:36<12:37,  2.94it/s]"
     ]
    },
    {
     "name": "stdout",
     "output_type": "stream",
     "text": [
      "Fetching data for movie ID tt32397514 from OMDb...\n",
      "Fetching data for movie ID tt28252641 from OMDb...\n"
     ]
    },
    {
     "name": "stderr",
     "output_type": "stream",
     "text": [
      "Fetching movie data:  15%|██▊                | 393/2614 [02:37<10:25,  3.55it/s]"
     ]
    },
    {
     "name": "stdout",
     "output_type": "stream",
     "text": [
      "Fetching data for movie ID tt9740952 from OMDb...\n"
     ]
    },
    {
     "name": "stderr",
     "output_type": "stream",
     "text": [
      "Fetching movie data:  15%|██▊                | 394/2614 [02:37<11:23,  3.25it/s]"
     ]
    },
    {
     "name": "stdout",
     "output_type": "stream",
     "text": [
      "Fetching data for movie ID tt8497278 from OMDb...\n"
     ]
    },
    {
     "name": "stderr",
     "output_type": "stream",
     "text": [
      "Fetching movie data:  15%|██▊                | 395/2614 [02:37<11:54,  3.11it/s]"
     ]
    },
    {
     "name": "stdout",
     "output_type": "stream",
     "text": [
      "Fetching data for movie ID tt3816908 from OMDb...\n",
      "Fetching data for movie ID tt10645852 from OMDb...\n"
     ]
    },
    {
     "name": "stderr",
     "output_type": "stream",
     "text": [
      "Fetching movie data:  15%|██▉                | 397/2614 [02:38<10:51,  3.40it/s]"
     ]
    },
    {
     "name": "stdout",
     "output_type": "stream",
     "text": [
      "Fetching data for movie ID tt5948688 from OMDb...\n"
     ]
    },
    {
     "name": "stderr",
     "output_type": "stream",
     "text": [
      "Fetching movie data:  15%|██▉                | 398/2614 [02:38<11:50,  3.12it/s]"
     ]
    },
    {
     "name": "stdout",
     "output_type": "stream",
     "text": [
      "Fetching data for movie ID tt14857846 from OMDb...\n"
     ]
    },
    {
     "name": "stderr",
     "output_type": "stream",
     "text": [
      "Fetching movie data:  15%|██▉                | 399/2614 [02:39<12:38,  2.92it/s]"
     ]
    },
    {
     "name": "stdout",
     "output_type": "stream",
     "text": [
      "Fetching data for movie ID tt10820724 from OMDb...\n"
     ]
    },
    {
     "name": "stderr",
     "output_type": "stream",
     "text": [
      "Fetching movie data:  15%|██▉                | 400/2614 [02:39<13:12,  2.79it/s]"
     ]
    },
    {
     "name": "stdout",
     "output_type": "stream",
     "text": [
      "Fetching data for movie ID tt12231584 from OMDb...\n"
     ]
    },
    {
     "name": "stderr",
     "output_type": "stream",
     "text": [
      "Fetching movie data:  15%|██▉                | 402/2614 [02:40<11:48,  3.12it/s]"
     ]
    },
    {
     "name": "stdout",
     "output_type": "stream",
     "text": [
      "Fetching data for movie ID tt10534996 from OMDb...\n",
      "Fetching data for movie ID tt5241950 from OMDb...\n"
     ]
    },
    {
     "name": "stderr",
     "output_type": "stream",
     "text": [
      "Fetching movie data:  15%|██▉                | 403/2614 [02:40<13:00,  2.83it/s]"
     ]
    },
    {
     "name": "stdout",
     "output_type": "stream",
     "text": [
      "Fetching data for movie ID tt10923312 from OMDb...\n"
     ]
    },
    {
     "name": "stderr",
     "output_type": "stream",
     "text": [
      "Fetching movie data:  15%|██▉                | 404/2614 [02:40<13:07,  2.81it/s]"
     ]
    },
    {
     "name": "stdout",
     "output_type": "stream",
     "text": [
      "Fetching data for movie ID tt3793544 from OMDb...\n"
     ]
    },
    {
     "name": "stderr",
     "output_type": "stream",
     "text": [
      "Fetching movie data:  15%|██▉                | 405/2614 [02:41<12:59,  2.83it/s]"
     ]
    },
    {
     "name": "stdout",
     "output_type": "stream",
     "text": [
      "Fetching data for movie ID tt13789706 from OMDb...\n"
     ]
    },
    {
     "name": "stderr",
     "output_type": "stream",
     "text": [
      "Fetching movie data:  16%|██▉                | 407/2614 [02:41<10:26,  3.52it/s]"
     ]
    },
    {
     "name": "stdout",
     "output_type": "stream",
     "text": [
      "Fetching data for movie ID tt2935476 from OMDb...\n",
      "Fetching data for movie ID tt9204072 from OMDb...\n"
     ]
    },
    {
     "name": "stderr",
     "output_type": "stream",
     "text": [
      "Fetching movie data:  16%|██▉                | 408/2614 [02:42<11:15,  3.27it/s]"
     ]
    },
    {
     "name": "stdout",
     "output_type": "stream",
     "text": [
      "Fetching data for movie ID tt4625502 from OMDb...\n"
     ]
    },
    {
     "name": "stderr",
     "output_type": "stream",
     "text": [
      "Fetching movie data:  16%|██▉                | 409/2614 [02:42<12:22,  2.97it/s]"
     ]
    },
    {
     "name": "stdout",
     "output_type": "stream",
     "text": [
      "Fetching data for movie ID tt22507524 from OMDb...\n"
     ]
    },
    {
     "name": "stderr",
     "output_type": "stream",
     "text": [
      "Fetching movie data:  16%|██▉                | 410/2614 [02:42<13:03,  2.81it/s]"
     ]
    },
    {
     "name": "stdout",
     "output_type": "stream",
     "text": [
      "Fetching data for movie ID tt15894430 from OMDb...\n"
     ]
    },
    {
     "name": "stderr",
     "output_type": "stream",
     "text": [
      "Fetching movie data:  16%|██▉                | 412/2614 [02:43<10:47,  3.40it/s]"
     ]
    },
    {
     "name": "stdout",
     "output_type": "stream",
     "text": [
      "Fetching data for movie ID tt4595882 from OMDb...\n",
      "Fetching data for movie ID tt23769432 from OMDb...\n"
     ]
    },
    {
     "name": "stderr",
     "output_type": "stream",
     "text": [
      "Fetching movie data:  16%|███                | 413/2614 [02:43<12:46,  2.87it/s]"
     ]
    },
    {
     "name": "stdout",
     "output_type": "stream",
     "text": [
      "Progress saved after 36800 movies.\n",
      "Fetching data for movie ID tt9351156 from OMDb...\n"
     ]
    },
    {
     "name": "stderr",
     "output_type": "stream",
     "text": [
      "Fetching movie data:  16%|███                | 414/2614 [02:44<13:17,  2.76it/s]"
     ]
    },
    {
     "name": "stdout",
     "output_type": "stream",
     "text": [
      "Fetching data for movie ID tt11506054 from OMDb...\n"
     ]
    },
    {
     "name": "stderr",
     "output_type": "stream",
     "text": [
      "Fetching movie data:  16%|███                | 415/2614 [02:44<13:16,  2.76it/s]"
     ]
    },
    {
     "name": "stdout",
     "output_type": "stream",
     "text": [
      "Fetching data for movie ID tt4696666 from OMDb...\n"
     ]
    },
    {
     "name": "stderr",
     "output_type": "stream",
     "text": [
      "Fetching movie data:  16%|███                | 416/2614 [02:45<13:46,  2.66it/s]"
     ]
    },
    {
     "name": "stdout",
     "output_type": "stream",
     "text": [
      "Fetching data for movie ID tt35108454 from OMDb...\n",
      "Fetching data for movie ID tt7083122 from OMDb...\n"
     ]
    },
    {
     "name": "stderr",
     "output_type": "stream",
     "text": [
      "Fetching movie data:  16%|███                | 418/2614 [02:45<11:07,  3.29it/s]"
     ]
    },
    {
     "name": "stdout",
     "output_type": "stream",
     "text": [
      "Fetching data for movie ID tt21098722 from OMDb...\n"
     ]
    },
    {
     "name": "stderr",
     "output_type": "stream",
     "text": [
      "Fetching movie data:  16%|███                | 419/2614 [02:45<11:22,  3.22it/s]"
     ]
    },
    {
     "name": "stdout",
     "output_type": "stream",
     "text": [
      "Fetching data for movie ID tt7827918 from OMDb...\n"
     ]
    },
    {
     "name": "stderr",
     "output_type": "stream",
     "text": [
      "Fetching movie data:  16%|███                | 421/2614 [02:46<10:33,  3.46it/s]"
     ]
    },
    {
     "name": "stdout",
     "output_type": "stream",
     "text": [
      "Fetching data for movie ID tt15044018 from OMDb...\n",
      "Fetching data for movie ID tt28513338 from OMDb...\n"
     ]
    },
    {
     "name": "stderr",
     "output_type": "stream",
     "text": [
      "Fetching movie data:  16%|███                | 422/2614 [02:46<12:38,  2.89it/s]"
     ]
    },
    {
     "name": "stdout",
     "output_type": "stream",
     "text": [
      "Fetching data for movie ID tt21975392 from OMDb...\n"
     ]
    },
    {
     "name": "stderr",
     "output_type": "stream",
     "text": [
      "Fetching movie data:  16%|███                | 423/2614 [02:47<12:44,  2.87it/s]"
     ]
    },
    {
     "name": "stdout",
     "output_type": "stream",
     "text": [
      "Fetching data for movie ID tt6448024 from OMDb...\n"
     ]
    },
    {
     "name": "stderr",
     "output_type": "stream",
     "text": [
      "Fetching movie data:  16%|███                | 424/2614 [02:47<13:13,  2.76it/s]"
     ]
    },
    {
     "name": "stdout",
     "output_type": "stream",
     "text": [
      "Fetching data for movie ID tt3868492 from OMDb...\n"
     ]
    },
    {
     "name": "stderr",
     "output_type": "stream",
     "text": [
      "Fetching movie data:  16%|███                | 425/2614 [02:48<13:21,  2.73it/s]"
     ]
    },
    {
     "name": "stdout",
     "output_type": "stream",
     "text": [
      "Fetching data for movie ID tt9622618 from OMDb...\n"
     ]
    },
    {
     "name": "stderr",
     "output_type": "stream",
     "text": [
      "Fetching movie data:  16%|███                | 426/2614 [02:48<13:27,  2.71it/s]"
     ]
    },
    {
     "name": "stdout",
     "output_type": "stream",
     "text": [
      "Fetching data for movie ID tt26678266 from OMDb...\n"
     ]
    },
    {
     "name": "stderr",
     "output_type": "stream",
     "text": [
      "Fetching movie data:  16%|███                | 427/2614 [02:48<14:13,  2.56it/s]"
     ]
    },
    {
     "name": "stdout",
     "output_type": "stream",
     "text": [
      "Fetching data for movie ID tt34568762 from OMDb...\n"
     ]
    },
    {
     "name": "stderr",
     "output_type": "stream",
     "text": [
      "Fetching movie data:  16%|███                | 428/2614 [02:49<14:07,  2.58it/s]"
     ]
    },
    {
     "name": "stdout",
     "output_type": "stream",
     "text": [
      "Fetching data for movie ID tt10483684 from OMDb...\n"
     ]
    },
    {
     "name": "stderr",
     "output_type": "stream",
     "text": [
      "Fetching movie data:  16%|███                | 429/2614 [02:49<13:44,  2.65it/s]"
     ]
    },
    {
     "name": "stdout",
     "output_type": "stream",
     "text": [
      "Fetching data for movie ID tt32543468 from OMDb...\n"
     ]
    },
    {
     "name": "stderr",
     "output_type": "stream",
     "text": [
      "Fetching movie data:  16%|███▏               | 430/2614 [02:50<15:00,  2.42it/s]"
     ]
    },
    {
     "name": "stdout",
     "output_type": "stream",
     "text": [
      "Fetching data for movie ID tt15028138 from OMDb...\n"
     ]
    },
    {
     "name": "stderr",
     "output_type": "stream",
     "text": [
      "Fetching movie data:  16%|███▏               | 431/2614 [02:50<16:06,  2.26it/s]"
     ]
    },
    {
     "name": "stdout",
     "output_type": "stream",
     "text": [
      "Fetching data for movie ID tt35194482 from OMDb...\n",
      "Fetching data for movie ID tt32079028 from OMDb...\n"
     ]
    },
    {
     "name": "stderr",
     "output_type": "stream",
     "text": [
      "Fetching movie data:  17%|███▏               | 433/2614 [02:51<12:59,  2.80it/s]"
     ]
    },
    {
     "name": "stdout",
     "output_type": "stream",
     "text": [
      "Fetching data for movie ID tt15584124 from OMDb...\n"
     ]
    },
    {
     "name": "stderr",
     "output_type": "stream",
     "text": [
      "Fetching movie data:  17%|███▏               | 434/2614 [02:51<13:24,  2.71it/s]"
     ]
    },
    {
     "name": "stdout",
     "output_type": "stream",
     "text": [
      "Fetching data for movie ID tt11121664 from OMDb...\n"
     ]
    },
    {
     "name": "stderr",
     "output_type": "stream",
     "text": [
      "Fetching movie data:  17%|███▏               | 435/2614 [02:52<14:40,  2.47it/s]"
     ]
    },
    {
     "name": "stdout",
     "output_type": "stream",
     "text": [
      "Fetching data for movie ID tt27126014 from OMDb...\n"
     ]
    },
    {
     "name": "stderr",
     "output_type": "stream",
     "text": [
      "Fetching movie data:  17%|███▏               | 436/2614 [02:52<14:10,  2.56it/s]"
     ]
    },
    {
     "name": "stdout",
     "output_type": "stream",
     "text": [
      "Fetching data for movie ID tt10964430 from OMDb...\n"
     ]
    },
    {
     "name": "stderr",
     "output_type": "stream",
     "text": [
      "Fetching movie data:  17%|███▏               | 437/2614 [02:52<14:51,  2.44it/s]"
     ]
    },
    {
     "name": "stdout",
     "output_type": "stream",
     "text": [
      "Fetching data for movie ID tt4154118 from OMDb...\n"
     ]
    },
    {
     "name": "stderr",
     "output_type": "stream",
     "text": [
      "Fetching movie data:  17%|███▏               | 438/2614 [02:53<14:44,  2.46it/s]"
     ]
    },
    {
     "name": "stdout",
     "output_type": "stream",
     "text": [
      "Fetching data for movie ID tt8017398 from OMDb...\n"
     ]
    },
    {
     "name": "stderr",
     "output_type": "stream",
     "text": [
      "Fetching movie data:  17%|███▏               | 439/2614 [02:53<14:40,  2.47it/s]"
     ]
    },
    {
     "name": "stdout",
     "output_type": "stream",
     "text": [
      "Fetching data for movie ID tt6078840 from OMDb...\n"
     ]
    },
    {
     "name": "stderr",
     "output_type": "stream",
     "text": [
      "Fetching movie data:  17%|███▏               | 441/2614 [02:54<11:14,  3.22it/s]"
     ]
    },
    {
     "name": "stdout",
     "output_type": "stream",
     "text": [
      "Fetching data for movie ID tt35003847 from OMDb...\n",
      "Fetching data for movie ID tt23648222 from OMDb...\n"
     ]
    },
    {
     "name": "stderr",
     "output_type": "stream",
     "text": [
      "Fetching movie data:  17%|███▏               | 442/2614 [02:54<13:08,  2.75it/s]"
     ]
    },
    {
     "name": "stdout",
     "output_type": "stream",
     "text": [
      "Fetching data for movie ID tt13027048 from OMDb...\n"
     ]
    },
    {
     "name": "stderr",
     "output_type": "stream",
     "text": [
      "Fetching movie data:  17%|███▏               | 443/2614 [02:55<13:37,  2.65it/s]"
     ]
    },
    {
     "name": "stdout",
     "output_type": "stream",
     "text": [
      "Fetching data for movie ID tt11644218 from OMDb...\n"
     ]
    },
    {
     "name": "stderr",
     "output_type": "stream",
     "text": [
      "Fetching movie data:  17%|███▏               | 444/2614 [02:55<13:57,  2.59it/s]"
     ]
    },
    {
     "name": "stdout",
     "output_type": "stream",
     "text": [
      "Fetching data for movie ID tt3277468 from OMDb...\n"
     ]
    },
    {
     "name": "stderr",
     "output_type": "stream",
     "text": [
      "Fetching movie data:  17%|███▏               | 445/2614 [02:55<13:37,  2.65it/s]"
     ]
    },
    {
     "name": "stdout",
     "output_type": "stream",
     "text": [
      "Fetching data for movie ID tt15426686 from OMDb...\n"
     ]
    },
    {
     "name": "stderr",
     "output_type": "stream",
     "text": [
      "Fetching movie data:  17%|███▏               | 446/2614 [02:56<14:35,  2.48it/s]"
     ]
    },
    {
     "name": "stdout",
     "output_type": "stream",
     "text": [
      "Fetching data for movie ID tt27216733 from OMDb...\n"
     ]
    },
    {
     "name": "stderr",
     "output_type": "stream",
     "text": [
      "Fetching movie data:  17%|███▏               | 447/2614 [02:56<14:37,  2.47it/s]"
     ]
    },
    {
     "name": "stdout",
     "output_type": "stream",
     "text": [
      "Fetching data for movie ID tt13273980 from OMDb...\n"
     ]
    },
    {
     "name": "stderr",
     "output_type": "stream",
     "text": [
      "Fetching movie data:  17%|███▎               | 448/2614 [02:57<14:46,  2.44it/s]"
     ]
    },
    {
     "name": "stdout",
     "output_type": "stream",
     "text": [
      "Fetching data for movie ID tt7476790 from OMDb...\n"
     ]
    },
    {
     "name": "stderr",
     "output_type": "stream",
     "text": [
      "Fetching movie data:  17%|███▎               | 449/2614 [02:57<14:41,  2.46it/s]"
     ]
    },
    {
     "name": "stdout",
     "output_type": "stream",
     "text": [
      "Fetching data for movie ID tt16345484 from OMDb...\n"
     ]
    },
    {
     "name": "stderr",
     "output_type": "stream",
     "text": [
      "Fetching movie data:  17%|███▎               | 450/2614 [02:57<14:06,  2.56it/s]"
     ]
    },
    {
     "name": "stdout",
     "output_type": "stream",
     "text": [
      "Fetching data for movie ID tt15445948 from OMDb...\n"
     ]
    },
    {
     "name": "stderr",
     "output_type": "stream",
     "text": [
      "Fetching movie data:  17%|███▎               | 451/2614 [02:58<13:46,  2.62it/s]"
     ]
    },
    {
     "name": "stdout",
     "output_type": "stream",
     "text": [
      "Fetching data for movie ID tt15190398 from OMDb...\n"
     ]
    },
    {
     "name": "stderr",
     "output_type": "stream",
     "text": [
      "Fetching movie data:  17%|███▎               | 452/2614 [02:58<15:12,  2.37it/s]"
     ]
    },
    {
     "name": "stdout",
     "output_type": "stream",
     "text": [
      "Fetching data for movie ID tt13197974 from OMDb...\n"
     ]
    },
    {
     "name": "stderr",
     "output_type": "stream",
     "text": [
      "Fetching movie data:  17%|███▎               | 453/2614 [02:59<15:01,  2.40it/s]"
     ]
    },
    {
     "name": "stdout",
     "output_type": "stream",
     "text": [
      "Fetching data for movie ID tt3118840 from OMDb...\n"
     ]
    },
    {
     "name": "stderr",
     "output_type": "stream",
     "text": [
      "Fetching movie data:  17%|███▎               | 454/2614 [02:59<14:58,  2.41it/s]"
     ]
    },
    {
     "name": "stdout",
     "output_type": "stream",
     "text": [
      "Fetching data for movie ID tt23838102 from OMDb...\n"
     ]
    },
    {
     "name": "stderr",
     "output_type": "stream",
     "text": [
      "Fetching movie data:  17%|███▎               | 455/2614 [02:59<15:06,  2.38it/s]"
     ]
    },
    {
     "name": "stdout",
     "output_type": "stream",
     "text": [
      "Fetching data for movie ID tt30138224 from OMDb...\n"
     ]
    },
    {
     "name": "stderr",
     "output_type": "stream",
     "text": [
      "Fetching movie data:  17%|███▎               | 456/2614 [03:00<15:52,  2.27it/s]"
     ]
    },
    {
     "name": "stdout",
     "output_type": "stream",
     "text": [
      "Fetching data for movie ID tt15891966 from OMDb...\n"
     ]
    },
    {
     "name": "stderr",
     "output_type": "stream",
     "text": [
      "Fetching movie data:  17%|███▎               | 457/2614 [03:00<15:30,  2.32it/s]"
     ]
    },
    {
     "name": "stdout",
     "output_type": "stream",
     "text": [
      "Fetching data for movie ID tt9824012 from OMDb...\n"
     ]
    },
    {
     "name": "stderr",
     "output_type": "stream",
     "text": [
      "Fetching movie data:  18%|███▎               | 458/2614 [03:01<15:15,  2.35it/s]"
     ]
    },
    {
     "name": "stdout",
     "output_type": "stream",
     "text": [
      "Fetching data for movie ID tt12180560 from OMDb...\n"
     ]
    },
    {
     "name": "stderr",
     "output_type": "stream",
     "text": [
      "Fetching movie data:  18%|███▎               | 459/2614 [03:01<15:08,  2.37it/s]"
     ]
    },
    {
     "name": "stdout",
     "output_type": "stream",
     "text": [
      "Fetching data for movie ID tt7916478 from OMDb...\n"
     ]
    },
    {
     "name": "stderr",
     "output_type": "stream",
     "text": [
      "Fetching movie data:  18%|███▎               | 460/2614 [03:02<14:11,  2.53it/s]"
     ]
    },
    {
     "name": "stdout",
     "output_type": "stream",
     "text": [
      "Fetching data for movie ID tt14852118 from OMDb...\n"
     ]
    },
    {
     "name": "stderr",
     "output_type": "stream",
     "text": [
      "Fetching movie data:  18%|███▎               | 461/2614 [03:02<15:07,  2.37it/s]"
     ]
    },
    {
     "name": "stdout",
     "output_type": "stream",
     "text": [
      "Fetching data for movie ID tt4109046 from OMDb...\n"
     ]
    },
    {
     "name": "stderr",
     "output_type": "stream",
     "text": [
      "Fetching movie data:  18%|███▎               | 462/2614 [03:02<14:25,  2.49it/s]"
     ]
    },
    {
     "name": "stdout",
     "output_type": "stream",
     "text": [
      "Fetching data for movie ID tt12295080 from OMDb...\n"
     ]
    },
    {
     "name": "stderr",
     "output_type": "stream",
     "text": [
      "Fetching movie data:  18%|███▎               | 463/2614 [03:03<15:03,  2.38it/s]"
     ]
    },
    {
     "name": "stdout",
     "output_type": "stream",
     "text": [
      "Fetching data for movie ID tt5561526 from OMDb...\n"
     ]
    },
    {
     "name": "stderr",
     "output_type": "stream",
     "text": [
      "Fetching movie data:  18%|███▎               | 464/2614 [03:03<14:23,  2.49it/s]"
     ]
    },
    {
     "name": "stdout",
     "output_type": "stream",
     "text": [
      "Fetching data for movie ID tt32478145 from OMDb...\n"
     ]
    },
    {
     "name": "stderr",
     "output_type": "stream",
     "text": [
      "Fetching movie data:  18%|███▍               | 465/2614 [03:04<16:06,  2.22it/s]"
     ]
    },
    {
     "name": "stdout",
     "output_type": "stream",
     "text": [
      "Fetching data for movie ID tt15386680 from OMDb...\n"
     ]
    },
    {
     "name": "stderr",
     "output_type": "stream",
     "text": [
      "Fetching movie data:  18%|███▍               | 466/2614 [03:04<15:19,  2.34it/s]"
     ]
    },
    {
     "name": "stdout",
     "output_type": "stream",
     "text": [
      "Fetching data for movie ID tt27238277 from OMDb...\n"
     ]
    },
    {
     "name": "stderr",
     "output_type": "stream",
     "text": [
      "Fetching movie data:  18%|███▍               | 467/2614 [03:05<14:37,  2.45it/s]"
     ]
    },
    {
     "name": "stdout",
     "output_type": "stream",
     "text": [
      "Fetching data for movie ID tt1630029 from OMDb...\n"
     ]
    },
    {
     "name": "stderr",
     "output_type": "stream",
     "text": [
      "Fetching movie data:  18%|███▍               | 468/2614 [03:05<13:56,  2.57it/s]"
     ]
    },
    {
     "name": "stdout",
     "output_type": "stream",
     "text": [
      "Fetching data for movie ID tt10612572 from OMDb...\n"
     ]
    },
    {
     "name": "stderr",
     "output_type": "stream",
     "text": [
      "Fetching movie data:  18%|███▍               | 469/2614 [03:05<14:29,  2.47it/s]"
     ]
    },
    {
     "name": "stdout",
     "output_type": "stream",
     "text": [
      "Fetching data for movie ID tt5181448 from OMDb...\n"
     ]
    },
    {
     "name": "stderr",
     "output_type": "stream",
     "text": [
      "Fetching movie data:  18%|███▍               | 470/2614 [03:06<14:02,  2.55it/s]"
     ]
    },
    {
     "name": "stdout",
     "output_type": "stream",
     "text": [
      "Fetching data for movie ID tt20232522 from OMDb...\n"
     ]
    },
    {
     "name": "stderr",
     "output_type": "stream",
     "text": [
      "Fetching movie data:  18%|███▍               | 472/2614 [03:06<11:10,  3.19it/s]"
     ]
    },
    {
     "name": "stdout",
     "output_type": "stream",
     "text": [
      "Fetching data for movie ID tt11372324 from OMDb...\n",
      "Fetching data for movie ID tt19815990 from OMDb...\n"
     ]
    },
    {
     "name": "stderr",
     "output_type": "stream",
     "text": [
      "Fetching movie data:  18%|███▍               | 473/2614 [03:07<12:44,  2.80it/s]"
     ]
    },
    {
     "name": "stdout",
     "output_type": "stream",
     "text": [
      "Fetching data for movie ID tt8835722 from OMDb...\n"
     ]
    },
    {
     "name": "stderr",
     "output_type": "stream",
     "text": [
      "Fetching movie data:  18%|███▍               | 474/2614 [03:07<12:59,  2.75it/s]"
     ]
    },
    {
     "name": "stdout",
     "output_type": "stream",
     "text": [
      "Fetching data for movie ID tt15263948 from OMDb...\n"
     ]
    },
    {
     "name": "stderr",
     "output_type": "stream",
     "text": [
      "Fetching movie data:  18%|███▍               | 476/2614 [03:07<10:07,  3.52it/s]"
     ]
    },
    {
     "name": "stdout",
     "output_type": "stream",
     "text": [
      "Fetching data for movie ID tt3695036 from OMDb...\n",
      "Fetching data for movie ID tt12490740 from OMDb...\n"
     ]
    },
    {
     "name": "stderr",
     "output_type": "stream",
     "text": [
      "Fetching movie data:  18%|███▍               | 477/2614 [03:08<11:15,  3.16it/s]"
     ]
    },
    {
     "name": "stdout",
     "output_type": "stream",
     "text": [
      "Fetching data for movie ID tt27946342 from OMDb...\n"
     ]
    },
    {
     "name": "stderr",
     "output_type": "stream",
     "text": [
      "Fetching movie data:  18%|███▍               | 478/2614 [03:08<12:17,  2.90it/s]"
     ]
    },
    {
     "name": "stdout",
     "output_type": "stream",
     "text": [
      "Fetching data for movie ID tt9488378 from OMDb...\n"
     ]
    },
    {
     "name": "stderr",
     "output_type": "stream",
     "text": [
      "Fetching movie data:  18%|███▍               | 479/2614 [03:09<12:56,  2.75it/s]"
     ]
    },
    {
     "name": "stdout",
     "output_type": "stream",
     "text": [
      "Fetching data for movie ID tt15282170 from OMDb...\n"
     ]
    },
    {
     "name": "stderr",
     "output_type": "stream",
     "text": [
      "Fetching movie data:  18%|███▍               | 480/2614 [03:09<13:03,  2.72it/s]"
     ]
    },
    {
     "name": "stdout",
     "output_type": "stream",
     "text": [
      "Fetching data for movie ID tt10467350 from OMDb...\n"
     ]
    },
    {
     "name": "stderr",
     "output_type": "stream",
     "text": [
      "Fetching movie data:  18%|███▍               | 481/2614 [03:09<13:16,  2.68it/s]"
     ]
    },
    {
     "name": "stdout",
     "output_type": "stream",
     "text": [
      "Fetching data for movie ID tt16487014 from OMDb...\n"
     ]
    },
    {
     "name": "stderr",
     "output_type": "stream",
     "text": [
      "Fetching movie data:  18%|███▌               | 482/2614 [03:10<13:59,  2.54it/s]"
     ]
    },
    {
     "name": "stdout",
     "output_type": "stream",
     "text": [
      "Fetching data for movie ID tt5842772 from OMDb...\n"
     ]
    },
    {
     "name": "stderr",
     "output_type": "stream",
     "text": [
      "Fetching movie data:  18%|███▌               | 483/2614 [03:10<14:27,  2.46it/s]"
     ]
    },
    {
     "name": "stdout",
     "output_type": "stream",
     "text": [
      "Fetching data for movie ID tt33616544 from OMDb...\n"
     ]
    },
    {
     "name": "stderr",
     "output_type": "stream",
     "text": [
      "Fetching movie data:  19%|███▌               | 484/2614 [03:11<14:25,  2.46it/s]"
     ]
    },
    {
     "name": "stdout",
     "output_type": "stream",
     "text": [
      "Fetching data for movie ID tt7342204 from OMDb...\n"
     ]
    },
    {
     "name": "stderr",
     "output_type": "stream",
     "text": [
      "Fetching movie data:  19%|███▌               | 485/2614 [03:11<14:16,  2.49it/s]"
     ]
    },
    {
     "name": "stdout",
     "output_type": "stream",
     "text": [
      "Fetching data for movie ID tt3470600 from OMDb...\n"
     ]
    },
    {
     "name": "stderr",
     "output_type": "stream",
     "text": [
      "Fetching movie data:  19%|███▌               | 486/2614 [03:12<15:36,  2.27it/s]"
     ]
    },
    {
     "name": "stdout",
     "output_type": "stream",
     "text": [
      "Fetching data for movie ID tt5696588 from OMDb...\n"
     ]
    },
    {
     "name": "stderr",
     "output_type": "stream",
     "text": [
      "Fetching movie data:  19%|███▌               | 487/2614 [03:12<15:17,  2.32it/s]"
     ]
    },
    {
     "name": "stdout",
     "output_type": "stream",
     "text": [
      "Fetching data for movie ID tt2883218 from OMDb...\n"
     ]
    },
    {
     "name": "stderr",
     "output_type": "stream",
     "text": [
      "Fetching movie data:  19%|███▌               | 488/2614 [03:12<14:47,  2.39it/s]"
     ]
    },
    {
     "name": "stdout",
     "output_type": "stream",
     "text": [
      "Fetching data for movie ID tt11510804 from OMDb...\n"
     ]
    },
    {
     "name": "stderr",
     "output_type": "stream",
     "text": [
      "Fetching movie data:  19%|███▌               | 489/2614 [03:13<17:01,  2.08it/s]"
     ]
    },
    {
     "name": "stdout",
     "output_type": "stream",
     "text": [
      "Fetching data for movie ID tt3501470 from OMDb...\n"
     ]
    },
    {
     "name": "stderr",
     "output_type": "stream",
     "text": [
      "Fetching movie data:  19%|███▌               | 491/2614 [03:14<13:17,  2.66it/s]"
     ]
    },
    {
     "name": "stdout",
     "output_type": "stream",
     "text": [
      "Fetching data for movie ID tt18295452 from OMDb...\n",
      "Fetching data for movie ID tt16239838 from OMDb...\n"
     ]
    },
    {
     "name": "stderr",
     "output_type": "stream",
     "text": [
      "Fetching movie data:  19%|███▌               | 492/2614 [03:14<12:57,  2.73it/s]"
     ]
    },
    {
     "name": "stdout",
     "output_type": "stream",
     "text": [
      "Fetching data for movie ID tt30471150 from OMDb...\n"
     ]
    },
    {
     "name": "stderr",
     "output_type": "stream",
     "text": [
      "Fetching movie data:  19%|███▌               | 493/2614 [03:14<13:07,  2.69it/s]"
     ]
    },
    {
     "name": "stdout",
     "output_type": "stream",
     "text": [
      "Fetching data for movie ID tt14573342 from OMDb...\n"
     ]
    },
    {
     "name": "stderr",
     "output_type": "stream",
     "text": [
      "Fetching movie data:  19%|███▌               | 494/2614 [03:15<12:50,  2.75it/s]"
     ]
    },
    {
     "name": "stdout",
     "output_type": "stream",
     "text": [
      "Fetching data for movie ID tt26448005 from OMDb...\n"
     ]
    },
    {
     "name": "stderr",
     "output_type": "stream",
     "text": [
      "Fetching movie data:  19%|███▌               | 495/2614 [03:15<13:24,  2.63it/s]"
     ]
    },
    {
     "name": "stdout",
     "output_type": "stream",
     "text": [
      "Fetching data for movie ID tt9905476 from OMDb...\n"
     ]
    },
    {
     "name": "stderr",
     "output_type": "stream",
     "text": [
      "Fetching movie data:  19%|███▌               | 496/2614 [03:16<14:13,  2.48it/s]"
     ]
    },
    {
     "name": "stdout",
     "output_type": "stream",
     "text": [
      "Fetching data for movie ID tt3244986 from OMDb...\n"
     ]
    },
    {
     "name": "stderr",
     "output_type": "stream",
     "text": [
      "Fetching movie data:  19%|███▌               | 497/2614 [03:16<15:22,  2.30it/s]"
     ]
    },
    {
     "name": "stdout",
     "output_type": "stream",
     "text": [
      "Fetching data for movie ID tt34138243 from OMDb...\n"
     ]
    },
    {
     "name": "stderr",
     "output_type": "stream",
     "text": [
      "Fetching movie data:  19%|███▌               | 498/2614 [03:17<15:42,  2.25it/s]"
     ]
    },
    {
     "name": "stdout",
     "output_type": "stream",
     "text": [
      "Fetching data for movie ID tt27500695 from OMDb...\n"
     ]
    },
    {
     "name": "stderr",
     "output_type": "stream",
     "text": [
      "Fetching movie data:  19%|███▋               | 499/2614 [03:17<16:00,  2.20it/s]"
     ]
    },
    {
     "name": "stdout",
     "output_type": "stream",
     "text": [
      "Fetching data for movie ID tt7860124 from OMDb...\n"
     ]
    },
    {
     "name": "stderr",
     "output_type": "stream",
     "text": [
      "Fetching movie data:  19%|███▋               | 500/2614 [03:17<14:52,  2.37it/s]"
     ]
    },
    {
     "name": "stdout",
     "output_type": "stream",
     "text": [
      "Fetching data for movie ID tt4935074 from OMDb...\n"
     ]
    },
    {
     "name": "stderr",
     "output_type": "stream",
     "text": [
      "Fetching movie data:  19%|███▋               | 501/2614 [03:18<14:32,  2.42it/s]"
     ]
    },
    {
     "name": "stdout",
     "output_type": "stream",
     "text": [
      "Fetching data for movie ID tt15153914 from OMDb...\n"
     ]
    },
    {
     "name": "stderr",
     "output_type": "stream",
     "text": [
      "Fetching movie data:  19%|███▋               | 503/2614 [03:18<11:40,  3.01it/s]"
     ]
    },
    {
     "name": "stdout",
     "output_type": "stream",
     "text": [
      "Fetching data for movie ID tt29319990 from OMDb...\n",
      "Fetching data for movie ID tt5971474 from OMDb...\n"
     ]
    },
    {
     "name": "stderr",
     "output_type": "stream",
     "text": [
      "Fetching movie data:  19%|███▋               | 504/2614 [03:19<09:31,  3.69it/s]"
     ]
    },
    {
     "name": "stdout",
     "output_type": "stream",
     "text": [
      "Fetching data for movie ID tt3007808 from OMDb...\n"
     ]
    },
    {
     "name": "stderr",
     "output_type": "stream",
     "text": [
      "Fetching movie data:  19%|███▋               | 505/2614 [03:19<11:00,  3.19it/s]"
     ]
    },
    {
     "name": "stdout",
     "output_type": "stream",
     "text": [
      "Fetching data for movie ID tt4973826 from OMDb...\n"
     ]
    },
    {
     "name": "stderr",
     "output_type": "stream",
     "text": [
      "Fetching movie data:  19%|███▋               | 506/2614 [03:19<11:19,  3.10it/s]"
     ]
    },
    {
     "name": "stdout",
     "output_type": "stream",
     "text": [
      "Fetching data for movie ID tt15659884 from OMDb...\n",
      "Fetching data for movie ID tt16747572 from OMDb...\n"
     ]
    },
    {
     "name": "stderr",
     "output_type": "stream",
     "text": [
      "Fetching movie data:  19%|███▋               | 508/2614 [03:20<09:57,  3.53it/s]"
     ]
    },
    {
     "name": "stdout",
     "output_type": "stream",
     "text": [
      "Fetching data for movie ID tt9441978 from OMDb...\n"
     ]
    },
    {
     "name": "stderr",
     "output_type": "stream",
     "text": [
      "Fetching movie data:  19%|███▋               | 509/2614 [03:21<14:37,  2.40it/s]"
     ]
    },
    {
     "name": "stdout",
     "output_type": "stream",
     "text": [
      "Fetching data for movie ID tt10483598 from OMDb...\n"
     ]
    },
    {
     "name": "stderr",
     "output_type": "stream",
     "text": [
      "Fetching movie data:  20%|███▋               | 510/2614 [03:21<14:14,  2.46it/s]"
     ]
    },
    {
     "name": "stdout",
     "output_type": "stream",
     "text": [
      "Fetching data for movie ID tt13174124 from OMDb...\n"
     ]
    },
    {
     "name": "stderr",
     "output_type": "stream",
     "text": [
      "Fetching movie data:  20%|███▋               | 511/2614 [03:21<13:32,  2.59it/s]"
     ]
    },
    {
     "name": "stdout",
     "output_type": "stream",
     "text": [
      "Fetching data for movie ID tt4483100 from OMDb...\n"
     ]
    },
    {
     "name": "stderr",
     "output_type": "stream",
     "text": [
      "Fetching movie data:  20%|███▋               | 512/2614 [03:22<13:34,  2.58it/s]"
     ]
    },
    {
     "name": "stdout",
     "output_type": "stream",
     "text": [
      "Fetching data for movie ID tt11625548 from OMDb...\n"
     ]
    },
    {
     "name": "stderr",
     "output_type": "stream",
     "text": [
      "Fetching movie data:  20%|███▋               | 513/2614 [03:22<14:03,  2.49it/s]"
     ]
    },
    {
     "name": "stdout",
     "output_type": "stream",
     "text": [
      "Fetching data for movie ID tt8835072 from OMDb...\n"
     ]
    },
    {
     "name": "stderr",
     "output_type": "stream",
     "text": [
      "Fetching movie data:  20%|███▋               | 515/2614 [03:23<11:39,  3.00it/s]"
     ]
    },
    {
     "name": "stdout",
     "output_type": "stream",
     "text": [
      "Fetching data for movie ID tt29362664 from OMDb...\n",
      "Fetching data for movie ID tt10810852 from OMDb...\n"
     ]
    },
    {
     "name": "stderr",
     "output_type": "stream",
     "text": [
      "Fetching movie data:  20%|███▊               | 516/2614 [03:23<12:08,  2.88it/s]"
     ]
    },
    {
     "name": "stdout",
     "output_type": "stream",
     "text": [
      "Fetching data for movie ID tt14015296 from OMDb...\n"
     ]
    },
    {
     "name": "stderr",
     "output_type": "stream",
     "text": [
      "Fetching movie data:  20%|███▊               | 517/2614 [03:23<12:44,  2.74it/s]"
     ]
    },
    {
     "name": "stdout",
     "output_type": "stream",
     "text": [
      "Fetching data for movie ID tt4707450 from OMDb...\n"
     ]
    },
    {
     "name": "stderr",
     "output_type": "stream",
     "text": [
      "Fetching movie data:  20%|███▊               | 518/2614 [03:24<14:50,  2.35it/s]"
     ]
    },
    {
     "name": "stdout",
     "output_type": "stream",
     "text": [
      "Progress saved after 36900 movies.\n",
      "Fetching data for movie ID tt6805354 from OMDb...\n"
     ]
    },
    {
     "name": "stderr",
     "output_type": "stream",
     "text": [
      "Fetching movie data:  20%|███▊               | 519/2614 [03:25<16:03,  2.17it/s]"
     ]
    },
    {
     "name": "stdout",
     "output_type": "stream",
     "text": [
      "Fetching data for movie ID tt8846478 from OMDb...\n"
     ]
    },
    {
     "name": "stderr",
     "output_type": "stream",
     "text": [
      "Fetching movie data:  20%|███▊               | 520/2614 [03:25<15:21,  2.27it/s]"
     ]
    },
    {
     "name": "stdout",
     "output_type": "stream",
     "text": [
      "Fetching data for movie ID tt5311432 from OMDb...\n"
     ]
    },
    {
     "name": "stderr",
     "output_type": "stream",
     "text": [
      "Fetching movie data:  20%|███▊               | 521/2614 [03:25<15:01,  2.32it/s]"
     ]
    },
    {
     "name": "stdout",
     "output_type": "stream",
     "text": [
      "Fetching data for movie ID tt33292849 from OMDb...\n"
     ]
    },
    {
     "name": "stderr",
     "output_type": "stream",
     "text": [
      "Fetching movie data:  20%|███▊               | 522/2614 [03:26<15:00,  2.32it/s]"
     ]
    },
    {
     "name": "stdout",
     "output_type": "stream",
     "text": [
      "Fetching data for movie ID tt9140104 from OMDb...\n"
     ]
    },
    {
     "name": "stderr",
     "output_type": "stream",
     "text": [
      "Fetching movie data:  20%|███▊               | 523/2614 [03:26<14:19,  2.43it/s]"
     ]
    },
    {
     "name": "stdout",
     "output_type": "stream",
     "text": [
      "Fetching data for movie ID tt11618320 from OMDb...\n"
     ]
    },
    {
     "name": "stderr",
     "output_type": "stream",
     "text": [
      "Fetching movie data:  20%|███▊               | 524/2614 [03:27<13:49,  2.52it/s]"
     ]
    },
    {
     "name": "stdout",
     "output_type": "stream",
     "text": [
      "Fetching data for movie ID tt15647058 from OMDb...\n"
     ]
    },
    {
     "name": "stderr",
     "output_type": "stream",
     "text": [
      "Fetching movie data:  20%|███▊               | 525/2614 [03:27<13:16,  2.62it/s]"
     ]
    },
    {
     "name": "stdout",
     "output_type": "stream",
     "text": [
      "Fetching data for movie ID tt32576082 from OMDb...\n"
     ]
    },
    {
     "name": "stderr",
     "output_type": "stream",
     "text": [
      "Fetching movie data:  20%|███▊               | 526/2614 [03:27<13:20,  2.61it/s]"
     ]
    },
    {
     "name": "stdout",
     "output_type": "stream",
     "text": [
      "Fetching data for movie ID tt4790832 from OMDb...\n"
     ]
    },
    {
     "name": "stderr",
     "output_type": "stream",
     "text": [
      "Fetching movie data:  20%|███▊               | 527/2614 [03:28<13:22,  2.60it/s]"
     ]
    },
    {
     "name": "stdout",
     "output_type": "stream",
     "text": [
      "Fetching data for movie ID tt6791240 from OMDb...\n"
     ]
    },
    {
     "name": "stderr",
     "output_type": "stream",
     "text": [
      "Fetching movie data:  20%|███▊               | 528/2614 [03:28<14:22,  2.42it/s]"
     ]
    },
    {
     "name": "stdout",
     "output_type": "stream",
     "text": [
      "Fetching data for movie ID tt1773733 from OMDb...\n"
     ]
    },
    {
     "name": "stderr",
     "output_type": "stream",
     "text": [
      "Fetching movie data:  20%|███▊               | 529/2614 [03:28<13:43,  2.53it/s]"
     ]
    },
    {
     "name": "stdout",
     "output_type": "stream",
     "text": [
      "Fetching data for movie ID tt5278506 from OMDb...\n"
     ]
    },
    {
     "name": "stderr",
     "output_type": "stream",
     "text": [
      "Fetching movie data:  20%|███▊               | 530/2614 [03:29<15:35,  2.23it/s]"
     ]
    },
    {
     "name": "stdout",
     "output_type": "stream",
     "text": [
      "Fetching data for movie ID tt6541948 from OMDb...\n"
     ]
    },
    {
     "name": "stderr",
     "output_type": "stream",
     "text": [
      "Fetching movie data:  20%|███▊               | 531/2614 [03:29<14:39,  2.37it/s]"
     ]
    },
    {
     "name": "stdout",
     "output_type": "stream",
     "text": [
      "Fetching data for movie ID tt11559250 from OMDb...\n"
     ]
    },
    {
     "name": "stderr",
     "output_type": "stream",
     "text": [
      "Fetching movie data:  20%|███▊               | 532/2614 [03:30<15:00,  2.31it/s]"
     ]
    },
    {
     "name": "stdout",
     "output_type": "stream",
     "text": [
      "Fetching data for movie ID tt1950186 from OMDb...\n"
     ]
    },
    {
     "name": "stderr",
     "output_type": "stream",
     "text": [
      "Fetching movie data:  20%|███▉               | 534/2614 [03:30<11:45,  2.95it/s]"
     ]
    },
    {
     "name": "stdout",
     "output_type": "stream",
     "text": [
      "Fetching data for movie ID tt2380307 from OMDb...\n",
      "Fetching data for movie ID tt27075579 from OMDb...\n"
     ]
    },
    {
     "name": "stderr",
     "output_type": "stream",
     "text": [
      "Fetching movie data:  20%|███▉               | 535/2614 [03:31<11:52,  2.92it/s]"
     ]
    },
    {
     "name": "stdout",
     "output_type": "stream",
     "text": [
      "Fetching data for movie ID tt3635532 from OMDb...\n"
     ]
    },
    {
     "name": "stderr",
     "output_type": "stream",
     "text": [
      "Fetching movie data:  21%|███▉               | 536/2614 [03:31<12:40,  2.73it/s]"
     ]
    },
    {
     "name": "stdout",
     "output_type": "stream",
     "text": [
      "Fetching data for movie ID tt6619064 from OMDb...\n"
     ]
    },
    {
     "name": "stderr",
     "output_type": "stream",
     "text": [
      "Fetching movie data:  21%|███▉               | 537/2614 [03:32<16:30,  2.10it/s]"
     ]
    },
    {
     "name": "stdout",
     "output_type": "stream",
     "text": [
      "Fetching data for movie ID tt13664684 from OMDb...\n"
     ]
    },
    {
     "name": "stderr",
     "output_type": "stream",
     "text": [
      "Fetching movie data:  21%|███▉               | 538/2614 [03:32<15:47,  2.19it/s]"
     ]
    },
    {
     "name": "stdout",
     "output_type": "stream",
     "text": [
      "Fetching data for movie ID tt13388168 from OMDb...\n"
     ]
    },
    {
     "name": "stderr",
     "output_type": "stream",
     "text": [
      "Fetching movie data:  21%|███▉               | 539/2614 [03:33<15:17,  2.26it/s]"
     ]
    },
    {
     "name": "stdout",
     "output_type": "stream",
     "text": [
      "Fetching data for movie ID tt28090065 from OMDb...\n"
     ]
    },
    {
     "name": "stderr",
     "output_type": "stream",
     "text": [
      "Fetching movie data:  21%|███▉               | 540/2614 [03:33<14:17,  2.42it/s]"
     ]
    },
    {
     "name": "stdout",
     "output_type": "stream",
     "text": [
      "Fetching data for movie ID tt11828456 from OMDb...\n"
     ]
    },
    {
     "name": "stderr",
     "output_type": "stream",
     "text": [
      "Fetching movie data:  21%|███▉               | 541/2614 [03:33<13:58,  2.47it/s]"
     ]
    },
    {
     "name": "stdout",
     "output_type": "stream",
     "text": [
      "Fetching data for movie ID tt4294050 from OMDb...\n"
     ]
    },
    {
     "name": "stderr",
     "output_type": "stream",
     "text": [
      "Fetching movie data:  21%|███▉               | 542/2614 [03:34<13:54,  2.48it/s]"
     ]
    },
    {
     "name": "stdout",
     "output_type": "stream",
     "text": [
      "Fetching data for movie ID tt3338402 from OMDb...\n"
     ]
    },
    {
     "name": "stderr",
     "output_type": "stream",
     "text": [
      "Fetching movie data:  21%|███▉               | 543/2614 [03:34<13:57,  2.47it/s]"
     ]
    },
    {
     "name": "stdout",
     "output_type": "stream",
     "text": [
      "Fetching data for movie ID tt7742656 from OMDb...\n"
     ]
    },
    {
     "name": "stderr",
     "output_type": "stream",
     "text": [
      "Fetching movie data:  21%|███▉               | 544/2614 [03:35<14:25,  2.39it/s]"
     ]
    },
    {
     "name": "stdout",
     "output_type": "stream",
     "text": [
      "Fetching data for movie ID tt5365454 from OMDb...\n"
     ]
    },
    {
     "name": "stderr",
     "output_type": "stream",
     "text": [
      "Fetching movie data:  21%|███▉               | 545/2614 [03:35<13:47,  2.50it/s]"
     ]
    },
    {
     "name": "stdout",
     "output_type": "stream",
     "text": [
      "Fetching data for movie ID tt4319784 from OMDb...\n"
     ]
    },
    {
     "name": "stderr",
     "output_type": "stream",
     "text": [
      "Fetching movie data:  21%|███▉               | 546/2614 [03:35<13:26,  2.56it/s]"
     ]
    },
    {
     "name": "stdout",
     "output_type": "stream",
     "text": [
      "Fetching data for movie ID tt9114472 from OMDb...\n"
     ]
    },
    {
     "name": "stderr",
     "output_type": "stream",
     "text": [
      "Fetching movie data:  21%|███▉               | 547/2614 [03:36<13:14,  2.60it/s]"
     ]
    },
    {
     "name": "stdout",
     "output_type": "stream",
     "text": [
      "Fetching data for movie ID tt7737704 from OMDb...\n"
     ]
    },
    {
     "name": "stderr",
     "output_type": "stream",
     "text": [
      "Fetching movie data:  21%|███▉               | 548/2614 [03:36<12:53,  2.67it/s]"
     ]
    },
    {
     "name": "stdout",
     "output_type": "stream",
     "text": [
      "Fetching data for movie ID tt13812844 from OMDb...\n"
     ]
    },
    {
     "name": "stderr",
     "output_type": "stream",
     "text": [
      "Fetching movie data:  21%|███▉               | 550/2614 [03:37<10:39,  3.23it/s]"
     ]
    },
    {
     "name": "stdout",
     "output_type": "stream",
     "text": [
      "Fetching data for movie ID tt35162929 from OMDb...\n",
      "Fetching data for movie ID tt12404138 from OMDb...\n"
     ]
    },
    {
     "name": "stderr",
     "output_type": "stream",
     "text": [
      "Fetching movie data:  21%|████               | 552/2614 [03:37<09:28,  3.63it/s]"
     ]
    },
    {
     "name": "stdout",
     "output_type": "stream",
     "text": [
      "Fetching data for movie ID tt23723678 from OMDb...\n",
      "Fetching data for movie ID tt14681822 from OMDb...\n"
     ]
    },
    {
     "name": "stderr",
     "output_type": "stream",
     "text": [
      "Fetching movie data:  21%|████               | 553/2614 [03:38<10:38,  3.23it/s]"
     ]
    },
    {
     "name": "stdout",
     "output_type": "stream",
     "text": [
      "Fetching data for movie ID tt31971726 from OMDb...\n"
     ]
    },
    {
     "name": "stderr",
     "output_type": "stream",
     "text": [
      "Fetching movie data:  21%|████               | 554/2614 [03:38<11:03,  3.10it/s]"
     ]
    },
    {
     "name": "stdout",
     "output_type": "stream",
     "text": [
      "Fetching data for movie ID tt13328226 from OMDb...\n"
     ]
    },
    {
     "name": "stderr",
     "output_type": "stream",
     "text": [
      "Fetching movie data:  21%|████               | 555/2614 [03:39<15:45,  2.18it/s]"
     ]
    },
    {
     "name": "stdout",
     "output_type": "stream",
     "text": [
      "Fetching data for movie ID tt6185752 from OMDb...\n"
     ]
    },
    {
     "name": "stderr",
     "output_type": "stream",
     "text": [
      "Fetching movie data:  21%|████               | 556/2614 [03:39<14:39,  2.34it/s]"
     ]
    },
    {
     "name": "stdout",
     "output_type": "stream",
     "text": [
      "Fetching data for movie ID tt4068056 from OMDb...\n"
     ]
    },
    {
     "name": "stderr",
     "output_type": "stream",
     "text": [
      "Fetching movie data:  21%|████               | 557/2614 [03:40<14:24,  2.38it/s]"
     ]
    },
    {
     "name": "stdout",
     "output_type": "stream",
     "text": [
      "Fetching data for movie ID tt10064354 from OMDb...\n"
     ]
    },
    {
     "name": "stderr",
     "output_type": "stream",
     "text": [
      "Fetching movie data:  21%|████               | 558/2614 [03:40<14:53,  2.30it/s]"
     ]
    },
    {
     "name": "stdout",
     "output_type": "stream",
     "text": [
      "Fetching data for movie ID tt4967138 from OMDb...\n"
     ]
    },
    {
     "name": "stderr",
     "output_type": "stream",
     "text": [
      "Fetching movie data:  21%|████               | 559/2614 [03:40<14:55,  2.30it/s]"
     ]
    },
    {
     "name": "stdout",
     "output_type": "stream",
     "text": [
      "Fetching data for movie ID tt5909480 from OMDb...\n"
     ]
    },
    {
     "name": "stderr",
     "output_type": "stream",
     "text": [
      "Fetching movie data:  21%|████               | 560/2614 [03:41<14:22,  2.38it/s]"
     ]
    },
    {
     "name": "stdout",
     "output_type": "stream",
     "text": [
      "Fetching data for movie ID tt13134916 from OMDb...\n"
     ]
    },
    {
     "name": "stderr",
     "output_type": "stream",
     "text": [
      "Fetching movie data:  21%|████               | 561/2614 [03:41<13:50,  2.47it/s]"
     ]
    },
    {
     "name": "stdout",
     "output_type": "stream",
     "text": [
      "Fetching data for movie ID tt22091064 from OMDb...\n"
     ]
    },
    {
     "name": "stderr",
     "output_type": "stream",
     "text": [
      "Fetching movie data:  21%|████               | 562/2614 [03:42<13:43,  2.49it/s]"
     ]
    },
    {
     "name": "stdout",
     "output_type": "stream",
     "text": [
      "Fetching data for movie ID tt13021608 from OMDb...\n"
     ]
    },
    {
     "name": "stderr",
     "output_type": "stream",
     "text": [
      "Fetching movie data:  22%|████               | 563/2614 [03:42<14:21,  2.38it/s]"
     ]
    },
    {
     "name": "stdout",
     "output_type": "stream",
     "text": [
      "Fetching data for movie ID tt32235478 from OMDb...\n"
     ]
    },
    {
     "name": "stderr",
     "output_type": "stream",
     "text": [
      "Fetching movie data:  22%|████               | 564/2614 [03:42<14:02,  2.43it/s]"
     ]
    },
    {
     "name": "stdout",
     "output_type": "stream",
     "text": [
      "Fetching data for movie ID tt31478292 from OMDb...\n"
     ]
    },
    {
     "name": "stderr",
     "output_type": "stream",
     "text": [
      "Fetching movie data:  22%|████               | 565/2614 [03:43<13:30,  2.53it/s]"
     ]
    },
    {
     "name": "stdout",
     "output_type": "stream",
     "text": [
      "Fetching data for movie ID tt11394176 from OMDb...\n"
     ]
    },
    {
     "name": "stderr",
     "output_type": "stream",
     "text": [
      "Fetching movie data:  22%|████               | 566/2614 [03:43<12:55,  2.64it/s]"
     ]
    },
    {
     "name": "stdout",
     "output_type": "stream",
     "text": [
      "Fetching data for movie ID tt14652128 from OMDb...\n"
     ]
    },
    {
     "name": "stderr",
     "output_type": "stream",
     "text": [
      "Fetching movie data:  22%|████               | 567/2614 [03:44<12:52,  2.65it/s]"
     ]
    },
    {
     "name": "stdout",
     "output_type": "stream",
     "text": [
      "Fetching data for movie ID tt5069136 from OMDb...\n"
     ]
    },
    {
     "name": "stderr",
     "output_type": "stream",
     "text": [
      "Fetching movie data:  22%|████▏              | 568/2614 [03:44<13:57,  2.44it/s]"
     ]
    },
    {
     "name": "stdout",
     "output_type": "stream",
     "text": [
      "Fetching data for movie ID tt6098788 from OMDb...\n"
     ]
    },
    {
     "name": "stderr",
     "output_type": "stream",
     "text": [
      "Fetching movie data:  22%|████▏              | 569/2614 [03:44<13:56,  2.44it/s]"
     ]
    },
    {
     "name": "stdout",
     "output_type": "stream",
     "text": [
      "Fetching data for movie ID tt28667222 from OMDb...\n"
     ]
    },
    {
     "name": "stderr",
     "output_type": "stream",
     "text": [
      "Fetching movie data:  22%|████▏              | 570/2614 [03:45<13:27,  2.53it/s]"
     ]
    },
    {
     "name": "stdout",
     "output_type": "stream",
     "text": [
      "Fetching data for movie ID tt9079178 from OMDb...\n"
     ]
    },
    {
     "name": "stderr",
     "output_type": "stream",
     "text": [
      "Fetching movie data:  22%|████▏              | 571/2614 [03:45<13:33,  2.51it/s]"
     ]
    },
    {
     "name": "stdout",
     "output_type": "stream",
     "text": [
      "Fetching data for movie ID tt8016552 from OMDb...\n"
     ]
    },
    {
     "name": "stderr",
     "output_type": "stream",
     "text": [
      "Fetching movie data:  22%|████▏              | 572/2614 [03:46<13:14,  2.57it/s]"
     ]
    },
    {
     "name": "stdout",
     "output_type": "stream",
     "text": [
      "Fetching data for movie ID tt2617142 from OMDb...\n"
     ]
    },
    {
     "name": "stderr",
     "output_type": "stream",
     "text": [
      "Fetching movie data:  22%|████▏              | 573/2614 [03:46<12:54,  2.64it/s]"
     ]
    },
    {
     "name": "stdout",
     "output_type": "stream",
     "text": [
      "Fetching data for movie ID tt4226388 from OMDb...\n"
     ]
    },
    {
     "name": "stderr",
     "output_type": "stream",
     "text": [
      "Fetching movie data:  22%|████▏              | 574/2614 [03:46<13:39,  2.49it/s]"
     ]
    },
    {
     "name": "stdout",
     "output_type": "stream",
     "text": [
      "Fetching data for movie ID tt5318082 from OMDb...\n"
     ]
    },
    {
     "name": "stderr",
     "output_type": "stream",
     "text": [
      "Fetching movie data:  22%|████▏              | 575/2614 [03:47<13:44,  2.47it/s]"
     ]
    },
    {
     "name": "stdout",
     "output_type": "stream",
     "text": [
      "Fetching data for movie ID tt6159660 from OMDb...\n"
     ]
    },
    {
     "name": "stderr",
     "output_type": "stream",
     "text": [
      "Fetching movie data:  22%|████▏              | 576/2614 [03:47<13:37,  2.49it/s]"
     ]
    },
    {
     "name": "stdout",
     "output_type": "stream",
     "text": [
      "Fetching data for movie ID tt22372550 from OMDb...\n"
     ]
    },
    {
     "name": "stderr",
     "output_type": "stream",
     "text": [
      "Fetching movie data:  22%|████▏              | 577/2614 [03:48<13:44,  2.47it/s]"
     ]
    },
    {
     "name": "stdout",
     "output_type": "stream",
     "text": [
      "Fetching data for movie ID tt15187456 from OMDb...\n",
      "Fetching data for movie ID tt7638110 from OMDb...\n"
     ]
    },
    {
     "name": "stderr",
     "output_type": "stream",
     "text": [
      "Fetching movie data:  22%|████▏              | 579/2614 [03:49<14:42,  2.31it/s]"
     ]
    },
    {
     "name": "stdout",
     "output_type": "stream",
     "text": [
      "Fetching data for movie ID tt5242554 from OMDb...\n"
     ]
    },
    {
     "name": "stderr",
     "output_type": "stream",
     "text": [
      "Fetching movie data:  22%|████▏              | 580/2614 [03:49<14:30,  2.34it/s]"
     ]
    },
    {
     "name": "stdout",
     "output_type": "stream",
     "text": [
      "Fetching data for movie ID tt31940684 from OMDb...\n"
     ]
    },
    {
     "name": "stderr",
     "output_type": "stream",
     "text": [
      "Fetching movie data:  22%|████▏              | 581/2614 [03:49<14:11,  2.39it/s]"
     ]
    },
    {
     "name": "stdout",
     "output_type": "stream",
     "text": [
      "Fetching data for movie ID tt3279418 from OMDb...\n"
     ]
    },
    {
     "name": "stderr",
     "output_type": "stream",
     "text": [
      "Fetching movie data:  22%|████▏              | 582/2614 [03:50<14:14,  2.38it/s]"
     ]
    },
    {
     "name": "stdout",
     "output_type": "stream",
     "text": [
      "Fetching data for movie ID tt3478978 from OMDb...\n"
     ]
    },
    {
     "name": "stderr",
     "output_type": "stream",
     "text": [
      "Fetching movie data:  22%|████▏              | 583/2614 [03:50<13:32,  2.50it/s]"
     ]
    },
    {
     "name": "stdout",
     "output_type": "stream",
     "text": [
      "Fetching data for movie ID tt4624024 from OMDb...\n"
     ]
    },
    {
     "name": "stderr",
     "output_type": "stream",
     "text": [
      "Fetching movie data:  22%|████▏              | 584/2614 [03:50<13:13,  2.56it/s]"
     ]
    },
    {
     "name": "stdout",
     "output_type": "stream",
     "text": [
      "Fetching data for movie ID tt10596572 from OMDb...\n"
     ]
    },
    {
     "name": "stderr",
     "output_type": "stream",
     "text": [
      "Fetching movie data:  22%|████▎              | 585/2614 [03:51<15:48,  2.14it/s]"
     ]
    },
    {
     "name": "stdout",
     "output_type": "stream",
     "text": [
      "Fetching data for movie ID tt7457716 from OMDb...\n"
     ]
    },
    {
     "name": "stderr",
     "output_type": "stream",
     "text": [
      "Fetching movie data:  22%|████▎              | 586/2614 [03:51<14:33,  2.32it/s]"
     ]
    },
    {
     "name": "stdout",
     "output_type": "stream",
     "text": [
      "Fetching data for movie ID tt10826774 from OMDb...\n"
     ]
    },
    {
     "name": "stderr",
     "output_type": "stream",
     "text": [
      "Fetching movie data:  22%|████▎              | 587/2614 [03:52<14:36,  2.31it/s]"
     ]
    },
    {
     "name": "stdout",
     "output_type": "stream",
     "text": [
      "Fetching data for movie ID tt20203514 from OMDb...\n"
     ]
    },
    {
     "name": "stderr",
     "output_type": "stream",
     "text": [
      "Fetching movie data:  22%|████▎              | 588/2614 [03:52<14:23,  2.35it/s]"
     ]
    },
    {
     "name": "stdout",
     "output_type": "stream",
     "text": [
      "Fetching data for movie ID tt5597086 from OMDb...\n"
     ]
    },
    {
     "name": "stderr",
     "output_type": "stream",
     "text": [
      "Fetching movie data:  23%|████▎              | 590/2614 [03:53<10:46,  3.13it/s]"
     ]
    },
    {
     "name": "stdout",
     "output_type": "stream",
     "text": [
      "Fetching data for movie ID tt35327690 from OMDb...\n",
      "Fetching data for movie ID tt14253022 from OMDb...\n"
     ]
    },
    {
     "name": "stderr",
     "output_type": "stream",
     "text": [
      "Fetching movie data:  23%|████▎              | 591/2614 [03:53<11:08,  3.03it/s]"
     ]
    },
    {
     "name": "stdout",
     "output_type": "stream",
     "text": [
      "Fetching data for movie ID tt6579888 from OMDb...\n"
     ]
    },
    {
     "name": "stderr",
     "output_type": "stream",
     "text": [
      "Fetching movie data:  23%|████▎              | 592/2614 [03:53<11:15,  2.99it/s]"
     ]
    },
    {
     "name": "stdout",
     "output_type": "stream",
     "text": [
      "Fetching data for movie ID tt9414690 from OMDb...\n"
     ]
    },
    {
     "name": "stderr",
     "output_type": "stream",
     "text": [
      "Fetching movie data:  23%|████▎              | 593/2614 [03:54<12:36,  2.67it/s]"
     ]
    },
    {
     "name": "stdout",
     "output_type": "stream",
     "text": [
      "Fetching data for movie ID tt34737132 from OMDb...\n"
     ]
    },
    {
     "name": "stderr",
     "output_type": "stream",
     "text": [
      "Fetching movie data:  23%|████▎              | 594/2614 [03:54<12:37,  2.67it/s]"
     ]
    },
    {
     "name": "stdout",
     "output_type": "stream",
     "text": [
      "Fetching data for movie ID tt2057392 from OMDb...\n"
     ]
    },
    {
     "name": "stderr",
     "output_type": "stream",
     "text": [
      "Fetching movie data:  23%|████▎              | 595/2614 [03:55<12:48,  2.63it/s]"
     ]
    },
    {
     "name": "stdout",
     "output_type": "stream",
     "text": [
      "Fetching data for movie ID tt29580199 from OMDb...\n"
     ]
    },
    {
     "name": "stderr",
     "output_type": "stream",
     "text": [
      "Fetching movie data:  23%|████▎              | 597/2614 [03:55<10:57,  3.07it/s]"
     ]
    },
    {
     "name": "stdout",
     "output_type": "stream",
     "text": [
      "Fetching data for movie ID tt10489552 from OMDb...\n",
      "Fetching data for movie ID tt32139294 from OMDb...\n"
     ]
    },
    {
     "name": "stderr",
     "output_type": "stream",
     "text": [
      "Fetching movie data:  23%|████▎              | 598/2614 [03:56<11:29,  2.92it/s]"
     ]
    },
    {
     "name": "stdout",
     "output_type": "stream",
     "text": [
      "Fetching data for movie ID tt27079307 from OMDb...\n"
     ]
    },
    {
     "name": "stderr",
     "output_type": "stream",
     "text": [
      "Fetching movie data:  23%|████▎              | 599/2614 [03:56<14:15,  2.35it/s]"
     ]
    },
    {
     "name": "stdout",
     "output_type": "stream",
     "text": [
      "Fetching data for movie ID tt23333638 from OMDb...\n"
     ]
    },
    {
     "name": "stderr",
     "output_type": "stream",
     "text": [
      "Fetching movie data:  23%|████▎              | 600/2614 [03:57<13:39,  2.46it/s]"
     ]
    },
    {
     "name": "stdout",
     "output_type": "stream",
     "text": [
      "Fetching data for movie ID tt7688892 from OMDb...\n"
     ]
    },
    {
     "name": "stderr",
     "output_type": "stream",
     "text": [
      "Fetching movie data:  23%|████▎              | 601/2614 [03:57<13:25,  2.50it/s]"
     ]
    },
    {
     "name": "stdout",
     "output_type": "stream",
     "text": [
      "Fetching data for movie ID tt30012487 from OMDb...\n"
     ]
    },
    {
     "name": "stderr",
     "output_type": "stream",
     "text": [
      "Fetching movie data:  23%|████▍              | 602/2614 [03:58<14:13,  2.36it/s]"
     ]
    },
    {
     "name": "stdout",
     "output_type": "stream",
     "text": [
      "Fetching data for movie ID tt5642914 from OMDb...\n"
     ]
    },
    {
     "name": "stderr",
     "output_type": "stream",
     "text": [
      "Fetching movie data:  23%|████▍              | 603/2614 [03:58<14:03,  2.38it/s]"
     ]
    },
    {
     "name": "stdout",
     "output_type": "stream",
     "text": [
      "Fetching data for movie ID tt4411478 from OMDb...\n"
     ]
    },
    {
     "name": "stderr",
     "output_type": "stream",
     "text": [
      "Fetching movie data:  23%|████▍              | 604/2614 [03:59<18:04,  1.85it/s]"
     ]
    },
    {
     "name": "stdout",
     "output_type": "stream",
     "text": [
      "Fetching data for movie ID tt10122528 from OMDb...\n"
     ]
    },
    {
     "name": "stderr",
     "output_type": "stream",
     "text": [
      "Fetching movie data:  23%|████▍              | 605/2614 [03:59<16:18,  2.05it/s]"
     ]
    },
    {
     "name": "stdout",
     "output_type": "stream",
     "text": [
      "Fetching data for movie ID tt9799088 from OMDb...\n"
     ]
    },
    {
     "name": "stderr",
     "output_type": "stream",
     "text": [
      "Fetching movie data:  23%|████▍              | 606/2614 [03:59<14:48,  2.26it/s]"
     ]
    },
    {
     "name": "stdout",
     "output_type": "stream",
     "text": [
      "Fetching data for movie ID tt5487244 from OMDb...\n"
     ]
    },
    {
     "name": "stderr",
     "output_type": "stream",
     "text": [
      "Fetching movie data:  23%|████▍              | 607/2614 [04:00<14:36,  2.29it/s]"
     ]
    },
    {
     "name": "stdout",
     "output_type": "stream",
     "text": [
      "Fetching data for movie ID tt2736168 from OMDb...\n"
     ]
    },
    {
     "name": "stderr",
     "output_type": "stream",
     "text": [
      "Fetching movie data:  23%|████▍              | 608/2614 [04:00<14:20,  2.33it/s]"
     ]
    },
    {
     "name": "stdout",
     "output_type": "stream",
     "text": [
      "Fetching data for movie ID tt15049118 from OMDb...\n"
     ]
    },
    {
     "name": "stderr",
     "output_type": "stream",
     "text": [
      "Fetching movie data:  23%|████▍              | 609/2614 [04:01<13:41,  2.44it/s]"
     ]
    },
    {
     "name": "stdout",
     "output_type": "stream",
     "text": [
      "Fetching data for movie ID tt3920498 from OMDb...\n"
     ]
    },
    {
     "name": "stderr",
     "output_type": "stream",
     "text": [
      "Fetching movie data:  23%|████▍              | 610/2614 [04:01<13:24,  2.49it/s]"
     ]
    },
    {
     "name": "stdout",
     "output_type": "stream",
     "text": [
      "Fetching data for movie ID tt33683459 from OMDb...\n",
      "Fetching data for movie ID tt5052448 from OMDb...\n"
     ]
    },
    {
     "name": "stderr",
     "output_type": "stream",
     "text": [
      "Fetching movie data:  23%|████▍              | 612/2614 [04:02<12:04,  2.76it/s]"
     ]
    },
    {
     "name": "stdout",
     "output_type": "stream",
     "text": [
      "Fetching data for movie ID tt6278226 from OMDb...\n"
     ]
    },
    {
     "name": "stderr",
     "output_type": "stream",
     "text": [
      "Fetching movie data:  23%|████▍              | 613/2614 [04:02<14:35,  2.28it/s]"
     ]
    },
    {
     "name": "stdout",
     "output_type": "stream",
     "text": [
      "Fetching data for movie ID tt26452090 from OMDb...\n"
     ]
    },
    {
     "name": "stderr",
     "output_type": "stream",
     "text": [
      "Fetching movie data:  23%|████▍              | 614/2614 [04:03<14:20,  2.32it/s]"
     ]
    },
    {
     "name": "stdout",
     "output_type": "stream",
     "text": [
      "Fetching data for movie ID tt13129744 from OMDb...\n",
      "Fetching data for movie ID tt14657212 from OMDb...\n"
     ]
    },
    {
     "name": "stderr",
     "output_type": "stream",
     "text": [
      "Fetching movie data:  24%|████▍              | 617/2614 [04:03<09:45,  3.41it/s]"
     ]
    },
    {
     "name": "stdout",
     "output_type": "stream",
     "text": [
      "Fetching data for movie ID tt35319654 from OMDb...\n",
      "Fetching data for movie ID tt7040270 from OMDb...\n"
     ]
    },
    {
     "name": "stderr",
     "output_type": "stream",
     "text": [
      "Fetching movie data:  24%|████▍              | 618/2614 [04:04<10:56,  3.04it/s]"
     ]
    },
    {
     "name": "stdout",
     "output_type": "stream",
     "text": [
      "Fetching data for movie ID tt35267289 from OMDb...\n",
      "Fetching data for movie ID tt6999056 from OMDb...\n"
     ]
    },
    {
     "name": "stderr",
     "output_type": "stream",
     "text": [
      "Fetching movie data:  24%|████▌              | 620/2614 [04:04<09:57,  3.34it/s]"
     ]
    },
    {
     "name": "stdout",
     "output_type": "stream",
     "text": [
      "Fetching data for movie ID tt8106586 from OMDb...\n"
     ]
    },
    {
     "name": "stderr",
     "output_type": "stream",
     "text": [
      "Fetching movie data:  24%|████▌              | 621/2614 [04:05<10:33,  3.15it/s]"
     ]
    },
    {
     "name": "stdout",
     "output_type": "stream",
     "text": [
      "Fetching data for movie ID tt35380119 from OMDb...\n",
      "Fetching data for movie ID tt8000606 from OMDb...\n"
     ]
    },
    {
     "name": "stderr",
     "output_type": "stream",
     "text": [
      "Fetching movie data:  24%|████▌              | 623/2614 [04:05<09:26,  3.51it/s]"
     ]
    },
    {
     "name": "stdout",
     "output_type": "stream",
     "text": [
      "Fetching data for movie ID tt6812698 from OMDb...\n"
     ]
    },
    {
     "name": "stderr",
     "output_type": "stream",
     "text": [
      "Fetching movie data:  24%|████▌              | 624/2614 [04:06<11:36,  2.86it/s]"
     ]
    },
    {
     "name": "stdout",
     "output_type": "stream",
     "text": [
      "Fetching data for movie ID tt4054936 from OMDb...\n"
     ]
    },
    {
     "name": "stderr",
     "output_type": "stream",
     "text": [
      "Fetching movie data:  24%|████▌              | 625/2614 [04:06<12:27,  2.66it/s]"
     ]
    },
    {
     "name": "stdout",
     "output_type": "stream",
     "text": [
      "Progress saved after 37000 movies.\n",
      "Fetching data for movie ID tt6400316 from OMDb...\n"
     ]
    },
    {
     "name": "stderr",
     "output_type": "stream",
     "text": [
      "Fetching movie data:  24%|████▌              | 626/2614 [04:07<13:14,  2.50it/s]"
     ]
    },
    {
     "name": "stdout",
     "output_type": "stream",
     "text": [
      "Fetching data for movie ID tt14917662 from OMDb...\n"
     ]
    },
    {
     "name": "stderr",
     "output_type": "stream",
     "text": [
      "Fetching movie data:  24%|████▌              | 628/2614 [04:07<10:26,  3.17it/s]"
     ]
    },
    {
     "name": "stdout",
     "output_type": "stream",
     "text": [
      "Fetching data for movie ID tt12879624 from OMDb...\n",
      "Fetching data for movie ID tt25434542 from OMDb...\n"
     ]
    },
    {
     "name": "stderr",
     "output_type": "stream",
     "text": [
      "Fetching movie data:  24%|████▌              | 629/2614 [04:08<12:01,  2.75it/s]"
     ]
    },
    {
     "name": "stdout",
     "output_type": "stream",
     "text": [
      "Fetching data for movie ID tt31985964 from OMDb...\n",
      "Fetching data for movie ID tt3613380 from OMDb...\n"
     ]
    },
    {
     "name": "stderr",
     "output_type": "stream",
     "text": [
      "Fetching movie data:  24%|████▌              | 631/2614 [04:08<09:55,  3.33it/s]"
     ]
    },
    {
     "name": "stdout",
     "output_type": "stream",
     "text": [
      "Fetching data for movie ID tt8226508 from OMDb...\n"
     ]
    },
    {
     "name": "stderr",
     "output_type": "stream",
     "text": [
      "Fetching movie data:  24%|████▌              | 632/2614 [04:08<10:22,  3.19it/s]"
     ]
    },
    {
     "name": "stdout",
     "output_type": "stream",
     "text": [
      "Fetching data for movie ID tt7563926 from OMDb...\n"
     ]
    },
    {
     "name": "stderr",
     "output_type": "stream",
     "text": [
      "Fetching movie data:  24%|████▌              | 633/2614 [04:09<10:55,  3.02it/s]"
     ]
    },
    {
     "name": "stdout",
     "output_type": "stream",
     "text": [
      "Fetching data for movie ID tt6753206 from OMDb...\n"
     ]
    },
    {
     "name": "stderr",
     "output_type": "stream",
     "text": [
      "Fetching movie data:  24%|████▌              | 634/2614 [04:09<11:32,  2.86it/s]"
     ]
    },
    {
     "name": "stdout",
     "output_type": "stream",
     "text": [
      "Fetching data for movie ID tt9315574 from OMDb...\n"
     ]
    },
    {
     "name": "stderr",
     "output_type": "stream",
     "text": [
      "Fetching movie data:  24%|████▌              | 635/2614 [04:10<11:56,  2.76it/s]"
     ]
    },
    {
     "name": "stdout",
     "output_type": "stream",
     "text": [
      "Fetching data for movie ID tt7747308 from OMDb...\n"
     ]
    },
    {
     "name": "stderr",
     "output_type": "stream",
     "text": [
      "Fetching movie data:  24%|████▌              | 636/2614 [04:10<12:00,  2.75it/s]"
     ]
    },
    {
     "name": "stdout",
     "output_type": "stream",
     "text": [
      "Fetching data for movie ID tt24577296 from OMDb...\n"
     ]
    },
    {
     "name": "stderr",
     "output_type": "stream",
     "text": [
      "Fetching movie data:  24%|████▋              | 637/2614 [04:10<13:02,  2.53it/s]"
     ]
    },
    {
     "name": "stdout",
     "output_type": "stream",
     "text": [
      "Fetching data for movie ID tt4137380 from OMDb...\n"
     ]
    },
    {
     "name": "stderr",
     "output_type": "stream",
     "text": [
      "Fetching movie data:  24%|████▋              | 638/2614 [04:11<13:09,  2.50it/s]"
     ]
    },
    {
     "name": "stdout",
     "output_type": "stream",
     "text": [
      "Fetching data for movie ID tt9016540 from OMDb...\n"
     ]
    },
    {
     "name": "stderr",
     "output_type": "stream",
     "text": [
      "Fetching movie data:  24%|████▋              | 639/2614 [04:11<12:39,  2.60it/s]"
     ]
    },
    {
     "name": "stdout",
     "output_type": "stream",
     "text": [
      "Fetching data for movie ID tt23329452 from OMDb...\n"
     ]
    },
    {
     "name": "stderr",
     "output_type": "stream",
     "text": [
      "Fetching movie data:  24%|████▋              | 640/2614 [04:12<13:29,  2.44it/s]"
     ]
    },
    {
     "name": "stdout",
     "output_type": "stream",
     "text": [
      "Fetching data for movie ID tt7031890 from OMDb...\n"
     ]
    },
    {
     "name": "stderr",
     "output_type": "stream",
     "text": [
      "Fetching movie data:  25%|████▋              | 641/2614 [04:12<13:29,  2.44it/s]"
     ]
    },
    {
     "name": "stdout",
     "output_type": "stream",
     "text": [
      "Fetching data for movie ID tt10375134 from OMDb...\n"
     ]
    },
    {
     "name": "stderr",
     "output_type": "stream",
     "text": [
      "Fetching movie data:  25%|████▋              | 642/2614 [04:12<12:57,  2.54it/s]"
     ]
    },
    {
     "name": "stdout",
     "output_type": "stream",
     "text": [
      "Fetching data for movie ID tt5797134 from OMDb...\n"
     ]
    },
    {
     "name": "stderr",
     "output_type": "stream",
     "text": [
      "Fetching movie data:  25%|████▋              | 643/2614 [04:13<12:36,  2.61it/s]"
     ]
    },
    {
     "name": "stdout",
     "output_type": "stream",
     "text": [
      "Fetching data for movie ID tt15128214 from OMDb...\n"
     ]
    },
    {
     "name": "stderr",
     "output_type": "stream",
     "text": [
      "Fetching movie data:  25%|████▋              | 644/2614 [04:13<12:17,  2.67it/s]"
     ]
    },
    {
     "name": "stdout",
     "output_type": "stream",
     "text": [
      "Fetching data for movie ID tt3652564 from OMDb...\n"
     ]
    },
    {
     "name": "stderr",
     "output_type": "stream",
     "text": [
      "Fetching movie data:  25%|████▋              | 645/2614 [04:14<12:26,  2.64it/s]"
     ]
    },
    {
     "name": "stdout",
     "output_type": "stream",
     "text": [
      "Fetching data for movie ID tt8875804 from OMDb...\n"
     ]
    },
    {
     "name": "stderr",
     "output_type": "stream",
     "text": [
      "Fetching movie data:  25%|████▋              | 646/2614 [04:14<12:35,  2.60it/s]"
     ]
    },
    {
     "name": "stdout",
     "output_type": "stream",
     "text": [
      "Fetching data for movie ID tt13917348 from OMDb...\n"
     ]
    },
    {
     "name": "stderr",
     "output_type": "stream",
     "text": [
      "Fetching movie data:  25%|████▋              | 647/2614 [04:14<13:17,  2.47it/s]"
     ]
    },
    {
     "name": "stdout",
     "output_type": "stream",
     "text": [
      "Fetching data for movie ID tt7259594 from OMDb...\n"
     ]
    },
    {
     "name": "stderr",
     "output_type": "stream",
     "text": [
      "Fetching movie data:  25%|████▋              | 648/2614 [04:15<13:07,  2.50it/s]"
     ]
    },
    {
     "name": "stdout",
     "output_type": "stream",
     "text": [
      "Fetching data for movie ID tt13678498 from OMDb...\n"
     ]
    },
    {
     "name": "stderr",
     "output_type": "stream",
     "text": [
      "Fetching movie data:  25%|████▋              | 649/2614 [04:15<13:08,  2.49it/s]"
     ]
    },
    {
     "name": "stdout",
     "output_type": "stream",
     "text": [
      "Fetching data for movie ID tt11153858 from OMDb...\n"
     ]
    },
    {
     "name": "stderr",
     "output_type": "stream",
     "text": [
      "Fetching movie data:  25%|████▋              | 650/2614 [04:16<13:55,  2.35it/s]"
     ]
    },
    {
     "name": "stdout",
     "output_type": "stream",
     "text": [
      "Fetching data for movie ID tt24132824 from OMDb...\n"
     ]
    },
    {
     "name": "stderr",
     "output_type": "stream",
     "text": [
      "Fetching movie data:  25%|████▋              | 651/2614 [04:16<13:14,  2.47it/s]"
     ]
    },
    {
     "name": "stdout",
     "output_type": "stream",
     "text": [
      "Fetching data for movie ID tt27118356 from OMDb...\n"
     ]
    },
    {
     "name": "stderr",
     "output_type": "stream",
     "text": [
      "Fetching movie data:  25%|████▋              | 652/2614 [04:16<13:48,  2.37it/s]"
     ]
    },
    {
     "name": "stdout",
     "output_type": "stream",
     "text": [
      "Fetching data for movie ID tt10661298 from OMDb...\n"
     ]
    },
    {
     "name": "stderr",
     "output_type": "stream",
     "text": [
      "Fetching movie data:  25%|████▋              | 653/2614 [04:17<13:10,  2.48it/s]"
     ]
    },
    {
     "name": "stdout",
     "output_type": "stream",
     "text": [
      "Fetching data for movie ID tt7238634 from OMDb...\n"
     ]
    },
    {
     "name": "stderr",
     "output_type": "stream",
     "text": [
      "Fetching movie data:  25%|████▊              | 654/2614 [04:17<13:02,  2.51it/s]"
     ]
    },
    {
     "name": "stdout",
     "output_type": "stream",
     "text": [
      "Fetching data for movie ID tt16409230 from OMDb...\n"
     ]
    },
    {
     "name": "stderr",
     "output_type": "stream",
     "text": [
      "Fetching movie data:  25%|████▊              | 655/2614 [04:18<12:49,  2.55it/s]"
     ]
    },
    {
     "name": "stdout",
     "output_type": "stream",
     "text": [
      "Fetching data for movie ID tt8880514 from OMDb...\n"
     ]
    },
    {
     "name": "stderr",
     "output_type": "stream",
     "text": [
      "Fetching movie data:  25%|████▊              | 656/2614 [04:18<12:36,  2.59it/s]"
     ]
    },
    {
     "name": "stdout",
     "output_type": "stream",
     "text": [
      "Fetching data for movie ID tt27731620 from OMDb...\n"
     ]
    },
    {
     "name": "stderr",
     "output_type": "stream",
     "text": [
      "Fetching movie data:  25%|████▊              | 657/2614 [04:18<13:12,  2.47it/s]"
     ]
    },
    {
     "name": "stdout",
     "output_type": "stream",
     "text": [
      "Fetching data for movie ID tt11307646 from OMDb...\n"
     ]
    },
    {
     "name": "stderr",
     "output_type": "stream",
     "text": [
      "Fetching movie data:  25%|████▊              | 658/2614 [04:19<13:36,  2.40it/s]"
     ]
    },
    {
     "name": "stdout",
     "output_type": "stream",
     "text": [
      "Fetching data for movie ID tt8703130 from OMDb...\n"
     ]
    },
    {
     "name": "stderr",
     "output_type": "stream",
     "text": [
      "Fetching movie data:  25%|████▊              | 660/2614 [04:19<10:15,  3.18it/s]"
     ]
    },
    {
     "name": "stdout",
     "output_type": "stream",
     "text": [
      "Fetching data for movie ID tt35242099 from OMDb...\n",
      "Fetching data for movie ID tt3909442 from OMDb...\n"
     ]
    },
    {
     "name": "stderr",
     "output_type": "stream",
     "text": [
      "Fetching movie data:  25%|████▊              | 661/2614 [04:20<11:13,  2.90it/s]"
     ]
    },
    {
     "name": "stdout",
     "output_type": "stream",
     "text": [
      "Fetching data for movie ID tt12670516 from OMDb...\n"
     ]
    },
    {
     "name": "stderr",
     "output_type": "stream",
     "text": [
      "Fetching movie data:  25%|████▊              | 662/2614 [04:20<11:50,  2.75it/s]"
     ]
    },
    {
     "name": "stdout",
     "output_type": "stream",
     "text": [
      "Fetching data for movie ID tt28223119 from OMDb...\n"
     ]
    },
    {
     "name": "stderr",
     "output_type": "stream",
     "text": [
      "Fetching movie data:  25%|████▊              | 663/2614 [04:21<12:18,  2.64it/s]"
     ]
    },
    {
     "name": "stdout",
     "output_type": "stream",
     "text": [
      "Fetching data for movie ID tt11428578 from OMDb...\n"
     ]
    },
    {
     "name": "stderr",
     "output_type": "stream",
     "text": [
      "Fetching movie data:  25%|████▊              | 664/2614 [04:21<12:42,  2.56it/s]"
     ]
    },
    {
     "name": "stdout",
     "output_type": "stream",
     "text": [
      "Fetching data for movie ID tt14501468 from OMDb...\n"
     ]
    },
    {
     "name": "stderr",
     "output_type": "stream",
     "text": [
      "Fetching movie data:  25%|████▊              | 665/2614 [04:21<12:45,  2.55it/s]"
     ]
    },
    {
     "name": "stdout",
     "output_type": "stream",
     "text": [
      "Fetching data for movie ID tt4240910 from OMDb...\n"
     ]
    },
    {
     "name": "stderr",
     "output_type": "stream",
     "text": [
      "Fetching movie data:  25%|████▊              | 666/2614 [04:22<12:40,  2.56it/s]"
     ]
    },
    {
     "name": "stdout",
     "output_type": "stream",
     "text": [
      "Fetching data for movie ID tt11275354 from OMDb...\n"
     ]
    },
    {
     "name": "stderr",
     "output_type": "stream",
     "text": [
      "Fetching movie data:  26%|████▊              | 667/2614 [04:22<13:05,  2.48it/s]"
     ]
    },
    {
     "name": "stdout",
     "output_type": "stream",
     "text": [
      "Fetching data for movie ID tt4195906 from OMDb...\n"
     ]
    },
    {
     "name": "stderr",
     "output_type": "stream",
     "text": [
      "Fetching movie data:  26%|████▊              | 668/2614 [04:23<12:37,  2.57it/s]"
     ]
    },
    {
     "name": "stdout",
     "output_type": "stream",
     "text": [
      "Fetching data for movie ID tt26450684 from OMDb...\n"
     ]
    },
    {
     "name": "stderr",
     "output_type": "stream",
     "text": [
      "Fetching movie data:  26%|████▊              | 669/2614 [04:23<13:19,  2.43it/s]"
     ]
    },
    {
     "name": "stdout",
     "output_type": "stream",
     "text": [
      "Fetching data for movie ID tt9196234 from OMDb...\n"
     ]
    },
    {
     "name": "stderr",
     "output_type": "stream",
     "text": [
      "Fetching movie data:  26%|████▊              | 670/2614 [04:23<13:20,  2.43it/s]"
     ]
    },
    {
     "name": "stdout",
     "output_type": "stream",
     "text": [
      "Fetching data for movie ID tt16748856 from OMDb...\n"
     ]
    },
    {
     "name": "stderr",
     "output_type": "stream",
     "text": [
      "Fetching movie data:  26%|████▉              | 672/2614 [04:24<10:52,  2.97it/s]"
     ]
    },
    {
     "name": "stdout",
     "output_type": "stream",
     "text": [
      "Fetching data for movie ID tt21819250 from OMDb...\n",
      "Fetching data for movie ID tt14746602 from OMDb...\n"
     ]
    },
    {
     "name": "stderr",
     "output_type": "stream",
     "text": [
      "Fetching movie data:  26%|████▉              | 673/2614 [04:24<11:04,  2.92it/s]"
     ]
    },
    {
     "name": "stdout",
     "output_type": "stream",
     "text": [
      "Fetching data for movie ID tt13404210 from OMDb...\n"
     ]
    },
    {
     "name": "stderr",
     "output_type": "stream",
     "text": [
      "Fetching movie data:  26%|████▉              | 674/2614 [04:25<11:08,  2.90it/s]"
     ]
    },
    {
     "name": "stdout",
     "output_type": "stream",
     "text": [
      "Fetching data for movie ID tt29980381 from OMDb...\n"
     ]
    },
    {
     "name": "stderr",
     "output_type": "stream",
     "text": [
      "Fetching movie data:  26%|████▉              | 675/2614 [04:25<11:55,  2.71it/s]"
     ]
    },
    {
     "name": "stdout",
     "output_type": "stream",
     "text": [
      "Fetching data for movie ID tt13312632 from OMDb...\n"
     ]
    },
    {
     "name": "stderr",
     "output_type": "stream",
     "text": [
      "Fetching movie data:  26%|████▉              | 676/2614 [04:26<12:44,  2.53it/s]"
     ]
    },
    {
     "name": "stdout",
     "output_type": "stream",
     "text": [
      "Fetching data for movie ID tt4488632 from OMDb...\n"
     ]
    },
    {
     "name": "stderr",
     "output_type": "stream",
     "text": [
      "Fetching movie data:  26%|████▉              | 677/2614 [04:26<12:52,  2.51it/s]"
     ]
    },
    {
     "name": "stdout",
     "output_type": "stream",
     "text": [
      "Fetching data for movie ID tt8983202 from OMDb...\n"
     ]
    },
    {
     "name": "stderr",
     "output_type": "stream",
     "text": [
      "Fetching movie data:  26%|████▉              | 678/2614 [04:26<13:06,  2.46it/s]"
     ]
    },
    {
     "name": "stdout",
     "output_type": "stream",
     "text": [
      "Fetching data for movie ID tt7569812 from OMDb...\n"
     ]
    },
    {
     "name": "stderr",
     "output_type": "stream",
     "text": [
      "Fetching movie data:  26%|████▉              | 679/2614 [04:27<13:00,  2.48it/s]"
     ]
    },
    {
     "name": "stdout",
     "output_type": "stream",
     "text": [
      "Fetching data for movie ID tt4382874 from OMDb...\n"
     ]
    },
    {
     "name": "stderr",
     "output_type": "stream",
     "text": [
      "Fetching movie data:  26%|████▉              | 680/2614 [04:27<12:59,  2.48it/s]"
     ]
    },
    {
     "name": "stdout",
     "output_type": "stream",
     "text": [
      "Fetching data for movie ID tt10636632 from OMDb...\n"
     ]
    },
    {
     "name": "stderr",
     "output_type": "stream",
     "text": [
      "Fetching movie data:  26%|████▉              | 681/2614 [04:28<13:05,  2.46it/s]"
     ]
    },
    {
     "name": "stdout",
     "output_type": "stream",
     "text": [
      "Fetching data for movie ID tt7212426 from OMDb...\n"
     ]
    },
    {
     "name": "stderr",
     "output_type": "stream",
     "text": [
      "Fetching movie data:  26%|████▉              | 682/2614 [04:28<14:07,  2.28it/s]"
     ]
    },
    {
     "name": "stdout",
     "output_type": "stream",
     "text": [
      "Fetching data for movie ID tt15891186 from OMDb...\n"
     ]
    },
    {
     "name": "stderr",
     "output_type": "stream",
     "text": [
      "Fetching movie data:  26%|████▉              | 683/2614 [04:29<14:49,  2.17it/s]"
     ]
    },
    {
     "name": "stdout",
     "output_type": "stream",
     "text": [
      "Fetching data for movie ID tt11760696 from OMDb...\n"
     ]
    },
    {
     "name": "stderr",
     "output_type": "stream",
     "text": [
      "Fetching movie data:  26%|████▉              | 684/2614 [04:29<14:57,  2.15it/s]"
     ]
    },
    {
     "name": "stdout",
     "output_type": "stream",
     "text": [
      "Fetching data for movie ID tt4474766 from OMDb...\n"
     ]
    },
    {
     "name": "stderr",
     "output_type": "stream",
     "text": [
      "Fetching movie data:  26%|████▉              | 685/2614 [04:30<14:06,  2.28it/s]"
     ]
    },
    {
     "name": "stdout",
     "output_type": "stream",
     "text": [
      "Fetching data for movie ID tt12190174 from OMDb...\n"
     ]
    },
    {
     "name": "stderr",
     "output_type": "stream",
     "text": [
      "Fetching movie data:  26%|████▉              | 686/2614 [04:30<16:27,  1.95it/s]"
     ]
    },
    {
     "name": "stdout",
     "output_type": "stream",
     "text": [
      "Fetching data for movie ID tt14678754 from OMDb...\n"
     ]
    },
    {
     "name": "stderr",
     "output_type": "stream",
     "text": [
      "Fetching movie data:  26%|████▉              | 687/2614 [04:31<15:27,  2.08it/s]"
     ]
    },
    {
     "name": "stdout",
     "output_type": "stream",
     "text": [
      "Fetching data for movie ID tt5573404 from OMDb...\n"
     ]
    },
    {
     "name": "stderr",
     "output_type": "stream",
     "text": [
      "Fetching movie data:  26%|█████              | 688/2614 [04:31<14:45,  2.17it/s]"
     ]
    },
    {
     "name": "stdout",
     "output_type": "stream",
     "text": [
      "Fetching data for movie ID tt5969696 from OMDb...\n"
     ]
    },
    {
     "name": "stderr",
     "output_type": "stream",
     "text": [
      "Fetching movie data:  26%|█████              | 689/2614 [04:31<13:34,  2.36it/s]"
     ]
    },
    {
     "name": "stdout",
     "output_type": "stream",
     "text": [
      "Fetching data for movie ID tt3950838 from OMDb...\n"
     ]
    },
    {
     "name": "stderr",
     "output_type": "stream",
     "text": [
      "Fetching movie data:  26%|█████              | 690/2614 [04:32<12:56,  2.48it/s]"
     ]
    },
    {
     "name": "stdout",
     "output_type": "stream",
     "text": [
      "Fetching data for movie ID tt18920258 from OMDb...\n"
     ]
    },
    {
     "name": "stderr",
     "output_type": "stream",
     "text": [
      "Fetching movie data:  26%|█████              | 691/2614 [04:32<13:11,  2.43it/s]"
     ]
    },
    {
     "name": "stdout",
     "output_type": "stream",
     "text": [
      "Fetching data for movie ID tt2871648 from OMDb...\n"
     ]
    },
    {
     "name": "stderr",
     "output_type": "stream",
     "text": [
      "Fetching movie data:  26%|█████              | 692/2614 [04:33<13:01,  2.46it/s]"
     ]
    },
    {
     "name": "stdout",
     "output_type": "stream",
     "text": [
      "Fetching data for movie ID tt10696054 from OMDb...\n"
     ]
    },
    {
     "name": "stderr",
     "output_type": "stream",
     "text": [
      "Fetching movie data:  27%|█████              | 693/2614 [04:33<14:19,  2.24it/s]"
     ]
    },
    {
     "name": "stdout",
     "output_type": "stream",
     "text": [
      "Fetching data for movie ID tt5124154 from OMDb...\n"
     ]
    },
    {
     "name": "stderr",
     "output_type": "stream",
     "text": [
      "Fetching movie data:  27%|█████              | 694/2614 [04:33<13:19,  2.40it/s]"
     ]
    },
    {
     "name": "stdout",
     "output_type": "stream",
     "text": [
      "Fetching data for movie ID tt30840004 from OMDb...\n"
     ]
    },
    {
     "name": "stderr",
     "output_type": "stream",
     "text": [
      "Fetching movie data:  27%|█████              | 696/2614 [04:34<11:24,  2.80it/s]"
     ]
    },
    {
     "name": "stdout",
     "output_type": "stream",
     "text": [
      "Fetching data for movie ID tt27131358 from OMDb...\n",
      "Fetching data for movie ID tt7983394 from OMDb...\n"
     ]
    },
    {
     "name": "stderr",
     "output_type": "stream",
     "text": [
      "Fetching movie data:  27%|█████              | 697/2614 [04:34<11:50,  2.70it/s]"
     ]
    },
    {
     "name": "stdout",
     "output_type": "stream",
     "text": [
      "Fetching data for movie ID tt10419110 from OMDb...\n"
     ]
    },
    {
     "name": "stderr",
     "output_type": "stream",
     "text": [
      "Fetching movie data:  27%|█████              | 698/2614 [04:35<11:38,  2.74it/s]"
     ]
    },
    {
     "name": "stdout",
     "output_type": "stream",
     "text": [
      "Fetching data for movie ID tt3956984 from OMDb...\n"
     ]
    },
    {
     "name": "stderr",
     "output_type": "stream",
     "text": [
      "Fetching movie data:  27%|█████              | 699/2614 [04:35<11:35,  2.75it/s]"
     ]
    },
    {
     "name": "stdout",
     "output_type": "stream",
     "text": [
      "Fetching data for movie ID tt23036566 from OMDb...\n"
     ]
    },
    {
     "name": "stderr",
     "output_type": "stream",
     "text": [
      "Fetching movie data:  27%|█████              | 700/2614 [04:36<12:19,  2.59it/s]"
     ]
    },
    {
     "name": "stdout",
     "output_type": "stream",
     "text": [
      "Fetching data for movie ID tt16077740 from OMDb...\n"
     ]
    },
    {
     "name": "stderr",
     "output_type": "stream",
     "text": [
      "Fetching movie data:  27%|█████              | 701/2614 [04:36<12:33,  2.54it/s]"
     ]
    },
    {
     "name": "stdout",
     "output_type": "stream",
     "text": [
      "Fetching data for movie ID tt23132884 from OMDb...\n"
     ]
    },
    {
     "name": "stderr",
     "output_type": "stream",
     "text": [
      "Fetching movie data:  27%|█████              | 702/2614 [04:36<12:29,  2.55it/s]"
     ]
    },
    {
     "name": "stdout",
     "output_type": "stream",
     "text": [
      "Fetching data for movie ID tt5199110 from OMDb...\n"
     ]
    },
    {
     "name": "stderr",
     "output_type": "stream",
     "text": [
      "Fetching movie data:  27%|█████              | 703/2614 [04:37<12:35,  2.53it/s]"
     ]
    },
    {
     "name": "stdout",
     "output_type": "stream",
     "text": [
      "Fetching data for movie ID tt4078794 from OMDb...\n"
     ]
    },
    {
     "name": "stderr",
     "output_type": "stream",
     "text": [
      "Fetching movie data:  27%|█████              | 704/2614 [04:37<12:20,  2.58it/s]"
     ]
    },
    {
     "name": "stdout",
     "output_type": "stream",
     "text": [
      "Fetching data for movie ID tt5204834 from OMDb...\n"
     ]
    },
    {
     "name": "stderr",
     "output_type": "stream",
     "text": [
      "Fetching movie data:  27%|█████              | 705/2614 [04:38<12:11,  2.61it/s]"
     ]
    },
    {
     "name": "stdout",
     "output_type": "stream",
     "text": [
      "Fetching data for movie ID tt2275702 from OMDb...\n"
     ]
    },
    {
     "name": "stderr",
     "output_type": "stream",
     "text": [
      "Fetching movie data:  27%|█████▏             | 706/2614 [04:38<12:20,  2.58it/s]"
     ]
    },
    {
     "name": "stdout",
     "output_type": "stream",
     "text": [
      "Fetching data for movie ID tt6866852 from OMDb...\n"
     ]
    },
    {
     "name": "stderr",
     "output_type": "stream",
     "text": [
      "Fetching movie data:  27%|█████▏             | 707/2614 [04:38<12:02,  2.64it/s]"
     ]
    },
    {
     "name": "stdout",
     "output_type": "stream",
     "text": [
      "Fetching data for movie ID tt10334864 from OMDb...\n"
     ]
    },
    {
     "name": "stderr",
     "output_type": "stream",
     "text": [
      "Fetching movie data:  27%|█████▏             | 708/2614 [04:39<11:57,  2.66it/s]"
     ]
    },
    {
     "name": "stdout",
     "output_type": "stream",
     "text": [
      "Fetching data for movie ID tt26862570 from OMDb...\n"
     ]
    },
    {
     "name": "stderr",
     "output_type": "stream",
     "text": [
      "Fetching movie data:  27%|█████▏             | 709/2614 [04:39<12:15,  2.59it/s]"
     ]
    },
    {
     "name": "stdout",
     "output_type": "stream",
     "text": [
      "Fetching data for movie ID tt13430682 from OMDb...\n"
     ]
    },
    {
     "name": "stderr",
     "output_type": "stream",
     "text": [
      "Fetching movie data:  27%|█████▏             | 710/2614 [04:40<13:27,  2.36it/s]"
     ]
    },
    {
     "name": "stdout",
     "output_type": "stream",
     "text": [
      "Fetching data for movie ID tt8045450 from OMDb...\n"
     ]
    },
    {
     "name": "stderr",
     "output_type": "stream",
     "text": [
      "Fetching movie data:  27%|█████▏             | 711/2614 [04:40<13:07,  2.42it/s]"
     ]
    },
    {
     "name": "stdout",
     "output_type": "stream",
     "text": [
      "Fetching data for movie ID tt28606415 from OMDb...\n"
     ]
    },
    {
     "name": "stderr",
     "output_type": "stream",
     "text": [
      "Fetching movie data:  27%|█████▏             | 712/2614 [04:41<15:11,  2.09it/s]"
     ]
    },
    {
     "name": "stdout",
     "output_type": "stream",
     "text": [
      "Fetching data for movie ID tt4435050 from OMDb...\n"
     ]
    },
    {
     "name": "stderr",
     "output_type": "stream",
     "text": [
      "Fetching movie data:  27%|█████▏             | 713/2614 [04:41<14:19,  2.21it/s]"
     ]
    },
    {
     "name": "stdout",
     "output_type": "stream",
     "text": [
      "Fetching data for movie ID tt21611434 from OMDb...\n"
     ]
    },
    {
     "name": "stderr",
     "output_type": "stream",
     "text": [
      "Fetching movie data:  27%|█████▏             | 714/2614 [04:41<13:11,  2.40it/s]"
     ]
    },
    {
     "name": "stdout",
     "output_type": "stream",
     "text": [
      "Fetching data for movie ID tt18163414 from OMDb...\n"
     ]
    },
    {
     "name": "stderr",
     "output_type": "stream",
     "text": [
      "Fetching movie data:  27%|█████▏             | 715/2614 [04:42<13:20,  2.37it/s]"
     ]
    },
    {
     "name": "stdout",
     "output_type": "stream",
     "text": [
      "Fetching data for movie ID tt6988136 from OMDb...\n"
     ]
    },
    {
     "name": "stderr",
     "output_type": "stream",
     "text": [
      "Fetching movie data:  27%|█████▏             | 716/2614 [04:42<13:45,  2.30it/s]"
     ]
    },
    {
     "name": "stdout",
     "output_type": "stream",
     "text": [
      "Fetching data for movie ID tt16968086 from OMDb...\n"
     ]
    },
    {
     "name": "stderr",
     "output_type": "stream",
     "text": [
      "Fetching movie data:  27%|█████▏             | 717/2614 [04:43<13:07,  2.41it/s]"
     ]
    },
    {
     "name": "stdout",
     "output_type": "stream",
     "text": [
      "Fetching data for movie ID tt21366724 from OMDb...\n"
     ]
    },
    {
     "name": "stderr",
     "output_type": "stream",
     "text": [
      "Fetching movie data:  27%|█████▏             | 718/2614 [04:43<13:23,  2.36it/s]"
     ]
    },
    {
     "name": "stdout",
     "output_type": "stream",
     "text": [
      "Fetching data for movie ID tt5861350 from OMDb...\n"
     ]
    },
    {
     "name": "stderr",
     "output_type": "stream",
     "text": [
      "Fetching movie data:  28%|█████▏             | 719/2614 [04:43<12:56,  2.44it/s]"
     ]
    },
    {
     "name": "stdout",
     "output_type": "stream",
     "text": [
      "Fetching data for movie ID tt29102354 from OMDb...\n"
     ]
    },
    {
     "name": "stderr",
     "output_type": "stream",
     "text": [
      "Fetching movie data:  28%|█████▏             | 720/2614 [04:44<13:02,  2.42it/s]"
     ]
    },
    {
     "name": "stdout",
     "output_type": "stream",
     "text": [
      "Fetching data for movie ID tt3148952 from OMDb...\n"
     ]
    },
    {
     "name": "stderr",
     "output_type": "stream",
     "text": [
      "Fetching movie data:  28%|█████▏             | 721/2614 [04:44<12:17,  2.57it/s]"
     ]
    },
    {
     "name": "stdout",
     "output_type": "stream",
     "text": [
      "Fetching data for movie ID tt2295560 from OMDb...\n"
     ]
    },
    {
     "name": "stderr",
     "output_type": "stream",
     "text": [
      "Fetching movie data:  28%|█████▏             | 722/2614 [04:45<11:48,  2.67it/s]"
     ]
    },
    {
     "name": "stdout",
     "output_type": "stream",
     "text": [
      "Fetching data for movie ID tt12065390 from OMDb...\n"
     ]
    },
    {
     "name": "stderr",
     "output_type": "stream",
     "text": [
      "Fetching movie data:  28%|█████▎             | 723/2614 [04:45<11:51,  2.66it/s]"
     ]
    },
    {
     "name": "stdout",
     "output_type": "stream",
     "text": [
      "Fetching data for movie ID tt35497181 from OMDb...\n",
      "Fetching data for movie ID tt3108260 from OMDb...\n"
     ]
    },
    {
     "name": "stderr",
     "output_type": "stream",
     "text": [
      "Fetching movie data:  28%|█████▎             | 725/2614 [04:45<09:48,  3.21it/s]"
     ]
    },
    {
     "name": "stdout",
     "output_type": "stream",
     "text": [
      "Fetching data for movie ID tt5894888 from OMDb...\n"
     ]
    },
    {
     "name": "stderr",
     "output_type": "stream",
     "text": [
      "Fetching movie data:  28%|█████▎             | 726/2614 [04:46<11:00,  2.86it/s]"
     ]
    },
    {
     "name": "stdout",
     "output_type": "stream",
     "text": [
      "Fetching data for movie ID tt5536398 from OMDb...\n"
     ]
    },
    {
     "name": "stderr",
     "output_type": "stream",
     "text": [
      "Fetching movie data:  28%|█████▎             | 727/2614 [04:46<12:12,  2.58it/s]"
     ]
    },
    {
     "name": "stdout",
     "output_type": "stream",
     "text": [
      "Progress saved after 37100 movies.\n",
      "Fetching data for movie ID tt19849598 from OMDb...\n"
     ]
    },
    {
     "name": "stderr",
     "output_type": "stream",
     "text": [
      "Fetching movie data:  28%|█████▎             | 728/2614 [04:47<14:17,  2.20it/s]"
     ]
    },
    {
     "name": "stdout",
     "output_type": "stream",
     "text": [
      "Fetching data for movie ID tt8693770 from OMDb...\n"
     ]
    },
    {
     "name": "stderr",
     "output_type": "stream",
     "text": [
      "Fetching movie data:  28%|█████▎             | 729/2614 [04:47<13:31,  2.32it/s]"
     ]
    },
    {
     "name": "stdout",
     "output_type": "stream",
     "text": [
      "Fetching data for movie ID tt12916150 from OMDb...\n"
     ]
    },
    {
     "name": "stderr",
     "output_type": "stream",
     "text": [
      "Fetching movie data:  28%|█████▎             | 730/2614 [04:48<13:41,  2.29it/s]"
     ]
    },
    {
     "name": "stdout",
     "output_type": "stream",
     "text": [
      "Fetching data for movie ID tt4960818 from OMDb...\n"
     ]
    },
    {
     "name": "stderr",
     "output_type": "stream",
     "text": [
      "Fetching movie data:  28%|█████▎             | 731/2614 [04:48<14:22,  2.18it/s]"
     ]
    },
    {
     "name": "stdout",
     "output_type": "stream",
     "text": [
      "Fetching data for movie ID tt6981030 from OMDb...\n"
     ]
    },
    {
     "name": "stderr",
     "output_type": "stream",
     "text": [
      "Fetching movie data:  28%|█████▎             | 732/2614 [04:49<14:51,  2.11it/s]"
     ]
    },
    {
     "name": "stdout",
     "output_type": "stream",
     "text": [
      "Fetching data for movie ID tt11724148 from OMDb...\n"
     ]
    },
    {
     "name": "stderr",
     "output_type": "stream",
     "text": [
      "Fetching movie data:  28%|█████▎             | 733/2614 [04:49<13:55,  2.25it/s]"
     ]
    },
    {
     "name": "stdout",
     "output_type": "stream",
     "text": [
      "Fetching data for movie ID tt9695462 from OMDb...\n"
     ]
    },
    {
     "name": "stderr",
     "output_type": "stream",
     "text": [
      "Fetching movie data:  28%|█████▎             | 734/2614 [04:50<13:42,  2.29it/s]"
     ]
    },
    {
     "name": "stdout",
     "output_type": "stream",
     "text": [
      "Fetching data for movie ID tt6734040 from OMDb...\n"
     ]
    },
    {
     "name": "stderr",
     "output_type": "stream",
     "text": [
      "Fetching movie data:  28%|█████▎             | 735/2614 [04:50<15:34,  2.01it/s]"
     ]
    },
    {
     "name": "stdout",
     "output_type": "stream",
     "text": [
      "Fetching data for movie ID tt10033904 from OMDb...\n"
     ]
    },
    {
     "name": "stderr",
     "output_type": "stream",
     "text": [
      "Fetching movie data:  28%|█████▎             | 736/2614 [04:51<14:43,  2.12it/s]"
     ]
    },
    {
     "name": "stdout",
     "output_type": "stream",
     "text": [
      "Fetching data for movie ID tt30475559 from OMDb...\n"
     ]
    },
    {
     "name": "stderr",
     "output_type": "stream",
     "text": [
      "Fetching movie data:  28%|█████▎             | 737/2614 [04:51<13:52,  2.25it/s]"
     ]
    },
    {
     "name": "stdout",
     "output_type": "stream",
     "text": [
      "Fetching data for movie ID tt3657610 from OMDb...\n"
     ]
    },
    {
     "name": "stderr",
     "output_type": "stream",
     "text": [
      "Fetching movie data:  28%|█████▎             | 738/2614 [04:51<13:50,  2.26it/s]"
     ]
    },
    {
     "name": "stdout",
     "output_type": "stream",
     "text": [
      "Fetching data for movie ID tt14273718 from OMDb...\n"
     ]
    },
    {
     "name": "stderr",
     "output_type": "stream",
     "text": [
      "Fetching movie data:  28%|█████▎             | 739/2614 [04:52<13:10,  2.37it/s]"
     ]
    },
    {
     "name": "stdout",
     "output_type": "stream",
     "text": [
      "Fetching data for movie ID tt4405142 from OMDb...\n"
     ]
    },
    {
     "name": "stderr",
     "output_type": "stream",
     "text": [
      "Fetching movie data:  28%|█████▍             | 740/2614 [04:52<13:03,  2.39it/s]"
     ]
    },
    {
     "name": "stdout",
     "output_type": "stream",
     "text": [
      "Fetching data for movie ID tt9518824 from OMDb...\n"
     ]
    },
    {
     "name": "stderr",
     "output_type": "stream",
     "text": [
      "Fetching movie data:  28%|█████▍             | 741/2614 [04:53<12:23,  2.52it/s]"
     ]
    },
    {
     "name": "stdout",
     "output_type": "stream",
     "text": [
      "Fetching data for movie ID tt9530840 from OMDb...\n"
     ]
    },
    {
     "name": "stderr",
     "output_type": "stream",
     "text": [
      "Fetching movie data:  28%|█████▍             | 742/2614 [04:53<12:18,  2.54it/s]"
     ]
    },
    {
     "name": "stdout",
     "output_type": "stream",
     "text": [
      "Fetching data for movie ID tt5125576 from OMDb...\n"
     ]
    },
    {
     "name": "stderr",
     "output_type": "stream",
     "text": [
      "Fetching movie data:  28%|█████▍             | 743/2614 [04:53<11:42,  2.66it/s]"
     ]
    },
    {
     "name": "stdout",
     "output_type": "stream",
     "text": [
      "Fetching data for movie ID tt13429168 from OMDb...\n"
     ]
    },
    {
     "name": "stderr",
     "output_type": "stream",
     "text": [
      "Fetching movie data:  28%|█████▍             | 744/2614 [04:54<11:22,  2.74it/s]"
     ]
    },
    {
     "name": "stdout",
     "output_type": "stream",
     "text": [
      "Fetching data for movie ID tt21230074 from OMDb...\n"
     ]
    },
    {
     "name": "stderr",
     "output_type": "stream",
     "text": [
      "Fetching movie data:  29%|█████▍             | 745/2614 [04:54<11:16,  2.76it/s]"
     ]
    },
    {
     "name": "stdout",
     "output_type": "stream",
     "text": [
      "Fetching data for movie ID tt5475244 from OMDb...\n"
     ]
    },
    {
     "name": "stderr",
     "output_type": "stream",
     "text": [
      "Fetching movie data:  29%|█████▍             | 748/2614 [04:55<07:44,  4.02it/s]"
     ]
    },
    {
     "name": "stdout",
     "output_type": "stream",
     "text": [
      "Fetching data for movie ID tt22852578 from OMDb...\n",
      "Fetching data for movie ID tt34380108 from OMDb...\n",
      "Fetching data for movie ID tt31262329 from OMDb...\n"
     ]
    },
    {
     "name": "stderr",
     "output_type": "stream",
     "text": [
      "Fetching movie data:  29%|█████▍             | 749/2614 [04:55<08:51,  3.51it/s]"
     ]
    },
    {
     "name": "stdout",
     "output_type": "stream",
     "text": [
      "Fetching data for movie ID tt8341650 from OMDb...\n"
     ]
    },
    {
     "name": "stderr",
     "output_type": "stream",
     "text": [
      "Fetching movie data:  29%|█████▍             | 750/2614 [04:56<11:44,  2.65it/s]"
     ]
    },
    {
     "name": "stdout",
     "output_type": "stream",
     "text": [
      "Fetching data for movie ID tt8108194 from OMDb...\n"
     ]
    },
    {
     "name": "stderr",
     "output_type": "stream",
     "text": [
      "Fetching movie data:  29%|█████▍             | 751/2614 [04:56<12:00,  2.58it/s]"
     ]
    },
    {
     "name": "stdout",
     "output_type": "stream",
     "text": [
      "Fetching data for movie ID tt26863503 from OMDb...\n"
     ]
    },
    {
     "name": "stderr",
     "output_type": "stream",
     "text": [
      "Fetching movie data:  29%|█████▍             | 752/2614 [04:57<12:13,  2.54it/s]"
     ]
    },
    {
     "name": "stdout",
     "output_type": "stream",
     "text": [
      "Fetching data for movie ID tt29106765 from OMDb...\n"
     ]
    },
    {
     "name": "stderr",
     "output_type": "stream",
     "text": [
      "Fetching movie data:  29%|█████▍             | 753/2614 [04:57<13:14,  2.34it/s]"
     ]
    },
    {
     "name": "stdout",
     "output_type": "stream",
     "text": [
      "Fetching data for movie ID tt32104391 from OMDb...\n"
     ]
    },
    {
     "name": "stderr",
     "output_type": "stream",
     "text": [
      "Fetching movie data:  29%|█████▍             | 754/2614 [04:57<12:42,  2.44it/s]"
     ]
    },
    {
     "name": "stdout",
     "output_type": "stream",
     "text": [
      "Fetching data for movie ID tt4746216 from OMDb...\n"
     ]
    },
    {
     "name": "stderr",
     "output_type": "stream",
     "text": [
      "Fetching movie data:  29%|█████▍             | 755/2614 [04:58<13:05,  2.37it/s]"
     ]
    },
    {
     "name": "stdout",
     "output_type": "stream",
     "text": [
      "Fetching data for movie ID tt1942818 from OMDb...\n"
     ]
    },
    {
     "name": "stderr",
     "output_type": "stream",
     "text": [
      "Fetching movie data:  29%|█████▍             | 756/2614 [04:59<15:46,  1.96it/s]"
     ]
    },
    {
     "name": "stdout",
     "output_type": "stream",
     "text": [
      "Fetching data for movie ID tt6153126 from OMDb...\n"
     ]
    },
    {
     "name": "stderr",
     "output_type": "stream",
     "text": [
      "Fetching movie data:  29%|█████▌             | 757/2614 [04:59<14:54,  2.08it/s]"
     ]
    },
    {
     "name": "stdout",
     "output_type": "stream",
     "text": [
      "Fetching data for movie ID tt15873942 from OMDb...\n"
     ]
    },
    {
     "name": "stderr",
     "output_type": "stream",
     "text": [
      "Fetching movie data:  29%|█████▌             | 758/2614 [04:59<13:37,  2.27it/s]"
     ]
    },
    {
     "name": "stdout",
     "output_type": "stream",
     "text": [
      "Fetching data for movie ID tt32751209 from OMDb...\n"
     ]
    },
    {
     "name": "stderr",
     "output_type": "stream",
     "text": [
      "Fetching movie data:  29%|█████▌             | 759/2614 [05:00<12:50,  2.41it/s]"
     ]
    },
    {
     "name": "stdout",
     "output_type": "stream",
     "text": [
      "Fetching data for movie ID tt4939078 from OMDb...\n"
     ]
    },
    {
     "name": "stderr",
     "output_type": "stream",
     "text": [
      "Fetching movie data:  29%|█████▌             | 760/2614 [05:00<12:53,  2.40it/s]"
     ]
    },
    {
     "name": "stdout",
     "output_type": "stream",
     "text": [
      "Fetching data for movie ID tt5170292 from OMDb...\n"
     ]
    },
    {
     "name": "stderr",
     "output_type": "stream",
     "text": [
      "Fetching movie data:  29%|█████▌             | 761/2614 [05:00<12:18,  2.51it/s]"
     ]
    },
    {
     "name": "stdout",
     "output_type": "stream",
     "text": [
      "Fetching data for movie ID tt35335552 from OMDb...\n"
     ]
    },
    {
     "name": "stderr",
     "output_type": "stream",
     "text": [
      "Fetching movie data:  29%|█████▌             | 762/2614 [05:01<11:49,  2.61it/s]"
     ]
    },
    {
     "name": "stdout",
     "output_type": "stream",
     "text": [
      "Fetching data for movie ID tt5482596 from OMDb...\n"
     ]
    },
    {
     "name": "stderr",
     "output_type": "stream",
     "text": [
      "Fetching movie data:  29%|█████▌             | 763/2614 [05:01<11:56,  2.58it/s]"
     ]
    },
    {
     "name": "stdout",
     "output_type": "stream",
     "text": [
      "Fetching data for movie ID tt6359454 from OMDb...\n"
     ]
    },
    {
     "name": "stderr",
     "output_type": "stream",
     "text": [
      "Fetching movie data:  29%|█████▌             | 764/2614 [05:02<12:22,  2.49it/s]"
     ]
    },
    {
     "name": "stdout",
     "output_type": "stream",
     "text": [
      "Fetching data for movie ID tt14759612 from OMDb...\n"
     ]
    },
    {
     "name": "stderr",
     "output_type": "stream",
     "text": [
      "Fetching movie data:  29%|█████▌             | 765/2614 [05:02<11:53,  2.59it/s]"
     ]
    },
    {
     "name": "stdout",
     "output_type": "stream",
     "text": [
      "Fetching data for movie ID tt6353148 from OMDb...\n"
     ]
    },
    {
     "name": "stderr",
     "output_type": "stream",
     "text": [
      "Fetching movie data:  29%|█████▌             | 766/2614 [05:02<11:34,  2.66it/s]"
     ]
    },
    {
     "name": "stdout",
     "output_type": "stream",
     "text": [
      "Fetching data for movie ID tt6648718 from OMDb...\n"
     ]
    },
    {
     "name": "stderr",
     "output_type": "stream",
     "text": [
      "Fetching movie data:  29%|█████▌             | 767/2614 [05:03<12:03,  2.55it/s]"
     ]
    },
    {
     "name": "stdout",
     "output_type": "stream",
     "text": [
      "Fetching data for movie ID tt30960953 from OMDb...\n"
     ]
    },
    {
     "name": "stderr",
     "output_type": "stream",
     "text": [
      "Fetching movie data:  29%|█████▌             | 768/2614 [05:03<11:40,  2.64it/s]"
     ]
    },
    {
     "name": "stdout",
     "output_type": "stream",
     "text": [
      "Fetching data for movie ID tt7950510 from OMDb...\n"
     ]
    },
    {
     "name": "stderr",
     "output_type": "stream",
     "text": [
      "Fetching movie data:  29%|█████▌             | 769/2614 [05:04<14:20,  2.15it/s]"
     ]
    },
    {
     "name": "stdout",
     "output_type": "stream",
     "text": [
      "Fetching data for movie ID tt11508246 from OMDb...\n"
     ]
    },
    {
     "name": "stderr",
     "output_type": "stream",
     "text": [
      "Fetching movie data:  29%|█████▌             | 770/2614 [05:04<13:48,  2.23it/s]"
     ]
    },
    {
     "name": "stdout",
     "output_type": "stream",
     "text": [
      "Fetching data for movie ID tt12650806 from OMDb...\n"
     ]
    },
    {
     "name": "stderr",
     "output_type": "stream",
     "text": [
      "Fetching movie data:  29%|█████▌             | 771/2614 [05:05<15:21,  2.00it/s]"
     ]
    },
    {
     "name": "stdout",
     "output_type": "stream",
     "text": [
      "Fetching data for movie ID tt27672959 from OMDb...\n"
     ]
    },
    {
     "name": "stderr",
     "output_type": "stream",
     "text": [
      "Fetching movie data:  30%|█████▌             | 772/2614 [05:05<14:14,  2.16it/s]"
     ]
    },
    {
     "name": "stdout",
     "output_type": "stream",
     "text": [
      "Fetching data for movie ID tt33384809 from OMDb...\n"
     ]
    },
    {
     "name": "stderr",
     "output_type": "stream",
     "text": [
      "Fetching movie data:  30%|█████▌             | 773/2614 [05:06<13:35,  2.26it/s]"
     ]
    },
    {
     "name": "stdout",
     "output_type": "stream",
     "text": [
      "Fetching data for movie ID tt28295088 from OMDb...\n"
     ]
    },
    {
     "name": "stderr",
     "output_type": "stream",
     "text": [
      "Fetching movie data:  30%|█████▋             | 775/2614 [05:06<11:05,  2.76it/s]"
     ]
    },
    {
     "name": "stdout",
     "output_type": "stream",
     "text": [
      "Fetching data for movie ID tt8488126 from OMDb...\n",
      "Fetching data for movie ID tt11946138 from OMDb...\n"
     ]
    },
    {
     "name": "stderr",
     "output_type": "stream",
     "text": [
      "Fetching movie data:  30%|█████▋             | 776/2614 [05:06<09:04,  3.37it/s]"
     ]
    },
    {
     "name": "stdout",
     "output_type": "stream",
     "text": [
      "Fetching data for movie ID tt29720570 from OMDb...\n"
     ]
    },
    {
     "name": "stderr",
     "output_type": "stream",
     "text": [
      "Fetching movie data:  30%|█████▋             | 777/2614 [05:07<11:58,  2.56it/s]"
     ]
    },
    {
     "name": "stdout",
     "output_type": "stream",
     "text": [
      "Fetching data for movie ID tt15039816 from OMDb...\n"
     ]
    },
    {
     "name": "stderr",
     "output_type": "stream",
     "text": [
      "Fetching movie data:  30%|█████▋             | 778/2614 [05:07<11:36,  2.64it/s]"
     ]
    },
    {
     "name": "stdout",
     "output_type": "stream",
     "text": [
      "Fetching data for movie ID tt13155788 from OMDb...\n"
     ]
    },
    {
     "name": "stderr",
     "output_type": "stream",
     "text": [
      "Fetching movie data:  30%|█████▋             | 779/2614 [05:08<12:26,  2.46it/s]"
     ]
    },
    {
     "name": "stdout",
     "output_type": "stream",
     "text": [
      "Fetching data for movie ID tt12077022 from OMDb...\n"
     ]
    },
    {
     "name": "stderr",
     "output_type": "stream",
     "text": [
      "Fetching movie data:  30%|█████▋             | 780/2614 [05:08<12:24,  2.46it/s]"
     ]
    },
    {
     "name": "stdout",
     "output_type": "stream",
     "text": [
      "Fetching data for movie ID tt21821318 from OMDb...\n"
     ]
    },
    {
     "name": "stderr",
     "output_type": "stream",
     "text": [
      "Fetching movie data:  30%|█████▋             | 781/2614 [05:09<11:57,  2.55it/s]"
     ]
    },
    {
     "name": "stdout",
     "output_type": "stream",
     "text": [
      "Fetching data for movie ID tt31612810 from OMDb...\n"
     ]
    },
    {
     "name": "stderr",
     "output_type": "stream",
     "text": [
      "Fetching movie data:  30%|█████▋             | 782/2614 [05:09<12:35,  2.42it/s]"
     ]
    },
    {
     "name": "stdout",
     "output_type": "stream",
     "text": [
      "Fetching data for movie ID tt9613550 from OMDb...\n"
     ]
    },
    {
     "name": "stderr",
     "output_type": "stream",
     "text": [
      "Fetching movie data:  30%|█████▋             | 783/2614 [05:09<12:22,  2.47it/s]"
     ]
    },
    {
     "name": "stdout",
     "output_type": "stream",
     "text": [
      "Fetching data for movie ID tt26768770 from OMDb...\n"
     ]
    },
    {
     "name": "stderr",
     "output_type": "stream",
     "text": [
      "Fetching movie data:  30%|█████▋             | 784/2614 [05:10<12:02,  2.53it/s]"
     ]
    },
    {
     "name": "stdout",
     "output_type": "stream",
     "text": [
      "Fetching data for movie ID tt20414862 from OMDb...\n"
     ]
    },
    {
     "name": "stderr",
     "output_type": "stream",
     "text": [
      "Fetching movie data:  30%|█████▋             | 785/2614 [05:10<12:00,  2.54it/s]"
     ]
    },
    {
     "name": "stdout",
     "output_type": "stream",
     "text": [
      "Fetching data for movie ID tt21627968 from OMDb...\n"
     ]
    },
    {
     "name": "stderr",
     "output_type": "stream",
     "text": [
      "Fetching movie data:  30%|█████▋             | 786/2614 [05:11<11:56,  2.55it/s]"
     ]
    },
    {
     "name": "stdout",
     "output_type": "stream",
     "text": [
      "Fetching data for movie ID tt26384837 from OMDb...\n"
     ]
    },
    {
     "name": "stderr",
     "output_type": "stream",
     "text": [
      "Fetching movie data:  30%|█████▋             | 787/2614 [05:11<12:40,  2.40it/s]"
     ]
    },
    {
     "name": "stdout",
     "output_type": "stream",
     "text": [
      "Fetching data for movie ID tt5127076 from OMDb...\n"
     ]
    },
    {
     "name": "stderr",
     "output_type": "stream",
     "text": [
      "Fetching movie data:  30%|█████▋             | 788/2614 [05:11<13:00,  2.34it/s]"
     ]
    },
    {
     "name": "stdout",
     "output_type": "stream",
     "text": [
      "Fetching data for movie ID tt15840328 from OMDb...\n"
     ]
    },
    {
     "name": "stderr",
     "output_type": "stream",
     "text": [
      "Fetching movie data:  30%|█████▋             | 789/2614 [05:12<13:42,  2.22it/s]"
     ]
    },
    {
     "name": "stdout",
     "output_type": "stream",
     "text": [
      "Fetching data for movie ID tt27789071 from OMDb...\n"
     ]
    },
    {
     "name": "stderr",
     "output_type": "stream",
     "text": [
      "Fetching movie data:  30%|█████▋             | 790/2614 [05:12<13:19,  2.28it/s]"
     ]
    },
    {
     "name": "stdout",
     "output_type": "stream",
     "text": [
      "Fetching data for movie ID tt5882416 from OMDb...\n"
     ]
    },
    {
     "name": "stderr",
     "output_type": "stream",
     "text": [
      "Fetching movie data:  30%|█████▋             | 791/2614 [05:13<13:04,  2.32it/s]"
     ]
    },
    {
     "name": "stdout",
     "output_type": "stream",
     "text": [
      "Fetching data for movie ID tt3854886 from OMDb...\n"
     ]
    },
    {
     "name": "stderr",
     "output_type": "stream",
     "text": [
      "Fetching movie data:  30%|█████▊             | 792/2614 [05:13<12:16,  2.47it/s]"
     ]
    },
    {
     "name": "stdout",
     "output_type": "stream",
     "text": [
      "Fetching data for movie ID tt13826138 from OMDb...\n"
     ]
    },
    {
     "name": "stderr",
     "output_type": "stream",
     "text": [
      "Fetching movie data:  30%|█████▊             | 793/2614 [05:14<11:58,  2.53it/s]"
     ]
    },
    {
     "name": "stdout",
     "output_type": "stream",
     "text": [
      "Fetching data for movie ID tt5010924 from OMDb...\n"
     ]
    },
    {
     "name": "stderr",
     "output_type": "stream",
     "text": [
      "Fetching movie data:  30%|█████▊             | 794/2614 [05:14<12:06,  2.50it/s]"
     ]
    },
    {
     "name": "stdout",
     "output_type": "stream",
     "text": [
      "Fetching data for movie ID tt7269234 from OMDb...\n"
     ]
    },
    {
     "name": "stderr",
     "output_type": "stream",
     "text": [
      "Fetching movie data:  30%|█████▊             | 795/2614 [05:14<12:12,  2.48it/s]"
     ]
    },
    {
     "name": "stdout",
     "output_type": "stream",
     "text": [
      "Fetching data for movie ID tt33401148 from OMDb...\n"
     ]
    },
    {
     "name": "stderr",
     "output_type": "stream",
     "text": [
      "Fetching movie data:  30%|█████▊             | 796/2614 [05:15<12:15,  2.47it/s]"
     ]
    },
    {
     "name": "stdout",
     "output_type": "stream",
     "text": [
      "Fetching data for movie ID tt13799844 from OMDb...\n"
     ]
    },
    {
     "name": "stderr",
     "output_type": "stream",
     "text": [
      "Fetching movie data:  30%|█████▊             | 797/2614 [05:15<12:16,  2.47it/s]"
     ]
    },
    {
     "name": "stdout",
     "output_type": "stream",
     "text": [
      "Fetching data for movie ID tt8045100 from OMDb...\n"
     ]
    },
    {
     "name": "stderr",
     "output_type": "stream",
     "text": [
      "Fetching movie data:  31%|█████▊             | 798/2614 [05:16<12:00,  2.52it/s]"
     ]
    },
    {
     "name": "stdout",
     "output_type": "stream",
     "text": [
      "Fetching data for movie ID tt7513326 from OMDb...\n"
     ]
    },
    {
     "name": "stderr",
     "output_type": "stream",
     "text": [
      "Fetching movie data:  31%|█████▊             | 799/2614 [05:16<12:26,  2.43it/s]"
     ]
    },
    {
     "name": "stdout",
     "output_type": "stream",
     "text": [
      "Fetching data for movie ID tt18967390 from OMDb...\n"
     ]
    },
    {
     "name": "stderr",
     "output_type": "stream",
     "text": [
      "Fetching movie data:  31%|█████▊             | 800/2614 [05:16<12:24,  2.44it/s]"
     ]
    },
    {
     "name": "stdout",
     "output_type": "stream",
     "text": [
      "Fetching data for movie ID tt3031654 from OMDb...\n"
     ]
    },
    {
     "name": "stderr",
     "output_type": "stream",
     "text": [
      "Fetching movie data:  31%|█████▊             | 801/2614 [05:17<12:23,  2.44it/s]"
     ]
    },
    {
     "name": "stdout",
     "output_type": "stream",
     "text": [
      "Fetching data for movie ID tt11092594 from OMDb...\n"
     ]
    },
    {
     "name": "stderr",
     "output_type": "stream",
     "text": [
      "Fetching movie data:  31%|█████▊             | 802/2614 [05:17<12:12,  2.47it/s]"
     ]
    },
    {
     "name": "stdout",
     "output_type": "stream",
     "text": [
      "Fetching data for movie ID tt5196184 from OMDb...\n"
     ]
    },
    {
     "name": "stderr",
     "output_type": "stream",
     "text": [
      "Fetching movie data:  31%|█████▊             | 803/2614 [05:18<11:45,  2.57it/s]"
     ]
    },
    {
     "name": "stdout",
     "output_type": "stream",
     "text": [
      "Fetching data for movie ID tt7234446 from OMDb...\n"
     ]
    },
    {
     "name": "stderr",
     "output_type": "stream",
     "text": [
      "Fetching movie data:  31%|█████▊             | 804/2614 [05:18<11:58,  2.52it/s]"
     ]
    },
    {
     "name": "stdout",
     "output_type": "stream",
     "text": [
      "Fetching data for movie ID tt6448688 from OMDb...\n"
     ]
    },
    {
     "name": "stderr",
     "output_type": "stream",
     "text": [
      "Fetching movie data:  31%|█████▊             | 805/2614 [05:18<11:47,  2.56it/s]"
     ]
    },
    {
     "name": "stdout",
     "output_type": "stream",
     "text": [
      "Fetching data for movie ID tt5053042 from OMDb...\n"
     ]
    },
    {
     "name": "stderr",
     "output_type": "stream",
     "text": [
      "Fetching movie data:  31%|█████▊             | 806/2614 [05:19<11:56,  2.52it/s]"
     ]
    },
    {
     "name": "stdout",
     "output_type": "stream",
     "text": [
      "Fetching data for movie ID tt27468760 from OMDb...\n"
     ]
    },
    {
     "name": "stderr",
     "output_type": "stream",
     "text": [
      "Fetching movie data:  31%|█████▊             | 807/2614 [05:19<12:05,  2.49it/s]"
     ]
    },
    {
     "name": "stdout",
     "output_type": "stream",
     "text": [
      "Fetching data for movie ID tt30295131 from OMDb...\n"
     ]
    },
    {
     "name": "stderr",
     "output_type": "stream",
     "text": [
      "Fetching movie data:  31%|█████▊             | 808/2614 [05:20<13:04,  2.30it/s]"
     ]
    },
    {
     "name": "stdout",
     "output_type": "stream",
     "text": [
      "Fetching data for movie ID tt25966332 from OMDb...\n"
     ]
    },
    {
     "name": "stderr",
     "output_type": "stream",
     "text": [
      "Fetching movie data:  31%|█████▉             | 809/2614 [05:20<13:00,  2.31it/s]"
     ]
    },
    {
     "name": "stdout",
     "output_type": "stream",
     "text": [
      "Fetching data for movie ID tt5794194 from OMDb...\n",
      "Fetching data for movie ID tt13450702 from OMDb...\n"
     ]
    },
    {
     "name": "stderr",
     "output_type": "stream",
     "text": [
      "Fetching movie data:  31%|█████▉             | 811/2614 [05:21<11:07,  2.70it/s]"
     ]
    },
    {
     "name": "stdout",
     "output_type": "stream",
     "text": [
      "Fetching data for movie ID tt9780140 from OMDb...\n"
     ]
    },
    {
     "name": "stderr",
     "output_type": "stream",
     "text": [
      "Fetching movie data:  31%|█████▉             | 812/2614 [05:21<11:21,  2.64it/s]"
     ]
    },
    {
     "name": "stdout",
     "output_type": "stream",
     "text": [
      "Fetching data for movie ID tt12041084 from OMDb...\n"
     ]
    },
    {
     "name": "stderr",
     "output_type": "stream",
     "text": [
      "Fetching movie data:  31%|█████▉             | 813/2614 [05:21<11:39,  2.58it/s]"
     ]
    },
    {
     "name": "stdout",
     "output_type": "stream",
     "text": [
      "Fetching data for movie ID tt27617826 from OMDb...\n"
     ]
    },
    {
     "name": "stderr",
     "output_type": "stream",
     "text": [
      "Fetching movie data:  31%|█████▉             | 814/2614 [05:22<11:30,  2.61it/s]"
     ]
    },
    {
     "name": "stdout",
     "output_type": "stream",
     "text": [
      "Fetching data for movie ID tt9128994 from OMDb...\n"
     ]
    },
    {
     "name": "stderr",
     "output_type": "stream",
     "text": [
      "Fetching movie data:  31%|█████▉             | 815/2614 [05:22<12:04,  2.48it/s]"
     ]
    },
    {
     "name": "stdout",
     "output_type": "stream",
     "text": [
      "Fetching data for movie ID tt5639784 from OMDb...\n"
     ]
    },
    {
     "name": "stderr",
     "output_type": "stream",
     "text": [
      "Fetching movie data:  31%|█████▉             | 816/2614 [05:23<12:05,  2.48it/s]"
     ]
    },
    {
     "name": "stdout",
     "output_type": "stream",
     "text": [
      "Fetching data for movie ID tt30826180 from OMDb...\n"
     ]
    },
    {
     "name": "stderr",
     "output_type": "stream",
     "text": [
      "Fetching movie data:  31%|█████▉             | 817/2614 [05:23<12:20,  2.43it/s]"
     ]
    },
    {
     "name": "stdout",
     "output_type": "stream",
     "text": [
      "Fetching data for movie ID tt5104670 from OMDb...\n"
     ]
    },
    {
     "name": "stderr",
     "output_type": "stream",
     "text": [
      "Fetching movie data:  31%|█████▉             | 818/2614 [05:24<12:20,  2.43it/s]"
     ]
    },
    {
     "name": "stdout",
     "output_type": "stream",
     "text": [
      "Fetching data for movie ID tt9691482 from OMDb...\n"
     ]
    },
    {
     "name": "stderr",
     "output_type": "stream",
     "text": [
      "Fetching movie data:  31%|█████▉             | 819/2614 [05:24<12:02,  2.48it/s]"
     ]
    },
    {
     "name": "stdout",
     "output_type": "stream",
     "text": [
      "Fetching data for movie ID tt25589808 from OMDb...\n"
     ]
    },
    {
     "name": "stderr",
     "output_type": "stream",
     "text": [
      "Fetching movie data:  31%|█████▉             | 820/2614 [05:24<12:08,  2.46it/s]"
     ]
    },
    {
     "name": "stdout",
     "output_type": "stream",
     "text": [
      "Fetching data for movie ID tt7516172 from OMDb...\n"
     ]
    },
    {
     "name": "stderr",
     "output_type": "stream",
     "text": [
      "Fetching movie data:  31%|█████▉             | 821/2614 [05:25<11:34,  2.58it/s]"
     ]
    },
    {
     "name": "stdout",
     "output_type": "stream",
     "text": [
      "Fetching data for movie ID tt20251826 from OMDb...\n"
     ]
    },
    {
     "name": "stderr",
     "output_type": "stream",
     "text": [
      "Fetching movie data:  31%|█████▉             | 822/2614 [05:25<12:02,  2.48it/s]"
     ]
    },
    {
     "name": "stdout",
     "output_type": "stream",
     "text": [
      "Fetching data for movie ID tt13054030 from OMDb...\n"
     ]
    },
    {
     "name": "stderr",
     "output_type": "stream",
     "text": [
      "Fetching movie data:  31%|█████▉             | 823/2614 [05:26<12:23,  2.41it/s]"
     ]
    },
    {
     "name": "stdout",
     "output_type": "stream",
     "text": [
      "Fetching data for movie ID tt28596448 from OMDb...\n"
     ]
    },
    {
     "name": "stderr",
     "output_type": "stream",
     "text": [
      "Fetching movie data:  32%|█████▉             | 824/2614 [05:26<11:53,  2.51it/s]"
     ]
    },
    {
     "name": "stdout",
     "output_type": "stream",
     "text": [
      "Fetching data for movie ID tt7024490 from OMDb...\n"
     ]
    },
    {
     "name": "stderr",
     "output_type": "stream",
     "text": [
      "Fetching movie data:  32%|█████▉             | 825/2614 [05:26<12:26,  2.40it/s]"
     ]
    },
    {
     "name": "stdout",
     "output_type": "stream",
     "text": [
      "Fetching data for movie ID tt27946318 from OMDb...\n"
     ]
    },
    {
     "name": "stderr",
     "output_type": "stream",
     "text": [
      "Fetching movie data:  32%|██████             | 826/2614 [05:27<12:20,  2.41it/s]"
     ]
    },
    {
     "name": "stdout",
     "output_type": "stream",
     "text": [
      "Fetching data for movie ID tt14629756 from OMDb...\n"
     ]
    },
    {
     "name": "stderr",
     "output_type": "stream",
     "text": [
      "Fetching movie data:  32%|██████             | 827/2614 [05:27<12:08,  2.45it/s]"
     ]
    },
    {
     "name": "stdout",
     "output_type": "stream",
     "text": [
      "Fetching data for movie ID tt7226936 from OMDb...\n"
     ]
    },
    {
     "name": "stderr",
     "output_type": "stream",
     "text": [
      "Fetching movie data:  32%|██████             | 828/2614 [05:28<12:18,  2.42it/s]"
     ]
    },
    {
     "name": "stdout",
     "output_type": "stream",
     "text": [
      "Fetching data for movie ID tt10468672 from OMDb...\n"
     ]
    },
    {
     "name": "stderr",
     "output_type": "stream",
     "text": [
      "Fetching movie data:  32%|██████             | 829/2614 [05:28<11:58,  2.49it/s]"
     ]
    },
    {
     "name": "stdout",
     "output_type": "stream",
     "text": [
      "Fetching data for movie ID tt10789810 from OMDb...\n"
     ]
    },
    {
     "name": "stderr",
     "output_type": "stream",
     "text": [
      "Fetching movie data:  32%|██████             | 830/2614 [05:29<13:05,  2.27it/s]"
     ]
    },
    {
     "name": "stdout",
     "output_type": "stream",
     "text": [
      "Progress saved after 37200 movies.\n",
      "Fetching data for movie ID tt5016698 from OMDb...\n"
     ]
    },
    {
     "name": "stderr",
     "output_type": "stream",
     "text": [
      "Fetching movie data:  32%|██████             | 832/2614 [05:29<10:13,  2.91it/s]"
     ]
    },
    {
     "name": "stdout",
     "output_type": "stream",
     "text": [
      "Fetching data for movie ID tt14952474 from OMDb...\n",
      "Fetching data for movie ID tt7525486 from OMDb...\n"
     ]
    },
    {
     "name": "stderr",
     "output_type": "stream",
     "text": [
      "Fetching movie data:  32%|██████             | 833/2614 [05:29<08:21,  3.55it/s]"
     ]
    },
    {
     "name": "stdout",
     "output_type": "stream",
     "text": [
      "Fetching data for movie ID tt27598854 from OMDb...\n"
     ]
    },
    {
     "name": "stderr",
     "output_type": "stream",
     "text": [
      "Fetching movie data:  32%|██████             | 834/2614 [05:30<08:59,  3.30it/s]"
     ]
    },
    {
     "name": "stdout",
     "output_type": "stream",
     "text": [
      "Fetching data for movie ID tt16377430 from OMDb...\n"
     ]
    },
    {
     "name": "stderr",
     "output_type": "stream",
     "text": [
      "Fetching movie data:  32%|██████             | 835/2614 [05:30<09:33,  3.10it/s]"
     ]
    },
    {
     "name": "stdout",
     "output_type": "stream",
     "text": [
      "Fetching data for movie ID tt33030164 from OMDb...\n"
     ]
    },
    {
     "name": "stderr",
     "output_type": "stream",
     "text": [
      "Fetching movie data:  32%|██████             | 836/2614 [05:30<10:02,  2.95it/s]"
     ]
    },
    {
     "name": "stdout",
     "output_type": "stream",
     "text": [
      "Fetching data for movie ID tt25747224 from OMDb...\n"
     ]
    },
    {
     "name": "stderr",
     "output_type": "stream",
     "text": [
      "Fetching movie data:  32%|██████             | 837/2614 [05:31<10:03,  2.94it/s]"
     ]
    },
    {
     "name": "stdout",
     "output_type": "stream",
     "text": [
      "Fetching data for movie ID tt15262604 from OMDb...\n"
     ]
    },
    {
     "name": "stderr",
     "output_type": "stream",
     "text": [
      "Fetching movie data:  32%|██████             | 838/2614 [05:31<10:57,  2.70it/s]"
     ]
    },
    {
     "name": "stdout",
     "output_type": "stream",
     "text": [
      "Fetching data for movie ID tt28288396 from OMDb...\n"
     ]
    },
    {
     "name": "stderr",
     "output_type": "stream",
     "text": [
      "Fetching movie data:  32%|██████             | 839/2614 [05:32<11:25,  2.59it/s]"
     ]
    },
    {
     "name": "stdout",
     "output_type": "stream",
     "text": [
      "Fetching data for movie ID tt10726854 from OMDb...\n"
     ]
    },
    {
     "name": "stderr",
     "output_type": "stream",
     "text": [
      "Fetching movie data:  32%|██████             | 840/2614 [05:32<11:31,  2.57it/s]"
     ]
    },
    {
     "name": "stdout",
     "output_type": "stream",
     "text": [
      "Fetching data for movie ID tt5541132 from OMDb...\n"
     ]
    },
    {
     "name": "stderr",
     "output_type": "stream",
     "text": [
      "Fetching movie data:  32%|██████             | 841/2614 [05:32<11:46,  2.51it/s]"
     ]
    },
    {
     "name": "stdout",
     "output_type": "stream",
     "text": [
      "Fetching data for movie ID tt9266172 from OMDb...\n"
     ]
    },
    {
     "name": "stderr",
     "output_type": "stream",
     "text": [
      "Fetching movie data:  32%|██████▏            | 843/2614 [05:33<09:21,  3.15it/s]"
     ]
    },
    {
     "name": "stdout",
     "output_type": "stream",
     "text": [
      "Fetching data for movie ID tt4736550 from OMDb...\n",
      "Fetching data for movie ID tt3317710 from OMDb...\n"
     ]
    },
    {
     "name": "stderr",
     "output_type": "stream",
     "text": [
      "Fetching movie data:  32%|██████▏            | 845/2614 [05:33<08:11,  3.60it/s]"
     ]
    },
    {
     "name": "stdout",
     "output_type": "stream",
     "text": [
      "Fetching data for movie ID tt14444726 from OMDb...\n",
      "Fetching data for movie ID tt33059722 from OMDb...\n"
     ]
    },
    {
     "name": "stderr",
     "output_type": "stream",
     "text": [
      "Fetching movie data:  32%|██████▏            | 846/2614 [05:34<09:11,  3.21it/s]"
     ]
    },
    {
     "name": "stdout",
     "output_type": "stream",
     "text": [
      "Fetching data for movie ID tt5563192 from OMDb...\n"
     ]
    },
    {
     "name": "stderr",
     "output_type": "stream",
     "text": [
      "Fetching movie data:  32%|██████▏            | 847/2614 [05:34<10:04,  2.93it/s]"
     ]
    },
    {
     "name": "stdout",
     "output_type": "stream",
     "text": [
      "Fetching data for movie ID tt10270122 from OMDb...\n"
     ]
    },
    {
     "name": "stderr",
     "output_type": "stream",
     "text": [
      "Fetching movie data:  32%|██████▏            | 848/2614 [05:35<10:38,  2.77it/s]"
     ]
    },
    {
     "name": "stdout",
     "output_type": "stream",
     "text": [
      "Fetching data for movie ID tt25396050 from OMDb...\n"
     ]
    },
    {
     "name": "stderr",
     "output_type": "stream",
     "text": [
      "Fetching movie data:  32%|██████▏            | 849/2614 [05:35<10:35,  2.78it/s]"
     ]
    },
    {
     "name": "stdout",
     "output_type": "stream",
     "text": [
      "Fetching data for movie ID tt7535764 from OMDb...\n"
     ]
    },
    {
     "name": "stderr",
     "output_type": "stream",
     "text": [
      "Fetching movie data:  33%|██████▏            | 850/2614 [05:35<11:20,  2.59it/s]"
     ]
    },
    {
     "name": "stdout",
     "output_type": "stream",
     "text": [
      "Fetching data for movie ID tt4466490 from OMDb...\n"
     ]
    },
    {
     "name": "stderr",
     "output_type": "stream",
     "text": [
      "Fetching movie data:  33%|██████▏            | 851/2614 [05:36<10:51,  2.71it/s]"
     ]
    },
    {
     "name": "stdout",
     "output_type": "stream",
     "text": [
      "Fetching data for movie ID tt9344042 from OMDb...\n"
     ]
    },
    {
     "name": "stderr",
     "output_type": "stream",
     "text": [
      "Fetching movie data:  33%|██████▏            | 852/2614 [05:36<10:40,  2.75it/s]"
     ]
    },
    {
     "name": "stdout",
     "output_type": "stream",
     "text": [
      "Fetching data for movie ID tt13614418 from OMDb...\n"
     ]
    },
    {
     "name": "stderr",
     "output_type": "stream",
     "text": [
      "Fetching movie data:  33%|██████▏            | 853/2614 [05:36<10:44,  2.73it/s]"
     ]
    },
    {
     "name": "stdout",
     "output_type": "stream",
     "text": [
      "Fetching data for movie ID tt6677418 from OMDb...\n"
     ]
    },
    {
     "name": "stderr",
     "output_type": "stream",
     "text": [
      "Fetching movie data:  33%|██████▏            | 854/2614 [05:37<11:01,  2.66it/s]"
     ]
    },
    {
     "name": "stdout",
     "output_type": "stream",
     "text": [
      "Fetching data for movie ID tt15758414 from OMDb...\n"
     ]
    },
    {
     "name": "stderr",
     "output_type": "stream",
     "text": [
      "Fetching movie data:  33%|██████▏            | 855/2614 [05:37<11:21,  2.58it/s]"
     ]
    },
    {
     "name": "stdout",
     "output_type": "stream",
     "text": [
      "Fetching data for movie ID tt12142914 from OMDb...\n"
     ]
    },
    {
     "name": "stderr",
     "output_type": "stream",
     "text": [
      "Fetching movie data:  33%|██████▏            | 856/2614 [05:38<11:29,  2.55it/s]"
     ]
    },
    {
     "name": "stdout",
     "output_type": "stream",
     "text": [
      "Fetching data for movie ID tt5772992 from OMDb...\n"
     ]
    },
    {
     "name": "stderr",
     "output_type": "stream",
     "text": [
      "Fetching movie data:  33%|██████▏            | 857/2614 [05:38<11:22,  2.58it/s]"
     ]
    },
    {
     "name": "stdout",
     "output_type": "stream",
     "text": [
      "Fetching data for movie ID tt34810619 from OMDb...\n"
     ]
    },
    {
     "name": "stderr",
     "output_type": "stream",
     "text": [
      "Fetching movie data:  33%|██████▏            | 858/2614 [05:38<11:28,  2.55it/s]"
     ]
    },
    {
     "name": "stdout",
     "output_type": "stream",
     "text": [
      "Fetching data for movie ID tt3718188 from OMDb...\n"
     ]
    },
    {
     "name": "stderr",
     "output_type": "stream",
     "text": [
      "Fetching movie data:  33%|██████▏            | 859/2614 [05:39<11:58,  2.44it/s]"
     ]
    },
    {
     "name": "stdout",
     "output_type": "stream",
     "text": [
      "Fetching data for movie ID tt7577142 from OMDb...\n"
     ]
    },
    {
     "name": "stderr",
     "output_type": "stream",
     "text": [
      "Fetching movie data:  33%|██████▎            | 860/2614 [05:39<11:42,  2.50it/s]"
     ]
    },
    {
     "name": "stdout",
     "output_type": "stream",
     "text": [
      "Fetching data for movie ID tt34500783 from OMDb...\n",
      "Fetching data for movie ID tt4982216 from OMDb...\n"
     ]
    },
    {
     "name": "stderr",
     "output_type": "stream",
     "text": [
      "Fetching movie data:  33%|██████▎            | 862/2614 [05:40<09:27,  3.09it/s]"
     ]
    },
    {
     "name": "stdout",
     "output_type": "stream",
     "text": [
      "Fetching data for movie ID tt13456618 from OMDb...\n"
     ]
    },
    {
     "name": "stderr",
     "output_type": "stream",
     "text": [
      "Fetching movie data:  33%|██████▎            | 863/2614 [05:40<09:53,  2.95it/s]"
     ]
    },
    {
     "name": "stdout",
     "output_type": "stream",
     "text": [
      "Fetching data for movie ID tt31615353 from OMDb...\n"
     ]
    },
    {
     "name": "stderr",
     "output_type": "stream",
     "text": [
      "Fetching movie data:  33%|██████▎            | 864/2614 [05:41<10:12,  2.86it/s]"
     ]
    },
    {
     "name": "stdout",
     "output_type": "stream",
     "text": [
      "Fetching data for movie ID tt5161722 from OMDb...\n"
     ]
    },
    {
     "name": "stderr",
     "output_type": "stream",
     "text": [
      "Fetching movie data:  33%|██████▎            | 865/2614 [05:41<10:10,  2.86it/s]"
     ]
    },
    {
     "name": "stdout",
     "output_type": "stream",
     "text": [
      "Fetching data for movie ID tt12206070 from OMDb...\n"
     ]
    },
    {
     "name": "stderr",
     "output_type": "stream",
     "text": [
      "Fetching movie data:  33%|██████▎            | 866/2614 [05:41<10:15,  2.84it/s]"
     ]
    },
    {
     "name": "stdout",
     "output_type": "stream",
     "text": [
      "Fetching data for movie ID tt27590198 from OMDb...\n"
     ]
    },
    {
     "name": "stderr",
     "output_type": "stream",
     "text": [
      "Fetching movie data:  33%|██████▎            | 867/2614 [05:42<10:19,  2.82it/s]"
     ]
    },
    {
     "name": "stdout",
     "output_type": "stream",
     "text": [
      "Fetching data for movie ID tt24638512 from OMDb...\n"
     ]
    },
    {
     "name": "stderr",
     "output_type": "stream",
     "text": [
      "Fetching movie data:  33%|██████▎            | 868/2614 [05:42<10:22,  2.80it/s]"
     ]
    },
    {
     "name": "stdout",
     "output_type": "stream",
     "text": [
      "Fetching data for movie ID tt5129794 from OMDb...\n"
     ]
    },
    {
     "name": "stderr",
     "output_type": "stream",
     "text": [
      "Fetching movie data:  33%|██████▎            | 869/2614 [05:42<10:39,  2.73it/s]"
     ]
    },
    {
     "name": "stdout",
     "output_type": "stream",
     "text": [
      "Fetching data for movie ID tt11847126 from OMDb...\n"
     ]
    },
    {
     "name": "stderr",
     "output_type": "stream",
     "text": [
      "Fetching movie data:  33%|██████▎            | 870/2614 [05:43<10:32,  2.76it/s]"
     ]
    },
    {
     "name": "stdout",
     "output_type": "stream",
     "text": [
      "Fetching data for movie ID tt15309492 from OMDb...\n"
     ]
    },
    {
     "name": "stderr",
     "output_type": "stream",
     "text": [
      "Fetching movie data:  33%|██████▎            | 871/2614 [05:43<10:43,  2.71it/s]"
     ]
    },
    {
     "name": "stdout",
     "output_type": "stream",
     "text": [
      "Fetching data for movie ID tt9055312 from OMDb...\n"
     ]
    },
    {
     "name": "stderr",
     "output_type": "stream",
     "text": [
      "Fetching movie data:  33%|██████▎            | 872/2614 [05:43<10:56,  2.65it/s]"
     ]
    },
    {
     "name": "stdout",
     "output_type": "stream",
     "text": [
      "Fetching data for movie ID tt11327514 from OMDb...\n"
     ]
    },
    {
     "name": "stderr",
     "output_type": "stream",
     "text": [
      "Fetching movie data:  33%|██████▎            | 873/2614 [05:44<11:34,  2.51it/s]"
     ]
    },
    {
     "name": "stdout",
     "output_type": "stream",
     "text": [
      "Fetching data for movie ID tt10207532 from OMDb...\n"
     ]
    },
    {
     "name": "stderr",
     "output_type": "stream",
     "text": [
      "Fetching movie data:  33%|██████▎            | 874/2614 [05:44<11:26,  2.53it/s]"
     ]
    },
    {
     "name": "stdout",
     "output_type": "stream",
     "text": [
      "Fetching data for movie ID tt8543412 from OMDb...\n"
     ]
    },
    {
     "name": "stderr",
     "output_type": "stream",
     "text": [
      "Fetching movie data:  33%|██████▎            | 875/2614 [05:45<11:12,  2.59it/s]"
     ]
    },
    {
     "name": "stdout",
     "output_type": "stream",
     "text": [
      "Fetching data for movie ID tt34616699 from OMDb...\n",
      "Fetching data for movie ID tt12922778 from OMDb...\n"
     ]
    },
    {
     "name": "stderr",
     "output_type": "stream",
     "text": [
      "Fetching movie data:  34%|██████▎            | 877/2614 [05:45<09:10,  3.15it/s]"
     ]
    },
    {
     "name": "stdout",
     "output_type": "stream",
     "text": [
      "Fetching data for movie ID tt7707922 from OMDb...\n"
     ]
    },
    {
     "name": "stderr",
     "output_type": "stream",
     "text": [
      "Fetching movie data:  34%|██████▍            | 878/2614 [05:46<09:45,  2.96it/s]"
     ]
    },
    {
     "name": "stdout",
     "output_type": "stream",
     "text": [
      "Fetching data for movie ID tt5307018 from OMDb...\n"
     ]
    },
    {
     "name": "stderr",
     "output_type": "stream",
     "text": [
      "Fetching movie data:  34%|██████▍            | 879/2614 [05:46<11:11,  2.58it/s]"
     ]
    },
    {
     "name": "stdout",
     "output_type": "stream",
     "text": [
      "Fetching data for movie ID tt7563188 from OMDb...\n"
     ]
    },
    {
     "name": "stderr",
     "output_type": "stream",
     "text": [
      "Fetching movie data:  34%|██████▍            | 880/2614 [05:46<11:22,  2.54it/s]"
     ]
    },
    {
     "name": "stdout",
     "output_type": "stream",
     "text": [
      "Fetching data for movie ID tt10773028 from OMDb...\n"
     ]
    },
    {
     "name": "stderr",
     "output_type": "stream",
     "text": [
      "Fetching movie data:  34%|██████▍            | 881/2614 [05:47<12:18,  2.35it/s]"
     ]
    },
    {
     "name": "stdout",
     "output_type": "stream",
     "text": [
      "Fetching data for movie ID tt9427218 from OMDb...\n"
     ]
    },
    {
     "name": "stderr",
     "output_type": "stream",
     "text": [
      "Fetching movie data:  34%|██████▍            | 882/2614 [05:47<11:35,  2.49it/s]"
     ]
    },
    {
     "name": "stdout",
     "output_type": "stream",
     "text": [
      "Fetching data for movie ID tt3864638 from OMDb...\n"
     ]
    },
    {
     "name": "stderr",
     "output_type": "stream",
     "text": [
      "Fetching movie data:  34%|██████▍            | 883/2614 [05:48<11:21,  2.54it/s]"
     ]
    },
    {
     "name": "stdout",
     "output_type": "stream",
     "text": [
      "Fetching data for movie ID tt13325240 from OMDb...\n"
     ]
    },
    {
     "name": "stderr",
     "output_type": "stream",
     "text": [
      "Fetching movie data:  34%|██████▍            | 885/2614 [05:48<09:26,  3.05it/s]"
     ]
    },
    {
     "name": "stdout",
     "output_type": "stream",
     "text": [
      "Fetching data for movie ID tt12519304 from OMDb...\n",
      "Fetching data for movie ID tt7349504 from OMDb...\n"
     ]
    },
    {
     "name": "stderr",
     "output_type": "stream",
     "text": [
      "Fetching movie data:  34%|██████▍            | 886/2614 [05:49<10:31,  2.73it/s]"
     ]
    },
    {
     "name": "stdout",
     "output_type": "stream",
     "text": [
      "Fetching data for movie ID tt6892282 from OMDb...\n"
     ]
    },
    {
     "name": "stderr",
     "output_type": "stream",
     "text": [
      "Fetching movie data:  34%|██████▍            | 887/2614 [05:49<10:54,  2.64it/s]"
     ]
    },
    {
     "name": "stdout",
     "output_type": "stream",
     "text": [
      "Fetching data for movie ID tt20860856 from OMDb...\n"
     ]
    },
    {
     "name": "stderr",
     "output_type": "stream",
     "text": [
      "Fetching movie data:  34%|██████▍            | 888/2614 [05:50<10:45,  2.67it/s]"
     ]
    },
    {
     "name": "stdout",
     "output_type": "stream",
     "text": [
      "Fetching data for movie ID tt4214198 from OMDb...\n"
     ]
    },
    {
     "name": "stderr",
     "output_type": "stream",
     "text": [
      "Fetching movie data:  34%|██████▍            | 889/2614 [05:50<09:22,  3.07it/s]"
     ]
    },
    {
     "name": "stdout",
     "output_type": "stream",
     "text": [
      "Fetching data for movie ID tt9879720 from OMDb...\n"
     ]
    },
    {
     "name": "stderr",
     "output_type": "stream",
     "text": [
      "Fetching movie data:  34%|██████▍            | 890/2614 [05:50<10:26,  2.75it/s]"
     ]
    },
    {
     "name": "stdout",
     "output_type": "stream",
     "text": [
      "Fetching data for movie ID tt18802282 from OMDb...\n"
     ]
    },
    {
     "name": "stderr",
     "output_type": "stream",
     "text": [
      "Fetching movie data:  34%|██████▍            | 891/2614 [05:51<11:41,  2.46it/s]"
     ]
    },
    {
     "name": "stdout",
     "output_type": "stream",
     "text": [
      "Fetching data for movie ID tt27009679 from OMDb...\n"
     ]
    },
    {
     "name": "stderr",
     "output_type": "stream",
     "text": [
      "Fetching movie data:  34%|██████▍            | 892/2614 [05:51<11:47,  2.43it/s]"
     ]
    },
    {
     "name": "stdout",
     "output_type": "stream",
     "text": [
      "Fetching data for movie ID tt32158511 from OMDb...\n"
     ]
    },
    {
     "name": "stderr",
     "output_type": "stream",
     "text": [
      "Fetching movie data:  34%|██████▍            | 893/2614 [05:52<13:26,  2.13it/s]"
     ]
    },
    {
     "name": "stdout",
     "output_type": "stream",
     "text": [
      "Fetching data for movie ID tt8215444 from OMDb...\n"
     ]
    },
    {
     "name": "stderr",
     "output_type": "stream",
     "text": [
      "Fetching movie data:  34%|██████▍            | 894/2614 [05:52<12:49,  2.24it/s]"
     ]
    },
    {
     "name": "stdout",
     "output_type": "stream",
     "text": [
      "Fetching data for movie ID tt15574908 from OMDb...\n",
      "Fetching data for movie ID tt22465864 from OMDb...\n"
     ]
    },
    {
     "name": "stderr",
     "output_type": "stream",
     "text": [
      "Fetching movie data:  34%|██████▌            | 896/2614 [05:52<08:17,  3.45it/s]"
     ]
    },
    {
     "name": "stdout",
     "output_type": "stream",
     "text": [
      "Fetching data for movie ID tt28229498 from OMDb...\n"
     ]
    },
    {
     "name": "stderr",
     "output_type": "stream",
     "text": [
      "Fetching movie data:  34%|██████▌            | 897/2614 [05:53<09:11,  3.12it/s]"
     ]
    },
    {
     "name": "stdout",
     "output_type": "stream",
     "text": [
      "Fetching data for movie ID tt7736478 from OMDb...\n"
     ]
    },
    {
     "name": "stderr",
     "output_type": "stream",
     "text": [
      "Fetching movie data:  34%|██████▌            | 898/2614 [05:53<10:02,  2.85it/s]"
     ]
    },
    {
     "name": "stdout",
     "output_type": "stream",
     "text": [
      "Fetching data for movie ID tt2629802 from OMDb...\n"
     ]
    },
    {
     "name": "stderr",
     "output_type": "stream",
     "text": [
      "Fetching movie data:  34%|██████▌            | 899/2614 [05:54<10:20,  2.76it/s]"
     ]
    },
    {
     "name": "stdout",
     "output_type": "stream",
     "text": [
      "Fetching data for movie ID tt5649144 from OMDb...\n"
     ]
    },
    {
     "name": "stderr",
     "output_type": "stream",
     "text": [
      "Fetching movie data:  34%|██████▌            | 900/2614 [05:54<11:28,  2.49it/s]"
     ]
    },
    {
     "name": "stdout",
     "output_type": "stream",
     "text": [
      "Fetching data for movie ID tt10443326 from OMDb...\n"
     ]
    },
    {
     "name": "stderr",
     "output_type": "stream",
     "text": [
      "Fetching movie data:  34%|██████▌            | 901/2614 [05:54<11:33,  2.47it/s]"
     ]
    },
    {
     "name": "stdout",
     "output_type": "stream",
     "text": [
      "Fetching data for movie ID tt4966608 from OMDb...\n"
     ]
    },
    {
     "name": "stderr",
     "output_type": "stream",
     "text": [
      "Fetching movie data:  35%|██████▌            | 902/2614 [05:55<11:11,  2.55it/s]"
     ]
    },
    {
     "name": "stdout",
     "output_type": "stream",
     "text": [
      "Fetching data for movie ID tt2398564 from OMDb...\n"
     ]
    },
    {
     "name": "stderr",
     "output_type": "stream",
     "text": [
      "Fetching movie data:  35%|██████▌            | 903/2614 [05:55<11:36,  2.46it/s]"
     ]
    },
    {
     "name": "stdout",
     "output_type": "stream",
     "text": [
      "Fetching data for movie ID tt3711902 from OMDb...\n"
     ]
    },
    {
     "name": "stderr",
     "output_type": "stream",
     "text": [
      "Fetching movie data:  35%|██████▌            | 904/2614 [05:56<11:28,  2.48it/s]"
     ]
    },
    {
     "name": "stdout",
     "output_type": "stream",
     "text": [
      "Fetching data for movie ID tt7472352 from OMDb...\n"
     ]
    },
    {
     "name": "stderr",
     "output_type": "stream",
     "text": [
      "Fetching movie data:  35%|██████▌            | 905/2614 [05:56<11:10,  2.55it/s]"
     ]
    },
    {
     "name": "stdout",
     "output_type": "stream",
     "text": [
      "Fetching data for movie ID tt7269624 from OMDb...\n"
     ]
    },
    {
     "name": "stderr",
     "output_type": "stream",
     "text": [
      "Fetching movie data:  35%|██████▌            | 906/2614 [05:56<11:07,  2.56it/s]"
     ]
    },
    {
     "name": "stdout",
     "output_type": "stream",
     "text": [
      "Fetching data for movie ID tt9735350 from OMDb...\n"
     ]
    },
    {
     "name": "stderr",
     "output_type": "stream",
     "text": [
      "Fetching movie data:  35%|██████▌            | 907/2614 [05:57<11:11,  2.54it/s]"
     ]
    },
    {
     "name": "stdout",
     "output_type": "stream",
     "text": [
      "Fetching data for movie ID tt7998218 from OMDb...\n"
     ]
    },
    {
     "name": "stderr",
     "output_type": "stream",
     "text": [
      "Fetching movie data:  35%|██████▌            | 908/2614 [05:57<11:03,  2.57it/s]"
     ]
    },
    {
     "name": "stdout",
     "output_type": "stream",
     "text": [
      "Fetching data for movie ID tt4878184 from OMDb...\n"
     ]
    },
    {
     "name": "stderr",
     "output_type": "stream",
     "text": [
      "Fetching movie data:  35%|██████▌            | 909/2614 [05:58<10:54,  2.60it/s]"
     ]
    },
    {
     "name": "stdout",
     "output_type": "stream",
     "text": [
      "Fetching data for movie ID tt13885330 from OMDb...\n"
     ]
    },
    {
     "name": "stderr",
     "output_type": "stream",
     "text": [
      "Fetching movie data:  35%|██████▌            | 910/2614 [05:58<10:50,  2.62it/s]"
     ]
    },
    {
     "name": "stdout",
     "output_type": "stream",
     "text": [
      "Fetching data for movie ID tt14617086 from OMDb...\n"
     ]
    },
    {
     "name": "stderr",
     "output_type": "stream",
     "text": [
      "Fetching movie data:  35%|██████▌            | 911/2614 [05:58<11:03,  2.57it/s]"
     ]
    },
    {
     "name": "stdout",
     "output_type": "stream",
     "text": [
      "Fetching data for movie ID tt14123998 from OMDb...\n"
     ]
    },
    {
     "name": "stderr",
     "output_type": "stream",
     "text": [
      "Fetching movie data:  35%|██████▋            | 912/2614 [05:59<10:40,  2.66it/s]"
     ]
    },
    {
     "name": "stdout",
     "output_type": "stream",
     "text": [
      "Fetching data for movie ID tt7599406 from OMDb...\n"
     ]
    },
    {
     "name": "stderr",
     "output_type": "stream",
     "text": [
      "Fetching movie data:  35%|██████▋            | 914/2614 [05:59<08:59,  3.15it/s]"
     ]
    },
    {
     "name": "stdout",
     "output_type": "stream",
     "text": [
      "Fetching data for movie ID tt8178634 from OMDb...\n",
      "Fetching data for movie ID tt5794120 from OMDb...\n"
     ]
    },
    {
     "name": "stderr",
     "output_type": "stream",
     "text": [
      "Fetching movie data:  35%|██████▋            | 916/2614 [06:00<08:26,  3.35it/s]"
     ]
    },
    {
     "name": "stdout",
     "output_type": "stream",
     "text": [
      "Fetching data for movie ID tt7984734 from OMDb...\n",
      "Fetching data for movie ID tt19269218 from OMDb...\n"
     ]
    },
    {
     "name": "stderr",
     "output_type": "stream",
     "text": [
      "Fetching movie data:  35%|██████▋            | 917/2614 [06:00<09:38,  2.93it/s]"
     ]
    },
    {
     "name": "stdout",
     "output_type": "stream",
     "text": [
      "Fetching data for movie ID tt6751454 from OMDb...\n"
     ]
    },
    {
     "name": "stderr",
     "output_type": "stream",
     "text": [
      "Fetching movie data:  35%|██████▋            | 918/2614 [06:01<09:43,  2.91it/s]"
     ]
    },
    {
     "name": "stdout",
     "output_type": "stream",
     "text": [
      "Fetching data for movie ID tt27440677 from OMDb...\n"
     ]
    },
    {
     "name": "stderr",
     "output_type": "stream",
     "text": [
      "Fetching movie data:  35%|██████▋            | 919/2614 [06:01<10:25,  2.71it/s]"
     ]
    },
    {
     "name": "stdout",
     "output_type": "stream",
     "text": [
      "Fetching data for movie ID tt13087478 from OMDb...\n"
     ]
    },
    {
     "name": "stderr",
     "output_type": "stream",
     "text": [
      "Fetching movie data:  35%|██████▋            | 920/2614 [06:01<10:42,  2.64it/s]"
     ]
    },
    {
     "name": "stdout",
     "output_type": "stream",
     "text": [
      "Fetching data for movie ID tt14956486 from OMDb...\n"
     ]
    },
    {
     "name": "stderr",
     "output_type": "stream",
     "text": [
      "Fetching movie data:  35%|██████▋            | 921/2614 [06:02<11:21,  2.48it/s]"
     ]
    },
    {
     "name": "stdout",
     "output_type": "stream",
     "text": [
      "Fetching data for movie ID tt7563696 from OMDb...\n"
     ]
    },
    {
     "name": "stderr",
     "output_type": "stream",
     "text": [
      "Fetching movie data:  35%|██████▋            | 923/2614 [06:03<09:25,  2.99it/s]"
     ]
    },
    {
     "name": "stdout",
     "output_type": "stream",
     "text": [
      "Fetching data for movie ID tt26758372 from OMDb...\n",
      "Fetching data for movie ID tt26450559 from OMDb...\n"
     ]
    },
    {
     "name": "stderr",
     "output_type": "stream",
     "text": [
      "Fetching movie data:  35%|██████▋            | 924/2614 [06:03<10:16,  2.74it/s]"
     ]
    },
    {
     "name": "stdout",
     "output_type": "stream",
     "text": [
      "Fetching data for movie ID tt6672912 from OMDb...\n"
     ]
    },
    {
     "name": "stderr",
     "output_type": "stream",
     "text": [
      "Fetching movie data:  35%|██████▋            | 925/2614 [06:03<10:49,  2.60it/s]"
     ]
    },
    {
     "name": "stdout",
     "output_type": "stream",
     "text": [
      "Fetching data for movie ID tt3733140 from OMDb...\n"
     ]
    },
    {
     "name": "stderr",
     "output_type": "stream",
     "text": [
      "Fetching movie data:  35%|██████▋            | 926/2614 [06:04<10:33,  2.66it/s]"
     ]
    },
    {
     "name": "stdout",
     "output_type": "stream",
     "text": [
      "Fetching data for movie ID tt16058676 from OMDb...\n"
     ]
    },
    {
     "name": "stderr",
     "output_type": "stream",
     "text": [
      "Fetching movie data:  35%|██████▋            | 927/2614 [06:04<11:08,  2.52it/s]"
     ]
    },
    {
     "name": "stdout",
     "output_type": "stream",
     "text": [
      "Fetching data for movie ID tt8357692 from OMDb...\n"
     ]
    },
    {
     "name": "stderr",
     "output_type": "stream",
     "text": [
      "Fetching movie data:  36%|██████▋            | 928/2614 [06:05<10:53,  2.58it/s]"
     ]
    },
    {
     "name": "stdout",
     "output_type": "stream",
     "text": [
      "Fetching data for movie ID tt30956212 from OMDb...\n"
     ]
    },
    {
     "name": "stderr",
     "output_type": "stream",
     "text": [
      "Fetching movie data:  36%|██████▊            | 929/2614 [06:05<10:36,  2.65it/s]"
     ]
    },
    {
     "name": "stdout",
     "output_type": "stream",
     "text": [
      "Fetching data for movie ID tt31615218 from OMDb...\n"
     ]
    },
    {
     "name": "stderr",
     "output_type": "stream",
     "text": [
      "Fetching movie data:  36%|██████▊            | 930/2614 [06:05<11:42,  2.40it/s]"
     ]
    },
    {
     "name": "stdout",
     "output_type": "stream",
     "text": [
      "Fetching data for movie ID tt10518934 from OMDb...\n"
     ]
    },
    {
     "name": "stderr",
     "output_type": "stream",
     "text": [
      "Fetching movie data:  36%|██████▊            | 931/2614 [06:06<12:29,  2.25it/s]"
     ]
    },
    {
     "name": "stdout",
     "output_type": "stream",
     "text": [
      "Fetching data for movie ID tt13925376 from OMDb...\n"
     ]
    },
    {
     "name": "stderr",
     "output_type": "stream",
     "text": [
      "Fetching movie data:  36%|██████▊            | 932/2614 [06:06<13:01,  2.15it/s]"
     ]
    },
    {
     "name": "stdout",
     "output_type": "stream",
     "text": [
      "Fetching data for movie ID tt19768220 from OMDb...\n"
     ]
    },
    {
     "name": "stderr",
     "output_type": "stream",
     "text": [
      "Fetching movie data:  36%|██████▊            | 933/2614 [06:07<12:45,  2.20it/s]"
     ]
    },
    {
     "name": "stdout",
     "output_type": "stream",
     "text": [
      "Progress saved after 37300 movies.\n",
      "Fetching data for movie ID tt9035328 from OMDb...\n"
     ]
    },
    {
     "name": "stderr",
     "output_type": "stream",
     "text": [
      "Fetching movie data:  36%|██████▊            | 934/2614 [06:07<12:09,  2.30it/s]"
     ]
    },
    {
     "name": "stdout",
     "output_type": "stream",
     "text": [
      "Fetching data for movie ID tt6966846 from OMDb...\n"
     ]
    },
    {
     "name": "stderr",
     "output_type": "stream",
     "text": [
      "Fetching movie data:  36%|██████▊            | 935/2614 [06:08<12:02,  2.32it/s]"
     ]
    },
    {
     "name": "stdout",
     "output_type": "stream",
     "text": [
      "Fetching data for movie ID tt1600196 from OMDb...\n"
     ]
    },
    {
     "name": "stderr",
     "output_type": "stream",
     "text": [
      "Fetching movie data:  36%|██████▊            | 936/2614 [06:08<11:47,  2.37it/s]"
     ]
    },
    {
     "name": "stdout",
     "output_type": "stream",
     "text": [
      "Fetching data for movie ID tt20118146 from OMDb...\n"
     ]
    },
    {
     "name": "stderr",
     "output_type": "stream",
     "text": [
      "Fetching movie data:  36%|██████▊            | 937/2614 [06:08<11:27,  2.44it/s]"
     ]
    },
    {
     "name": "stdout",
     "output_type": "stream",
     "text": [
      "Fetching data for movie ID tt6872524 from OMDb...\n"
     ]
    },
    {
     "name": "stderr",
     "output_type": "stream",
     "text": [
      "Fetching movie data:  36%|██████▊            | 938/2614 [06:09<11:04,  2.52it/s]"
     ]
    },
    {
     "name": "stdout",
     "output_type": "stream",
     "text": [
      "Fetching data for movie ID tt26746100 from OMDb...\n"
     ]
    },
    {
     "name": "stderr",
     "output_type": "stream",
     "text": [
      "Fetching movie data:  36%|██████▊            | 939/2614 [06:09<10:43,  2.60it/s]"
     ]
    },
    {
     "name": "stdout",
     "output_type": "stream",
     "text": [
      "Fetching data for movie ID tt17155964 from OMDb...\n"
     ]
    },
    {
     "name": "stderr",
     "output_type": "stream",
     "text": [
      "Fetching movie data:  36%|██████▊            | 940/2614 [06:10<10:29,  2.66it/s]"
     ]
    },
    {
     "name": "stdout",
     "output_type": "stream",
     "text": [
      "Fetching data for movie ID tt9330034 from OMDb...\n"
     ]
    },
    {
     "name": "stderr",
     "output_type": "stream",
     "text": [
      "Fetching movie data:  36%|██████▊            | 941/2614 [06:10<10:33,  2.64it/s]"
     ]
    },
    {
     "name": "stdout",
     "output_type": "stream",
     "text": [
      "Fetching data for movie ID tt26445667 from OMDb...\n"
     ]
    },
    {
     "name": "stderr",
     "output_type": "stream",
     "text": [
      "Fetching movie data:  36%|██████▊            | 942/2614 [06:10<10:28,  2.66it/s]"
     ]
    },
    {
     "name": "stdout",
     "output_type": "stream",
     "text": [
      "Fetching data for movie ID tt13052092 from OMDb...\n"
     ]
    },
    {
     "name": "stderr",
     "output_type": "stream",
     "text": [
      "Fetching movie data:  36%|██████▊            | 943/2614 [06:11<10:42,  2.60it/s]"
     ]
    },
    {
     "name": "stdout",
     "output_type": "stream",
     "text": [
      "Fetching data for movie ID tt31262895 from OMDb...\n"
     ]
    },
    {
     "name": "stderr",
     "output_type": "stream",
     "text": [
      "Fetching movie data:  36%|██████▊            | 944/2614 [06:11<10:24,  2.67it/s]"
     ]
    },
    {
     "name": "stdout",
     "output_type": "stream",
     "text": [
      "Fetching data for movie ID tt3791252 from OMDb...\n"
     ]
    },
    {
     "name": "stderr",
     "output_type": "stream",
     "text": [
      "Fetching movie data:  36%|██████▊            | 945/2614 [06:11<10:29,  2.65it/s]"
     ]
    },
    {
     "name": "stdout",
     "output_type": "stream",
     "text": [
      "Fetching data for movie ID tt24022054 from OMDb...\n"
     ]
    },
    {
     "name": "stderr",
     "output_type": "stream",
     "text": [
      "Fetching movie data:  36%|██████▉            | 946/2614 [06:12<10:10,  2.73it/s]"
     ]
    },
    {
     "name": "stdout",
     "output_type": "stream",
     "text": [
      "Fetching data for movie ID tt5571064 from OMDb...\n"
     ]
    },
    {
     "name": "stderr",
     "output_type": "stream",
     "text": [
      "Fetching movie data:  36%|██████▉            | 947/2614 [06:12<10:27,  2.66it/s]"
     ]
    },
    {
     "name": "stdout",
     "output_type": "stream",
     "text": [
      "Fetching data for movie ID tt12257576 from OMDb...\n"
     ]
    },
    {
     "name": "stderr",
     "output_type": "stream",
     "text": [
      "Fetching movie data:  36%|██████▉            | 948/2614 [06:13<10:09,  2.74it/s]"
     ]
    },
    {
     "name": "stdout",
     "output_type": "stream",
     "text": [
      "Fetching data for movie ID tt5186714 from OMDb...\n"
     ]
    },
    {
     "name": "stderr",
     "output_type": "stream",
     "text": [
      "Fetching movie data:  36%|██████▉            | 949/2614 [06:13<10:10,  2.73it/s]"
     ]
    },
    {
     "name": "stdout",
     "output_type": "stream",
     "text": [
      "Fetching data for movie ID tt27201202 from OMDb...\n"
     ]
    },
    {
     "name": "stderr",
     "output_type": "stream",
     "text": [
      "Fetching movie data:  36%|██████▉            | 950/2614 [06:13<10:35,  2.62it/s]"
     ]
    },
    {
     "name": "stdout",
     "output_type": "stream",
     "text": [
      "Fetching data for movie ID tt29256674 from OMDb...\n"
     ]
    },
    {
     "name": "stderr",
     "output_type": "stream",
     "text": [
      "Fetching movie data:  36%|██████▉            | 951/2614 [06:14<10:48,  2.57it/s]"
     ]
    },
    {
     "name": "stdout",
     "output_type": "stream",
     "text": [
      "Fetching data for movie ID tt11056304 from OMDb...\n"
     ]
    },
    {
     "name": "stderr",
     "output_type": "stream",
     "text": [
      "Fetching movie data:  36%|██████▉            | 952/2614 [06:14<10:50,  2.55it/s]"
     ]
    },
    {
     "name": "stdout",
     "output_type": "stream",
     "text": [
      "Fetching data for movie ID tt13919968 from OMDb...\n"
     ]
    },
    {
     "name": "stderr",
     "output_type": "stream",
     "text": [
      "Fetching movie data:  36%|██████▉            | 953/2614 [06:15<11:07,  2.49it/s]"
     ]
    },
    {
     "name": "stdout",
     "output_type": "stream",
     "text": [
      "Fetching data for movie ID tt13370156 from OMDb...\n"
     ]
    },
    {
     "name": "stderr",
     "output_type": "stream",
     "text": [
      "Fetching movie data:  36%|██████▉            | 954/2614 [06:15<12:01,  2.30it/s]"
     ]
    },
    {
     "name": "stdout",
     "output_type": "stream",
     "text": [
      "Fetching data for movie ID tt21053478 from OMDb...\n"
     ]
    },
    {
     "name": "stderr",
     "output_type": "stream",
     "text": [
      "Fetching movie data:  37%|██████▉            | 955/2614 [06:15<11:28,  2.41it/s]"
     ]
    },
    {
     "name": "stdout",
     "output_type": "stream",
     "text": [
      "Fetching data for movie ID tt4512896 from OMDb...\n"
     ]
    },
    {
     "name": "stderr",
     "output_type": "stream",
     "text": [
      "Fetching movie data:  37%|██████▉            | 956/2614 [06:16<11:45,  2.35it/s]"
     ]
    },
    {
     "name": "stdout",
     "output_type": "stream",
     "text": [
      "Fetching data for movie ID tt18561072 from OMDb...\n"
     ]
    },
    {
     "name": "stderr",
     "output_type": "stream",
     "text": [
      "Fetching movie data:  37%|██████▉            | 957/2614 [06:16<11:37,  2.37it/s]"
     ]
    },
    {
     "name": "stdout",
     "output_type": "stream",
     "text": [
      "Fetching data for movie ID tt14946552 from OMDb...\n",
      "Fetching data for movie ID tt18305688 from OMDb...\n"
     ]
    },
    {
     "name": "stderr",
     "output_type": "stream",
     "text": [
      "Fetching movie data:  37%|██████▉            | 959/2614 [06:17<09:30,  2.90it/s]"
     ]
    },
    {
     "name": "stdout",
     "output_type": "stream",
     "text": [
      "Fetching data for movie ID tt4806232 from OMDb...\n"
     ]
    },
    {
     "name": "stderr",
     "output_type": "stream",
     "text": [
      "Fetching movie data:  37%|██████▉            | 960/2614 [06:17<09:57,  2.77it/s]"
     ]
    },
    {
     "name": "stdout",
     "output_type": "stream",
     "text": [
      "Fetching data for movie ID tt30877290 from OMDb...\n",
      "Fetching data for movie ID tt13556836 from OMDb...\n"
     ]
    },
    {
     "name": "stderr",
     "output_type": "stream",
     "text": [
      "Fetching movie data:  37%|██████▉            | 962/2614 [06:18<08:44,  3.15it/s]"
     ]
    },
    {
     "name": "stdout",
     "output_type": "stream",
     "text": [
      "Fetching data for movie ID tt4678428 from OMDb...\n"
     ]
    },
    {
     "name": "stderr",
     "output_type": "stream",
     "text": [
      "Fetching movie data:  37%|██████▉            | 963/2614 [06:18<09:18,  2.96it/s]"
     ]
    },
    {
     "name": "stdout",
     "output_type": "stream",
     "text": [
      "Fetching data for movie ID tt34439381 from OMDb...\n"
     ]
    },
    {
     "name": "stderr",
     "output_type": "stream",
     "text": [
      "Fetching movie data:  37%|███████            | 964/2614 [06:19<10:29,  2.62it/s]"
     ]
    },
    {
     "name": "stdout",
     "output_type": "stream",
     "text": [
      "Fetching data for movie ID tt3473414 from OMDb...\n"
     ]
    },
    {
     "name": "stderr",
     "output_type": "stream",
     "text": [
      "Fetching movie data:  37%|███████            | 965/2614 [06:19<10:40,  2.58it/s]"
     ]
    },
    {
     "name": "stdout",
     "output_type": "stream",
     "text": [
      "Fetching data for movie ID tt27459285 from OMDb...\n"
     ]
    },
    {
     "name": "stderr",
     "output_type": "stream",
     "text": [
      "Fetching movie data:  37%|███████            | 966/2614 [06:19<10:49,  2.54it/s]"
     ]
    },
    {
     "name": "stdout",
     "output_type": "stream",
     "text": [
      "Fetching data for movie ID tt16287236 from OMDb...\n"
     ]
    },
    {
     "name": "stderr",
     "output_type": "stream",
     "text": [
      "Fetching movie data:  37%|███████            | 967/2614 [06:20<10:56,  2.51it/s]"
     ]
    },
    {
     "name": "stdout",
     "output_type": "stream",
     "text": [
      "Fetching data for movie ID tt10654432 from OMDb...\n"
     ]
    },
    {
     "name": "stderr",
     "output_type": "stream",
     "text": [
      "Fetching movie data:  37%|███████            | 968/2614 [06:20<11:01,  2.49it/s]"
     ]
    },
    {
     "name": "stdout",
     "output_type": "stream",
     "text": [
      "Fetching data for movie ID tt5302918 from OMDb...\n"
     ]
    },
    {
     "name": "stderr",
     "output_type": "stream",
     "text": [
      "Fetching movie data:  37%|███████            | 969/2614 [06:21<11:04,  2.48it/s]"
     ]
    },
    {
     "name": "stdout",
     "output_type": "stream",
     "text": [
      "Fetching data for movie ID tt5195806 from OMDb...\n"
     ]
    },
    {
     "name": "stderr",
     "output_type": "stream",
     "text": [
      "Fetching movie data:  37%|███████            | 970/2614 [06:21<10:36,  2.58it/s]"
     ]
    },
    {
     "name": "stdout",
     "output_type": "stream",
     "text": [
      "Fetching data for movie ID tt12117528 from OMDb...\n"
     ]
    },
    {
     "name": "stderr",
     "output_type": "stream",
     "text": [
      "Fetching movie data:  37%|███████            | 971/2614 [06:22<11:18,  2.42it/s]"
     ]
    },
    {
     "name": "stdout",
     "output_type": "stream",
     "text": [
      "Fetching data for movie ID tt35256564 from OMDb...\n",
      "Fetching data for movie ID tt4234600 from OMDb...\n"
     ]
    },
    {
     "name": "stderr",
     "output_type": "stream",
     "text": [
      "Fetching movie data:  37%|███████            | 973/2614 [06:22<09:16,  2.95it/s]"
     ]
    },
    {
     "name": "stdout",
     "output_type": "stream",
     "text": [
      "Fetching data for movie ID tt13139342 from OMDb...\n"
     ]
    },
    {
     "name": "stderr",
     "output_type": "stream",
     "text": [
      "Fetching movie data:  37%|███████            | 975/2614 [06:23<08:20,  3.27it/s]"
     ]
    },
    {
     "name": "stdout",
     "output_type": "stream",
     "text": [
      "Fetching data for movie ID tt2397535 from OMDb...\n",
      "Fetching data for movie ID tt21052558 from OMDb...\n",
      "Fetching data for movie ID tt23843756 from OMDb...\n"
     ]
    },
    {
     "name": "stderr",
     "output_type": "stream",
     "text": [
      "Fetching movie data:  37%|███████            | 977/2614 [06:23<07:31,  3.63it/s]"
     ]
    },
    {
     "name": "stdout",
     "output_type": "stream",
     "text": [
      "Fetching data for movie ID tt29371859 from OMDb...\n"
     ]
    },
    {
     "name": "stderr",
     "output_type": "stream",
     "text": [
      "Fetching movie data:  37%|███████            | 978/2614 [06:24<09:01,  3.02it/s]"
     ]
    },
    {
     "name": "stdout",
     "output_type": "stream",
     "text": [
      "Fetching data for movie ID tt5000724 from OMDb...\n"
     ]
    },
    {
     "name": "stderr",
     "output_type": "stream",
     "text": [
      "Fetching movie data:  37%|███████            | 979/2614 [06:24<09:07,  2.98it/s]"
     ]
    },
    {
     "name": "stdout",
     "output_type": "stream",
     "text": [
      "Fetching data for movie ID tt28517189 from OMDb...\n"
     ]
    },
    {
     "name": "stderr",
     "output_type": "stream",
     "text": [
      "Fetching movie data:  37%|███████            | 980/2614 [06:24<09:38,  2.83it/s]"
     ]
    },
    {
     "name": "stdout",
     "output_type": "stream",
     "text": [
      "Fetching data for movie ID tt5310362 from OMDb...\n"
     ]
    },
    {
     "name": "stderr",
     "output_type": "stream",
     "text": [
      "Fetching movie data:  38%|███████▏           | 981/2614 [06:25<10:31,  2.58it/s]"
     ]
    },
    {
     "name": "stdout",
     "output_type": "stream",
     "text": [
      "Fetching data for movie ID tt9747294 from OMDb...\n"
     ]
    },
    {
     "name": "stderr",
     "output_type": "stream",
     "text": [
      "Fetching movie data:  38%|███████▏           | 982/2614 [06:25<11:29,  2.37it/s]"
     ]
    },
    {
     "name": "stdout",
     "output_type": "stream",
     "text": [
      "Fetching data for movie ID tt10263280 from OMDb...\n"
     ]
    },
    {
     "name": "stderr",
     "output_type": "stream",
     "text": [
      "Fetching movie data:  38%|███████▏           | 983/2614 [06:26<11:22,  2.39it/s]"
     ]
    },
    {
     "name": "stdout",
     "output_type": "stream",
     "text": [
      "Fetching data for movie ID tt9390200 from OMDb...\n"
     ]
    },
    {
     "name": "stderr",
     "output_type": "stream",
     "text": [
      "Fetching movie data:  38%|███████▏           | 984/2614 [06:26<11:27,  2.37it/s]"
     ]
    },
    {
     "name": "stdout",
     "output_type": "stream",
     "text": [
      "Fetching data for movie ID tt5904950 from OMDb...\n"
     ]
    },
    {
     "name": "stderr",
     "output_type": "stream",
     "text": [
      "Fetching movie data:  38%|███████▏           | 985/2614 [06:27<12:01,  2.26it/s]"
     ]
    },
    {
     "name": "stdout",
     "output_type": "stream",
     "text": [
      "Fetching data for movie ID tt31513857 from OMDb...\n"
     ]
    },
    {
     "name": "stderr",
     "output_type": "stream",
     "text": [
      "Fetching movie data:  38%|███████▏           | 986/2614 [06:27<11:44,  2.31it/s]"
     ]
    },
    {
     "name": "stdout",
     "output_type": "stream",
     "text": [
      "Fetching data for movie ID tt5068628 from OMDb...\n"
     ]
    },
    {
     "name": "stderr",
     "output_type": "stream",
     "text": [
      "Fetching movie data:  38%|███████▏           | 987/2614 [06:27<11:24,  2.38it/s]"
     ]
    },
    {
     "name": "stdout",
     "output_type": "stream",
     "text": [
      "Fetching data for movie ID tt4064220 from OMDb...\n",
      "Fetching data for movie ID tt26698828 from OMDb...\n"
     ]
    },
    {
     "name": "stderr",
     "output_type": "stream",
     "text": [
      "Fetching movie data:  38%|███████▏           | 989/2614 [06:28<09:47,  2.76it/s]"
     ]
    },
    {
     "name": "stdout",
     "output_type": "stream",
     "text": [
      "Fetching data for movie ID tt29362046 from OMDb...\n",
      "Fetching data for movie ID tt30527534 from OMDb...\n"
     ]
    },
    {
     "name": "stderr",
     "output_type": "stream",
     "text": [
      "Fetching movie data:  38%|███████▏           | 991/2614 [06:28<08:29,  3.19it/s]"
     ]
    },
    {
     "name": "stdout",
     "output_type": "stream",
     "text": [
      "Fetching data for movie ID tt26256598 from OMDb...\n"
     ]
    },
    {
     "name": "stderr",
     "output_type": "stream",
     "text": [
      "Fetching movie data:  38%|███████▏           | 993/2614 [06:29<07:44,  3.49it/s]"
     ]
    },
    {
     "name": "stdout",
     "output_type": "stream",
     "text": [
      "Fetching data for movie ID tt33317595 from OMDb...\n",
      "Fetching data for movie ID tt21607628 from OMDb...\n"
     ]
    },
    {
     "name": "stderr",
     "output_type": "stream",
     "text": [
      "Fetching movie data:  38%|███████▏           | 994/2614 [06:29<08:12,  3.29it/s]"
     ]
    },
    {
     "name": "stdout",
     "output_type": "stream",
     "text": [
      "Fetching data for movie ID tt15170580 from OMDb...\n"
     ]
    },
    {
     "name": "stderr",
     "output_type": "stream",
     "text": [
      "Fetching movie data:  38%|███████▏           | 995/2614 [06:30<08:25,  3.20it/s]"
     ]
    },
    {
     "name": "stdout",
     "output_type": "stream",
     "text": [
      "Fetching data for movie ID tt5451232 from OMDb...\n"
     ]
    },
    {
     "name": "stderr",
     "output_type": "stream",
     "text": [
      "Fetching movie data:  38%|███████▏           | 996/2614 [06:30<09:43,  2.77it/s]"
     ]
    },
    {
     "name": "stdout",
     "output_type": "stream",
     "text": [
      "Fetching data for movie ID tt2545082 from OMDb...\n"
     ]
    },
    {
     "name": "stderr",
     "output_type": "stream",
     "text": [
      "Fetching movie data:  38%|███████▎           | 998/2614 [06:31<08:48,  3.06it/s]"
     ]
    },
    {
     "name": "stdout",
     "output_type": "stream",
     "text": [
      "Fetching data for movie ID tt35097198 from OMDb...\n",
      "Fetching data for movie ID tt22394800 from OMDb...\n"
     ]
    },
    {
     "name": "stderr",
     "output_type": "stream",
     "text": [
      "Fetching movie data:  38%|███████▎           | 999/2614 [06:31<09:38,  2.79it/s]"
     ]
    },
    {
     "name": "stdout",
     "output_type": "stream",
     "text": [
      "Fetching data for movie ID tt6960802 from OMDb...\n"
     ]
    },
    {
     "name": "stderr",
     "output_type": "stream",
     "text": [
      "Fetching movie data:  38%|██████▉           | 1000/2614 [06:32<09:48,  2.74it/s]"
     ]
    },
    {
     "name": "stdout",
     "output_type": "stream",
     "text": [
      "Fetching data for movie ID tt29028848 from OMDb...\n"
     ]
    },
    {
     "name": "stderr",
     "output_type": "stream",
     "text": [
      "Fetching movie data:  38%|██████▉           | 1001/2614 [06:32<10:42,  2.51it/s]"
     ]
    },
    {
     "name": "stdout",
     "output_type": "stream",
     "text": [
      "Fetching data for movie ID tt5425488 from OMDb...\n"
     ]
    },
    {
     "name": "stderr",
     "output_type": "stream",
     "text": [
      "Fetching movie data:  38%|██████▉           | 1002/2614 [06:33<10:26,  2.57it/s]"
     ]
    },
    {
     "name": "stdout",
     "output_type": "stream",
     "text": [
      "Fetching data for movie ID tt8590046 from OMDb...\n"
     ]
    },
    {
     "name": "stderr",
     "output_type": "stream",
     "text": [
      "Fetching movie data:  38%|██████▉           | 1003/2614 [06:33<10:57,  2.45it/s]"
     ]
    },
    {
     "name": "stdout",
     "output_type": "stream",
     "text": [
      "Fetching data for movie ID tt6668212 from OMDb...\n"
     ]
    },
    {
     "name": "stderr",
     "output_type": "stream",
     "text": [
      "Fetching movie data:  38%|██████▉           | 1004/2614 [06:33<11:41,  2.30it/s]"
     ]
    },
    {
     "name": "stdout",
     "output_type": "stream",
     "text": [
      "Fetching data for movie ID tt22037606 from OMDb...\n"
     ]
    },
    {
     "name": "stderr",
     "output_type": "stream",
     "text": [
      "Fetching movie data:  38%|██████▉           | 1005/2614 [06:34<13:12,  2.03it/s]"
     ]
    },
    {
     "name": "stdout",
     "output_type": "stream",
     "text": [
      "Fetching data for movie ID tt8129976 from OMDb...\n"
     ]
    },
    {
     "name": "stderr",
     "output_type": "stream",
     "text": [
      "Fetching movie data:  38%|██████▉           | 1006/2614 [06:34<12:16,  2.18it/s]"
     ]
    },
    {
     "name": "stdout",
     "output_type": "stream",
     "text": [
      "Fetching data for movie ID tt23186222 from OMDb...\n"
     ]
    },
    {
     "name": "stderr",
     "output_type": "stream",
     "text": [
      "Fetching movie data:  39%|██████▉           | 1007/2614 [06:35<12:08,  2.21it/s]"
     ]
    },
    {
     "name": "stdout",
     "output_type": "stream",
     "text": [
      "Fetching data for movie ID tt3437722 from OMDb...\n"
     ]
    },
    {
     "name": "stderr",
     "output_type": "stream",
     "text": [
      "Fetching movie data:  39%|██████▉           | 1008/2614 [06:35<11:37,  2.30it/s]"
     ]
    },
    {
     "name": "stdout",
     "output_type": "stream",
     "text": [
      "Fetching data for movie ID tt3823306 from OMDb...\n"
     ]
    },
    {
     "name": "stderr",
     "output_type": "stream",
     "text": [
      "Fetching movie data:  39%|██████▉           | 1009/2614 [06:36<11:31,  2.32it/s]"
     ]
    },
    {
     "name": "stdout",
     "output_type": "stream",
     "text": [
      "Fetching data for movie ID tt8793222 from OMDb...\n"
     ]
    },
    {
     "name": "stderr",
     "output_type": "stream",
     "text": [
      "Fetching movie data:  39%|██████▉           | 1010/2614 [06:36<11:24,  2.34it/s]"
     ]
    },
    {
     "name": "stdout",
     "output_type": "stream",
     "text": [
      "Fetching data for movie ID tt3902200 from OMDb...\n"
     ]
    },
    {
     "name": "stderr",
     "output_type": "stream",
     "text": [
      "Fetching movie data:  39%|██████▉           | 1011/2614 [06:37<11:06,  2.41it/s]"
     ]
    },
    {
     "name": "stdout",
     "output_type": "stream",
     "text": [
      "Fetching data for movie ID tt4653794 from OMDb...\n"
     ]
    },
    {
     "name": "stderr",
     "output_type": "stream",
     "text": [
      "Fetching movie data:  39%|██████▉           | 1012/2614 [06:37<11:09,  2.39it/s]"
     ]
    },
    {
     "name": "stdout",
     "output_type": "stream",
     "text": [
      "Fetching data for movie ID tt4974208 from OMDb...\n"
     ]
    },
    {
     "name": "stderr",
     "output_type": "stream",
     "text": [
      "Fetching movie data:  39%|██████▉           | 1013/2614 [06:37<10:43,  2.49it/s]"
     ]
    },
    {
     "name": "stdout",
     "output_type": "stream",
     "text": [
      "Fetching data for movie ID tt33303731 from OMDb...\n"
     ]
    },
    {
     "name": "stderr",
     "output_type": "stream",
     "text": [
      "Fetching movie data:  39%|██████▉           | 1014/2614 [06:38<10:56,  2.44it/s]"
     ]
    },
    {
     "name": "stdout",
     "output_type": "stream",
     "text": [
      "Fetching data for movie ID tt21326322 from OMDb...\n"
     ]
    },
    {
     "name": "stderr",
     "output_type": "stream",
     "text": [
      "Fetching movie data:  39%|██████▉           | 1015/2614 [06:38<11:59,  2.22it/s]"
     ]
    },
    {
     "name": "stdout",
     "output_type": "stream",
     "text": [
      "Fetching data for movie ID tt4829774 from OMDb...\n"
     ]
    },
    {
     "name": "stderr",
     "output_type": "stream",
     "text": [
      "Fetching movie data:  39%|██████▉           | 1016/2614 [06:39<11:39,  2.29it/s]"
     ]
    },
    {
     "name": "stdout",
     "output_type": "stream",
     "text": [
      "Fetching data for movie ID tt10924154 from OMDb...\n"
     ]
    },
    {
     "name": "stderr",
     "output_type": "stream",
     "text": [
      "Fetching movie data:  39%|███████           | 1017/2614 [06:39<11:25,  2.33it/s]"
     ]
    },
    {
     "name": "stdout",
     "output_type": "stream",
     "text": [
      "Fetching data for movie ID tt30222481 from OMDb...\n"
     ]
    },
    {
     "name": "stderr",
     "output_type": "stream",
     "text": [
      "Fetching movie data:  39%|███████           | 1019/2614 [06:40<08:41,  3.06it/s]"
     ]
    },
    {
     "name": "stdout",
     "output_type": "stream",
     "text": [
      "Fetching data for movie ID tt12271694 from OMDb...\n",
      "Fetching data for movie ID tt4553986 from OMDb...\n"
     ]
    },
    {
     "name": "stderr",
     "output_type": "stream",
     "text": [
      "Fetching movie data:  39%|███████           | 1020/2614 [06:40<09:21,  2.84it/s]"
     ]
    },
    {
     "name": "stdout",
     "output_type": "stream",
     "text": [
      "Fetching data for movie ID tt7490268 from OMDb...\n"
     ]
    },
    {
     "name": "stderr",
     "output_type": "stream",
     "text": [
      "Fetching movie data:  39%|███████           | 1021/2614 [06:40<09:48,  2.71it/s]"
     ]
    },
    {
     "name": "stdout",
     "output_type": "stream",
     "text": [
      "Fetching data for movie ID tt25830900 from OMDb...\n"
     ]
    },
    {
     "name": "stderr",
     "output_type": "stream",
     "text": [
      "Fetching movie data:  39%|███████           | 1022/2614 [06:41<10:31,  2.52it/s]"
     ]
    },
    {
     "name": "stdout",
     "output_type": "stream",
     "text": [
      "Fetching data for movie ID tt6845890 from OMDb...\n"
     ]
    },
    {
     "name": "stderr",
     "output_type": "stream",
     "text": [
      "Fetching movie data:  39%|███████           | 1023/2614 [06:41<11:01,  2.40it/s]"
     ]
    },
    {
     "name": "stdout",
     "output_type": "stream",
     "text": [
      "Fetching data for movie ID tt13259956 from OMDb...\n"
     ]
    },
    {
     "name": "stderr",
     "output_type": "stream",
     "text": [
      "Fetching movie data:  39%|███████           | 1024/2614 [06:42<10:48,  2.45it/s]"
     ]
    },
    {
     "name": "stdout",
     "output_type": "stream",
     "text": [
      "Fetching data for movie ID tt5285270 from OMDb...\n"
     ]
    },
    {
     "name": "stderr",
     "output_type": "stream",
     "text": [
      "Fetching movie data:  39%|███████           | 1025/2614 [06:42<10:53,  2.43it/s]"
     ]
    },
    {
     "name": "stdout",
     "output_type": "stream",
     "text": [
      "Fetching data for movie ID tt6606048 from OMDb...\n"
     ]
    },
    {
     "name": "stderr",
     "output_type": "stream",
     "text": [
      "Fetching movie data:  39%|███████           | 1026/2614 [06:43<10:39,  2.48it/s]"
     ]
    },
    {
     "name": "stdout",
     "output_type": "stream",
     "text": [
      "Fetching data for movie ID tt5975222 from OMDb...\n"
     ]
    },
    {
     "name": "stderr",
     "output_type": "stream",
     "text": [
      "Fetching movie data:  39%|███████           | 1027/2614 [06:43<11:01,  2.40it/s]"
     ]
    },
    {
     "name": "stdout",
     "output_type": "stream",
     "text": [
      "Fetching data for movie ID tt15150034 from OMDb...\n"
     ]
    },
    {
     "name": "stderr",
     "output_type": "stream",
     "text": [
      "Fetching movie data:  39%|███████           | 1028/2614 [06:43<10:56,  2.42it/s]"
     ]
    },
    {
     "name": "stdout",
     "output_type": "stream",
     "text": [
      "Fetching data for movie ID tt4490820 from OMDb...\n"
     ]
    },
    {
     "name": "stderr",
     "output_type": "stream",
     "text": [
      "Fetching movie data:  39%|███████           | 1029/2614 [06:44<10:53,  2.42it/s]"
     ]
    },
    {
     "name": "stdout",
     "output_type": "stream",
     "text": [
      "Fetching data for movie ID tt10407144 from OMDb...\n"
     ]
    },
    {
     "name": "stderr",
     "output_type": "stream",
     "text": [
      "Fetching movie data:  39%|███████           | 1030/2614 [06:44<10:53,  2.42it/s]"
     ]
    },
    {
     "name": "stdout",
     "output_type": "stream",
     "text": [
      "Fetching data for movie ID tt10457580 from OMDb...\n"
     ]
    },
    {
     "name": "stderr",
     "output_type": "stream",
     "text": [
      "Fetching movie data:  39%|███████           | 1031/2614 [06:45<10:50,  2.43it/s]"
     ]
    },
    {
     "name": "stdout",
     "output_type": "stream",
     "text": [
      "Fetching data for movie ID tt7984730 from OMDb...\n"
     ]
    },
    {
     "name": "stderr",
     "output_type": "stream",
     "text": [
      "Fetching movie data:  39%|███████           | 1032/2614 [06:45<10:50,  2.43it/s]"
     ]
    },
    {
     "name": "stdout",
     "output_type": "stream",
     "text": [
      "Fetching data for movie ID tt14677728 from OMDb...\n"
     ]
    },
    {
     "name": "stderr",
     "output_type": "stream",
     "text": [
      "Fetching movie data:  40%|███████           | 1033/2614 [06:45<10:24,  2.53it/s]"
     ]
    },
    {
     "name": "stdout",
     "output_type": "stream",
     "text": [
      "Fetching data for movie ID tt7111826 from OMDb...\n"
     ]
    },
    {
     "name": "stderr",
     "output_type": "stream",
     "text": [
      "Fetching movie data:  40%|███████           | 1034/2614 [06:46<10:54,  2.41it/s]"
     ]
    },
    {
     "name": "stdout",
     "output_type": "stream",
     "text": [
      "Fetching data for movie ID tt21843420 from OMDb...\n"
     ]
    },
    {
     "name": "stderr",
     "output_type": "stream",
     "text": [
      "Fetching movie data:  40%|███████▏          | 1035/2614 [06:46<10:52,  2.42it/s]"
     ]
    },
    {
     "name": "stdout",
     "output_type": "stream",
     "text": [
      "Fetching data for movie ID tt10280636 from OMDb...\n"
     ]
    },
    {
     "name": "stderr",
     "output_type": "stream",
     "text": [
      "Fetching movie data:  40%|███████▏          | 1036/2614 [06:47<10:15,  2.57it/s]"
     ]
    },
    {
     "name": "stdout",
     "output_type": "stream",
     "text": [
      "Fetching data for movie ID tt8562824 from OMDb...\n"
     ]
    },
    {
     "name": "stderr",
     "output_type": "stream",
     "text": [
      "Fetching movie data:  40%|███████▏          | 1037/2614 [06:47<10:03,  2.61it/s]"
     ]
    },
    {
     "name": "stdout",
     "output_type": "stream",
     "text": [
      "Fetching data for movie ID tt14038500 from OMDb...\n"
     ]
    },
    {
     "name": "stderr",
     "output_type": "stream",
     "text": [
      "Fetching movie data:  40%|███████▏          | 1038/2614 [06:47<10:34,  2.48it/s]"
     ]
    },
    {
     "name": "stdout",
     "output_type": "stream",
     "text": [
      "Progress saved after 37400 movies.\n",
      "Fetching data for movie ID tt32378959 from OMDb...\n"
     ]
    },
    {
     "name": "stderr",
     "output_type": "stream",
     "text": [
      "Fetching movie data:  40%|███████▏          | 1039/2614 [06:48<10:27,  2.51it/s]"
     ]
    },
    {
     "name": "stdout",
     "output_type": "stream",
     "text": [
      "Fetching data for movie ID tt3282736 from OMDb...\n"
     ]
    },
    {
     "name": "stderr",
     "output_type": "stream",
     "text": [
      "Fetching movie data:  40%|███████▏          | 1040/2614 [06:48<10:04,  2.60it/s]"
     ]
    },
    {
     "name": "stdout",
     "output_type": "stream",
     "text": [
      "Fetching data for movie ID tt4670270 from OMDb...\n",
      "Fetching data for movie ID tt7383144 from OMDb...\n"
     ]
    },
    {
     "name": "stderr",
     "output_type": "stream",
     "text": [
      "Fetching movie data:  40%|███████▏          | 1043/2614 [06:49<07:22,  3.55it/s]"
     ]
    },
    {
     "name": "stdout",
     "output_type": "stream",
     "text": [
      "Fetching data for movie ID tt5198068 from OMDb...\n",
      "Fetching data for movie ID tt3726682 from OMDb...\n"
     ]
    },
    {
     "name": "stderr",
     "output_type": "stream",
     "text": [
      "Fetching movie data:  40%|███████▏          | 1044/2614 [06:49<08:24,  3.11it/s]"
     ]
    },
    {
     "name": "stdout",
     "output_type": "stream",
     "text": [
      "Fetching data for movie ID tt15516546 from OMDb...\n"
     ]
    },
    {
     "name": "stderr",
     "output_type": "stream",
     "text": [
      "Fetching movie data:  40%|███████▏          | 1045/2614 [06:50<08:40,  3.01it/s]"
     ]
    },
    {
     "name": "stdout",
     "output_type": "stream",
     "text": [
      "Fetching data for movie ID tt4976532 from OMDb...\n"
     ]
    },
    {
     "name": "stderr",
     "output_type": "stream",
     "text": [
      "Fetching movie data:  40%|███████▏          | 1046/2614 [06:50<09:36,  2.72it/s]"
     ]
    },
    {
     "name": "stdout",
     "output_type": "stream",
     "text": [
      "Fetching data for movie ID tt13577982 from OMDb...\n"
     ]
    },
    {
     "name": "stderr",
     "output_type": "stream",
     "text": [
      "Fetching movie data:  40%|███████▏          | 1047/2614 [06:50<09:53,  2.64it/s]"
     ]
    },
    {
     "name": "stdout",
     "output_type": "stream",
     "text": [
      "Fetching data for movie ID tt7764450 from OMDb...\n"
     ]
    },
    {
     "name": "stderr",
     "output_type": "stream",
     "text": [
      "Fetching movie data:  40%|███████▏          | 1048/2614 [06:51<10:07,  2.58it/s]"
     ]
    },
    {
     "name": "stdout",
     "output_type": "stream",
     "text": [
      "Fetching data for movie ID tt22806032 from OMDb...\n"
     ]
    },
    {
     "name": "stderr",
     "output_type": "stream",
     "text": [
      "Fetching movie data:  40%|███████▏          | 1049/2614 [06:51<10:27,  2.50it/s]"
     ]
    },
    {
     "name": "stdout",
     "output_type": "stream",
     "text": [
      "Fetching data for movie ID tt3717242 from OMDb...\n"
     ]
    },
    {
     "name": "stderr",
     "output_type": "stream",
     "text": [
      "Fetching movie data:  40%|███████▏          | 1050/2614 [06:52<10:22,  2.51it/s]"
     ]
    },
    {
     "name": "stdout",
     "output_type": "stream",
     "text": [
      "Fetching data for movie ID tt30134880 from OMDb...\n"
     ]
    },
    {
     "name": "stderr",
     "output_type": "stream",
     "text": [
      "Fetching movie data:  40%|███████▏          | 1051/2614 [06:52<10:05,  2.58it/s]"
     ]
    },
    {
     "name": "stdout",
     "output_type": "stream",
     "text": [
      "Fetching data for movie ID tt4678238 from OMDb...\n"
     ]
    },
    {
     "name": "stderr",
     "output_type": "stream",
     "text": [
      "Fetching movie data:  40%|███████▏          | 1052/2614 [06:52<09:42,  2.68it/s]"
     ]
    },
    {
     "name": "stdout",
     "output_type": "stream",
     "text": [
      "Fetching data for movie ID tt7035872 from OMDb...\n"
     ]
    },
    {
     "name": "stderr",
     "output_type": "stream",
     "text": [
      "Fetching movie data:  40%|███████▎          | 1053/2614 [06:53<09:35,  2.71it/s]"
     ]
    },
    {
     "name": "stdout",
     "output_type": "stream",
     "text": [
      "Fetching data for movie ID tt5163920 from OMDb...\n"
     ]
    },
    {
     "name": "stderr",
     "output_type": "stream",
     "text": [
      "Fetching movie data:  40%|███████▎          | 1054/2614 [06:53<09:23,  2.77it/s]"
     ]
    },
    {
     "name": "stdout",
     "output_type": "stream",
     "text": [
      "Fetching data for movie ID tt34978174 from OMDb...\n"
     ]
    },
    {
     "name": "stderr",
     "output_type": "stream",
     "text": [
      "Fetching movie data:  40%|███████▎          | 1055/2614 [06:54<09:40,  2.69it/s]"
     ]
    },
    {
     "name": "stdout",
     "output_type": "stream",
     "text": [
      "Fetching data for movie ID tt18080880 from OMDb...\n"
     ]
    },
    {
     "name": "stderr",
     "output_type": "stream",
     "text": [
      "Fetching movie data:  40%|███████▎          | 1056/2614 [06:54<09:48,  2.65it/s]"
     ]
    },
    {
     "name": "stdout",
     "output_type": "stream",
     "text": [
      "Fetching data for movie ID tt17889708 from OMDb...\n",
      "Fetching data for movie ID tt3641880 from OMDb...\n"
     ]
    },
    {
     "name": "stderr",
     "output_type": "stream",
     "text": [
      "Fetching movie data:  40%|███████▎          | 1058/2614 [06:54<08:04,  3.21it/s]"
     ]
    },
    {
     "name": "stdout",
     "output_type": "stream",
     "text": [
      "Fetching data for movie ID tt31052083 from OMDb...\n"
     ]
    },
    {
     "name": "stderr",
     "output_type": "stream",
     "text": [
      "Fetching movie data:  41%|███████▎          | 1059/2614 [06:55<08:43,  2.97it/s]"
     ]
    },
    {
     "name": "stdout",
     "output_type": "stream",
     "text": [
      "Fetching data for movie ID tt12929200 from OMDb...\n"
     ]
    },
    {
     "name": "stderr",
     "output_type": "stream",
     "text": [
      "Fetching movie data:  41%|███████▎          | 1060/2614 [06:55<09:10,  2.82it/s]"
     ]
    },
    {
     "name": "stdout",
     "output_type": "stream",
     "text": [
      "Fetching data for movie ID tt23634396 from OMDb...\n"
     ]
    },
    {
     "name": "stderr",
     "output_type": "stream",
     "text": [
      "Fetching movie data:  41%|███████▎          | 1061/2614 [06:56<09:33,  2.71it/s]"
     ]
    },
    {
     "name": "stdout",
     "output_type": "stream",
     "text": [
      "Fetching data for movie ID tt8006508 from OMDb...\n"
     ]
    },
    {
     "name": "stderr",
     "output_type": "stream",
     "text": [
      "Fetching movie data:  41%|███████▎          | 1062/2614 [06:56<10:35,  2.44it/s]"
     ]
    },
    {
     "name": "stdout",
     "output_type": "stream",
     "text": [
      "Fetching data for movie ID tt7838252 from OMDb...\n"
     ]
    },
    {
     "name": "stderr",
     "output_type": "stream",
     "text": [
      "Fetching movie data:  41%|███████▎          | 1063/2614 [06:57<10:29,  2.46it/s]"
     ]
    },
    {
     "name": "stdout",
     "output_type": "stream",
     "text": [
      "Fetching data for movie ID tt13667552 from OMDb...\n"
     ]
    },
    {
     "name": "stderr",
     "output_type": "stream",
     "text": [
      "Fetching movie data:  41%|███████▎          | 1065/2614 [06:57<08:43,  2.96it/s]"
     ]
    },
    {
     "name": "stdout",
     "output_type": "stream",
     "text": [
      "Fetching data for movie ID tt21261388 from OMDb...\n",
      "Fetching data for movie ID tt3600758 from OMDb...\n"
     ]
    },
    {
     "name": "stderr",
     "output_type": "stream",
     "text": [
      "Fetching movie data:  41%|███████▎          | 1066/2614 [06:57<09:10,  2.81it/s]"
     ]
    },
    {
     "name": "stdout",
     "output_type": "stream",
     "text": [
      "Fetching data for movie ID tt32899887 from OMDb...\n"
     ]
    },
    {
     "name": "stderr",
     "output_type": "stream",
     "text": [
      "Fetching movie data:  41%|███████▎          | 1067/2614 [06:58<09:23,  2.75it/s]"
     ]
    },
    {
     "name": "stdout",
     "output_type": "stream",
     "text": [
      "Fetching data for movie ID tt28486267 from OMDb...\n"
     ]
    },
    {
     "name": "stderr",
     "output_type": "stream",
     "text": [
      "Fetching movie data:  41%|███████▎          | 1068/2614 [06:58<10:20,  2.49it/s]"
     ]
    },
    {
     "name": "stdout",
     "output_type": "stream",
     "text": [
      "Fetching data for movie ID tt15495380 from OMDb...\n"
     ]
    },
    {
     "name": "stderr",
     "output_type": "stream",
     "text": [
      "Fetching movie data:  41%|███████▎          | 1069/2614 [06:59<10:23,  2.48it/s]"
     ]
    },
    {
     "name": "stdout",
     "output_type": "stream",
     "text": [
      "Fetching data for movie ID tt5812842 from OMDb...\n"
     ]
    },
    {
     "name": "stderr",
     "output_type": "stream",
     "text": [
      "Fetching movie data:  41%|███████▎          | 1070/2614 [06:59<11:13,  2.29it/s]"
     ]
    },
    {
     "name": "stdout",
     "output_type": "stream",
     "text": [
      "Fetching data for movie ID tt13709012 from OMDb...\n"
     ]
    },
    {
     "name": "stderr",
     "output_type": "stream",
     "text": [
      "Fetching movie data:  41%|███████▎          | 1071/2614 [07:00<11:48,  2.18it/s]"
     ]
    },
    {
     "name": "stdout",
     "output_type": "stream",
     "text": [
      "Fetching data for movie ID tt2335444 from OMDb...\n"
     ]
    },
    {
     "name": "stderr",
     "output_type": "stream",
     "text": [
      "Fetching movie data:  41%|███████▍          | 1072/2614 [07:00<11:11,  2.29it/s]"
     ]
    },
    {
     "name": "stdout",
     "output_type": "stream",
     "text": [
      "Fetching data for movie ID tt7527820 from OMDb...\n"
     ]
    },
    {
     "name": "stderr",
     "output_type": "stream",
     "text": [
      "Fetching movie data:  41%|███████▍          | 1073/2614 [07:01<11:12,  2.29it/s]"
     ]
    },
    {
     "name": "stdout",
     "output_type": "stream",
     "text": [
      "Fetching data for movie ID tt5797164 from OMDb...\n"
     ]
    },
    {
     "name": "stderr",
     "output_type": "stream",
     "text": [
      "Fetching movie data:  41%|███████▍          | 1074/2614 [07:01<10:58,  2.34it/s]"
     ]
    },
    {
     "name": "stdout",
     "output_type": "stream",
     "text": [
      "Fetching data for movie ID tt5742032 from OMDb...\n"
     ]
    },
    {
     "name": "stderr",
     "output_type": "stream",
     "text": [
      "Fetching movie data:  41%|███████▍          | 1075/2614 [07:02<11:37,  2.21it/s]"
     ]
    },
    {
     "name": "stdout",
     "output_type": "stream",
     "text": [
      "Fetching data for movie ID tt7777974 from OMDb...\n"
     ]
    },
    {
     "name": "stderr",
     "output_type": "stream",
     "text": [
      "Fetching movie data:  41%|███████▍          | 1076/2614 [07:02<11:08,  2.30it/s]"
     ]
    },
    {
     "name": "stdout",
     "output_type": "stream",
     "text": [
      "Fetching data for movie ID tt5111634 from OMDb...\n"
     ]
    },
    {
     "name": "stderr",
     "output_type": "stream",
     "text": [
      "Fetching movie data:  41%|███████▍          | 1077/2614 [07:02<10:27,  2.45it/s]"
     ]
    },
    {
     "name": "stdout",
     "output_type": "stream",
     "text": [
      "Fetching data for movie ID tt3072636 from OMDb...\n"
     ]
    },
    {
     "name": "stderr",
     "output_type": "stream",
     "text": [
      "Fetching movie data:  41%|███████▍          | 1078/2614 [07:03<11:05,  2.31it/s]"
     ]
    },
    {
     "name": "stdout",
     "output_type": "stream",
     "text": [
      "Fetching data for movie ID tt9654810 from OMDb...\n"
     ]
    },
    {
     "name": "stderr",
     "output_type": "stream",
     "text": [
      "Fetching movie data:  41%|███████▍          | 1079/2614 [07:03<10:56,  2.34it/s]"
     ]
    },
    {
     "name": "stdout",
     "output_type": "stream",
     "text": [
      "Fetching data for movie ID tt5201164 from OMDb...\n"
     ]
    },
    {
     "name": "stderr",
     "output_type": "stream",
     "text": [
      "Fetching movie data:  41%|███████▍          | 1080/2614 [07:04<10:44,  2.38it/s]"
     ]
    },
    {
     "name": "stdout",
     "output_type": "stream",
     "text": [
      "Fetching data for movie ID tt32904181 from OMDb...\n",
      "Fetching data for movie ID tt11790238 from OMDb...\n"
     ]
    },
    {
     "name": "stderr",
     "output_type": "stream",
     "text": [
      "Fetching movie data:  41%|███████▍          | 1082/2614 [07:04<08:25,  3.03it/s]"
     ]
    },
    {
     "name": "stdout",
     "output_type": "stream",
     "text": [
      "Fetching data for movie ID tt28908421 from OMDb...\n"
     ]
    },
    {
     "name": "stderr",
     "output_type": "stream",
     "text": [
      "Fetching movie data:  41%|███████▍          | 1083/2614 [07:05<09:19,  2.74it/s]"
     ]
    },
    {
     "name": "stdout",
     "output_type": "stream",
     "text": [
      "Fetching data for movie ID tt33310375 from OMDb...\n"
     ]
    },
    {
     "name": "stderr",
     "output_type": "stream",
     "text": [
      "Fetching movie data:  42%|███████▍          | 1085/2614 [07:05<08:04,  3.16it/s]"
     ]
    },
    {
     "name": "stdout",
     "output_type": "stream",
     "text": [
      "Fetching data for movie ID tt15340724 from OMDb...\n",
      "Fetching data for movie ID tt3134058 from OMDb...\n"
     ]
    },
    {
     "name": "stderr",
     "output_type": "stream",
     "text": [
      "Fetching movie data:  42%|███████▍          | 1086/2614 [07:06<09:05,  2.80it/s]"
     ]
    },
    {
     "name": "stdout",
     "output_type": "stream",
     "text": [
      "Fetching data for movie ID tt4382330 from OMDb...\n"
     ]
    },
    {
     "name": "stderr",
     "output_type": "stream",
     "text": [
      "Fetching movie data:  42%|███████▍          | 1087/2614 [07:06<09:21,  2.72it/s]"
     ]
    },
    {
     "name": "stdout",
     "output_type": "stream",
     "text": [
      "Fetching data for movie ID tt3838622 from OMDb...\n"
     ]
    },
    {
     "name": "stderr",
     "output_type": "stream",
     "text": [
      "Fetching movie data:  42%|███████▍          | 1088/2614 [07:06<09:17,  2.74it/s]"
     ]
    },
    {
     "name": "stdout",
     "output_type": "stream",
     "text": [
      "Fetching data for movie ID tt11644156 from OMDb...\n"
     ]
    },
    {
     "name": "stderr",
     "output_type": "stream",
     "text": [
      "Fetching movie data:  42%|███████▍          | 1089/2614 [07:07<09:19,  2.73it/s]"
     ]
    },
    {
     "name": "stdout",
     "output_type": "stream",
     "text": [
      "Fetching data for movie ID tt9652730 from OMDb...\n"
     ]
    },
    {
     "name": "stderr",
     "output_type": "stream",
     "text": [
      "Fetching movie data:  42%|███████▌          | 1090/2614 [07:07<10:26,  2.43it/s]"
     ]
    },
    {
     "name": "stdout",
     "output_type": "stream",
     "text": [
      "Fetching data for movie ID tt21834056 from OMDb...\n"
     ]
    },
    {
     "name": "stderr",
     "output_type": "stream",
     "text": [
      "Fetching movie data:  42%|███████▌          | 1091/2614 [07:08<10:23,  2.44it/s]"
     ]
    },
    {
     "name": "stdout",
     "output_type": "stream",
     "text": [
      "Fetching data for movie ID tt2172554 from OMDb...\n"
     ]
    },
    {
     "name": "stderr",
     "output_type": "stream",
     "text": [
      "Fetching movie data:  42%|███████▌          | 1092/2614 [07:08<10:23,  2.44it/s]"
     ]
    },
    {
     "name": "stdout",
     "output_type": "stream",
     "text": [
      "Fetching data for movie ID tt18450764 from OMDb...\n"
     ]
    },
    {
     "name": "stderr",
     "output_type": "stream",
     "text": [
      "Fetching movie data:  42%|███████▌          | 1093/2614 [07:08<10:22,  2.44it/s]"
     ]
    },
    {
     "name": "stdout",
     "output_type": "stream",
     "text": [
      "Fetching data for movie ID tt21225458 from OMDb...\n"
     ]
    },
    {
     "name": "stderr",
     "output_type": "stream",
     "text": [
      "Fetching movie data:  42%|███████▌          | 1094/2614 [07:09<10:22,  2.44it/s]"
     ]
    },
    {
     "name": "stdout",
     "output_type": "stream",
     "text": [
      "Fetching data for movie ID tt6328046 from OMDb...\n"
     ]
    },
    {
     "name": "stderr",
     "output_type": "stream",
     "text": [
      "Fetching movie data:  42%|███████▌          | 1095/2614 [07:09<11:08,  2.27it/s]"
     ]
    },
    {
     "name": "stdout",
     "output_type": "stream",
     "text": [
      "Fetching data for movie ID tt4938492 from OMDb...\n"
     ]
    },
    {
     "name": "stderr",
     "output_type": "stream",
     "text": [
      "Fetching movie data:  42%|███████▌          | 1096/2614 [07:10<10:34,  2.39it/s]"
     ]
    },
    {
     "name": "stdout",
     "output_type": "stream",
     "text": [
      "Fetching data for movie ID tt9686708 from OMDb...\n"
     ]
    },
    {
     "name": "stderr",
     "output_type": "stream",
     "text": [
      "Fetching movie data:  42%|███████▌          | 1097/2614 [07:10<09:56,  2.54it/s]"
     ]
    },
    {
     "name": "stdout",
     "output_type": "stream",
     "text": [
      "Fetching data for movie ID tt21942484 from OMDb...\n"
     ]
    },
    {
     "name": "stderr",
     "output_type": "stream",
     "text": [
      "Fetching movie data:  42%|███████▌          | 1098/2614 [07:11<10:56,  2.31it/s]"
     ]
    },
    {
     "name": "stdout",
     "output_type": "stream",
     "text": [
      "Fetching data for movie ID tt3441274 from OMDb...\n"
     ]
    },
    {
     "name": "stderr",
     "output_type": "stream",
     "text": [
      "Fetching movie data:  42%|███████▌          | 1099/2614 [07:11<10:45,  2.35it/s]"
     ]
    },
    {
     "name": "stdout",
     "output_type": "stream",
     "text": [
      "Fetching data for movie ID tt1698652 from OMDb...\n"
     ]
    },
    {
     "name": "stderr",
     "output_type": "stream",
     "text": [
      "Fetching movie data:  42%|███████▌          | 1100/2614 [07:11<10:24,  2.42it/s]"
     ]
    },
    {
     "name": "stdout",
     "output_type": "stream",
     "text": [
      "Fetching data for movie ID tt15249688 from OMDb...\n"
     ]
    },
    {
     "name": "stderr",
     "output_type": "stream",
     "text": [
      "Fetching movie data:  42%|███████▌          | 1101/2614 [07:12<11:22,  2.22it/s]"
     ]
    },
    {
     "name": "stdout",
     "output_type": "stream",
     "text": [
      "Fetching data for movie ID tt12951380 from OMDb...\n"
     ]
    },
    {
     "name": "stderr",
     "output_type": "stream",
     "text": [
      "Fetching movie data:  42%|███████▌          | 1102/2614 [07:12<10:32,  2.39it/s]"
     ]
    },
    {
     "name": "stdout",
     "output_type": "stream",
     "text": [
      "Fetching data for movie ID tt8567862 from OMDb...\n"
     ]
    },
    {
     "name": "stderr",
     "output_type": "stream",
     "text": [
      "Fetching movie data:  42%|███████▌          | 1103/2614 [07:13<10:12,  2.47it/s]"
     ]
    },
    {
     "name": "stdout",
     "output_type": "stream",
     "text": [
      "Fetching data for movie ID tt24082438 from OMDb...\n",
      "Fetching data for movie ID tt11461028 from OMDb...\n"
     ]
    },
    {
     "name": "stderr",
     "output_type": "stream",
     "text": [
      "Fetching movie data:  42%|███████▌          | 1105/2614 [07:13<08:27,  2.97it/s]"
     ]
    },
    {
     "name": "stdout",
     "output_type": "stream",
     "text": [
      "Fetching data for movie ID tt4538796 from OMDb...\n"
     ]
    },
    {
     "name": "stderr",
     "output_type": "stream",
     "text": [
      "Fetching movie data:  42%|███████▌          | 1106/2614 [07:14<08:54,  2.82it/s]"
     ]
    },
    {
     "name": "stdout",
     "output_type": "stream",
     "text": [
      "Fetching data for movie ID tt4556682 from OMDb...\n"
     ]
    },
    {
     "name": "stderr",
     "output_type": "stream",
     "text": [
      "Fetching movie data:  42%|███████▌          | 1107/2614 [07:14<09:56,  2.53it/s]"
     ]
    },
    {
     "name": "stdout",
     "output_type": "stream",
     "text": [
      "Fetching data for movie ID tt9104218 from OMDb...\n"
     ]
    },
    {
     "name": "stderr",
     "output_type": "stream",
     "text": [
      "Fetching movie data:  42%|███████▋          | 1109/2614 [07:15<08:36,  2.91it/s]"
     ]
    },
    {
     "name": "stdout",
     "output_type": "stream",
     "text": [
      "Fetching data for movie ID tt0071562 from OMDb...\n",
      "Fetching data for movie ID tt14061710 from OMDb...\n"
     ]
    },
    {
     "name": "stderr",
     "output_type": "stream",
     "text": [
      "Fetching movie data:  42%|███████▋          | 1110/2614 [07:15<09:52,  2.54it/s]"
     ]
    },
    {
     "name": "stdout",
     "output_type": "stream",
     "text": [
      "Fetching data for movie ID tt3697626 from OMDb...\n"
     ]
    },
    {
     "name": "stderr",
     "output_type": "stream",
     "text": [
      "Fetching movie data:  43%|███████▋          | 1111/2614 [07:16<09:31,  2.63it/s]"
     ]
    },
    {
     "name": "stdout",
     "output_type": "stream",
     "text": [
      "Fetching data for movie ID tt26693457 from OMDb...\n"
     ]
    },
    {
     "name": "stderr",
     "output_type": "stream",
     "text": [
      "Fetching movie data:  43%|███████▋          | 1112/2614 [07:16<09:45,  2.56it/s]"
     ]
    },
    {
     "name": "stdout",
     "output_type": "stream",
     "text": [
      "Fetching data for movie ID tt10883252 from OMDb...\n"
     ]
    },
    {
     "name": "stderr",
     "output_type": "stream",
     "text": [
      "Fetching movie data:  43%|███████▋          | 1113/2614 [07:16<09:31,  2.63it/s]"
     ]
    },
    {
     "name": "stdout",
     "output_type": "stream",
     "text": [
      "Fetching data for movie ID tt18336342 from OMDb...\n"
     ]
    },
    {
     "name": "stderr",
     "output_type": "stream",
     "text": [
      "Fetching movie data:  43%|███████▋          | 1114/2614 [07:17<09:15,  2.70it/s]"
     ]
    },
    {
     "name": "stdout",
     "output_type": "stream",
     "text": [
      "Fetching data for movie ID tt7453562 from OMDb...\n"
     ]
    },
    {
     "name": "stderr",
     "output_type": "stream",
     "text": [
      "Fetching movie data:  43%|███████▋          | 1115/2614 [07:17<09:21,  2.67it/s]"
     ]
    },
    {
     "name": "stdout",
     "output_type": "stream",
     "text": [
      "Fetching data for movie ID tt21364060 from OMDb...\n"
     ]
    },
    {
     "name": "stderr",
     "output_type": "stream",
     "text": [
      "Fetching movie data:  43%|███████▋          | 1116/2614 [07:17<09:25,  2.65it/s]"
     ]
    },
    {
     "name": "stdout",
     "output_type": "stream",
     "text": [
      "Fetching data for movie ID tt28015998 from OMDb...\n"
     ]
    },
    {
     "name": "stderr",
     "output_type": "stream",
     "text": [
      "Fetching movie data:  43%|███████▋          | 1117/2614 [07:18<09:49,  2.54it/s]"
     ]
    },
    {
     "name": "stdout",
     "output_type": "stream",
     "text": [
      "Fetching data for movie ID tt23028080 from OMDb...\n"
     ]
    },
    {
     "name": "stderr",
     "output_type": "stream",
     "text": [
      "Fetching movie data:  43%|███████▋          | 1118/2614 [07:18<09:54,  2.52it/s]"
     ]
    },
    {
     "name": "stdout",
     "output_type": "stream",
     "text": [
      "Fetching data for movie ID tt21428504 from OMDb...\n"
     ]
    },
    {
     "name": "stderr",
     "output_type": "stream",
     "text": [
      "Fetching movie data:  43%|███████▋          | 1119/2614 [07:19<09:59,  2.49it/s]"
     ]
    },
    {
     "name": "stdout",
     "output_type": "stream",
     "text": [
      "Fetching data for movie ID tt7588762 from OMDb...\n"
     ]
    },
    {
     "name": "stderr",
     "output_type": "stream",
     "text": [
      "Fetching movie data:  43%|███████▋          | 1120/2614 [07:19<10:02,  2.48it/s]"
     ]
    },
    {
     "name": "stdout",
     "output_type": "stream",
     "text": [
      "Fetching data for movie ID tt13429632 from OMDb...\n"
     ]
    },
    {
     "name": "stderr",
     "output_type": "stream",
     "text": [
      "Fetching movie data:  43%|███████▋          | 1121/2614 [07:19<10:05,  2.47it/s]"
     ]
    },
    {
     "name": "stdout",
     "output_type": "stream",
     "text": [
      "Fetching data for movie ID tt8215408 from OMDb...\n"
     ]
    },
    {
     "name": "stderr",
     "output_type": "stream",
     "text": [
      "Fetching movie data:  43%|███████▋          | 1123/2614 [07:20<08:04,  3.08it/s]"
     ]
    },
    {
     "name": "stdout",
     "output_type": "stream",
     "text": [
      "Fetching data for movie ID tt6166804 from OMDb...\n",
      "Fetching data for movie ID tt10469384 from OMDb...\n"
     ]
    },
    {
     "name": "stderr",
     "output_type": "stream",
     "text": [
      "Fetching movie data:  43%|███████▋          | 1124/2614 [07:20<08:27,  2.94it/s]"
     ]
    },
    {
     "name": "stdout",
     "output_type": "stream",
     "text": [
      "Fetching data for movie ID tt7323750 from OMDb...\n"
     ]
    },
    {
     "name": "stderr",
     "output_type": "stream",
     "text": [
      "Fetching movie data:  43%|███████▋          | 1125/2614 [07:21<08:58,  2.77it/s]"
     ]
    },
    {
     "name": "stdout",
     "output_type": "stream",
     "text": [
      "Fetching data for movie ID tt18226544 from OMDb...\n"
     ]
    },
    {
     "name": "stderr",
     "output_type": "stream",
     "text": [
      "Fetching movie data:  43%|███████▊          | 1126/2614 [07:21<08:55,  2.78it/s]"
     ]
    },
    {
     "name": "stdout",
     "output_type": "stream",
     "text": [
      "Fetching data for movie ID tt14726184 from OMDb...\n"
     ]
    },
    {
     "name": "stderr",
     "output_type": "stream",
     "text": [
      "Fetching movie data:  43%|███████▊          | 1127/2614 [07:22<09:41,  2.56it/s]"
     ]
    },
    {
     "name": "stdout",
     "output_type": "stream",
     "text": [
      "Fetching data for movie ID tt5598764 from OMDb...\n"
     ]
    },
    {
     "name": "stderr",
     "output_type": "stream",
     "text": [
      "Fetching movie data:  43%|███████▊          | 1128/2614 [07:22<09:49,  2.52it/s]"
     ]
    },
    {
     "name": "stdout",
     "output_type": "stream",
     "text": [
      "Fetching data for movie ID tt5817526 from OMDb...\n"
     ]
    },
    {
     "name": "stderr",
     "output_type": "stream",
     "text": [
      "Fetching movie data:  43%|███████▊          | 1129/2614 [07:22<09:25,  2.63it/s]"
     ]
    },
    {
     "name": "stdout",
     "output_type": "stream",
     "text": [
      "Fetching data for movie ID tt28458011 from OMDb...\n"
     ]
    },
    {
     "name": "stderr",
     "output_type": "stream",
     "text": [
      "Fetching movie data:  43%|███████▊          | 1130/2614 [07:23<10:08,  2.44it/s]"
     ]
    },
    {
     "name": "stdout",
     "output_type": "stream",
     "text": [
      "Fetching data for movie ID tt10932582 from OMDb...\n"
     ]
    },
    {
     "name": "stderr",
     "output_type": "stream",
     "text": [
      "Fetching movie data:  43%|███████▊          | 1131/2614 [07:23<10:52,  2.27it/s]"
     ]
    },
    {
     "name": "stdout",
     "output_type": "stream",
     "text": [
      "Fetching data for movie ID tt31937069 from OMDb...\n"
     ]
    },
    {
     "name": "stderr",
     "output_type": "stream",
     "text": [
      "Fetching movie data:  43%|███████▊          | 1132/2614 [07:24<10:33,  2.34it/s]"
     ]
    },
    {
     "name": "stdout",
     "output_type": "stream",
     "text": [
      "Fetching data for movie ID tt22873954 from OMDb...\n"
     ]
    },
    {
     "name": "stderr",
     "output_type": "stream",
     "text": [
      "Fetching movie data:  43%|███████▊          | 1133/2614 [07:24<11:15,  2.19it/s]"
     ]
    },
    {
     "name": "stdout",
     "output_type": "stream",
     "text": [
      "Fetching data for movie ID tt6807176 from OMDb...\n"
     ]
    },
    {
     "name": "stderr",
     "output_type": "stream",
     "text": [
      "Fetching movie data:  43%|███████▊          | 1134/2614 [07:25<11:23,  2.17it/s]"
     ]
    },
    {
     "name": "stdout",
     "output_type": "stream",
     "text": [
      "Fetching data for movie ID tt14922138 from OMDb...\n"
     ]
    },
    {
     "name": "stderr",
     "output_type": "stream",
     "text": [
      "Fetching movie data:  43%|███████▊          | 1135/2614 [07:25<11:04,  2.22it/s]"
     ]
    },
    {
     "name": "stdout",
     "output_type": "stream",
     "text": [
      "Fetching data for movie ID tt3061108 from OMDb...\n"
     ]
    },
    {
     "name": "stderr",
     "output_type": "stream",
     "text": [
      "Fetching movie data:  43%|███████▊          | 1136/2614 [07:26<10:58,  2.24it/s]"
     ]
    },
    {
     "name": "stdout",
     "output_type": "stream",
     "text": [
      "Fetching data for movie ID tt3761366 from OMDb...\n"
     ]
    },
    {
     "name": "stderr",
     "output_type": "stream",
     "text": [
      "Fetching movie data:  43%|███████▊          | 1137/2614 [07:26<10:49,  2.27it/s]"
     ]
    },
    {
     "name": "stdout",
     "output_type": "stream",
     "text": [
      "Fetching data for movie ID tt28640623 from OMDb...\n"
     ]
    },
    {
     "name": "stderr",
     "output_type": "stream",
     "text": [
      "Fetching movie data:  44%|███████▊          | 1138/2614 [07:26<10:29,  2.35it/s]"
     ]
    },
    {
     "name": "stdout",
     "output_type": "stream",
     "text": [
      "Fetching data for movie ID tt6400922 from OMDb...\n"
     ]
    },
    {
     "name": "stderr",
     "output_type": "stream",
     "text": [
      "Fetching movie data:  44%|███████▊          | 1139/2614 [07:27<10:19,  2.38it/s]"
     ]
    },
    {
     "name": "stdout",
     "output_type": "stream",
     "text": [
      "Fetching data for movie ID tt7466810 from OMDb...\n"
     ]
    },
    {
     "name": "stderr",
     "output_type": "stream",
     "text": [
      "Fetching movie data:  44%|███████▊          | 1140/2614 [07:27<10:52,  2.26it/s]"
     ]
    },
    {
     "name": "stdout",
     "output_type": "stream",
     "text": [
      "Progress saved after 37500 movies.\n",
      "Fetching data for movie ID tt12861616 from OMDb...\n"
     ]
    },
    {
     "name": "stderr",
     "output_type": "stream",
     "text": [
      "Fetching movie data:  44%|███████▊          | 1141/2614 [07:28<10:40,  2.30it/s]"
     ]
    },
    {
     "name": "stdout",
     "output_type": "stream",
     "text": [
      "Fetching data for movie ID tt34856878 from OMDb...\n",
      "Fetching data for movie ID tt6467266 from OMDb...\n"
     ]
    },
    {
     "name": "stderr",
     "output_type": "stream",
     "text": [
      "Fetching movie data:  44%|███████▊          | 1143/2614 [07:28<07:06,  3.45it/s]"
     ]
    },
    {
     "name": "stdout",
     "output_type": "stream",
     "text": [
      "Fetching data for movie ID tt10761334 from OMDb...\n"
     ]
    },
    {
     "name": "stderr",
     "output_type": "stream",
     "text": [
      "Fetching movie data:  44%|███████▉          | 1144/2614 [07:28<07:42,  3.18it/s]"
     ]
    },
    {
     "name": "stdout",
     "output_type": "stream",
     "text": [
      "Fetching data for movie ID tt15048868 from OMDb...\n"
     ]
    },
    {
     "name": "stderr",
     "output_type": "stream",
     "text": [
      "Fetching movie data:  44%|███████▉          | 1145/2614 [07:29<08:13,  2.97it/s]"
     ]
    },
    {
     "name": "stdout",
     "output_type": "stream",
     "text": [
      "Fetching data for movie ID tt20834602 from OMDb...\n"
     ]
    },
    {
     "name": "stderr",
     "output_type": "stream",
     "text": [
      "Fetching movie data:  44%|███████▉          | 1146/2614 [07:29<08:21,  2.93it/s]"
     ]
    },
    {
     "name": "stdout",
     "output_type": "stream",
     "text": [
      "Fetching data for movie ID tt4046420 from OMDb...\n"
     ]
    },
    {
     "name": "stderr",
     "output_type": "stream",
     "text": [
      "Fetching movie data:  44%|███████▉          | 1147/2614 [07:29<08:24,  2.91it/s]"
     ]
    },
    {
     "name": "stdout",
     "output_type": "stream",
     "text": [
      "Fetching data for movie ID tt7681554 from OMDb...\n"
     ]
    },
    {
     "name": "stderr",
     "output_type": "stream",
     "text": [
      "Fetching movie data:  44%|███████▉          | 1148/2614 [07:30<08:59,  2.72it/s]"
     ]
    },
    {
     "name": "stdout",
     "output_type": "stream",
     "text": [
      "Fetching data for movie ID tt5260002 from OMDb...\n"
     ]
    },
    {
     "name": "stderr",
     "output_type": "stream",
     "text": [
      "Fetching movie data:  44%|███████▉          | 1150/2614 [07:30<07:31,  3.25it/s]"
     ]
    },
    {
     "name": "stdout",
     "output_type": "stream",
     "text": [
      "Fetching data for movie ID tt13334832 from OMDb...\n",
      "Fetching data for movie ID tt4615870 from OMDb...\n"
     ]
    },
    {
     "name": "stderr",
     "output_type": "stream",
     "text": [
      "Fetching movie data:  44%|███████▉          | 1151/2614 [07:31<07:52,  3.10it/s]"
     ]
    },
    {
     "name": "stdout",
     "output_type": "stream",
     "text": [
      "Fetching data for movie ID tt28288462 from OMDb...\n"
     ]
    },
    {
     "name": "stderr",
     "output_type": "stream",
     "text": [
      "Fetching movie data:  44%|███████▉          | 1153/2614 [07:31<06:35,  3.70it/s]"
     ]
    },
    {
     "name": "stdout",
     "output_type": "stream",
     "text": [
      "Fetching data for movie ID tt10996896 from OMDb...\n",
      "Fetching data for movie ID tt32659827 from OMDb...\n"
     ]
    },
    {
     "name": "stderr",
     "output_type": "stream",
     "text": [
      "Fetching movie data:  44%|███████▉          | 1154/2614 [07:32<07:53,  3.08it/s]"
     ]
    },
    {
     "name": "stdout",
     "output_type": "stream",
     "text": [
      "Fetching data for movie ID tt13081412 from OMDb...\n"
     ]
    },
    {
     "name": "stderr",
     "output_type": "stream",
     "text": [
      "Fetching movie data:  44%|███████▉          | 1155/2614 [07:32<08:05,  3.01it/s]"
     ]
    },
    {
     "name": "stdout",
     "output_type": "stream",
     "text": [
      "Fetching data for movie ID tt7689958 from OMDb...\n"
     ]
    },
    {
     "name": "stderr",
     "output_type": "stream",
     "text": [
      "Fetching movie data:  44%|███████▉          | 1156/2614 [07:33<08:56,  2.72it/s]"
     ]
    },
    {
     "name": "stdout",
     "output_type": "stream",
     "text": [
      "Fetching data for movie ID tt6773538 from OMDb...\n"
     ]
    },
    {
     "name": "stderr",
     "output_type": "stream",
     "text": [
      "Fetching movie data:  44%|███████▉          | 1157/2614 [07:33<09:21,  2.60it/s]"
     ]
    },
    {
     "name": "stdout",
     "output_type": "stream",
     "text": [
      "Fetching data for movie ID tt28002819 from OMDb...\n"
     ]
    },
    {
     "name": "stderr",
     "output_type": "stream",
     "text": [
      "Fetching movie data:  44%|███████▉          | 1158/2614 [07:33<09:08,  2.66it/s]"
     ]
    },
    {
     "name": "stdout",
     "output_type": "stream",
     "text": [
      "Fetching data for movie ID tt8016546 from OMDb...\n"
     ]
    },
    {
     "name": "stderr",
     "output_type": "stream",
     "text": [
      "Fetching movie data:  44%|███████▉          | 1159/2614 [07:34<09:45,  2.48it/s]"
     ]
    },
    {
     "name": "stdout",
     "output_type": "stream",
     "text": [
      "Fetching data for movie ID tt14834542 from OMDb...\n",
      "Fetching data for movie ID tt22818604 from OMDb...\n"
     ]
    },
    {
     "name": "stderr",
     "output_type": "stream",
     "text": [
      "Fetching movie data:  44%|███████▉          | 1161/2614 [07:34<08:07,  2.98it/s]"
     ]
    },
    {
     "name": "stdout",
     "output_type": "stream",
     "text": [
      "Fetching data for movie ID tt13328830 from OMDb...\n"
     ]
    },
    {
     "name": "stderr",
     "output_type": "stream",
     "text": [
      "Fetching movie data:  44%|████████          | 1162/2614 [07:35<08:51,  2.73it/s]"
     ]
    },
    {
     "name": "stdout",
     "output_type": "stream",
     "text": [
      "Fetching data for movie ID tt12003276 from OMDb...\n"
     ]
    },
    {
     "name": "stderr",
     "output_type": "stream",
     "text": [
      "Fetching movie data:  44%|████████          | 1163/2614 [07:35<09:27,  2.56it/s]"
     ]
    },
    {
     "name": "stdout",
     "output_type": "stream",
     "text": [
      "Fetching data for movie ID tt4944352 from OMDb...\n"
     ]
    },
    {
     "name": "stderr",
     "output_type": "stream",
     "text": [
      "Fetching movie data:  45%|████████          | 1164/2614 [07:36<09:35,  2.52it/s]"
     ]
    },
    {
     "name": "stdout",
     "output_type": "stream",
     "text": [
      "Fetching data for movie ID tt13502308 from OMDb...\n"
     ]
    },
    {
     "name": "stderr",
     "output_type": "stream",
     "text": [
      "Fetching movie data:  45%|████████          | 1165/2614 [07:36<09:15,  2.61it/s]"
     ]
    },
    {
     "name": "stdout",
     "output_type": "stream",
     "text": [
      "Fetching data for movie ID tt4410076 from OMDb...\n"
     ]
    },
    {
     "name": "stderr",
     "output_type": "stream",
     "text": [
      "Fetching movie data:  45%|████████          | 1166/2614 [07:36<09:04,  2.66it/s]"
     ]
    },
    {
     "name": "stdout",
     "output_type": "stream",
     "text": [
      "Fetching data for movie ID tt30022239 from OMDb...\n"
     ]
    },
    {
     "name": "stderr",
     "output_type": "stream",
     "text": [
      "Fetching movie data:  45%|████████          | 1167/2614 [07:37<09:55,  2.43it/s]"
     ]
    },
    {
     "name": "stdout",
     "output_type": "stream",
     "text": [
      "Fetching data for movie ID tt27546324 from OMDb...\n"
     ]
    },
    {
     "name": "stderr",
     "output_type": "stream",
     "text": [
      "Fetching movie data:  45%|████████          | 1168/2614 [07:37<10:02,  2.40it/s]"
     ]
    },
    {
     "name": "stdout",
     "output_type": "stream",
     "text": [
      "Fetching data for movie ID tt27417166 from OMDb...\n"
     ]
    },
    {
     "name": "stderr",
     "output_type": "stream",
     "text": [
      "Fetching movie data:  45%|████████          | 1169/2614 [07:38<09:59,  2.41it/s]"
     ]
    },
    {
     "name": "stdout",
     "output_type": "stream",
     "text": [
      "Fetching data for movie ID tt28075857 from OMDb...\n"
     ]
    },
    {
     "name": "stderr",
     "output_type": "stream",
     "text": [
      "Fetching movie data:  45%|████████          | 1170/2614 [07:38<09:56,  2.42it/s]"
     ]
    },
    {
     "name": "stdout",
     "output_type": "stream",
     "text": [
      "Fetching data for movie ID tt10366460 from OMDb...\n"
     ]
    },
    {
     "name": "stderr",
     "output_type": "stream",
     "text": [
      "Fetching movie data:  45%|████████          | 1171/2614 [07:39<09:55,  2.42it/s]"
     ]
    },
    {
     "name": "stdout",
     "output_type": "stream",
     "text": [
      "Fetching data for movie ID tt4577050 from OMDb...\n"
     ]
    },
    {
     "name": "stderr",
     "output_type": "stream",
     "text": [
      "Fetching movie data:  45%|████████          | 1172/2614 [07:39<09:53,  2.43it/s]"
     ]
    },
    {
     "name": "stdout",
     "output_type": "stream",
     "text": [
      "Fetching data for movie ID tt14606404 from OMDb...\n"
     ]
    },
    {
     "name": "stderr",
     "output_type": "stream",
     "text": [
      "Fetching movie data:  45%|████████          | 1173/2614 [07:39<09:51,  2.44it/s]"
     ]
    },
    {
     "name": "stdout",
     "output_type": "stream",
     "text": [
      "Fetching data for movie ID tt8382110 from OMDb...\n"
     ]
    },
    {
     "name": "stderr",
     "output_type": "stream",
     "text": [
      "Fetching movie data:  45%|████████          | 1174/2614 [07:40<09:51,  2.44it/s]"
     ]
    },
    {
     "name": "stdout",
     "output_type": "stream",
     "text": [
      "Fetching data for movie ID tt3319398 from OMDb...\n"
     ]
    },
    {
     "name": "stderr",
     "output_type": "stream",
     "text": [
      "Fetching movie data:  45%|████████          | 1175/2614 [07:40<09:50,  2.44it/s]"
     ]
    },
    {
     "name": "stdout",
     "output_type": "stream",
     "text": [
      "Fetching data for movie ID tt3632346 from OMDb...\n"
     ]
    },
    {
     "name": "stderr",
     "output_type": "stream",
     "text": [
      "Fetching movie data:  45%|████████          | 1176/2614 [07:41<10:34,  2.27it/s]"
     ]
    },
    {
     "name": "stdout",
     "output_type": "stream",
     "text": [
      "Fetching data for movie ID tt6006534 from OMDb...\n"
     ]
    },
    {
     "name": "stderr",
     "output_type": "stream",
     "text": [
      "Fetching movie data:  45%|████████          | 1177/2614 [07:41<10:05,  2.37it/s]"
     ]
    },
    {
     "name": "stdout",
     "output_type": "stream",
     "text": [
      "Fetching data for movie ID tt9378672 from OMDb...\n"
     ]
    },
    {
     "name": "stderr",
     "output_type": "stream",
     "text": [
      "Fetching movie data:  45%|████████          | 1178/2614 [07:41<10:14,  2.34it/s]"
     ]
    },
    {
     "name": "stdout",
     "output_type": "stream",
     "text": [
      "Fetching data for movie ID tt10217566 from OMDb...\n"
     ]
    },
    {
     "name": "stderr",
     "output_type": "stream",
     "text": [
      "Fetching movie data:  45%|████████          | 1179/2614 [07:42<08:37,  2.77it/s]"
     ]
    },
    {
     "name": "stdout",
     "output_type": "stream",
     "text": [
      "Fetching data for movie ID tt8395052 from OMDb...\n"
     ]
    },
    {
     "name": "stderr",
     "output_type": "stream",
     "text": [
      "Fetching movie data:  45%|████████▏         | 1180/2614 [07:42<11:49,  2.02it/s]"
     ]
    },
    {
     "name": "stdout",
     "output_type": "stream",
     "text": [
      "Fetching data for movie ID tt5960066 from OMDb...\n"
     ]
    },
    {
     "name": "stderr",
     "output_type": "stream",
     "text": [
      "Fetching movie data:  45%|████████▏         | 1181/2614 [07:43<11:17,  2.12it/s]"
     ]
    },
    {
     "name": "stdout",
     "output_type": "stream",
     "text": [
      "Fetching data for movie ID tt17039442 from OMDb...\n"
     ]
    },
    {
     "name": "stderr",
     "output_type": "stream",
     "text": [
      "Fetching movie data:  45%|████████▏         | 1182/2614 [07:43<10:49,  2.21it/s]"
     ]
    },
    {
     "name": "stdout",
     "output_type": "stream",
     "text": [
      "Fetching data for movie ID tt3103360 from OMDb...\n"
     ]
    },
    {
     "name": "stderr",
     "output_type": "stream",
     "text": [
      "Fetching movie data:  45%|████████▏         | 1183/2614 [07:44<10:30,  2.27it/s]"
     ]
    },
    {
     "name": "stdout",
     "output_type": "stream",
     "text": [
      "Fetching data for movie ID tt5900122 from OMDb...\n"
     ]
    },
    {
     "name": "stderr",
     "output_type": "stream",
     "text": [
      "Fetching movie data:  45%|████████▏         | 1184/2614 [07:44<11:00,  2.16it/s]"
     ]
    },
    {
     "name": "stdout",
     "output_type": "stream",
     "text": [
      "Fetching data for movie ID tt10936328 from OMDb...\n"
     ]
    },
    {
     "name": "stderr",
     "output_type": "stream",
     "text": [
      "Fetching movie data:  45%|████████▏         | 1185/2614 [07:45<11:22,  2.10it/s]"
     ]
    },
    {
     "name": "stdout",
     "output_type": "stream",
     "text": [
      "Fetching data for movie ID tt9025534 from OMDb...\n"
     ]
    },
    {
     "name": "stderr",
     "output_type": "stream",
     "text": [
      "Fetching movie data:  45%|████████▏         | 1186/2614 [07:45<10:52,  2.19it/s]"
     ]
    },
    {
     "name": "stdout",
     "output_type": "stream",
     "text": [
      "Fetching data for movie ID tt26099504 from OMDb...\n"
     ]
    },
    {
     "name": "stderr",
     "output_type": "stream",
     "text": [
      "Fetching movie data:  45%|████████▏         | 1187/2614 [07:46<11:16,  2.11it/s]"
     ]
    },
    {
     "name": "stdout",
     "output_type": "stream",
     "text": [
      "Fetching data for movie ID tt14783682 from OMDb...\n"
     ]
    },
    {
     "name": "stderr",
     "output_type": "stream",
     "text": [
      "Fetching movie data:  45%|████████▏         | 1188/2614 [07:46<10:47,  2.20it/s]"
     ]
    },
    {
     "name": "stdout",
     "output_type": "stream",
     "text": [
      "Fetching data for movie ID tt11148192 from OMDb...\n"
     ]
    },
    {
     "name": "stderr",
     "output_type": "stream",
     "text": [
      "Fetching movie data:  45%|████████▏         | 1189/2614 [07:46<10:14,  2.32it/s]"
     ]
    },
    {
     "name": "stdout",
     "output_type": "stream",
     "text": [
      "Fetching data for movie ID tt30810792 from OMDb...\n"
     ]
    },
    {
     "name": "stderr",
     "output_type": "stream",
     "text": [
      "Fetching movie data:  46%|████████▏         | 1190/2614 [07:47<10:18,  2.30it/s]"
     ]
    },
    {
     "name": "stdout",
     "output_type": "stream",
     "text": [
      "Fetching data for movie ID tt2709172 from OMDb...\n"
     ]
    },
    {
     "name": "stderr",
     "output_type": "stream",
     "text": [
      "Fetching movie data:  46%|████████▏         | 1191/2614 [07:47<10:08,  2.34it/s]"
     ]
    },
    {
     "name": "stdout",
     "output_type": "stream",
     "text": [
      "Fetching data for movie ID tt9546954 from OMDb...\n"
     ]
    },
    {
     "name": "stderr",
     "output_type": "stream",
     "text": [
      "Fetching movie data:  46%|████████▏         | 1192/2614 [07:48<15:05,  1.57it/s]"
     ]
    },
    {
     "name": "stdout",
     "output_type": "stream",
     "text": [
      "Fetching data for movie ID tt31790495 from OMDb...\n"
     ]
    },
    {
     "name": "stderr",
     "output_type": "stream",
     "text": [
      "Fetching movie data:  46%|████████▏         | 1193/2614 [07:49<13:27,  1.76it/s]"
     ]
    },
    {
     "name": "stdout",
     "output_type": "stream",
     "text": [
      "Fetching data for movie ID tt28488638 from OMDb...\n"
     ]
    },
    {
     "name": "stderr",
     "output_type": "stream",
     "text": [
      "Fetching movie data:  46%|████████▏         | 1194/2614 [07:49<12:11,  1.94it/s]"
     ]
    },
    {
     "name": "stdout",
     "output_type": "stream",
     "text": [
      "Fetching data for movie ID tt27435647 from OMDb...\n"
     ]
    },
    {
     "name": "stderr",
     "output_type": "stream",
     "text": [
      "Fetching movie data:  46%|████████▏         | 1195/2614 [07:50<11:50,  2.00it/s]"
     ]
    },
    {
     "name": "stdout",
     "output_type": "stream",
     "text": [
      "Fetching data for movie ID tt4538674 from OMDb...\n"
     ]
    },
    {
     "name": "stderr",
     "output_type": "stream",
     "text": [
      "Fetching movie data:  46%|████████▏         | 1196/2614 [07:50<11:03,  2.14it/s]"
     ]
    },
    {
     "name": "stdout",
     "output_type": "stream",
     "text": [
      "Fetching data for movie ID tt7061408 from OMDb...\n"
     ]
    },
    {
     "name": "stderr",
     "output_type": "stream",
     "text": [
      "Fetching movie data:  46%|████████▏         | 1197/2614 [07:51<10:45,  2.20it/s]"
     ]
    },
    {
     "name": "stdout",
     "output_type": "stream",
     "text": [
      "Fetching data for movie ID tt4861316 from OMDb...\n"
     ]
    },
    {
     "name": "stderr",
     "output_type": "stream",
     "text": [
      "Fetching movie data:  46%|████████▏         | 1198/2614 [07:51<10:08,  2.33it/s]"
     ]
    },
    {
     "name": "stdout",
     "output_type": "stream",
     "text": [
      "Fetching data for movie ID tt8991262 from OMDb...\n"
     ]
    },
    {
     "name": "stderr",
     "output_type": "stream",
     "text": [
      "Fetching movie data:  46%|████████▎         | 1199/2614 [07:51<10:07,  2.33it/s]"
     ]
    },
    {
     "name": "stdout",
     "output_type": "stream",
     "text": [
      "Fetching data for movie ID tt13334844 from OMDb...\n"
     ]
    },
    {
     "name": "stderr",
     "output_type": "stream",
     "text": [
      "Fetching movie data:  46%|████████▎         | 1200/2614 [07:52<09:35,  2.46it/s]"
     ]
    },
    {
     "name": "stdout",
     "output_type": "stream",
     "text": [
      "Fetching data for movie ID tt15089262 from OMDb...\n"
     ]
    },
    {
     "name": "stderr",
     "output_type": "stream",
     "text": [
      "Fetching movie data:  46%|████████▎         | 1201/2614 [07:52<09:26,  2.49it/s]"
     ]
    },
    {
     "name": "stdout",
     "output_type": "stream",
     "text": [
      "Fetching data for movie ID tt5033360 from OMDb...\n"
     ]
    },
    {
     "name": "stderr",
     "output_type": "stream",
     "text": [
      "Fetching movie data:  46%|████████▎         | 1202/2614 [07:52<09:04,  2.59it/s]"
     ]
    },
    {
     "name": "stdout",
     "output_type": "stream",
     "text": [
      "Fetching data for movie ID tt6587542 from OMDb...\n"
     ]
    },
    {
     "name": "stderr",
     "output_type": "stream",
     "text": [
      "Fetching movie data:  46%|████████▎         | 1203/2614 [07:53<09:08,  2.57it/s]"
     ]
    },
    {
     "name": "stdout",
     "output_type": "stream",
     "text": [
      "Fetching data for movie ID tt19121072 from OMDb...\n"
     ]
    },
    {
     "name": "stderr",
     "output_type": "stream",
     "text": [
      "Fetching movie data:  46%|████████▎         | 1204/2614 [07:53<08:59,  2.61it/s]"
     ]
    },
    {
     "name": "stdout",
     "output_type": "stream",
     "text": [
      "Fetching data for movie ID tt22069066 from OMDb...\n"
     ]
    },
    {
     "name": "stderr",
     "output_type": "stream",
     "text": [
      "Fetching movie data:  46%|████████▎         | 1205/2614 [07:54<09:01,  2.60it/s]"
     ]
    },
    {
     "name": "stdout",
     "output_type": "stream",
     "text": [
      "Fetching data for movie ID tt3563630 from OMDb...\n"
     ]
    },
    {
     "name": "stderr",
     "output_type": "stream",
     "text": [
      "Fetching movie data:  46%|████████▎         | 1206/2614 [07:54<08:56,  2.63it/s]"
     ]
    },
    {
     "name": "stdout",
     "output_type": "stream",
     "text": [
      "Fetching data for movie ID tt8633088 from OMDb...\n"
     ]
    },
    {
     "name": "stderr",
     "output_type": "stream",
     "text": [
      "Fetching movie data:  46%|████████▎         | 1207/2614 [07:54<08:56,  2.62it/s]"
     ]
    },
    {
     "name": "stdout",
     "output_type": "stream",
     "text": [
      "Fetching data for movie ID tt27881274 from OMDb...\n"
     ]
    },
    {
     "name": "stderr",
     "output_type": "stream",
     "text": [
      "Fetching movie data:  46%|████████▎         | 1208/2614 [07:55<08:57,  2.61it/s]"
     ]
    },
    {
     "name": "stdout",
     "output_type": "stream",
     "text": [
      "Fetching data for movie ID tt8385210 from OMDb...\n"
     ]
    },
    {
     "name": "stderr",
     "output_type": "stream",
     "text": [
      "Fetching movie data:  46%|████████▎         | 1209/2614 [07:55<09:09,  2.56it/s]"
     ]
    },
    {
     "name": "stdout",
     "output_type": "stream",
     "text": [
      "Fetching data for movie ID tt4097786 from OMDb...\n"
     ]
    },
    {
     "name": "stderr",
     "output_type": "stream",
     "text": [
      "Fetching movie data:  46%|████████▎         | 1210/2614 [07:55<08:47,  2.66it/s]"
     ]
    },
    {
     "name": "stdout",
     "output_type": "stream",
     "text": [
      "Fetching data for movie ID tt3797276 from OMDb...\n"
     ]
    },
    {
     "name": "stderr",
     "output_type": "stream",
     "text": [
      "Fetching movie data:  46%|████████▎         | 1211/2614 [07:56<08:44,  2.67it/s]"
     ]
    },
    {
     "name": "stdout",
     "output_type": "stream",
     "text": [
      "Fetching data for movie ID tt23752702 from OMDb...\n"
     ]
    },
    {
     "name": "stderr",
     "output_type": "stream",
     "text": [
      "Fetching movie data:  46%|████████▎         | 1212/2614 [07:56<08:34,  2.72it/s]"
     ]
    },
    {
     "name": "stdout",
     "output_type": "stream",
     "text": [
      "Fetching data for movie ID tt8658676 from OMDb...\n"
     ]
    },
    {
     "name": "stderr",
     "output_type": "stream",
     "text": [
      "Fetching movie data:  46%|████████▎         | 1213/2614 [07:57<08:25,  2.77it/s]"
     ]
    },
    {
     "name": "stdout",
     "output_type": "stream",
     "text": [
      "Fetching data for movie ID tt21813590 from OMDb...\n"
     ]
    },
    {
     "name": "stderr",
     "output_type": "stream",
     "text": [
      "Fetching movie data:  46%|████████▎         | 1214/2614 [08:00<28:57,  1.24s/it]"
     ]
    },
    {
     "name": "stdout",
     "output_type": "stream",
     "text": [
      "Fetching data for movie ID tt13424150 from OMDb...\n"
     ]
    },
    {
     "name": "stderr",
     "output_type": "stream",
     "text": [
      "Fetching movie data:  46%|████████▎         | 1215/2614 [08:00<23:12,  1.00it/s]"
     ]
    },
    {
     "name": "stdout",
     "output_type": "stream",
     "text": [
      "Fetching data for movie ID tt6212984 from OMDb...\n"
     ]
    },
    {
     "name": "stderr",
     "output_type": "stream",
     "text": [
      "Fetching movie data:  47%|████████▍         | 1217/2614 [08:01<14:19,  1.63it/s]"
     ]
    },
    {
     "name": "stdout",
     "output_type": "stream",
     "text": [
      "Fetching data for movie ID tt6285552 from OMDb...\n",
      "Fetching data for movie ID tt7683166 from OMDb...\n"
     ]
    },
    {
     "name": "stderr",
     "output_type": "stream",
     "text": [
      "Fetching movie data:  47%|████████▍         | 1218/2614 [08:01<12:50,  1.81it/s]"
     ]
    },
    {
     "name": "stdout",
     "output_type": "stream",
     "text": [
      "Fetching data for movie ID tt4254570 from OMDb...\n"
     ]
    },
    {
     "name": "stderr",
     "output_type": "stream",
     "text": [
      "Fetching movie data:  47%|████████▍         | 1219/2614 [08:02<11:29,  2.02it/s]"
     ]
    },
    {
     "name": "stdout",
     "output_type": "stream",
     "text": [
      "Fetching data for movie ID tt28477974 from OMDb...\n"
     ]
    },
    {
     "name": "stderr",
     "output_type": "stream",
     "text": [
      "Fetching movie data:  47%|████████▍         | 1220/2614 [08:02<12:08,  1.91it/s]"
     ]
    },
    {
     "name": "stdout",
     "output_type": "stream",
     "text": [
      "Fetching data for movie ID tt4011382 from OMDb...\n"
     ]
    },
    {
     "name": "stderr",
     "output_type": "stream",
     "text": [
      "Fetching movie data:  47%|████████▍         | 1221/2614 [08:03<11:33,  2.01it/s]"
     ]
    },
    {
     "name": "stdout",
     "output_type": "stream",
     "text": [
      "Fetching data for movie ID tt3958072 from OMDb...\n"
     ]
    },
    {
     "name": "stderr",
     "output_type": "stream",
     "text": [
      "Fetching movie data:  47%|████████▍         | 1222/2614 [08:03<10:38,  2.18it/s]"
     ]
    },
    {
     "name": "stdout",
     "output_type": "stream",
     "text": [
      "Fetching data for movie ID tt5806370 from OMDb...\n"
     ]
    },
    {
     "name": "stderr",
     "output_type": "stream",
     "text": [
      "Fetching movie data:  47%|████████▍         | 1223/2614 [08:03<10:17,  2.25it/s]"
     ]
    },
    {
     "name": "stdout",
     "output_type": "stream",
     "text": [
      "Fetching data for movie ID tt12864268 from OMDb...\n"
     ]
    },
    {
     "name": "stderr",
     "output_type": "stream",
     "text": [
      "Fetching movie data:  47%|████████▍         | 1224/2614 [08:04<09:52,  2.34it/s]"
     ]
    },
    {
     "name": "stdout",
     "output_type": "stream",
     "text": [
      "Fetching data for movie ID tt4092120 from OMDb...\n"
     ]
    },
    {
     "name": "stderr",
     "output_type": "stream",
     "text": [
      "Fetching movie data:  47%|████████▍         | 1225/2614 [08:04<09:21,  2.47it/s]"
     ]
    },
    {
     "name": "stdout",
     "output_type": "stream",
     "text": [
      "Fetching data for movie ID tt29228476 from OMDb...\n"
     ]
    },
    {
     "name": "stderr",
     "output_type": "stream",
     "text": [
      "Fetching movie data:  47%|████████▍         | 1226/2614 [08:05<09:29,  2.44it/s]"
     ]
    },
    {
     "name": "stdout",
     "output_type": "stream",
     "text": [
      "Fetching data for movie ID tt7196230 from OMDb...\n"
     ]
    },
    {
     "name": "stderr",
     "output_type": "stream",
     "text": [
      "Fetching movie data:  47%|████████▍         | 1227/2614 [08:05<09:17,  2.49it/s]"
     ]
    },
    {
     "name": "stdout",
     "output_type": "stream",
     "text": [
      "Fetching data for movie ID tt17075034 from OMDb...\n"
     ]
    },
    {
     "name": "stderr",
     "output_type": "stream",
     "text": [
      "Fetching movie data:  47%|████████▍         | 1228/2614 [08:05<09:31,  2.43it/s]"
     ]
    },
    {
     "name": "stdout",
     "output_type": "stream",
     "text": [
      "Fetching data for movie ID tt9430524 from OMDb...\n"
     ]
    },
    {
     "name": "stderr",
     "output_type": "stream",
     "text": [
      "Fetching movie data:  47%|████████▍         | 1229/2614 [08:06<09:35,  2.41it/s]"
     ]
    },
    {
     "name": "stdout",
     "output_type": "stream",
     "text": [
      "Fetching data for movie ID tt10731732 from OMDb...\n"
     ]
    },
    {
     "name": "stderr",
     "output_type": "stream",
     "text": [
      "Fetching movie data:  47%|████████▍         | 1230/2614 [08:06<09:28,  2.43it/s]"
     ]
    },
    {
     "name": "stdout",
     "output_type": "stream",
     "text": [
      "Fetching data for movie ID tt4314664 from OMDb...\n"
     ]
    },
    {
     "name": "stderr",
     "output_type": "stream",
     "text": [
      "Fetching movie data:  47%|████████▍         | 1231/2614 [08:07<09:05,  2.53it/s]"
     ]
    },
    {
     "name": "stdout",
     "output_type": "stream",
     "text": [
      "Fetching data for movie ID tt8708978 from OMDb...\n"
     ]
    },
    {
     "name": "stderr",
     "output_type": "stream",
     "text": [
      "Fetching movie data:  47%|████████▍         | 1232/2614 [08:07<08:58,  2.57it/s]"
     ]
    },
    {
     "name": "stdout",
     "output_type": "stream",
     "text": [
      "Fetching data for movie ID tt14870944 from OMDb...\n"
     ]
    },
    {
     "name": "stderr",
     "output_type": "stream",
     "text": [
      "Fetching movie data:  47%|████████▍         | 1233/2614 [08:07<08:57,  2.57it/s]"
     ]
    },
    {
     "name": "stdout",
     "output_type": "stream",
     "text": [
      "Fetching data for movie ID tt5108902 from OMDb...\n"
     ]
    },
    {
     "name": "stderr",
     "output_type": "stream",
     "text": [
      "Fetching movie data:  47%|████████▍         | 1234/2614 [08:08<08:57,  2.57it/s]"
     ]
    },
    {
     "name": "stdout",
     "output_type": "stream",
     "text": [
      "Fetching data for movie ID tt20251512 from OMDb...\n"
     ]
    },
    {
     "name": "stderr",
     "output_type": "stream",
     "text": [
      "Fetching movie data:  47%|████████▌         | 1235/2614 [08:08<09:13,  2.49it/s]"
     ]
    },
    {
     "name": "stdout",
     "output_type": "stream",
     "text": [
      "Fetching data for movie ID tt8357312 from OMDb...\n"
     ]
    },
    {
     "name": "stderr",
     "output_type": "stream",
     "text": [
      "Fetching movie data:  47%|████████▌         | 1236/2614 [08:09<09:17,  2.47it/s]"
     ]
    },
    {
     "name": "stdout",
     "output_type": "stream",
     "text": [
      "Fetching data for movie ID tt13713094 from OMDb...\n"
     ]
    },
    {
     "name": "stderr",
     "output_type": "stream",
     "text": [
      "Fetching movie data:  47%|████████▌         | 1237/2614 [08:09<09:58,  2.30it/s]"
     ]
    },
    {
     "name": "stdout",
     "output_type": "stream",
     "text": [
      "Fetching data for movie ID tt10287812 from OMDb...\n"
     ]
    },
    {
     "name": "stderr",
     "output_type": "stream",
     "text": [
      "Fetching movie data:  47%|████████▌         | 1238/2614 [08:09<09:57,  2.30it/s]"
     ]
    },
    {
     "name": "stdout",
     "output_type": "stream",
     "text": [
      "Fetching data for movie ID tt8598142 from OMDb...\n"
     ]
    },
    {
     "name": "stderr",
     "output_type": "stream",
     "text": [
      "Fetching movie data:  47%|████████▌         | 1239/2614 [08:10<09:20,  2.45it/s]"
     ]
    },
    {
     "name": "stdout",
     "output_type": "stream",
     "text": [
      "Fetching data for movie ID tt11469744 from OMDb...\n"
     ]
    },
    {
     "name": "stderr",
     "output_type": "stream",
     "text": [
      "Fetching movie data:  47%|████████▌         | 1240/2614 [08:10<08:55,  2.57it/s]"
     ]
    },
    {
     "name": "stdout",
     "output_type": "stream",
     "text": [
      "Fetching data for movie ID tt13269604 from OMDb...\n"
     ]
    },
    {
     "name": "stderr",
     "output_type": "stream",
     "text": [
      "Fetching movie data:  47%|████████▌         | 1241/2614 [08:11<09:40,  2.37it/s]"
     ]
    },
    {
     "name": "stdout",
     "output_type": "stream",
     "text": [
      "Progress saved after 37600 movies.\n",
      "Fetching data for movie ID tt28760679 from OMDb...\n"
     ]
    },
    {
     "name": "stderr",
     "output_type": "stream",
     "text": [
      "Fetching movie data:  48%|████████▌         | 1242/2614 [08:11<09:25,  2.42it/s]"
     ]
    },
    {
     "name": "stdout",
     "output_type": "stream",
     "text": [
      "Fetching data for movie ID tt27562388 from OMDb...\n"
     ]
    },
    {
     "name": "stderr",
     "output_type": "stream",
     "text": [
      "Fetching movie data:  48%|████████▌         | 1244/2614 [08:12<07:39,  2.98it/s]"
     ]
    },
    {
     "name": "stdout",
     "output_type": "stream",
     "text": [
      "Fetching data for movie ID tt2664826 from OMDb...\n",
      "Fetching data for movie ID tt4329398 from OMDb...\n"
     ]
    },
    {
     "name": "stderr",
     "output_type": "stream",
     "text": [
      "Fetching movie data:  48%|████████▌         | 1245/2614 [08:12<08:04,  2.82it/s]"
     ]
    },
    {
     "name": "stdout",
     "output_type": "stream",
     "text": [
      "Fetching data for movie ID tt21272092 from OMDb...\n"
     ]
    },
    {
     "name": "stderr",
     "output_type": "stream",
     "text": [
      "Fetching movie data:  48%|████████▌         | 1246/2614 [08:12<07:55,  2.88it/s]"
     ]
    },
    {
     "name": "stdout",
     "output_type": "stream",
     "text": [
      "Fetching data for movie ID tt6081412 from OMDb...\n"
     ]
    },
    {
     "name": "stderr",
     "output_type": "stream",
     "text": [
      "Fetching movie data:  48%|████████▌         | 1248/2614 [08:13<06:49,  3.33it/s]"
     ]
    },
    {
     "name": "stdout",
     "output_type": "stream",
     "text": [
      "Fetching data for movie ID tt11087960 from OMDb...\n",
      "Fetching data for movie ID tt6587226 from OMDb...\n"
     ]
    },
    {
     "name": "stderr",
     "output_type": "stream",
     "text": [
      "Fetching movie data:  48%|████████▌         | 1249/2614 [08:13<07:22,  3.08it/s]"
     ]
    },
    {
     "name": "stdout",
     "output_type": "stream",
     "text": [
      "Fetching data for movie ID tt5579442 from OMDb...\n"
     ]
    },
    {
     "name": "stderr",
     "output_type": "stream",
     "text": [
      "Fetching movie data:  48%|████████▌         | 1250/2614 [08:14<07:43,  2.95it/s]"
     ]
    },
    {
     "name": "stdout",
     "output_type": "stream",
     "text": [
      "Fetching data for movie ID tt4572864 from OMDb...\n"
     ]
    },
    {
     "name": "stderr",
     "output_type": "stream",
     "text": [
      "Fetching movie data:  48%|████████▌         | 1251/2614 [08:14<08:30,  2.67it/s]"
     ]
    },
    {
     "name": "stdout",
     "output_type": "stream",
     "text": [
      "Fetching data for movie ID tt5050144 from OMDb...\n"
     ]
    },
    {
     "name": "stderr",
     "output_type": "stream",
     "text": [
      "Fetching movie data:  48%|████████▌         | 1252/2614 [08:15<09:05,  2.50it/s]"
     ]
    },
    {
     "name": "stdout",
     "output_type": "stream",
     "text": [
      "Fetching data for movie ID tt9387300 from OMDb...\n"
     ]
    },
    {
     "name": "stderr",
     "output_type": "stream",
     "text": [
      "Fetching movie data:  48%|████████▋         | 1253/2614 [08:15<08:48,  2.57it/s]"
     ]
    },
    {
     "name": "stdout",
     "output_type": "stream",
     "text": [
      "Fetching data for movie ID tt3692610 from OMDb...\n"
     ]
    },
    {
     "name": "stderr",
     "output_type": "stream",
     "text": [
      "Fetching movie data:  48%|████████▋         | 1254/2614 [08:15<09:17,  2.44it/s]"
     ]
    },
    {
     "name": "stdout",
     "output_type": "stream",
     "text": [
      "Fetching data for movie ID tt14822422 from OMDb...\n"
     ]
    },
    {
     "name": "stderr",
     "output_type": "stream",
     "text": [
      "Fetching movie data:  48%|████████▋         | 1255/2614 [08:16<09:17,  2.44it/s]"
     ]
    },
    {
     "name": "stdout",
     "output_type": "stream",
     "text": [
      "Fetching data for movie ID tt10418474 from OMDb...\n"
     ]
    },
    {
     "name": "stderr",
     "output_type": "stream",
     "text": [
      "Fetching movie data:  48%|████████▋         | 1256/2614 [08:16<09:15,  2.44it/s]"
     ]
    },
    {
     "name": "stdout",
     "output_type": "stream",
     "text": [
      "Fetching data for movie ID tt4453388 from OMDb...\n"
     ]
    },
    {
     "name": "stderr",
     "output_type": "stream",
     "text": [
      "Fetching movie data:  48%|████████▋         | 1257/2614 [08:17<09:15,  2.44it/s]"
     ]
    },
    {
     "name": "stdout",
     "output_type": "stream",
     "text": [
      "Fetching data for movie ID tt31901170 from OMDb...\n"
     ]
    },
    {
     "name": "stderr",
     "output_type": "stream",
     "text": [
      "Fetching movie data:  48%|████████▋         | 1258/2614 [08:17<08:58,  2.52it/s]"
     ]
    },
    {
     "name": "stdout",
     "output_type": "stream",
     "text": [
      "Fetching data for movie ID tt7587550 from OMDb...\n"
     ]
    },
    {
     "name": "stderr",
     "output_type": "stream",
     "text": [
      "Fetching movie data:  48%|████████▋         | 1259/2614 [08:17<08:55,  2.53it/s]"
     ]
    },
    {
     "name": "stdout",
     "output_type": "stream",
     "text": [
      "Fetching data for movie ID tt12680886 from OMDb...\n"
     ]
    },
    {
     "name": "stderr",
     "output_type": "stream",
     "text": [
      "Fetching movie data:  48%|████████▋         | 1260/2614 [08:18<09:26,  2.39it/s]"
     ]
    },
    {
     "name": "stdout",
     "output_type": "stream",
     "text": [
      "Fetching data for movie ID tt13000958 from OMDb...\n"
     ]
    },
    {
     "name": "stderr",
     "output_type": "stream",
     "text": [
      "Fetching movie data:  48%|████████▋         | 1261/2614 [08:18<09:21,  2.41it/s]"
     ]
    },
    {
     "name": "stdout",
     "output_type": "stream",
     "text": [
      "Fetching data for movie ID tt20780314 from OMDb...\n"
     ]
    },
    {
     "name": "stderr",
     "output_type": "stream",
     "text": [
      "Fetching movie data:  48%|████████▋         | 1262/2614 [08:19<09:19,  2.42it/s]"
     ]
    },
    {
     "name": "stdout",
     "output_type": "stream",
     "text": [
      "Fetching data for movie ID tt9803602 from OMDb...\n"
     ]
    },
    {
     "name": "stderr",
     "output_type": "stream",
     "text": [
      "Fetching movie data:  48%|████████▋         | 1263/2614 [08:19<09:16,  2.43it/s]"
     ]
    },
    {
     "name": "stdout",
     "output_type": "stream",
     "text": [
      "Fetching data for movie ID tt11718526 from OMDb...\n"
     ]
    },
    {
     "name": "stderr",
     "output_type": "stream",
     "text": [
      "Fetching movie data:  48%|████████▋         | 1264/2614 [08:19<09:07,  2.46it/s]"
     ]
    },
    {
     "name": "stdout",
     "output_type": "stream",
     "text": [
      "Fetching data for movie ID tt27773228 from OMDb...\n"
     ]
    },
    {
     "name": "stderr",
     "output_type": "stream",
     "text": [
      "Fetching movie data:  48%|████████▋         | 1265/2614 [08:20<09:16,  2.42it/s]"
     ]
    },
    {
     "name": "stdout",
     "output_type": "stream",
     "text": [
      "Fetching data for movie ID tt7385124 from OMDb...\n"
     ]
    },
    {
     "name": "stderr",
     "output_type": "stream",
     "text": [
      "Fetching movie data:  48%|████████▋         | 1266/2614 [08:20<09:15,  2.43it/s]"
     ]
    },
    {
     "name": "stdout",
     "output_type": "stream",
     "text": [
      "Fetching data for movie ID tt28678712 from OMDb...\n"
     ]
    },
    {
     "name": "stderr",
     "output_type": "stream",
     "text": [
      "Fetching movie data:  48%|████████▋         | 1267/2614 [08:21<09:13,  2.43it/s]"
     ]
    },
    {
     "name": "stdout",
     "output_type": "stream",
     "text": [
      "Fetching data for movie ID tt7206446 from OMDb...\n"
     ]
    },
    {
     "name": "stderr",
     "output_type": "stream",
     "text": [
      "Fetching movie data:  49%|████████▋         | 1269/2614 [08:21<07:23,  3.04it/s]"
     ]
    },
    {
     "name": "stdout",
     "output_type": "stream",
     "text": [
      "Fetching data for movie ID tt26670500 from OMDb...\n",
      "Fetching data for movie ID tt32421441 from OMDb...\n"
     ]
    },
    {
     "name": "stderr",
     "output_type": "stream",
     "text": [
      "Fetching movie data:  49%|████████▋         | 1270/2614 [08:22<07:47,  2.87it/s]"
     ]
    },
    {
     "name": "stdout",
     "output_type": "stream",
     "text": [
      "Fetching data for movie ID tt4537722 from OMDb...\n"
     ]
    },
    {
     "name": "stderr",
     "output_type": "stream",
     "text": [
      "Fetching movie data:  49%|████████▊         | 1271/2614 [08:22<07:42,  2.91it/s]"
     ]
    },
    {
     "name": "stdout",
     "output_type": "stream",
     "text": [
      "Fetching data for movie ID tt14141184 from OMDb...\n"
     ]
    },
    {
     "name": "stderr",
     "output_type": "stream",
     "text": [
      "Fetching movie data:  49%|████████▊         | 1272/2614 [08:22<07:50,  2.85it/s]"
     ]
    },
    {
     "name": "stdout",
     "output_type": "stream",
     "text": [
      "Fetching data for movie ID tt14411976 from OMDb...\n"
     ]
    },
    {
     "name": "stderr",
     "output_type": "stream",
     "text": [
      "Fetching movie data:  49%|████████▊         | 1273/2614 [08:23<08:12,  2.72it/s]"
     ]
    },
    {
     "name": "stdout",
     "output_type": "stream",
     "text": [
      "Fetching data for movie ID tt20851876 from OMDb...\n"
     ]
    },
    {
     "name": "stderr",
     "output_type": "stream",
     "text": [
      "Fetching movie data:  49%|████████▊         | 1274/2614 [08:23<08:28,  2.63it/s]"
     ]
    },
    {
     "name": "stdout",
     "output_type": "stream",
     "text": [
      "Fetching data for movie ID tt9210462 from OMDb...\n"
     ]
    },
    {
     "name": "stderr",
     "output_type": "stream",
     "text": [
      "Fetching movie data:  49%|████████▊         | 1275/2614 [08:24<08:14,  2.71it/s]"
     ]
    },
    {
     "name": "stdout",
     "output_type": "stream",
     "text": [
      "Fetching data for movie ID tt6168316 from OMDb...\n"
     ]
    },
    {
     "name": "stderr",
     "output_type": "stream",
     "text": [
      "Fetching movie data:  49%|████████▊         | 1276/2614 [08:24<08:57,  2.49it/s]"
     ]
    },
    {
     "name": "stdout",
     "output_type": "stream",
     "text": [
      "Fetching data for movie ID tt12027832 from OMDb...\n"
     ]
    },
    {
     "name": "stderr",
     "output_type": "stream",
     "text": [
      "Fetching movie data:  49%|████████▊         | 1277/2614 [08:24<09:00,  2.47it/s]"
     ]
    },
    {
     "name": "stdout",
     "output_type": "stream",
     "text": [
      "Fetching data for movie ID tt21735972 from OMDb...\n"
     ]
    },
    {
     "name": "stderr",
     "output_type": "stream",
     "text": [
      "Fetching movie data:  49%|████████▊         | 1278/2614 [08:25<09:00,  2.47it/s]"
     ]
    },
    {
     "name": "stdout",
     "output_type": "stream",
     "text": [
      "Fetching data for movie ID tt15750456 from OMDb...\n"
     ]
    },
    {
     "name": "stderr",
     "output_type": "stream",
     "text": [
      "Fetching movie data:  49%|████████▊         | 1279/2614 [08:25<09:43,  2.29it/s]"
     ]
    },
    {
     "name": "stdout",
     "output_type": "stream",
     "text": [
      "Fetching data for movie ID tt4786618 from OMDb...\n"
     ]
    },
    {
     "name": "stderr",
     "output_type": "stream",
     "text": [
      "Fetching movie data:  49%|████████▊         | 1280/2614 [08:26<09:20,  2.38it/s]"
     ]
    },
    {
     "name": "stdout",
     "output_type": "stream",
     "text": [
      "Fetching data for movie ID tt13130596 from OMDb...\n"
     ]
    },
    {
     "name": "stderr",
     "output_type": "stream",
     "text": [
      "Fetching movie data:  49%|████████▊         | 1282/2614 [08:26<07:26,  2.98it/s]"
     ]
    },
    {
     "name": "stdout",
     "output_type": "stream",
     "text": [
      "Fetching data for movie ID tt27919933 from OMDb...\n",
      "Fetching data for movie ID tt35292526 from OMDb...\n"
     ]
    },
    {
     "name": "stderr",
     "output_type": "stream",
     "text": [
      "Fetching movie data:  49%|████████▊         | 1283/2614 [08:26<05:54,  3.76it/s]"
     ]
    },
    {
     "name": "stdout",
     "output_type": "stream",
     "text": [
      "Fetching data for movie ID tt10558950 from OMDb...\n"
     ]
    },
    {
     "name": "stderr",
     "output_type": "stream",
     "text": [
      "Fetching movie data:  49%|████████▊         | 1284/2614 [08:27<06:43,  3.30it/s]"
     ]
    },
    {
     "name": "stdout",
     "output_type": "stream",
     "text": [
      "Fetching data for movie ID tt15012312 from OMDb...\n"
     ]
    },
    {
     "name": "stderr",
     "output_type": "stream",
     "text": [
      "Fetching movie data:  49%|████████▊         | 1285/2614 [08:27<07:18,  3.03it/s]"
     ]
    },
    {
     "name": "stdout",
     "output_type": "stream",
     "text": [
      "Fetching data for movie ID tt21198540 from OMDb...\n"
     ]
    },
    {
     "name": "stderr",
     "output_type": "stream",
     "text": [
      "Fetching movie data:  49%|████████▊         | 1286/2614 [08:28<07:30,  2.95it/s]"
     ]
    },
    {
     "name": "stdout",
     "output_type": "stream",
     "text": [
      "Fetching data for movie ID tt11789236 from OMDb...\n"
     ]
    },
    {
     "name": "stderr",
     "output_type": "stream",
     "text": [
      "Fetching movie data:  49%|████████▊         | 1287/2614 [08:28<07:41,  2.87it/s]"
     ]
    },
    {
     "name": "stdout",
     "output_type": "stream",
     "text": [
      "Fetching data for movie ID tt4831954 from OMDb...\n"
     ]
    },
    {
     "name": "stderr",
     "output_type": "stream",
     "text": [
      "Fetching movie data:  49%|████████▊         | 1288/2614 [08:28<07:56,  2.78it/s]"
     ]
    },
    {
     "name": "stdout",
     "output_type": "stream",
     "text": [
      "Fetching data for movie ID tt15908942 from OMDb...\n"
     ]
    },
    {
     "name": "stderr",
     "output_type": "stream",
     "text": [
      "Fetching movie data:  49%|████████▉         | 1289/2614 [08:29<08:18,  2.66it/s]"
     ]
    },
    {
     "name": "stdout",
     "output_type": "stream",
     "text": [
      "Fetching data for movie ID tt27951107 from OMDb...\n"
     ]
    },
    {
     "name": "stderr",
     "output_type": "stream",
     "text": [
      "Fetching movie data:  49%|████████▉         | 1290/2614 [08:29<08:06,  2.72it/s]"
     ]
    },
    {
     "name": "stdout",
     "output_type": "stream",
     "text": [
      "Fetching data for movie ID tt32843331 from OMDb...\n"
     ]
    },
    {
     "name": "stderr",
     "output_type": "stream",
     "text": [
      "Fetching movie data:  49%|████████▉         | 1291/2614 [08:29<08:01,  2.75it/s]"
     ]
    },
    {
     "name": "stdout",
     "output_type": "stream",
     "text": [
      "Fetching data for movie ID tt6588966 from OMDb...\n"
     ]
    },
    {
     "name": "stderr",
     "output_type": "stream",
     "text": [
      "Fetching movie data:  49%|████████▉         | 1292/2614 [08:30<08:12,  2.68it/s]"
     ]
    },
    {
     "name": "stdout",
     "output_type": "stream",
     "text": [
      "Fetching data for movie ID tt32503178 from OMDb...\n"
     ]
    },
    {
     "name": "stderr",
     "output_type": "stream",
     "text": [
      "Fetching movie data:  49%|████████▉         | 1293/2614 [08:30<08:13,  2.68it/s]"
     ]
    },
    {
     "name": "stdout",
     "output_type": "stream",
     "text": [
      "Fetching data for movie ID tt19797378 from OMDb...\n"
     ]
    },
    {
     "name": "stderr",
     "output_type": "stream",
     "text": [
      "Fetching movie data:  50%|████████▉         | 1294/2614 [08:31<08:19,  2.64it/s]"
     ]
    },
    {
     "name": "stdout",
     "output_type": "stream",
     "text": [
      "Fetching data for movie ID tt30343591 from OMDb...\n"
     ]
    },
    {
     "name": "stderr",
     "output_type": "stream",
     "text": [
      "Fetching movie data:  50%|████████▉         | 1295/2614 [08:31<08:30,  2.58it/s]"
     ]
    },
    {
     "name": "stdout",
     "output_type": "stream",
     "text": [
      "Fetching data for movie ID tt4001078 from OMDb...\n"
     ]
    },
    {
     "name": "stderr",
     "output_type": "stream",
     "text": [
      "Fetching movie data:  50%|████████▉         | 1296/2614 [08:31<08:38,  2.54it/s]"
     ]
    },
    {
     "name": "stdout",
     "output_type": "stream",
     "text": [
      "Fetching data for movie ID tt4982390 from OMDb...\n"
     ]
    },
    {
     "name": "stderr",
     "output_type": "stream",
     "text": [
      "Fetching movie data:  50%|████████▉         | 1297/2614 [08:32<08:26,  2.60it/s]"
     ]
    },
    {
     "name": "stdout",
     "output_type": "stream",
     "text": [
      "Fetching data for movie ID tt11911796 from OMDb...\n"
     ]
    },
    {
     "name": "stderr",
     "output_type": "stream",
     "text": [
      "Fetching movie data:  50%|████████▉         | 1298/2614 [08:32<08:25,  2.60it/s]"
     ]
    },
    {
     "name": "stdout",
     "output_type": "stream",
     "text": [
      "Fetching data for movie ID tt3822388 from OMDb...\n"
     ]
    },
    {
     "name": "stderr",
     "output_type": "stream",
     "text": [
      "Fetching movie data:  50%|████████▉         | 1299/2614 [08:32<08:10,  2.68it/s]"
     ]
    },
    {
     "name": "stdout",
     "output_type": "stream",
     "text": [
      "Fetching data for movie ID tt20517306 from OMDb...\n"
     ]
    },
    {
     "name": "stderr",
     "output_type": "stream",
     "text": [
      "Fetching movie data:  50%|████████▉         | 1300/2614 [08:33<08:37,  2.54it/s]"
     ]
    },
    {
     "name": "stdout",
     "output_type": "stream",
     "text": [
      "Fetching data for movie ID tt8289324 from OMDb...\n"
     ]
    },
    {
     "name": "stderr",
     "output_type": "stream",
     "text": [
      "Fetching movie data:  50%|████████▉         | 1301/2614 [08:33<08:33,  2.55it/s]"
     ]
    },
    {
     "name": "stdout",
     "output_type": "stream",
     "text": [
      "Fetching data for movie ID tt4057246 from OMDb...\n"
     ]
    },
    {
     "name": "stderr",
     "output_type": "stream",
     "text": [
      "Fetching movie data:  50%|████████▉         | 1302/2614 [08:34<08:15,  2.65it/s]"
     ]
    },
    {
     "name": "stdout",
     "output_type": "stream",
     "text": [
      "Fetching data for movie ID tt5177962 from OMDb...\n"
     ]
    },
    {
     "name": "stderr",
     "output_type": "stream",
     "text": [
      "Fetching movie data:  50%|████████▉         | 1303/2614 [08:34<08:24,  2.60it/s]"
     ]
    },
    {
     "name": "stdout",
     "output_type": "stream",
     "text": [
      "Fetching data for movie ID tt5516872 from OMDb...\n"
     ]
    },
    {
     "name": "stderr",
     "output_type": "stream",
     "text": [
      "Fetching movie data:  50%|████████▉         | 1304/2614 [08:34<08:27,  2.58it/s]"
     ]
    },
    {
     "name": "stdout",
     "output_type": "stream",
     "text": [
      "Fetching data for movie ID tt4144690 from OMDb...\n"
     ]
    },
    {
     "name": "stderr",
     "output_type": "stream",
     "text": [
      "Fetching movie data:  50%|████████▉         | 1305/2614 [08:35<08:22,  2.61it/s]"
     ]
    },
    {
     "name": "stdout",
     "output_type": "stream",
     "text": [
      "Fetching data for movie ID tt8998146 from OMDb...\n"
     ]
    },
    {
     "name": "stderr",
     "output_type": "stream",
     "text": [
      "Fetching movie data:  50%|████████▉         | 1306/2614 [08:35<08:19,  2.62it/s]"
     ]
    },
    {
     "name": "stdout",
     "output_type": "stream",
     "text": [
      "Fetching data for movie ID tt6170048 from OMDb...\n"
     ]
    },
    {
     "name": "stderr",
     "output_type": "stream",
     "text": [
      "Fetching movie data:  50%|█████████         | 1307/2614 [08:36<08:20,  2.61it/s]"
     ]
    },
    {
     "name": "stdout",
     "output_type": "stream",
     "text": [
      "Fetching data for movie ID tt29141089 from OMDb...\n"
     ]
    },
    {
     "name": "stderr",
     "output_type": "stream",
     "text": [
      "Fetching movie data:  50%|█████████         | 1308/2614 [08:36<08:35,  2.53it/s]"
     ]
    },
    {
     "name": "stdout",
     "output_type": "stream",
     "text": [
      "Fetching data for movie ID tt12415972 from OMDb...\n",
      "Fetching data for movie ID tt3672994 from OMDb...\n"
     ]
    },
    {
     "name": "stderr",
     "output_type": "stream",
     "text": [
      "Fetching movie data:  50%|█████████         | 1310/2614 [08:36<06:57,  3.13it/s]"
     ]
    },
    {
     "name": "stdout",
     "output_type": "stream",
     "text": [
      "Fetching data for movie ID tt8403038 from OMDb...\n"
     ]
    },
    {
     "name": "stderr",
     "output_type": "stream",
     "text": [
      "Fetching movie data:  50%|█████████         | 1311/2614 [08:37<07:01,  3.09it/s]"
     ]
    },
    {
     "name": "stdout",
     "output_type": "stream",
     "text": [
      "Fetching data for movie ID tt16430916 from OMDb...\n"
     ]
    },
    {
     "name": "stderr",
     "output_type": "stream",
     "text": [
      "Fetching movie data:  50%|█████████         | 1312/2614 [08:37<07:32,  2.88it/s]"
     ]
    },
    {
     "name": "stdout",
     "output_type": "stream",
     "text": [
      "Fetching data for movie ID tt28287857 from OMDb...\n"
     ]
    },
    {
     "name": "stderr",
     "output_type": "stream",
     "text": [
      "Fetching movie data:  50%|█████████         | 1313/2614 [08:38<07:35,  2.86it/s]"
     ]
    },
    {
     "name": "stdout",
     "output_type": "stream",
     "text": [
      "Fetching data for movie ID tt18316132 from OMDb...\n"
     ]
    },
    {
     "name": "stderr",
     "output_type": "stream",
     "text": [
      "Fetching movie data:  50%|█████████         | 1314/2614 [08:38<07:38,  2.83it/s]"
     ]
    },
    {
     "name": "stdout",
     "output_type": "stream",
     "text": [
      "Fetching data for movie ID tt6219624 from OMDb...\n"
     ]
    },
    {
     "name": "stderr",
     "output_type": "stream",
     "text": [
      "Fetching movie data:  50%|█████████         | 1315/2614 [08:38<07:59,  2.71it/s]"
     ]
    },
    {
     "name": "stdout",
     "output_type": "stream",
     "text": [
      "Fetching data for movie ID tt22817168 from OMDb...\n"
     ]
    },
    {
     "name": "stderr",
     "output_type": "stream",
     "text": [
      "Fetching movie data:  50%|█████████         | 1316/2614 [08:39<08:22,  2.58it/s]"
     ]
    },
    {
     "name": "stdout",
     "output_type": "stream",
     "text": [
      "Fetching data for movie ID tt6440150 from OMDb...\n"
     ]
    },
    {
     "name": "stderr",
     "output_type": "stream",
     "text": [
      "Fetching movie data:  50%|█████████         | 1317/2614 [08:39<09:01,  2.40it/s]"
     ]
    },
    {
     "name": "stdout",
     "output_type": "stream",
     "text": [
      "Fetching data for movie ID tt5728684 from OMDb...\n"
     ]
    },
    {
     "name": "stderr",
     "output_type": "stream",
     "text": [
      "Fetching movie data:  50%|█████████         | 1318/2614 [08:40<08:32,  2.53it/s]"
     ]
    },
    {
     "name": "stdout",
     "output_type": "stream",
     "text": [
      "Fetching data for movie ID tt6923512 from OMDb...\n"
     ]
    },
    {
     "name": "stderr",
     "output_type": "stream",
     "text": [
      "Fetching movie data:  50%|█████████         | 1319/2614 [08:40<08:48,  2.45it/s]"
     ]
    },
    {
     "name": "stdout",
     "output_type": "stream",
     "text": [
      "Fetching data for movie ID tt10225098 from OMDb...\n"
     ]
    },
    {
     "name": "stderr",
     "output_type": "stream",
     "text": [
      "Fetching movie data:  50%|█████████         | 1320/2614 [08:40<09:03,  2.38it/s]"
     ]
    },
    {
     "name": "stdout",
     "output_type": "stream",
     "text": [
      "Fetching data for movie ID tt4726764 from OMDb...\n"
     ]
    },
    {
     "name": "stderr",
     "output_type": "stream",
     "text": [
      "Fetching movie data:  51%|█████████         | 1321/2614 [08:41<09:39,  2.23it/s]"
     ]
    },
    {
     "name": "stdout",
     "output_type": "stream",
     "text": [
      "Fetching data for movie ID tt4393938 from OMDb...\n"
     ]
    },
    {
     "name": "stderr",
     "output_type": "stream",
     "text": [
      "Fetching movie data:  51%|█████████         | 1322/2614 [08:41<09:08,  2.36it/s]"
     ]
    },
    {
     "name": "stdout",
     "output_type": "stream",
     "text": [
      "Fetching data for movie ID tt8578326 from OMDb...\n"
     ]
    },
    {
     "name": "stderr",
     "output_type": "stream",
     "text": [
      "Fetching movie data:  51%|█████████         | 1324/2614 [08:42<06:47,  3.16it/s]"
     ]
    },
    {
     "name": "stdout",
     "output_type": "stream",
     "text": [
      "Fetching data for movie ID tt10596876 from OMDb...\n",
      "Fetching data for movie ID tt29540208 from OMDb...\n"
     ]
    },
    {
     "name": "stderr",
     "output_type": "stream",
     "text": [
      "Fetching movie data:  51%|█████████         | 1325/2614 [08:42<07:21,  2.92it/s]"
     ]
    },
    {
     "name": "stdout",
     "output_type": "stream",
     "text": [
      "Fetching data for movie ID tt5978540 from OMDb...\n"
     ]
    },
    {
     "name": "stderr",
     "output_type": "stream",
     "text": [
      "Fetching movie data:  51%|█████████▏        | 1326/2614 [08:43<07:40,  2.80it/s]"
     ]
    },
    {
     "name": "stdout",
     "output_type": "stream",
     "text": [
      "Fetching data for movie ID tt21228606 from OMDb...\n"
     ]
    },
    {
     "name": "stderr",
     "output_type": "stream",
     "text": [
      "Fetching movie data:  51%|█████████▏        | 1327/2614 [08:43<07:37,  2.81it/s]"
     ]
    },
    {
     "name": "stdout",
     "output_type": "stream",
     "text": [
      "Fetching data for movie ID tt11778968 from OMDb...\n"
     ]
    },
    {
     "name": "stderr",
     "output_type": "stream",
     "text": [
      "Fetching movie data:  51%|█████████▏        | 1328/2614 [08:43<08:23,  2.56it/s]"
     ]
    },
    {
     "name": "stdout",
     "output_type": "stream",
     "text": [
      "Fetching data for movie ID tt11193764 from OMDb...\n"
     ]
    },
    {
     "name": "stderr",
     "output_type": "stream",
     "text": [
      "Fetching movie data:  51%|█████████▏        | 1329/2614 [08:44<08:59,  2.38it/s]"
     ]
    },
    {
     "name": "stdout",
     "output_type": "stream",
     "text": [
      "Fetching data for movie ID tt8439484 from OMDb...\n"
     ]
    },
    {
     "name": "stderr",
     "output_type": "stream",
     "text": [
      "Fetching movie data:  51%|█████████▏        | 1330/2614 [08:44<08:53,  2.41it/s]"
     ]
    },
    {
     "name": "stdout",
     "output_type": "stream",
     "text": [
      "Fetching data for movie ID tt7708168 from OMDb...\n"
     ]
    },
    {
     "name": "stderr",
     "output_type": "stream",
     "text": [
      "Fetching movie data:  51%|█████████▏        | 1331/2614 [08:45<09:03,  2.36it/s]"
     ]
    },
    {
     "name": "stdout",
     "output_type": "stream",
     "text": [
      "Fetching data for movie ID tt33062439 from OMDb...\n"
     ]
    },
    {
     "name": "stderr",
     "output_type": "stream",
     "text": [
      "Fetching movie data:  51%|█████████▏        | 1332/2614 [08:45<08:56,  2.39it/s]"
     ]
    },
    {
     "name": "stdout",
     "output_type": "stream",
     "text": [
      "Fetching data for movie ID tt7434314 from OMDb...\n"
     ]
    },
    {
     "name": "stderr",
     "output_type": "stream",
     "text": [
      "Fetching movie data:  51%|█████████▏        | 1333/2614 [08:46<09:32,  2.24it/s]"
     ]
    },
    {
     "name": "stdout",
     "output_type": "stream",
     "text": [
      "Fetching data for movie ID tt27811455 from OMDb...\n"
     ]
    },
    {
     "name": "stderr",
     "output_type": "stream",
     "text": [
      "Fetching movie data:  51%|█████████▏        | 1334/2614 [08:46<09:10,  2.33it/s]"
     ]
    },
    {
     "name": "stdout",
     "output_type": "stream",
     "text": [
      "Fetching data for movie ID tt6244954 from OMDb...\n"
     ]
    },
    {
     "name": "stderr",
     "output_type": "stream",
     "text": [
      "Fetching movie data:  51%|█████████▏        | 1335/2614 [08:46<08:51,  2.41it/s]"
     ]
    },
    {
     "name": "stdout",
     "output_type": "stream",
     "text": [
      "Fetching data for movie ID tt19718808 from OMDb...\n",
      "Fetching data for movie ID tt9189476 from OMDb...\n"
     ]
    },
    {
     "name": "stderr",
     "output_type": "stream",
     "text": [
      "Fetching movie data:  51%|█████████▏        | 1337/2614 [08:47<07:01,  3.03it/s]"
     ]
    },
    {
     "name": "stdout",
     "output_type": "stream",
     "text": [
      "Fetching data for movie ID tt15190622 from OMDb...\n"
     ]
    },
    {
     "name": "stderr",
     "output_type": "stream",
     "text": [
      "Fetching movie data:  51%|█████████▏        | 1338/2614 [08:47<07:24,  2.87it/s]"
     ]
    },
    {
     "name": "stdout",
     "output_type": "stream",
     "text": [
      "Fetching data for movie ID tt11896740 from OMDb...\n"
     ]
    },
    {
     "name": "stderr",
     "output_type": "stream",
     "text": [
      "Fetching movie data:  51%|█████████▏        | 1339/2614 [08:48<07:36,  2.79it/s]"
     ]
    },
    {
     "name": "stdout",
     "output_type": "stream",
     "text": [
      "Fetching data for movie ID tt4317496 from OMDb...\n"
     ]
    },
    {
     "name": "stderr",
     "output_type": "stream",
     "text": [
      "Fetching movie data:  51%|█████████▏        | 1340/2614 [08:48<07:31,  2.82it/s]"
     ]
    },
    {
     "name": "stdout",
     "output_type": "stream",
     "text": [
      "Fetching data for movie ID tt3127902 from OMDb...\n"
     ]
    },
    {
     "name": "stderr",
     "output_type": "stream",
     "text": [
      "Fetching movie data:  51%|█████████▏        | 1341/2614 [08:48<07:46,  2.73it/s]"
     ]
    },
    {
     "name": "stdout",
     "output_type": "stream",
     "text": [
      "Fetching data for movie ID tt13010750 from OMDb...\n"
     ]
    },
    {
     "name": "stderr",
     "output_type": "stream",
     "text": [
      "Fetching movie data:  51%|█████████▏        | 1342/2614 [08:49<08:02,  2.64it/s]"
     ]
    },
    {
     "name": "stdout",
     "output_type": "stream",
     "text": [
      "Fetching data for movie ID tt32121131 from OMDb...\n"
     ]
    },
    {
     "name": "stderr",
     "output_type": "stream",
     "text": [
      "Fetching movie data:  51%|█████████▏        | 1343/2614 [08:49<07:22,  2.87it/s]"
     ]
    },
    {
     "name": "stdout",
     "output_type": "stream",
     "text": [
      "Progress saved after 37700 movies.\n",
      "Fetching data for movie ID tt7917688 from OMDb...\n"
     ]
    },
    {
     "name": "stderr",
     "output_type": "stream",
     "text": [
      "Fetching movie data:  51%|█████████▎        | 1344/2614 [08:49<07:17,  2.90it/s]"
     ]
    },
    {
     "name": "stdout",
     "output_type": "stream",
     "text": [
      "Fetching data for movie ID tt10952416 from OMDb...\n"
     ]
    },
    {
     "name": "stderr",
     "output_type": "stream",
     "text": [
      "Fetching movie data:  51%|█████████▎        | 1345/2614 [08:50<07:44,  2.73it/s]"
     ]
    },
    {
     "name": "stdout",
     "output_type": "stream",
     "text": [
      "Fetching data for movie ID tt28798998 from OMDb...\n"
     ]
    },
    {
     "name": "stderr",
     "output_type": "stream",
     "text": [
      "Fetching movie data:  51%|█████████▎        | 1346/2614 [08:50<07:48,  2.71it/s]"
     ]
    },
    {
     "name": "stdout",
     "output_type": "stream",
     "text": [
      "Fetching data for movie ID tt16757636 from OMDb...\n"
     ]
    },
    {
     "name": "stderr",
     "output_type": "stream",
     "text": [
      "Fetching movie data:  52%|█████████▎        | 1347/2614 [08:51<08:14,  2.56it/s]"
     ]
    },
    {
     "name": "stdout",
     "output_type": "stream",
     "text": [
      "Fetching data for movie ID tt24852948 from OMDb...\n"
     ]
    },
    {
     "name": "stderr",
     "output_type": "stream",
     "text": [
      "Fetching movie data:  52%|█████████▎        | 1348/2614 [08:51<08:23,  2.52it/s]"
     ]
    },
    {
     "name": "stdout",
     "output_type": "stream",
     "text": [
      "Fetching data for movie ID tt9658036 from OMDb...\n"
     ]
    },
    {
     "name": "stderr",
     "output_type": "stream",
     "text": [
      "Fetching movie data:  52%|█████████▎        | 1349/2614 [08:52<08:25,  2.50it/s]"
     ]
    },
    {
     "name": "stdout",
     "output_type": "stream",
     "text": [
      "Fetching data for movie ID tt10938870 from OMDb...\n"
     ]
    },
    {
     "name": "stderr",
     "output_type": "stream",
     "text": [
      "Fetching movie data:  52%|█████████▎        | 1350/2614 [08:52<08:33,  2.46it/s]"
     ]
    },
    {
     "name": "stdout",
     "output_type": "stream",
     "text": [
      "Fetching data for movie ID tt11434354 from OMDb...\n"
     ]
    },
    {
     "name": "stderr",
     "output_type": "stream",
     "text": [
      "Fetching movie data:  52%|█████████▎        | 1351/2614 [08:52<08:29,  2.48it/s]"
     ]
    },
    {
     "name": "stdout",
     "output_type": "stream",
     "text": [
      "Fetching data for movie ID tt4979826 from OMDb...\n"
     ]
    },
    {
     "name": "stderr",
     "output_type": "stream",
     "text": [
      "Fetching movie data:  52%|█████████▎        | 1352/2614 [08:53<08:12,  2.56it/s]"
     ]
    },
    {
     "name": "stdout",
     "output_type": "stream",
     "text": [
      "Fetching data for movie ID tt7348082 from OMDb...\n"
     ]
    },
    {
     "name": "stderr",
     "output_type": "stream",
     "text": [
      "Fetching movie data:  52%|█████████▎        | 1353/2614 [08:53<08:39,  2.43it/s]"
     ]
    },
    {
     "name": "stdout",
     "output_type": "stream",
     "text": [
      "Fetching data for movie ID tt34823082 from OMDb...\n"
     ]
    },
    {
     "name": "stderr",
     "output_type": "stream",
     "text": [
      "Fetching movie data:  52%|█████████▎        | 1354/2614 [08:54<08:37,  2.43it/s]"
     ]
    },
    {
     "name": "stdout",
     "output_type": "stream",
     "text": [
      "Fetching data for movie ID tt7435262 from OMDb...\n"
     ]
    },
    {
     "name": "stderr",
     "output_type": "stream",
     "text": [
      "Fetching movie data:  52%|█████████▎        | 1355/2614 [08:54<08:13,  2.55it/s]"
     ]
    },
    {
     "name": "stdout",
     "output_type": "stream",
     "text": [
      "Fetching data for movie ID tt14282256 from OMDb...\n"
     ]
    },
    {
     "name": "stderr",
     "output_type": "stream",
     "text": [
      "Fetching movie data:  52%|█████████▎        | 1356/2614 [08:54<08:06,  2.58it/s]"
     ]
    },
    {
     "name": "stdout",
     "output_type": "stream",
     "text": [
      "Fetching data for movie ID tt8412964 from OMDb...\n"
     ]
    },
    {
     "name": "stderr",
     "output_type": "stream",
     "text": [
      "Fetching movie data:  52%|█████████▎        | 1357/2614 [08:55<08:43,  2.40it/s]"
     ]
    },
    {
     "name": "stdout",
     "output_type": "stream",
     "text": [
      "Fetching data for movie ID tt4768468 from OMDb...\n"
     ]
    },
    {
     "name": "stderr",
     "output_type": "stream",
     "text": [
      "Fetching movie data:  52%|█████████▎        | 1358/2614 [08:55<08:35,  2.43it/s]"
     ]
    },
    {
     "name": "stdout",
     "output_type": "stream",
     "text": [
      "Fetching data for movie ID tt14026554 from OMDb...\n"
     ]
    },
    {
     "name": "stderr",
     "output_type": "stream",
     "text": [
      "Fetching movie data:  52%|█████████▎        | 1359/2614 [08:56<08:07,  2.58it/s]"
     ]
    },
    {
     "name": "stdout",
     "output_type": "stream",
     "text": [
      "Fetching data for movie ID tt5838376 from OMDb...\n"
     ]
    },
    {
     "name": "stderr",
     "output_type": "stream",
     "text": [
      "Fetching movie data:  52%|█████████▎        | 1360/2614 [08:56<08:12,  2.54it/s]"
     ]
    },
    {
     "name": "stdout",
     "output_type": "stream",
     "text": [
      "Fetching data for movie ID tt4087154 from OMDb...\n"
     ]
    },
    {
     "name": "stderr",
     "output_type": "stream",
     "text": [
      "Fetching movie data:  52%|█████████▎        | 1361/2614 [08:56<08:22,  2.49it/s]"
     ]
    },
    {
     "name": "stdout",
     "output_type": "stream",
     "text": [
      "Fetching data for movie ID tt23551568 from OMDb...\n"
     ]
    },
    {
     "name": "stderr",
     "output_type": "stream",
     "text": [
      "Fetching movie data:  52%|█████████▍        | 1362/2614 [08:57<08:06,  2.57it/s]"
     ]
    },
    {
     "name": "stdout",
     "output_type": "stream",
     "text": [
      "Fetching data for movie ID tt9603904 from OMDb...\n"
     ]
    },
    {
     "name": "stderr",
     "output_type": "stream",
     "text": [
      "Fetching movie data:  52%|█████████▍        | 1363/2614 [08:57<08:02,  2.59it/s]"
     ]
    },
    {
     "name": "stdout",
     "output_type": "stream",
     "text": [
      "Fetching data for movie ID tt14353710 from OMDb...\n"
     ]
    },
    {
     "name": "stderr",
     "output_type": "stream",
     "text": [
      "Fetching movie data:  52%|█████████▍        | 1364/2614 [08:57<07:45,  2.69it/s]"
     ]
    },
    {
     "name": "stdout",
     "output_type": "stream",
     "text": [
      "Fetching data for movie ID tt7321736 from OMDb...\n"
     ]
    },
    {
     "name": "stderr",
     "output_type": "stream",
     "text": [
      "Fetching movie data:  52%|█████████▍        | 1365/2614 [08:58<07:56,  2.62it/s]"
     ]
    },
    {
     "name": "stdout",
     "output_type": "stream",
     "text": [
      "Fetching data for movie ID tt9680076 from OMDb...\n"
     ]
    },
    {
     "name": "stderr",
     "output_type": "stream",
     "text": [
      "Fetching movie data:  52%|█████████▍        | 1366/2614 [08:58<07:54,  2.63it/s]"
     ]
    },
    {
     "name": "stdout",
     "output_type": "stream",
     "text": [
      "Fetching data for movie ID tt8851198 from OMDb...\n"
     ]
    },
    {
     "name": "stderr",
     "output_type": "stream",
     "text": [
      "Fetching movie data:  52%|█████████▍        | 1367/2614 [08:59<07:58,  2.61it/s]"
     ]
    },
    {
     "name": "stdout",
     "output_type": "stream",
     "text": [
      "Fetching data for movie ID tt7093074 from OMDb...\n"
     ]
    },
    {
     "name": "stderr",
     "output_type": "stream",
     "text": [
      "Fetching movie data:  52%|█████████▍        | 1368/2614 [08:59<07:56,  2.62it/s]"
     ]
    },
    {
     "name": "stdout",
     "output_type": "stream",
     "text": [
      "Fetching data for movie ID tt7538578 from OMDb...\n"
     ]
    },
    {
     "name": "stderr",
     "output_type": "stream",
     "text": [
      "Fetching movie data:  52%|█████████▍        | 1369/2614 [08:59<08:17,  2.50it/s]"
     ]
    },
    {
     "name": "stdout",
     "output_type": "stream",
     "text": [
      "Fetching data for movie ID tt4391734 from OMDb...\n"
     ]
    },
    {
     "name": "stderr",
     "output_type": "stream",
     "text": [
      "Fetching movie data:  52%|█████████▍        | 1370/2614 [09:00<08:01,  2.59it/s]"
     ]
    },
    {
     "name": "stdout",
     "output_type": "stream",
     "text": [
      "Fetching data for movie ID tt4384070 from OMDb...\n"
     ]
    },
    {
     "name": "stderr",
     "output_type": "stream",
     "text": [
      "Fetching movie data:  52%|█████████▍        | 1371/2614 [09:00<08:33,  2.42it/s]"
     ]
    },
    {
     "name": "stdout",
     "output_type": "stream",
     "text": [
      "Fetching data for movie ID tt9653844 from OMDb...\n"
     ]
    },
    {
     "name": "stderr",
     "output_type": "stream",
     "text": [
      "Fetching movie data:  52%|█████████▍        | 1372/2614 [09:01<08:27,  2.45it/s]"
     ]
    },
    {
     "name": "stdout",
     "output_type": "stream",
     "text": [
      "Fetching data for movie ID tt31066341 from OMDb...\n"
     ]
    },
    {
     "name": "stderr",
     "output_type": "stream",
     "text": [
      "Fetching movie data:  53%|█████████▍        | 1373/2614 [09:01<09:05,  2.28it/s]"
     ]
    },
    {
     "name": "stdout",
     "output_type": "stream",
     "text": [
      "Fetching data for movie ID tt3779028 from OMDb...\n"
     ]
    },
    {
     "name": "stderr",
     "output_type": "stream",
     "text": [
      "Fetching movie data:  53%|█████████▍        | 1374/2614 [09:02<09:31,  2.17it/s]"
     ]
    },
    {
     "name": "stdout",
     "output_type": "stream",
     "text": [
      "Fetching data for movie ID tt35220329 from OMDb...\n"
     ]
    },
    {
     "name": "stderr",
     "output_type": "stream",
     "text": [
      "Fetching movie data:  53%|█████████▍        | 1375/2614 [09:02<08:47,  2.35it/s]"
     ]
    },
    {
     "name": "stdout",
     "output_type": "stream",
     "text": [
      "Fetching data for movie ID tt32439489 from OMDb...\n"
     ]
    },
    {
     "name": "stderr",
     "output_type": "stream",
     "text": [
      "Fetching movie data:  53%|█████████▍        | 1376/2614 [09:02<08:28,  2.43it/s]"
     ]
    },
    {
     "name": "stdout",
     "output_type": "stream",
     "text": [
      "Fetching data for movie ID tt27587485 from OMDb...\n"
     ]
    },
    {
     "name": "stderr",
     "output_type": "stream",
     "text": [
      "Fetching movie data:  53%|█████████▍        | 1377/2614 [09:03<09:05,  2.27it/s]"
     ]
    },
    {
     "name": "stdout",
     "output_type": "stream",
     "text": [
      "Fetching data for movie ID tt5569560 from OMDb...\n"
     ]
    },
    {
     "name": "stderr",
     "output_type": "stream",
     "text": [
      "Fetching movie data:  53%|█████████▍        | 1378/2614 [09:03<08:52,  2.32it/s]"
     ]
    },
    {
     "name": "stdout",
     "output_type": "stream",
     "text": [
      "Fetching data for movie ID tt9624900 from OMDb...\n"
     ]
    },
    {
     "name": "stderr",
     "output_type": "stream",
     "text": [
      "Fetching movie data:  53%|█████████▍        | 1379/2614 [09:04<08:44,  2.35it/s]"
     ]
    },
    {
     "name": "stdout",
     "output_type": "stream",
     "text": [
      "Fetching data for movie ID tt4151114 from OMDb...\n"
     ]
    },
    {
     "name": "stderr",
     "output_type": "stream",
     "text": [
      "Fetching movie data:  53%|█████████▌        | 1380/2614 [09:04<08:27,  2.43it/s]"
     ]
    },
    {
     "name": "stdout",
     "output_type": "stream",
     "text": [
      "Fetching data for movie ID tt4697742 from OMDb...\n"
     ]
    },
    {
     "name": "stderr",
     "output_type": "stream",
     "text": [
      "Fetching movie data:  53%|█████████▌        | 1381/2614 [09:05<09:16,  2.22it/s]"
     ]
    },
    {
     "name": "stdout",
     "output_type": "stream",
     "text": [
      "Fetching data for movie ID tt28997111 from OMDb...\n"
     ]
    },
    {
     "name": "stderr",
     "output_type": "stream",
     "text": [
      "Fetching movie data:  53%|█████████▌        | 1382/2614 [09:05<08:41,  2.36it/s]"
     ]
    },
    {
     "name": "stdout",
     "output_type": "stream",
     "text": [
      "Fetching data for movie ID tt29458284 from OMDb...\n"
     ]
    },
    {
     "name": "stderr",
     "output_type": "stream",
     "text": [
      "Fetching movie data:  53%|█████████▌        | 1383/2614 [09:05<07:36,  2.70it/s]"
     ]
    },
    {
     "name": "stdout",
     "output_type": "stream",
     "text": [
      "Fetching data for movie ID tt3823774 from OMDb...\n"
     ]
    },
    {
     "name": "stderr",
     "output_type": "stream",
     "text": [
      "Fetching movie data:  53%|█████████▌        | 1384/2614 [09:06<07:53,  2.60it/s]"
     ]
    },
    {
     "name": "stdout",
     "output_type": "stream",
     "text": [
      "Fetching data for movie ID tt28821668 from OMDb...\n"
     ]
    },
    {
     "name": "stderr",
     "output_type": "stream",
     "text": [
      "Fetching movie data:  53%|█████████▌        | 1385/2614 [09:06<07:44,  2.65it/s]"
     ]
    },
    {
     "name": "stdout",
     "output_type": "stream",
     "text": [
      "Fetching data for movie ID tt7527564 from OMDb...\n"
     ]
    },
    {
     "name": "stderr",
     "output_type": "stream",
     "text": [
      "Fetching movie data:  53%|█████████▌        | 1386/2614 [09:07<09:27,  2.16it/s]"
     ]
    },
    {
     "name": "stdout",
     "output_type": "stream",
     "text": [
      "Fetching data for movie ID tt1852023 from OMDb...\n"
     ]
    },
    {
     "name": "stderr",
     "output_type": "stream",
     "text": [
      "Fetching movie data:  53%|█████████▌        | 1387/2614 [09:07<08:45,  2.34it/s]"
     ]
    },
    {
     "name": "stdout",
     "output_type": "stream",
     "text": [
      "Fetching data for movie ID tt13889482 from OMDb...\n"
     ]
    },
    {
     "name": "stderr",
     "output_type": "stream",
     "text": [
      "Fetching movie data:  53%|█████████▌        | 1388/2614 [09:07<09:00,  2.27it/s]"
     ]
    },
    {
     "name": "stdout",
     "output_type": "stream",
     "text": [
      "Fetching data for movie ID tt14043522 from OMDb...\n"
     ]
    },
    {
     "name": "stderr",
     "output_type": "stream",
     "text": [
      "Fetching movie data:  53%|█████████▌        | 1389/2614 [09:08<08:49,  2.31it/s]"
     ]
    },
    {
     "name": "stdout",
     "output_type": "stream",
     "text": [
      "Fetching data for movie ID tt12325106 from OMDb...\n"
     ]
    },
    {
     "name": "stderr",
     "output_type": "stream",
     "text": [
      "Fetching movie data:  53%|█████████▌        | 1390/2614 [09:08<08:40,  2.35it/s]"
     ]
    },
    {
     "name": "stdout",
     "output_type": "stream",
     "text": [
      "Fetching data for movie ID tt12625756 from OMDb...\n"
     ]
    },
    {
     "name": "stderr",
     "output_type": "stream",
     "text": [
      "Fetching movie data:  53%|█████████▌        | 1391/2614 [09:09<09:11,  2.22it/s]"
     ]
    },
    {
     "name": "stdout",
     "output_type": "stream",
     "text": [
      "Fetching data for movie ID tt3895152 from OMDb...\n"
     ]
    },
    {
     "name": "stderr",
     "output_type": "stream",
     "text": [
      "Fetching movie data:  53%|█████████▌        | 1392/2614 [09:09<08:56,  2.28it/s]"
     ]
    },
    {
     "name": "stdout",
     "output_type": "stream",
     "text": [
      "Fetching data for movie ID tt18260360 from OMDb...\n"
     ]
    },
    {
     "name": "stderr",
     "output_type": "stream",
     "text": [
      "Fetching movie data:  53%|█████████▌        | 1393/2614 [09:10<09:22,  2.17it/s]"
     ]
    },
    {
     "name": "stdout",
     "output_type": "stream",
     "text": [
      "Fetching data for movie ID tt8924844 from OMDb...\n"
     ]
    },
    {
     "name": "stderr",
     "output_type": "stream",
     "text": [
      "Fetching movie data:  53%|█████████▌        | 1394/2614 [09:10<08:40,  2.34it/s]"
     ]
    },
    {
     "name": "stdout",
     "output_type": "stream",
     "text": [
      "Fetching data for movie ID tt4161544 from OMDb...\n"
     ]
    },
    {
     "name": "stderr",
     "output_type": "stream",
     "text": [
      "Fetching movie data:  53%|█████████▌        | 1395/2614 [09:10<08:28,  2.40it/s]"
     ]
    },
    {
     "name": "stdout",
     "output_type": "stream",
     "text": [
      "Fetching data for movie ID tt3607038 from OMDb...\n"
     ]
    },
    {
     "name": "stderr",
     "output_type": "stream",
     "text": [
      "Fetching movie data:  53%|█████████▌        | 1396/2614 [09:11<08:53,  2.28it/s]"
     ]
    },
    {
     "name": "stdout",
     "output_type": "stream",
     "text": [
      "Fetching data for movie ID tt21924118 from OMDb...\n",
      "Fetching data for movie ID tt9031490 from OMDb...\n"
     ]
    },
    {
     "name": "stderr",
     "output_type": "stream",
     "text": [
      "Fetching movie data:  53%|█████████▋        | 1398/2614 [09:11<07:10,  2.82it/s]"
     ]
    },
    {
     "name": "stdout",
     "output_type": "stream",
     "text": [
      "Fetching data for movie ID tt4960212 from OMDb...\n"
     ]
    },
    {
     "name": "stderr",
     "output_type": "stream",
     "text": [
      "Fetching movie data:  54%|█████████▋        | 1399/2614 [09:12<07:26,  2.72it/s]"
     ]
    },
    {
     "name": "stdout",
     "output_type": "stream",
     "text": [
      "Fetching data for movie ID tt2179136 from OMDb...\n",
      "Fetching data for movie ID tt7675422 from OMDb...\n"
     ]
    },
    {
     "name": "stderr",
     "output_type": "stream",
     "text": [
      "Fetching movie data:  54%|█████████▋        | 1401/2614 [09:12<06:23,  3.17it/s]"
     ]
    },
    {
     "name": "stdout",
     "output_type": "stream",
     "text": [
      "Fetching data for movie ID tt6135402 from OMDb...\n"
     ]
    },
    {
     "name": "stderr",
     "output_type": "stream",
     "text": [
      "Fetching movie data:  54%|█████████▋        | 1402/2614 [09:13<06:55,  2.91it/s]"
     ]
    },
    {
     "name": "stdout",
     "output_type": "stream",
     "text": [
      "Fetching data for movie ID tt6424566 from OMDb...\n"
     ]
    },
    {
     "name": "stderr",
     "output_type": "stream",
     "text": [
      "Fetching movie data:  54%|█████████▋        | 1403/2614 [09:13<06:56,  2.91it/s]"
     ]
    },
    {
     "name": "stdout",
     "output_type": "stream",
     "text": [
      "Fetching data for movie ID tt4983780 from OMDb...\n"
     ]
    },
    {
     "name": "stderr",
     "output_type": "stream",
     "text": [
      "Fetching movie data:  54%|█████████▋        | 1404/2614 [09:14<07:36,  2.65it/s]"
     ]
    },
    {
     "name": "stdout",
     "output_type": "stream",
     "text": [
      "Fetching data for movie ID tt13354946 from OMDb...\n"
     ]
    },
    {
     "name": "stderr",
     "output_type": "stream",
     "text": [
      "Fetching movie data:  54%|█████████▋        | 1405/2614 [09:14<07:25,  2.71it/s]"
     ]
    },
    {
     "name": "stdout",
     "output_type": "stream",
     "text": [
      "Fetching data for movie ID tt6302562 from OMDb...\n"
     ]
    },
    {
     "name": "stderr",
     "output_type": "stream",
     "text": [
      "Fetching movie data:  54%|█████████▋        | 1406/2614 [09:14<08:01,  2.51it/s]"
     ]
    },
    {
     "name": "stdout",
     "output_type": "stream",
     "text": [
      "Fetching data for movie ID tt32986677 from OMDb...\n"
     ]
    },
    {
     "name": "stderr",
     "output_type": "stream",
     "text": [
      "Fetching movie data:  54%|█████████▋        | 1407/2614 [09:15<08:04,  2.49it/s]"
     ]
    },
    {
     "name": "stdout",
     "output_type": "stream",
     "text": [
      "Fetching data for movie ID tt12667838 from OMDb...\n"
     ]
    },
    {
     "name": "stderr",
     "output_type": "stream",
     "text": [
      "Fetching movie data:  54%|█████████▋        | 1408/2614 [09:15<08:00,  2.51it/s]"
     ]
    },
    {
     "name": "stdout",
     "output_type": "stream",
     "text": [
      "Fetching data for movie ID tt4603210 from OMDb...\n"
     ]
    },
    {
     "name": "stderr",
     "output_type": "stream",
     "text": [
      "Fetching movie data:  54%|█████████▋        | 1409/2614 [09:16<07:40,  2.62it/s]"
     ]
    },
    {
     "name": "stdout",
     "output_type": "stream",
     "text": [
      "Fetching data for movie ID tt14340068 from OMDb...\n",
      "Fetching data for movie ID tt7873610 from OMDb...\n"
     ]
    },
    {
     "name": "stderr",
     "output_type": "stream",
     "text": [
      "Fetching movie data:  54%|█████████▋        | 1411/2614 [09:16<06:11,  3.23it/s]"
     ]
    },
    {
     "name": "stdout",
     "output_type": "stream",
     "text": [
      "Fetching data for movie ID tt17494746 from OMDb...\n"
     ]
    },
    {
     "name": "stderr",
     "output_type": "stream",
     "text": [
      "Fetching movie data:  54%|█████████▋        | 1412/2614 [09:16<06:22,  3.14it/s]"
     ]
    },
    {
     "name": "stdout",
     "output_type": "stream",
     "text": [
      "Fetching data for movie ID tt5595032 from OMDb...\n"
     ]
    },
    {
     "name": "stderr",
     "output_type": "stream",
     "text": [
      "Fetching movie data:  54%|█████████▋        | 1413/2614 [09:17<06:54,  2.90it/s]"
     ]
    },
    {
     "name": "stdout",
     "output_type": "stream",
     "text": [
      "Fetching data for movie ID tt14129638 from OMDb...\n"
     ]
    },
    {
     "name": "stderr",
     "output_type": "stream",
     "text": [
      "Fetching movie data:  54%|█████████▋        | 1414/2614 [09:17<06:57,  2.87it/s]"
     ]
    },
    {
     "name": "stdout",
     "output_type": "stream",
     "text": [
      "Fetching data for movie ID tt28575316 from OMDb...\n"
     ]
    },
    {
     "name": "stderr",
     "output_type": "stream",
     "text": [
      "Fetching movie data:  54%|█████████▋        | 1415/2614 [09:18<06:56,  2.88it/s]"
     ]
    },
    {
     "name": "stdout",
     "output_type": "stream",
     "text": [
      "Fetching data for movie ID tt22742316 from OMDb...\n"
     ]
    },
    {
     "name": "stderr",
     "output_type": "stream",
     "text": [
      "Fetching movie data:  54%|█████████▊        | 1416/2614 [09:18<07:08,  2.79it/s]"
     ]
    },
    {
     "name": "stdout",
     "output_type": "stream",
     "text": [
      "Fetching data for movie ID tt16744250 from OMDb...\n"
     ]
    },
    {
     "name": "stderr",
     "output_type": "stream",
     "text": [
      "Fetching movie data:  54%|█████████▊        | 1417/2614 [09:18<07:01,  2.84it/s]"
     ]
    },
    {
     "name": "stdout",
     "output_type": "stream",
     "text": [
      "Fetching data for movie ID tt15251038 from OMDb...\n"
     ]
    },
    {
     "name": "stderr",
     "output_type": "stream",
     "text": [
      "Fetching movie data:  54%|█████████▊        | 1418/2614 [09:19<07:24,  2.69it/s]"
     ]
    },
    {
     "name": "stdout",
     "output_type": "stream",
     "text": [
      "Fetching data for movie ID tt32890109 from OMDb...\n"
     ]
    },
    {
     "name": "stderr",
     "output_type": "stream",
     "text": [
      "Fetching movie data:  54%|█████████▊        | 1419/2614 [09:19<07:37,  2.61it/s]"
     ]
    },
    {
     "name": "stdout",
     "output_type": "stream",
     "text": [
      "Fetching data for movie ID tt20252708 from OMDb...\n"
     ]
    },
    {
     "name": "stderr",
     "output_type": "stream",
     "text": [
      "Fetching movie data:  54%|█████████▊        | 1420/2614 [09:19<07:37,  2.61it/s]"
     ]
    },
    {
     "name": "stdout",
     "output_type": "stream",
     "text": [
      "Fetching data for movie ID tt14948916 from OMDb...\n"
     ]
    },
    {
     "name": "stderr",
     "output_type": "stream",
     "text": [
      "Fetching movie data:  54%|█████████▊        | 1421/2614 [09:20<07:56,  2.51it/s]"
     ]
    },
    {
     "name": "stdout",
     "output_type": "stream",
     "text": [
      "Fetching data for movie ID tt10869834 from OMDb...\n"
     ]
    },
    {
     "name": "stderr",
     "output_type": "stream",
     "text": [
      "Fetching movie data:  54%|█████████▊        | 1422/2614 [09:20<07:43,  2.57it/s]"
     ]
    },
    {
     "name": "stdout",
     "output_type": "stream",
     "text": [
      "Fetching data for movie ID tt5005862 from OMDb...\n"
     ]
    },
    {
     "name": "stderr",
     "output_type": "stream",
     "text": [
      "Fetching movie data:  54%|█████████▊        | 1423/2614 [09:21<08:08,  2.44it/s]"
     ]
    },
    {
     "name": "stdout",
     "output_type": "stream",
     "text": [
      "Fetching data for movie ID tt15113294 from OMDb...\n"
     ]
    },
    {
     "name": "stderr",
     "output_type": "stream",
     "text": [
      "Fetching movie data:  54%|█████████▊        | 1424/2614 [09:21<08:05,  2.45it/s]"
     ]
    },
    {
     "name": "stdout",
     "output_type": "stream",
     "text": [
      "Fetching data for movie ID tt3801252 from OMDb...\n"
     ]
    },
    {
     "name": "stderr",
     "output_type": "stream",
     "text": [
      "Fetching movie data:  55%|█████████▊        | 1425/2614 [09:22<08:05,  2.45it/s]"
     ]
    },
    {
     "name": "stdout",
     "output_type": "stream",
     "text": [
      "Fetching data for movie ID tt15719162 from OMDb...\n"
     ]
    },
    {
     "name": "stderr",
     "output_type": "stream",
     "text": [
      "Fetching movie data:  55%|█████████▊        | 1426/2614 [09:22<08:06,  2.44it/s]"
     ]
    },
    {
     "name": "stdout",
     "output_type": "stream",
     "text": [
      "Fetching data for movie ID tt27729452 from OMDb...\n"
     ]
    },
    {
     "name": "stderr",
     "output_type": "stream",
     "text": [
      "Fetching movie data:  55%|█████████▊        | 1427/2614 [09:22<07:45,  2.55it/s]"
     ]
    },
    {
     "name": "stdout",
     "output_type": "stream",
     "text": [
      "Fetching data for movie ID tt10059508 from OMDb...\n"
     ]
    },
    {
     "name": "stderr",
     "output_type": "stream",
     "text": [
      "Fetching movie data:  55%|█████████▊        | 1428/2614 [09:23<08:11,  2.41it/s]"
     ]
    },
    {
     "name": "stdout",
     "output_type": "stream",
     "text": [
      "Fetching data for movie ID tt3817838 from OMDb...\n"
     ]
    },
    {
     "name": "stderr",
     "output_type": "stream",
     "text": [
      "Fetching movie data:  55%|█████████▊        | 1429/2614 [09:23<08:05,  2.44it/s]"
     ]
    },
    {
     "name": "stdout",
     "output_type": "stream",
     "text": [
      "Fetching data for movie ID tt8645918 from OMDb...\n"
     ]
    },
    {
     "name": "stderr",
     "output_type": "stream",
     "text": [
      "Fetching movie data:  55%|█████████▊        | 1430/2614 [09:24<08:01,  2.46it/s]"
     ]
    },
    {
     "name": "stdout",
     "output_type": "stream",
     "text": [
      "Fetching data for movie ID tt5704606 from OMDb...\n"
     ]
    },
    {
     "name": "stderr",
     "output_type": "stream",
     "text": [
      "Fetching movie data:  55%|█████████▊        | 1431/2614 [09:24<09:11,  2.14it/s]"
     ]
    },
    {
     "name": "stdout",
     "output_type": "stream",
     "text": [
      "Fetching data for movie ID tt27625359 from OMDb...\n"
     ]
    },
    {
     "name": "stderr",
     "output_type": "stream",
     "text": [
      "Fetching movie data:  55%|█████████▊        | 1432/2614 [09:25<09:02,  2.18it/s]"
     ]
    },
    {
     "name": "stdout",
     "output_type": "stream",
     "text": [
      "Fetching data for movie ID tt19730260 from OMDb...\n"
     ]
    },
    {
     "name": "stderr",
     "output_type": "stream",
     "text": [
      "Fetching movie data:  55%|█████████▊        | 1433/2614 [09:25<08:44,  2.25it/s]"
     ]
    },
    {
     "name": "stdout",
     "output_type": "stream",
     "text": [
      "Fetching data for movie ID tt11317494 from OMDb...\n"
     ]
    },
    {
     "name": "stderr",
     "output_type": "stream",
     "text": [
      "Fetching movie data:  55%|█████████▊        | 1434/2614 [09:25<08:32,  2.30it/s]"
     ]
    },
    {
     "name": "stdout",
     "output_type": "stream",
     "text": [
      "Fetching data for movie ID tt7937392 from OMDb...\n"
     ]
    },
    {
     "name": "stderr",
     "output_type": "stream",
     "text": [
      "Fetching movie data:  55%|█████████▉        | 1436/2614 [09:26<06:46,  2.90it/s]"
     ]
    },
    {
     "name": "stdout",
     "output_type": "stream",
     "text": [
      "Fetching data for movie ID tt4572514 from OMDb...\n",
      "Fetching data for movie ID tt5594898 from OMDb...\n"
     ]
    },
    {
     "name": "stderr",
     "output_type": "stream",
     "text": [
      "Fetching movie data:  55%|█████████▉        | 1437/2614 [09:26<07:32,  2.60it/s]"
     ]
    },
    {
     "name": "stdout",
     "output_type": "stream",
     "text": [
      "Fetching data for movie ID tt9897230 from OMDb...\n"
     ]
    },
    {
     "name": "stderr",
     "output_type": "stream",
     "text": [
      "Fetching movie data:  55%|█████████▉        | 1438/2614 [09:27<07:40,  2.56it/s]"
     ]
    },
    {
     "name": "stdout",
     "output_type": "stream",
     "text": [
      "Fetching data for movie ID tt21151918 from OMDb...\n"
     ]
    },
    {
     "name": "stderr",
     "output_type": "stream",
     "text": [
      "Fetching movie data:  55%|█████████▉        | 1439/2614 [09:27<07:19,  2.67it/s]"
     ]
    },
    {
     "name": "stdout",
     "output_type": "stream",
     "text": [
      "Fetching data for movie ID tt6768578 from OMDb...\n"
     ]
    },
    {
     "name": "stderr",
     "output_type": "stream",
     "text": [
      "Fetching movie data:  55%|█████████▉        | 1440/2614 [09:28<07:22,  2.65it/s]"
     ]
    },
    {
     "name": "stdout",
     "output_type": "stream",
     "text": [
      "Fetching data for movie ID tt13442654 from OMDb...\n"
     ]
    },
    {
     "name": "stderr",
     "output_type": "stream",
     "text": [
      "Fetching movie data:  55%|█████████▉        | 1441/2614 [09:28<07:26,  2.63it/s]"
     ]
    },
    {
     "name": "stdout",
     "output_type": "stream",
     "text": [
      "Fetching data for movie ID tt6923916 from OMDb...\n"
     ]
    },
    {
     "name": "stderr",
     "output_type": "stream",
     "text": [
      "Fetching movie data:  55%|█████████▉        | 1442/2614 [09:28<07:12,  2.71it/s]"
     ]
    },
    {
     "name": "stdout",
     "output_type": "stream",
     "text": [
      "Fetching data for movie ID tt24178362 from OMDb...\n"
     ]
    },
    {
     "name": "stderr",
     "output_type": "stream",
     "text": [
      "Fetching movie data:  55%|█████████▉        | 1443/2614 [09:29<10:58,  1.78it/s]"
     ]
    },
    {
     "name": "stdout",
     "output_type": "stream",
     "text": [
      "Fetching data for movie ID tt15125878 from OMDb...\n"
     ]
    },
    {
     "name": "stderr",
     "output_type": "stream",
     "text": [
      "Fetching movie data:  55%|█████████▉        | 1444/2614 [09:30<10:36,  1.84it/s]"
     ]
    },
    {
     "name": "stdout",
     "output_type": "stream",
     "text": [
      "Progress saved after 37800 movies.\n",
      "Fetching data for movie ID tt4121562 from OMDb...\n"
     ]
    },
    {
     "name": "stderr",
     "output_type": "stream",
     "text": [
      "Fetching movie data:  55%|█████████▉        | 1445/2614 [09:30<09:39,  2.02it/s]"
     ]
    },
    {
     "name": "stdout",
     "output_type": "stream",
     "text": [
      "Fetching data for movie ID tt9780162 from OMDb...\n"
     ]
    },
    {
     "name": "stderr",
     "output_type": "stream",
     "text": [
      "Fetching movie data:  55%|█████████▉        | 1447/2614 [09:31<06:52,  2.83it/s]"
     ]
    },
    {
     "name": "stdout",
     "output_type": "stream",
     "text": [
      "Fetching data for movie ID tt35050896 from OMDb...\n",
      "Fetching data for movie ID tt9551690 from OMDb...\n"
     ]
    },
    {
     "name": "stderr",
     "output_type": "stream",
     "text": [
      "Fetching movie data:  55%|█████████▉        | 1448/2614 [09:31<06:50,  2.84it/s]"
     ]
    },
    {
     "name": "stdout",
     "output_type": "stream",
     "text": [
      "Fetching data for movie ID tt15334298 from OMDb...\n"
     ]
    },
    {
     "name": "stderr",
     "output_type": "stream",
     "text": [
      "Fetching movie data:  55%|█████████▉        | 1449/2614 [09:31<07:01,  2.76it/s]"
     ]
    },
    {
     "name": "stdout",
     "output_type": "stream",
     "text": [
      "Fetching data for movie ID tt12877408 from OMDb...\n"
     ]
    },
    {
     "name": "stderr",
     "output_type": "stream",
     "text": [
      "Fetching movie data:  55%|█████████▉        | 1450/2614 [09:32<07:08,  2.72it/s]"
     ]
    },
    {
     "name": "stdout",
     "output_type": "stream",
     "text": [
      "Fetching data for movie ID tt4714202 from OMDb...\n"
     ]
    },
    {
     "name": "stderr",
     "output_type": "stream",
     "text": [
      "Fetching movie data:  56%|█████████▉        | 1451/2614 [09:32<07:26,  2.61it/s]"
     ]
    },
    {
     "name": "stdout",
     "output_type": "stream",
     "text": [
      "Fetching data for movie ID tt4535594 from OMDb...\n"
     ]
    },
    {
     "name": "stderr",
     "output_type": "stream",
     "text": [
      "Fetching movie data:  56%|█████████▉        | 1452/2614 [09:33<07:33,  2.56it/s]"
     ]
    },
    {
     "name": "stdout",
     "output_type": "stream",
     "text": [
      "Fetching data for movie ID tt15812944 from OMDb...\n"
     ]
    },
    {
     "name": "stderr",
     "output_type": "stream",
     "text": [
      "Fetching movie data:  56%|██████████        | 1453/2614 [09:33<07:29,  2.58it/s]"
     ]
    },
    {
     "name": "stdout",
     "output_type": "stream",
     "text": [
      "Fetching data for movie ID tt10730518 from OMDb...\n"
     ]
    },
    {
     "name": "stderr",
     "output_type": "stream",
     "text": [
      "Fetching movie data:  56%|██████████        | 1454/2614 [09:33<07:25,  2.61it/s]"
     ]
    },
    {
     "name": "stdout",
     "output_type": "stream",
     "text": [
      "Fetching data for movie ID tt30128548 from OMDb...\n"
     ]
    },
    {
     "name": "stderr",
     "output_type": "stream",
     "text": [
      "Fetching movie data:  56%|██████████        | 1455/2614 [09:34<07:13,  2.67it/s]"
     ]
    },
    {
     "name": "stdout",
     "output_type": "stream",
     "text": [
      "Fetching data for movie ID tt15359888 from OMDb...\n"
     ]
    },
    {
     "name": "stderr",
     "output_type": "stream",
     "text": [
      "Fetching movie data:  56%|██████████        | 1456/2614 [09:34<07:11,  2.68it/s]"
     ]
    },
    {
     "name": "stdout",
     "output_type": "stream",
     "text": [
      "Fetching data for movie ID tt32635421 from OMDb...\n"
     ]
    },
    {
     "name": "stderr",
     "output_type": "stream",
     "text": [
      "Fetching movie data:  56%|██████████        | 1457/2614 [09:35<07:34,  2.55it/s]"
     ]
    },
    {
     "name": "stdout",
     "output_type": "stream",
     "text": [
      "Fetching data for movie ID tt3462834 from OMDb...\n"
     ]
    },
    {
     "name": "stderr",
     "output_type": "stream",
     "text": [
      "Fetching movie data:  56%|██████████        | 1459/2614 [09:35<06:22,  3.02it/s]"
     ]
    },
    {
     "name": "stdout",
     "output_type": "stream",
     "text": [
      "Fetching data for movie ID tt14845570 from OMDb...\n",
      "Fetching data for movie ID tt6409416 from OMDb...\n"
     ]
    },
    {
     "name": "stderr",
     "output_type": "stream",
     "text": [
      "Fetching movie data:  56%|██████████        | 1460/2614 [09:35<05:33,  3.46it/s]"
     ]
    },
    {
     "name": "stdout",
     "output_type": "stream",
     "text": [
      "Fetching data for movie ID tt11233002 from OMDb...\n"
     ]
    },
    {
     "name": "stderr",
     "output_type": "stream",
     "text": [
      "Fetching movie data:  56%|██████████        | 1461/2614 [09:36<05:49,  3.29it/s]"
     ]
    },
    {
     "name": "stdout",
     "output_type": "stream",
     "text": [
      "Fetching data for movie ID tt11368494 from OMDb...\n"
     ]
    },
    {
     "name": "stderr",
     "output_type": "stream",
     "text": [
      "Fetching movie data:  56%|██████████        | 1462/2614 [09:36<06:19,  3.03it/s]"
     ]
    },
    {
     "name": "stdout",
     "output_type": "stream",
     "text": [
      "Fetching data for movie ID tt5687082 from OMDb...\n"
     ]
    },
    {
     "name": "stderr",
     "output_type": "stream",
     "text": [
      "Fetching movie data:  56%|██████████        | 1463/2614 [09:36<06:58,  2.75it/s]"
     ]
    },
    {
     "name": "stdout",
     "output_type": "stream",
     "text": [
      "Fetching data for movie ID tt2814056 from OMDb...\n"
     ]
    },
    {
     "name": "stderr",
     "output_type": "stream",
     "text": [
      "Fetching movie data:  56%|██████████        | 1464/2614 [09:37<07:01,  2.73it/s]"
     ]
    },
    {
     "name": "stdout",
     "output_type": "stream",
     "text": [
      "Fetching data for movie ID tt35466928 from OMDb...\n",
      "Fetching data for movie ID tt3920572 from OMDb...\n"
     ]
    },
    {
     "name": "stderr",
     "output_type": "stream",
     "text": [
      "Fetching movie data:  56%|██████████        | 1466/2614 [09:37<06:01,  3.17it/s]"
     ]
    },
    {
     "name": "stdout",
     "output_type": "stream",
     "text": [
      "Fetching data for movie ID tt2650538 from OMDb...\n"
     ]
    },
    {
     "name": "stderr",
     "output_type": "stream",
     "text": [
      "Fetching movie data:  56%|██████████        | 1467/2614 [09:38<06:39,  2.87it/s]"
     ]
    },
    {
     "name": "stdout",
     "output_type": "stream",
     "text": [
      "Fetching data for movie ID tt8905022 from OMDb...\n"
     ]
    },
    {
     "name": "stderr",
     "output_type": "stream",
     "text": [
      "Fetching movie data:  56%|██████████        | 1468/2614 [09:38<06:55,  2.76it/s]"
     ]
    },
    {
     "name": "stdout",
     "output_type": "stream",
     "text": [
      "Fetching data for movie ID tt5720344 from OMDb...\n"
     ]
    },
    {
     "name": "stderr",
     "output_type": "stream",
     "text": [
      "Fetching movie data:  56%|██████████        | 1469/2614 [09:39<07:11,  2.65it/s]"
     ]
    },
    {
     "name": "stdout",
     "output_type": "stream",
     "text": [
      "Fetching data for movie ID tt10915286 from OMDb...\n"
     ]
    },
    {
     "name": "stderr",
     "output_type": "stream",
     "text": [
      "Fetching movie data:  56%|██████████        | 1470/2614 [09:39<07:49,  2.44it/s]"
     ]
    },
    {
     "name": "stdout",
     "output_type": "stream",
     "text": [
      "Fetching data for movie ID tt29927796 from OMDb...\n"
     ]
    },
    {
     "name": "stderr",
     "output_type": "stream",
     "text": [
      "Fetching movie data:  56%|██████████▏       | 1471/2614 [09:40<07:43,  2.47it/s]"
     ]
    },
    {
     "name": "stdout",
     "output_type": "stream",
     "text": [
      "Fetching data for movie ID tt9418878 from OMDb...\n"
     ]
    },
    {
     "name": "stderr",
     "output_type": "stream",
     "text": [
      "Fetching movie data:  56%|██████████▏       | 1472/2614 [09:40<07:55,  2.40it/s]"
     ]
    },
    {
     "name": "stdout",
     "output_type": "stream",
     "text": [
      "Fetching data for movie ID tt5280090 from OMDb...\n"
     ]
    },
    {
     "name": "stderr",
     "output_type": "stream",
     "text": [
      "Fetching movie data:  56%|██████████▏       | 1473/2614 [09:40<08:26,  2.25it/s]"
     ]
    },
    {
     "name": "stdout",
     "output_type": "stream",
     "text": [
      "Fetching data for movie ID tt6782422 from OMDb...\n"
     ]
    },
    {
     "name": "stderr",
     "output_type": "stream",
     "text": [
      "Fetching movie data:  56%|██████████▏       | 1474/2614 [09:41<07:55,  2.40it/s]"
     ]
    },
    {
     "name": "stdout",
     "output_type": "stream",
     "text": [
      "Fetching data for movie ID tt6112836 from OMDb...\n"
     ]
    },
    {
     "name": "stderr",
     "output_type": "stream",
     "text": [
      "Fetching movie data:  56%|██████████▏       | 1475/2614 [09:41<07:48,  2.43it/s]"
     ]
    },
    {
     "name": "stdout",
     "output_type": "stream",
     "text": [
      "Fetching data for movie ID tt11156686 from OMDb...\n"
     ]
    },
    {
     "name": "stderr",
     "output_type": "stream",
     "text": [
      "Fetching movie data:  56%|██████████▏       | 1476/2614 [09:42<08:11,  2.32it/s]"
     ]
    },
    {
     "name": "stdout",
     "output_type": "stream",
     "text": [
      "Fetching data for movie ID tt9348296 from OMDb...\n"
     ]
    },
    {
     "name": "stderr",
     "output_type": "stream",
     "text": [
      "Fetching movie data:  57%|██████████▏       | 1477/2614 [09:42<07:48,  2.43it/s]"
     ]
    },
    {
     "name": "stdout",
     "output_type": "stream",
     "text": [
      "Fetching data for movie ID tt13812056 from OMDb...\n"
     ]
    },
    {
     "name": "stderr",
     "output_type": "stream",
     "text": [
      "Fetching movie data:  57%|██████████▏       | 1478/2614 [09:42<07:28,  2.53it/s]"
     ]
    },
    {
     "name": "stdout",
     "output_type": "stream",
     "text": [
      "Fetching data for movie ID tt12980526 from OMDb...\n"
     ]
    },
    {
     "name": "stderr",
     "output_type": "stream",
     "text": [
      "Fetching movie data:  57%|██████████▏       | 1479/2614 [09:43<07:31,  2.52it/s]"
     ]
    },
    {
     "name": "stdout",
     "output_type": "stream",
     "text": [
      "Fetching data for movie ID tt6867356 from OMDb...\n"
     ]
    },
    {
     "name": "stderr",
     "output_type": "stream",
     "text": [
      "Fetching movie data:  57%|██████████▏       | 1480/2614 [09:43<07:35,  2.49it/s]"
     ]
    },
    {
     "name": "stdout",
     "output_type": "stream",
     "text": [
      "Fetching data for movie ID tt14544434 from OMDb...\n"
     ]
    },
    {
     "name": "stderr",
     "output_type": "stream",
     "text": [
      "Fetching movie data:  57%|██████████▏       | 1481/2614 [09:44<07:38,  2.47it/s]"
     ]
    },
    {
     "name": "stdout",
     "output_type": "stream",
     "text": [
      "Fetching data for movie ID tt10656034 from OMDb...\n"
     ]
    },
    {
     "name": "stderr",
     "output_type": "stream",
     "text": [
      "Fetching movie data:  57%|██████████▏       | 1482/2614 [09:44<07:29,  2.52it/s]"
     ]
    },
    {
     "name": "stdout",
     "output_type": "stream",
     "text": [
      "Fetching data for movie ID tt12609634 from OMDb...\n"
     ]
    },
    {
     "name": "stderr",
     "output_type": "stream",
     "text": [
      "Fetching movie data:  57%|██████████▏       | 1484/2614 [09:45<06:00,  3.13it/s]"
     ]
    },
    {
     "name": "stdout",
     "output_type": "stream",
     "text": [
      "Fetching data for movie ID tt16182676 from OMDb...\n",
      "Fetching data for movie ID tt6096128 from OMDb...\n"
     ]
    },
    {
     "name": "stderr",
     "output_type": "stream",
     "text": [
      "Fetching movie data:  57%|██████████▏       | 1485/2614 [09:45<06:28,  2.91it/s]"
     ]
    },
    {
     "name": "stdout",
     "output_type": "stream",
     "text": [
      "Fetching data for movie ID tt30979628 from OMDb...\n"
     ]
    },
    {
     "name": "stderr",
     "output_type": "stream",
     "text": [
      "Fetching movie data:  57%|██████████▏       | 1486/2614 [09:45<06:50,  2.75it/s]"
     ]
    },
    {
     "name": "stdout",
     "output_type": "stream",
     "text": [
      "Fetching data for movie ID tt3666182 from OMDb...\n"
     ]
    },
    {
     "name": "stderr",
     "output_type": "stream",
     "text": [
      "Fetching movie data:  57%|██████████▏       | 1487/2614 [09:46<07:06,  2.64it/s]"
     ]
    },
    {
     "name": "stdout",
     "output_type": "stream",
     "text": [
      "Fetching data for movie ID tt26919016 from OMDb...\n"
     ]
    },
    {
     "name": "stderr",
     "output_type": "stream",
     "text": [
      "Fetching movie data:  57%|██████████▏       | 1488/2614 [09:46<06:57,  2.69it/s]"
     ]
    },
    {
     "name": "stdout",
     "output_type": "stream",
     "text": [
      "Fetching data for movie ID tt23748538 from OMDb...\n"
     ]
    },
    {
     "name": "stderr",
     "output_type": "stream",
     "text": [
      "Fetching movie data:  57%|██████████▎       | 1489/2614 [09:47<06:54,  2.71it/s]"
     ]
    },
    {
     "name": "stdout",
     "output_type": "stream",
     "text": [
      "Fetching data for movie ID tt22076378 from OMDb...\n"
     ]
    },
    {
     "name": "stderr",
     "output_type": "stream",
     "text": [
      "Fetching movie data:  57%|██████████▎       | 1490/2614 [09:47<07:07,  2.63it/s]"
     ]
    },
    {
     "name": "stdout",
     "output_type": "stream",
     "text": [
      "Fetching data for movie ID tt5940256 from OMDb...\n"
     ]
    },
    {
     "name": "stderr",
     "output_type": "stream",
     "text": [
      "Fetching movie data:  57%|██████████▎       | 1491/2614 [09:47<07:16,  2.57it/s]"
     ]
    },
    {
     "name": "stdout",
     "output_type": "stream",
     "text": [
      "Fetching data for movie ID tt27141526 from OMDb...\n"
     ]
    },
    {
     "name": "stderr",
     "output_type": "stream",
     "text": [
      "Fetching movie data:  57%|██████████▎       | 1493/2614 [09:48<06:29,  2.88it/s]"
     ]
    },
    {
     "name": "stdout",
     "output_type": "stream",
     "text": [
      "Fetching data for movie ID tt14145426 from OMDb...\n",
      "Fetching data for movie ID tt21221998 from OMDb...\n"
     ]
    },
    {
     "name": "stderr",
     "output_type": "stream",
     "text": [
      "Fetching movie data:  57%|██████████▎       | 1494/2614 [09:48<07:04,  2.64it/s]"
     ]
    },
    {
     "name": "stdout",
     "output_type": "stream",
     "text": [
      "Fetching data for movie ID tt4307880 from OMDb...\n"
     ]
    },
    {
     "name": "stderr",
     "output_type": "stream",
     "text": [
      "Fetching movie data:  57%|██████████▎       | 1495/2614 [09:49<07:13,  2.58it/s]"
     ]
    },
    {
     "name": "stdout",
     "output_type": "stream",
     "text": [
      "Fetching data for movie ID tt13858628 from OMDb...\n"
     ]
    },
    {
     "name": "stderr",
     "output_type": "stream",
     "text": [
      "Fetching movie data:  57%|██████████▎       | 1496/2614 [09:49<07:20,  2.54it/s]"
     ]
    },
    {
     "name": "stdout",
     "output_type": "stream",
     "text": [
      "Fetching data for movie ID tt2692134 from OMDb...\n"
     ]
    },
    {
     "name": "stderr",
     "output_type": "stream",
     "text": [
      "Fetching movie data:  57%|██████████▎       | 1497/2614 [09:50<07:20,  2.54it/s]"
     ]
    },
    {
     "name": "stdout",
     "output_type": "stream",
     "text": [
      "Fetching data for movie ID tt8653676 from OMDb...\n"
     ]
    },
    {
     "name": "stderr",
     "output_type": "stream",
     "text": [
      "Fetching movie data:  57%|██████████▎       | 1498/2614 [09:50<07:25,  2.51it/s]"
     ]
    },
    {
     "name": "stdout",
     "output_type": "stream",
     "text": [
      "Fetching data for movie ID tt15838850 from OMDb...\n"
     ]
    },
    {
     "name": "stderr",
     "output_type": "stream",
     "text": [
      "Fetching movie data:  57%|██████████▎       | 1499/2614 [09:51<07:32,  2.46it/s]"
     ]
    },
    {
     "name": "stdout",
     "output_type": "stream",
     "text": [
      "Fetching data for movie ID tt9664292 from OMDb...\n"
     ]
    },
    {
     "name": "stderr",
     "output_type": "stream",
     "text": [
      "Fetching movie data:  57%|██████████▎       | 1500/2614 [09:51<07:34,  2.45it/s]"
     ]
    },
    {
     "name": "stdout",
     "output_type": "stream",
     "text": [
      "Fetching data for movie ID tt4789550 from OMDb...\n"
     ]
    },
    {
     "name": "stderr",
     "output_type": "stream",
     "text": [
      "Fetching movie data:  57%|██████████▎       | 1501/2614 [09:52<08:56,  2.07it/s]"
     ]
    },
    {
     "name": "stdout",
     "output_type": "stream",
     "text": [
      "Fetching data for movie ID tt26746575 from OMDb...\n"
     ]
    },
    {
     "name": "stderr",
     "output_type": "stream",
     "text": [
      "Fetching movie data:  57%|██████████▎       | 1502/2614 [09:52<08:32,  2.17it/s]"
     ]
    },
    {
     "name": "stdout",
     "output_type": "stream",
     "text": [
      "Fetching data for movie ID tt16114022 from OMDb...\n",
      "Fetching data for movie ID tt4645226 from OMDb...\n"
     ]
    },
    {
     "name": "stderr",
     "output_type": "stream",
     "text": [
      "Fetching movie data:  58%|██████████▎       | 1504/2614 [09:52<06:30,  2.85it/s]"
     ]
    },
    {
     "name": "stdout",
     "output_type": "stream",
     "text": [
      "Fetching data for movie ID tt4731580 from OMDb...\n"
     ]
    },
    {
     "name": "stderr",
     "output_type": "stream",
     "text": [
      "Fetching movie data:  58%|██████████▎       | 1505/2614 [09:54<10:08,  1.82it/s]"
     ]
    },
    {
     "name": "stdout",
     "output_type": "stream",
     "text": [
      "Fetching data for movie ID tt33054622 from OMDb...\n"
     ]
    },
    {
     "name": "stderr",
     "output_type": "stream",
     "text": [
      "Fetching movie data:  58%|██████████▍       | 1507/2614 [09:54<07:28,  2.47it/s]"
     ]
    },
    {
     "name": "stdout",
     "output_type": "stream",
     "text": [
      "Fetching data for movie ID tt32495687 from OMDb...\n",
      "Fetching data for movie ID tt12598848 from OMDb...\n"
     ]
    },
    {
     "name": "stderr",
     "output_type": "stream",
     "text": [
      "Fetching movie data:  58%|██████████▍       | 1508/2614 [09:55<07:30,  2.46it/s]"
     ]
    },
    {
     "name": "stdout",
     "output_type": "stream",
     "text": [
      "Fetching data for movie ID tt2629110 from OMDb...\n"
     ]
    },
    {
     "name": "stderr",
     "output_type": "stream",
     "text": [
      "Fetching movie data:  58%|██████████▍       | 1509/2614 [09:55<07:16,  2.53it/s]"
     ]
    },
    {
     "name": "stdout",
     "output_type": "stream",
     "text": [
      "Fetching data for movie ID tt8485518 from OMDb...\n"
     ]
    },
    {
     "name": "stderr",
     "output_type": "stream",
     "text": [
      "Fetching movie data:  58%|██████████▍       | 1510/2614 [09:55<07:11,  2.56it/s]"
     ]
    },
    {
     "name": "stdout",
     "output_type": "stream",
     "text": [
      "Fetching data for movie ID tt10810312 from OMDb...\n"
     ]
    },
    {
     "name": "stderr",
     "output_type": "stream",
     "text": [
      "Fetching movie data:  58%|██████████▍       | 1511/2614 [09:56<07:28,  2.46it/s]"
     ]
    },
    {
     "name": "stdout",
     "output_type": "stream",
     "text": [
      "Fetching data for movie ID tt8906344 from OMDb...\n"
     ]
    },
    {
     "name": "stderr",
     "output_type": "stream",
     "text": [
      "Fetching movie data:  58%|██████████▍       | 1512/2614 [10:00<29:36,  1.61s/it]"
     ]
    },
    {
     "name": "stdout",
     "output_type": "stream",
     "text": [
      "Fetching data for movie ID tt4458296 from OMDb...\n"
     ]
    },
    {
     "name": "stderr",
     "output_type": "stream",
     "text": [
      "Fetching movie data:  58%|██████████▍       | 1513/2614 [10:02<28:29,  1.55s/it]"
     ]
    },
    {
     "name": "stdout",
     "output_type": "stream",
     "text": [
      "Fetching data for movie ID tt13033424 from OMDb...\n"
     ]
    },
    {
     "name": "stderr",
     "output_type": "stream",
     "text": [
      "Fetching movie data:  58%|██████████▍       | 1514/2614 [10:02<21:58,  1.20s/it]"
     ]
    },
    {
     "name": "stdout",
     "output_type": "stream",
     "text": [
      "Fetching data for movie ID tt9348802 from OMDb...\n"
     ]
    },
    {
     "name": "stderr",
     "output_type": "stream",
     "text": [
      "Fetching movie data:  58%|██████████▍       | 1515/2614 [10:04<24:22,  1.33s/it]"
     ]
    },
    {
     "name": "stdout",
     "output_type": "stream",
     "text": [
      "Fetching data for movie ID tt6131088 from OMDb...\n"
     ]
    },
    {
     "name": "stderr",
     "output_type": "stream",
     "text": [
      "Fetching movie data:  58%|██████████▍       | 1516/2614 [10:04<19:04,  1.04s/it]"
     ]
    },
    {
     "name": "stdout",
     "output_type": "stream",
     "text": [
      "Fetching data for movie ID tt21974544 from OMDb...\n"
     ]
    },
    {
     "name": "stderr",
     "output_type": "stream",
     "text": [
      "Fetching movie data:  58%|██████████▍       | 1517/2614 [10:05<16:14,  1.13it/s]"
     ]
    },
    {
     "name": "stdout",
     "output_type": "stream",
     "text": [
      "Fetching data for movie ID tt19812396 from OMDb...\n"
     ]
    },
    {
     "name": "stderr",
     "output_type": "stream",
     "text": [
      "Fetching movie data:  58%|██████████▍       | 1518/2614 [10:05<13:45,  1.33it/s]"
     ]
    },
    {
     "name": "stdout",
     "output_type": "stream",
     "text": [
      "Fetching data for movie ID tt7665306 from OMDb...\n"
     ]
    },
    {
     "name": "stderr",
     "output_type": "stream",
     "text": [
      "Fetching movie data:  58%|██████████▍       | 1519/2614 [10:05<11:51,  1.54it/s]"
     ]
    },
    {
     "name": "stdout",
     "output_type": "stream",
     "text": [
      "Fetching data for movie ID tt7573822 from OMDb...\n"
     ]
    },
    {
     "name": "stderr",
     "output_type": "stream",
     "text": [
      "Fetching movie data:  58%|██████████▍       | 1520/2614 [10:06<10:32,  1.73it/s]"
     ]
    },
    {
     "name": "stdout",
     "output_type": "stream",
     "text": [
      "Fetching data for movie ID tt10822302 from OMDb...\n"
     ]
    },
    {
     "name": "stderr",
     "output_type": "stream",
     "text": [
      "Fetching movie data:  58%|██████████▍       | 1522/2614 [10:06<07:18,  2.49it/s]"
     ]
    },
    {
     "name": "stdout",
     "output_type": "stream",
     "text": [
      "Fetching data for movie ID tt11947256 from OMDb...\n",
      "Fetching data for movie ID tt4818028 from OMDb...\n"
     ]
    },
    {
     "name": "stderr",
     "output_type": "stream",
     "text": [
      "Fetching movie data:  58%|██████████▍       | 1523/2614 [10:07<07:21,  2.47it/s]"
     ]
    },
    {
     "name": "stdout",
     "output_type": "stream",
     "text": [
      "Fetching data for movie ID tt6199562 from OMDb...\n"
     ]
    },
    {
     "name": "stderr",
     "output_type": "stream",
     "text": [
      "Fetching movie data:  58%|██████████▍       | 1524/2614 [10:07<07:22,  2.46it/s]"
     ]
    },
    {
     "name": "stdout",
     "output_type": "stream",
     "text": [
      "Fetching data for movie ID tt21329902 from OMDb...\n"
     ]
    },
    {
     "name": "stderr",
     "output_type": "stream",
     "text": [
      "Fetching movie data:  58%|██████████▌       | 1525/2614 [10:08<07:24,  2.45it/s]"
     ]
    },
    {
     "name": "stdout",
     "output_type": "stream",
     "text": [
      "Fetching data for movie ID tt9540556 from OMDb...\n"
     ]
    },
    {
     "name": "stderr",
     "output_type": "stream",
     "text": [
      "Fetching movie data:  58%|██████████▌       | 1526/2614 [10:08<07:15,  2.50it/s]"
     ]
    },
    {
     "name": "stdout",
     "output_type": "stream",
     "text": [
      "Fetching data for movie ID tt6914498 from OMDb...\n"
     ]
    },
    {
     "name": "stderr",
     "output_type": "stream",
     "text": [
      "Fetching movie data:  58%|██████████▌       | 1527/2614 [10:08<07:26,  2.44it/s]"
     ]
    },
    {
     "name": "stdout",
     "output_type": "stream",
     "text": [
      "Fetching data for movie ID tt22009116 from OMDb...\n"
     ]
    },
    {
     "name": "stderr",
     "output_type": "stream",
     "text": [
      "Fetching movie data:  58%|██████████▌       | 1528/2614 [10:09<07:58,  2.27it/s]"
     ]
    },
    {
     "name": "stdout",
     "output_type": "stream",
     "text": [
      "Fetching data for movie ID tt27497191 from OMDb...\n"
     ]
    },
    {
     "name": "stderr",
     "output_type": "stream",
     "text": [
      "Fetching movie data:  58%|██████████▌       | 1529/2614 [10:09<07:48,  2.32it/s]"
     ]
    },
    {
     "name": "stdout",
     "output_type": "stream",
     "text": [
      "Fetching data for movie ID tt7546996 from OMDb...\n"
     ]
    },
    {
     "name": "stderr",
     "output_type": "stream",
     "text": [
      "Fetching movie data:  59%|██████████▌       | 1530/2614 [10:10<07:29,  2.41it/s]"
     ]
    },
    {
     "name": "stdout",
     "output_type": "stream",
     "text": [
      "Fetching data for movie ID tt13898164 from OMDb...\n"
     ]
    },
    {
     "name": "stderr",
     "output_type": "stream",
     "text": [
      "Fetching movie data:  59%|██████████▌       | 1531/2614 [10:10<07:27,  2.42it/s]"
     ]
    },
    {
     "name": "stdout",
     "output_type": "stream",
     "text": [
      "Fetching data for movie ID tt12498588 from OMDb...\n"
     ]
    },
    {
     "name": "stderr",
     "output_type": "stream",
     "text": [
      "Fetching movie data:  59%|██████████▌       | 1532/2614 [10:10<07:36,  2.37it/s]"
     ]
    },
    {
     "name": "stdout",
     "output_type": "stream",
     "text": [
      "Fetching data for movie ID tt10014682 from OMDb...\n"
     ]
    },
    {
     "name": "stderr",
     "output_type": "stream",
     "text": [
      "Fetching movie data:  59%|██████████▌       | 1533/2614 [10:11<07:32,  2.39it/s]"
     ]
    },
    {
     "name": "stdout",
     "output_type": "stream",
     "text": [
      "Fetching data for movie ID tt4831682 from OMDb...\n"
     ]
    },
    {
     "name": "stderr",
     "output_type": "stream",
     "text": [
      "Fetching movie data:  59%|██████████▌       | 1534/2614 [10:11<07:28,  2.41it/s]"
     ]
    },
    {
     "name": "stdout",
     "output_type": "stream",
     "text": [
      "Fetching data for movie ID tt17066764 from OMDb...\n"
     ]
    },
    {
     "name": "stderr",
     "output_type": "stream",
     "text": [
      "Fetching movie data:  59%|██████████▌       | 1535/2614 [10:12<07:26,  2.42it/s]"
     ]
    },
    {
     "name": "stdout",
     "output_type": "stream",
     "text": [
      "Fetching data for movie ID tt14399618 from OMDb...\n"
     ]
    },
    {
     "name": "stderr",
     "output_type": "stream",
     "text": [
      "Fetching movie data:  59%|██████████▌       | 1536/2614 [10:12<07:11,  2.50it/s]"
     ]
    },
    {
     "name": "stdout",
     "output_type": "stream",
     "text": [
      "Fetching data for movie ID tt4381018 from OMDb...\n"
     ]
    },
    {
     "name": "stderr",
     "output_type": "stream",
     "text": [
      "Fetching movie data:  59%|██████████▌       | 1537/2614 [10:12<07:12,  2.49it/s]"
     ]
    },
    {
     "name": "stdout",
     "output_type": "stream",
     "text": [
      "Fetching data for movie ID tt29295453 from OMDb...\n"
     ]
    },
    {
     "name": "stderr",
     "output_type": "stream",
     "text": [
      "Fetching movie data:  59%|██████████▌       | 1538/2614 [10:13<07:30,  2.39it/s]"
     ]
    },
    {
     "name": "stdout",
     "output_type": "stream",
     "text": [
      "Fetching data for movie ID tt5891588 from OMDb...\n"
     ]
    },
    {
     "name": "stderr",
     "output_type": "stream",
     "text": [
      "Fetching movie data:  59%|██████████▌       | 1539/2614 [10:13<07:26,  2.41it/s]"
     ]
    },
    {
     "name": "stdout",
     "output_type": "stream",
     "text": [
      "Fetching data for movie ID tt4515070 from OMDb...\n"
     ]
    },
    {
     "name": "stderr",
     "output_type": "stream",
     "text": [
      "Fetching movie data:  59%|██████████▌       | 1540/2614 [10:14<07:24,  2.42it/s]"
     ]
    },
    {
     "name": "stdout",
     "output_type": "stream",
     "text": [
      "Fetching data for movie ID tt6619228 from OMDb...\n"
     ]
    },
    {
     "name": "stderr",
     "output_type": "stream",
     "text": [
      "Fetching movie data:  59%|██████████▌       | 1541/2614 [10:14<07:13,  2.47it/s]"
     ]
    },
    {
     "name": "stdout",
     "output_type": "stream",
     "text": [
      "Fetching data for movie ID tt5514614 from OMDb...\n"
     ]
    },
    {
     "name": "stderr",
     "output_type": "stream",
     "text": [
      "Fetching movie data:  59%|██████████▌       | 1542/2614 [10:14<06:57,  2.57it/s]"
     ]
    },
    {
     "name": "stdout",
     "output_type": "stream",
     "text": [
      "Fetching data for movie ID tt32832418 from OMDb...\n"
     ]
    },
    {
     "name": "stderr",
     "output_type": "stream",
     "text": [
      "Fetching movie data:  59%|██████████▋       | 1543/2614 [10:15<06:57,  2.57it/s]"
     ]
    },
    {
     "name": "stdout",
     "output_type": "stream",
     "text": [
      "Fetching data for movie ID tt13154580 from OMDb...\n"
     ]
    },
    {
     "name": "stderr",
     "output_type": "stream",
     "text": [
      "Fetching movie data:  59%|██████████▋       | 1544/2614 [10:15<07:02,  2.53it/s]"
     ]
    },
    {
     "name": "stdout",
     "output_type": "stream",
     "text": [
      "Fetching data for movie ID tt4040086 from OMDb...\n"
     ]
    },
    {
     "name": "stderr",
     "output_type": "stream",
     "text": [
      "Fetching movie data:  59%|██████████▋       | 1545/2614 [10:16<07:34,  2.35it/s]"
     ]
    },
    {
     "name": "stdout",
     "output_type": "stream",
     "text": [
      "Progress saved after 37900 movies.\n",
      "Fetching data for movie ID tt27616073 from OMDb...\n"
     ]
    },
    {
     "name": "stderr",
     "output_type": "stream",
     "text": [
      "Fetching movie data:  59%|██████████▋       | 1546/2614 [10:16<07:22,  2.41it/s]"
     ]
    },
    {
     "name": "stdout",
     "output_type": "stream",
     "text": [
      "Fetching data for movie ID tt21079488 from OMDb...\n"
     ]
    },
    {
     "name": "stderr",
     "output_type": "stream",
     "text": [
      "Fetching movie data:  59%|██████████▋       | 1547/2614 [10:17<09:14,  1.93it/s]"
     ]
    },
    {
     "name": "stdout",
     "output_type": "stream",
     "text": [
      "Fetching data for movie ID tt6464506 from OMDb...\n"
     ]
    },
    {
     "name": "stderr",
     "output_type": "stream",
     "text": [
      "Fetching movie data:  59%|██████████▋       | 1548/2614 [10:17<08:30,  2.09it/s]"
     ]
    },
    {
     "name": "stdout",
     "output_type": "stream",
     "text": [
      "Fetching data for movie ID tt10128020 from OMDb...\n"
     ]
    },
    {
     "name": "stderr",
     "output_type": "stream",
     "text": [
      "Fetching movie data:  59%|██████████▋       | 1549/2614 [10:18<07:56,  2.23it/s]"
     ]
    },
    {
     "name": "stdout",
     "output_type": "stream",
     "text": [
      "Fetching data for movie ID tt35163045 from OMDb...\n",
      "Fetching data for movie ID tt7323594 from OMDb...\n"
     ]
    },
    {
     "name": "stderr",
     "output_type": "stream",
     "text": [
      "Fetching movie data:  59%|██████████▋       | 1551/2614 [10:18<06:00,  2.95it/s]"
     ]
    },
    {
     "name": "stdout",
     "output_type": "stream",
     "text": [
      "Fetching data for movie ID tt5915078 from OMDb...\n"
     ]
    },
    {
     "name": "stderr",
     "output_type": "stream",
     "text": [
      "Fetching movie data:  59%|██████████▋       | 1552/2614 [10:19<06:16,  2.82it/s]"
     ]
    },
    {
     "name": "stdout",
     "output_type": "stream",
     "text": [
      "Fetching data for movie ID tt29259287 from OMDb...\n"
     ]
    },
    {
     "name": "stderr",
     "output_type": "stream",
     "text": [
      "Fetching movie data:  59%|██████████▋       | 1553/2614 [10:19<06:14,  2.83it/s]"
     ]
    },
    {
     "name": "stdout",
     "output_type": "stream",
     "text": [
      "Fetching data for movie ID tt5161088 from OMDb...\n"
     ]
    },
    {
     "name": "stderr",
     "output_type": "stream",
     "text": [
      "Fetching movie data:  59%|██████████▋       | 1554/2614 [10:19<06:13,  2.84it/s]"
     ]
    },
    {
     "name": "stdout",
     "output_type": "stream",
     "text": [
      "Fetching data for movie ID tt5795382 from OMDb...\n"
     ]
    },
    {
     "name": "stderr",
     "output_type": "stream",
     "text": [
      "Fetching movie data:  59%|██████████▋       | 1555/2614 [10:20<06:15,  2.82it/s]"
     ]
    },
    {
     "name": "stdout",
     "output_type": "stream",
     "text": [
      "Fetching data for movie ID tt4085314 from OMDb...\n"
     ]
    },
    {
     "name": "stderr",
     "output_type": "stream",
     "text": [
      "Fetching movie data:  60%|██████████▋       | 1556/2614 [10:20<06:31,  2.71it/s]"
     ]
    },
    {
     "name": "stdout",
     "output_type": "stream",
     "text": [
      "Fetching data for movie ID tt13303938 from OMDb...\n"
     ]
    },
    {
     "name": "stderr",
     "output_type": "stream",
     "text": [
      "Fetching movie data:  60%|██████████▋       | 1557/2614 [10:20<06:34,  2.68it/s]"
     ]
    },
    {
     "name": "stdout",
     "output_type": "stream",
     "text": [
      "Fetching data for movie ID tt26936122 from OMDb...\n"
     ]
    },
    {
     "name": "stderr",
     "output_type": "stream",
     "text": [
      "Fetching movie data:  60%|██████████▋       | 1558/2614 [10:21<06:46,  2.60it/s]"
     ]
    },
    {
     "name": "stdout",
     "output_type": "stream",
     "text": [
      "Fetching data for movie ID tt7193882 from OMDb...\n"
     ]
    },
    {
     "name": "stderr",
     "output_type": "stream",
     "text": [
      "Fetching movie data:  60%|██████████▋       | 1559/2614 [10:21<06:59,  2.51it/s]"
     ]
    },
    {
     "name": "stdout",
     "output_type": "stream",
     "text": [
      "Fetching data for movie ID tt14071370 from OMDb...\n"
     ]
    },
    {
     "name": "stderr",
     "output_type": "stream",
     "text": [
      "Fetching movie data:  60%|██████████▋       | 1560/2614 [10:22<06:52,  2.56it/s]"
     ]
    },
    {
     "name": "stdout",
     "output_type": "stream",
     "text": [
      "Fetching data for movie ID tt14655208 from OMDb...\n"
     ]
    },
    {
     "name": "stderr",
     "output_type": "stream",
     "text": [
      "Fetching movie data:  60%|██████████▋       | 1561/2614 [10:22<07:07,  2.46it/s]"
     ]
    },
    {
     "name": "stdout",
     "output_type": "stream",
     "text": [
      "Fetching data for movie ID tt10749896 from OMDb...\n"
     ]
    },
    {
     "name": "stderr",
     "output_type": "stream",
     "text": [
      "Fetching movie data:  60%|██████████▊       | 1562/2614 [10:22<06:54,  2.54it/s]"
     ]
    },
    {
     "name": "stdout",
     "output_type": "stream",
     "text": [
      "Fetching data for movie ID tt4084744 from OMDb...\n"
     ]
    },
    {
     "name": "stderr",
     "output_type": "stream",
     "text": [
      "Fetching movie data:  60%|██████████▊       | 1563/2614 [10:23<06:41,  2.62it/s]"
     ]
    },
    {
     "name": "stdout",
     "output_type": "stream",
     "text": [
      "Fetching data for movie ID tt6503248 from OMDb...\n"
     ]
    },
    {
     "name": "stderr",
     "output_type": "stream",
     "text": [
      "Fetching movie data:  60%|██████████▊       | 1564/2614 [10:23<06:53,  2.54it/s]"
     ]
    },
    {
     "name": "stdout",
     "output_type": "stream",
     "text": [
      "Fetching data for movie ID tt29902587 from OMDb...\n"
     ]
    },
    {
     "name": "stderr",
     "output_type": "stream",
     "text": [
      "Fetching movie data:  60%|██████████▊       | 1565/2614 [10:24<06:57,  2.51it/s]"
     ]
    },
    {
     "name": "stdout",
     "output_type": "stream",
     "text": [
      "Fetching data for movie ID tt5562068 from OMDb...\n",
      "Fetching data for movie ID tt28664228 from OMDb...\n"
     ]
    },
    {
     "name": "stderr",
     "output_type": "stream",
     "text": [
      "Fetching movie data:  60%|██████████▊       | 1567/2614 [10:24<05:29,  3.17it/s]"
     ]
    },
    {
     "name": "stdout",
     "output_type": "stream",
     "text": [
      "Fetching data for movie ID tt7401028 from OMDb...\n"
     ]
    },
    {
     "name": "stderr",
     "output_type": "stream",
     "text": [
      "Fetching movie data:  60%|██████████▊       | 1568/2614 [10:26<11:06,  1.57it/s]"
     ]
    },
    {
     "name": "stdout",
     "output_type": "stream",
     "text": [
      "Fetching data for movie ID tt7886858 from OMDb...\n"
     ]
    },
    {
     "name": "stderr",
     "output_type": "stream",
     "text": [
      "Fetching movie data:  60%|██████████▊       | 1569/2614 [10:26<09:52,  1.76it/s]"
     ]
    },
    {
     "name": "stdout",
     "output_type": "stream",
     "text": [
      "Fetching data for movie ID tt11563822 from OMDb...\n",
      "Fetching data for movie ID tt21929372 from OMDb...\n"
     ]
    },
    {
     "name": "stderr",
     "output_type": "stream",
     "text": [
      "Fetching movie data:  60%|██████████▊       | 1571/2614 [10:28<11:19,  1.53it/s]"
     ]
    },
    {
     "name": "stdout",
     "output_type": "stream",
     "text": [
      "Fetching data for movie ID tt3816388 from OMDb...\n"
     ]
    },
    {
     "name": "stderr",
     "output_type": "stream",
     "text": [
      "Fetching movie data:  60%|██████████▊       | 1572/2614 [10:28<10:14,  1.70it/s]"
     ]
    },
    {
     "name": "stdout",
     "output_type": "stream",
     "text": [
      "Fetching data for movie ID tt3717882 from OMDb...\n"
     ]
    },
    {
     "name": "stderr",
     "output_type": "stream",
     "text": [
      "Fetching movie data:  60%|██████████▊       | 1573/2614 [10:28<09:09,  1.90it/s]"
     ]
    },
    {
     "name": "stdout",
     "output_type": "stream",
     "text": [
      "Fetching data for movie ID tt10563186 from OMDb...\n"
     ]
    },
    {
     "name": "stderr",
     "output_type": "stream",
     "text": [
      "Fetching movie data:  60%|██████████▊       | 1574/2614 [10:29<08:45,  1.98it/s]"
     ]
    },
    {
     "name": "stdout",
     "output_type": "stream",
     "text": [
      "Fetching data for movie ID tt3348576 from OMDb...\n"
     ]
    },
    {
     "name": "stderr",
     "output_type": "stream",
     "text": [
      "Fetching movie data:  60%|██████████▊       | 1575/2614 [10:31<18:58,  1.10s/it]"
     ]
    },
    {
     "name": "stdout",
     "output_type": "stream",
     "text": [
      "Fetching data for movie ID tt4548036 from OMDb...\n",
      "Fetching data for movie ID tt6834356 from OMDb...\n"
     ]
    },
    {
     "name": "stderr",
     "output_type": "stream",
     "text": [
      "Fetching movie data:  60%|██████████▊       | 1577/2614 [10:34<19:33,  1.13s/it]"
     ]
    },
    {
     "name": "stdout",
     "output_type": "stream",
     "text": [
      "Fetching data for movie ID tt32628736 from OMDb...\n"
     ]
    },
    {
     "name": "stderr",
     "output_type": "stream",
     "text": [
      "Fetching movie data:  60%|██████████▊       | 1578/2614 [10:34<16:23,  1.05it/s]"
     ]
    },
    {
     "name": "stdout",
     "output_type": "stream",
     "text": [
      "Fetching data for movie ID tt31567229 from OMDb...\n"
     ]
    },
    {
     "name": "stderr",
     "output_type": "stream",
     "text": [
      "Fetching movie data:  60%|██████████▊       | 1579/2614 [10:35<14:10,  1.22it/s]"
     ]
    },
    {
     "name": "stdout",
     "output_type": "stream",
     "text": [
      "Fetching data for movie ID tt7606796 from OMDb...\n"
     ]
    },
    {
     "name": "stderr",
     "output_type": "stream",
     "text": [
      "Fetching movie data:  60%|██████████▉       | 1580/2614 [10:36<15:11,  1.13it/s]"
     ]
    },
    {
     "name": "stdout",
     "output_type": "stream",
     "text": [
      "Fetching data for movie ID tt32270451 from OMDb...\n"
     ]
    },
    {
     "name": "stderr",
     "output_type": "stream",
     "text": [
      "Fetching movie data:  60%|██████████▉       | 1581/2614 [10:36<12:37,  1.36it/s]"
     ]
    },
    {
     "name": "stdout",
     "output_type": "stream",
     "text": [
      "Fetching data for movie ID tt10590038 from OMDb...\n"
     ]
    },
    {
     "name": "stderr",
     "output_type": "stream",
     "text": [
      "Fetching movie data:  61%|██████████▉       | 1582/2614 [10:36<10:57,  1.57it/s]"
     ]
    },
    {
     "name": "stdout",
     "output_type": "stream",
     "text": [
      "Fetching data for movie ID tt5967812 from OMDb...\n"
     ]
    },
    {
     "name": "stderr",
     "output_type": "stream",
     "text": [
      "Fetching movie data:  61%|██████████▉       | 1583/2614 [10:37<09:47,  1.76it/s]"
     ]
    },
    {
     "name": "stdout",
     "output_type": "stream",
     "text": [
      "Fetching data for movie ID tt9100122 from OMDb...\n"
     ]
    },
    {
     "name": "stderr",
     "output_type": "stream",
     "text": [
      "Fetching movie data:  61%|██████████▉       | 1584/2614 [10:37<08:53,  1.93it/s]"
     ]
    },
    {
     "name": "stdout",
     "output_type": "stream",
     "text": [
      "Fetching data for movie ID tt8246270 from OMDb...\n"
     ]
    },
    {
     "name": "stderr",
     "output_type": "stream",
     "text": [
      "Fetching movie data:  61%|██████████▉       | 1586/2614 [10:38<06:27,  2.65it/s]"
     ]
    },
    {
     "name": "stdout",
     "output_type": "stream",
     "text": [
      "Fetching data for movie ID tt32507996 from OMDb...\n",
      "Fetching data for movie ID tt3384118 from OMDb...\n",
      "Fetching data for movie ID tt9146100 from OMDb...\n"
     ]
    },
    {
     "name": "stderr",
     "output_type": "stream",
     "text": [
      "Fetching movie data:  61%|██████████▉       | 1588/2614 [10:38<05:16,  3.24it/s]"
     ]
    },
    {
     "name": "stdout",
     "output_type": "stream",
     "text": [
      "Fetching data for movie ID tt5466692 from OMDb...\n"
     ]
    },
    {
     "name": "stderr",
     "output_type": "stream",
     "text": [
      "Fetching movie data:  61%|██████████▉       | 1589/2614 [10:38<05:31,  3.09it/s]"
     ]
    },
    {
     "name": "stdout",
     "output_type": "stream",
     "text": [
      "Fetching data for movie ID tt29415654 from OMDb...\n"
     ]
    },
    {
     "name": "stderr",
     "output_type": "stream",
     "text": [
      "Fetching movie data:  61%|██████████▉       | 1590/2614 [10:39<05:47,  2.95it/s]"
     ]
    },
    {
     "name": "stdout",
     "output_type": "stream",
     "text": [
      "Fetching data for movie ID tt7834494 from OMDb...\n"
     ]
    },
    {
     "name": "stderr",
     "output_type": "stream",
     "text": [
      "Fetching movie data:  61%|██████████▉       | 1591/2614 [10:39<06:06,  2.79it/s]"
     ]
    },
    {
     "name": "stdout",
     "output_type": "stream",
     "text": [
      "Fetching data for movie ID tt11148086 from OMDb...\n"
     ]
    },
    {
     "name": "stderr",
     "output_type": "stream",
     "text": [
      "Fetching movie data:  61%|██████████▉       | 1592/2614 [10:40<07:48,  2.18it/s]"
     ]
    },
    {
     "name": "stdout",
     "output_type": "stream",
     "text": [
      "Fetching data for movie ID tt5514498 from OMDb...\n"
     ]
    },
    {
     "name": "stderr",
     "output_type": "stream",
     "text": [
      "Fetching movie data:  61%|██████████▉       | 1593/2614 [10:40<07:16,  2.34it/s]"
     ]
    },
    {
     "name": "stdout",
     "output_type": "stream",
     "text": [
      "Fetching data for movie ID tt28793099 from OMDb...\n"
     ]
    },
    {
     "name": "stderr",
     "output_type": "stream",
     "text": [
      "Fetching movie data:  61%|██████████▉       | 1594/2614 [10:41<06:57,  2.44it/s]"
     ]
    },
    {
     "name": "stdout",
     "output_type": "stream",
     "text": [
      "Fetching data for movie ID tt5093770 from OMDb...\n"
     ]
    },
    {
     "name": "stderr",
     "output_type": "stream",
     "text": [
      "Fetching movie data:  61%|██████████▉       | 1595/2614 [10:41<06:57,  2.44it/s]"
     ]
    },
    {
     "name": "stdout",
     "output_type": "stream",
     "text": [
      "Fetching data for movie ID tt3644032 from OMDb...\n"
     ]
    },
    {
     "name": "stderr",
     "output_type": "stream",
     "text": [
      "Fetching movie data:  61%|██████████▉       | 1596/2614 [10:41<06:40,  2.54it/s]"
     ]
    },
    {
     "name": "stdout",
     "output_type": "stream",
     "text": [
      "Fetching data for movie ID tt28083773 from OMDb...\n"
     ]
    },
    {
     "name": "stderr",
     "output_type": "stream",
     "text": [
      "Fetching movie data:  61%|██████████▉       | 1597/2614 [10:42<06:26,  2.63it/s]"
     ]
    },
    {
     "name": "stdout",
     "output_type": "stream",
     "text": [
      "Fetching data for movie ID tt10151866 from OMDb...\n"
     ]
    },
    {
     "name": "stderr",
     "output_type": "stream",
     "text": [
      "Fetching movie data:  61%|███████████       | 1598/2614 [10:42<06:30,  2.60it/s]"
     ]
    },
    {
     "name": "stdout",
     "output_type": "stream",
     "text": [
      "Fetching data for movie ID tt31115226 from OMDb...\n"
     ]
    },
    {
     "name": "stderr",
     "output_type": "stream",
     "text": [
      "Fetching movie data:  61%|███████████       | 1600/2614 [10:43<05:56,  2.84it/s]"
     ]
    },
    {
     "name": "stdout",
     "output_type": "stream",
     "text": [
      "Fetching data for movie ID tt11879314 from OMDb...\n",
      "Fetching data for movie ID tt16162830 from OMDb...\n"
     ]
    },
    {
     "name": "stderr",
     "output_type": "stream",
     "text": [
      "Fetching movie data:  61%|███████████       | 1601/2614 [10:43<05:56,  2.84it/s]"
     ]
    },
    {
     "name": "stdout",
     "output_type": "stream",
     "text": [
      "Fetching data for movie ID tt4056458 from OMDb...\n"
     ]
    },
    {
     "name": "stderr",
     "output_type": "stream",
     "text": [
      "Fetching movie data:  61%|███████████       | 1602/2614 [10:44<05:53,  2.87it/s]"
     ]
    },
    {
     "name": "stdout",
     "output_type": "stream",
     "text": [
      "Fetching data for movie ID tt3470880 from OMDb...\n"
     ]
    },
    {
     "name": "stderr",
     "output_type": "stream",
     "text": [
      "Fetching movie data:  61%|███████████       | 1603/2614 [10:44<05:59,  2.81it/s]"
     ]
    },
    {
     "name": "stdout",
     "output_type": "stream",
     "text": [
      "Fetching data for movie ID tt5917526 from OMDb...\n"
     ]
    },
    {
     "name": "stderr",
     "output_type": "stream",
     "text": [
      "Fetching movie data:  61%|███████████       | 1604/2614 [10:44<06:01,  2.79it/s]"
     ]
    },
    {
     "name": "stdout",
     "output_type": "stream",
     "text": [
      "Fetching data for movie ID tt24225846 from OMDb...\n"
     ]
    },
    {
     "name": "stderr",
     "output_type": "stream",
     "text": [
      "Fetching movie data:  61%|███████████       | 1605/2614 [10:45<06:00,  2.80it/s]"
     ]
    },
    {
     "name": "stdout",
     "output_type": "stream",
     "text": [
      "Fetching data for movie ID tt9203880 from OMDb...\n"
     ]
    },
    {
     "name": "stderr",
     "output_type": "stream",
     "text": [
      "Fetching movie data:  61%|███████████       | 1606/2614 [10:45<06:12,  2.71it/s]"
     ]
    },
    {
     "name": "stdout",
     "output_type": "stream",
     "text": [
      "Fetching data for movie ID tt22045080 from OMDb...\n"
     ]
    },
    {
     "name": "stderr",
     "output_type": "stream",
     "text": [
      "Fetching movie data:  61%|███████████       | 1607/2614 [10:45<06:26,  2.60it/s]"
     ]
    },
    {
     "name": "stdout",
     "output_type": "stream",
     "text": [
      "Fetching data for movie ID tt8427488 from OMDb...\n"
     ]
    },
    {
     "name": "stderr",
     "output_type": "stream",
     "text": [
      "Fetching movie data:  62%|███████████       | 1608/2614 [10:46<06:34,  2.55it/s]"
     ]
    },
    {
     "name": "stdout",
     "output_type": "stream",
     "text": [
      "Fetching data for movie ID tt8518260 from OMDb...\n"
     ]
    },
    {
     "name": "stderr",
     "output_type": "stream",
     "text": [
      "Fetching movie data:  62%|███████████       | 1609/2614 [10:46<06:28,  2.59it/s]"
     ]
    },
    {
     "name": "stdout",
     "output_type": "stream",
     "text": [
      "Fetching data for movie ID tt21926520 from OMDb...\n"
     ]
    },
    {
     "name": "stderr",
     "output_type": "stream",
     "text": [
      "Fetching movie data:  62%|███████████       | 1610/2614 [10:47<06:45,  2.48it/s]"
     ]
    },
    {
     "name": "stdout",
     "output_type": "stream",
     "text": [
      "Fetching data for movie ID tt11690034 from OMDb...\n"
     ]
    },
    {
     "name": "stderr",
     "output_type": "stream",
     "text": [
      "Fetching movie data:  62%|███████████       | 1611/2614 [10:47<06:47,  2.46it/s]"
     ]
    },
    {
     "name": "stdout",
     "output_type": "stream",
     "text": [
      "Fetching data for movie ID tt15420852 from OMDb...\n"
     ]
    },
    {
     "name": "stderr",
     "output_type": "stream",
     "text": [
      "Fetching movie data:  62%|███████████       | 1612/2614 [10:48<06:48,  2.46it/s]"
     ]
    },
    {
     "name": "stdout",
     "output_type": "stream",
     "text": [
      "Fetching data for movie ID tt14030682 from OMDb...\n"
     ]
    },
    {
     "name": "stderr",
     "output_type": "stream",
     "text": [
      "Fetching movie data:  62%|███████████       | 1613/2614 [10:48<06:42,  2.49it/s]"
     ]
    },
    {
     "name": "stdout",
     "output_type": "stream",
     "text": [
      "Fetching data for movie ID tt21093826 from OMDb...\n"
     ]
    },
    {
     "name": "stderr",
     "output_type": "stream",
     "text": [
      "Fetching movie data:  62%|███████████       | 1614/2614 [10:48<06:26,  2.59it/s]"
     ]
    },
    {
     "name": "stdout",
     "output_type": "stream",
     "text": [
      "Fetching data for movie ID tt32743707 from OMDb...\n"
     ]
    },
    {
     "name": "stderr",
     "output_type": "stream",
     "text": [
      "Fetching movie data:  62%|███████████       | 1615/2614 [10:49<06:19,  2.64it/s]"
     ]
    },
    {
     "name": "stdout",
     "output_type": "stream",
     "text": [
      "Fetching data for movie ID tt13257132 from OMDb...\n"
     ]
    },
    {
     "name": "stderr",
     "output_type": "stream",
     "text": [
      "Fetching movie data:  62%|███████████▏      | 1616/2614 [10:49<06:34,  2.53it/s]"
     ]
    },
    {
     "name": "stdout",
     "output_type": "stream",
     "text": [
      "Fetching data for movie ID tt11736478 from OMDb...\n"
     ]
    },
    {
     "name": "stderr",
     "output_type": "stream",
     "text": [
      "Fetching movie data:  62%|███████████▏      | 1617/2614 [10:49<06:28,  2.57it/s]"
     ]
    },
    {
     "name": "stdout",
     "output_type": "stream",
     "text": [
      "Fetching data for movie ID tt7991846 from OMDb...\n"
     ]
    },
    {
     "name": "stderr",
     "output_type": "stream",
     "text": [
      "Fetching movie data:  62%|███████████▏      | 1618/2614 [10:50<06:14,  2.66it/s]"
     ]
    },
    {
     "name": "stdout",
     "output_type": "stream",
     "text": [
      "Fetching data for movie ID tt34894697 from OMDb...\n",
      "Fetching data for movie ID tt9021242 from OMDb...\n"
     ]
    },
    {
     "name": "stderr",
     "output_type": "stream",
     "text": [
      "Fetching movie data:  62%|███████████▏      | 1621/2614 [10:50<04:31,  3.65it/s]"
     ]
    },
    {
     "name": "stdout",
     "output_type": "stream",
     "text": [
      "Fetching data for movie ID tt1856080 from OMDb...\n",
      "Fetching data for movie ID tt25405216 from OMDb...\n"
     ]
    },
    {
     "name": "stderr",
     "output_type": "stream",
     "text": [
      "Fetching movie data:  62%|███████████▏      | 1622/2614 [10:51<05:29,  3.01it/s]"
     ]
    },
    {
     "name": "stdout",
     "output_type": "stream",
     "text": [
      "Fetching data for movie ID tt29702670 from OMDb...\n",
      "Fetching data for movie ID tt10957832 from OMDb...\n"
     ]
    },
    {
     "name": "stderr",
     "output_type": "stream",
     "text": [
      "Fetching movie data:  62%|███████████▏      | 1624/2614 [10:51<04:52,  3.39it/s]"
     ]
    },
    {
     "name": "stdout",
     "output_type": "stream",
     "text": [
      "Fetching data for movie ID tt30818503 from OMDb...\n",
      "Fetching data for movie ID tt5121612 from OMDb...\n"
     ]
    },
    {
     "name": "stderr",
     "output_type": "stream",
     "text": [
      "Fetching movie data:  62%|███████████▏      | 1626/2614 [10:52<04:41,  3.52it/s]"
     ]
    },
    {
     "name": "stdout",
     "output_type": "stream",
     "text": [
      "Fetching data for movie ID tt16907536 from OMDb...\n"
     ]
    },
    {
     "name": "stderr",
     "output_type": "stream",
     "text": [
      "Fetching movie data:  62%|███████████▏      | 1627/2614 [10:52<05:06,  3.22it/s]"
     ]
    },
    {
     "name": "stdout",
     "output_type": "stream",
     "text": [
      "Fetching data for movie ID tt15393652 from OMDb...\n"
     ]
    },
    {
     "name": "stderr",
     "output_type": "stream",
     "text": [
      "Fetching movie data:  62%|███████████▏      | 1628/2614 [10:53<05:30,  2.99it/s]"
     ]
    },
    {
     "name": "stdout",
     "output_type": "stream",
     "text": [
      "Fetching data for movie ID tt21476934 from OMDb...\n"
     ]
    },
    {
     "name": "stderr",
     "output_type": "stream",
     "text": [
      "Fetching movie data:  62%|███████████▏      | 1629/2614 [10:53<05:47,  2.84it/s]"
     ]
    },
    {
     "name": "stdout",
     "output_type": "stream",
     "text": [
      "Fetching data for movie ID tt10313748 from OMDb...\n"
     ]
    },
    {
     "name": "stderr",
     "output_type": "stream",
     "text": [
      "Fetching movie data:  62%|███████████▏      | 1630/2614 [10:54<06:01,  2.72it/s]"
     ]
    },
    {
     "name": "stdout",
     "output_type": "stream",
     "text": [
      "Fetching data for movie ID tt3876400 from OMDb...\n"
     ]
    },
    {
     "name": "stderr",
     "output_type": "stream",
     "text": [
      "Fetching movie data:  62%|███████████▏      | 1631/2614 [10:54<06:12,  2.64it/s]"
     ]
    },
    {
     "name": "stdout",
     "output_type": "stream",
     "text": [
      "Fetching data for movie ID tt14428606 from OMDb...\n"
     ]
    },
    {
     "name": "stderr",
     "output_type": "stream",
     "text": [
      "Fetching movie data:  62%|███████████▏      | 1632/2614 [10:54<06:20,  2.58it/s]"
     ]
    },
    {
     "name": "stdout",
     "output_type": "stream",
     "text": [
      "Fetching data for movie ID tt7579140 from OMDb...\n"
     ]
    },
    {
     "name": "stderr",
     "output_type": "stream",
     "text": [
      "Fetching movie data:  62%|███████████▏      | 1633/2614 [10:55<06:55,  2.36it/s]"
     ]
    },
    {
     "name": "stdout",
     "output_type": "stream",
     "text": [
      "Fetching data for movie ID tt2581306 from OMDb...\n"
     ]
    },
    {
     "name": "stderr",
     "output_type": "stream",
     "text": [
      "Fetching movie data:  63%|███████████▎      | 1635/2614 [10:55<05:26,  3.00it/s]"
     ]
    },
    {
     "name": "stdout",
     "output_type": "stream",
     "text": [
      "Fetching data for movie ID tt22375054 from OMDb...\n",
      "Fetching data for movie ID tt22643900 from OMDb...\n"
     ]
    },
    {
     "name": "stderr",
     "output_type": "stream",
     "text": [
      "Fetching movie data:  63%|███████████▎      | 1636/2614 [10:56<05:29,  2.97it/s]"
     ]
    },
    {
     "name": "stdout",
     "output_type": "stream",
     "text": [
      "Fetching data for movie ID tt4452144 from OMDb...\n"
     ]
    },
    {
     "name": "stderr",
     "output_type": "stream",
     "text": [
      "Fetching movie data:  63%|███████████▎      | 1637/2614 [10:56<05:29,  2.96it/s]"
     ]
    },
    {
     "name": "stdout",
     "output_type": "stream",
     "text": [
      "Fetching data for movie ID tt6794374 from OMDb...\n"
     ]
    },
    {
     "name": "stderr",
     "output_type": "stream",
     "text": [
      "Fetching movie data:  63%|███████████▎      | 1638/2614 [10:57<05:53,  2.76it/s]"
     ]
    },
    {
     "name": "stdout",
     "output_type": "stream",
     "text": [
      "Fetching data for movie ID tt13519018 from OMDb...\n"
     ]
    },
    {
     "name": "stderr",
     "output_type": "stream",
     "text": [
      "Fetching movie data:  63%|███████████▎      | 1639/2614 [10:57<06:06,  2.66it/s]"
     ]
    },
    {
     "name": "stdout",
     "output_type": "stream",
     "text": [
      "Fetching data for movie ID tt7761590 from OMDb...\n"
     ]
    },
    {
     "name": "stderr",
     "output_type": "stream",
     "text": [
      "Fetching movie data:  63%|███████████▎      | 1641/2614 [10:57<04:55,  3.29it/s]"
     ]
    },
    {
     "name": "stdout",
     "output_type": "stream",
     "text": [
      "Fetching data for movie ID tt27348820 from OMDb...\n",
      "Fetching data for movie ID tt3683014 from OMDb...\n"
     ]
    },
    {
     "name": "stderr",
     "output_type": "stream",
     "text": [
      "Fetching movie data:  63%|███████████▎      | 1642/2614 [10:58<05:23,  3.00it/s]"
     ]
    },
    {
     "name": "stdout",
     "output_type": "stream",
     "text": [
      "Fetching data for movie ID tt14317018 from OMDb...\n"
     ]
    },
    {
     "name": "stderr",
     "output_type": "stream",
     "text": [
      "Fetching movie data:  63%|███████████▎      | 1643/2614 [10:58<05:29,  2.95it/s]"
     ]
    },
    {
     "name": "stdout",
     "output_type": "stream",
     "text": [
      "Fetching data for movie ID tt4677852 from OMDb...\n"
     ]
    },
    {
     "name": "stderr",
     "output_type": "stream",
     "text": [
      "Fetching movie data:  63%|███████████▎      | 1644/2614 [10:59<05:32,  2.92it/s]"
     ]
    },
    {
     "name": "stdout",
     "output_type": "stream",
     "text": [
      "Fetching data for movie ID tt11182994 from OMDb...\n"
     ]
    },
    {
     "name": "stderr",
     "output_type": "stream",
     "text": [
      "Fetching movie data:  63%|███████████▎      | 1645/2614 [10:59<05:42,  2.83it/s]"
     ]
    },
    {
     "name": "stdout",
     "output_type": "stream",
     "text": [
      "Fetching data for movie ID tt27368317 from OMDb...\n"
     ]
    },
    {
     "name": "stderr",
     "output_type": "stream",
     "text": [
      "Fetching movie data:  63%|███████████▎      | 1646/2614 [10:59<06:10,  2.61it/s]"
     ]
    },
    {
     "name": "stdout",
     "output_type": "stream",
     "text": [
      "Fetching data for movie ID tt29313435 from OMDb...\n"
     ]
    },
    {
     "name": "stderr",
     "output_type": "stream",
     "text": [
      "Fetching movie data:  63%|███████████▎      | 1647/2614 [11:00<06:11,  2.60it/s]"
     ]
    },
    {
     "name": "stdout",
     "output_type": "stream",
     "text": [
      "Fetching data for movie ID tt33062686 from OMDb...\n"
     ]
    },
    {
     "name": "stderr",
     "output_type": "stream",
     "text": [
      "Fetching movie data:  63%|███████████▎      | 1648/2614 [11:00<06:07,  2.63it/s]"
     ]
    },
    {
     "name": "stdout",
     "output_type": "stream",
     "text": [
      "Fetching data for movie ID tt32125100 from OMDb...\n",
      "Fetching data for movie ID tt12474292 from OMDb...\n"
     ]
    },
    {
     "name": "stderr",
     "output_type": "stream",
     "text": [
      "Fetching movie data:  63%|███████████▎      | 1650/2614 [11:01<04:56,  3.25it/s]"
     ]
    },
    {
     "name": "stdout",
     "output_type": "stream",
     "text": [
      "Fetching data for movie ID tt12252138 from OMDb...\n"
     ]
    },
    {
     "name": "stderr",
     "output_type": "stream",
     "text": [
      "Fetching movie data:  63%|███████████▎      | 1651/2614 [11:01<05:59,  2.68it/s]"
     ]
    },
    {
     "name": "stdout",
     "output_type": "stream",
     "text": [
      "Progress saved after 38000 movies.\n",
      "Fetching data for movie ID tt12617838 from OMDb...\n"
     ]
    },
    {
     "name": "stderr",
     "output_type": "stream",
     "text": [
      "Fetching movie data:  63%|███████████▍      | 1652/2614 [11:02<06:26,  2.49it/s]"
     ]
    },
    {
     "name": "stdout",
     "output_type": "stream",
     "text": [
      "Fetching data for movie ID tt5119108 from OMDb...\n"
     ]
    },
    {
     "name": "stderr",
     "output_type": "stream",
     "text": [
      "Fetching movie data:  63%|███████████▍      | 1653/2614 [11:02<06:10,  2.59it/s]"
     ]
    },
    {
     "name": "stdout",
     "output_type": "stream",
     "text": [
      "Fetching data for movie ID tt6866948 from OMDb...\n"
     ]
    },
    {
     "name": "stderr",
     "output_type": "stream",
     "text": [
      "Fetching movie data:  63%|███████████▍      | 1654/2614 [11:02<06:08,  2.60it/s]"
     ]
    },
    {
     "name": "stdout",
     "output_type": "stream",
     "text": [
      "Fetching data for movie ID tt6509862 from OMDb...\n"
     ]
    },
    {
     "name": "stderr",
     "output_type": "stream",
     "text": [
      "Fetching movie data:  63%|███████████▍      | 1655/2614 [11:03<06:05,  2.62it/s]"
     ]
    },
    {
     "name": "stdout",
     "output_type": "stream",
     "text": [
      "Fetching data for movie ID tt9529786 from OMDb...\n"
     ]
    },
    {
     "name": "stderr",
     "output_type": "stream",
     "text": [
      "Fetching movie data:  63%|███████████▍      | 1656/2614 [11:03<06:12,  2.57it/s]"
     ]
    },
    {
     "name": "stdout",
     "output_type": "stream",
     "text": [
      "Fetching data for movie ID tt30094174 from OMDb...\n"
     ]
    },
    {
     "name": "stderr",
     "output_type": "stream",
     "text": [
      "Fetching movie data:  63%|███████████▍      | 1658/2614 [11:04<04:51,  3.28it/s]"
     ]
    },
    {
     "name": "stdout",
     "output_type": "stream",
     "text": [
      "Fetching data for movie ID tt34718855 from OMDb...\n",
      "Fetching data for movie ID tt3856118 from OMDb...\n"
     ]
    },
    {
     "name": "stderr",
     "output_type": "stream",
     "text": [
      "Fetching movie data:  63%|███████████▍      | 1659/2614 [11:04<05:08,  3.10it/s]"
     ]
    },
    {
     "name": "stdout",
     "output_type": "stream",
     "text": [
      "Fetching data for movie ID tt6737956 from OMDb...\n"
     ]
    },
    {
     "name": "stderr",
     "output_type": "stream",
     "text": [
      "Fetching movie data:  64%|███████████▍      | 1660/2614 [11:04<05:29,  2.89it/s]"
     ]
    },
    {
     "name": "stdout",
     "output_type": "stream",
     "text": [
      "Fetching data for movie ID tt8346546 from OMDb...\n"
     ]
    },
    {
     "name": "stderr",
     "output_type": "stream",
     "text": [
      "Fetching movie data:  64%|███████████▍      | 1661/2614 [11:05<05:31,  2.88it/s]"
     ]
    },
    {
     "name": "stdout",
     "output_type": "stream",
     "text": [
      "Fetching data for movie ID tt34387755 from OMDb...\n"
     ]
    },
    {
     "name": "stderr",
     "output_type": "stream",
     "text": [
      "Fetching movie data:  64%|███████████▍      | 1662/2614 [11:05<05:30,  2.88it/s]"
     ]
    },
    {
     "name": "stdout",
     "output_type": "stream",
     "text": [
      "Fetching data for movie ID tt5469654 from OMDb...\n"
     ]
    },
    {
     "name": "stderr",
     "output_type": "stream",
     "text": [
      "Fetching movie data:  64%|███████████▍      | 1663/2614 [11:06<05:46,  2.74it/s]"
     ]
    },
    {
     "name": "stdout",
     "output_type": "stream",
     "text": [
      "Fetching data for movie ID tt7903506 from OMDb...\n"
     ]
    },
    {
     "name": "stderr",
     "output_type": "stream",
     "text": [
      "Fetching movie data:  64%|███████████▍      | 1664/2614 [11:06<05:39,  2.80it/s]"
     ]
    },
    {
     "name": "stdout",
     "output_type": "stream",
     "text": [
      "Fetching data for movie ID tt9563348 from OMDb...\n"
     ]
    },
    {
     "name": "stderr",
     "output_type": "stream",
     "text": [
      "Fetching movie data:  64%|███████████▍      | 1665/2614 [11:06<04:57,  3.19it/s]"
     ]
    },
    {
     "name": "stdout",
     "output_type": "stream",
     "text": [
      "Fetching data for movie ID tt7618582 from OMDb...\n"
     ]
    },
    {
     "name": "stderr",
     "output_type": "stream",
     "text": [
      "Fetching movie data:  64%|███████████▍      | 1666/2614 [11:06<05:08,  3.07it/s]"
     ]
    },
    {
     "name": "stdout",
     "output_type": "stream",
     "text": [
      "Fetching data for movie ID tt7631294 from OMDb...\n"
     ]
    },
    {
     "name": "stderr",
     "output_type": "stream",
     "text": [
      "Fetching movie data:  64%|███████████▍      | 1667/2614 [11:07<05:22,  2.94it/s]"
     ]
    },
    {
     "name": "stdout",
     "output_type": "stream",
     "text": [
      "Fetching data for movie ID tt9232092 from OMDb...\n"
     ]
    },
    {
     "name": "stderr",
     "output_type": "stream",
     "text": [
      "Fetching movie data:  64%|███████████▍      | 1668/2614 [11:07<05:32,  2.85it/s]"
     ]
    },
    {
     "name": "stdout",
     "output_type": "stream",
     "text": [
      "Fetching data for movie ID tt30588749 from OMDb...\n"
     ]
    },
    {
     "name": "stderr",
     "output_type": "stream",
     "text": [
      "Fetching movie data:  64%|███████████▍      | 1669/2614 [11:08<05:28,  2.88it/s]"
     ]
    },
    {
     "name": "stdout",
     "output_type": "stream",
     "text": [
      "Fetching data for movie ID tt4766456 from OMDb...\n"
     ]
    },
    {
     "name": "stderr",
     "output_type": "stream",
     "text": [
      "Fetching movie data:  64%|███████████▍      | 1670/2614 [11:08<05:36,  2.80it/s]"
     ]
    },
    {
     "name": "stdout",
     "output_type": "stream",
     "text": [
      "Fetching data for movie ID tt9204136 from OMDb...\n"
     ]
    },
    {
     "name": "stderr",
     "output_type": "stream",
     "text": [
      "Fetching movie data:  64%|███████████▌      | 1671/2614 [11:08<05:35,  2.81it/s]"
     ]
    },
    {
     "name": "stdout",
     "output_type": "stream",
     "text": [
      "Fetching data for movie ID tt3747548 from OMDb...\n"
     ]
    },
    {
     "name": "stderr",
     "output_type": "stream",
     "text": [
      "Fetching movie data:  64%|███████████▌      | 1672/2614 [11:09<05:33,  2.82it/s]"
     ]
    },
    {
     "name": "stdout",
     "output_type": "stream",
     "text": [
      "Fetching data for movie ID tt32119175 from OMDb...\n"
     ]
    },
    {
     "name": "stderr",
     "output_type": "stream",
     "text": [
      "Fetching movie data:  64%|███████████▌      | 1673/2614 [11:09<05:53,  2.66it/s]"
     ]
    },
    {
     "name": "stdout",
     "output_type": "stream",
     "text": [
      "Fetching data for movie ID tt15824180 from OMDb...\n"
     ]
    },
    {
     "name": "stderr",
     "output_type": "stream",
     "text": [
      "Fetching movie data:  64%|███████████▌      | 1674/2614 [11:09<06:01,  2.60it/s]"
     ]
    },
    {
     "name": "stdout",
     "output_type": "stream",
     "text": [
      "Fetching data for movie ID tt6099470 from OMDb...\n"
     ]
    },
    {
     "name": "stderr",
     "output_type": "stream",
     "text": [
      "Fetching movie data:  64%|███████████▌      | 1675/2614 [11:10<06:02,  2.59it/s]"
     ]
    },
    {
     "name": "stdout",
     "output_type": "stream",
     "text": [
      "Fetching data for movie ID tt32890119 from OMDb...\n"
     ]
    },
    {
     "name": "stderr",
     "output_type": "stream",
     "text": [
      "Fetching movie data:  64%|███████████▌      | 1676/2614 [11:10<05:51,  2.67it/s]"
     ]
    },
    {
     "name": "stdout",
     "output_type": "stream",
     "text": [
      "Fetching data for movie ID tt10536088 from OMDb...\n",
      "Fetching data for movie ID tt4456796 from OMDb...\n"
     ]
    },
    {
     "name": "stderr",
     "output_type": "stream",
     "text": [
      "Fetching movie data:  64%|███████████▌      | 1678/2614 [11:11<04:41,  3.33it/s]"
     ]
    },
    {
     "name": "stdout",
     "output_type": "stream",
     "text": [
      "Fetching data for movie ID tt3362914 from OMDb...\n"
     ]
    },
    {
     "name": "stderr",
     "output_type": "stream",
     "text": [
      "Fetching movie data:  64%|███████████▌      | 1679/2614 [11:11<04:52,  3.20it/s]"
     ]
    },
    {
     "name": "stdout",
     "output_type": "stream",
     "text": [
      "Fetching data for movie ID tt7474562 from OMDb...\n"
     ]
    },
    {
     "name": "stderr",
     "output_type": "stream",
     "text": [
      "Fetching movie data:  64%|███████████▌      | 1680/2614 [11:11<05:08,  3.02it/s]"
     ]
    },
    {
     "name": "stdout",
     "output_type": "stream",
     "text": [
      "Fetching data for movie ID tt3223822 from OMDb...\n"
     ]
    },
    {
     "name": "stderr",
     "output_type": "stream",
     "text": [
      "Fetching movie data:  64%|███████████▌      | 1681/2614 [11:12<05:19,  2.92it/s]"
     ]
    },
    {
     "name": "stdout",
     "output_type": "stream",
     "text": [
      "Fetching data for movie ID tt9186300 from OMDb...\n"
     ]
    },
    {
     "name": "stderr",
     "output_type": "stream",
     "text": [
      "Fetching movie data:  64%|███████████▌      | 1682/2614 [11:12<05:33,  2.80it/s]"
     ]
    },
    {
     "name": "stdout",
     "output_type": "stream",
     "text": [
      "Fetching data for movie ID tt13381376 from OMDb...\n"
     ]
    },
    {
     "name": "stderr",
     "output_type": "stream",
     "text": [
      "Fetching movie data:  64%|███████████▌      | 1683/2614 [11:12<05:31,  2.81it/s]"
     ]
    },
    {
     "name": "stdout",
     "output_type": "stream",
     "text": [
      "Fetching data for movie ID tt15063026 from OMDb...\n"
     ]
    },
    {
     "name": "stderr",
     "output_type": "stream",
     "text": [
      "Fetching movie data:  64%|███████████▌      | 1684/2614 [11:13<06:01,  2.57it/s]"
     ]
    },
    {
     "name": "stdout",
     "output_type": "stream",
     "text": [
      "Fetching data for movie ID tt29425910 from OMDb...\n"
     ]
    },
    {
     "name": "stderr",
     "output_type": "stream",
     "text": [
      "Fetching movie data:  64%|███████████▌      | 1685/2614 [11:13<06:06,  2.54it/s]"
     ]
    },
    {
     "name": "stdout",
     "output_type": "stream",
     "text": [
      "Fetching data for movie ID tt5647942 from OMDb...\n"
     ]
    },
    {
     "name": "stderr",
     "output_type": "stream",
     "text": [
      "Fetching movie data:  64%|███████████▌      | 1686/2614 [11:14<06:10,  2.51it/s]"
     ]
    },
    {
     "name": "stdout",
     "output_type": "stream",
     "text": [
      "Fetching data for movie ID tt10640710 from OMDb...\n"
     ]
    },
    {
     "name": "stderr",
     "output_type": "stream",
     "text": [
      "Fetching movie data:  65%|███████████▌      | 1687/2614 [11:14<06:07,  2.52it/s]"
     ]
    },
    {
     "name": "stdout",
     "output_type": "stream",
     "text": [
      "Fetching data for movie ID tt12760008 from OMDb...\n"
     ]
    },
    {
     "name": "stderr",
     "output_type": "stream",
     "text": [
      "Fetching movie data:  65%|███████████▌      | 1688/2614 [11:15<06:00,  2.57it/s]"
     ]
    },
    {
     "name": "stdout",
     "output_type": "stream",
     "text": [
      "Fetching data for movie ID tt3249750 from OMDb...\n"
     ]
    },
    {
     "name": "stderr",
     "output_type": "stream",
     "text": [
      "Fetching movie data:  65%|███████████▋      | 1689/2614 [11:15<05:52,  2.62it/s]"
     ]
    },
    {
     "name": "stdout",
     "output_type": "stream",
     "text": [
      "Fetching data for movie ID tt30609236 from OMDb...\n"
     ]
    },
    {
     "name": "stderr",
     "output_type": "stream",
     "text": [
      "Fetching movie data:  65%|███████████▋      | 1690/2614 [11:15<05:53,  2.61it/s]"
     ]
    },
    {
     "name": "stdout",
     "output_type": "stream",
     "text": [
      "Fetching data for movie ID tt5918088 from OMDb...\n"
     ]
    },
    {
     "name": "stderr",
     "output_type": "stream",
     "text": [
      "Fetching movie data:  65%|███████████▋      | 1691/2614 [11:16<05:42,  2.69it/s]"
     ]
    },
    {
     "name": "stdout",
     "output_type": "stream",
     "text": [
      "Fetching data for movie ID tt11534360 from OMDb...\n"
     ]
    },
    {
     "name": "stderr",
     "output_type": "stream",
     "text": [
      "Fetching movie data:  65%|███████████▋      | 1692/2614 [11:16<05:36,  2.74it/s]"
     ]
    },
    {
     "name": "stdout",
     "output_type": "stream",
     "text": [
      "Fetching data for movie ID tt7084860 from OMDb...\n"
     ]
    },
    {
     "name": "stderr",
     "output_type": "stream",
     "text": [
      "Fetching movie data:  65%|███████████▋      | 1693/2614 [11:16<05:39,  2.71it/s]"
     ]
    },
    {
     "name": "stdout",
     "output_type": "stream",
     "text": [
      "Fetching data for movie ID tt11905144 from OMDb...\n"
     ]
    },
    {
     "name": "stderr",
     "output_type": "stream",
     "text": [
      "Fetching movie data:  65%|███████████▋      | 1694/2614 [11:17<05:49,  2.64it/s]"
     ]
    },
    {
     "name": "stdout",
     "output_type": "stream",
     "text": [
      "Fetching data for movie ID tt32394389 from OMDb...\n"
     ]
    },
    {
     "name": "stderr",
     "output_type": "stream",
     "text": [
      "Fetching movie data:  65%|███████████▋      | 1695/2614 [11:17<05:46,  2.66it/s]"
     ]
    },
    {
     "name": "stdout",
     "output_type": "stream",
     "text": [
      "Fetching data for movie ID tt14183380 from OMDb...\n"
     ]
    },
    {
     "name": "stderr",
     "output_type": "stream",
     "text": [
      "Fetching movie data:  65%|███████████▋      | 1696/2614 [11:18<05:59,  2.55it/s]"
     ]
    },
    {
     "name": "stdout",
     "output_type": "stream",
     "text": [
      "Fetching data for movie ID tt16591574 from OMDb...\n"
     ]
    },
    {
     "name": "stderr",
     "output_type": "stream",
     "text": [
      "Fetching movie data:  65%|███████████▋      | 1697/2614 [11:18<06:01,  2.53it/s]"
     ]
    },
    {
     "name": "stdout",
     "output_type": "stream",
     "text": [
      "Fetching data for movie ID tt5866694 from OMDb...\n",
      "Fetching data for movie ID tt27919746 from OMDb...\n"
     ]
    },
    {
     "name": "stderr",
     "output_type": "stream",
     "text": [
      "Fetching movie data:  65%|███████████▋      | 1699/2614 [11:18<04:54,  3.11it/s]"
     ]
    },
    {
     "name": "stdout",
     "output_type": "stream",
     "text": [
      "Fetching data for movie ID tt6061558 from OMDb...\n",
      "Fetching data for movie ID tt6893814 from OMDb...\n"
     ]
    },
    {
     "name": "stderr",
     "output_type": "stream",
     "text": [
      "Fetching movie data:  65%|███████████▋      | 1701/2614 [11:19<04:14,  3.59it/s]"
     ]
    },
    {
     "name": "stdout",
     "output_type": "stream",
     "text": [
      "Fetching data for movie ID tt26502225 from OMDb...\n"
     ]
    },
    {
     "name": "stderr",
     "output_type": "stream",
     "text": [
      "Fetching movie data:  65%|███████████▋      | 1702/2614 [11:19<04:29,  3.38it/s]"
     ]
    },
    {
     "name": "stdout",
     "output_type": "stream",
     "text": [
      "Fetching data for movie ID tt10210810 from OMDb...\n"
     ]
    },
    {
     "name": "stderr",
     "output_type": "stream",
     "text": [
      "Fetching movie data:  65%|███████████▋      | 1703/2614 [11:20<04:46,  3.18it/s]"
     ]
    },
    {
     "name": "stdout",
     "output_type": "stream",
     "text": [
      "Fetching data for movie ID tt14774958 from OMDb...\n"
     ]
    },
    {
     "name": "stderr",
     "output_type": "stream",
     "text": [
      "Fetching movie data:  65%|███████████▋      | 1704/2614 [11:20<05:13,  2.90it/s]"
     ]
    },
    {
     "name": "stdout",
     "output_type": "stream",
     "text": [
      "Fetching data for movie ID tt7614030 from OMDb...\n"
     ]
    },
    {
     "name": "stderr",
     "output_type": "stream",
     "text": [
      "Fetching movie data:  65%|███████████▋      | 1705/2614 [11:20<05:28,  2.77it/s]"
     ]
    },
    {
     "name": "stdout",
     "output_type": "stream",
     "text": [
      "Fetching data for movie ID tt27127520 from OMDb...\n"
     ]
    },
    {
     "name": "stderr",
     "output_type": "stream",
     "text": [
      "Fetching movie data:  65%|███████████▋      | 1706/2614 [11:21<05:24,  2.79it/s]"
     ]
    },
    {
     "name": "stdout",
     "output_type": "stream",
     "text": [
      "Fetching data for movie ID tt7319906 from OMDb...\n"
     ]
    },
    {
     "name": "stderr",
     "output_type": "stream",
     "text": [
      "Fetching movie data:  65%|███████████▊      | 1707/2614 [11:21<05:37,  2.69it/s]"
     ]
    },
    {
     "name": "stdout",
     "output_type": "stream",
     "text": [
      "Fetching data for movie ID tt8516398 from OMDb...\n"
     ]
    },
    {
     "name": "stderr",
     "output_type": "stream",
     "text": [
      "Fetching movie data:  65%|███████████▊      | 1708/2614 [11:22<05:33,  2.71it/s]"
     ]
    },
    {
     "name": "stdout",
     "output_type": "stream",
     "text": [
      "Fetching data for movie ID tt15180374 from OMDb...\n"
     ]
    },
    {
     "name": "stderr",
     "output_type": "stream",
     "text": [
      "Fetching movie data:  65%|███████████▊      | 1709/2614 [11:22<05:46,  2.61it/s]"
     ]
    },
    {
     "name": "stdout",
     "output_type": "stream",
     "text": [
      "Fetching data for movie ID tt9640670 from OMDb...\n"
     ]
    },
    {
     "name": "stderr",
     "output_type": "stream",
     "text": [
      "Fetching movie data:  65%|███████████▊      | 1710/2614 [11:22<05:53,  2.56it/s]"
     ]
    },
    {
     "name": "stdout",
     "output_type": "stream",
     "text": [
      "Fetching data for movie ID tt6400614 from OMDb...\n"
     ]
    },
    {
     "name": "stderr",
     "output_type": "stream",
     "text": [
      "Fetching movie data:  65%|███████████▊      | 1711/2614 [11:24<10:42,  1.41it/s]"
     ]
    },
    {
     "name": "stdout",
     "output_type": "stream",
     "text": [
      "Fetching data for movie ID tt27604620 from OMDb...\n"
     ]
    },
    {
     "name": "stderr",
     "output_type": "stream",
     "text": [
      "Fetching movie data:  65%|███████████▊      | 1712/2614 [11:24<09:05,  1.65it/s]"
     ]
    },
    {
     "name": "stdout",
     "output_type": "stream",
     "text": [
      "Fetching data for movie ID tt3263996 from OMDb...\n"
     ]
    },
    {
     "name": "stderr",
     "output_type": "stream",
     "text": [
      "Fetching movie data:  66%|███████████▊      | 1713/2614 [11:25<08:00,  1.88it/s]"
     ]
    },
    {
     "name": "stdout",
     "output_type": "stream",
     "text": [
      "Fetching data for movie ID tt11370456 from OMDb...\n"
     ]
    },
    {
     "name": "stderr",
     "output_type": "stream",
     "text": [
      "Fetching movie data:  66%|███████████▊      | 1714/2614 [11:25<07:13,  2.08it/s]"
     ]
    },
    {
     "name": "stdout",
     "output_type": "stream",
     "text": [
      "Fetching data for movie ID tt25598548 from OMDb...\n"
     ]
    },
    {
     "name": "stderr",
     "output_type": "stream",
     "text": [
      "Fetching movie data:  66%|███████████▊      | 1715/2614 [11:25<06:44,  2.22it/s]"
     ]
    },
    {
     "name": "stdout",
     "output_type": "stream",
     "text": [
      "Fetching data for movie ID tt10887662 from OMDb...\n"
     ]
    },
    {
     "name": "stderr",
     "output_type": "stream",
     "text": [
      "Fetching movie data:  66%|███████████▊      | 1716/2614 [11:26<06:21,  2.35it/s]"
     ]
    },
    {
     "name": "stdout",
     "output_type": "stream",
     "text": [
      "Fetching data for movie ID tt11269374 from OMDb...\n"
     ]
    },
    {
     "name": "stderr",
     "output_type": "stream",
     "text": [
      "Fetching movie data:  66%|███████████▊      | 1717/2614 [11:26<06:16,  2.38it/s]"
     ]
    },
    {
     "name": "stdout",
     "output_type": "stream",
     "text": [
      "Fetching data for movie ID tt27918995 from OMDb...\n"
     ]
    },
    {
     "name": "stderr",
     "output_type": "stream",
     "text": [
      "Fetching movie data:  66%|███████████▊      | 1718/2614 [11:27<06:36,  2.26it/s]"
     ]
    },
    {
     "name": "stdout",
     "output_type": "stream",
     "text": [
      "Fetching data for movie ID tt13793184 from OMDb...\n"
     ]
    },
    {
     "name": "stderr",
     "output_type": "stream",
     "text": [
      "Fetching movie data:  66%|███████████▊      | 1720/2614 [11:27<04:59,  2.98it/s]"
     ]
    },
    {
     "name": "stdout",
     "output_type": "stream",
     "text": [
      "Fetching data for movie ID tt35498960 from OMDb...\n",
      "Fetching data for movie ID tt7399106 from OMDb...\n"
     ]
    },
    {
     "name": "stderr",
     "output_type": "stream",
     "text": [
      "Fetching movie data:  66%|███████████▊      | 1721/2614 [11:27<05:18,  2.80it/s]"
     ]
    },
    {
     "name": "stdout",
     "output_type": "stream",
     "text": [
      "Fetching data for movie ID tt6412776 from OMDb...\n"
     ]
    },
    {
     "name": "stderr",
     "output_type": "stream",
     "text": [
      "Fetching movie data:  66%|███████████▊      | 1722/2614 [11:28<05:32,  2.68it/s]"
     ]
    },
    {
     "name": "stdout",
     "output_type": "stream",
     "text": [
      "Fetching data for movie ID tt6302424 from OMDb...\n"
     ]
    },
    {
     "name": "stderr",
     "output_type": "stream",
     "text": [
      "Fetching movie data:  66%|███████████▊      | 1723/2614 [11:28<05:27,  2.72it/s]"
     ]
    },
    {
     "name": "stdout",
     "output_type": "stream",
     "text": [
      "Fetching data for movie ID tt29082207 from OMDb...\n"
     ]
    },
    {
     "name": "stderr",
     "output_type": "stream",
     "text": [
      "Fetching movie data:  66%|███████████▊      | 1724/2614 [11:29<05:37,  2.64it/s]"
     ]
    },
    {
     "name": "stdout",
     "output_type": "stream",
     "text": [
      "Fetching data for movie ID tt15389086 from OMDb...\n"
     ]
    },
    {
     "name": "stderr",
     "output_type": "stream",
     "text": [
      "Fetching movie data:  66%|███████████▉      | 1725/2614 [11:29<05:59,  2.47it/s]"
     ]
    },
    {
     "name": "stdout",
     "output_type": "stream",
     "text": [
      "Fetching data for movie ID tt11080716 from OMDb...\n"
     ]
    },
    {
     "name": "stderr",
     "output_type": "stream",
     "text": [
      "Fetching movie data:  66%|███████████▉      | 1726/2614 [11:30<06:00,  2.46it/s]"
     ]
    },
    {
     "name": "stdout",
     "output_type": "stream",
     "text": [
      "Fetching data for movie ID tt8264508 from OMDb...\n"
     ]
    },
    {
     "name": "stderr",
     "output_type": "stream",
     "text": [
      "Fetching movie data:  66%|███████████▉      | 1727/2614 [11:30<05:56,  2.49it/s]"
     ]
    },
    {
     "name": "stdout",
     "output_type": "stream",
     "text": [
      "Fetching data for movie ID tt4824294 from OMDb...\n"
     ]
    },
    {
     "name": "stderr",
     "output_type": "stream",
     "text": [
      "Fetching movie data:  66%|███████████▉      | 1728/2614 [11:30<06:02,  2.44it/s]"
     ]
    },
    {
     "name": "stdout",
     "output_type": "stream",
     "text": [
      "Fetching data for movie ID tt19759596 from OMDb...\n"
     ]
    },
    {
     "name": "stderr",
     "output_type": "stream",
     "text": [
      "Fetching movie data:  66%|███████████▉      | 1729/2614 [11:31<05:52,  2.51it/s]"
     ]
    },
    {
     "name": "stdout",
     "output_type": "stream",
     "text": [
      "Fetching data for movie ID tt28377858 from OMDb...\n"
     ]
    },
    {
     "name": "stderr",
     "output_type": "stream",
     "text": [
      "Fetching movie data:  66%|███████████▉      | 1730/2614 [11:31<05:34,  2.64it/s]"
     ]
    },
    {
     "name": "stdout",
     "output_type": "stream",
     "text": [
      "Fetching data for movie ID tt4712272 from OMDb...\n"
     ]
    },
    {
     "name": "stderr",
     "output_type": "stream",
     "text": [
      "Fetching movie data:  66%|███████████▉      | 1731/2614 [11:31<05:25,  2.71it/s]"
     ]
    },
    {
     "name": "stdout",
     "output_type": "stream",
     "text": [
      "Fetching data for movie ID tt3779880 from OMDb...\n"
     ]
    },
    {
     "name": "stderr",
     "output_type": "stream",
     "text": [
      "Fetching movie data:  66%|███████████▉      | 1732/2614 [11:32<05:29,  2.68it/s]"
     ]
    },
    {
     "name": "stdout",
     "output_type": "stream",
     "text": [
      "Fetching data for movie ID tt3557580 from OMDb...\n"
     ]
    },
    {
     "name": "stderr",
     "output_type": "stream",
     "text": [
      "Fetching movie data:  66%|███████████▉      | 1733/2614 [11:32<05:34,  2.64it/s]"
     ]
    },
    {
     "name": "stdout",
     "output_type": "stream",
     "text": [
      "Fetching data for movie ID tt8219520 from OMDb...\n"
     ]
    },
    {
     "name": "stderr",
     "output_type": "stream",
     "text": [
      "Fetching movie data:  66%|███████████▉      | 1734/2614 [11:33<05:34,  2.63it/s]"
     ]
    },
    {
     "name": "stdout",
     "output_type": "stream",
     "text": [
      "Fetching data for movie ID tt6537972 from OMDb...\n"
     ]
    },
    {
     "name": "stderr",
     "output_type": "stream",
     "text": [
      "Fetching movie data:  66%|███████████▉      | 1735/2614 [11:33<05:53,  2.49it/s]"
     ]
    },
    {
     "name": "stdout",
     "output_type": "stream",
     "text": [
      "Fetching data for movie ID tt15163886 from OMDb...\n"
     ]
    },
    {
     "name": "stderr",
     "output_type": "stream",
     "text": [
      "Fetching movie data:  66%|███████████▉      | 1736/2614 [11:33<05:39,  2.58it/s]"
     ]
    },
    {
     "name": "stdout",
     "output_type": "stream",
     "text": [
      "Fetching data for movie ID tt27917168 from OMDb...\n"
     ]
    },
    {
     "name": "stderr",
     "output_type": "stream",
     "text": [
      "Fetching movie data:  66%|███████████▉      | 1737/2614 [11:34<06:01,  2.43it/s]"
     ]
    },
    {
     "name": "stdout",
     "output_type": "stream",
     "text": [
      "Fetching data for movie ID tt14839982 from OMDb...\n"
     ]
    },
    {
     "name": "stderr",
     "output_type": "stream",
     "text": [
      "Fetching movie data:  66%|███████████▉      | 1738/2614 [11:34<06:26,  2.27it/s]"
     ]
    },
    {
     "name": "stdout",
     "output_type": "stream",
     "text": [
      "Fetching data for movie ID tt16043614 from OMDb...\n"
     ]
    },
    {
     "name": "stderr",
     "output_type": "stream",
     "text": [
      "Fetching movie data:  67%|███████████▉      | 1739/2614 [11:35<06:44,  2.16it/s]"
     ]
    },
    {
     "name": "stdout",
     "output_type": "stream",
     "text": [
      "Fetching data for movie ID tt3161852 from OMDb...\n"
     ]
    },
    {
     "name": "stderr",
     "output_type": "stream",
     "text": [
      "Fetching movie data:  67%|███████████▉      | 1740/2614 [11:35<06:15,  2.33it/s]"
     ]
    },
    {
     "name": "stdout",
     "output_type": "stream",
     "text": [
      "Fetching data for movie ID tt6045924 from OMDb...\n"
     ]
    },
    {
     "name": "stderr",
     "output_type": "stream",
     "text": [
      "Fetching movie data:  67%|███████████▉      | 1741/2614 [11:36<05:58,  2.44it/s]"
     ]
    },
    {
     "name": "stdout",
     "output_type": "stream",
     "text": [
      "Fetching data for movie ID tt14642304 from OMDb...\n"
     ]
    },
    {
     "name": "stderr",
     "output_type": "stream",
     "text": [
      "Fetching movie data:  67%|███████████▉      | 1742/2614 [11:36<05:39,  2.57it/s]"
     ]
    },
    {
     "name": "stdout",
     "output_type": "stream",
     "text": [
      "Fetching data for movie ID tt8105446 from OMDb...\n"
     ]
    },
    {
     "name": "stderr",
     "output_type": "stream",
     "text": [
      "Fetching movie data:  67%|████████████      | 1743/2614 [11:36<05:25,  2.67it/s]"
     ]
    },
    {
     "name": "stdout",
     "output_type": "stream",
     "text": [
      "Fetching data for movie ID tt11620786 from OMDb...\n"
     ]
    },
    {
     "name": "stderr",
     "output_type": "stream",
     "text": [
      "Fetching movie data:  67%|████████████      | 1744/2614 [11:37<05:30,  2.63it/s]"
     ]
    },
    {
     "name": "stdout",
     "output_type": "stream",
     "text": [
      "Fetching data for movie ID tt6785324 from OMDb...\n"
     ]
    },
    {
     "name": "stderr",
     "output_type": "stream",
     "text": [
      "Fetching movie data:  67%|████████████      | 1745/2614 [11:37<05:51,  2.47it/s]"
     ]
    },
    {
     "name": "stdout",
     "output_type": "stream",
     "text": [
      "Fetching data for movie ID tt32359454 from OMDb...\n"
     ]
    },
    {
     "name": "stderr",
     "output_type": "stream",
     "text": [
      "Fetching movie data:  67%|████████████      | 1746/2614 [11:37<05:43,  2.53it/s]"
     ]
    },
    {
     "name": "stdout",
     "output_type": "stream",
     "text": [
      "Fetching data for movie ID tt14245756 from OMDb...\n"
     ]
    },
    {
     "name": "stderr",
     "output_type": "stream",
     "text": [
      "Fetching movie data:  67%|████████████      | 1747/2614 [11:38<05:41,  2.54it/s]"
     ]
    },
    {
     "name": "stdout",
     "output_type": "stream",
     "text": [
      "Fetching data for movie ID tt27052733 from OMDb...\n"
     ]
    },
    {
     "name": "stderr",
     "output_type": "stream",
     "text": [
      "Fetching movie data:  67%|████████████      | 1748/2614 [11:38<05:30,  2.62it/s]"
     ]
    },
    {
     "name": "stdout",
     "output_type": "stream",
     "text": [
      "Fetching data for movie ID tt21998502 from OMDb...\n"
     ]
    },
    {
     "name": "stderr",
     "output_type": "stream",
     "text": [
      "Fetching movie data:  67%|████████████      | 1750/2614 [11:39<04:11,  3.43it/s]"
     ]
    },
    {
     "name": "stdout",
     "output_type": "stream",
     "text": [
      "Fetching data for movie ID tt4109034 from OMDb...\n",
      "Fetching data for movie ID tt2616524 from OMDb...\n"
     ]
    },
    {
     "name": "stderr",
     "output_type": "stream",
     "text": [
      "Fetching movie data:  67%|████████████      | 1751/2614 [11:39<04:30,  3.19it/s]"
     ]
    },
    {
     "name": "stdout",
     "output_type": "stream",
     "text": [
      "Fetching data for movie ID tt12163858 from OMDb...\n"
     ]
    },
    {
     "name": "stderr",
     "output_type": "stream",
     "text": [
      "Fetching movie data:  67%|████████████      | 1752/2614 [11:39<04:51,  2.96it/s]"
     ]
    },
    {
     "name": "stdout",
     "output_type": "stream",
     "text": [
      "Fetching data for movie ID tt9428638 from OMDb...\n"
     ]
    },
    {
     "name": "stderr",
     "output_type": "stream",
     "text": [
      "Fetching movie data:  67%|████████████      | 1753/2614 [11:40<05:37,  2.55it/s]"
     ]
    },
    {
     "name": "stdout",
     "output_type": "stream",
     "text": [
      "Progress saved after 38100 movies.\n",
      "Fetching data for movie ID tt11284244 from OMDb...\n"
     ]
    },
    {
     "name": "stderr",
     "output_type": "stream",
     "text": [
      "Fetching movie data:  67%|████████████      | 1754/2614 [11:40<05:37,  2.54it/s]"
     ]
    },
    {
     "name": "stdout",
     "output_type": "stream",
     "text": [
      "Fetching data for movie ID tt5742214 from OMDb...\n"
     ]
    },
    {
     "name": "stderr",
     "output_type": "stream",
     "text": [
      "Fetching movie data:  67%|████████████      | 1755/2614 [11:41<05:30,  2.60it/s]"
     ]
    },
    {
     "name": "stdout",
     "output_type": "stream",
     "text": [
      "Fetching data for movie ID tt15094066 from OMDb...\n"
     ]
    },
    {
     "name": "stderr",
     "output_type": "stream",
     "text": [
      "Fetching movie data:  67%|████████████      | 1756/2614 [11:41<05:22,  2.66it/s]"
     ]
    },
    {
     "name": "stdout",
     "output_type": "stream",
     "text": [
      "Fetching data for movie ID tt7681130 from OMDb...\n"
     ]
    },
    {
     "name": "stderr",
     "output_type": "stream",
     "text": [
      "Fetching movie data:  67%|████████████      | 1757/2614 [11:41<05:25,  2.63it/s]"
     ]
    },
    {
     "name": "stdout",
     "output_type": "stream",
     "text": [
      "Fetching data for movie ID tt5686888 from OMDb...\n"
     ]
    },
    {
     "name": "stderr",
     "output_type": "stream",
     "text": [
      "Fetching movie data:  67%|████████████      | 1758/2614 [11:42<05:32,  2.57it/s]"
     ]
    },
    {
     "name": "stdout",
     "output_type": "stream",
     "text": [
      "Fetching data for movie ID tt3290882 from OMDb...\n",
      "Fetching data for movie ID tt9053858 from OMDb...\n"
     ]
    },
    {
     "name": "stderr",
     "output_type": "stream",
     "text": [
      "Fetching movie data:  67%|████████████      | 1760/2614 [11:42<04:36,  3.08it/s]"
     ]
    },
    {
     "name": "stdout",
     "output_type": "stream",
     "text": [
      "Fetching data for movie ID tt5605508 from OMDb...\n"
     ]
    },
    {
     "name": "stderr",
     "output_type": "stream",
     "text": [
      "Fetching movie data:  67%|████████████▏     | 1761/2614 [11:43<04:46,  2.98it/s]"
     ]
    },
    {
     "name": "stdout",
     "output_type": "stream",
     "text": [
      "Fetching data for movie ID tt7440432 from OMDb...\n"
     ]
    },
    {
     "name": "stderr",
     "output_type": "stream",
     "text": [
      "Fetching movie data:  67%|████████████▏     | 1762/2614 [11:43<04:51,  2.92it/s]"
     ]
    },
    {
     "name": "stdout",
     "output_type": "stream",
     "text": [
      "Fetching data for movie ID tt4421680 from OMDb...\n"
     ]
    },
    {
     "name": "stderr",
     "output_type": "stream",
     "text": [
      "Fetching movie data:  67%|████████████▏     | 1763/2614 [11:44<05:04,  2.79it/s]"
     ]
    },
    {
     "name": "stdout",
     "output_type": "stream",
     "text": [
      "Fetching data for movie ID tt26895101 from OMDb...\n"
     ]
    },
    {
     "name": "stderr",
     "output_type": "stream",
     "text": [
      "Fetching movie data:  67%|████████████▏     | 1764/2614 [11:44<05:08,  2.75it/s]"
     ]
    },
    {
     "name": "stdout",
     "output_type": "stream",
     "text": [
      "Fetching data for movie ID tt4726080 from OMDb...\n"
     ]
    },
    {
     "name": "stderr",
     "output_type": "stream",
     "text": [
      "Fetching movie data:  68%|████████████▏     | 1765/2614 [11:44<05:11,  2.73it/s]"
     ]
    },
    {
     "name": "stdout",
     "output_type": "stream",
     "text": [
      "Fetching data for movie ID tt26306257 from OMDb...\n"
     ]
    },
    {
     "name": "stderr",
     "output_type": "stream",
     "text": [
      "Fetching movie data:  68%|████████████▏     | 1766/2614 [11:45<05:27,  2.59it/s]"
     ]
    },
    {
     "name": "stdout",
     "output_type": "stream",
     "text": [
      "Fetching data for movie ID tt10298024 from OMDb...\n"
     ]
    },
    {
     "name": "stderr",
     "output_type": "stream",
     "text": [
      "Fetching movie data:  68%|████████████▏     | 1767/2614 [11:45<05:38,  2.51it/s]"
     ]
    },
    {
     "name": "stdout",
     "output_type": "stream",
     "text": [
      "Fetching data for movie ID tt6246092 from OMDb...\n"
     ]
    },
    {
     "name": "stderr",
     "output_type": "stream",
     "text": [
      "Fetching movie data:  68%|████████████▏     | 1768/2614 [11:46<06:00,  2.35it/s]"
     ]
    },
    {
     "name": "stdout",
     "output_type": "stream",
     "text": [
      "Fetching data for movie ID tt21942250 from OMDb...\n"
     ]
    },
    {
     "name": "stderr",
     "output_type": "stream",
     "text": [
      "Fetching movie data:  68%|████████████▏     | 1769/2614 [11:46<05:48,  2.43it/s]"
     ]
    },
    {
     "name": "stdout",
     "output_type": "stream",
     "text": [
      "Fetching data for movie ID tt3679002 from OMDb...\n"
     ]
    },
    {
     "name": "stderr",
     "output_type": "stream",
     "text": [
      "Fetching movie data:  68%|████████████▏     | 1770/2614 [11:46<05:31,  2.54it/s]"
     ]
    },
    {
     "name": "stdout",
     "output_type": "stream",
     "text": [
      "Fetching data for movie ID tt4829552 from OMDb...\n"
     ]
    },
    {
     "name": "stderr",
     "output_type": "stream",
     "text": [
      "Fetching movie data:  68%|████████████▏     | 1771/2614 [11:47<05:32,  2.53it/s]"
     ]
    },
    {
     "name": "stdout",
     "output_type": "stream",
     "text": [
      "Fetching data for movie ID tt5470668 from OMDb...\n"
     ]
    },
    {
     "name": "stderr",
     "output_type": "stream",
     "text": [
      "Fetching movie data:  68%|████████████▏     | 1772/2614 [11:47<05:22,  2.61it/s]"
     ]
    },
    {
     "name": "stdout",
     "output_type": "stream",
     "text": [
      "Fetching data for movie ID tt5786184 from OMDb...\n"
     ]
    },
    {
     "name": "stderr",
     "output_type": "stream",
     "text": [
      "Fetching movie data:  68%|████████████▏     | 1773/2614 [11:48<05:42,  2.46it/s]"
     ]
    },
    {
     "name": "stdout",
     "output_type": "stream",
     "text": [
      "Fetching data for movie ID tt29314321 from OMDb...\n"
     ]
    },
    {
     "name": "stderr",
     "output_type": "stream",
     "text": [
      "Fetching movie data:  68%|████████████▏     | 1774/2614 [11:48<05:37,  2.49it/s]"
     ]
    },
    {
     "name": "stdout",
     "output_type": "stream",
     "text": [
      "Fetching data for movie ID tt4384478 from OMDb...\n"
     ]
    },
    {
     "name": "stderr",
     "output_type": "stream",
     "text": [
      "Fetching movie data:  68%|████████████▏     | 1775/2614 [11:48<05:32,  2.52it/s]"
     ]
    },
    {
     "name": "stdout",
     "output_type": "stream",
     "text": [
      "Fetching data for movie ID tt14813878 from OMDb...\n"
     ]
    },
    {
     "name": "stderr",
     "output_type": "stream",
     "text": [
      "Fetching movie data:  68%|████████████▏     | 1776/2614 [11:49<05:21,  2.60it/s]"
     ]
    },
    {
     "name": "stdout",
     "output_type": "stream",
     "text": [
      "Fetching data for movie ID tt34546364 from OMDb...\n",
      "Fetching data for movie ID tt26655017 from OMDb...\n"
     ]
    },
    {
     "name": "stderr",
     "output_type": "stream",
     "text": [
      "Fetching movie data:  68%|████████████▏     | 1778/2614 [11:49<04:31,  3.08it/s]"
     ]
    },
    {
     "name": "stdout",
     "output_type": "stream",
     "text": [
      "Fetching data for movie ID tt14832552 from OMDb...\n"
     ]
    },
    {
     "name": "stderr",
     "output_type": "stream",
     "text": [
      "Fetching movie data:  68%|████████████▎     | 1779/2614 [11:50<04:46,  2.91it/s]"
     ]
    },
    {
     "name": "stdout",
     "output_type": "stream",
     "text": [
      "Fetching data for movie ID tt4916936 from OMDb...\n"
     ]
    },
    {
     "name": "stderr",
     "output_type": "stream",
     "text": [
      "Fetching movie data:  68%|████████████▎     | 1780/2614 [11:50<04:58,  2.79it/s]"
     ]
    },
    {
     "name": "stdout",
     "output_type": "stream",
     "text": [
      "Fetching data for movie ID tt5132746 from OMDb...\n",
      "Fetching data for movie ID tt7018482 from OMDb...\n"
     ]
    },
    {
     "name": "stderr",
     "output_type": "stream",
     "text": [
      "Fetching movie data:  68%|████████████▎     | 1782/2614 [11:51<04:25,  3.14it/s]"
     ]
    },
    {
     "name": "stdout",
     "output_type": "stream",
     "text": [
      "Fetching data for movie ID tt19872388 from OMDb...\n"
     ]
    },
    {
     "name": "stderr",
     "output_type": "stream",
     "text": [
      "Fetching movie data:  68%|████████████▎     | 1783/2614 [11:51<04:42,  2.94it/s]"
     ]
    },
    {
     "name": "stdout",
     "output_type": "stream",
     "text": [
      "Fetching data for movie ID tt7979602 from OMDb...\n"
     ]
    },
    {
     "name": "stderr",
     "output_type": "stream",
     "text": [
      "Fetching movie data:  68%|████████████▎     | 1784/2614 [11:51<04:54,  2.82it/s]"
     ]
    },
    {
     "name": "stdout",
     "output_type": "stream",
     "text": [
      "Fetching data for movie ID tt2650978 from OMDb...\n"
     ]
    },
    {
     "name": "stderr",
     "output_type": "stream",
     "text": [
      "Fetching movie data:  68%|████████████▎     | 1785/2614 [11:52<05:08,  2.69it/s]"
     ]
    },
    {
     "name": "stdout",
     "output_type": "stream",
     "text": [
      "Fetching data for movie ID tt18969324 from OMDb...\n"
     ]
    },
    {
     "name": "stderr",
     "output_type": "stream",
     "text": [
      "Fetching movie data:  68%|████████████▎     | 1786/2614 [11:52<05:10,  2.67it/s]"
     ]
    },
    {
     "name": "stdout",
     "output_type": "stream",
     "text": [
      "Fetching data for movie ID tt22853444 from OMDb...\n"
     ]
    },
    {
     "name": "stderr",
     "output_type": "stream",
     "text": [
      "Fetching movie data:  68%|████████████▎     | 1787/2614 [11:53<05:13,  2.64it/s]"
     ]
    },
    {
     "name": "stdout",
     "output_type": "stream",
     "text": [
      "Fetching data for movie ID tt3608686 from OMDb...\n"
     ]
    },
    {
     "name": "stderr",
     "output_type": "stream",
     "text": [
      "Fetching movie data:  68%|████████████▎     | 1788/2614 [11:53<05:31,  2.49it/s]"
     ]
    },
    {
     "name": "stdout",
     "output_type": "stream",
     "text": [
      "Fetching data for movie ID tt15838436 from OMDb...\n"
     ]
    },
    {
     "name": "stderr",
     "output_type": "stream",
     "text": [
      "Fetching movie data:  68%|████████████▎     | 1789/2614 [11:53<05:31,  2.49it/s]"
     ]
    },
    {
     "name": "stdout",
     "output_type": "stream",
     "text": [
      "Fetching data for movie ID tt4463940 from OMDb...\n"
     ]
    },
    {
     "name": "stderr",
     "output_type": "stream",
     "text": [
      "Fetching movie data:  68%|████████████▎     | 1790/2614 [11:54<05:34,  2.46it/s]"
     ]
    },
    {
     "name": "stdout",
     "output_type": "stream",
     "text": [
      "Fetching data for movie ID tt4284200 from OMDb...\n"
     ]
    },
    {
     "name": "stderr",
     "output_type": "stream",
     "text": [
      "Fetching movie data:  69%|████████████▎     | 1791/2614 [11:54<05:29,  2.50it/s]"
     ]
    },
    {
     "name": "stdout",
     "output_type": "stream",
     "text": [
      "Fetching data for movie ID tt4419022 from OMDb...\n"
     ]
    },
    {
     "name": "stderr",
     "output_type": "stream",
     "text": [
      "Fetching movie data:  69%|████████████▎     | 1792/2614 [11:55<05:37,  2.44it/s]"
     ]
    },
    {
     "name": "stdout",
     "output_type": "stream",
     "text": [
      "Fetching data for movie ID tt6182720 from OMDb...\n"
     ]
    },
    {
     "name": "stderr",
     "output_type": "stream",
     "text": [
      "Fetching movie data:  69%|████████████▎     | 1793/2614 [11:55<05:36,  2.44it/s]"
     ]
    },
    {
     "name": "stdout",
     "output_type": "stream",
     "text": [
      "Fetching data for movie ID tt3875352 from OMDb...\n"
     ]
    },
    {
     "name": "stderr",
     "output_type": "stream",
     "text": [
      "Fetching movie data:  69%|████████████▎     | 1794/2614 [11:55<05:35,  2.44it/s]"
     ]
    },
    {
     "name": "stdout",
     "output_type": "stream",
     "text": [
      "Fetching data for movie ID tt3064000 from OMDb...\n"
     ]
    },
    {
     "name": "stderr",
     "output_type": "stream",
     "text": [
      "Fetching movie data:  69%|████████████▎     | 1795/2614 [11:56<06:01,  2.26it/s]"
     ]
    },
    {
     "name": "stdout",
     "output_type": "stream",
     "text": [
      "Fetching data for movie ID tt5089398 from OMDb...\n"
     ]
    },
    {
     "name": "stderr",
     "output_type": "stream",
     "text": [
      "Fetching movie data:  69%|████████████▎     | 1796/2614 [11:56<05:39,  2.41it/s]"
     ]
    },
    {
     "name": "stdout",
     "output_type": "stream",
     "text": [
      "Fetching data for movie ID tt30334985 from OMDb...\n"
     ]
    },
    {
     "name": "stderr",
     "output_type": "stream",
     "text": [
      "Fetching movie data:  69%|████████████▍     | 1798/2614 [11:57<04:22,  3.11it/s]"
     ]
    },
    {
     "name": "stdout",
     "output_type": "stream",
     "text": [
      "Fetching data for movie ID tt8359816 from OMDb...\n",
      "Fetching data for movie ID tt2388703 from OMDb...\n"
     ]
    },
    {
     "name": "stderr",
     "output_type": "stream",
     "text": [
      "Fetching movie data:  69%|████████████▍     | 1799/2614 [11:57<04:33,  2.98it/s]"
     ]
    },
    {
     "name": "stdout",
     "output_type": "stream",
     "text": [
      "Fetching data for movie ID tt5601424 from OMDb...\n"
     ]
    },
    {
     "name": "stderr",
     "output_type": "stream",
     "text": [
      "Fetching movie data:  69%|████████████▍     | 1800/2614 [11:58<04:50,  2.80it/s]"
     ]
    },
    {
     "name": "stdout",
     "output_type": "stream",
     "text": [
      "Fetching data for movie ID tt3924518 from OMDb...\n"
     ]
    },
    {
     "name": "stderr",
     "output_type": "stream",
     "text": [
      "Fetching movie data:  69%|████████████▍     | 1801/2614 [11:58<05:02,  2.69it/s]"
     ]
    },
    {
     "name": "stdout",
     "output_type": "stream",
     "text": [
      "Fetching data for movie ID tt21052434 from OMDb...\n"
     ]
    },
    {
     "name": "stderr",
     "output_type": "stream",
     "text": [
      "Fetching movie data:  69%|████████████▍     | 1802/2614 [11:58<05:13,  2.59it/s]"
     ]
    },
    {
     "name": "stdout",
     "output_type": "stream",
     "text": [
      "Fetching data for movie ID tt35157624 from OMDb...\n",
      "Fetching data for movie ID tt12452396 from OMDb...\n"
     ]
    },
    {
     "name": "stderr",
     "output_type": "stream",
     "text": [
      "Fetching movie data:  69%|████████████▍     | 1804/2614 [11:59<04:23,  3.07it/s]"
     ]
    },
    {
     "name": "stdout",
     "output_type": "stream",
     "text": [
      "Fetching data for movie ID tt27439979 from OMDb...\n"
     ]
    },
    {
     "name": "stderr",
     "output_type": "stream",
     "text": [
      "Fetching movie data:  69%|████████████▍     | 1805/2614 [11:59<04:40,  2.89it/s]"
     ]
    },
    {
     "name": "stdout",
     "output_type": "stream",
     "text": [
      "Fetching data for movie ID tt4043906 from OMDb...\n"
     ]
    },
    {
     "name": "stderr",
     "output_type": "stream",
     "text": [
      "Fetching movie data:  69%|████████████▍     | 1806/2614 [12:00<04:47,  2.81it/s]"
     ]
    },
    {
     "name": "stdout",
     "output_type": "stream",
     "text": [
      "Fetching data for movie ID tt30217886 from OMDb...\n"
     ]
    },
    {
     "name": "stderr",
     "output_type": "stream",
     "text": [
      "Fetching movie data:  69%|████████████▍     | 1807/2614 [12:00<04:55,  2.73it/s]"
     ]
    },
    {
     "name": "stdout",
     "output_type": "stream",
     "text": [
      "Fetching data for movie ID tt12049254 from OMDb...\n"
     ]
    },
    {
     "name": "stderr",
     "output_type": "stream",
     "text": [
      "Fetching movie data:  69%|████████████▍     | 1808/2614 [12:01<05:14,  2.56it/s]"
     ]
    },
    {
     "name": "stdout",
     "output_type": "stream",
     "text": [
      "Fetching data for movie ID tt13175334 from OMDb...\n",
      "Fetching data for movie ID tt33084850 from OMDb...\n"
     ]
    },
    {
     "name": "stderr",
     "output_type": "stream",
     "text": [
      "Fetching movie data:  69%|████████████▍     | 1810/2614 [12:01<04:25,  3.03it/s]"
     ]
    },
    {
     "name": "stdout",
     "output_type": "stream",
     "text": [
      "Fetching data for movie ID tt4070374 from OMDb...\n"
     ]
    },
    {
     "name": "stderr",
     "output_type": "stream",
     "text": [
      "Fetching movie data:  69%|████████████▍     | 1811/2614 [12:01<04:33,  2.94it/s]"
     ]
    },
    {
     "name": "stdout",
     "output_type": "stream",
     "text": [
      "Fetching data for movie ID tt27983993 from OMDb...\n"
     ]
    },
    {
     "name": "stderr",
     "output_type": "stream",
     "text": [
      "Fetching movie data:  69%|████████████▍     | 1812/2614 [12:02<04:55,  2.72it/s]"
     ]
    },
    {
     "name": "stdout",
     "output_type": "stream",
     "text": [
      "Fetching data for movie ID tt27573299 from OMDb...\n"
     ]
    },
    {
     "name": "stderr",
     "output_type": "stream",
     "text": [
      "Fetching movie data:  69%|████████████▍     | 1813/2614 [12:02<05:00,  2.67it/s]"
     ]
    },
    {
     "name": "stdout",
     "output_type": "stream",
     "text": [
      "Fetching data for movie ID tt3901482 from OMDb...\n"
     ]
    },
    {
     "name": "stderr",
     "output_type": "stream",
     "text": [
      "Fetching movie data:  69%|████████████▍     | 1814/2614 [12:03<05:02,  2.64it/s]"
     ]
    },
    {
     "name": "stdout",
     "output_type": "stream",
     "text": [
      "Fetching data for movie ID tt5749396 from OMDb...\n"
     ]
    },
    {
     "name": "stderr",
     "output_type": "stream",
     "text": [
      "Fetching movie data:  69%|████████████▍     | 1815/2614 [12:03<04:55,  2.71it/s]"
     ]
    },
    {
     "name": "stdout",
     "output_type": "stream",
     "text": [
      "Fetching data for movie ID tt4157484 from OMDb...\n"
     ]
    },
    {
     "name": "stderr",
     "output_type": "stream",
     "text": [
      "Fetching movie data:  69%|████████████▌     | 1816/2614 [12:04<05:27,  2.44it/s]"
     ]
    },
    {
     "name": "stdout",
     "output_type": "stream",
     "text": [
      "Fetching data for movie ID tt28446220 from OMDb...\n"
     ]
    },
    {
     "name": "stderr",
     "output_type": "stream",
     "text": [
      "Fetching movie data:  70%|████████████▌     | 1817/2614 [12:04<05:40,  2.34it/s]"
     ]
    },
    {
     "name": "stdout",
     "output_type": "stream",
     "text": [
      "Fetching data for movie ID tt13011090 from OMDb...\n",
      "Fetching data for movie ID tt18396450 from OMDb...\n"
     ]
    },
    {
     "name": "stderr",
     "output_type": "stream",
     "text": [
      "Fetching movie data:  70%|████████████▌     | 1820/2614 [12:05<03:58,  3.33it/s]"
     ]
    },
    {
     "name": "stdout",
     "output_type": "stream",
     "text": [
      "Fetching data for movie ID tt7363076 from OMDb...\n",
      "Fetching data for movie ID tt35112776 from OMDb...\n"
     ]
    },
    {
     "name": "stderr",
     "output_type": "stream",
     "text": [
      "Fetching movie data:  70%|████████████▌     | 1821/2614 [12:05<03:17,  4.01it/s]"
     ]
    },
    {
     "name": "stdout",
     "output_type": "stream",
     "text": [
      "Fetching data for movie ID tt18378296 from OMDb...\n"
     ]
    },
    {
     "name": "stderr",
     "output_type": "stream",
     "text": [
      "Fetching movie data:  70%|████████████▌     | 1822/2614 [12:05<03:55,  3.37it/s]"
     ]
    },
    {
     "name": "stdout",
     "output_type": "stream",
     "text": [
      "Fetching data for movie ID tt14252948 from OMDb...\n"
     ]
    },
    {
     "name": "stderr",
     "output_type": "stream",
     "text": [
      "Fetching movie data:  70%|████████████▌     | 1823/2614 [12:06<04:19,  3.05it/s]"
     ]
    },
    {
     "name": "stdout",
     "output_type": "stream",
     "text": [
      "Fetching data for movie ID tt11738048 from OMDb...\n"
     ]
    },
    {
     "name": "stderr",
     "output_type": "stream",
     "text": [
      "Fetching movie data:  70%|████████████▌     | 1824/2614 [12:06<04:37,  2.85it/s]"
     ]
    },
    {
     "name": "stdout",
     "output_type": "stream",
     "text": [
      "Fetching data for movie ID tt32554019 from OMDb...\n"
     ]
    },
    {
     "name": "stderr",
     "output_type": "stream",
     "text": [
      "Fetching movie data:  70%|████████████▌     | 1825/2614 [12:06<04:37,  2.85it/s]"
     ]
    },
    {
     "name": "stdout",
     "output_type": "stream",
     "text": [
      "Fetching data for movie ID tt4228914 from OMDb...\n"
     ]
    },
    {
     "name": "stderr",
     "output_type": "stream",
     "text": [
      "Fetching movie data:  70%|████████████▌     | 1826/2614 [12:07<05:03,  2.60it/s]"
     ]
    },
    {
     "name": "stdout",
     "output_type": "stream",
     "text": [
      "Fetching data for movie ID tt4089568 from OMDb...\n"
     ]
    },
    {
     "name": "stderr",
     "output_type": "stream",
     "text": [
      "Fetching movie data:  70%|████████████▌     | 1827/2614 [12:07<05:09,  2.54it/s]"
     ]
    },
    {
     "name": "stdout",
     "output_type": "stream",
     "text": [
      "Fetching data for movie ID tt27251241 from OMDb...\n"
     ]
    },
    {
     "name": "stderr",
     "output_type": "stream",
     "text": [
      "Fetching movie data:  70%|████████████▌     | 1828/2614 [12:08<05:12,  2.52it/s]"
     ]
    },
    {
     "name": "stdout",
     "output_type": "stream",
     "text": [
      "Fetching data for movie ID tt5214024 from OMDb...\n"
     ]
    },
    {
     "name": "stderr",
     "output_type": "stream",
     "text": [
      "Fetching movie data:  70%|████████████▌     | 1830/2614 [12:08<04:17,  3.05it/s]"
     ]
    },
    {
     "name": "stdout",
     "output_type": "stream",
     "text": [
      "Fetching data for movie ID tt3164056 from OMDb...\n",
      "Fetching data for movie ID tt13958028 from OMDb...\n"
     ]
    },
    {
     "name": "stderr",
     "output_type": "stream",
     "text": [
      "Fetching movie data:  70%|████████████▌     | 1831/2614 [12:09<04:48,  2.71it/s]"
     ]
    },
    {
     "name": "stdout",
     "output_type": "stream",
     "text": [
      "Fetching data for movie ID tt7545144 from OMDb...\n"
     ]
    },
    {
     "name": "stderr",
     "output_type": "stream",
     "text": [
      "Fetching movie data:  70%|████████████▌     | 1832/2614 [12:09<04:58,  2.62it/s]"
     ]
    },
    {
     "name": "stdout",
     "output_type": "stream",
     "text": [
      "Fetching data for movie ID tt13475764 from OMDb...\n"
     ]
    },
    {
     "name": "stderr",
     "output_type": "stream",
     "text": [
      "Fetching movie data:  70%|████████████▌     | 1833/2614 [12:09<05:01,  2.59it/s]"
     ]
    },
    {
     "name": "stdout",
     "output_type": "stream",
     "text": [
      "Fetching data for movie ID tt34887619 from OMDb...\n",
      "Fetching data for movie ID tt8430386 from OMDb...\n"
     ]
    },
    {
     "name": "stderr",
     "output_type": "stream",
     "text": [
      "Fetching movie data:  70%|████████████▋     | 1835/2614 [12:10<03:58,  3.26it/s]"
     ]
    },
    {
     "name": "stdout",
     "output_type": "stream",
     "text": [
      "Fetching data for movie ID tt9097368 from OMDb...\n"
     ]
    },
    {
     "name": "stderr",
     "output_type": "stream",
     "text": [
      "Fetching movie data:  70%|████████████▋     | 1836/2614 [12:10<04:07,  3.15it/s]"
     ]
    },
    {
     "name": "stdout",
     "output_type": "stream",
     "text": [
      "Fetching data for movie ID tt7456158 from OMDb...\n"
     ]
    },
    {
     "name": "stderr",
     "output_type": "stream",
     "text": [
      "Fetching movie data:  70%|████████████▋     | 1837/2614 [12:11<04:13,  3.07it/s]"
     ]
    },
    {
     "name": "stdout",
     "output_type": "stream",
     "text": [
      "Fetching data for movie ID tt12790168 from OMDb...\n"
     ]
    },
    {
     "name": "stderr",
     "output_type": "stream",
     "text": [
      "Fetching movie data:  70%|████████████▋     | 1838/2614 [12:11<04:32,  2.84it/s]"
     ]
    },
    {
     "name": "stdout",
     "output_type": "stream",
     "text": [
      "Fetching data for movie ID tt26258974 from OMDb...\n"
     ]
    },
    {
     "name": "stderr",
     "output_type": "stream",
     "text": [
      "Fetching movie data:  70%|████████████▋     | 1839/2614 [12:11<04:44,  2.72it/s]"
     ]
    },
    {
     "name": "stdout",
     "output_type": "stream",
     "text": [
      "Fetching data for movie ID tt12058882 from OMDb...\n"
     ]
    },
    {
     "name": "stderr",
     "output_type": "stream",
     "text": [
      "Fetching movie data:  70%|████████████▋     | 1840/2614 [12:12<04:53,  2.64it/s]"
     ]
    },
    {
     "name": "stdout",
     "output_type": "stream",
     "text": [
      "Fetching data for movie ID tt6939312 from OMDb...\n"
     ]
    },
    {
     "name": "stderr",
     "output_type": "stream",
     "text": [
      "Fetching movie data:  70%|████████████▋     | 1841/2614 [12:12<04:54,  2.63it/s]"
     ]
    },
    {
     "name": "stdout",
     "output_type": "stream",
     "text": [
      "Fetching data for movie ID tt5927570 from OMDb...\n"
     ]
    },
    {
     "name": "stderr",
     "output_type": "stream",
     "text": [
      "Fetching movie data:  71%|████████████▋     | 1843/2614 [12:13<03:50,  3.34it/s]"
     ]
    },
    {
     "name": "stdout",
     "output_type": "stream",
     "text": [
      "Fetching data for movie ID tt35156706 from OMDb...\n",
      "Fetching data for movie ID tt3811914 from OMDb...\n"
     ]
    },
    {
     "name": "stderr",
     "output_type": "stream",
     "text": [
      "Fetching movie data:  71%|████████████▋     | 1844/2614 [12:13<04:28,  2.86it/s]"
     ]
    },
    {
     "name": "stdout",
     "output_type": "stream",
     "text": [
      "Fetching data for movie ID tt30428015 from OMDb...\n"
     ]
    },
    {
     "name": "stderr",
     "output_type": "stream",
     "text": [
      "Fetching movie data:  71%|████████████▋     | 1845/2614 [12:14<04:42,  2.73it/s]"
     ]
    },
    {
     "name": "stdout",
     "output_type": "stream",
     "text": [
      "Fetching data for movie ID tt6383468 from OMDb...\n"
     ]
    },
    {
     "name": "stderr",
     "output_type": "stream",
     "text": [
      "Fetching movie data:  71%|████████████▋     | 1846/2614 [12:14<04:51,  2.63it/s]"
     ]
    },
    {
     "name": "stdout",
     "output_type": "stream",
     "text": [
      "Fetching data for movie ID tt3658642 from OMDb...\n"
     ]
    },
    {
     "name": "stderr",
     "output_type": "stream",
     "text": [
      "Fetching movie data:  71%|████████████▋     | 1847/2614 [12:14<04:57,  2.57it/s]"
     ]
    },
    {
     "name": "stdout",
     "output_type": "stream",
     "text": [
      "Fetching data for movie ID tt4687782 from OMDb...\n"
     ]
    },
    {
     "name": "stderr",
     "output_type": "stream",
     "text": [
      "Fetching movie data:  71%|████████████▋     | 1848/2614 [12:15<04:56,  2.59it/s]"
     ]
    },
    {
     "name": "stdout",
     "output_type": "stream",
     "text": [
      "Fetching data for movie ID tt14171544 from OMDb...\n"
     ]
    },
    {
     "name": "stderr",
     "output_type": "stream",
     "text": [
      "Fetching movie data:  71%|████████████▋     | 1849/2614 [12:15<05:07,  2.49it/s]"
     ]
    },
    {
     "name": "stdout",
     "output_type": "stream",
     "text": [
      "Fetching data for movie ID tt11360960 from OMDb...\n"
     ]
    },
    {
     "name": "stderr",
     "output_type": "stream",
     "text": [
      "Fetching movie data:  71%|████████████▋     | 1850/2614 [12:16<05:08,  2.47it/s]"
     ]
    },
    {
     "name": "stdout",
     "output_type": "stream",
     "text": [
      "Fetching data for movie ID tt14266036 from OMDb...\n"
     ]
    },
    {
     "name": "stderr",
     "output_type": "stream",
     "text": [
      "Fetching movie data:  71%|████████████▋     | 1851/2614 [12:16<05:04,  2.50it/s]"
     ]
    },
    {
     "name": "stdout",
     "output_type": "stream",
     "text": [
      "Fetching data for movie ID tt3945422 from OMDb...\n"
     ]
    },
    {
     "name": "stderr",
     "output_type": "stream",
     "text": [
      "Fetching movie data:  71%|████████████▊     | 1852/2614 [12:16<05:11,  2.45it/s]"
     ]
    },
    {
     "name": "stdout",
     "output_type": "stream",
     "text": [
      "Fetching data for movie ID tt1365458 from OMDb...\n"
     ]
    },
    {
     "name": "stderr",
     "output_type": "stream",
     "text": [
      "Fetching movie data:  71%|████████████▊     | 1853/2614 [12:17<05:11,  2.44it/s]"
     ]
    },
    {
     "name": "stdout",
     "output_type": "stream",
     "text": [
      "Fetching data for movie ID tt15018726 from OMDb...\n"
     ]
    },
    {
     "name": "stderr",
     "output_type": "stream",
     "text": [
      "Fetching movie data:  71%|████████████▊     | 1854/2614 [12:17<05:11,  2.44it/s]"
     ]
    },
    {
     "name": "stdout",
     "output_type": "stream",
     "text": [
      "Fetching data for movie ID tt11968644 from OMDb...\n"
     ]
    },
    {
     "name": "stderr",
     "output_type": "stream",
     "text": [
      "Fetching movie data:  71%|████████████▊     | 1855/2614 [12:18<05:09,  2.45it/s]"
     ]
    },
    {
     "name": "stdout",
     "output_type": "stream",
     "text": [
      "Fetching data for movie ID tt11157146 from OMDb...\n"
     ]
    },
    {
     "name": "stderr",
     "output_type": "stream",
     "text": [
      "Fetching movie data:  71%|████████████▊     | 1856/2614 [12:18<05:05,  2.48it/s]"
     ]
    },
    {
     "name": "stdout",
     "output_type": "stream",
     "text": [
      "Fetching data for movie ID tt11997744 from OMDb...\n",
      "Fetching data for movie ID tt28075418 from OMDb...\n"
     ]
    },
    {
     "name": "stderr",
     "output_type": "stream",
     "text": [
      "Fetching movie data:  71%|████████████▊     | 1858/2614 [12:19<04:33,  2.77it/s]"
     ]
    },
    {
     "name": "stdout",
     "output_type": "stream",
     "text": [
      "Progress saved after 38200 movies.\n",
      "Fetching data for movie ID tt9419582 from OMDb...\n"
     ]
    },
    {
     "name": "stderr",
     "output_type": "stream",
     "text": [
      "Fetching movie data:  71%|████████████▊     | 1859/2614 [12:19<04:34,  2.75it/s]"
     ]
    },
    {
     "name": "stdout",
     "output_type": "stream",
     "text": [
      "Fetching data for movie ID tt32760545 from OMDb...\n"
     ]
    },
    {
     "name": "stderr",
     "output_type": "stream",
     "text": [
      "Fetching movie data:  71%|████████████▊     | 1860/2614 [12:19<04:29,  2.79it/s]"
     ]
    },
    {
     "name": "stdout",
     "output_type": "stream",
     "text": [
      "Fetching data for movie ID tt11799822 from OMDb...\n"
     ]
    },
    {
     "name": "stderr",
     "output_type": "stream",
     "text": [
      "Fetching movie data:  71%|████████████▊     | 1861/2614 [12:20<04:30,  2.79it/s]"
     ]
    },
    {
     "name": "stdout",
     "output_type": "stream",
     "text": [
      "Fetching data for movie ID tt5354872 from OMDb...\n"
     ]
    },
    {
     "name": "stderr",
     "output_type": "stream",
     "text": [
      "Fetching movie data:  71%|████████████▊     | 1862/2614 [12:20<04:29,  2.79it/s]"
     ]
    },
    {
     "name": "stdout",
     "output_type": "stream",
     "text": [
      "Fetching data for movie ID tt14862810 from OMDb...\n"
     ]
    },
    {
     "name": "stderr",
     "output_type": "stream",
     "text": [
      "Fetching movie data:  71%|████████████▊     | 1863/2614 [12:20<04:27,  2.80it/s]"
     ]
    },
    {
     "name": "stdout",
     "output_type": "stream",
     "text": [
      "Fetching data for movie ID tt19396786 from OMDb...\n"
     ]
    },
    {
     "name": "stderr",
     "output_type": "stream",
     "text": [
      "Fetching movie data:  71%|████████████▊     | 1864/2614 [12:21<04:36,  2.71it/s]"
     ]
    },
    {
     "name": "stdout",
     "output_type": "stream",
     "text": [
      "Fetching data for movie ID tt6194874 from OMDb...\n"
     ]
    },
    {
     "name": "stderr",
     "output_type": "stream",
     "text": [
      "Fetching movie data:  71%|████████████▊     | 1865/2614 [12:21<05:01,  2.48it/s]"
     ]
    },
    {
     "name": "stdout",
     "output_type": "stream",
     "text": [
      "Fetching data for movie ID tt2357556 from OMDb...\n"
     ]
    },
    {
     "name": "stderr",
     "output_type": "stream",
     "text": [
      "Fetching movie data:  71%|████████████▊     | 1866/2614 [12:22<04:50,  2.57it/s]"
     ]
    },
    {
     "name": "stdout",
     "output_type": "stream",
     "text": [
      "Fetching data for movie ID tt21382430 from OMDb...\n"
     ]
    },
    {
     "name": "stderr",
     "output_type": "stream",
     "text": [
      "Fetching movie data:  71%|████████████▊     | 1867/2614 [12:22<04:52,  2.56it/s]"
     ]
    },
    {
     "name": "stdout",
     "output_type": "stream",
     "text": [
      "Fetching data for movie ID tt7386870 from OMDb...\n"
     ]
    },
    {
     "name": "stderr",
     "output_type": "stream",
     "text": [
      "Fetching movie data:  71%|████████████▊     | 1868/2614 [12:22<04:50,  2.57it/s]"
     ]
    },
    {
     "name": "stdout",
     "output_type": "stream",
     "text": [
      "Fetching data for movie ID tt33336815 from OMDb...\n"
     ]
    },
    {
     "name": "stderr",
     "output_type": "stream",
     "text": [
      "Fetching movie data:  71%|████████████▊     | 1869/2614 [12:23<04:40,  2.65it/s]"
     ]
    },
    {
     "name": "stdout",
     "output_type": "stream",
     "text": [
      "Fetching data for movie ID tt4493080 from OMDb...\n"
     ]
    },
    {
     "name": "stderr",
     "output_type": "stream",
     "text": [
      "Fetching movie data:  72%|████████████▉     | 1870/2614 [12:23<04:34,  2.71it/s]"
     ]
    },
    {
     "name": "stdout",
     "output_type": "stream",
     "text": [
      "Fetching data for movie ID tt5135650 from OMDb...\n"
     ]
    },
    {
     "name": "stderr",
     "output_type": "stream",
     "text": [
      "Fetching movie data:  72%|████████████▉     | 1871/2614 [12:24<04:30,  2.75it/s]"
     ]
    },
    {
     "name": "stdout",
     "output_type": "stream",
     "text": [
      "Fetching data for movie ID tt12512952 from OMDb...\n"
     ]
    },
    {
     "name": "stderr",
     "output_type": "stream",
     "text": [
      "Fetching movie data:  72%|████████████▉     | 1872/2614 [12:24<04:55,  2.52it/s]"
     ]
    },
    {
     "name": "stdout",
     "output_type": "stream",
     "text": [
      "Fetching data for movie ID tt10134756 from OMDb...\n"
     ]
    },
    {
     "name": "stderr",
     "output_type": "stream",
     "text": [
      "Fetching movie data:  72%|████████████▉     | 1873/2614 [12:24<04:44,  2.60it/s]"
     ]
    },
    {
     "name": "stdout",
     "output_type": "stream",
     "text": [
      "Fetching data for movie ID tt3203290 from OMDb...\n"
     ]
    },
    {
     "name": "stderr",
     "output_type": "stream",
     "text": [
      "Fetching movie data:  72%|████████████▉     | 1874/2614 [12:25<04:40,  2.63it/s]"
     ]
    },
    {
     "name": "stdout",
     "output_type": "stream",
     "text": [
      "Fetching data for movie ID tt1720161 from OMDb...\n"
     ]
    },
    {
     "name": "stderr",
     "output_type": "stream",
     "text": [
      "Fetching movie data:  72%|████████████▉     | 1875/2614 [12:25<04:34,  2.69it/s]"
     ]
    },
    {
     "name": "stdout",
     "output_type": "stream",
     "text": [
      "Fetching data for movie ID tt7207910 from OMDb...\n"
     ]
    },
    {
     "name": "stderr",
     "output_type": "stream",
     "text": [
      "Fetching movie data:  72%|████████████▉     | 1876/2614 [12:25<04:33,  2.70it/s]"
     ]
    },
    {
     "name": "stdout",
     "output_type": "stream",
     "text": [
      "Fetching data for movie ID tt4201284 from OMDb...\n"
     ]
    },
    {
     "name": "stderr",
     "output_type": "stream",
     "text": [
      "Fetching movie data:  72%|████████████▉     | 1877/2614 [12:26<04:40,  2.63it/s]"
     ]
    },
    {
     "name": "stdout",
     "output_type": "stream",
     "text": [
      "Fetching data for movie ID tt3688378 from OMDb...\n"
     ]
    },
    {
     "name": "stderr",
     "output_type": "stream",
     "text": [
      "Fetching movie data:  72%|████████████▉     | 1878/2614 [12:26<04:45,  2.58it/s]"
     ]
    },
    {
     "name": "stdout",
     "output_type": "stream",
     "text": [
      "Fetching data for movie ID tt4553542 from OMDb...\n"
     ]
    },
    {
     "name": "stderr",
     "output_type": "stream",
     "text": [
      "Fetching movie data:  72%|████████████▉     | 1879/2614 [12:27<05:13,  2.34it/s]"
     ]
    },
    {
     "name": "stdout",
     "output_type": "stream",
     "text": [
      "Fetching data for movie ID tt10768782 from OMDb...\n"
     ]
    },
    {
     "name": "stderr",
     "output_type": "stream",
     "text": [
      "Fetching movie data:  72%|████████████▉     | 1880/2614 [12:27<05:09,  2.37it/s]"
     ]
    },
    {
     "name": "stdout",
     "output_type": "stream",
     "text": [
      "Fetching data for movie ID tt3605760 from OMDb...\n"
     ]
    },
    {
     "name": "stderr",
     "output_type": "stream",
     "text": [
      "Fetching movie data:  72%|████████████▉     | 1881/2614 [12:28<05:06,  2.39it/s]"
     ]
    },
    {
     "name": "stdout",
     "output_type": "stream",
     "text": [
      "Fetching data for movie ID tt10312214 from OMDb...\n"
     ]
    },
    {
     "name": "stderr",
     "output_type": "stream",
     "text": [
      "Fetching movie data:  72%|████████████▉     | 1882/2614 [12:28<04:51,  2.51it/s]"
     ]
    },
    {
     "name": "stdout",
     "output_type": "stream",
     "text": [
      "Fetching data for movie ID tt6206098 from OMDb...\n"
     ]
    },
    {
     "name": "stderr",
     "output_type": "stream",
     "text": [
      "Fetching movie data:  72%|████████████▉     | 1883/2614 [12:28<04:47,  2.55it/s]"
     ]
    },
    {
     "name": "stdout",
     "output_type": "stream",
     "text": [
      "Fetching data for movie ID tt17633836 from OMDb...\n"
     ]
    },
    {
     "name": "stderr",
     "output_type": "stream",
     "text": [
      "Fetching movie data:  72%|████████████▉     | 1884/2614 [12:29<04:47,  2.54it/s]"
     ]
    },
    {
     "name": "stdout",
     "output_type": "stream",
     "text": [
      "Fetching data for movie ID tt14242854 from OMDb...\n"
     ]
    },
    {
     "name": "stderr",
     "output_type": "stream",
     "text": [
      "Fetching movie data:  72%|████████████▉     | 1885/2614 [12:29<04:50,  2.51it/s]"
     ]
    },
    {
     "name": "stdout",
     "output_type": "stream",
     "text": [
      "Fetching data for movie ID tt32984783 from OMDb...\n"
     ]
    },
    {
     "name": "stderr",
     "output_type": "stream",
     "text": [
      "Fetching movie data:  72%|████████████▉     | 1886/2614 [12:29<04:41,  2.58it/s]"
     ]
    },
    {
     "name": "stdout",
     "output_type": "stream",
     "text": [
      "Fetching data for movie ID tt14757664 from OMDb...\n"
     ]
    },
    {
     "name": "stderr",
     "output_type": "stream",
     "text": [
      "Fetching movie data:  72%|████████████▉     | 1887/2614 [12:30<04:33,  2.66it/s]"
     ]
    },
    {
     "name": "stdout",
     "output_type": "stream",
     "text": [
      "Fetching data for movie ID tt10861752 from OMDb...\n"
     ]
    },
    {
     "name": "stderr",
     "output_type": "stream",
     "text": [
      "Fetching movie data:  72%|█████████████     | 1888/2614 [12:30<04:29,  2.70it/s]"
     ]
    },
    {
     "name": "stdout",
     "output_type": "stream",
     "text": [
      "Fetching data for movie ID tt8137866 from OMDb...\n"
     ]
    },
    {
     "name": "stderr",
     "output_type": "stream",
     "text": [
      "Fetching movie data:  72%|█████████████     | 1889/2614 [12:31<04:27,  2.71it/s]"
     ]
    },
    {
     "name": "stdout",
     "output_type": "stream",
     "text": [
      "Fetching data for movie ID tt22245562 from OMDb...\n"
     ]
    },
    {
     "name": "stderr",
     "output_type": "stream",
     "text": [
      "Fetching movie data:  72%|█████████████     | 1890/2614 [12:31<04:35,  2.63it/s]"
     ]
    },
    {
     "name": "stdout",
     "output_type": "stream",
     "text": [
      "Fetching data for movie ID tt24079774 from OMDb...\n"
     ]
    },
    {
     "name": "stderr",
     "output_type": "stream",
     "text": [
      "Fetching movie data:  72%|█████████████     | 1891/2614 [12:31<04:37,  2.61it/s]"
     ]
    },
    {
     "name": "stdout",
     "output_type": "stream",
     "text": [
      "Fetching data for movie ID tt4602468 from OMDb...\n"
     ]
    },
    {
     "name": "stderr",
     "output_type": "stream",
     "text": [
      "Fetching movie data:  72%|█████████████     | 1892/2614 [12:32<04:47,  2.51it/s]"
     ]
    },
    {
     "name": "stdout",
     "output_type": "stream",
     "text": [
      "Fetching data for movie ID tt15744288 from OMDb...\n"
     ]
    },
    {
     "name": "stderr",
     "output_type": "stream",
     "text": [
      "Fetching movie data:  72%|█████████████     | 1893/2614 [12:32<04:35,  2.62it/s]"
     ]
    },
    {
     "name": "stdout",
     "output_type": "stream",
     "text": [
      "Fetching data for movie ID tt22474470 from OMDb...\n"
     ]
    },
    {
     "name": "stderr",
     "output_type": "stream",
     "text": [
      "Fetching movie data:  72%|█████████████     | 1894/2614 [12:33<04:41,  2.56it/s]"
     ]
    },
    {
     "name": "stdout",
     "output_type": "stream",
     "text": [
      "Fetching data for movie ID tt25052490 from OMDb...\n"
     ]
    },
    {
     "name": "stderr",
     "output_type": "stream",
     "text": [
      "Fetching movie data:  72%|█████████████     | 1895/2614 [12:33<05:20,  2.24it/s]"
     ]
    },
    {
     "name": "stdout",
     "output_type": "stream",
     "text": [
      "Fetching data for movie ID tt9165332 from OMDb...\n"
     ]
    },
    {
     "name": "stderr",
     "output_type": "stream",
     "text": [
      "Fetching movie data:  73%|█████████████     | 1896/2614 [12:34<05:34,  2.15it/s]"
     ]
    },
    {
     "name": "stdout",
     "output_type": "stream",
     "text": [
      "Fetching data for movie ID tt30798502 from OMDb...\n"
     ]
    },
    {
     "name": "stderr",
     "output_type": "stream",
     "text": [
      "Fetching movie data:  73%|█████████████     | 1897/2614 [12:34<05:18,  2.25it/s]"
     ]
    },
    {
     "name": "stdout",
     "output_type": "stream",
     "text": [
      "Fetching data for movie ID tt5190094 from OMDb...\n"
     ]
    },
    {
     "name": "stderr",
     "output_type": "stream",
     "text": [
      "Fetching movie data:  73%|█████████████     | 1898/2614 [12:34<05:13,  2.28it/s]"
     ]
    },
    {
     "name": "stdout",
     "output_type": "stream",
     "text": [
      "Fetching data for movie ID tt3211206 from OMDb...\n"
     ]
    },
    {
     "name": "stderr",
     "output_type": "stream",
     "text": [
      "Fetching movie data:  73%|█████████████     | 1899/2614 [12:35<05:07,  2.33it/s]"
     ]
    },
    {
     "name": "stdout",
     "output_type": "stream",
     "text": [
      "Fetching data for movie ID tt12511052 from OMDb...\n"
     ]
    },
    {
     "name": "stderr",
     "output_type": "stream",
     "text": [
      "Fetching movie data:  73%|█████████████     | 1900/2614 [12:35<05:03,  2.35it/s]"
     ]
    },
    {
     "name": "stdout",
     "output_type": "stream",
     "text": [
      "Fetching data for movie ID tt16711382 from OMDb...\n"
     ]
    },
    {
     "name": "stderr",
     "output_type": "stream",
     "text": [
      "Fetching movie data:  73%|█████████████     | 1901/2614 [12:36<04:58,  2.39it/s]"
     ]
    },
    {
     "name": "stdout",
     "output_type": "stream",
     "text": [
      "Fetching data for movie ID tt13242416 from OMDb...\n"
     ]
    },
    {
     "name": "stderr",
     "output_type": "stream",
     "text": [
      "Fetching movie data:  73%|█████████████     | 1902/2614 [12:36<04:44,  2.50it/s]"
     ]
    },
    {
     "name": "stdout",
     "output_type": "stream",
     "text": [
      "Fetching data for movie ID tt6963760 from OMDb...\n"
     ]
    },
    {
     "name": "stderr",
     "output_type": "stream",
     "text": [
      "Fetching movie data:  73%|█████████████     | 1903/2614 [12:37<04:58,  2.38it/s]"
     ]
    },
    {
     "name": "stdout",
     "output_type": "stream",
     "text": [
      "Fetching data for movie ID tt27053053 from OMDb...\n"
     ]
    },
    {
     "name": "stderr",
     "output_type": "stream",
     "text": [
      "Fetching movie data:  73%|█████████████     | 1904/2614 [12:37<04:55,  2.40it/s]"
     ]
    },
    {
     "name": "stdout",
     "output_type": "stream",
     "text": [
      "Fetching data for movie ID tt29417745 from OMDb...\n"
     ]
    },
    {
     "name": "stderr",
     "output_type": "stream",
     "text": [
      "Fetching movie data:  73%|█████████████     | 1905/2614 [12:37<04:55,  2.40it/s]"
     ]
    },
    {
     "name": "stdout",
     "output_type": "stream",
     "text": [
      "Fetching data for movie ID tt19868452 from OMDb...\n"
     ]
    },
    {
     "name": "stderr",
     "output_type": "stream",
     "text": [
      "Fetching movie data:  73%|█████████████     | 1906/2614 [12:38<04:52,  2.42it/s]"
     ]
    },
    {
     "name": "stdout",
     "output_type": "stream",
     "text": [
      "Fetching data for movie ID tt4534598 from OMDb...\n"
     ]
    },
    {
     "name": "stderr",
     "output_type": "stream",
     "text": [
      "Fetching movie data:  73%|█████████████▏    | 1907/2614 [12:38<04:51,  2.42it/s]"
     ]
    },
    {
     "name": "stdout",
     "output_type": "stream",
     "text": [
      "Fetching data for movie ID tt5636838 from OMDb...\n"
     ]
    },
    {
     "name": "stderr",
     "output_type": "stream",
     "text": [
      "Fetching movie data:  73%|█████████████▏    | 1908/2614 [12:39<05:11,  2.27it/s]"
     ]
    },
    {
     "name": "stdout",
     "output_type": "stream",
     "text": [
      "Fetching data for movie ID tt3531612 from OMDb...\n"
     ]
    },
    {
     "name": "stderr",
     "output_type": "stream",
     "text": [
      "Fetching movie data:  73%|█████████████▏    | 1909/2614 [12:39<05:04,  2.32it/s]"
     ]
    },
    {
     "name": "stdout",
     "output_type": "stream",
     "text": [
      "Fetching data for movie ID tt5625604 from OMDb...\n"
     ]
    },
    {
     "name": "stderr",
     "output_type": "stream",
     "text": [
      "Fetching movie data:  73%|█████████████▏    | 1910/2614 [12:39<04:55,  2.38it/s]"
     ]
    },
    {
     "name": "stdout",
     "output_type": "stream",
     "text": [
      "Fetching data for movie ID tt16915460 from OMDb...\n"
     ]
    },
    {
     "name": "stderr",
     "output_type": "stream",
     "text": [
      "Fetching movie data:  73%|█████████████▏    | 1911/2614 [12:40<04:58,  2.36it/s]"
     ]
    },
    {
     "name": "stdout",
     "output_type": "stream",
     "text": [
      "Fetching data for movie ID tt33909909 from OMDb...\n"
     ]
    },
    {
     "name": "stderr",
     "output_type": "stream",
     "text": [
      "Fetching movie data:  73%|█████████████▏    | 1912/2614 [12:40<04:42,  2.49it/s]"
     ]
    },
    {
     "name": "stdout",
     "output_type": "stream",
     "text": [
      "Fetching data for movie ID tt11721070 from OMDb...\n"
     ]
    },
    {
     "name": "stderr",
     "output_type": "stream",
     "text": [
      "Fetching movie data:  73%|█████████████▏    | 1913/2614 [12:41<04:32,  2.57it/s]"
     ]
    },
    {
     "name": "stdout",
     "output_type": "stream",
     "text": [
      "Fetching data for movie ID tt1891939 from OMDb...\n"
     ]
    },
    {
     "name": "stderr",
     "output_type": "stream",
     "text": [
      "Fetching movie data:  73%|█████████████▏    | 1914/2614 [12:41<04:36,  2.53it/s]"
     ]
    },
    {
     "name": "stdout",
     "output_type": "stream",
     "text": [
      "Fetching data for movie ID tt6416358 from OMDb...\n"
     ]
    },
    {
     "name": "stderr",
     "output_type": "stream",
     "text": [
      "Fetching movie data:  73%|█████████████▏    | 1915/2614 [12:41<04:32,  2.57it/s]"
     ]
    },
    {
     "name": "stdout",
     "output_type": "stream",
     "text": [
      "Fetching data for movie ID tt4203832 from OMDb...\n"
     ]
    },
    {
     "name": "stderr",
     "output_type": "stream",
     "text": [
      "Fetching movie data:  73%|█████████████▏    | 1916/2614 [12:42<04:33,  2.55it/s]"
     ]
    },
    {
     "name": "stdout",
     "output_type": "stream",
     "text": [
      "Fetching data for movie ID tt27687483 from OMDb...\n"
     ]
    },
    {
     "name": "stderr",
     "output_type": "stream",
     "text": [
      "Fetching movie data:  73%|█████████████▏    | 1917/2614 [12:42<04:29,  2.58it/s]"
     ]
    },
    {
     "name": "stdout",
     "output_type": "stream",
     "text": [
      "Fetching data for movie ID tt10245960 from OMDb...\n",
      "Fetching data for movie ID tt3685200 from OMDb...\n"
     ]
    },
    {
     "name": "stderr",
     "output_type": "stream",
     "text": [
      "Fetching movie data:  73%|█████████████▏    | 1919/2614 [12:43<03:52,  2.99it/s]"
     ]
    },
    {
     "name": "stdout",
     "output_type": "stream",
     "text": [
      "Fetching data for movie ID tt13660090 from OMDb...\n"
     ]
    },
    {
     "name": "stderr",
     "output_type": "stream",
     "text": [
      "Fetching movie data:  73%|█████████████▏    | 1920/2614 [12:43<04:02,  2.86it/s]"
     ]
    },
    {
     "name": "stdout",
     "output_type": "stream",
     "text": [
      "Fetching data for movie ID tt4446244 from OMDb...\n"
     ]
    },
    {
     "name": "stderr",
     "output_type": "stream",
     "text": [
      "Fetching movie data:  73%|█████████████▏    | 1921/2614 [12:43<04:00,  2.88it/s]"
     ]
    },
    {
     "name": "stdout",
     "output_type": "stream",
     "text": [
      "Fetching data for movie ID tt16298782 from OMDb...\n"
     ]
    },
    {
     "name": "stderr",
     "output_type": "stream",
     "text": [
      "Fetching movie data:  74%|█████████████▏    | 1922/2614 [12:44<04:17,  2.69it/s]"
     ]
    },
    {
     "name": "stdout",
     "output_type": "stream",
     "text": [
      "Fetching data for movie ID tt15422666 from OMDb...\n"
     ]
    },
    {
     "name": "stderr",
     "output_type": "stream",
     "text": [
      "Fetching movie data:  74%|█████████████▏    | 1923/2614 [12:44<04:16,  2.69it/s]"
     ]
    },
    {
     "name": "stdout",
     "output_type": "stream",
     "text": [
      "Fetching data for movie ID tt8006558 from OMDb...\n"
     ]
    },
    {
     "name": "stderr",
     "output_type": "stream",
     "text": [
      "Fetching movie data:  74%|█████████████▏    | 1924/2614 [12:45<04:31,  2.54it/s]"
     ]
    },
    {
     "name": "stdout",
     "output_type": "stream",
     "text": [
      "Fetching data for movie ID tt29764940 from OMDb...\n"
     ]
    },
    {
     "name": "stderr",
     "output_type": "stream",
     "text": [
      "Fetching movie data:  74%|█████████████▎    | 1925/2614 [12:45<04:32,  2.53it/s]"
     ]
    },
    {
     "name": "stdout",
     "output_type": "stream",
     "text": [
      "Fetching data for movie ID tt31956696 from OMDb...\n"
     ]
    },
    {
     "name": "stderr",
     "output_type": "stream",
     "text": [
      "Fetching movie data:  74%|█████████████▎    | 1926/2614 [12:45<04:29,  2.55it/s]"
     ]
    },
    {
     "name": "stdout",
     "output_type": "stream",
     "text": [
      "Fetching data for movie ID tt1965159 from OMDb...\n"
     ]
    },
    {
     "name": "stderr",
     "output_type": "stream",
     "text": [
      "Fetching movie data:  74%|█████████████▎    | 1927/2614 [12:46<04:39,  2.46it/s]"
     ]
    },
    {
     "name": "stdout",
     "output_type": "stream",
     "text": [
      "Fetching data for movie ID tt4079680 from OMDb...\n"
     ]
    },
    {
     "name": "stderr",
     "output_type": "stream",
     "text": [
      "Fetching movie data:  74%|█████████████▎    | 1928/2614 [12:46<04:34,  2.50it/s]"
     ]
    },
    {
     "name": "stdout",
     "output_type": "stream",
     "text": [
      "Fetching data for movie ID tt4819166 from OMDb...\n"
     ]
    },
    {
     "name": "stderr",
     "output_type": "stream",
     "text": [
      "Fetching movie data:  74%|█████████████▎    | 1929/2614 [12:47<04:35,  2.48it/s]"
     ]
    },
    {
     "name": "stdout",
     "output_type": "stream",
     "text": [
      "Fetching data for movie ID tt27454451 from OMDb...\n"
     ]
    },
    {
     "name": "stderr",
     "output_type": "stream",
     "text": [
      "Fetching movie data:  74%|█████████████▎    | 1930/2614 [12:48<06:16,  1.82it/s]"
     ]
    },
    {
     "name": "stdout",
     "output_type": "stream",
     "text": [
      "Fetching data for movie ID tt15379838 from OMDb...\n"
     ]
    },
    {
     "name": "stderr",
     "output_type": "stream",
     "text": [
      "Fetching movie data:  74%|█████████████▎    | 1931/2614 [12:48<06:11,  1.84it/s]"
     ]
    },
    {
     "name": "stdout",
     "output_type": "stream",
     "text": [
      "Fetching data for movie ID tt21446646 from OMDb...\n"
     ]
    },
    {
     "name": "stderr",
     "output_type": "stream",
     "text": [
      "Fetching movie data:  74%|█████████████▎    | 1932/2614 [12:49<06:06,  1.86it/s]"
     ]
    },
    {
     "name": "stdout",
     "output_type": "stream",
     "text": [
      "Fetching data for movie ID tt8151326 from OMDb...\n"
     ]
    },
    {
     "name": "stderr",
     "output_type": "stream",
     "text": [
      "Fetching movie data:  74%|█████████████▎    | 1933/2614 [12:49<06:02,  1.88it/s]"
     ]
    },
    {
     "name": "stdout",
     "output_type": "stream",
     "text": [
      "Fetching data for movie ID tt8378126 from OMDb...\n"
     ]
    },
    {
     "name": "stderr",
     "output_type": "stream",
     "text": [
      "Fetching movie data:  74%|█████████████▎    | 1934/2614 [12:50<06:01,  1.88it/s]"
     ]
    },
    {
     "name": "stdout",
     "output_type": "stream",
     "text": [
      "Fetching data for movie ID tt35303189 from OMDb...\n",
      "Fetching data for movie ID tt11658700 from OMDb...\n"
     ]
    },
    {
     "name": "stderr",
     "output_type": "stream",
     "text": [
      "Fetching movie data:  74%|█████████████▎    | 1936/2614 [12:50<04:35,  2.46it/s]"
     ]
    },
    {
     "name": "stdout",
     "output_type": "stream",
     "text": [
      "Fetching data for movie ID tt35048458 from OMDb...\n",
      "Fetching data for movie ID tt2267968 from OMDb...\n"
     ]
    },
    {
     "name": "stderr",
     "output_type": "stream",
     "text": [
      "Fetching movie data:  74%|█████████████▎    | 1938/2614 [12:51<05:06,  2.20it/s]"
     ]
    },
    {
     "name": "stdout",
     "output_type": "stream",
     "text": [
      "Fetching data for movie ID tt14321126 from OMDb...\n"
     ]
    },
    {
     "name": "stderr",
     "output_type": "stream",
     "text": [
      "Fetching movie data:  74%|█████████████▎    | 1939/2614 [12:52<05:20,  2.11it/s]"
     ]
    },
    {
     "name": "stdout",
     "output_type": "stream",
     "text": [
      "Fetching data for movie ID tt30272784 from OMDb...\n"
     ]
    },
    {
     "name": "stderr",
     "output_type": "stream",
     "text": [
      "Fetching movie data:  74%|█████████████▎    | 1940/2614 [12:52<05:01,  2.24it/s]"
     ]
    },
    {
     "name": "stdout",
     "output_type": "stream",
     "text": [
      "Fetching data for movie ID tt22037090 from OMDb...\n"
     ]
    },
    {
     "name": "stderr",
     "output_type": "stream",
     "text": [
      "Fetching movie data:  74%|█████████████▎    | 1941/2614 [12:53<05:04,  2.21it/s]"
     ]
    },
    {
     "name": "stdout",
     "output_type": "stream",
     "text": [
      "Fetching data for movie ID tt6465936 from OMDb...\n"
     ]
    },
    {
     "name": "stderr",
     "output_type": "stream",
     "text": [
      "Fetching movie data:  74%|█████████████▎    | 1942/2614 [12:53<04:44,  2.36it/s]"
     ]
    },
    {
     "name": "stdout",
     "output_type": "stream",
     "text": [
      "Fetching data for movie ID tt5966718 from OMDb...\n"
     ]
    },
    {
     "name": "stderr",
     "output_type": "stream",
     "text": [
      "Fetching movie data:  74%|█████████████▍    | 1943/2614 [12:53<04:40,  2.39it/s]"
     ]
    },
    {
     "name": "stdout",
     "output_type": "stream",
     "text": [
      "Fetching data for movie ID tt3198282 from OMDb...\n"
     ]
    },
    {
     "name": "stderr",
     "output_type": "stream",
     "text": [
      "Fetching movie data:  74%|█████████████▍    | 1945/2614 [12:54<03:46,  2.96it/s]"
     ]
    },
    {
     "name": "stdout",
     "output_type": "stream",
     "text": [
      "Fetching data for movie ID tt20418306 from OMDb...\n",
      "Fetching data for movie ID tt32367709 from OMDb...\n"
     ]
    },
    {
     "name": "stderr",
     "output_type": "stream",
     "text": [
      "Fetching movie data:  74%|█████████████▍    | 1946/2614 [12:54<03:53,  2.87it/s]"
     ]
    },
    {
     "name": "stdout",
     "output_type": "stream",
     "text": [
      "Fetching data for movie ID tt10449388 from OMDb...\n"
     ]
    },
    {
     "name": "stderr",
     "output_type": "stream",
     "text": [
      "Fetching movie data:  74%|█████████████▍    | 1947/2614 [12:55<04:20,  2.56it/s]"
     ]
    },
    {
     "name": "stdout",
     "output_type": "stream",
     "text": [
      "Fetching data for movie ID tt27634228 from OMDb...\n"
     ]
    },
    {
     "name": "stderr",
     "output_type": "stream",
     "text": [
      "Fetching movie data:  75%|█████████████▍    | 1948/2614 [12:55<04:33,  2.43it/s]"
     ]
    },
    {
     "name": "stdout",
     "output_type": "stream",
     "text": [
      "Fetching data for movie ID tt15918632 from OMDb...\n"
     ]
    },
    {
     "name": "stderr",
     "output_type": "stream",
     "text": [
      "Fetching movie data:  75%|█████████████▍    | 1949/2614 [12:56<04:55,  2.25it/s]"
     ]
    },
    {
     "name": "stdout",
     "output_type": "stream",
     "text": [
      "Fetching data for movie ID tt31889245 from OMDb...\n"
     ]
    },
    {
     "name": "stderr",
     "output_type": "stream",
     "text": [
      "Fetching movie data:  75%|█████████████▍    | 1950/2614 [12:56<05:10,  2.14it/s]"
     ]
    },
    {
     "name": "stdout",
     "output_type": "stream",
     "text": [
      "Fetching data for movie ID tt13442198 from OMDb...\n"
     ]
    },
    {
     "name": "stderr",
     "output_type": "stream",
     "text": [
      "Fetching movie data:  75%|█████████████▍    | 1951/2614 [12:57<05:21,  2.06it/s]"
     ]
    },
    {
     "name": "stdout",
     "output_type": "stream",
     "text": [
      "Fetching data for movie ID tt9419838 from OMDb...\n"
     ]
    },
    {
     "name": "stderr",
     "output_type": "stream",
     "text": [
      "Fetching movie data:  75%|█████████████▍    | 1952/2614 [12:57<05:28,  2.01it/s]"
     ]
    },
    {
     "name": "stdout",
     "output_type": "stream",
     "text": [
      "Fetching data for movie ID tt32126684 from OMDb...\n"
     ]
    },
    {
     "name": "stderr",
     "output_type": "stream",
     "text": [
      "Fetching movie data:  75%|█████████████▍    | 1953/2614 [12:58<05:39,  1.95it/s]"
     ]
    },
    {
     "name": "stdout",
     "output_type": "stream",
     "text": [
      "Fetching data for movie ID tt3445270 from OMDb...\n"
     ]
    },
    {
     "name": "stderr",
     "output_type": "stream",
     "text": [
      "Fetching movie data:  75%|█████████████▍    | 1954/2614 [12:58<05:35,  1.97it/s]"
     ]
    },
    {
     "name": "stdout",
     "output_type": "stream",
     "text": [
      "Fetching data for movie ID tt27518290 from OMDb...\n"
     ]
    },
    {
     "name": "stderr",
     "output_type": "stream",
     "text": [
      "Fetching movie data:  75%|█████████████▍    | 1955/2614 [12:59<05:18,  2.07it/s]"
     ]
    },
    {
     "name": "stdout",
     "output_type": "stream",
     "text": [
      "Fetching data for movie ID tt3168674 from OMDb...\n"
     ]
    },
    {
     "name": "stderr",
     "output_type": "stream",
     "text": [
      "Fetching movie data:  75%|█████████████▍    | 1956/2614 [12:59<05:45,  1.90it/s]"
     ]
    },
    {
     "name": "stdout",
     "output_type": "stream",
     "text": [
      "Fetching data for movie ID tt4776596 from OMDb...\n"
     ]
    },
    {
     "name": "stderr",
     "output_type": "stream",
     "text": [
      "Fetching movie data:  75%|█████████████▍    | 1957/2614 [13:00<05:16,  2.08it/s]"
     ]
    },
    {
     "name": "stdout",
     "output_type": "stream",
     "text": [
      "Fetching data for movie ID tt4943040 from OMDb...\n"
     ]
    },
    {
     "name": "stderr",
     "output_type": "stream",
     "text": [
      "Fetching movie data:  75%|█████████████▍    | 1958/2614 [13:00<04:56,  2.21it/s]"
     ]
    },
    {
     "name": "stdout",
     "output_type": "stream",
     "text": [
      "Fetching data for movie ID tt15203280 from OMDb...\n"
     ]
    },
    {
     "name": "stderr",
     "output_type": "stream",
     "text": [
      "Fetching movie data:  75%|█████████████▍    | 1959/2614 [13:01<04:35,  2.38it/s]"
     ]
    },
    {
     "name": "stdout",
     "output_type": "stream",
     "text": [
      "Fetching data for movie ID tt9077660 from OMDb...\n"
     ]
    },
    {
     "name": "stderr",
     "output_type": "stream",
     "text": [
      "Fetching movie data:  75%|█████████████▍    | 1960/2614 [13:01<04:43,  2.31it/s]"
     ]
    },
    {
     "name": "stdout",
     "output_type": "stream",
     "text": [
      "Fetching data for movie ID tt33066175 from OMDb...\n"
     ]
    },
    {
     "name": "stderr",
     "output_type": "stream",
     "text": [
      "Fetching movie data:  75%|█████████████▌    | 1961/2614 [13:02<04:46,  2.28it/s]"
     ]
    },
    {
     "name": "stdout",
     "output_type": "stream",
     "text": [
      "Progress saved after 38300 movies.\n",
      "Fetching data for movie ID tt5934542 from OMDb...\n"
     ]
    },
    {
     "name": "stderr",
     "output_type": "stream",
     "text": [
      "Fetching movie data:  75%|█████████████▌    | 1962/2614 [13:02<04:41,  2.31it/s]"
     ]
    },
    {
     "name": "stdout",
     "output_type": "stream",
     "text": [
      "Fetching data for movie ID tt3469676 from OMDb...\n"
     ]
    },
    {
     "name": "stderr",
     "output_type": "stream",
     "text": [
      "Fetching movie data:  75%|█████████████▌    | 1963/2614 [13:02<04:36,  2.35it/s]"
     ]
    },
    {
     "name": "stdout",
     "output_type": "stream",
     "text": [
      "Fetching data for movie ID tt33169801 from OMDb...\n"
     ]
    },
    {
     "name": "stderr",
     "output_type": "stream",
     "text": [
      "Fetching movie data:  75%|█████████████▌    | 1964/2614 [13:03<04:19,  2.51it/s]"
     ]
    },
    {
     "name": "stdout",
     "output_type": "stream",
     "text": [
      "Fetching data for movie ID tt15620158 from OMDb...\n"
     ]
    },
    {
     "name": "stderr",
     "output_type": "stream",
     "text": [
      "Fetching movie data:  75%|█████████████▌    | 1965/2614 [13:06<14:03,  1.30s/it]"
     ]
    },
    {
     "name": "stdout",
     "output_type": "stream",
     "text": [
      "Fetching data for movie ID tt34328066 from OMDb...\n"
     ]
    },
    {
     "name": "stderr",
     "output_type": "stream",
     "text": [
      "Fetching movie data:  75%|█████████████▌    | 1966/2614 [13:06<10:33,  1.02it/s]"
     ]
    },
    {
     "name": "stdout",
     "output_type": "stream",
     "text": [
      "Fetching data for movie ID tt3341876 from OMDb...\n",
      "Fetching data for movie ID tt10136034 from OMDb...\n"
     ]
    },
    {
     "name": "stderr",
     "output_type": "stream",
     "text": [
      "Fetching movie data:  75%|█████████████▌    | 1968/2614 [13:07<06:58,  1.54it/s]"
     ]
    },
    {
     "name": "stdout",
     "output_type": "stream",
     "text": [
      "Fetching data for movie ID tt14384232 from OMDb...\n"
     ]
    },
    {
     "name": "stderr",
     "output_type": "stream",
     "text": [
      "Fetching movie data:  75%|█████████████▌    | 1969/2614 [13:07<06:07,  1.75it/s]"
     ]
    },
    {
     "name": "stdout",
     "output_type": "stream",
     "text": [
      "Fetching data for movie ID tt2022441 from OMDb...\n"
     ]
    },
    {
     "name": "stderr",
     "output_type": "stream",
     "text": [
      "Fetching movie data:  75%|█████████████▌    | 1970/2614 [13:07<05:27,  1.96it/s]"
     ]
    },
    {
     "name": "stdout",
     "output_type": "stream",
     "text": [
      "Fetching data for movie ID tt11194810 from OMDb...\n"
     ]
    },
    {
     "name": "stderr",
     "output_type": "stream",
     "text": [
      "Fetching movie data:  75%|█████████████▌    | 1971/2614 [13:08<05:08,  2.09it/s]"
     ]
    },
    {
     "name": "stdout",
     "output_type": "stream",
     "text": [
      "Fetching data for movie ID tt31164121 from OMDb...\n"
     ]
    },
    {
     "name": "stderr",
     "output_type": "stream",
     "text": [
      "Fetching movie data:  75%|█████████████▌    | 1972/2614 [13:08<05:11,  2.06it/s]"
     ]
    },
    {
     "name": "stdout",
     "output_type": "stream",
     "text": [
      "Fetching data for movie ID tt31923094 from OMDb...\n"
     ]
    },
    {
     "name": "stderr",
     "output_type": "stream",
     "text": [
      "Fetching movie data:  75%|█████████████▌    | 1973/2614 [13:09<04:45,  2.25it/s]"
     ]
    },
    {
     "name": "stdout",
     "output_type": "stream",
     "text": [
      "Fetching data for movie ID tt26678866 from OMDb...\n"
     ]
    },
    {
     "name": "stderr",
     "output_type": "stream",
     "text": [
      "Fetching movie data:  76%|█████████████▌    | 1974/2614 [13:09<05:32,  1.92it/s]"
     ]
    },
    {
     "name": "stdout",
     "output_type": "stream",
     "text": [
      "Fetching data for movie ID tt7013450 from OMDb...\n"
     ]
    },
    {
     "name": "stderr",
     "output_type": "stream",
     "text": [
      "Fetching movie data:  76%|█████████████▌    | 1975/2614 [13:10<05:01,  2.12it/s]"
     ]
    },
    {
     "name": "stdout",
     "output_type": "stream",
     "text": [
      "Fetching data for movie ID tt5545582 from OMDb...\n"
     ]
    },
    {
     "name": "stderr",
     "output_type": "stream",
     "text": [
      "Fetching movie data:  76%|█████████████▌    | 1976/2614 [13:10<05:10,  2.06it/s]"
     ]
    },
    {
     "name": "stdout",
     "output_type": "stream",
     "text": [
      "Fetching data for movie ID tt6388082 from OMDb...\n"
     ]
    },
    {
     "name": "stderr",
     "output_type": "stream",
     "text": [
      "Fetching movie data:  76%|█████████████▌    | 1977/2614 [13:11<05:16,  2.01it/s]"
     ]
    },
    {
     "name": "stdout",
     "output_type": "stream",
     "text": [
      "Fetching data for movie ID tt13576014 from OMDb...\n"
     ]
    },
    {
     "name": "stderr",
     "output_type": "stream",
     "text": [
      "Fetching movie data:  76%|█████████████▌    | 1978/2614 [13:11<04:53,  2.17it/s]"
     ]
    },
    {
     "name": "stdout",
     "output_type": "stream",
     "text": [
      "Fetching data for movie ID tt11107074 from OMDb...\n"
     ]
    },
    {
     "name": "stderr",
     "output_type": "stream",
     "text": [
      "Fetching movie data:  76%|█████████████▋    | 1979/2614 [13:12<04:37,  2.29it/s]"
     ]
    },
    {
     "name": "stdout",
     "output_type": "stream",
     "text": [
      "Fetching data for movie ID tt2811496 from OMDb...\n"
     ]
    },
    {
     "name": "stderr",
     "output_type": "stream",
     "text": [
      "Fetching movie data:  76%|█████████████▋    | 1980/2614 [13:12<04:21,  2.43it/s]"
     ]
    },
    {
     "name": "stdout",
     "output_type": "stream",
     "text": [
      "Fetching data for movie ID tt3510684 from OMDb...\n"
     ]
    },
    {
     "name": "stderr",
     "output_type": "stream",
     "text": [
      "Fetching movie data:  76%|█████████████▋    | 1981/2614 [13:12<04:30,  2.34it/s]"
     ]
    },
    {
     "name": "stdout",
     "output_type": "stream",
     "text": [
      "Fetching data for movie ID tt9548182 from OMDb...\n"
     ]
    },
    {
     "name": "stderr",
     "output_type": "stream",
     "text": [
      "Fetching movie data:  76%|█████████████▋    | 1982/2614 [13:13<04:33,  2.31it/s]"
     ]
    },
    {
     "name": "stdout",
     "output_type": "stream",
     "text": [
      "Fetching data for movie ID tt5333078 from OMDb...\n"
     ]
    },
    {
     "name": "stderr",
     "output_type": "stream",
     "text": [
      "Fetching movie data:  76%|█████████████▋    | 1983/2614 [13:13<04:23,  2.39it/s]"
     ]
    },
    {
     "name": "stdout",
     "output_type": "stream",
     "text": [
      "Fetching data for movie ID tt6047260 from OMDb...\n"
     ]
    },
    {
     "name": "stderr",
     "output_type": "stream",
     "text": [
      "Fetching movie data:  76%|█████████████▋    | 1984/2614 [13:14<04:19,  2.43it/s]"
     ]
    },
    {
     "name": "stdout",
     "output_type": "stream",
     "text": [
      "Fetching data for movie ID tt7356432 from OMDb...\n"
     ]
    },
    {
     "name": "stderr",
     "output_type": "stream",
     "text": [
      "Fetching movie data:  76%|█████████████▋    | 1985/2614 [13:14<04:11,  2.50it/s]"
     ]
    },
    {
     "name": "stdout",
     "output_type": "stream",
     "text": [
      "Fetching data for movie ID tt15433860 from OMDb...\n"
     ]
    },
    {
     "name": "stderr",
     "output_type": "stream",
     "text": [
      "Fetching movie data:  76%|█████████████▋    | 1986/2614 [13:14<04:00,  2.61it/s]"
     ]
    },
    {
     "name": "stdout",
     "output_type": "stream",
     "text": [
      "Fetching data for movie ID tt35044216 from OMDb...\n",
      "Fetching data for movie ID tt6719272 from OMDb...\n"
     ]
    },
    {
     "name": "stderr",
     "output_type": "stream",
     "text": [
      "Fetching movie data:  76%|█████████████▋    | 1988/2614 [13:15<03:17,  3.17it/s]"
     ]
    },
    {
     "name": "stdout",
     "output_type": "stream",
     "text": [
      "Fetching data for movie ID tt4254568 from OMDb...\n"
     ]
    },
    {
     "name": "stderr",
     "output_type": "stream",
     "text": [
      "Fetching movie data:  76%|█████████████▋    | 1989/2614 [13:16<06:22,  1.63it/s]"
     ]
    },
    {
     "name": "stdout",
     "output_type": "stream",
     "text": [
      "Fetching data for movie ID tt2780220 from OMDb...\n"
     ]
    },
    {
     "name": "stderr",
     "output_type": "stream",
     "text": [
      "Fetching movie data:  76%|█████████████▋    | 1990/2614 [13:17<06:05,  1.71it/s]"
     ]
    },
    {
     "name": "stdout",
     "output_type": "stream",
     "text": [
      "Fetching data for movie ID tt14235928 from OMDb...\n"
     ]
    },
    {
     "name": "stderr",
     "output_type": "stream",
     "text": [
      "Fetching movie data:  76%|█████████████▋    | 1991/2614 [13:17<05:43,  1.82it/s]"
     ]
    },
    {
     "name": "stdout",
     "output_type": "stream",
     "text": [
      "Fetching data for movie ID tt4302612 from OMDb...\n"
     ]
    },
    {
     "name": "stderr",
     "output_type": "stream",
     "text": [
      "Fetching movie data:  76%|█████████████▋    | 1992/2614 [13:18<05:16,  1.96it/s]"
     ]
    },
    {
     "name": "stdout",
     "output_type": "stream",
     "text": [
      "Fetching data for movie ID tt15509450 from OMDb...\n"
     ]
    },
    {
     "name": "stderr",
     "output_type": "stream",
     "text": [
      "Fetching movie data:  76%|█████████████▋    | 1993/2614 [13:18<05:39,  1.83it/s]"
     ]
    },
    {
     "name": "stdout",
     "output_type": "stream",
     "text": [
      "Fetching data for movie ID tt13880104 from OMDb...\n"
     ]
    },
    {
     "name": "stderr",
     "output_type": "stream",
     "text": [
      "Fetching movie data:  76%|█████████████▋    | 1994/2614 [13:19<05:08,  2.01it/s]"
     ]
    },
    {
     "name": "stdout",
     "output_type": "stream",
     "text": [
      "Fetching data for movie ID tt13616242 from OMDb...\n"
     ]
    },
    {
     "name": "stderr",
     "output_type": "stream",
     "text": [
      "Fetching movie data:  76%|█████████████▋    | 1995/2614 [13:19<04:40,  2.21it/s]"
     ]
    },
    {
     "name": "stdout",
     "output_type": "stream",
     "text": [
      "Fetching data for movie ID tt8692562 from OMDb...\n"
     ]
    },
    {
     "name": "stderr",
     "output_type": "stream",
     "text": [
      "Fetching movie data:  76%|█████████████▋    | 1996/2614 [13:20<04:37,  2.23it/s]"
     ]
    },
    {
     "name": "stdout",
     "output_type": "stream",
     "text": [
      "Fetching data for movie ID tt17014810 from OMDb...\n"
     ]
    },
    {
     "name": "stderr",
     "output_type": "stream",
     "text": [
      "Fetching movie data:  76%|█████████████▊    | 1997/2614 [13:20<04:31,  2.28it/s]"
     ]
    },
    {
     "name": "stdout",
     "output_type": "stream",
     "text": [
      "Fetching data for movie ID tt27486508 from OMDb...\n"
     ]
    },
    {
     "name": "stderr",
     "output_type": "stream",
     "text": [
      "Fetching movie data:  76%|█████████████▊    | 1998/2614 [13:20<04:45,  2.15it/s]"
     ]
    },
    {
     "name": "stdout",
     "output_type": "stream",
     "text": [
      "Fetching data for movie ID tt4047196 from OMDb...\n"
     ]
    },
    {
     "name": "stderr",
     "output_type": "stream",
     "text": [
      "Fetching movie data:  76%|█████████████▊    | 1999/2614 [13:21<04:22,  2.34it/s]"
     ]
    },
    {
     "name": "stdout",
     "output_type": "stream",
     "text": [
      "Fetching data for movie ID tt4225298 from OMDb...\n"
     ]
    },
    {
     "name": "stderr",
     "output_type": "stream",
     "text": [
      "Fetching movie data:  77%|█████████████▊    | 2000/2614 [13:21<04:13,  2.42it/s]"
     ]
    },
    {
     "name": "stdout",
     "output_type": "stream",
     "text": [
      "Fetching data for movie ID tt34668145 from OMDb...\n",
      "Fetching data for movie ID tt32123730 from OMDb...\n"
     ]
    },
    {
     "name": "stderr",
     "output_type": "stream",
     "text": [
      "Fetching movie data:  77%|█████████████▊    | 2002/2614 [13:22<03:21,  3.03it/s]"
     ]
    },
    {
     "name": "stdout",
     "output_type": "stream",
     "text": [
      "Fetching data for movie ID tt3072876 from OMDb...\n"
     ]
    },
    {
     "name": "stderr",
     "output_type": "stream",
     "text": [
      "Fetching movie data:  77%|█████████████▊    | 2003/2614 [13:22<03:30,  2.91it/s]"
     ]
    },
    {
     "name": "stdout",
     "output_type": "stream",
     "text": [
      "Fetching data for movie ID tt11197948 from OMDb...\n"
     ]
    },
    {
     "name": "stderr",
     "output_type": "stream",
     "text": [
      "Fetching movie data:  77%|█████████████▊    | 2004/2614 [13:23<04:02,  2.51it/s]"
     ]
    },
    {
     "name": "stdout",
     "output_type": "stream",
     "text": [
      "Fetching data for movie ID tt6704278 from OMDb...\n"
     ]
    },
    {
     "name": "stderr",
     "output_type": "stream",
     "text": [
      "Fetching movie data:  77%|█████████████▊    | 2005/2614 [13:23<04:18,  2.35it/s]"
     ]
    },
    {
     "name": "stdout",
     "output_type": "stream",
     "text": [
      "Fetching data for movie ID tt22302170 from OMDb...\n"
     ]
    },
    {
     "name": "stderr",
     "output_type": "stream",
     "text": [
      "Fetching movie data:  77%|█████████████▊    | 2006/2614 [13:23<04:09,  2.44it/s]"
     ]
    },
    {
     "name": "stdout",
     "output_type": "stream",
     "text": [
      "Fetching data for movie ID tt32476996 from OMDb...\n"
     ]
    },
    {
     "name": "stderr",
     "output_type": "stream",
     "text": [
      "Fetching movie data:  77%|█████████████▊    | 2007/2614 [13:24<03:58,  2.54it/s]"
     ]
    },
    {
     "name": "stdout",
     "output_type": "stream",
     "text": [
      "Fetching data for movie ID tt14763752 from OMDb...\n"
     ]
    },
    {
     "name": "stderr",
     "output_type": "stream",
     "text": [
      "Fetching movie data:  77%|█████████████▊    | 2008/2614 [13:24<03:50,  2.63it/s]"
     ]
    },
    {
     "name": "stdout",
     "output_type": "stream",
     "text": [
      "Fetching data for movie ID tt14266320 from OMDb...\n"
     ]
    },
    {
     "name": "stderr",
     "output_type": "stream",
     "text": [
      "Fetching movie data:  77%|█████████████▊    | 2009/2614 [13:25<03:51,  2.61it/s]"
     ]
    },
    {
     "name": "stdout",
     "output_type": "stream",
     "text": [
      "Fetching data for movie ID tt21413408 from OMDb...\n"
     ]
    },
    {
     "name": "stderr",
     "output_type": "stream",
     "text": [
      "Fetching movie data:  77%|█████████████▊    | 2010/2614 [13:25<04:14,  2.38it/s]"
     ]
    },
    {
     "name": "stdout",
     "output_type": "stream",
     "text": [
      "Fetching data for movie ID tt8648974 from OMDb...\n"
     ]
    },
    {
     "name": "stderr",
     "output_type": "stream",
     "text": [
      "Fetching movie data:  77%|█████████████▊    | 2011/2614 [13:26<04:29,  2.23it/s]"
     ]
    },
    {
     "name": "stdout",
     "output_type": "stream",
     "text": [
      "Fetching data for movie ID tt25965878 from OMDb...\n"
     ]
    },
    {
     "name": "stderr",
     "output_type": "stream",
     "text": [
      "Fetching movie data:  77%|█████████████▊    | 2012/2614 [13:26<04:22,  2.29it/s]"
     ]
    },
    {
     "name": "stdout",
     "output_type": "stream",
     "text": [
      "Fetching data for movie ID tt3090640 from OMDb...\n"
     ]
    },
    {
     "name": "stderr",
     "output_type": "stream",
     "text": [
      "Fetching movie data:  77%|█████████████▊    | 2013/2614 [13:26<04:09,  2.41it/s]"
     ]
    },
    {
     "name": "stdout",
     "output_type": "stream",
     "text": [
      "Fetching data for movie ID tt12024724 from OMDb...\n"
     ]
    },
    {
     "name": "stderr",
     "output_type": "stream",
     "text": [
      "Fetching movie data:  77%|█████████████▊    | 2014/2614 [13:27<04:08,  2.41it/s]"
     ]
    },
    {
     "name": "stdout",
     "output_type": "stream",
     "text": [
      "Fetching data for movie ID tt14801022 from OMDb...\n"
     ]
    },
    {
     "name": "stderr",
     "output_type": "stream",
     "text": [
      "Fetching movie data:  77%|█████████████▉    | 2015/2614 [13:27<04:01,  2.48it/s]"
     ]
    },
    {
     "name": "stdout",
     "output_type": "stream",
     "text": [
      "Fetching data for movie ID tt7654116 from OMDb...\n"
     ]
    },
    {
     "name": "stderr",
     "output_type": "stream",
     "text": [
      "Fetching movie data:  77%|█████████████▉    | 2016/2614 [13:27<03:52,  2.57it/s]"
     ]
    },
    {
     "name": "stdout",
     "output_type": "stream",
     "text": [
      "Fetching data for movie ID tt12626614 from OMDb...\n"
     ]
    },
    {
     "name": "stderr",
     "output_type": "stream",
     "text": [
      "Fetching movie data:  77%|█████████████▉    | 2017/2614 [13:28<03:45,  2.65it/s]"
     ]
    },
    {
     "name": "stdout",
     "output_type": "stream",
     "text": [
      "Fetching data for movie ID tt33241209 from OMDb...\n"
     ]
    },
    {
     "name": "stderr",
     "output_type": "stream",
     "text": [
      "Fetching movie data:  77%|█████████████▉    | 2018/2614 [13:28<03:46,  2.63it/s]"
     ]
    },
    {
     "name": "stdout",
     "output_type": "stream",
     "text": [
      "Fetching data for movie ID tt5705552 from OMDb...\n"
     ]
    },
    {
     "name": "stderr",
     "output_type": "stream",
     "text": [
      "Fetching movie data:  77%|█████████████▉    | 2019/2614 [13:29<04:10,  2.38it/s]"
     ]
    },
    {
     "name": "stdout",
     "output_type": "stream",
     "text": [
      "Fetching data for movie ID tt22306188 from OMDb...\n"
     ]
    },
    {
     "name": "stderr",
     "output_type": "stream",
     "text": [
      "Fetching movie data:  77%|█████████████▉    | 2020/2614 [13:29<04:08,  2.39it/s]"
     ]
    },
    {
     "name": "stdout",
     "output_type": "stream",
     "text": [
      "Fetching data for movie ID tt33983922 from OMDb...\n"
     ]
    },
    {
     "name": "stderr",
     "output_type": "stream",
     "text": [
      "Fetching movie data:  77%|█████████████▉    | 2021/2614 [13:30<04:24,  2.24it/s]"
     ]
    },
    {
     "name": "stdout",
     "output_type": "stream",
     "text": [
      "Fetching data for movie ID tt16755700 from OMDb...\n"
     ]
    },
    {
     "name": "stderr",
     "output_type": "stream",
     "text": [
      "Fetching movie data:  77%|█████████████▉    | 2022/2614 [13:30<04:30,  2.19it/s]"
     ]
    },
    {
     "name": "stdout",
     "output_type": "stream",
     "text": [
      "Fetching data for movie ID tt15485264 from OMDb...\n"
     ]
    },
    {
     "name": "stderr",
     "output_type": "stream",
     "text": [
      "Fetching movie data:  77%|█████████████▉    | 2023/2614 [13:31<04:44,  2.08it/s]"
     ]
    },
    {
     "name": "stdout",
     "output_type": "stream",
     "text": [
      "Fetching data for movie ID tt10330046 from OMDb...\n"
     ]
    },
    {
     "name": "stderr",
     "output_type": "stream",
     "text": [
      "Fetching movie data:  77%|█████████████▉    | 2025/2614 [13:31<04:06,  2.39it/s]"
     ]
    },
    {
     "name": "stdout",
     "output_type": "stream",
     "text": [
      "Fetching data for movie ID tt8199652 from OMDb...\n",
      "Fetching data for movie ID tt5902952 from OMDb...\n"
     ]
    },
    {
     "name": "stderr",
     "output_type": "stream",
     "text": [
      "Fetching movie data:  78%|█████████████▉    | 2026/2614 [13:32<03:59,  2.45it/s]"
     ]
    },
    {
     "name": "stdout",
     "output_type": "stream",
     "text": [
      "Fetching data for movie ID tt21217966 from OMDb...\n"
     ]
    },
    {
     "name": "stderr",
     "output_type": "stream",
     "text": [
      "Fetching movie data:  78%|█████████████▉    | 2027/2614 [13:32<04:10,  2.35it/s]"
     ]
    },
    {
     "name": "stdout",
     "output_type": "stream",
     "text": [
      "Fetching data for movie ID tt12987950 from OMDb...\n"
     ]
    },
    {
     "name": "stderr",
     "output_type": "stream",
     "text": [
      "Fetching movie data:  78%|█████████████▉    | 2028/2614 [13:33<04:24,  2.21it/s]"
     ]
    },
    {
     "name": "stdout",
     "output_type": "stream",
     "text": [
      "Fetching data for movie ID tt8269438 from OMDb...\n"
     ]
    },
    {
     "name": "stderr",
     "output_type": "stream",
     "text": [
      "Fetching movie data:  78%|█████████████▉    | 2029/2614 [13:33<04:16,  2.28it/s]"
     ]
    },
    {
     "name": "stdout",
     "output_type": "stream",
     "text": [
      "Fetching data for movie ID tt7275116 from OMDb...\n"
     ]
    },
    {
     "name": "stderr",
     "output_type": "stream",
     "text": [
      "Fetching movie data:  78%|█████████████▉    | 2030/2614 [13:34<04:09,  2.34it/s]"
     ]
    },
    {
     "name": "stdout",
     "output_type": "stream",
     "text": [
      "Fetching data for movie ID tt29606289 from OMDb...\n"
     ]
    },
    {
     "name": "stderr",
     "output_type": "stream",
     "text": [
      "Fetching movie data:  78%|█████████████▉    | 2031/2614 [13:34<04:25,  2.19it/s]"
     ]
    },
    {
     "name": "stdout",
     "output_type": "stream",
     "text": [
      "Fetching data for movie ID tt5013056 from OMDb...\n",
      "Fetching data for movie ID tt31226981 from OMDb...\n"
     ]
    },
    {
     "name": "stderr",
     "output_type": "stream",
     "text": [
      "Fetching movie data:  78%|█████████████▉    | 2033/2614 [13:35<03:31,  2.75it/s]"
     ]
    },
    {
     "name": "stdout",
     "output_type": "stream",
     "text": [
      "Fetching data for movie ID tt4372240 from OMDb...\n"
     ]
    },
    {
     "name": "stderr",
     "output_type": "stream",
     "text": [
      "Fetching movie data:  78%|██████████████    | 2034/2614 [13:35<03:29,  2.77it/s]"
     ]
    },
    {
     "name": "stdout",
     "output_type": "stream",
     "text": [
      "Fetching data for movie ID tt30869861 from OMDb...\n"
     ]
    },
    {
     "name": "stderr",
     "output_type": "stream",
     "text": [
      "Fetching movie data:  78%|██████████████    | 2035/2614 [13:35<03:44,  2.57it/s]"
     ]
    },
    {
     "name": "stdout",
     "output_type": "stream",
     "text": [
      "Fetching data for movie ID tt21922264 from OMDb...\n"
     ]
    },
    {
     "name": "stderr",
     "output_type": "stream",
     "text": [
      "Fetching movie data:  78%|██████████████    | 2036/2614 [13:36<03:48,  2.53it/s]"
     ]
    },
    {
     "name": "stdout",
     "output_type": "stream",
     "text": [
      "Fetching data for movie ID tt5974388 from OMDb...\n"
     ]
    },
    {
     "name": "stderr",
     "output_type": "stream",
     "text": [
      "Fetching movie data:  78%|██████████████    | 2037/2614 [13:36<03:37,  2.65it/s]"
     ]
    },
    {
     "name": "stdout",
     "output_type": "stream",
     "text": [
      "Fetching data for movie ID tt1705100 from OMDb...\n"
     ]
    },
    {
     "name": "stderr",
     "output_type": "stream",
     "text": [
      "Fetching movie data:  78%|██████████████    | 2038/2614 [13:37<03:55,  2.45it/s]"
     ]
    },
    {
     "name": "stdout",
     "output_type": "stream",
     "text": [
      "Fetching data for movie ID tt3212568 from OMDb...\n"
     ]
    },
    {
     "name": "stderr",
     "output_type": "stream",
     "text": [
      "Fetching movie data:  78%|██████████████    | 2039/2614 [13:37<03:43,  2.57it/s]"
     ]
    },
    {
     "name": "stdout",
     "output_type": "stream",
     "text": [
      "Fetching data for movie ID tt11670372 from OMDb...\n"
     ]
    },
    {
     "name": "stderr",
     "output_type": "stream",
     "text": [
      "Fetching movie data:  78%|██████████████    | 2040/2614 [13:37<03:39,  2.61it/s]"
     ]
    },
    {
     "name": "stdout",
     "output_type": "stream",
     "text": [
      "Fetching data for movie ID tt31499797 from OMDb...\n"
     ]
    },
    {
     "name": "stderr",
     "output_type": "stream",
     "text": [
      "Fetching movie data:  78%|██████████████    | 2041/2614 [13:38<03:34,  2.67it/s]"
     ]
    },
    {
     "name": "stdout",
     "output_type": "stream",
     "text": [
      "Fetching data for movie ID tt19770238 from OMDb...\n"
     ]
    },
    {
     "name": "stderr",
     "output_type": "stream",
     "text": [
      "Fetching movie data:  78%|██████████████    | 2042/2614 [13:38<03:30,  2.72it/s]"
     ]
    },
    {
     "name": "stdout",
     "output_type": "stream",
     "text": [
      "Fetching data for movie ID tt24580986 from OMDb...\n"
     ]
    },
    {
     "name": "stderr",
     "output_type": "stream",
     "text": [
      "Fetching movie data:  78%|██████████████    | 2043/2614 [13:39<03:39,  2.60it/s]"
     ]
    },
    {
     "name": "stdout",
     "output_type": "stream",
     "text": [
      "Fetching data for movie ID tt10368988 from OMDb...\n"
     ]
    },
    {
     "name": "stderr",
     "output_type": "stream",
     "text": [
      "Fetching movie data:  78%|██████████████    | 2044/2614 [13:39<03:33,  2.67it/s]"
     ]
    },
    {
     "name": "stdout",
     "output_type": "stream",
     "text": [
      "Fetching data for movie ID tt5122312 from OMDb...\n"
     ]
    },
    {
     "name": "stderr",
     "output_type": "stream",
     "text": [
      "Fetching movie data:  78%|██████████████    | 2045/2614 [13:39<03:39,  2.59it/s]"
     ]
    },
    {
     "name": "stdout",
     "output_type": "stream",
     "text": [
      "Fetching data for movie ID tt11574092 from OMDb...\n"
     ]
    },
    {
     "name": "stderr",
     "output_type": "stream",
     "text": [
      "Fetching movie data:  78%|██████████████    | 2046/2614 [13:40<03:35,  2.64it/s]"
     ]
    },
    {
     "name": "stdout",
     "output_type": "stream",
     "text": [
      "Fetching data for movie ID tt7350814 from OMDb...\n"
     ]
    },
    {
     "name": "stderr",
     "output_type": "stream",
     "text": [
      "Fetching movie data:  78%|██████████████    | 2047/2614 [13:40<03:40,  2.58it/s]"
     ]
    },
    {
     "name": "stdout",
     "output_type": "stream",
     "text": [
      "Fetching data for movie ID tt8999494 from OMDb...\n"
     ]
    },
    {
     "name": "stderr",
     "output_type": "stream",
     "text": [
      "Fetching movie data:  78%|██████████████    | 2048/2614 [13:40<03:31,  2.68it/s]"
     ]
    },
    {
     "name": "stdout",
     "output_type": "stream",
     "text": [
      "Fetching data for movie ID tt15162684 from OMDb...\n"
     ]
    },
    {
     "name": "stderr",
     "output_type": "stream",
     "text": [
      "Fetching movie data:  78%|██████████████    | 2049/2614 [13:41<03:47,  2.48it/s]"
     ]
    },
    {
     "name": "stdout",
     "output_type": "stream",
     "text": [
      "Fetching data for movie ID tt14307446 from OMDb...\n"
     ]
    },
    {
     "name": "stderr",
     "output_type": "stream",
     "text": [
      "Fetching movie data:  78%|██████████████    | 2050/2614 [13:41<03:44,  2.52it/s]"
     ]
    },
    {
     "name": "stdout",
     "output_type": "stream",
     "text": [
      "Fetching data for movie ID tt11793774 from OMDb...\n"
     ]
    },
    {
     "name": "stderr",
     "output_type": "stream",
     "text": [
      "Fetching movie data:  78%|██████████████    | 2051/2614 [13:42<04:09,  2.26it/s]"
     ]
    },
    {
     "name": "stdout",
     "output_type": "stream",
     "text": [
      "Fetching data for movie ID tt16160716 from OMDb...\n"
     ]
    },
    {
     "name": "stderr",
     "output_type": "stream",
     "text": [
      "Fetching movie data:  79%|██████████████▏   | 2052/2614 [13:42<04:20,  2.16it/s]"
     ]
    },
    {
     "name": "stdout",
     "output_type": "stream",
     "text": [
      "Fetching data for movie ID tt14873790 from OMDb...\n"
     ]
    },
    {
     "name": "stderr",
     "output_type": "stream",
     "text": [
      "Fetching movie data:  79%|██████████████▏   | 2053/2614 [13:43<04:50,  1.93it/s]"
     ]
    },
    {
     "name": "stdout",
     "output_type": "stream",
     "text": [
      "Fetching data for movie ID tt11393362 from OMDb...\n"
     ]
    },
    {
     "name": "stderr",
     "output_type": "stream",
     "text": [
      "Fetching movie data:  79%|██████████████▏   | 2054/2614 [13:44<05:00,  1.86it/s]"
     ]
    },
    {
     "name": "stdout",
     "output_type": "stream",
     "text": [
      "Fetching data for movie ID tt7938336 from OMDb...\n"
     ]
    },
    {
     "name": "stderr",
     "output_type": "stream",
     "text": [
      "Fetching movie data:  79%|██████████████▏   | 2055/2614 [13:44<04:56,  1.89it/s]"
     ]
    },
    {
     "name": "stdout",
     "output_type": "stream",
     "text": [
      "Fetching data for movie ID tt10171988 from OMDb...\n"
     ]
    },
    {
     "name": "stderr",
     "output_type": "stream",
     "text": [
      "Fetching movie data:  79%|██████████████▏   | 2056/2614 [13:45<04:52,  1.91it/s]"
     ]
    },
    {
     "name": "stdout",
     "output_type": "stream",
     "text": [
      "Fetching data for movie ID tt4507880 from OMDb...\n"
     ]
    },
    {
     "name": "stderr",
     "output_type": "stream",
     "text": [
      "Fetching movie data:  79%|██████████████▏   | 2057/2614 [13:45<04:50,  1.92it/s]"
     ]
    },
    {
     "name": "stdout",
     "output_type": "stream",
     "text": [
      "Fetching data for movie ID tt3233904 from OMDb...\n"
     ]
    },
    {
     "name": "stderr",
     "output_type": "stream",
     "text": [
      "Fetching movie data:  79%|██████████████▏   | 2058/2614 [13:46<04:30,  2.05it/s]"
     ]
    },
    {
     "name": "stdout",
     "output_type": "stream",
     "text": [
      "Fetching data for movie ID tt3417512 from OMDb...\n"
     ]
    },
    {
     "name": "stderr",
     "output_type": "stream",
     "text": [
      "Fetching movie data:  79%|██████████████▏   | 2059/2614 [13:46<04:34,  2.02it/s]"
     ]
    },
    {
     "name": "stdout",
     "output_type": "stream",
     "text": [
      "Fetching data for movie ID tt8050000 from OMDb...\n"
     ]
    },
    {
     "name": "stderr",
     "output_type": "stream",
     "text": [
      "Fetching movie data:  79%|██████████████▏   | 2060/2614 [13:47<04:36,  2.00it/s]"
     ]
    },
    {
     "name": "stdout",
     "output_type": "stream",
     "text": [
      "Fetching data for movie ID tt14527896 from OMDb...\n"
     ]
    },
    {
     "name": "stderr",
     "output_type": "stream",
     "text": [
      "Fetching movie data:  79%|██████████████▏   | 2061/2614 [13:47<04:38,  1.99it/s]"
     ]
    },
    {
     "name": "stdout",
     "output_type": "stream",
     "text": [
      "Fetching data for movie ID tt31391953 from OMDb...\n"
     ]
    },
    {
     "name": "stderr",
     "output_type": "stream",
     "text": [
      "Fetching movie data:  79%|██████████████▏   | 2062/2614 [13:47<04:19,  2.12it/s]"
     ]
    },
    {
     "name": "stdout",
     "output_type": "stream",
     "text": [
      "Fetching data for movie ID tt9059120 from OMDb...\n"
     ]
    },
    {
     "name": "stderr",
     "output_type": "stream",
     "text": [
      "Fetching movie data:  79%|██████████████▏   | 2064/2614 [13:48<03:28,  2.64it/s]"
     ]
    },
    {
     "name": "stdout",
     "output_type": "stream",
     "text": [
      "Progress saved after 38400 movies.\n",
      "Fetching data for movie ID tt15553428 from OMDb...\n",
      "Fetching data for movie ID tt6149648 from OMDb...\n"
     ]
    },
    {
     "name": "stderr",
     "output_type": "stream",
     "text": [
      "Fetching movie data:  79%|██████████████▏   | 2065/2614 [13:48<03:29,  2.62it/s]"
     ]
    },
    {
     "name": "stdout",
     "output_type": "stream",
     "text": [
      "Fetching data for movie ID tt11658446 from OMDb...\n"
     ]
    },
    {
     "name": "stderr",
     "output_type": "stream",
     "text": [
      "Fetching movie data:  79%|██████████████▏   | 2066/2614 [13:49<03:25,  2.66it/s]"
     ]
    },
    {
     "name": "stdout",
     "output_type": "stream",
     "text": [
      "Fetching data for movie ID tt5086426 from OMDb...\n"
     ]
    },
    {
     "name": "stderr",
     "output_type": "stream",
     "text": [
      "Fetching movie data:  79%|██████████████▏   | 2068/2614 [13:49<03:01,  3.02it/s]"
     ]
    },
    {
     "name": "stdout",
     "output_type": "stream",
     "text": [
      "Fetching data for movie ID tt0455944 from OMDb...\n",
      "Fetching data for movie ID tt14677150 from OMDb...\n"
     ]
    },
    {
     "name": "stderr",
     "output_type": "stream",
     "text": [
      "Fetching movie data:  79%|██████████████▏   | 2069/2614 [13:50<03:15,  2.78it/s]"
     ]
    },
    {
     "name": "stdout",
     "output_type": "stream",
     "text": [
      "Fetching data for movie ID tt5298742 from OMDb...\n"
     ]
    },
    {
     "name": "stderr",
     "output_type": "stream",
     "text": [
      "Fetching movie data:  79%|██████████████▎   | 2070/2614 [13:50<03:27,  2.63it/s]"
     ]
    },
    {
     "name": "stdout",
     "output_type": "stream",
     "text": [
      "Fetching data for movie ID tt6875836 from OMDb...\n"
     ]
    },
    {
     "name": "stderr",
     "output_type": "stream",
     "text": [
      "Fetching movie data:  79%|██████████████▎   | 2071/2614 [13:51<03:31,  2.57it/s]"
     ]
    },
    {
     "name": "stdout",
     "output_type": "stream",
     "text": [
      "Fetching data for movie ID tt3626804 from OMDb...\n"
     ]
    },
    {
     "name": "stderr",
     "output_type": "stream",
     "text": [
      "Fetching movie data:  79%|██████████████▎   | 2072/2614 [13:51<03:50,  2.35it/s]"
     ]
    },
    {
     "name": "stdout",
     "output_type": "stream",
     "text": [
      "Fetching data for movie ID tt26763526 from OMDb...\n"
     ]
    },
    {
     "name": "stderr",
     "output_type": "stream",
     "text": [
      "Fetching movie data:  79%|██████████████▎   | 2074/2614 [13:52<03:15,  2.77it/s]"
     ]
    },
    {
     "name": "stdout",
     "output_type": "stream",
     "text": [
      "Fetching data for movie ID tt8033592 from OMDb...\n",
      "Fetching data for movie ID tt5699950 from OMDb...\n"
     ]
    },
    {
     "name": "stderr",
     "output_type": "stream",
     "text": [
      "Fetching movie data:  79%|██████████████▎   | 2075/2614 [13:52<03:41,  2.43it/s]"
     ]
    },
    {
     "name": "stdout",
     "output_type": "stream",
     "text": [
      "Fetching data for movie ID tt4844418 from OMDb...\n"
     ]
    },
    {
     "name": "stderr",
     "output_type": "stream",
     "text": [
      "Fetching movie data:  79%|██████████████▎   | 2076/2614 [13:53<03:41,  2.43it/s]"
     ]
    },
    {
     "name": "stdout",
     "output_type": "stream",
     "text": [
      "Fetching data for movie ID tt24060894 from OMDb...\n"
     ]
    },
    {
     "name": "stderr",
     "output_type": "stream",
     "text": [
      "Fetching movie data:  79%|██████████████▎   | 2077/2614 [13:53<04:17,  2.09it/s]"
     ]
    },
    {
     "name": "stdout",
     "output_type": "stream",
     "text": [
      "Fetching data for movie ID tt31615962 from OMDb...\n"
     ]
    },
    {
     "name": "stderr",
     "output_type": "stream",
     "text": [
      "Fetching movie data:  79%|██████████████▎   | 2078/2614 [13:54<04:23,  2.03it/s]"
     ]
    },
    {
     "name": "stdout",
     "output_type": "stream",
     "text": [
      "Fetching data for movie ID tt20310970 from OMDb...\n"
     ]
    },
    {
     "name": "stderr",
     "output_type": "stream",
     "text": [
      "Fetching movie data:  80%|██████████████▎   | 2079/2614 [13:55<04:38,  1.92it/s]"
     ]
    },
    {
     "name": "stdout",
     "output_type": "stream",
     "text": [
      "Fetching data for movie ID tt31495505 from OMDb...\n"
     ]
    },
    {
     "name": "stderr",
     "output_type": "stream",
     "text": [
      "Fetching movie data:  80%|██████████████▎   | 2080/2614 [13:55<04:38,  1.92it/s]"
     ]
    },
    {
     "name": "stdout",
     "output_type": "stream",
     "text": [
      "Fetching data for movie ID tt3641502 from OMDb...\n"
     ]
    },
    {
     "name": "stderr",
     "output_type": "stream",
     "text": [
      "Fetching movie data:  80%|██████████████▎   | 2081/2614 [13:56<04:38,  1.91it/s]"
     ]
    },
    {
     "name": "stdout",
     "output_type": "stream",
     "text": [
      "Fetching data for movie ID tt25809694 from OMDb...\n"
     ]
    },
    {
     "name": "stderr",
     "output_type": "stream",
     "text": [
      "Fetching movie data:  80%|██████████████▎   | 2082/2614 [13:56<04:27,  1.99it/s]"
     ]
    },
    {
     "name": "stdout",
     "output_type": "stream",
     "text": [
      "Fetching data for movie ID tt27543992 from OMDb...\n"
     ]
    },
    {
     "name": "stderr",
     "output_type": "stream",
     "text": [
      "Fetching movie data:  80%|██████████████▎   | 2083/2614 [13:56<04:07,  2.15it/s]"
     ]
    },
    {
     "name": "stdout",
     "output_type": "stream",
     "text": [
      "Fetching data for movie ID tt15307786 from OMDb...\n"
     ]
    },
    {
     "name": "stderr",
     "output_type": "stream",
     "text": [
      "Fetching movie data:  80%|██████████████▎   | 2084/2614 [13:57<03:55,  2.25it/s]"
     ]
    },
    {
     "name": "stdout",
     "output_type": "stream",
     "text": [
      "Fetching data for movie ID tt7321882 from OMDb...\n"
     ]
    },
    {
     "name": "stderr",
     "output_type": "stream",
     "text": [
      "Fetching movie data:  80%|██████████████▎   | 2085/2614 [13:57<03:52,  2.28it/s]"
     ]
    },
    {
     "name": "stdout",
     "output_type": "stream",
     "text": [
      "Fetching data for movie ID tt9357242 from OMDb...\n"
     ]
    },
    {
     "name": "stderr",
     "output_type": "stream",
     "text": [
      "Fetching movie data:  80%|██████████████▎   | 2086/2614 [13:58<03:51,  2.28it/s]"
     ]
    },
    {
     "name": "stdout",
     "output_type": "stream",
     "text": [
      "Fetching data for movie ID tt5537614 from OMDb...\n"
     ]
    },
    {
     "name": "stderr",
     "output_type": "stream",
     "text": [
      "Fetching movie data:  80%|██████████████▎   | 2087/2614 [13:58<03:42,  2.37it/s]"
     ]
    },
    {
     "name": "stdout",
     "output_type": "stream",
     "text": [
      "Fetching data for movie ID tt12322110 from OMDb...\n"
     ]
    },
    {
     "name": "stderr",
     "output_type": "stream",
     "text": [
      "Fetching movie data:  80%|██████████████▍   | 2088/2614 [13:59<03:39,  2.39it/s]"
     ]
    },
    {
     "name": "stdout",
     "output_type": "stream",
     "text": [
      "Fetching data for movie ID tt3414374 from OMDb...\n"
     ]
    },
    {
     "name": "stderr",
     "output_type": "stream",
     "text": [
      "Fetching movie data:  80%|██████████████▍   | 2090/2614 [13:59<02:57,  2.96it/s]"
     ]
    },
    {
     "name": "stdout",
     "output_type": "stream",
     "text": [
      "Fetching data for movie ID tt23770030 from OMDb...\n",
      "Fetching data for movie ID tt9105364 from OMDb...\n"
     ]
    },
    {
     "name": "stderr",
     "output_type": "stream",
     "text": [
      "Fetching movie data:  80%|██████████████▍   | 2091/2614 [14:00<03:15,  2.68it/s]"
     ]
    },
    {
     "name": "stdout",
     "output_type": "stream",
     "text": [
      "Fetching data for movie ID tt4722734 from OMDb...\n"
     ]
    },
    {
     "name": "stderr",
     "output_type": "stream",
     "text": [
      "Fetching movie data:  80%|██████████████▍   | 2092/2614 [14:00<03:16,  2.66it/s]"
     ]
    },
    {
     "name": "stdout",
     "output_type": "stream",
     "text": [
      "Fetching data for movie ID tt4829288 from OMDb...\n",
      "Fetching data for movie ID tt5918432 from OMDb...\n"
     ]
    },
    {
     "name": "stderr",
     "output_type": "stream",
     "text": [
      "Fetching movie data:  80%|██████████████▍   | 2094/2614 [14:00<02:50,  3.05it/s]"
     ]
    },
    {
     "name": "stdout",
     "output_type": "stream",
     "text": [
      "Fetching data for movie ID tt14930454 from OMDb...\n",
      "Fetching data for movie ID tt3959484 from OMDb...\n"
     ]
    },
    {
     "name": "stderr",
     "output_type": "stream",
     "text": [
      "Fetching movie data:  80%|██████████████▍   | 2096/2614 [14:01<02:33,  3.37it/s]"
     ]
    },
    {
     "name": "stdout",
     "output_type": "stream",
     "text": [
      "Fetching data for movie ID tt28377767 from OMDb...\n"
     ]
    },
    {
     "name": "stderr",
     "output_type": "stream",
     "text": [
      "Fetching movie data:  80%|██████████████▍   | 2097/2614 [14:01<02:47,  3.09it/s]"
     ]
    },
    {
     "name": "stdout",
     "output_type": "stream",
     "text": [
      "Fetching data for movie ID tt21113962 from OMDb...\n"
     ]
    },
    {
     "name": "stderr",
     "output_type": "stream",
     "text": [
      "Fetching movie data:  80%|██████████████▍   | 2098/2614 [14:02<02:57,  2.90it/s]"
     ]
    },
    {
     "name": "stdout",
     "output_type": "stream",
     "text": [
      "Fetching data for movie ID tt10968040 from OMDb...\n"
     ]
    },
    {
     "name": "stderr",
     "output_type": "stream",
     "text": [
      "Fetching movie data:  80%|██████████████▍   | 2099/2614 [14:02<03:19,  2.58it/s]"
     ]
    },
    {
     "name": "stdout",
     "output_type": "stream",
     "text": [
      "Fetching data for movie ID tt5197250 from OMDb...\n"
     ]
    },
    {
     "name": "stderr",
     "output_type": "stream",
     "text": [
      "Fetching movie data:  80%|██████████████▍   | 2100/2614 [14:03<03:21,  2.55it/s]"
     ]
    },
    {
     "name": "stdout",
     "output_type": "stream",
     "text": [
      "Fetching data for movie ID tt7444626 from OMDb...\n"
     ]
    },
    {
     "name": "stderr",
     "output_type": "stream",
     "text": [
      "Fetching movie data:  80%|██████████████▍   | 2101/2614 [14:03<03:24,  2.51it/s]"
     ]
    },
    {
     "name": "stdout",
     "output_type": "stream",
     "text": [
      "Fetching data for movie ID tt7747312 from OMDb...\n"
     ]
    },
    {
     "name": "stderr",
     "output_type": "stream",
     "text": [
      "Fetching movie data:  80%|██████████████▍   | 2102/2614 [14:04<03:25,  2.49it/s]"
     ]
    },
    {
     "name": "stdout",
     "output_type": "stream",
     "text": [
      "Fetching data for movie ID tt12936516 from OMDb...\n"
     ]
    },
    {
     "name": "stderr",
     "output_type": "stream",
     "text": [
      "Fetching movie data:  80%|██████████████▍   | 2103/2614 [14:04<03:26,  2.48it/s]"
     ]
    },
    {
     "name": "stdout",
     "output_type": "stream",
     "text": [
      "Fetching data for movie ID tt18296448 from OMDb...\n"
     ]
    },
    {
     "name": "stderr",
     "output_type": "stream",
     "text": [
      "Fetching movie data:  80%|██████████████▍   | 2104/2614 [14:04<03:26,  2.46it/s]"
     ]
    },
    {
     "name": "stdout",
     "output_type": "stream",
     "text": [
      "Fetching data for movie ID tt4972442 from OMDb...\n"
     ]
    },
    {
     "name": "stderr",
     "output_type": "stream",
     "text": [
      "Fetching movie data:  81%|██████████████▍   | 2105/2614 [14:05<03:26,  2.46it/s]"
     ]
    },
    {
     "name": "stdout",
     "output_type": "stream",
     "text": [
      "Fetching data for movie ID tt1929449 from OMDb...\n"
     ]
    },
    {
     "name": "stderr",
     "output_type": "stream",
     "text": [
      "Fetching movie data:  81%|██████████████▌   | 2106/2614 [14:05<03:16,  2.58it/s]"
     ]
    },
    {
     "name": "stdout",
     "output_type": "stream",
     "text": [
      "Fetching data for movie ID tt5513174 from OMDb...\n"
     ]
    },
    {
     "name": "stderr",
     "output_type": "stream",
     "text": [
      "Fetching movie data:  81%|██████████████▌   | 2107/2614 [14:06<03:29,  2.42it/s]"
     ]
    },
    {
     "name": "stdout",
     "output_type": "stream",
     "text": [
      "Fetching data for movie ID tt8559006 from OMDb...\n"
     ]
    },
    {
     "name": "stderr",
     "output_type": "stream",
     "text": [
      "Fetching movie data:  81%|██████████████▌   | 2108/2614 [14:06<03:44,  2.25it/s]"
     ]
    },
    {
     "name": "stdout",
     "output_type": "stream",
     "text": [
      "Fetching data for movie ID tt21027784 from OMDb...\n"
     ]
    },
    {
     "name": "stderr",
     "output_type": "stream",
     "text": [
      "Fetching movie data:  81%|██████████████▌   | 2109/2614 [14:06<03:28,  2.42it/s]"
     ]
    },
    {
     "name": "stdout",
     "output_type": "stream",
     "text": [
      "Fetching data for movie ID tt35230932 from OMDb...\n",
      "Fetching data for movie ID tt14742450 from OMDb...\n"
     ]
    },
    {
     "name": "stderr",
     "output_type": "stream",
     "text": [
      "Fetching movie data:  81%|██████████████▌   | 2111/2614 [14:07<02:44,  3.06it/s]"
     ]
    },
    {
     "name": "stdout",
     "output_type": "stream",
     "text": [
      "Fetching data for movie ID tt9724306 from OMDb...\n"
     ]
    },
    {
     "name": "stderr",
     "output_type": "stream",
     "text": [
      "Fetching movie data:  81%|██████████████▌   | 2112/2614 [14:07<02:57,  2.83it/s]"
     ]
    },
    {
     "name": "stdout",
     "output_type": "stream",
     "text": [
      "Fetching data for movie ID tt30832622 from OMDb...\n"
     ]
    },
    {
     "name": "stderr",
     "output_type": "stream",
     "text": [
      "Fetching movie data:  81%|██████████████▌   | 2113/2614 [14:08<03:17,  2.53it/s]"
     ]
    },
    {
     "name": "stdout",
     "output_type": "stream",
     "text": [
      "Fetching data for movie ID tt32045639 from OMDb...\n"
     ]
    },
    {
     "name": "stderr",
     "output_type": "stream",
     "text": [
      "Fetching movie data:  81%|██████████████▌   | 2114/2614 [14:08<03:19,  2.51it/s]"
     ]
    },
    {
     "name": "stdout",
     "output_type": "stream",
     "text": [
      "Fetching data for movie ID tt9519398 from OMDb...\n"
     ]
    },
    {
     "name": "stderr",
     "output_type": "stream",
     "text": [
      "Fetching movie data:  81%|██████████████▌   | 2115/2614 [14:09<03:34,  2.32it/s]"
     ]
    },
    {
     "name": "stdout",
     "output_type": "stream",
     "text": [
      "Fetching data for movie ID tt6856132 from OMDb...\n"
     ]
    },
    {
     "name": "stderr",
     "output_type": "stream",
     "text": [
      "Fetching movie data:  81%|██████████████▌   | 2116/2614 [14:09<03:45,  2.20it/s]"
     ]
    },
    {
     "name": "stdout",
     "output_type": "stream",
     "text": [
      "Fetching data for movie ID tt2692938 from OMDb...\n"
     ]
    },
    {
     "name": "stderr",
     "output_type": "stream",
     "text": [
      "Fetching movie data:  81%|██████████████▌   | 2117/2614 [14:10<03:35,  2.30it/s]"
     ]
    },
    {
     "name": "stdout",
     "output_type": "stream",
     "text": [
      "Fetching data for movie ID tt32828869 from OMDb...\n"
     ]
    },
    {
     "name": "stderr",
     "output_type": "stream",
     "text": [
      "Fetching movie data:  81%|██████████████▌   | 2119/2614 [14:10<02:45,  2.99it/s]"
     ]
    },
    {
     "name": "stdout",
     "output_type": "stream",
     "text": [
      "Fetching data for movie ID tt5461944 from OMDb...\n",
      "Fetching data for movie ID tt29455361 from OMDb...\n"
     ]
    },
    {
     "name": "stderr",
     "output_type": "stream",
     "text": [
      "Fetching movie data:  81%|██████████████▌   | 2120/2614 [14:11<02:57,  2.78it/s]"
     ]
    },
    {
     "name": "stdout",
     "output_type": "stream",
     "text": [
      "Fetching data for movie ID tt10751528 from OMDb...\n"
     ]
    },
    {
     "name": "stderr",
     "output_type": "stream",
     "text": [
      "Fetching movie data:  81%|██████████████▌   | 2121/2614 [14:11<03:07,  2.63it/s]"
     ]
    },
    {
     "name": "stdout",
     "output_type": "stream",
     "text": [
      "Fetching data for movie ID tt4496420 from OMDb...\n"
     ]
    },
    {
     "name": "stderr",
     "output_type": "stream",
     "text": [
      "Fetching movie data:  81%|██████████████▌   | 2122/2614 [14:11<03:03,  2.68it/s]"
     ]
    },
    {
     "name": "stdout",
     "output_type": "stream",
     "text": [
      "Fetching data for movie ID tt22095236 from OMDb...\n"
     ]
    },
    {
     "name": "stderr",
     "output_type": "stream",
     "text": [
      "Fetching movie data:  81%|██████████████▌   | 2123/2614 [14:12<03:16,  2.50it/s]"
     ]
    },
    {
     "name": "stdout",
     "output_type": "stream",
     "text": [
      "Fetching data for movie ID tt18303206 from OMDb...\n"
     ]
    },
    {
     "name": "stderr",
     "output_type": "stream",
     "text": [
      "Fetching movie data:  81%|██████████████▋   | 2124/2614 [14:12<03:13,  2.53it/s]"
     ]
    },
    {
     "name": "stdout",
     "output_type": "stream",
     "text": [
      "Fetching data for movie ID tt19496116 from OMDb...\n"
     ]
    },
    {
     "name": "stderr",
     "output_type": "stream",
     "text": [
      "Fetching movie data:  81%|██████████████▋   | 2125/2614 [14:13<03:08,  2.59it/s]"
     ]
    },
    {
     "name": "stdout",
     "output_type": "stream",
     "text": [
      "Fetching data for movie ID tt2404579 from OMDb...\n"
     ]
    },
    {
     "name": "stderr",
     "output_type": "stream",
     "text": [
      "Fetching movie data:  81%|██████████████▋   | 2126/2614 [14:13<03:07,  2.61it/s]"
     ]
    },
    {
     "name": "stdout",
     "output_type": "stream",
     "text": [
      "Fetching data for movie ID tt7794358 from OMDb...\n"
     ]
    },
    {
     "name": "stderr",
     "output_type": "stream",
     "text": [
      "Fetching movie data:  81%|██████████████▋   | 2127/2614 [14:13<03:11,  2.55it/s]"
     ]
    },
    {
     "name": "stdout",
     "output_type": "stream",
     "text": [
      "Fetching data for movie ID tt11417508 from OMDb...\n"
     ]
    },
    {
     "name": "stderr",
     "output_type": "stream",
     "text": [
      "Fetching movie data:  81%|██████████████▋   | 2129/2614 [14:14<02:42,  2.98it/s]"
     ]
    },
    {
     "name": "stdout",
     "output_type": "stream",
     "text": [
      "Fetching data for movie ID tt35078960 from OMDb...\n",
      "Fetching data for movie ID tt10155980 from OMDb...\n"
     ]
    },
    {
     "name": "stderr",
     "output_type": "stream",
     "text": [
      "Fetching movie data:  81%|██████████████▋   | 2130/2614 [14:14<02:55,  2.77it/s]"
     ]
    },
    {
     "name": "stdout",
     "output_type": "stream",
     "text": [
      "Fetching data for movie ID tt11602002 from OMDb...\n"
     ]
    },
    {
     "name": "stderr",
     "output_type": "stream",
     "text": [
      "Fetching movie data:  82%|██████████████▋   | 2131/2614 [14:15<02:58,  2.70it/s]"
     ]
    },
    {
     "name": "stdout",
     "output_type": "stream",
     "text": [
      "Fetching data for movie ID tt5545098 from OMDb...\n"
     ]
    },
    {
     "name": "stderr",
     "output_type": "stream",
     "text": [
      "Fetching movie data:  82%|██████████████▋   | 2132/2614 [14:15<03:07,  2.58it/s]"
     ]
    },
    {
     "name": "stdout",
     "output_type": "stream",
     "text": [
      "Fetching data for movie ID tt5289172 from OMDb...\n"
     ]
    },
    {
     "name": "stderr",
     "output_type": "stream",
     "text": [
      "Fetching movie data:  82%|██████████████▋   | 2133/2614 [14:16<03:00,  2.66it/s]"
     ]
    },
    {
     "name": "stdout",
     "output_type": "stream",
     "text": [
      "Fetching data for movie ID tt13366054 from OMDb...\n"
     ]
    },
    {
     "name": "stderr",
     "output_type": "stream",
     "text": [
      "Fetching movie data:  82%|██████████████▋   | 2134/2614 [14:16<02:59,  2.68it/s]"
     ]
    },
    {
     "name": "stdout",
     "output_type": "stream",
     "text": [
      "Fetching data for movie ID tt30947838 from OMDb...\n"
     ]
    },
    {
     "name": "stderr",
     "output_type": "stream",
     "text": [
      "Fetching movie data:  82%|██████████████▋   | 2135/2614 [14:16<03:01,  2.64it/s]"
     ]
    },
    {
     "name": "stdout",
     "output_type": "stream",
     "text": [
      "Fetching data for movie ID tt26660021 from OMDb...\n"
     ]
    },
    {
     "name": "stderr",
     "output_type": "stream",
     "text": [
      "Fetching movie data:  82%|██████████████▋   | 2136/2614 [14:17<03:08,  2.54it/s]"
     ]
    },
    {
     "name": "stdout",
     "output_type": "stream",
     "text": [
      "Fetching data for movie ID tt3951266 from OMDb...\n"
     ]
    },
    {
     "name": "stderr",
     "output_type": "stream",
     "text": [
      "Fetching movie data:  82%|██████████████▋   | 2137/2614 [14:17<03:10,  2.51it/s]"
     ]
    },
    {
     "name": "stdout",
     "output_type": "stream",
     "text": [
      "Fetching data for movie ID tt33063024 from OMDb...\n"
     ]
    },
    {
     "name": "stderr",
     "output_type": "stream",
     "text": [
      "Fetching movie data:  82%|██████████████▋   | 2138/2614 [14:18<03:11,  2.49it/s]"
     ]
    },
    {
     "name": "stdout",
     "output_type": "stream",
     "text": [
      "Fetching data for movie ID tt14670276 from OMDb...\n"
     ]
    },
    {
     "name": "stderr",
     "output_type": "stream",
     "text": [
      "Fetching movie data:  82%|██████████████▋   | 2139/2614 [14:18<03:05,  2.57it/s]"
     ]
    },
    {
     "name": "stdout",
     "output_type": "stream",
     "text": [
      "Fetching data for movie ID tt21358120 from OMDb...\n"
     ]
    },
    {
     "name": "stderr",
     "output_type": "stream",
     "text": [
      "Fetching movie data:  82%|██████████████▋   | 2140/2614 [14:18<03:03,  2.59it/s]"
     ]
    },
    {
     "name": "stdout",
     "output_type": "stream",
     "text": [
      "Fetching data for movie ID tt4075804 from OMDb...\n"
     ]
    },
    {
     "name": "stderr",
     "output_type": "stream",
     "text": [
      "Fetching movie data:  82%|██████████████▋   | 2142/2614 [14:19<02:32,  3.09it/s]"
     ]
    },
    {
     "name": "stdout",
     "output_type": "stream",
     "text": [
      "Fetching data for movie ID tt5867600 from OMDb...\n",
      "Fetching data for movie ID tt11647172 from OMDb...\n"
     ]
    },
    {
     "name": "stderr",
     "output_type": "stream",
     "text": [
      "Fetching movie data:  82%|██████████████▊   | 2143/2614 [14:19<02:48,  2.80it/s]"
     ]
    },
    {
     "name": "stdout",
     "output_type": "stream",
     "text": [
      "Fetching data for movie ID tt4880942 from OMDb...\n"
     ]
    },
    {
     "name": "stderr",
     "output_type": "stream",
     "text": [
      "Fetching movie data:  82%|██████████████▊   | 2144/2614 [14:20<02:55,  2.67it/s]"
     ]
    },
    {
     "name": "stdout",
     "output_type": "stream",
     "text": [
      "Fetching data for movie ID tt30018556 from OMDb...\n"
     ]
    },
    {
     "name": "stderr",
     "output_type": "stream",
     "text": [
      "Fetching movie data:  82%|██████████████▊   | 2145/2614 [14:20<03:00,  2.60it/s]"
     ]
    },
    {
     "name": "stdout",
     "output_type": "stream",
     "text": [
      "Fetching data for movie ID tt4009434 from OMDb...\n"
     ]
    },
    {
     "name": "stderr",
     "output_type": "stream",
     "text": [
      "Fetching movie data:  82%|██████████████▊   | 2146/2614 [14:20<02:53,  2.70it/s]"
     ]
    },
    {
     "name": "stdout",
     "output_type": "stream",
     "text": [
      "Fetching data for movie ID tt19268354 from OMDb...\n"
     ]
    },
    {
     "name": "stderr",
     "output_type": "stream",
     "text": [
      "Fetching movie data:  82%|██████████████▊   | 2147/2614 [14:21<02:51,  2.72it/s]"
     ]
    },
    {
     "name": "stdout",
     "output_type": "stream",
     "text": [
      "Fetching data for movie ID tt27908623 from OMDb...\n"
     ]
    },
    {
     "name": "stderr",
     "output_type": "stream",
     "text": [
      "Fetching movie data:  82%|██████████████▊   | 2148/2614 [14:21<02:59,  2.60it/s]"
     ]
    },
    {
     "name": "stdout",
     "output_type": "stream",
     "text": [
      "Fetching data for movie ID tt27719925 from OMDb...\n"
     ]
    },
    {
     "name": "stderr",
     "output_type": "stream",
     "text": [
      "Fetching movie data:  82%|██████████████▊   | 2149/2614 [14:22<03:00,  2.57it/s]"
     ]
    },
    {
     "name": "stdout",
     "output_type": "stream",
     "text": [
      "Fetching data for movie ID tt14194204 from OMDb...\n"
     ]
    },
    {
     "name": "stderr",
     "output_type": "stream",
     "text": [
      "Fetching movie data:  82%|██████████████▊   | 2150/2614 [14:22<03:04,  2.51it/s]"
     ]
    },
    {
     "name": "stdout",
     "output_type": "stream",
     "text": [
      "Fetching data for movie ID tt11217098 from OMDb...\n"
     ]
    },
    {
     "name": "stderr",
     "output_type": "stream",
     "text": [
      "Fetching movie data:  82%|██████████████▊   | 2151/2614 [14:22<03:05,  2.50it/s]"
     ]
    },
    {
     "name": "stdout",
     "output_type": "stream",
     "text": [
      "Fetching data for movie ID tt11083442 from OMDb...\n"
     ]
    },
    {
     "name": "stderr",
     "output_type": "stream",
     "text": [
      "Fetching movie data:  82%|██████████████▊   | 2152/2614 [14:23<03:21,  2.29it/s]"
     ]
    },
    {
     "name": "stdout",
     "output_type": "stream",
     "text": [
      "Fetching data for movie ID tt9598492 from OMDb...\n"
     ]
    },
    {
     "name": "stderr",
     "output_type": "stream",
     "text": [
      "Fetching movie data:  82%|██████████████▊   | 2153/2614 [14:23<03:09,  2.43it/s]"
     ]
    },
    {
     "name": "stdout",
     "output_type": "stream",
     "text": [
      "Fetching data for movie ID tt3511812 from OMDb...\n"
     ]
    },
    {
     "name": "stderr",
     "output_type": "stream",
     "text": [
      "Fetching movie data:  82%|██████████████▊   | 2154/2614 [14:24<03:16,  2.34it/s]"
     ]
    },
    {
     "name": "stdout",
     "output_type": "stream",
     "text": [
      "Fetching data for movie ID tt5262176 from OMDb...\n"
     ]
    },
    {
     "name": "stderr",
     "output_type": "stream",
     "text": [
      "Fetching movie data:  82%|██████████████▊   | 2155/2614 [14:24<03:27,  2.21it/s]"
     ]
    },
    {
     "name": "stdout",
     "output_type": "stream",
     "text": [
      "Fetching data for movie ID tt4066544 from OMDb...\n"
     ]
    },
    {
     "name": "stderr",
     "output_type": "stream",
     "text": [
      "Fetching movie data:  82%|██████████████▊   | 2156/2614 [14:25<03:21,  2.27it/s]"
     ]
    },
    {
     "name": "stdout",
     "output_type": "stream",
     "text": [
      "Fetching data for movie ID tt22326574 from OMDb...\n"
     ]
    },
    {
     "name": "stderr",
     "output_type": "stream",
     "text": [
      "Fetching movie data:  83%|██████████████▊   | 2157/2614 [14:25<03:30,  2.17it/s]"
     ]
    },
    {
     "name": "stdout",
     "output_type": "stream",
     "text": [
      "Fetching data for movie ID tt32821458 from OMDb...\n"
     ]
    },
    {
     "name": "stderr",
     "output_type": "stream",
     "text": [
      "Fetching movie data:  83%|██████████████▊   | 2158/2614 [14:26<03:14,  2.34it/s]"
     ]
    },
    {
     "name": "stdout",
     "output_type": "stream",
     "text": [
      "Fetching data for movie ID tt1316541 from OMDb...\n"
     ]
    },
    {
     "name": "stderr",
     "output_type": "stream",
     "text": [
      "Fetching movie data:  83%|██████████████▊   | 2159/2614 [14:26<03:20,  2.27it/s]"
     ]
    },
    {
     "name": "stdout",
     "output_type": "stream",
     "text": [
      "Fetching data for movie ID tt9420648 from OMDb...\n"
     ]
    },
    {
     "name": "stderr",
     "output_type": "stream",
     "text": [
      "Fetching movie data:  83%|██████████████▊   | 2160/2614 [14:26<03:16,  2.31it/s]"
     ]
    },
    {
     "name": "stdout",
     "output_type": "stream",
     "text": [
      "Fetching data for movie ID tt6820982 from OMDb...\n"
     ]
    },
    {
     "name": "stderr",
     "output_type": "stream",
     "text": [
      "Fetching movie data:  83%|██████████████▉   | 2161/2614 [14:27<03:09,  2.39it/s]"
     ]
    },
    {
     "name": "stdout",
     "output_type": "stream",
     "text": [
      "Fetching data for movie ID tt7967296 from OMDb...\n"
     ]
    },
    {
     "name": "stderr",
     "output_type": "stream",
     "text": [
      "Fetching movie data:  83%|██████████████▉   | 2162/2614 [14:27<03:04,  2.45it/s]"
     ]
    },
    {
     "name": "stdout",
     "output_type": "stream",
     "text": [
      "Fetching data for movie ID tt14489394 from OMDb...\n"
     ]
    },
    {
     "name": "stderr",
     "output_type": "stream",
     "text": [
      "Fetching movie data:  83%|██████████████▉   | 2163/2614 [14:28<03:10,  2.37it/s]"
     ]
    },
    {
     "name": "stdout",
     "output_type": "stream",
     "text": [
      "Fetching data for movie ID tt15815950 from OMDb...\n"
     ]
    },
    {
     "name": "stderr",
     "output_type": "stream",
     "text": [
      "Fetching movie data:  83%|██████████████▉   | 2164/2614 [14:28<03:08,  2.39it/s]"
     ]
    },
    {
     "name": "stdout",
     "output_type": "stream",
     "text": [
      "Fetching data for movie ID tt30505883 from OMDb...\n"
     ]
    },
    {
     "name": "stderr",
     "output_type": "stream",
     "text": [
      "Fetching movie data:  83%|██████████████▉   | 2165/2614 [14:29<03:12,  2.34it/s]"
     ]
    },
    {
     "name": "stdout",
     "output_type": "stream",
     "text": [
      "Progress saved after 38500 movies.\n",
      "Fetching data for movie ID tt23039430 from OMDb...\n"
     ]
    },
    {
     "name": "stderr",
     "output_type": "stream",
     "text": [
      "Fetching movie data:  83%|██████████████▉   | 2166/2614 [14:29<03:17,  2.27it/s]"
     ]
    },
    {
     "name": "stdout",
     "output_type": "stream",
     "text": [
      "Fetching data for movie ID tt12283140 from OMDb...\n"
     ]
    },
    {
     "name": "stderr",
     "output_type": "stream",
     "text": [
      "Fetching movie data:  83%|██████████████▉   | 2167/2614 [14:29<03:05,  2.41it/s]"
     ]
    },
    {
     "name": "stdout",
     "output_type": "stream",
     "text": [
      "Fetching data for movie ID tt4273886 from OMDb...\n"
     ]
    },
    {
     "name": "stderr",
     "output_type": "stream",
     "text": [
      "Fetching movie data:  83%|██████████████▉   | 2168/2614 [14:30<02:57,  2.51it/s]"
     ]
    },
    {
     "name": "stdout",
     "output_type": "stream",
     "text": [
      "Fetching data for movie ID tt17078736 from OMDb...\n"
     ]
    },
    {
     "name": "stderr",
     "output_type": "stream",
     "text": [
      "Fetching movie data:  83%|██████████████▉   | 2169/2614 [14:30<02:52,  2.58it/s]"
     ]
    },
    {
     "name": "stdout",
     "output_type": "stream",
     "text": [
      "Fetching data for movie ID tt26924600 from OMDb...\n"
     ]
    },
    {
     "name": "stderr",
     "output_type": "stream",
     "text": [
      "Fetching movie data:  83%|██████████████▉   | 2170/2614 [14:31<02:52,  2.57it/s]"
     ]
    },
    {
     "name": "stdout",
     "output_type": "stream",
     "text": [
      "Fetching data for movie ID tt3331846 from OMDb...\n"
     ]
    },
    {
     "name": "stderr",
     "output_type": "stream",
     "text": [
      "Fetching movie data:  83%|██████████████▉   | 2171/2614 [14:31<02:46,  2.66it/s]"
     ]
    },
    {
     "name": "stdout",
     "output_type": "stream",
     "text": [
      "Fetching data for movie ID tt26031858 from OMDb...\n",
      "Fetching data for movie ID tt4264548 from OMDb...\n"
     ]
    },
    {
     "name": "stderr",
     "output_type": "stream",
     "text": [
      "Fetching movie data:  83%|██████████████▉   | 2173/2614 [14:31<02:17,  3.21it/s]"
     ]
    },
    {
     "name": "stdout",
     "output_type": "stream",
     "text": [
      "Fetching data for movie ID tt7225386 from OMDb...\n"
     ]
    },
    {
     "name": "stderr",
     "output_type": "stream",
     "text": [
      "Fetching movie data:  83%|██████████████▉   | 2174/2614 [14:32<02:25,  3.02it/s]"
     ]
    },
    {
     "name": "stdout",
     "output_type": "stream",
     "text": [
      "Fetching data for movie ID tt4468132 from OMDb...\n"
     ]
    },
    {
     "name": "stderr",
     "output_type": "stream",
     "text": [
      "Fetching movie data:  83%|██████████████▉   | 2175/2614 [14:32<02:32,  2.88it/s]"
     ]
    },
    {
     "name": "stdout",
     "output_type": "stream",
     "text": [
      "Fetching data for movie ID tt2451750 from OMDb...\n"
     ]
    },
    {
     "name": "stderr",
     "output_type": "stream",
     "text": [
      "Fetching movie data:  83%|██████████████▉   | 2176/2614 [14:33<02:40,  2.73it/s]"
     ]
    },
    {
     "name": "stdout",
     "output_type": "stream",
     "text": [
      "Fetching data for movie ID tt25752206 from OMDb...\n"
     ]
    },
    {
     "name": "stderr",
     "output_type": "stream",
     "text": [
      "Fetching movie data:  83%|██████████████▉   | 2177/2614 [14:33<02:42,  2.69it/s]"
     ]
    },
    {
     "name": "stdout",
     "output_type": "stream",
     "text": [
      "Fetching data for movie ID tt11212914 from OMDb...\n"
     ]
    },
    {
     "name": "stderr",
     "output_type": "stream",
     "text": [
      "Fetching movie data:  83%|██████████████▉   | 2178/2614 [14:33<02:48,  2.58it/s]"
     ]
    },
    {
     "name": "stdout",
     "output_type": "stream",
     "text": [
      "Fetching data for movie ID tt11284566 from OMDb...\n"
     ]
    },
    {
     "name": "stderr",
     "output_type": "stream",
     "text": [
      "Fetching movie data:  83%|███████████████   | 2179/2614 [14:34<02:51,  2.54it/s]"
     ]
    },
    {
     "name": "stdout",
     "output_type": "stream",
     "text": [
      "Fetching data for movie ID tt10011508 from OMDb...\n"
     ]
    },
    {
     "name": "stderr",
     "output_type": "stream",
     "text": [
      "Fetching movie data:  83%|███████████████   | 2180/2614 [14:34<02:43,  2.65it/s]"
     ]
    },
    {
     "name": "stdout",
     "output_type": "stream",
     "text": [
      "Fetching data for movie ID tt8612886 from OMDb...\n"
     ]
    },
    {
     "name": "stderr",
     "output_type": "stream",
     "text": [
      "Fetching movie data:  83%|███████████████   | 2181/2614 [14:34<02:43,  2.64it/s]"
     ]
    },
    {
     "name": "stdout",
     "output_type": "stream",
     "text": [
      "Fetching data for movie ID tt7345034 from OMDb...\n"
     ]
    },
    {
     "name": "stderr",
     "output_type": "stream",
     "text": [
      "Fetching movie data:  83%|███████████████   | 2182/2614 [14:35<02:46,  2.59it/s]"
     ]
    },
    {
     "name": "stdout",
     "output_type": "stream",
     "text": [
      "Fetching data for movie ID tt5162150 from OMDb...\n"
     ]
    },
    {
     "name": "stderr",
     "output_type": "stream",
     "text": [
      "Fetching movie data:  84%|███████████████   | 2183/2614 [14:35<02:50,  2.54it/s]"
     ]
    },
    {
     "name": "stdout",
     "output_type": "stream",
     "text": [
      "Fetching data for movie ID tt8438538 from OMDb...\n"
     ]
    },
    {
     "name": "stderr",
     "output_type": "stream",
     "text": [
      "Fetching movie data:  84%|███████████████   | 2184/2614 [14:36<02:51,  2.51it/s]"
     ]
    },
    {
     "name": "stdout",
     "output_type": "stream",
     "text": [
      "Fetching data for movie ID tt7291412 from OMDb...\n"
     ]
    },
    {
     "name": "stderr",
     "output_type": "stream",
     "text": [
      "Fetching movie data:  84%|███████████████   | 2185/2614 [14:36<02:52,  2.48it/s]"
     ]
    },
    {
     "name": "stdout",
     "output_type": "stream",
     "text": [
      "Fetching data for movie ID tt21439102 from OMDb...\n"
     ]
    },
    {
     "name": "stderr",
     "output_type": "stream",
     "text": [
      "Fetching movie data:  84%|███████████████   | 2186/2614 [14:37<02:51,  2.49it/s]"
     ]
    },
    {
     "name": "stdout",
     "output_type": "stream",
     "text": [
      "Fetching data for movie ID tt3924754 from OMDb...\n"
     ]
    },
    {
     "name": "stderr",
     "output_type": "stream",
     "text": [
      "Fetching movie data:  84%|███████████████   | 2187/2614 [14:37<02:53,  2.46it/s]"
     ]
    },
    {
     "name": "stdout",
     "output_type": "stream",
     "text": [
      "Fetching data for movie ID tt30415138 from OMDb...\n"
     ]
    },
    {
     "name": "stderr",
     "output_type": "stream",
     "text": [
      "Fetching movie data:  84%|███████████████   | 2188/2614 [14:37<02:53,  2.46it/s]"
     ]
    },
    {
     "name": "stdout",
     "output_type": "stream",
     "text": [
      "Fetching data for movie ID tt4170394 from OMDb...\n"
     ]
    },
    {
     "name": "stderr",
     "output_type": "stream",
     "text": [
      "Fetching movie data:  84%|███████████████   | 2189/2614 [14:38<02:54,  2.44it/s]"
     ]
    },
    {
     "name": "stdout",
     "output_type": "stream",
     "text": [
      "Fetching data for movie ID tt23458996 from OMDb...\n"
     ]
    },
    {
     "name": "stderr",
     "output_type": "stream",
     "text": [
      "Fetching movie data:  84%|███████████████   | 2190/2614 [14:38<02:46,  2.55it/s]"
     ]
    },
    {
     "name": "stdout",
     "output_type": "stream",
     "text": [
      "Fetching data for movie ID tt4450170 from OMDb...\n"
     ]
    },
    {
     "name": "stderr",
     "output_type": "stream",
     "text": [
      "Fetching movie data:  84%|███████████████   | 2191/2614 [14:39<02:50,  2.48it/s]"
     ]
    },
    {
     "name": "stdout",
     "output_type": "stream",
     "text": [
      "Fetching data for movie ID tt31925398 from OMDb...\n"
     ]
    },
    {
     "name": "stderr",
     "output_type": "stream",
     "text": [
      "Fetching movie data:  84%|███████████████   | 2192/2614 [14:39<02:41,  2.61it/s]"
     ]
    },
    {
     "name": "stdout",
     "output_type": "stream",
     "text": [
      "Fetching data for movie ID tt4899104 from OMDb...\n"
     ]
    },
    {
     "name": "stderr",
     "output_type": "stream",
     "text": [
      "Fetching movie data:  84%|███████████████   | 2193/2614 [14:39<02:45,  2.55it/s]"
     ]
    },
    {
     "name": "stdout",
     "output_type": "stream",
     "text": [
      "Fetching data for movie ID tt6050292 from OMDb...\n"
     ]
    },
    {
     "name": "stderr",
     "output_type": "stream",
     "text": [
      "Fetching movie data:  84%|███████████████   | 2194/2614 [14:40<02:47,  2.51it/s]"
     ]
    },
    {
     "name": "stdout",
     "output_type": "stream",
     "text": [
      "Fetching data for movie ID tt14591362 from OMDb...\n"
     ]
    },
    {
     "name": "stderr",
     "output_type": "stream",
     "text": [
      "Fetching movie data:  84%|███████████████   | 2195/2614 [14:40<02:48,  2.49it/s]"
     ]
    },
    {
     "name": "stdout",
     "output_type": "stream",
     "text": [
      "Fetching data for movie ID tt3181178 from OMDb...\n"
     ]
    },
    {
     "name": "stderr",
     "output_type": "stream",
     "text": [
      "Fetching movie data:  84%|███████████████   | 2196/2614 [14:41<02:48,  2.47it/s]"
     ]
    },
    {
     "name": "stdout",
     "output_type": "stream",
     "text": [
      "Fetching data for movie ID tt10293476 from OMDb...\n"
     ]
    },
    {
     "name": "stderr",
     "output_type": "stream",
     "text": [
      "Fetching movie data:  84%|███████████████▏  | 2197/2614 [14:41<02:45,  2.51it/s]"
     ]
    },
    {
     "name": "stdout",
     "output_type": "stream",
     "text": [
      "Fetching data for movie ID tt5698292 from OMDb...\n"
     ]
    },
    {
     "name": "stderr",
     "output_type": "stream",
     "text": [
      "Fetching movie data:  84%|███████████████▏  | 2199/2614 [14:41<02:16,  3.03it/s]"
     ]
    },
    {
     "name": "stdout",
     "output_type": "stream",
     "text": [
      "Fetching data for movie ID tt3203606 from OMDb...\n",
      "Fetching data for movie ID tt15568760 from OMDb...\n"
     ]
    },
    {
     "name": "stderr",
     "output_type": "stream",
     "text": [
      "Fetching movie data:  84%|███████████████▏  | 2200/2614 [14:42<02:29,  2.76it/s]"
     ]
    },
    {
     "name": "stdout",
     "output_type": "stream",
     "text": [
      "Fetching data for movie ID tt4264754 from OMDb...\n"
     ]
    },
    {
     "name": "stderr",
     "output_type": "stream",
     "text": [
      "Fetching movie data:  84%|███████████████▏  | 2201/2614 [14:42<02:39,  2.59it/s]"
     ]
    },
    {
     "name": "stdout",
     "output_type": "stream",
     "text": [
      "Fetching data for movie ID tt5038014 from OMDb...\n"
     ]
    },
    {
     "name": "stderr",
     "output_type": "stream",
     "text": [
      "Fetching movie data:  84%|███████████████▏  | 2202/2614 [14:43<02:34,  2.66it/s]"
     ]
    },
    {
     "name": "stdout",
     "output_type": "stream",
     "text": [
      "Fetching data for movie ID tt5715456 from OMDb...\n"
     ]
    },
    {
     "name": "stderr",
     "output_type": "stream",
     "text": [
      "Fetching movie data:  84%|███████████████▏  | 2204/2614 [14:43<02:10,  3.13it/s]"
     ]
    },
    {
     "name": "stdout",
     "output_type": "stream",
     "text": [
      "Fetching data for movie ID tt8404614 from OMDb...\n",
      "Fetching data for movie ID tt3437602 from OMDb...\n"
     ]
    },
    {
     "name": "stderr",
     "output_type": "stream",
     "text": [
      "Fetching movie data:  84%|███████████████▏  | 2205/2614 [14:44<02:14,  3.05it/s]"
     ]
    },
    {
     "name": "stdout",
     "output_type": "stream",
     "text": [
      "Fetching data for movie ID tt5842792 from OMDb...\n"
     ]
    },
    {
     "name": "stderr",
     "output_type": "stream",
     "text": [
      "Fetching movie data:  84%|███████████████▏  | 2206/2614 [14:44<02:32,  2.68it/s]"
     ]
    },
    {
     "name": "stdout",
     "output_type": "stream",
     "text": [
      "Fetching data for movie ID tt32523329 from OMDb...\n"
     ]
    },
    {
     "name": "stderr",
     "output_type": "stream",
     "text": [
      "Fetching movie data:  84%|███████████████▏  | 2207/2614 [14:44<02:34,  2.64it/s]"
     ]
    },
    {
     "name": "stdout",
     "output_type": "stream",
     "text": [
      "Fetching data for movie ID tt7007520 from OMDb...\n"
     ]
    },
    {
     "name": "stderr",
     "output_type": "stream",
     "text": [
      "Fetching movie data:  84%|███████████████▏  | 2208/2614 [14:45<02:36,  2.59it/s]"
     ]
    },
    {
     "name": "stdout",
     "output_type": "stream",
     "text": [
      "Fetching data for movie ID tt8108200 from OMDb...\n"
     ]
    },
    {
     "name": "stderr",
     "output_type": "stream",
     "text": [
      "Fetching movie data:  85%|███████████████▏  | 2209/2614 [14:45<02:41,  2.50it/s]"
     ]
    },
    {
     "name": "stdout",
     "output_type": "stream",
     "text": [
      "Fetching data for movie ID tt7526414 from OMDb...\n"
     ]
    },
    {
     "name": "stderr",
     "output_type": "stream",
     "text": [
      "Fetching movie data:  85%|███████████████▏  | 2210/2614 [14:46<02:42,  2.49it/s]"
     ]
    },
    {
     "name": "stdout",
     "output_type": "stream",
     "text": [
      "Fetching data for movie ID tt25416422 from OMDb...\n"
     ]
    },
    {
     "name": "stderr",
     "output_type": "stream",
     "text": [
      "Fetching movie data:  85%|███████████████▏  | 2211/2614 [14:46<02:36,  2.57it/s]"
     ]
    },
    {
     "name": "stdout",
     "output_type": "stream",
     "text": [
      "Fetching data for movie ID tt5614720 from OMDb...\n"
     ]
    },
    {
     "name": "stderr",
     "output_type": "stream",
     "text": [
      "Fetching movie data:  85%|███████████████▏  | 2213/2614 [14:47<02:14,  2.99it/s]"
     ]
    },
    {
     "name": "stdout",
     "output_type": "stream",
     "text": [
      "Fetching data for movie ID tt6011390 from OMDb...\n",
      "Fetching data for movie ID tt13564678 from OMDb...\n"
     ]
    },
    {
     "name": "stderr",
     "output_type": "stream",
     "text": [
      "Fetching movie data:  85%|███████████████▏  | 2214/2614 [14:47<02:28,  2.69it/s]"
     ]
    },
    {
     "name": "stdout",
     "output_type": "stream",
     "text": [
      "Fetching data for movie ID tt22781826 from OMDb...\n"
     ]
    },
    {
     "name": "stderr",
     "output_type": "stream",
     "text": [
      "Fetching movie data:  85%|███████████████▎  | 2215/2614 [14:48<02:45,  2.42it/s]"
     ]
    },
    {
     "name": "stdout",
     "output_type": "stream",
     "text": [
      "Fetching data for movie ID tt15127904 from OMDb...\n"
     ]
    },
    {
     "name": "stderr",
     "output_type": "stream",
     "text": [
      "Fetching movie data:  85%|███████████████▎  | 2216/2614 [14:48<02:38,  2.51it/s]"
     ]
    },
    {
     "name": "stdout",
     "output_type": "stream",
     "text": [
      "Fetching data for movie ID tt13449690 from OMDb...\n"
     ]
    },
    {
     "name": "stderr",
     "output_type": "stream",
     "text": [
      "Fetching movie data:  85%|███████████████▎  | 2217/2614 [14:48<02:45,  2.40it/s]"
     ]
    },
    {
     "name": "stdout",
     "output_type": "stream",
     "text": [
      "Fetching data for movie ID tt4943992 from OMDb...\n"
     ]
    },
    {
     "name": "stderr",
     "output_type": "stream",
     "text": [
      "Fetching movie data:  85%|███████████████▎  | 2218/2614 [14:49<02:43,  2.42it/s]"
     ]
    },
    {
     "name": "stdout",
     "output_type": "stream",
     "text": [
      "Fetching data for movie ID tt21343738 from OMDb...\n"
     ]
    },
    {
     "name": "stderr",
     "output_type": "stream",
     "text": [
      "Fetching movie data:  85%|███████████████▎  | 2219/2614 [14:49<02:43,  2.42it/s]"
     ]
    },
    {
     "name": "stdout",
     "output_type": "stream",
     "text": [
      "Fetching data for movie ID tt7536078 from OMDb...\n"
     ]
    },
    {
     "name": "stderr",
     "output_type": "stream",
     "text": [
      "Fetching movie data:  85%|███████████████▎  | 2220/2614 [14:50<02:39,  2.48it/s]"
     ]
    },
    {
     "name": "stdout",
     "output_type": "stream",
     "text": [
      "Fetching data for movie ID tt10236164 from OMDb...\n"
     ]
    },
    {
     "name": "stderr",
     "output_type": "stream",
     "text": [
      "Fetching movie data:  85%|███████████████▎  | 2221/2614 [14:50<02:42,  2.42it/s]"
     ]
    },
    {
     "name": "stdout",
     "output_type": "stream",
     "text": [
      "Fetching data for movie ID tt16867050 from OMDb...\n"
     ]
    },
    {
     "name": "stderr",
     "output_type": "stream",
     "text": [
      "Fetching movie data:  85%|███████████████▎  | 2222/2614 [14:51<02:53,  2.26it/s]"
     ]
    },
    {
     "name": "stdout",
     "output_type": "stream",
     "text": [
      "Fetching data for movie ID tt27564493 from OMDb...\n"
     ]
    },
    {
     "name": "stderr",
     "output_type": "stream",
     "text": [
      "Fetching movie data:  85%|███████████████▎  | 2223/2614 [14:51<02:46,  2.34it/s]"
     ]
    },
    {
     "name": "stdout",
     "output_type": "stream",
     "text": [
      "Fetching data for movie ID tt21116442 from OMDb...\n"
     ]
    },
    {
     "name": "stderr",
     "output_type": "stream",
     "text": [
      "Fetching movie data:  85%|███████████████▎  | 2224/2614 [14:51<02:47,  2.33it/s]"
     ]
    },
    {
     "name": "stdout",
     "output_type": "stream",
     "text": [
      "Fetching data for movie ID tt35050913 from OMDb...\n",
      "Fetching data for movie ID tt7240130 from OMDb...\n"
     ]
    },
    {
     "name": "stderr",
     "output_type": "stream",
     "text": [
      "Fetching movie data:  85%|███████████████▎  | 2226/2614 [14:52<02:15,  2.87it/s]"
     ]
    },
    {
     "name": "stdout",
     "output_type": "stream",
     "text": [
      "Fetching data for movie ID tt11541324 from OMDb...\n"
     ]
    },
    {
     "name": "stderr",
     "output_type": "stream",
     "text": [
      "Fetching movie data:  85%|███████████████▎  | 2227/2614 [14:52<02:20,  2.76it/s]"
     ]
    },
    {
     "name": "stdout",
     "output_type": "stream",
     "text": [
      "Fetching data for movie ID tt26381606 from OMDb...\n"
     ]
    },
    {
     "name": "stderr",
     "output_type": "stream",
     "text": [
      "Fetching movie data:  85%|███████████████▎  | 2228/2614 [14:53<02:25,  2.66it/s]"
     ]
    },
    {
     "name": "stdout",
     "output_type": "stream",
     "text": [
      "Fetching data for movie ID tt8066144 from OMDb...\n"
     ]
    },
    {
     "name": "stderr",
     "output_type": "stream",
     "text": [
      "Fetching movie data:  85%|███████████████▎  | 2229/2614 [14:53<02:20,  2.74it/s]"
     ]
    },
    {
     "name": "stdout",
     "output_type": "stream",
     "text": [
      "Fetching data for movie ID tt34242319 from OMDb...\n"
     ]
    },
    {
     "name": "stderr",
     "output_type": "stream",
     "text": [
      "Fetching movie data:  85%|███████████████▎  | 2230/2614 [14:54<02:32,  2.51it/s]"
     ]
    },
    {
     "name": "stdout",
     "output_type": "stream",
     "text": [
      "Fetching data for movie ID tt8522844 from OMDb...\n"
     ]
    },
    {
     "name": "stderr",
     "output_type": "stream",
     "text": [
      "Fetching movie data:  85%|███████████████▎  | 2231/2614 [14:54<02:33,  2.49it/s]"
     ]
    },
    {
     "name": "stdout",
     "output_type": "stream",
     "text": [
      "Fetching data for movie ID tt25393758 from OMDb...\n"
     ]
    },
    {
     "name": "stderr",
     "output_type": "stream",
     "text": [
      "Fetching movie data:  85%|███████████████▎  | 2232/2614 [14:54<02:34,  2.47it/s]"
     ]
    },
    {
     "name": "stdout",
     "output_type": "stream",
     "text": [
      "Fetching data for movie ID tt13408634 from OMDb...\n"
     ]
    },
    {
     "name": "stderr",
     "output_type": "stream",
     "text": [
      "Fetching movie data:  85%|███████████████▍  | 2233/2614 [14:55<02:34,  2.47it/s]"
     ]
    },
    {
     "name": "stdout",
     "output_type": "stream",
     "text": [
      "Fetching data for movie ID tt11015214 from OMDb...\n"
     ]
    },
    {
     "name": "stderr",
     "output_type": "stream",
     "text": [
      "Fetching movie data:  85%|███████████████▍  | 2234/2614 [14:55<02:34,  2.47it/s]"
     ]
    },
    {
     "name": "stdout",
     "output_type": "stream",
     "text": [
      "Fetching data for movie ID tt3774658 from OMDb...\n"
     ]
    },
    {
     "name": "stderr",
     "output_type": "stream",
     "text": [
      "Fetching movie data:  86%|███████████████▍  | 2235/2614 [14:56<02:45,  2.28it/s]"
     ]
    },
    {
     "name": "stdout",
     "output_type": "stream",
     "text": [
      "Fetching data for movie ID tt4176826 from OMDb...\n"
     ]
    },
    {
     "name": "stderr",
     "output_type": "stream",
     "text": [
      "Fetching movie data:  86%|███████████████▍  | 2236/2614 [14:56<02:42,  2.33it/s]"
     ]
    },
    {
     "name": "stdout",
     "output_type": "stream",
     "text": [
      "Fetching data for movie ID tt13243898 from OMDb...\n"
     ]
    },
    {
     "name": "stderr",
     "output_type": "stream",
     "text": [
      "Fetching movie data:  86%|███████████████▍  | 2237/2614 [14:57<02:40,  2.36it/s]"
     ]
    },
    {
     "name": "stdout",
     "output_type": "stream",
     "text": [
      "Fetching data for movie ID tt7748478 from OMDb...\n"
     ]
    },
    {
     "name": "stderr",
     "output_type": "stream",
     "text": [
      "Fetching movie data:  86%|███████████████▍  | 2238/2614 [14:57<02:37,  2.39it/s]"
     ]
    },
    {
     "name": "stdout",
     "output_type": "stream",
     "text": [
      "Fetching data for movie ID tt8055888 from OMDb...\n"
     ]
    },
    {
     "name": "stderr",
     "output_type": "stream",
     "text": [
      "Fetching movie data:  86%|███████████████▍  | 2239/2614 [14:58<02:47,  2.24it/s]"
     ]
    },
    {
     "name": "stdout",
     "output_type": "stream",
     "text": [
      "Fetching data for movie ID tt13893676 from OMDb...\n"
     ]
    },
    {
     "name": "stderr",
     "output_type": "stream",
     "text": [
      "Fetching movie data:  86%|███████████████▍  | 2240/2614 [14:58<02:39,  2.35it/s]"
     ]
    },
    {
     "name": "stdout",
     "output_type": "stream",
     "text": [
      "Fetching data for movie ID tt29960203 from OMDb...\n"
     ]
    },
    {
     "name": "stderr",
     "output_type": "stream",
     "text": [
      "Fetching movie data:  86%|███████████████▍  | 2241/2614 [14:58<02:37,  2.36it/s]"
     ]
    },
    {
     "name": "stdout",
     "output_type": "stream",
     "text": [
      "Fetching data for movie ID tt9536804 from OMDb...\n"
     ]
    },
    {
     "name": "stderr",
     "output_type": "stream",
     "text": [
      "Fetching movie data:  86%|███████████████▍  | 2242/2614 [14:59<02:35,  2.39it/s]"
     ]
    },
    {
     "name": "stdout",
     "output_type": "stream",
     "text": [
      "Fetching data for movie ID tt28102409 from OMDb...\n"
     ]
    },
    {
     "name": "stderr",
     "output_type": "stream",
     "text": [
      "Fetching movie data:  86%|███████████████▍  | 2243/2614 [14:59<02:37,  2.36it/s]"
     ]
    },
    {
     "name": "stdout",
     "output_type": "stream",
     "text": [
      "Fetching data for movie ID tt10393848 from OMDb...\n"
     ]
    },
    {
     "name": "stderr",
     "output_type": "stream",
     "text": [
      "Fetching movie data:  86%|███████████████▍  | 2244/2614 [15:00<02:46,  2.22it/s]"
     ]
    },
    {
     "name": "stdout",
     "output_type": "stream",
     "text": [
      "Fetching data for movie ID tt9503722 from OMDb...\n"
     ]
    },
    {
     "name": "stderr",
     "output_type": "stream",
     "text": [
      "Fetching movie data:  86%|███████████████▍  | 2245/2614 [15:00<02:53,  2.13it/s]"
     ]
    },
    {
     "name": "stdout",
     "output_type": "stream",
     "text": [
      "Fetching data for movie ID tt8004936 from OMDb...\n"
     ]
    },
    {
     "name": "stderr",
     "output_type": "stream",
     "text": [
      "Fetching movie data:  86%|███████████████▍  | 2246/2614 [15:01<02:45,  2.22it/s]"
     ]
    },
    {
     "name": "stdout",
     "output_type": "stream",
     "text": [
      "Fetching data for movie ID tt3599080 from OMDb...\n"
     ]
    },
    {
     "name": "stderr",
     "output_type": "stream",
     "text": [
      "Fetching movie data:  86%|███████████████▍  | 2248/2614 [15:01<02:08,  2.84it/s]"
     ]
    },
    {
     "name": "stdout",
     "output_type": "stream",
     "text": [
      "Fetching data for movie ID tt29270150 from OMDb...\n",
      "Fetching data for movie ID tt27272783 from OMDb...\n"
     ]
    },
    {
     "name": "stderr",
     "output_type": "stream",
     "text": [
      "Fetching movie data:  86%|███████████████▍  | 2249/2614 [15:02<02:19,  2.62it/s]"
     ]
    },
    {
     "name": "stdout",
     "output_type": "stream",
     "text": [
      "Fetching data for movie ID tt13021112 from OMDb...\n"
     ]
    },
    {
     "name": "stderr",
     "output_type": "stream",
     "text": [
      "Fetching movie data:  86%|███████████████▍  | 2250/2614 [15:02<02:23,  2.54it/s]"
     ]
    },
    {
     "name": "stdout",
     "output_type": "stream",
     "text": [
      "Fetching data for movie ID tt31921115 from OMDb...\n"
     ]
    },
    {
     "name": "stderr",
     "output_type": "stream",
     "text": [
      "Fetching movie data:  86%|███████████████▌  | 2251/2614 [15:02<02:20,  2.58it/s]"
     ]
    },
    {
     "name": "stdout",
     "output_type": "stream",
     "text": [
      "Fetching data for movie ID tt21231906 from OMDb...\n"
     ]
    },
    {
     "name": "stderr",
     "output_type": "stream",
     "text": [
      "Fetching movie data:  86%|███████████████▌  | 2252/2614 [15:03<02:27,  2.46it/s]"
     ]
    },
    {
     "name": "stdout",
     "output_type": "stream",
     "text": [
      "Fetching data for movie ID tt14997988 from OMDb...\n"
     ]
    },
    {
     "name": "stderr",
     "output_type": "stream",
     "text": [
      "Fetching movie data:  86%|███████████████▌  | 2253/2614 [15:03<02:21,  2.56it/s]"
     ]
    },
    {
     "name": "stdout",
     "output_type": "stream",
     "text": [
      "Fetching data for movie ID tt13067548 from OMDb...\n"
     ]
    },
    {
     "name": "stderr",
     "output_type": "stream",
     "text": [
      "Fetching movie data:  86%|███████████████▌  | 2254/2614 [15:04<02:28,  2.43it/s]"
     ]
    },
    {
     "name": "stdout",
     "output_type": "stream",
     "text": [
      "Fetching data for movie ID tt5066616 from OMDb...\n"
     ]
    },
    {
     "name": "stderr",
     "output_type": "stream",
     "text": [
      "Fetching movie data:  86%|███████████████▌  | 2255/2614 [15:04<02:38,  2.26it/s]"
     ]
    },
    {
     "name": "stdout",
     "output_type": "stream",
     "text": [
      "Fetching data for movie ID tt10011448 from OMDb...\n"
     ]
    },
    {
     "name": "stderr",
     "output_type": "stream",
     "text": [
      "Fetching movie data:  86%|███████████████▌  | 2257/2614 [15:05<02:13,  2.66it/s]"
     ]
    },
    {
     "name": "stdout",
     "output_type": "stream",
     "text": [
      "Fetching data for movie ID tt3517892 from OMDb...\n",
      "Fetching data for movie ID tt3415734 from OMDb...\n"
     ]
    },
    {
     "name": "stderr",
     "output_type": "stream",
     "text": [
      "Fetching movie data:  86%|███████████████▌  | 2258/2614 [15:05<02:20,  2.53it/s]"
     ]
    },
    {
     "name": "stdout",
     "output_type": "stream",
     "text": [
      "Fetching data for movie ID tt22010428 from OMDb...\n"
     ]
    },
    {
     "name": "stderr",
     "output_type": "stream",
     "text": [
      "Fetching movie data:  86%|███████████████▌  | 2259/2614 [15:06<02:32,  2.32it/s]"
     ]
    },
    {
     "name": "stdout",
     "output_type": "stream",
     "text": [
      "Fetching data for movie ID tt22440336 from OMDb...\n"
     ]
    },
    {
     "name": "stderr",
     "output_type": "stream",
     "text": [
      "Fetching movie data:  86%|███████████████▌  | 2260/2614 [15:06<02:25,  2.43it/s]"
     ]
    },
    {
     "name": "stdout",
     "output_type": "stream",
     "text": [
      "Fetching data for movie ID tt12454598 from OMDb...\n"
     ]
    },
    {
     "name": "stderr",
     "output_type": "stream",
     "text": [
      "Fetching movie data:  86%|███████████████▌  | 2261/2614 [15:07<02:25,  2.43it/s]"
     ]
    },
    {
     "name": "stdout",
     "output_type": "stream",
     "text": [
      "Fetching data for movie ID tt22057584 from OMDb...\n"
     ]
    },
    {
     "name": "stderr",
     "output_type": "stream",
     "text": [
      "Fetching movie data:  87%|███████████████▌  | 2263/2614 [15:07<02:01,  2.90it/s]"
     ]
    },
    {
     "name": "stdout",
     "output_type": "stream",
     "text": [
      "Fetching data for movie ID tt2340266 from OMDb...\n",
      "Fetching data for movie ID tt17632322 from OMDb...\n"
     ]
    },
    {
     "name": "stderr",
     "output_type": "stream",
     "text": [
      "Fetching movie data:  87%|███████████████▌  | 2264/2614 [15:08<02:11,  2.65it/s]"
     ]
    },
    {
     "name": "stdout",
     "output_type": "stream",
     "text": [
      "Fetching data for movie ID tt13449356 from OMDb...\n"
     ]
    },
    {
     "name": "stderr",
     "output_type": "stream",
     "text": [
      "Fetching movie data:  87%|███████████████▌  | 2265/2614 [15:08<02:14,  2.59it/s]"
     ]
    },
    {
     "name": "stdout",
     "output_type": "stream",
     "text": [
      "Fetching data for movie ID tt22042944 from OMDb...\n"
     ]
    },
    {
     "name": "stderr",
     "output_type": "stream",
     "text": [
      "Fetching movie data:  87%|███████████████▌  | 2266/2614 [15:09<02:24,  2.42it/s]"
     ]
    },
    {
     "name": "stdout",
     "output_type": "stream",
     "text": [
      "Progress saved after 38600 movies.\n",
      "Fetching data for movie ID tt32497018 from OMDb...\n"
     ]
    },
    {
     "name": "stderr",
     "output_type": "stream",
     "text": [
      "Fetching movie data:  87%|███████████████▌  | 2267/2614 [15:09<02:26,  2.37it/s]"
     ]
    },
    {
     "name": "stdout",
     "output_type": "stream",
     "text": [
      "Fetching data for movie ID tt5660944 from OMDb...\n"
     ]
    },
    {
     "name": "stderr",
     "output_type": "stream",
     "text": [
      "Fetching movie data:  87%|███████████████▌  | 2268/2614 [15:09<02:18,  2.49it/s]"
     ]
    },
    {
     "name": "stdout",
     "output_type": "stream",
     "text": [
      "Fetching data for movie ID tt29429585 from OMDb...\n",
      "Fetching data for movie ID tt5268106 from OMDb...\n"
     ]
    },
    {
     "name": "stderr",
     "output_type": "stream",
     "text": [
      "Fetching movie data:  87%|███████████████▋  | 2270/2614 [15:10<01:58,  2.91it/s]"
     ]
    },
    {
     "name": "stdout",
     "output_type": "stream",
     "text": [
      "Fetching data for movie ID tt11560704 from OMDb...\n"
     ]
    },
    {
     "name": "stderr",
     "output_type": "stream",
     "text": [
      "Fetching movie data:  87%|███████████████▋  | 2271/2614 [15:10<02:02,  2.81it/s]"
     ]
    },
    {
     "name": "stdout",
     "output_type": "stream",
     "text": [
      "Fetching data for movie ID tt7301978 from OMDb...\n"
     ]
    },
    {
     "name": "stderr",
     "output_type": "stream",
     "text": [
      "Fetching movie data:  87%|███████████████▋  | 2272/2614 [15:11<02:06,  2.71it/s]"
     ]
    },
    {
     "name": "stdout",
     "output_type": "stream",
     "text": [
      "Fetching data for movie ID tt15857750 from OMDb...\n"
     ]
    },
    {
     "name": "stderr",
     "output_type": "stream",
     "text": [
      "Fetching movie data:  87%|███████████████▋  | 2273/2614 [15:11<02:10,  2.62it/s]"
     ]
    },
    {
     "name": "stdout",
     "output_type": "stream",
     "text": [
      "Fetching data for movie ID tt33917481 from OMDb...\n"
     ]
    },
    {
     "name": "stderr",
     "output_type": "stream",
     "text": [
      "Fetching movie data:  87%|███████████████▋  | 2274/2614 [15:12<02:15,  2.51it/s]"
     ]
    },
    {
     "name": "stdout",
     "output_type": "stream",
     "text": [
      "Fetching data for movie ID tt8591046 from OMDb...\n"
     ]
    },
    {
     "name": "stderr",
     "output_type": "stream",
     "text": [
      "Fetching movie data:  87%|███████████████▋  | 2275/2614 [15:12<02:16,  2.49it/s]"
     ]
    },
    {
     "name": "stdout",
     "output_type": "stream",
     "text": [
      "Fetching data for movie ID tt5510934 from OMDb...\n"
     ]
    },
    {
     "name": "stderr",
     "output_type": "stream",
     "text": [
      "Fetching movie data:  87%|███████████████▋  | 2276/2614 [15:12<02:12,  2.55it/s]"
     ]
    },
    {
     "name": "stdout",
     "output_type": "stream",
     "text": [
      "Fetching data for movie ID tt4337414 from OMDb...\n"
     ]
    },
    {
     "name": "stderr",
     "output_type": "stream",
     "text": [
      "Fetching movie data:  87%|███████████████▋  | 2277/2614 [15:13<02:10,  2.59it/s]"
     ]
    },
    {
     "name": "stdout",
     "output_type": "stream",
     "text": [
      "Fetching data for movie ID tt5897948 from OMDb...\n"
     ]
    },
    {
     "name": "stderr",
     "output_type": "stream",
     "text": [
      "Fetching movie data:  87%|███████████████▋  | 2278/2614 [15:13<02:07,  2.63it/s]"
     ]
    },
    {
     "name": "stdout",
     "output_type": "stream",
     "text": [
      "Fetching data for movie ID tt6905366 from OMDb...\n"
     ]
    },
    {
     "name": "stderr",
     "output_type": "stream",
     "text": [
      "Fetching movie data:  87%|███████████████▋  | 2279/2614 [15:13<02:12,  2.53it/s]"
     ]
    },
    {
     "name": "stdout",
     "output_type": "stream",
     "text": [
      "Fetching data for movie ID tt12337394 from OMDb...\n"
     ]
    },
    {
     "name": "stderr",
     "output_type": "stream",
     "text": [
      "Fetching movie data:  87%|███████████████▋  | 2280/2614 [15:14<02:13,  2.50it/s]"
     ]
    },
    {
     "name": "stdout",
     "output_type": "stream",
     "text": [
      "Fetching data for movie ID tt20455262 from OMDb...\n"
     ]
    },
    {
     "name": "stderr",
     "output_type": "stream",
     "text": [
      "Fetching movie data:  87%|███████████████▋  | 2281/2614 [15:14<02:14,  2.48it/s]"
     ]
    },
    {
     "name": "stdout",
     "output_type": "stream",
     "text": [
      "Fetching data for movie ID tt15239232 from OMDb...\n"
     ]
    },
    {
     "name": "stderr",
     "output_type": "stream",
     "text": [
      "Fetching movie data:  87%|███████████████▋  | 2282/2614 [15:15<02:14,  2.47it/s]"
     ]
    },
    {
     "name": "stdout",
     "output_type": "stream",
     "text": [
      "Fetching data for movie ID tt6212478 from OMDb...\n"
     ]
    },
    {
     "name": "stderr",
     "output_type": "stream",
     "text": [
      "Fetching movie data:  87%|███████████████▋  | 2283/2614 [15:15<02:09,  2.55it/s]"
     ]
    },
    {
     "name": "stdout",
     "output_type": "stream",
     "text": [
      "Fetching data for movie ID tt27929518 from OMDb...\n"
     ]
    },
    {
     "name": "stderr",
     "output_type": "stream",
     "text": [
      "Fetching movie data:  87%|███████████████▋  | 2284/2614 [15:16<02:15,  2.43it/s]"
     ]
    },
    {
     "name": "stdout",
     "output_type": "stream",
     "text": [
      "Fetching data for movie ID tt13146688 from OMDb...\n"
     ]
    },
    {
     "name": "stderr",
     "output_type": "stream",
     "text": [
      "Fetching movie data:  87%|███████████████▋  | 2285/2614 [15:16<02:15,  2.44it/s]"
     ]
    },
    {
     "name": "stdout",
     "output_type": "stream",
     "text": [
      "Fetching data for movie ID tt3116300 from OMDb...\n"
     ]
    },
    {
     "name": "stderr",
     "output_type": "stream",
     "text": [
      "Fetching movie data:  87%|███████████████▋  | 2286/2614 [15:16<02:14,  2.44it/s]"
     ]
    },
    {
     "name": "stdout",
     "output_type": "stream",
     "text": [
      "Fetching data for movie ID tt31778517 from OMDb...\n"
     ]
    },
    {
     "name": "stderr",
     "output_type": "stream",
     "text": [
      "Fetching movie data:  87%|███████████████▋  | 2287/2614 [15:17<02:07,  2.56it/s]"
     ]
    },
    {
     "name": "stdout",
     "output_type": "stream",
     "text": [
      "Fetching data for movie ID tt28633007 from OMDb...\n"
     ]
    },
    {
     "name": "stderr",
     "output_type": "stream",
     "text": [
      "Fetching movie data:  88%|███████████████▊  | 2289/2614 [15:17<01:39,  3.27it/s]"
     ]
    },
    {
     "name": "stdout",
     "output_type": "stream",
     "text": [
      "Fetching data for movie ID tt6720706 from OMDb...\n",
      "Fetching data for movie ID tt21092960 from OMDb...\n"
     ]
    },
    {
     "name": "stderr",
     "output_type": "stream",
     "text": [
      "Fetching movie data:  88%|███████████████▊  | 2290/2614 [15:18<01:57,  2.76it/s]"
     ]
    },
    {
     "name": "stdout",
     "output_type": "stream",
     "text": [
      "Fetching data for movie ID tt11318348 from OMDb...\n"
     ]
    },
    {
     "name": "stderr",
     "output_type": "stream",
     "text": [
      "Fetching movie data:  88%|███████████████▊  | 2291/2614 [15:18<01:55,  2.79it/s]"
     ]
    },
    {
     "name": "stdout",
     "output_type": "stream",
     "text": [
      "Fetching data for movie ID tt11193308 from OMDb...\n"
     ]
    },
    {
     "name": "stderr",
     "output_type": "stream",
     "text": [
      "Fetching movie data:  88%|███████████████▊  | 2292/2614 [15:19<02:06,  2.55it/s]"
     ]
    },
    {
     "name": "stdout",
     "output_type": "stream",
     "text": [
      "Fetching data for movie ID tt13820662 from OMDb...\n"
     ]
    },
    {
     "name": "stderr",
     "output_type": "stream",
     "text": [
      "Fetching movie data:  88%|███████████████▊  | 2293/2614 [15:19<02:17,  2.34it/s]"
     ]
    },
    {
     "name": "stdout",
     "output_type": "stream",
     "text": [
      "Fetching data for movie ID tt4679076 from OMDb...\n"
     ]
    },
    {
     "name": "stderr",
     "output_type": "stream",
     "text": [
      "Fetching movie data:  88%|███████████████▊  | 2294/2614 [15:19<02:15,  2.36it/s]"
     ]
    },
    {
     "name": "stdout",
     "output_type": "stream",
     "text": [
      "Fetching data for movie ID tt6010976 from OMDb...\n"
     ]
    },
    {
     "name": "stderr",
     "output_type": "stream",
     "text": [
      "Fetching movie data:  88%|███████████████▊  | 2295/2614 [15:20<02:13,  2.39it/s]"
     ]
    },
    {
     "name": "stdout",
     "output_type": "stream",
     "text": [
      "Fetching data for movie ID tt11754742 from OMDb...\n"
     ]
    },
    {
     "name": "stderr",
     "output_type": "stream",
     "text": [
      "Fetching movie data:  88%|███████████████▊  | 2296/2614 [15:20<02:12,  2.41it/s]"
     ]
    },
    {
     "name": "stdout",
     "output_type": "stream",
     "text": [
      "Fetching data for movie ID tt5616710 from OMDb...\n"
     ]
    },
    {
     "name": "stderr",
     "output_type": "stream",
     "text": [
      "Fetching movie data:  88%|███████████████▊  | 2298/2614 [15:21<01:48,  2.90it/s]"
     ]
    },
    {
     "name": "stdout",
     "output_type": "stream",
     "text": [
      "Fetching data for movie ID tt10023812 from OMDb...\n",
      "Fetching data for movie ID tt11033952 from OMDb...\n"
     ]
    },
    {
     "name": "stderr",
     "output_type": "stream",
     "text": [
      "Fetching movie data:  88%|███████████████▊  | 2299/2614 [15:21<01:52,  2.79it/s]"
     ]
    },
    {
     "name": "stdout",
     "output_type": "stream",
     "text": [
      "Fetching data for movie ID tt9377260 from OMDb...\n"
     ]
    },
    {
     "name": "stderr",
     "output_type": "stream",
     "text": [
      "Fetching movie data:  88%|███████████████▊  | 2300/2614 [15:22<01:56,  2.69it/s]"
     ]
    },
    {
     "name": "stdout",
     "output_type": "stream",
     "text": [
      "Fetching data for movie ID tt13504026 from OMDb...\n"
     ]
    },
    {
     "name": "stderr",
     "output_type": "stream",
     "text": [
      "Fetching movie data:  88%|███████████████▊  | 2301/2614 [15:22<02:04,  2.51it/s]"
     ]
    },
    {
     "name": "stdout",
     "output_type": "stream",
     "text": [
      "Fetching data for movie ID tt7918694 from OMDb...\n"
     ]
    },
    {
     "name": "stderr",
     "output_type": "stream",
     "text": [
      "Fetching movie data:  88%|███████████████▊  | 2302/2614 [15:22<02:00,  2.58it/s]"
     ]
    },
    {
     "name": "stdout",
     "output_type": "stream",
     "text": [
      "Fetching data for movie ID tt5895100 from OMDb...\n"
     ]
    },
    {
     "name": "stderr",
     "output_type": "stream",
     "text": [
      "Fetching movie data:  88%|███████████████▊  | 2303/2614 [15:23<02:06,  2.46it/s]"
     ]
    },
    {
     "name": "stdout",
     "output_type": "stream",
     "text": [
      "Fetching data for movie ID tt34714083 from OMDb...\n"
     ]
    },
    {
     "name": "stderr",
     "output_type": "stream",
     "text": [
      "Fetching movie data:  88%|███████████████▊  | 2304/2614 [15:23<02:02,  2.53it/s]"
     ]
    },
    {
     "name": "stdout",
     "output_type": "stream",
     "text": [
      "Fetching data for movie ID tt13857480 from OMDb...\n"
     ]
    },
    {
     "name": "stderr",
     "output_type": "stream",
     "text": [
      "Fetching movie data:  88%|███████████████▊  | 2305/2614 [15:24<02:07,  2.42it/s]"
     ]
    },
    {
     "name": "stdout",
     "output_type": "stream",
     "text": [
      "Fetching data for movie ID tt5103678 from OMDb...\n"
     ]
    },
    {
     "name": "stderr",
     "output_type": "stream",
     "text": [
      "Fetching movie data:  88%|███████████████▉  | 2306/2614 [15:24<02:06,  2.43it/s]"
     ]
    },
    {
     "name": "stdout",
     "output_type": "stream",
     "text": [
      "Fetching data for movie ID tt32368818 from OMDb...\n"
     ]
    },
    {
     "name": "stderr",
     "output_type": "stream",
     "text": [
      "Fetching movie data:  88%|███████████████▉  | 2308/2614 [15:25<01:39,  3.07it/s]"
     ]
    },
    {
     "name": "stdout",
     "output_type": "stream",
     "text": [
      "Fetching data for movie ID tt35403112 from OMDb...\n",
      "Fetching data for movie ID tt11871306 from OMDb...\n"
     ]
    },
    {
     "name": "stderr",
     "output_type": "stream",
     "text": [
      "Fetching movie data:  88%|███████████████▉  | 2309/2614 [15:25<01:44,  2.91it/s]"
     ]
    },
    {
     "name": "stdout",
     "output_type": "stream",
     "text": [
      "Fetching data for movie ID tt14403480 from OMDb...\n"
     ]
    },
    {
     "name": "stderr",
     "output_type": "stream",
     "text": [
      "Fetching movie data:  88%|███████████████▉  | 2310/2614 [15:25<01:50,  2.75it/s]"
     ]
    },
    {
     "name": "stdout",
     "output_type": "stream",
     "text": [
      "Fetching data for movie ID tt23143392 from OMDb...\n"
     ]
    },
    {
     "name": "stderr",
     "output_type": "stream",
     "text": [
      "Fetching movie data:  88%|███████████████▉  | 2311/2614 [15:26<02:03,  2.45it/s]"
     ]
    },
    {
     "name": "stdout",
     "output_type": "stream",
     "text": [
      "Fetching data for movie ID tt5290504 from OMDb...\n"
     ]
    },
    {
     "name": "stderr",
     "output_type": "stream",
     "text": [
      "Fetching movie data:  88%|███████████████▉  | 2312/2614 [15:26<02:12,  2.28it/s]"
     ]
    },
    {
     "name": "stdout",
     "output_type": "stream",
     "text": [
      "Fetching data for movie ID tt11584270 from OMDb...\n"
     ]
    },
    {
     "name": "stderr",
     "output_type": "stream",
     "text": [
      "Fetching movie data:  88%|███████████████▉  | 2313/2614 [15:27<02:09,  2.32it/s]"
     ]
    },
    {
     "name": "stdout",
     "output_type": "stream",
     "text": [
      "Fetching data for movie ID tt12427772 from OMDb...\n"
     ]
    },
    {
     "name": "stderr",
     "output_type": "stream",
     "text": [
      "Fetching movie data:  89%|███████████████▉  | 2314/2614 [15:27<02:07,  2.36it/s]"
     ]
    },
    {
     "name": "stdout",
     "output_type": "stream",
     "text": [
      "Fetching data for movie ID tt11601440 from OMDb...\n"
     ]
    },
    {
     "name": "stderr",
     "output_type": "stream",
     "text": [
      "Fetching movie data:  89%|███████████████▉  | 2315/2614 [15:28<02:05,  2.38it/s]"
     ]
    },
    {
     "name": "stdout",
     "output_type": "stream",
     "text": [
      "Fetching data for movie ID tt3548664 from OMDb...\n"
     ]
    },
    {
     "name": "stderr",
     "output_type": "stream",
     "text": [
      "Fetching movie data:  89%|███████████████▉  | 2316/2614 [15:28<02:03,  2.42it/s]"
     ]
    },
    {
     "name": "stdout",
     "output_type": "stream",
     "text": [
      "Fetching data for movie ID tt8105738 from OMDb...\n"
     ]
    },
    {
     "name": "stderr",
     "output_type": "stream",
     "text": [
      "Fetching movie data:  89%|███████████████▉  | 2317/2614 [15:29<02:03,  2.41it/s]"
     ]
    },
    {
     "name": "stdout",
     "output_type": "stream",
     "text": [
      "Fetching data for movie ID tt34531109 from OMDb...\n"
     ]
    },
    {
     "name": "stderr",
     "output_type": "stream",
     "text": [
      "Fetching movie data:  89%|███████████████▉  | 2318/2614 [15:29<01:57,  2.52it/s]"
     ]
    },
    {
     "name": "stdout",
     "output_type": "stream",
     "text": [
      "Fetching data for movie ID tt15301628 from OMDb...\n"
     ]
    },
    {
     "name": "stderr",
     "output_type": "stream",
     "text": [
      "Fetching movie data:  89%|███████████████▉  | 2319/2614 [15:29<02:03,  2.40it/s]"
     ]
    },
    {
     "name": "stdout",
     "output_type": "stream",
     "text": [
      "Fetching data for movie ID tt8011424 from OMDb...\n"
     ]
    },
    {
     "name": "stderr",
     "output_type": "stream",
     "text": [
      "Fetching movie data:  89%|███████████████▉  | 2320/2614 [15:30<01:56,  2.52it/s]"
     ]
    },
    {
     "name": "stdout",
     "output_type": "stream",
     "text": [
      "Fetching data for movie ID tt6519930 from OMDb...\n",
      "Fetching data for movie ID tt6789732 from OMDb...\n"
     ]
    },
    {
     "name": "stderr",
     "output_type": "stream",
     "text": [
      "Fetching movie data:  89%|███████████████▉  | 2322/2614 [15:30<01:41,  2.89it/s]"
     ]
    },
    {
     "name": "stdout",
     "output_type": "stream",
     "text": [
      "Fetching data for movie ID tt30526126 from OMDb...\n"
     ]
    },
    {
     "name": "stderr",
     "output_type": "stream",
     "text": [
      "Fetching movie data:  89%|███████████████▉  | 2323/2614 [15:31<01:44,  2.79it/s]"
     ]
    },
    {
     "name": "stdout",
     "output_type": "stream",
     "text": [
      "Fetching data for movie ID tt15145006 from OMDb...\n"
     ]
    },
    {
     "name": "stderr",
     "output_type": "stream",
     "text": [
      "Fetching movie data:  89%|████████████████  | 2326/2614 [15:31<01:12,  3.99it/s]"
     ]
    },
    {
     "name": "stdout",
     "output_type": "stream",
     "text": [
      "Fetching data for movie ID tt35195910 from OMDb...\n",
      "Fetching data for movie ID tt35231730 from OMDb...\n",
      "Fetching data for movie ID tt4297428 from OMDb...\n"
     ]
    },
    {
     "name": "stderr",
     "output_type": "stream",
     "text": [
      "Fetching movie data:  89%|████████████████  | 2327/2614 [15:32<01:22,  3.50it/s]"
     ]
    },
    {
     "name": "stdout",
     "output_type": "stream",
     "text": [
      "Fetching data for movie ID tt30874320 from OMDb...\n"
     ]
    },
    {
     "name": "stderr",
     "output_type": "stream",
     "text": [
      "Fetching movie data:  89%|████████████████  | 2329/2614 [15:32<01:21,  3.49it/s]"
     ]
    },
    {
     "name": "stdout",
     "output_type": "stream",
     "text": [
      "Fetching data for movie ID tt35034152 from OMDb...\n",
      "Fetching data for movie ID tt20447282 from OMDb...\n"
     ]
    },
    {
     "name": "stderr",
     "output_type": "stream",
     "text": [
      "Fetching movie data:  89%|████████████████  | 2331/2614 [15:33<01:10,  3.99it/s]"
     ]
    },
    {
     "name": "stdout",
     "output_type": "stream",
     "text": [
      "Fetching data for movie ID tt6495564 from OMDb...\n",
      "Fetching data for movie ID tt27983682 from OMDb...\n"
     ]
    },
    {
     "name": "stderr",
     "output_type": "stream",
     "text": [
      "Fetching movie data:  89%|████████████████  | 2333/2614 [15:33<01:07,  4.16it/s]"
     ]
    },
    {
     "name": "stdout",
     "output_type": "stream",
     "text": [
      "Fetching data for movie ID tt7290724 from OMDb...\n",
      "Fetching data for movie ID tt6235530 from OMDb...\n"
     ]
    },
    {
     "name": "stderr",
     "output_type": "stream",
     "text": [
      "Fetching movie data:  89%|████████████████  | 2334/2614 [15:34<01:18,  3.55it/s]"
     ]
    },
    {
     "name": "stdout",
     "output_type": "stream",
     "text": [
      "Fetching data for movie ID tt33368993 from OMDb...\n",
      "Fetching data for movie ID tt14117942 from OMDb...\n"
     ]
    },
    {
     "name": "stderr",
     "output_type": "stream",
     "text": [
      "Fetching movie data:  89%|████████████████  | 2336/2614 [15:34<01:11,  3.90it/s]"
     ]
    },
    {
     "name": "stdout",
     "output_type": "stream",
     "text": [
      "Fetching data for movie ID tt6156138 from OMDb...\n"
     ]
    },
    {
     "name": "stderr",
     "output_type": "stream",
     "text": [
      "Fetching movie data:  89%|████████████████  | 2337/2614 [15:34<01:18,  3.51it/s]"
     ]
    },
    {
     "name": "stdout",
     "output_type": "stream",
     "text": [
      "Fetching data for movie ID tt11243364 from OMDb...\n"
     ]
    },
    {
     "name": "stderr",
     "output_type": "stream",
     "text": [
      "Fetching movie data:  89%|████████████████  | 2338/2614 [15:35<01:27,  3.15it/s]"
     ]
    },
    {
     "name": "stdout",
     "output_type": "stream",
     "text": [
      "Fetching data for movie ID tt4080870 from OMDb...\n"
     ]
    },
    {
     "name": "stderr",
     "output_type": "stream",
     "text": [
      "Fetching movie data:  89%|████████████████  | 2339/2614 [15:35<01:43,  2.66it/s]"
     ]
    },
    {
     "name": "stdout",
     "output_type": "stream",
     "text": [
      "Fetching data for movie ID tt15762830 from OMDb...\n"
     ]
    },
    {
     "name": "stderr",
     "output_type": "stream",
     "text": [
      "Fetching movie data:  90%|████████████████  | 2341/2614 [15:36<01:28,  3.08it/s]"
     ]
    },
    {
     "name": "stdout",
     "output_type": "stream",
     "text": [
      "Fetching data for movie ID tt21378968 from OMDb...\n",
      "Fetching data for movie ID tt18603148 from OMDb...\n"
     ]
    },
    {
     "name": "stderr",
     "output_type": "stream",
     "text": [
      "Fetching movie data:  90%|████████████████▏ | 2342/2614 [15:36<01:33,  2.90it/s]"
     ]
    },
    {
     "name": "stdout",
     "output_type": "stream",
     "text": [
      "Fetching data for movie ID tt32292009 from OMDb...\n"
     ]
    },
    {
     "name": "stderr",
     "output_type": "stream",
     "text": [
      "Fetching movie data:  90%|████████████████▏ | 2343/2614 [15:37<01:33,  2.90it/s]"
     ]
    },
    {
     "name": "stdout",
     "output_type": "stream",
     "text": [
      "Fetching data for movie ID tt3315066 from OMDb...\n"
     ]
    },
    {
     "name": "stderr",
     "output_type": "stream",
     "text": [
      "Fetching movie data:  90%|████████████████▏ | 2344/2614 [15:37<01:33,  2.88it/s]"
     ]
    },
    {
     "name": "stdout",
     "output_type": "stream",
     "text": [
      "Fetching data for movie ID tt10073452 from OMDb...\n"
     ]
    },
    {
     "name": "stderr",
     "output_type": "stream",
     "text": [
      "Fetching movie data:  90%|████████████████▏ | 2345/2614 [15:38<01:43,  2.59it/s]"
     ]
    },
    {
     "name": "stdout",
     "output_type": "stream",
     "text": [
      "Fetching data for movie ID tt3561046 from OMDb...\n"
     ]
    },
    {
     "name": "stderr",
     "output_type": "stream",
     "text": [
      "Fetching movie data:  90%|████████████████▏ | 2346/2614 [15:38<01:42,  2.60it/s]"
     ]
    },
    {
     "name": "stdout",
     "output_type": "stream",
     "text": [
      "Fetching data for movie ID tt35437310 from OMDb...\n",
      "Fetching data for movie ID tt3640832 from OMDb...\n"
     ]
    },
    {
     "name": "stderr",
     "output_type": "stream",
     "text": [
      "Fetching movie data:  90%|████████████████▏ | 2348/2614 [15:38<01:25,  3.12it/s]"
     ]
    },
    {
     "name": "stdout",
     "output_type": "stream",
     "text": [
      "Fetching data for movie ID tt4503190 from OMDb...\n"
     ]
    },
    {
     "name": "stderr",
     "output_type": "stream",
     "text": [
      "Fetching movie data:  90%|████████████████▏ | 2349/2614 [15:39<01:33,  2.82it/s]"
     ]
    },
    {
     "name": "stdout",
     "output_type": "stream",
     "text": [
      "Fetching data for movie ID tt3462628 from OMDb...\n"
     ]
    },
    {
     "name": "stderr",
     "output_type": "stream",
     "text": [
      "Fetching movie data:  90%|████████████████▏ | 2350/2614 [15:39<01:36,  2.74it/s]"
     ]
    },
    {
     "name": "stdout",
     "output_type": "stream",
     "text": [
      "Fetching data for movie ID tt2302416 from OMDb...\n"
     ]
    },
    {
     "name": "stderr",
     "output_type": "stream",
     "text": [
      "Fetching movie data:  90%|████████████████▏ | 2351/2614 [15:40<01:40,  2.62it/s]"
     ]
    },
    {
     "name": "stdout",
     "output_type": "stream",
     "text": [
      "Fetching data for movie ID tt5912300 from OMDb...\n"
     ]
    },
    {
     "name": "stderr",
     "output_type": "stream",
     "text": [
      "Fetching movie data:  90%|████████████████▏ | 2352/2614 [15:40<01:42,  2.57it/s]"
     ]
    },
    {
     "name": "stdout",
     "output_type": "stream",
     "text": [
      "Fetching data for movie ID tt27602036 from OMDb...\n"
     ]
    },
    {
     "name": "stderr",
     "output_type": "stream",
     "text": [
      "Fetching movie data:  90%|████████████████▏ | 2353/2614 [15:41<01:50,  2.36it/s]"
     ]
    },
    {
     "name": "stdout",
     "output_type": "stream",
     "text": [
      "Fetching data for movie ID tt18483946 from OMDb...\n"
     ]
    },
    {
     "name": "stderr",
     "output_type": "stream",
     "text": [
      "Fetching movie data:  90%|████████████████▏ | 2354/2614 [15:41<01:49,  2.38it/s]"
     ]
    },
    {
     "name": "stdout",
     "output_type": "stream",
     "text": [
      "Fetching data for movie ID tt13006150 from OMDb...\n"
     ]
    },
    {
     "name": "stderr",
     "output_type": "stream",
     "text": [
      "Fetching movie data:  90%|████████████████▏ | 2355/2614 [15:41<01:48,  2.39it/s]"
     ]
    },
    {
     "name": "stdout",
     "output_type": "stream",
     "text": [
      "Fetching data for movie ID tt5282572 from OMDb...\n"
     ]
    },
    {
     "name": "stderr",
     "output_type": "stream",
     "text": [
      "Fetching movie data:  90%|████████████████▏ | 2356/2614 [15:42<01:45,  2.45it/s]"
     ]
    },
    {
     "name": "stdout",
     "output_type": "stream",
     "text": [
      "Fetching data for movie ID tt12171336 from OMDb...\n"
     ]
    },
    {
     "name": "stderr",
     "output_type": "stream",
     "text": [
      "Fetching movie data:  90%|████████████████▏ | 2357/2614 [15:42<01:46,  2.41it/s]"
     ]
    },
    {
     "name": "stdout",
     "output_type": "stream",
     "text": [
      "Fetching data for movie ID tt4971578 from OMDb...\n"
     ]
    },
    {
     "name": "stderr",
     "output_type": "stream",
     "text": [
      "Fetching movie data:  90%|████████████████▏ | 2358/2614 [15:43<01:45,  2.43it/s]"
     ]
    },
    {
     "name": "stdout",
     "output_type": "stream",
     "text": [
      "Fetching data for movie ID tt4946192 from OMDb...\n",
      "Fetching data for movie ID tt30048599 from OMDb...\n"
     ]
    },
    {
     "name": "stderr",
     "output_type": "stream",
     "text": [
      "Fetching movie data:  90%|████████████████▎ | 2360/2614 [15:43<01:24,  3.02it/s]"
     ]
    },
    {
     "name": "stdout",
     "output_type": "stream",
     "text": [
      "Fetching data for movie ID tt5685664 from OMDb...\n"
     ]
    },
    {
     "name": "stderr",
     "output_type": "stream",
     "text": [
      "Fetching movie data:  90%|████████████████▎ | 2361/2614 [15:44<01:25,  2.94it/s]"
     ]
    },
    {
     "name": "stdout",
     "output_type": "stream",
     "text": [
      "Fetching data for movie ID tt5196166 from OMDb...\n"
     ]
    },
    {
     "name": "stderr",
     "output_type": "stream",
     "text": [
      "Fetching movie data:  90%|████████████████▎ | 2362/2614 [15:44<01:36,  2.62it/s]"
     ]
    },
    {
     "name": "stdout",
     "output_type": "stream",
     "text": [
      "Fetching data for movie ID tt5237796 from OMDb...\n"
     ]
    },
    {
     "name": "stderr",
     "output_type": "stream",
     "text": [
      "Fetching movie data:  90%|████████████████▎ | 2363/2614 [15:44<01:37,  2.57it/s]"
     ]
    },
    {
     "name": "stdout",
     "output_type": "stream",
     "text": [
      "Fetching data for movie ID tt26928100 from OMDb...\n"
     ]
    },
    {
     "name": "stderr",
     "output_type": "stream",
     "text": [
      "Fetching movie data:  90%|████████████████▎ | 2364/2614 [15:45<01:37,  2.57it/s]"
     ]
    },
    {
     "name": "stdout",
     "output_type": "stream",
     "text": [
      "Fetching data for movie ID tt10544422 from OMDb...\n"
     ]
    },
    {
     "name": "stderr",
     "output_type": "stream",
     "text": [
      "Fetching movie data:  90%|████████████████▎ | 2365/2614 [15:45<01:39,  2.50it/s]"
     ]
    },
    {
     "name": "stdout",
     "output_type": "stream",
     "text": [
      "Fetching data for movie ID tt3422094 from OMDb...\n"
     ]
    },
    {
     "name": "stderr",
     "output_type": "stream",
     "text": [
      "Fetching movie data:  91%|████████████████▎ | 2366/2614 [15:46<01:40,  2.48it/s]"
     ]
    },
    {
     "name": "stdout",
     "output_type": "stream",
     "text": [
      "Fetching data for movie ID tt10329696 from OMDb...\n"
     ]
    },
    {
     "name": "stderr",
     "output_type": "stream",
     "text": [
      "Fetching movie data:  91%|████████████████▎ | 2367/2614 [15:46<01:39,  2.47it/s]"
     ]
    },
    {
     "name": "stdout",
     "output_type": "stream",
     "text": [
      "Fetching data for movie ID tt27033088 from OMDb...\n"
     ]
    },
    {
     "name": "stderr",
     "output_type": "stream",
     "text": [
      "Fetching movie data:  91%|████████████████▎ | 2368/2614 [15:47<01:47,  2.29it/s]"
     ]
    },
    {
     "name": "stdout",
     "output_type": "stream",
     "text": [
      "Fetching data for movie ID tt3996820 from OMDb...\n"
     ]
    },
    {
     "name": "stderr",
     "output_type": "stream",
     "text": [
      "Fetching movie data:  91%|████████████████▎ | 2370/2614 [15:47<01:31,  2.66it/s]"
     ]
    },
    {
     "name": "stdout",
     "output_type": "stream",
     "text": [
      "Fetching data for movie ID tt7979580 from OMDb...\n",
      "Fetching data for movie ID tt6334954 from OMDb...\n"
     ]
    },
    {
     "name": "stderr",
     "output_type": "stream",
     "text": [
      "Fetching movie data:  91%|████████████████▎ | 2371/2614 [15:48<01:41,  2.38it/s]"
     ]
    },
    {
     "name": "stdout",
     "output_type": "stream",
     "text": [
      "Progress saved after 38700 movies.\n",
      "Fetching data for movie ID tt18330030 from OMDb...\n"
     ]
    },
    {
     "name": "stderr",
     "output_type": "stream",
     "text": [
      "Fetching movie data:  91%|████████████████▎ | 2372/2614 [15:48<01:35,  2.54it/s]"
     ]
    },
    {
     "name": "stdout",
     "output_type": "stream",
     "text": [
      "Fetching data for movie ID tt22007710 from OMDb...\n"
     ]
    },
    {
     "name": "stderr",
     "output_type": "stream",
     "text": [
      "Fetching movie data:  91%|████████████████▎ | 2374/2614 [15:49<01:14,  3.22it/s]"
     ]
    },
    {
     "name": "stdout",
     "output_type": "stream",
     "text": [
      "Fetching data for movie ID tt34777271 from OMDb...\n",
      "Fetching data for movie ID tt30117230 from OMDb...\n"
     ]
    },
    {
     "name": "stderr",
     "output_type": "stream",
     "text": [
      "Fetching movie data:  91%|████████████████▎ | 2375/2614 [15:49<01:20,  2.97it/s]"
     ]
    },
    {
     "name": "stdout",
     "output_type": "stream",
     "text": [
      "Fetching data for movie ID tt35321069 from OMDb...\n",
      "Fetching data for movie ID tt32321835 from OMDb...\n"
     ]
    },
    {
     "name": "stderr",
     "output_type": "stream",
     "text": [
      "Fetching movie data:  91%|████████████████▎ | 2377/2614 [15:49<01:06,  3.55it/s]"
     ]
    },
    {
     "name": "stdout",
     "output_type": "stream",
     "text": [
      "Fetching data for movie ID tt13156366 from OMDb...\n"
     ]
    },
    {
     "name": "stderr",
     "output_type": "stream",
     "text": [
      "Fetching movie data:  91%|████████████████▎ | 2378/2614 [15:50<01:10,  3.36it/s]"
     ]
    },
    {
     "name": "stdout",
     "output_type": "stream",
     "text": [
      "Fetching data for movie ID tt7052578 from OMDb...\n"
     ]
    },
    {
     "name": "stderr",
     "output_type": "stream",
     "text": [
      "Fetching movie data:  91%|████████████████▍ | 2379/2614 [15:50<01:13,  3.18it/s]"
     ]
    },
    {
     "name": "stdout",
     "output_type": "stream",
     "text": [
      "Fetching data for movie ID tt1770767 from OMDb...\n"
     ]
    },
    {
     "name": "stderr",
     "output_type": "stream",
     "text": [
      "Fetching movie data:  91%|████████████████▍ | 2380/2614 [15:51<01:18,  3.00it/s]"
     ]
    },
    {
     "name": "stdout",
     "output_type": "stream",
     "text": [
      "Fetching data for movie ID tt5784708 from OMDb...\n"
     ]
    },
    {
     "name": "stderr",
     "output_type": "stream",
     "text": [
      "Fetching movie data:  91%|████████████████▍ | 2381/2614 [15:51<01:19,  2.91it/s]"
     ]
    },
    {
     "name": "stdout",
     "output_type": "stream",
     "text": [
      "Fetching data for movie ID tt20871026 from OMDb...\n"
     ]
    },
    {
     "name": "stderr",
     "output_type": "stream",
     "text": [
      "Fetching movie data:  91%|████████████████▍ | 2382/2614 [15:51<01:20,  2.87it/s]"
     ]
    },
    {
     "name": "stdout",
     "output_type": "stream",
     "text": [
      "Fetching data for movie ID tt4320548 from OMDb...\n"
     ]
    },
    {
     "name": "stderr",
     "output_type": "stream",
     "text": [
      "Fetching movie data:  91%|████████████████▍ | 2383/2614 [15:52<01:19,  2.90it/s]"
     ]
    },
    {
     "name": "stdout",
     "output_type": "stream",
     "text": [
      "Fetching data for movie ID tt4082402 from OMDb...\n",
      "Fetching data for movie ID tt10400290 from OMDb...\n"
     ]
    },
    {
     "name": "stderr",
     "output_type": "stream",
     "text": [
      "Fetching movie data:  91%|████████████████▍ | 2385/2614 [15:52<01:13,  3.13it/s]"
     ]
    },
    {
     "name": "stdout",
     "output_type": "stream",
     "text": [
      "Fetching data for movie ID tt12137534 from OMDb...\n"
     ]
    },
    {
     "name": "stderr",
     "output_type": "stream",
     "text": [
      "Fetching movie data:  91%|████████████████▍ | 2386/2614 [15:53<01:17,  2.95it/s]"
     ]
    },
    {
     "name": "stdout",
     "output_type": "stream",
     "text": [
      "Fetching data for movie ID tt28155718 from OMDb...\n"
     ]
    },
    {
     "name": "stderr",
     "output_type": "stream",
     "text": [
      "Fetching movie data:  91%|████████████████▍ | 2387/2614 [15:53<01:17,  2.92it/s]"
     ]
    },
    {
     "name": "stdout",
     "output_type": "stream",
     "text": [
      "Fetching data for movie ID tt28817000 from OMDb...\n"
     ]
    },
    {
     "name": "stderr",
     "output_type": "stream",
     "text": [
      "Fetching movie data:  91%|████████████████▍ | 2388/2614 [15:53<01:22,  2.74it/s]"
     ]
    },
    {
     "name": "stdout",
     "output_type": "stream",
     "text": [
      "Fetching data for movie ID tt26699538 from OMDb...\n",
      "Fetching data for movie ID tt15541176 from OMDb...\n"
     ]
    },
    {
     "name": "stderr",
     "output_type": "stream",
     "text": [
      "Fetching movie data:  91%|████████████████▍ | 2390/2614 [15:54<01:10,  3.19it/s]"
     ]
    },
    {
     "name": "stdout",
     "output_type": "stream",
     "text": [
      "Fetching data for movie ID tt16420762 from OMDb...\n"
     ]
    },
    {
     "name": "stderr",
     "output_type": "stream",
     "text": [
      "Fetching movie data:  91%|████████████████▍ | 2391/2614 [15:54<01:14,  2.99it/s]"
     ]
    },
    {
     "name": "stdout",
     "output_type": "stream",
     "text": [
      "Fetching data for movie ID tt35018683 from OMDb...\n",
      "Fetching data for movie ID tt8086090 from OMDb...\n"
     ]
    },
    {
     "name": "stderr",
     "output_type": "stream",
     "text": [
      "Fetching movie data:  92%|████████████████▍ | 2393/2614 [15:55<01:03,  3.45it/s]"
     ]
    },
    {
     "name": "stdout",
     "output_type": "stream",
     "text": [
      "Fetching data for movie ID tt3497410 from OMDb...\n"
     ]
    },
    {
     "name": "stderr",
     "output_type": "stream",
     "text": [
      "Fetching movie data:  92%|████████████████▍ | 2394/2614 [15:55<01:11,  3.07it/s]"
     ]
    },
    {
     "name": "stdout",
     "output_type": "stream",
     "text": [
      "Fetching data for movie ID tt6333066 from OMDb...\n"
     ]
    },
    {
     "name": "stderr",
     "output_type": "stream",
     "text": [
      "Fetching movie data:  92%|████████████████▌ | 2397/2614 [15:56<00:58,  3.69it/s]"
     ]
    },
    {
     "name": "stdout",
     "output_type": "stream",
     "text": [
      "Fetching data for movie ID tt5136570 from OMDb...\n",
      "Fetching data for movie ID tt9746500 from OMDb...\n",
      "Fetching data for movie ID tt11772768 from OMDb...\n"
     ]
    },
    {
     "name": "stderr",
     "output_type": "stream",
     "text": [
      "Fetching movie data:  92%|████████████████▌ | 2398/2614 [15:56<01:06,  3.25it/s]"
     ]
    },
    {
     "name": "stdout",
     "output_type": "stream",
     "text": [
      "Fetching data for movie ID tt4777522 from OMDb...\n"
     ]
    },
    {
     "name": "stderr",
     "output_type": "stream",
     "text": [
      "Fetching movie data:  92%|████████████████▌ | 2399/2614 [15:57<01:11,  3.00it/s]"
     ]
    },
    {
     "name": "stdout",
     "output_type": "stream",
     "text": [
      "Fetching data for movie ID tt5850588 from OMDb...\n"
     ]
    },
    {
     "name": "stderr",
     "output_type": "stream",
     "text": [
      "Fetching movie data:  92%|████████████████▌ | 2400/2614 [15:57<01:15,  2.84it/s]"
     ]
    },
    {
     "name": "stdout",
     "output_type": "stream",
     "text": [
      "Fetching data for movie ID tt6923526 from OMDb...\n"
     ]
    },
    {
     "name": "stderr",
     "output_type": "stream",
     "text": [
      "Fetching movie data:  92%|████████████████▌ | 2401/2614 [15:58<01:18,  2.72it/s]"
     ]
    },
    {
     "name": "stdout",
     "output_type": "stream",
     "text": [
      "Fetching data for movie ID tt25135012 from OMDb...\n"
     ]
    },
    {
     "name": "stderr",
     "output_type": "stream",
     "text": [
      "Fetching movie data:  92%|████████████████▌ | 2402/2614 [15:58<01:17,  2.74it/s]"
     ]
    },
    {
     "name": "stdout",
     "output_type": "stream",
     "text": [
      "Fetching data for movie ID tt30420508 from OMDb...\n"
     ]
    },
    {
     "name": "stderr",
     "output_type": "stream",
     "text": [
      "Fetching movie data:  92%|████████████████▌ | 2403/2614 [15:58<01:22,  2.55it/s]"
     ]
    },
    {
     "name": "stdout",
     "output_type": "stream",
     "text": [
      "Fetching data for movie ID tt8824498 from OMDb...\n"
     ]
    },
    {
     "name": "stderr",
     "output_type": "stream",
     "text": [
      "Fetching movie data:  92%|████████████████▌ | 2404/2614 [15:59<01:23,  2.51it/s]"
     ]
    },
    {
     "name": "stdout",
     "output_type": "stream",
     "text": [
      "Fetching data for movie ID tt14809482 from OMDb...\n"
     ]
    },
    {
     "name": "stderr",
     "output_type": "stream",
     "text": [
      "Fetching movie data:  92%|████████████████▌ | 2405/2614 [15:59<01:23,  2.50it/s]"
     ]
    },
    {
     "name": "stdout",
     "output_type": "stream",
     "text": [
      "Fetching data for movie ID tt8820194 from OMDb...\n"
     ]
    },
    {
     "name": "stderr",
     "output_type": "stream",
     "text": [
      "Fetching movie data:  92%|████████████████▌ | 2406/2614 [16:00<01:19,  2.63it/s]"
     ]
    },
    {
     "name": "stdout",
     "output_type": "stream",
     "text": [
      "Fetching data for movie ID tt3644314 from OMDb...\n"
     ]
    },
    {
     "name": "stderr",
     "output_type": "stream",
     "text": [
      "Fetching movie data:  92%|████████████████▌ | 2407/2614 [16:00<01:25,  2.43it/s]"
     ]
    },
    {
     "name": "stdout",
     "output_type": "stream",
     "text": [
      "Fetching data for movie ID tt2339406 from OMDb...\n"
     ]
    },
    {
     "name": "stderr",
     "output_type": "stream",
     "text": [
      "Fetching movie data:  92%|████████████████▌ | 2408/2614 [16:00<01:24,  2.43it/s]"
     ]
    },
    {
     "name": "stdout",
     "output_type": "stream",
     "text": [
      "Fetching data for movie ID tt20122422 from OMDb...\n"
     ]
    },
    {
     "name": "stderr",
     "output_type": "stream",
     "text": [
      "Fetching movie data:  92%|████████████████▌ | 2409/2614 [16:01<01:24,  2.43it/s]"
     ]
    },
    {
     "name": "stdout",
     "output_type": "stream",
     "text": [
      "Fetching data for movie ID tt6567654 from OMDb...\n"
     ]
    },
    {
     "name": "stderr",
     "output_type": "stream",
     "text": [
      "Fetching movie data:  92%|████████████████▌ | 2410/2614 [16:01<01:23,  2.43it/s]"
     ]
    },
    {
     "name": "stdout",
     "output_type": "stream",
     "text": [
      "Fetching data for movie ID tt5303938 from OMDb...\n"
     ]
    },
    {
     "name": "stderr",
     "output_type": "stream",
     "text": [
      "Fetching movie data:  92%|████████████████▌ | 2412/2614 [16:02<01:04,  3.11it/s]"
     ]
    },
    {
     "name": "stdout",
     "output_type": "stream",
     "text": [
      "Fetching data for movie ID tt8581872 from OMDb...\n",
      "Fetching data for movie ID tt5478446 from OMDb...\n"
     ]
    },
    {
     "name": "stderr",
     "output_type": "stream",
     "text": [
      "Fetching movie data:  92%|████████████████▌ | 2413/2614 [16:02<01:15,  2.65it/s]"
     ]
    },
    {
     "name": "stdout",
     "output_type": "stream",
     "text": [
      "Fetching data for movie ID tt30818935 from OMDb...\n"
     ]
    },
    {
     "name": "stderr",
     "output_type": "stream",
     "text": [
      "Fetching movie data:  92%|████████████████▌ | 2414/2614 [16:03<01:16,  2.62it/s]"
     ]
    },
    {
     "name": "stdout",
     "output_type": "stream",
     "text": [
      "Fetching data for movie ID tt21199618 from OMDb...\n"
     ]
    },
    {
     "name": "stderr",
     "output_type": "stream",
     "text": [
      "Fetching movie data:  92%|████████████████▋ | 2415/2614 [16:03<01:16,  2.59it/s]"
     ]
    },
    {
     "name": "stdout",
     "output_type": "stream",
     "text": [
      "Fetching data for movie ID tt5377010 from OMDb...\n"
     ]
    },
    {
     "name": "stderr",
     "output_type": "stream",
     "text": [
      "Fetching movie data:  92%|████████████████▋ | 2416/2614 [16:03<01:14,  2.67it/s]"
     ]
    },
    {
     "name": "stdout",
     "output_type": "stream",
     "text": [
      "Fetching data for movie ID tt7093634 from OMDb...\n"
     ]
    },
    {
     "name": "stderr",
     "output_type": "stream",
     "text": [
      "Fetching movie data:  92%|████████████████▋ | 2417/2614 [16:04<01:12,  2.71it/s]"
     ]
    },
    {
     "name": "stdout",
     "output_type": "stream",
     "text": [
      "Fetching data for movie ID tt11423894 from OMDb...\n"
     ]
    },
    {
     "name": "stderr",
     "output_type": "stream",
     "text": [
      "Fetching movie data:  93%|████████████████▋ | 2418/2614 [16:04<01:11,  2.75it/s]"
     ]
    },
    {
     "name": "stdout",
     "output_type": "stream",
     "text": [
      "Fetching data for movie ID tt5591954 from OMDb...\n"
     ]
    },
    {
     "name": "stderr",
     "output_type": "stream",
     "text": [
      "Fetching movie data:  93%|████████████████▋ | 2419/2614 [16:05<01:13,  2.66it/s]"
     ]
    },
    {
     "name": "stdout",
     "output_type": "stream",
     "text": [
      "Fetching data for movie ID tt5738152 from OMDb...\n"
     ]
    },
    {
     "name": "stderr",
     "output_type": "stream",
     "text": [
      "Fetching movie data:  93%|████████████████▋ | 2420/2614 [16:05<01:15,  2.58it/s]"
     ]
    },
    {
     "name": "stdout",
     "output_type": "stream",
     "text": [
      "Fetching data for movie ID tt26695236 from OMDb...\n"
     ]
    },
    {
     "name": "stderr",
     "output_type": "stream",
     "text": [
      "Fetching movie data:  93%|████████████████▋ | 2421/2614 [16:06<01:21,  2.35it/s]"
     ]
    },
    {
     "name": "stdout",
     "output_type": "stream",
     "text": [
      "Fetching data for movie ID tt7693434 from OMDb...\n"
     ]
    },
    {
     "name": "stderr",
     "output_type": "stream",
     "text": [
      "Fetching movie data:  93%|████████████████▋ | 2422/2614 [16:06<01:20,  2.38it/s]"
     ]
    },
    {
     "name": "stdout",
     "output_type": "stream",
     "text": [
      "Fetching data for movie ID tt9461086 from OMDb...\n"
     ]
    },
    {
     "name": "stderr",
     "output_type": "stream",
     "text": [
      "Fetching movie data:  93%|████████████████▋ | 2423/2614 [16:06<01:19,  2.41it/s]"
     ]
    },
    {
     "name": "stdout",
     "output_type": "stream",
     "text": [
      "Fetching data for movie ID tt5155340 from OMDb...\n"
     ]
    },
    {
     "name": "stderr",
     "output_type": "stream",
     "text": [
      "Fetching movie data:  93%|████████████████▋ | 2424/2614 [16:07<01:18,  2.41it/s]"
     ]
    },
    {
     "name": "stdout",
     "output_type": "stream",
     "text": [
      "Fetching data for movie ID tt7385140 from OMDb...\n"
     ]
    },
    {
     "name": "stderr",
     "output_type": "stream",
     "text": [
      "Fetching movie data:  93%|████████████████▋ | 2425/2614 [16:07<01:18,  2.42it/s]"
     ]
    },
    {
     "name": "stdout",
     "output_type": "stream",
     "text": [
      "Fetching data for movie ID tt15715614 from OMDb...\n"
     ]
    },
    {
     "name": "stderr",
     "output_type": "stream",
     "text": [
      "Fetching movie data:  93%|████████████████▋ | 2426/2614 [16:08<01:23,  2.26it/s]"
     ]
    },
    {
     "name": "stdout",
     "output_type": "stream",
     "text": [
      "Fetching data for movie ID tt31599119 from OMDb...\n"
     ]
    },
    {
     "name": "stderr",
     "output_type": "stream",
     "text": [
      "Fetching movie data:  93%|████████████████▋ | 2427/2614 [16:08<01:26,  2.16it/s]"
     ]
    },
    {
     "name": "stdout",
     "output_type": "stream",
     "text": [
      "Fetching data for movie ID tt3754752 from OMDb...\n"
     ]
    },
    {
     "name": "stderr",
     "output_type": "stream",
     "text": [
      "Fetching movie data:  93%|████████████████▋ | 2428/2614 [16:09<01:23,  2.24it/s]"
     ]
    },
    {
     "name": "stdout",
     "output_type": "stream",
     "text": [
      "Fetching data for movie ID tt10011240 from OMDb...\n"
     ]
    },
    {
     "name": "stderr",
     "output_type": "stream",
     "text": [
      "Fetching movie data:  93%|████████████████▋ | 2429/2614 [16:09<01:20,  2.29it/s]"
     ]
    },
    {
     "name": "stdout",
     "output_type": "stream",
     "text": [
      "Fetching data for movie ID tt4512212 from OMDb...\n"
     ]
    },
    {
     "name": "stderr",
     "output_type": "stream",
     "text": [
      "Fetching movie data:  93%|████████████████▋ | 2430/2614 [16:09<01:18,  2.33it/s]"
     ]
    },
    {
     "name": "stdout",
     "output_type": "stream",
     "text": [
      "Fetching data for movie ID tt13224254 from OMDb...\n"
     ]
    },
    {
     "name": "stderr",
     "output_type": "stream",
     "text": [
      "Fetching movie data:  93%|████████████████▋ | 2431/2614 [16:10<01:17,  2.37it/s]"
     ]
    },
    {
     "name": "stdout",
     "output_type": "stream",
     "text": [
      "Fetching data for movie ID tt12937438 from OMDb...\n"
     ]
    },
    {
     "name": "stderr",
     "output_type": "stream",
     "text": [
      "Fetching movie data:  93%|████████████████▋ | 2432/2614 [16:10<01:12,  2.49it/s]"
     ]
    },
    {
     "name": "stdout",
     "output_type": "stream",
     "text": [
      "Fetching data for movie ID tt11396226 from OMDb...\n"
     ]
    },
    {
     "name": "stderr",
     "output_type": "stream",
     "text": [
      "Fetching movie data:  93%|████████████████▊ | 2433/2614 [16:11<01:16,  2.37it/s]"
     ]
    },
    {
     "name": "stdout",
     "output_type": "stream",
     "text": [
      "Fetching data for movie ID tt8565218 from OMDb...\n"
     ]
    },
    {
     "name": "stderr",
     "output_type": "stream",
     "text": [
      "Fetching movie data:  93%|████████████████▊ | 2434/2614 [16:11<01:15,  2.39it/s]"
     ]
    },
    {
     "name": "stdout",
     "output_type": "stream",
     "text": [
      "Fetching data for movie ID tt21046314 from OMDb...\n"
     ]
    },
    {
     "name": "stderr",
     "output_type": "stream",
     "text": [
      "Fetching movie data:  93%|████████████████▊ | 2435/2614 [16:11<01:14,  2.41it/s]"
     ]
    },
    {
     "name": "stdout",
     "output_type": "stream",
     "text": [
      "Fetching data for movie ID tt15478858 from OMDb...\n"
     ]
    },
    {
     "name": "stderr",
     "output_type": "stream",
     "text": [
      "Fetching movie data:  93%|████████████████▊ | 2436/2614 [16:12<01:13,  2.41it/s]"
     ]
    },
    {
     "name": "stdout",
     "output_type": "stream",
     "text": [
      "Fetching data for movie ID tt8937274 from OMDb...\n"
     ]
    },
    {
     "name": "stderr",
     "output_type": "stream",
     "text": [
      "Fetching movie data:  93%|████████████████▊ | 2437/2614 [16:12<01:10,  2.52it/s]"
     ]
    },
    {
     "name": "stdout",
     "output_type": "stream",
     "text": [
      "Fetching data for movie ID tt5040904 from OMDb...\n"
     ]
    },
    {
     "name": "stderr",
     "output_type": "stream",
     "text": [
      "Fetching movie data:  93%|████████████████▊ | 2438/2614 [16:13<01:09,  2.53it/s]"
     ]
    },
    {
     "name": "stdout",
     "output_type": "stream",
     "text": [
      "Fetching data for movie ID tt27881441 from OMDb...\n"
     ]
    },
    {
     "name": "stderr",
     "output_type": "stream",
     "text": [
      "Fetching movie data:  93%|████████████████▊ | 2439/2614 [16:13<01:08,  2.56it/s]"
     ]
    },
    {
     "name": "stdout",
     "output_type": "stream",
     "text": [
      "Fetching data for movie ID tt11874662 from OMDb...\n"
     ]
    },
    {
     "name": "stderr",
     "output_type": "stream",
     "text": [
      "Fetching movie data:  93%|████████████████▊ | 2440/2614 [16:13<01:08,  2.53it/s]"
     ]
    },
    {
     "name": "stdout",
     "output_type": "stream",
     "text": [
      "Fetching data for movie ID tt6071436 from OMDb...\n"
     ]
    },
    {
     "name": "stderr",
     "output_type": "stream",
     "text": [
      "Fetching movie data:  93%|████████████████▊ | 2441/2614 [16:14<01:09,  2.50it/s]"
     ]
    },
    {
     "name": "stdout",
     "output_type": "stream",
     "text": [
      "Fetching data for movie ID tt7275878 from OMDb...\n"
     ]
    },
    {
     "name": "stderr",
     "output_type": "stream",
     "text": [
      "Fetching movie data:  93%|████████████████▊ | 2442/2614 [16:14<01:09,  2.48it/s]"
     ]
    },
    {
     "name": "stdout",
     "output_type": "stream",
     "text": [
      "Fetching data for movie ID tt7794056 from OMDb...\n"
     ]
    },
    {
     "name": "stderr",
     "output_type": "stream",
     "text": [
      "Fetching movie data:  93%|████████████████▊ | 2443/2614 [16:15<01:14,  2.30it/s]"
     ]
    },
    {
     "name": "stdout",
     "output_type": "stream",
     "text": [
      "Fetching data for movie ID tt3360110 from OMDb...\n"
     ]
    },
    {
     "name": "stderr",
     "output_type": "stream",
     "text": [
      "Fetching movie data:  93%|████████████████▊ | 2444/2614 [16:15<01:09,  2.44it/s]"
     ]
    },
    {
     "name": "stdout",
     "output_type": "stream",
     "text": [
      "Fetching data for movie ID tt13774334 from OMDb...\n"
     ]
    },
    {
     "name": "stderr",
     "output_type": "stream",
     "text": [
      "Fetching movie data:  94%|████████████████▊ | 2445/2614 [16:15<01:10,  2.41it/s]"
     ]
    },
    {
     "name": "stdout",
     "output_type": "stream",
     "text": [
      "Fetching data for movie ID tt5889456 from OMDb...\n"
     ]
    },
    {
     "name": "stderr",
     "output_type": "stream",
     "text": [
      "Fetching movie data:  94%|████████████████▊ | 2446/2614 [16:16<01:11,  2.34it/s]"
     ]
    },
    {
     "name": "stdout",
     "output_type": "stream",
     "text": [
      "Fetching data for movie ID tt21090884 from OMDb...\n"
     ]
    },
    {
     "name": "stderr",
     "output_type": "stream",
     "text": [
      "Fetching movie data:  94%|████████████████▊ | 2447/2614 [16:16<01:15,  2.22it/s]"
     ]
    },
    {
     "name": "stdout",
     "output_type": "stream",
     "text": [
      "Fetching data for movie ID tt33451050 from OMDb...\n"
     ]
    },
    {
     "name": "stderr",
     "output_type": "stream",
     "text": [
      "Fetching movie data:  94%|████████████████▊ | 2448/2614 [16:17<01:12,  2.28it/s]"
     ]
    },
    {
     "name": "stdout",
     "output_type": "stream",
     "text": [
      "Fetching data for movie ID tt16247168 from OMDb...\n"
     ]
    },
    {
     "name": "stderr",
     "output_type": "stream",
     "text": [
      "Fetching movie data:  94%|████████████████▊ | 2449/2614 [16:17<01:11,  2.32it/s]"
     ]
    },
    {
     "name": "stdout",
     "output_type": "stream",
     "text": [
      "Fetching data for movie ID tt30742580 from OMDb...\n"
     ]
    },
    {
     "name": "stderr",
     "output_type": "stream",
     "text": [
      "Fetching movie data:  94%|████████████████▊ | 2450/2614 [16:18<01:09,  2.36it/s]"
     ]
    },
    {
     "name": "stdout",
     "output_type": "stream",
     "text": [
      "Fetching data for movie ID tt3690708 from OMDb...\n"
     ]
    },
    {
     "name": "stderr",
     "output_type": "stream",
     "text": [
      "Fetching movie data:  94%|████████████████▉ | 2452/2614 [16:18<00:55,  2.92it/s]"
     ]
    },
    {
     "name": "stdout",
     "output_type": "stream",
     "text": [
      "Fetching data for movie ID tt2967856 from OMDb...\n",
      "Fetching data for movie ID tt10121022 from OMDb...\n"
     ]
    },
    {
     "name": "stderr",
     "output_type": "stream",
     "text": [
      "Fetching movie data:  94%|████████████████▉ | 2454/2614 [16:19<00:47,  3.40it/s]"
     ]
    },
    {
     "name": "stdout",
     "output_type": "stream",
     "text": [
      "Fetching data for movie ID tt10366448 from OMDb...\n",
      "Fetching data for movie ID tt6922138 from OMDb...\n"
     ]
    },
    {
     "name": "stderr",
     "output_type": "stream",
     "text": [
      "Fetching movie data:  94%|████████████████▉ | 2455/2614 [16:19<00:52,  3.04it/s]"
     ]
    },
    {
     "name": "stdout",
     "output_type": "stream",
     "text": [
      "Fetching data for movie ID tt6020486 from OMDb...\n"
     ]
    },
    {
     "name": "stderr",
     "output_type": "stream",
     "text": [
      "Fetching movie data:  94%|████████████████▉ | 2456/2614 [16:20<00:55,  2.83it/s]"
     ]
    },
    {
     "name": "stdout",
     "output_type": "stream",
     "text": [
      "Fetching data for movie ID tt2283160 from OMDb...\n"
     ]
    },
    {
     "name": "stderr",
     "output_type": "stream",
     "text": [
      "Fetching movie data:  94%|████████████████▉ | 2457/2614 [16:20<00:58,  2.69it/s]"
     ]
    },
    {
     "name": "stdout",
     "output_type": "stream",
     "text": [
      "Fetching data for movie ID tt32879751 from OMDb...\n"
     ]
    },
    {
     "name": "stderr",
     "output_type": "stream",
     "text": [
      "Fetching movie data:  94%|████████████████▉ | 2458/2614 [16:21<01:04,  2.42it/s]"
     ]
    },
    {
     "name": "stdout",
     "output_type": "stream",
     "text": [
      "Fetching data for movie ID tt5425946 from OMDb...\n"
     ]
    },
    {
     "name": "stderr",
     "output_type": "stream",
     "text": [
      "Fetching movie data:  94%|████████████████▉ | 2459/2614 [16:21<01:03,  2.43it/s]"
     ]
    },
    {
     "name": "stdout",
     "output_type": "stream",
     "text": [
      "Fetching data for movie ID tt27671215 from OMDb...\n"
     ]
    },
    {
     "name": "stderr",
     "output_type": "stream",
     "text": [
      "Fetching movie data:  94%|████████████████▉ | 2460/2614 [16:21<01:03,  2.43it/s]"
     ]
    },
    {
     "name": "stdout",
     "output_type": "stream",
     "text": [
      "Fetching data for movie ID tt28235998 from OMDb...\n"
     ]
    },
    {
     "name": "stderr",
     "output_type": "stream",
     "text": [
      "Fetching movie data:  94%|████████████████▉ | 2461/2614 [16:22<01:00,  2.52it/s]"
     ]
    },
    {
     "name": "stdout",
     "output_type": "stream",
     "text": [
      "Fetching data for movie ID tt4016634 from OMDb...\n"
     ]
    },
    {
     "name": "stderr",
     "output_type": "stream",
     "text": [
      "Fetching movie data:  94%|████████████████▉ | 2462/2614 [16:22<01:00,  2.53it/s]"
     ]
    },
    {
     "name": "stdout",
     "output_type": "stream",
     "text": [
      "Fetching data for movie ID tt21381432 from OMDb...\n"
     ]
    },
    {
     "name": "stderr",
     "output_type": "stream",
     "text": [
      "Fetching movie data:  94%|████████████████▉ | 2463/2614 [16:23<01:00,  2.51it/s]"
     ]
    },
    {
     "name": "stdout",
     "output_type": "stream",
     "text": [
      "Fetching data for movie ID tt28056959 from OMDb...\n"
     ]
    },
    {
     "name": "stderr",
     "output_type": "stream",
     "text": [
      "Fetching movie data:  94%|████████████████▉ | 2464/2614 [16:23<00:58,  2.55it/s]"
     ]
    },
    {
     "name": "stdout",
     "output_type": "stream",
     "text": [
      "Fetching data for movie ID tt27744719 from OMDb...\n"
     ]
    },
    {
     "name": "stderr",
     "output_type": "stream",
     "text": [
      "Fetching movie data:  94%|████████████████▉ | 2465/2614 [16:23<00:57,  2.58it/s]"
     ]
    },
    {
     "name": "stdout",
     "output_type": "stream",
     "text": [
      "Fetching data for movie ID tt12389904 from OMDb...\n"
     ]
    },
    {
     "name": "stderr",
     "output_type": "stream",
     "text": [
      "Fetching movie data:  94%|████████████████▉ | 2466/2614 [16:24<00:59,  2.48it/s]"
     ]
    },
    {
     "name": "stdout",
     "output_type": "stream",
     "text": [
      "Fetching data for movie ID tt1142799 from OMDb...\n"
     ]
    },
    {
     "name": "stderr",
     "output_type": "stream",
     "text": [
      "Fetching movie data:  94%|████████████████▉ | 2467/2614 [16:24<00:59,  2.48it/s]"
     ]
    },
    {
     "name": "stdout",
     "output_type": "stream",
     "text": [
      "Fetching data for movie ID tt3816964 from OMDb...\n"
     ]
    },
    {
     "name": "stderr",
     "output_type": "stream",
     "text": [
      "Fetching movie data:  94%|████████████████▉ | 2468/2614 [16:25<00:59,  2.46it/s]"
     ]
    },
    {
     "name": "stdout",
     "output_type": "stream",
     "text": [
      "Fetching data for movie ID tt12952376 from OMDb...\n"
     ]
    },
    {
     "name": "stderr",
     "output_type": "stream",
     "text": [
      "Fetching movie data:  94%|█████████████████ | 2469/2614 [16:25<00:58,  2.47it/s]"
     ]
    },
    {
     "name": "stdout",
     "output_type": "stream",
     "text": [
      "Fetching data for movie ID tt6090642 from OMDb...\n"
     ]
    },
    {
     "name": "stderr",
     "output_type": "stream",
     "text": [
      "Fetching movie data:  94%|█████████████████ | 2470/2614 [16:25<00:55,  2.58it/s]"
     ]
    },
    {
     "name": "stdout",
     "output_type": "stream",
     "text": [
      "Fetching data for movie ID tt5154194 from OMDb...\n"
     ]
    },
    {
     "name": "stderr",
     "output_type": "stream",
     "text": [
      "Fetching movie data:  95%|█████████████████ | 2471/2614 [16:26<00:55,  2.60it/s]"
     ]
    },
    {
     "name": "stdout",
     "output_type": "stream",
     "text": [
      "Fetching data for movie ID tt22179758 from OMDb...\n"
     ]
    },
    {
     "name": "stderr",
     "output_type": "stream",
     "text": [
      "Fetching movie data:  95%|█████████████████ | 2472/2614 [16:26<00:55,  2.56it/s]"
     ]
    },
    {
     "name": "stdout",
     "output_type": "stream",
     "text": [
      "Fetching data for movie ID tt3833120 from OMDb...\n"
     ]
    },
    {
     "name": "stderr",
     "output_type": "stream",
     "text": [
      "Fetching movie data:  95%|█████████████████ | 2473/2614 [16:27<00:58,  2.41it/s]"
     ]
    },
    {
     "name": "stdout",
     "output_type": "stream",
     "text": [
      "Progress saved after 38800 movies.\n",
      "Fetching data for movie ID tt6111634 from OMDb...\n"
     ]
    },
    {
     "name": "stderr",
     "output_type": "stream",
     "text": [
      "Fetching movie data:  95%|█████████████████ | 2474/2614 [16:27<00:55,  2.54it/s]"
     ]
    },
    {
     "name": "stdout",
     "output_type": "stream",
     "text": [
      "Fetching data for movie ID tt21108488 from OMDb...\n"
     ]
    },
    {
     "name": "stderr",
     "output_type": "stream",
     "text": [
      "Fetching movie data:  95%|█████████████████ | 2475/2614 [16:27<00:55,  2.52it/s]"
     ]
    },
    {
     "name": "stdout",
     "output_type": "stream",
     "text": [
      "Fetching data for movie ID tt15004888 from OMDb...\n"
     ]
    },
    {
     "name": "stderr",
     "output_type": "stream",
     "text": [
      "Fetching movie data:  95%|█████████████████ | 2476/2614 [16:28<00:52,  2.60it/s]"
     ]
    },
    {
     "name": "stdout",
     "output_type": "stream",
     "text": [
      "Fetching data for movie ID tt3846736 from OMDb...\n"
     ]
    },
    {
     "name": "stderr",
     "output_type": "stream",
     "text": [
      "Fetching movie data:  95%|█████████████████ | 2477/2614 [16:28<00:51,  2.64it/s]"
     ]
    },
    {
     "name": "stdout",
     "output_type": "stream",
     "text": [
      "Fetching data for movie ID tt15495098 from OMDb...\n"
     ]
    },
    {
     "name": "stderr",
     "output_type": "stream",
     "text": [
      "Fetching movie data:  95%|█████████████████ | 2478/2614 [16:28<00:50,  2.70it/s]"
     ]
    },
    {
     "name": "stdout",
     "output_type": "stream",
     "text": [
      "Fetching data for movie ID tt2400401 from OMDb...\n"
     ]
    },
    {
     "name": "stderr",
     "output_type": "stream",
     "text": [
      "Fetching movie data:  95%|█████████████████ | 2479/2614 [16:29<00:51,  2.63it/s]"
     ]
    },
    {
     "name": "stdout",
     "output_type": "stream",
     "text": [
      "Fetching data for movie ID tt12410008 from OMDb...\n"
     ]
    },
    {
     "name": "stderr",
     "output_type": "stream",
     "text": [
      "Fetching movie data:  95%|█████████████████ | 2480/2614 [16:29<00:51,  2.62it/s]"
     ]
    },
    {
     "name": "stdout",
     "output_type": "stream",
     "text": [
      "Fetching data for movie ID tt29170059 from OMDb...\n"
     ]
    },
    {
     "name": "stderr",
     "output_type": "stream",
     "text": [
      "Fetching movie data:  95%|█████████████████ | 2481/2614 [16:30<00:50,  2.62it/s]"
     ]
    },
    {
     "name": "stdout",
     "output_type": "stream",
     "text": [
      "Fetching data for movie ID tt7555292 from OMDb...\n"
     ]
    },
    {
     "name": "stderr",
     "output_type": "stream",
     "text": [
      "Fetching movie data:  95%|█████████████████ | 2482/2614 [16:30<00:49,  2.64it/s]"
     ]
    },
    {
     "name": "stdout",
     "output_type": "stream",
     "text": [
      "Fetching data for movie ID tt12880790 from OMDb...\n"
     ]
    },
    {
     "name": "stderr",
     "output_type": "stream",
     "text": [
      "Fetching movie data:  95%|█████████████████ | 2483/2614 [16:30<00:50,  2.59it/s]"
     ]
    },
    {
     "name": "stdout",
     "output_type": "stream",
     "text": [
      "Fetching data for movie ID tt5265976 from OMDb...\n"
     ]
    },
    {
     "name": "stderr",
     "output_type": "stream",
     "text": [
      "Fetching movie data:  95%|█████████████████ | 2484/2614 [16:31<00:50,  2.57it/s]"
     ]
    },
    {
     "name": "stdout",
     "output_type": "stream",
     "text": [
      "Fetching data for movie ID tt10165168 from OMDb...\n"
     ]
    },
    {
     "name": "stderr",
     "output_type": "stream",
     "text": [
      "Fetching movie data:  95%|█████████████████ | 2485/2614 [16:31<00:50,  2.58it/s]"
     ]
    },
    {
     "name": "stdout",
     "output_type": "stream",
     "text": [
      "Fetching data for movie ID tt7603752 from OMDb...\n"
     ]
    },
    {
     "name": "stderr",
     "output_type": "stream",
     "text": [
      "Fetching movie data:  95%|█████████████████ | 2486/2614 [16:31<00:48,  2.66it/s]"
     ]
    },
    {
     "name": "stdout",
     "output_type": "stream",
     "text": [
      "Fetching data for movie ID tt18328388 from OMDb...\n"
     ]
    },
    {
     "name": "stderr",
     "output_type": "stream",
     "text": [
      "Fetching movie data:  95%|█████████████████▏| 2487/2614 [16:32<00:48,  2.63it/s]"
     ]
    },
    {
     "name": "stdout",
     "output_type": "stream",
     "text": [
      "Fetching data for movie ID tt8139010 from OMDb...\n"
     ]
    },
    {
     "name": "stderr",
     "output_type": "stream",
     "text": [
      "Fetching movie data:  95%|█████████████████▏| 2488/2614 [16:32<00:48,  2.58it/s]"
     ]
    },
    {
     "name": "stdout",
     "output_type": "stream",
     "text": [
      "Fetching data for movie ID tt4056422 from OMDb...\n"
     ]
    },
    {
     "name": "stderr",
     "output_type": "stream",
     "text": [
      "Fetching movie data:  95%|█████████████████▏| 2489/2614 [16:33<00:49,  2.55it/s]"
     ]
    },
    {
     "name": "stdout",
     "output_type": "stream",
     "text": [
      "Fetching data for movie ID tt9537008 from OMDb...\n"
     ]
    },
    {
     "name": "stderr",
     "output_type": "stream",
     "text": [
      "Fetching movie data:  95%|█████████████████▏| 2490/2614 [16:33<00:48,  2.54it/s]"
     ]
    },
    {
     "name": "stdout",
     "output_type": "stream",
     "text": [
      "Fetching data for movie ID tt23005858 from OMDb...\n"
     ]
    },
    {
     "name": "stderr",
     "output_type": "stream",
     "text": [
      "Fetching movie data:  95%|█████████████████▏| 2491/2614 [16:33<00:47,  2.61it/s]"
     ]
    },
    {
     "name": "stdout",
     "output_type": "stream",
     "text": [
      "Fetching data for movie ID tt3643484 from OMDb...\n"
     ]
    },
    {
     "name": "stderr",
     "output_type": "stream",
     "text": [
      "Fetching movie data:  95%|█████████████████▏| 2492/2614 [16:34<00:46,  2.62it/s]"
     ]
    },
    {
     "name": "stdout",
     "output_type": "stream",
     "text": [
      "Fetching data for movie ID tt32214046 from OMDb...\n"
     ]
    },
    {
     "name": "stderr",
     "output_type": "stream",
     "text": [
      "Fetching movie data:  95%|█████████████████▏| 2493/2614 [16:34<00:48,  2.48it/s]"
     ]
    },
    {
     "name": "stdout",
     "output_type": "stream",
     "text": [
      "Fetching data for movie ID tt11059096 from OMDb...\n"
     ]
    },
    {
     "name": "stderr",
     "output_type": "stream",
     "text": [
      "Fetching movie data:  95%|█████████████████▏| 2494/2614 [16:35<00:48,  2.48it/s]"
     ]
    },
    {
     "name": "stdout",
     "output_type": "stream",
     "text": [
      "Fetching data for movie ID tt26674818 from OMDb...\n"
     ]
    },
    {
     "name": "stderr",
     "output_type": "stream",
     "text": [
      "Fetching movie data:  95%|█████████████████▏| 2495/2614 [16:35<00:46,  2.54it/s]"
     ]
    },
    {
     "name": "stdout",
     "output_type": "stream",
     "text": [
      "Fetching data for movie ID tt12808034 from OMDb...\n"
     ]
    },
    {
     "name": "stderr",
     "output_type": "stream",
     "text": [
      "Fetching movie data:  95%|█████████████████▏| 2496/2614 [16:35<00:46,  2.55it/s]"
     ]
    },
    {
     "name": "stdout",
     "output_type": "stream",
     "text": [
      "Fetching data for movie ID tt29173926 from OMDb...\n"
     ]
    },
    {
     "name": "stderr",
     "output_type": "stream",
     "text": [
      "Fetching movie data:  96%|█████████████████▏| 2497/2614 [16:36<00:46,  2.50it/s]"
     ]
    },
    {
     "name": "stdout",
     "output_type": "stream",
     "text": [
      "Fetching data for movie ID tt4370194 from OMDb...\n"
     ]
    },
    {
     "name": "stderr",
     "output_type": "stream",
     "text": [
      "Fetching movie data:  96%|█████████████████▏| 2498/2614 [16:36<00:45,  2.56it/s]"
     ]
    },
    {
     "name": "stdout",
     "output_type": "stream",
     "text": [
      "Fetching data for movie ID tt14185598 from OMDb...\n"
     ]
    },
    {
     "name": "stderr",
     "output_type": "stream",
     "text": [
      "Fetching movie data:  96%|█████████████████▏| 2499/2614 [16:37<00:43,  2.62it/s]"
     ]
    },
    {
     "name": "stdout",
     "output_type": "stream",
     "text": [
      "Fetching data for movie ID tt15416136 from OMDb...\n"
     ]
    },
    {
     "name": "stderr",
     "output_type": "stream",
     "text": [
      "Fetching movie data:  96%|█████████████████▏| 2500/2614 [16:37<00:43,  2.62it/s]"
     ]
    },
    {
     "name": "stdout",
     "output_type": "stream",
     "text": [
      "Fetching data for movie ID tt4046102 from OMDb...\n"
     ]
    },
    {
     "name": "stderr",
     "output_type": "stream",
     "text": [
      "Fetching movie data:  96%|█████████████████▏| 2501/2614 [16:37<00:43,  2.57it/s]"
     ]
    },
    {
     "name": "stdout",
     "output_type": "stream",
     "text": [
      "Fetching data for movie ID tt4621872 from OMDb...\n"
     ]
    },
    {
     "name": "stderr",
     "output_type": "stream",
     "text": [
      "Fetching movie data:  96%|█████████████████▏| 2502/2614 [16:38<00:43,  2.58it/s]"
     ]
    },
    {
     "name": "stdout",
     "output_type": "stream",
     "text": [
      "Fetching data for movie ID tt7609526 from OMDb...\n"
     ]
    },
    {
     "name": "stderr",
     "output_type": "stream",
     "text": [
      "Fetching movie data:  96%|█████████████████▏| 2504/2614 [16:38<00:33,  3.32it/s]"
     ]
    },
    {
     "name": "stdout",
     "output_type": "stream",
     "text": [
      "Fetching data for movie ID tt34890291 from OMDb...\n",
      "Fetching data for movie ID tt9078338 from OMDb...\n"
     ]
    },
    {
     "name": "stderr",
     "output_type": "stream",
     "text": [
      "Fetching movie data:  96%|█████████████████▏| 2505/2614 [16:39<00:34,  3.17it/s]"
     ]
    },
    {
     "name": "stdout",
     "output_type": "stream",
     "text": [
      "Fetching data for movie ID tt3469270 from OMDb...\n"
     ]
    },
    {
     "name": "stderr",
     "output_type": "stream",
     "text": [
      "Fetching movie data:  96%|█████████████████▎| 2506/2614 [16:39<00:36,  2.94it/s]"
     ]
    },
    {
     "name": "stdout",
     "output_type": "stream",
     "text": [
      "Fetching data for movie ID tt32743345 from OMDb...\n"
     ]
    },
    {
     "name": "stderr",
     "output_type": "stream",
     "text": [
      "Fetching movie data:  96%|█████████████████▎| 2507/2614 [16:39<00:38,  2.81it/s]"
     ]
    },
    {
     "name": "stdout",
     "output_type": "stream",
     "text": [
      "Fetching data for movie ID tt16211626 from OMDb...\n"
     ]
    },
    {
     "name": "stderr",
     "output_type": "stream",
     "text": [
      "Fetching movie data:  96%|█████████████████▎| 2508/2614 [16:40<00:39,  2.71it/s]"
     ]
    },
    {
     "name": "stdout",
     "output_type": "stream",
     "text": [
      "Fetching data for movie ID tt11432356 from OMDb...\n"
     ]
    },
    {
     "name": "stderr",
     "output_type": "stream",
     "text": [
      "Fetching movie data:  96%|█████████████████▎| 2509/2614 [16:40<00:38,  2.73it/s]"
     ]
    },
    {
     "name": "stdout",
     "output_type": "stream",
     "text": [
      "Fetching data for movie ID tt10243870 from OMDb...\n"
     ]
    },
    {
     "name": "stderr",
     "output_type": "stream",
     "text": [
      "Fetching movie data:  96%|█████████████████▎| 2510/2614 [16:40<00:37,  2.74it/s]"
     ]
    },
    {
     "name": "stdout",
     "output_type": "stream",
     "text": [
      "Fetching data for movie ID tt6864046 from OMDb...\n"
     ]
    },
    {
     "name": "stderr",
     "output_type": "stream",
     "text": [
      "Fetching movie data:  96%|█████████████████▎| 2511/2614 [16:41<00:37,  2.71it/s]"
     ]
    },
    {
     "name": "stdout",
     "output_type": "stream",
     "text": [
      "Fetching data for movie ID tt8407560 from OMDb...\n"
     ]
    },
    {
     "name": "stderr",
     "output_type": "stream",
     "text": [
      "Fetching movie data:  96%|█████████████████▎| 2512/2614 [16:41<00:38,  2.66it/s]"
     ]
    },
    {
     "name": "stdout",
     "output_type": "stream",
     "text": [
      "Fetching data for movie ID tt9258162 from OMDb...\n"
     ]
    },
    {
     "name": "stderr",
     "output_type": "stream",
     "text": [
      "Fetching movie data:  96%|█████████████████▎| 2514/2614 [16:42<00:30,  3.30it/s]"
     ]
    },
    {
     "name": "stdout",
     "output_type": "stream",
     "text": [
      "Fetching data for movie ID tt26745657 from OMDb...\n",
      "Fetching data for movie ID tt10244800 from OMDb...\n"
     ]
    },
    {
     "name": "stderr",
     "output_type": "stream",
     "text": [
      "Fetching movie data:  96%|█████████████████▎| 2515/2614 [16:42<00:31,  3.16it/s]"
     ]
    },
    {
     "name": "stdout",
     "output_type": "stream",
     "text": [
      "Fetching data for movie ID tt4895722 from OMDb...\n"
     ]
    },
    {
     "name": "stderr",
     "output_type": "stream",
     "text": [
      "Fetching movie data:  96%|█████████████████▎| 2516/2614 [16:43<00:33,  2.91it/s]"
     ]
    },
    {
     "name": "stdout",
     "output_type": "stream",
     "text": [
      "Fetching data for movie ID tt8126384 from OMDb...\n"
     ]
    },
    {
     "name": "stderr",
     "output_type": "stream",
     "text": [
      "Fetching movie data:  96%|█████████████████▎| 2517/2614 [16:43<00:33,  2.89it/s]"
     ]
    },
    {
     "name": "stdout",
     "output_type": "stream",
     "text": [
      "Fetching data for movie ID tt12957992 from OMDb...\n",
      "Fetching data for movie ID tt9048474 from OMDb...\n"
     ]
    },
    {
     "name": "stderr",
     "output_type": "stream",
     "text": [
      "Fetching movie data:  96%|█████████████████▎| 2519/2614 [16:43<00:28,  3.34it/s]"
     ]
    },
    {
     "name": "stdout",
     "output_type": "stream",
     "text": [
      "Fetching data for movie ID tt29380630 from OMDb...\n"
     ]
    },
    {
     "name": "stderr",
     "output_type": "stream",
     "text": [
      "Fetching movie data:  96%|█████████████████▎| 2520/2614 [16:44<00:29,  3.13it/s]"
     ]
    },
    {
     "name": "stdout",
     "output_type": "stream",
     "text": [
      "Fetching data for movie ID tt12724750 from OMDb...\n"
     ]
    },
    {
     "name": "stderr",
     "output_type": "stream",
     "text": [
      "Fetching movie data:  96%|█████████████████▎| 2521/2614 [16:44<00:30,  3.05it/s]"
     ]
    },
    {
     "name": "stdout",
     "output_type": "stream",
     "text": [
      "Fetching data for movie ID tt14275690 from OMDb...\n"
     ]
    },
    {
     "name": "stderr",
     "output_type": "stream",
     "text": [
      "Fetching movie data:  96%|█████████████████▎| 2522/2614 [16:44<00:30,  3.00it/s]"
     ]
    },
    {
     "name": "stdout",
     "output_type": "stream",
     "text": [
      "Fetching data for movie ID tt3065132 from OMDb...\n"
     ]
    },
    {
     "name": "stderr",
     "output_type": "stream",
     "text": [
      "Fetching movie data:  97%|█████████████████▎| 2523/2614 [16:45<00:27,  3.34it/s]"
     ]
    },
    {
     "name": "stdout",
     "output_type": "stream",
     "text": [
      "Fetching data for movie ID tt35227331 from OMDb...\n",
      "Fetching data for movie ID tt5632118 from OMDb...\n"
     ]
    },
    {
     "name": "stderr",
     "output_type": "stream",
     "text": [
      "Fetching movie data:  97%|█████████████████▍| 2525/2614 [16:45<00:20,  4.44it/s]"
     ]
    },
    {
     "name": "stdout",
     "output_type": "stream",
     "text": [
      "Fetching data for movie ID tt31033424 from OMDb...\n"
     ]
    },
    {
     "name": "stderr",
     "output_type": "stream",
     "text": [
      "Fetching movie data:  97%|█████████████████▍| 2526/2614 [16:45<00:22,  3.87it/s]"
     ]
    },
    {
     "name": "stdout",
     "output_type": "stream",
     "text": [
      "Fetching data for movie ID tt11663090 from OMDb...\n"
     ]
    },
    {
     "name": "stderr",
     "output_type": "stream",
     "text": [
      "Fetching movie data:  97%|█████████████████▍| 2527/2614 [16:46<00:24,  3.50it/s]"
     ]
    },
    {
     "name": "stdout",
     "output_type": "stream",
     "text": [
      "Fetching data for movie ID tt3528498 from OMDb...\n"
     ]
    },
    {
     "name": "stderr",
     "output_type": "stream",
     "text": [
      "Fetching movie data:  97%|█████████████████▍| 2528/2614 [16:46<00:26,  3.21it/s]"
     ]
    },
    {
     "name": "stdout",
     "output_type": "stream",
     "text": [
      "Fetching data for movie ID tt21641822 from OMDb...\n"
     ]
    },
    {
     "name": "stderr",
     "output_type": "stream",
     "text": [
      "Fetching movie data:  97%|█████████████████▍| 2529/2614 [16:46<00:29,  2.85it/s]"
     ]
    },
    {
     "name": "stdout",
     "output_type": "stream",
     "text": [
      "Fetching data for movie ID tt8652500 from OMDb...\n"
     ]
    },
    {
     "name": "stderr",
     "output_type": "stream",
     "text": [
      "Fetching movie data:  97%|█████████████████▍| 2530/2614 [16:47<00:29,  2.84it/s]"
     ]
    },
    {
     "name": "stdout",
     "output_type": "stream",
     "text": [
      "Fetching data for movie ID tt33322041 from OMDb...\n"
     ]
    },
    {
     "name": "stderr",
     "output_type": "stream",
     "text": [
      "Fetching movie data:  97%|█████████████████▍| 2531/2614 [16:47<00:30,  2.72it/s]"
     ]
    },
    {
     "name": "stdout",
     "output_type": "stream",
     "text": [
      "Fetching data for movie ID tt4450930 from OMDb...\n"
     ]
    },
    {
     "name": "stderr",
     "output_type": "stream",
     "text": [
      "Fetching movie data:  97%|█████████████████▍| 2532/2614 [16:48<00:29,  2.76it/s]"
     ]
    },
    {
     "name": "stdout",
     "output_type": "stream",
     "text": [
      "Fetching data for movie ID tt5298608 from OMDb...\n"
     ]
    },
    {
     "name": "stderr",
     "output_type": "stream",
     "text": [
      "Fetching movie data:  97%|█████████████████▍| 2533/2614 [16:48<00:29,  2.75it/s]"
     ]
    },
    {
     "name": "stdout",
     "output_type": "stream",
     "text": [
      "Fetching data for movie ID tt6182530 from OMDb...\n"
     ]
    },
    {
     "name": "stderr",
     "output_type": "stream",
     "text": [
      "Fetching movie data:  97%|█████████████████▍| 2534/2614 [16:48<00:30,  2.61it/s]"
     ]
    },
    {
     "name": "stdout",
     "output_type": "stream",
     "text": [
      "Fetching data for movie ID tt5044068 from OMDb...\n"
     ]
    },
    {
     "name": "stderr",
     "output_type": "stream",
     "text": [
      "Fetching movie data:  97%|█████████████████▍| 2535/2614 [16:49<00:31,  2.54it/s]"
     ]
    },
    {
     "name": "stdout",
     "output_type": "stream",
     "text": [
      "Fetching data for movie ID tt4586092 from OMDb...\n"
     ]
    },
    {
     "name": "stderr",
     "output_type": "stream",
     "text": [
      "Fetching movie data:  97%|█████████████████▍| 2536/2614 [16:49<00:31,  2.45it/s]"
     ]
    },
    {
     "name": "stdout",
     "output_type": "stream",
     "text": [
      "Fetching data for movie ID tt3687882 from OMDb...\n"
     ]
    },
    {
     "name": "stderr",
     "output_type": "stream",
     "text": [
      "Fetching movie data:  97%|█████████████████▍| 2537/2614 [16:50<00:31,  2.45it/s]"
     ]
    },
    {
     "name": "stdout",
     "output_type": "stream",
     "text": [
      "Fetching data for movie ID tt15341964 from OMDb...\n"
     ]
    },
    {
     "name": "stderr",
     "output_type": "stream",
     "text": [
      "Fetching movie data:  97%|█████████████████▍| 2538/2614 [16:50<00:30,  2.47it/s]"
     ]
    },
    {
     "name": "stdout",
     "output_type": "stream",
     "text": [
      "Fetching data for movie ID tt5436410 from OMDb...\n"
     ]
    },
    {
     "name": "stderr",
     "output_type": "stream",
     "text": [
      "Fetching movie data:  97%|█████████████████▍| 2539/2614 [16:50<00:30,  2.44it/s]"
     ]
    },
    {
     "name": "stdout",
     "output_type": "stream",
     "text": [
      "Fetching data for movie ID tt16442252 from OMDb...\n"
     ]
    },
    {
     "name": "stderr",
     "output_type": "stream",
     "text": [
      "Fetching movie data:  97%|█████████████████▍| 2540/2614 [16:51<00:30,  2.42it/s]"
     ]
    },
    {
     "name": "stdout",
     "output_type": "stream",
     "text": [
      "Fetching data for movie ID tt23031072 from OMDb...\n"
     ]
    },
    {
     "name": "stderr",
     "output_type": "stream",
     "text": [
      "Fetching movie data:  97%|█████████████████▍| 2541/2614 [16:51<00:29,  2.45it/s]"
     ]
    },
    {
     "name": "stdout",
     "output_type": "stream",
     "text": [
      "Fetching data for movie ID tt13308864 from OMDb...\n"
     ]
    },
    {
     "name": "stderr",
     "output_type": "stream",
     "text": [
      "Fetching movie data:  97%|█████████████████▌| 2542/2614 [16:52<00:29,  2.44it/s]"
     ]
    },
    {
     "name": "stdout",
     "output_type": "stream",
     "text": [
      "Fetching data for movie ID tt4008296 from OMDb...\n"
     ]
    },
    {
     "name": "stderr",
     "output_type": "stream",
     "text": [
      "Fetching movie data:  97%|█████████████████▌| 2543/2614 [16:52<00:29,  2.42it/s]"
     ]
    },
    {
     "name": "stdout",
     "output_type": "stream",
     "text": [
      "Fetching data for movie ID tt13329274 from OMDb...\n"
     ]
    },
    {
     "name": "stderr",
     "output_type": "stream",
     "text": [
      "Fetching movie data:  97%|█████████████████▌| 2544/2614 [16:52<00:28,  2.47it/s]"
     ]
    },
    {
     "name": "stdout",
     "output_type": "stream",
     "text": [
      "Fetching data for movie ID tt4119590 from OMDb...\n"
     ]
    },
    {
     "name": "stderr",
     "output_type": "stream",
     "text": [
      "Fetching movie data:  97%|█████████████████▌| 2545/2614 [16:53<00:26,  2.56it/s]"
     ]
    },
    {
     "name": "stdout",
     "output_type": "stream",
     "text": [
      "Fetching data for movie ID tt21220930 from OMDb...\n"
     ]
    },
    {
     "name": "stderr",
     "output_type": "stream",
     "text": [
      "Fetching movie data:  97%|█████████████████▌| 2546/2614 [16:53<00:26,  2.60it/s]"
     ]
    },
    {
     "name": "stdout",
     "output_type": "stream",
     "text": [
      "Fetching data for movie ID tt27688444 from OMDb...\n"
     ]
    },
    {
     "name": "stderr",
     "output_type": "stream",
     "text": [
      "Fetching movie data:  97%|█████████████████▌| 2547/2614 [16:54<00:26,  2.55it/s]"
     ]
    },
    {
     "name": "stdout",
     "output_type": "stream",
     "text": [
      "Fetching data for movie ID tt18364564 from OMDb...\n"
     ]
    },
    {
     "name": "stderr",
     "output_type": "stream",
     "text": [
      "Fetching movie data:  97%|█████████████████▌| 2548/2614 [16:54<00:25,  2.59it/s]"
     ]
    },
    {
     "name": "stdout",
     "output_type": "stream",
     "text": [
      "Fetching data for movie ID tt14711046 from OMDb...\n"
     ]
    },
    {
     "name": "stderr",
     "output_type": "stream",
     "text": [
      "Fetching movie data:  98%|█████████████████▌| 2549/2614 [16:54<00:24,  2.67it/s]"
     ]
    },
    {
     "name": "stdout",
     "output_type": "stream",
     "text": [
      "Fetching data for movie ID tt31789358 from OMDb...\n"
     ]
    },
    {
     "name": "stderr",
     "output_type": "stream",
     "text": [
      "Fetching movie data:  98%|█████████████████▌| 2550/2614 [16:55<00:24,  2.65it/s]"
     ]
    },
    {
     "name": "stdout",
     "output_type": "stream",
     "text": [
      "Fetching data for movie ID tt31038890 from OMDb...\n"
     ]
    },
    {
     "name": "stderr",
     "output_type": "stream",
     "text": [
      "Fetching movie data:  98%|█████████████████▌| 2551/2614 [16:55<00:24,  2.54it/s]"
     ]
    },
    {
     "name": "stdout",
     "output_type": "stream",
     "text": [
      "Fetching data for movie ID tt10930448 from OMDb...\n"
     ]
    },
    {
     "name": "stderr",
     "output_type": "stream",
     "text": [
      "Fetching movie data:  98%|█████████████████▌| 2552/2614 [16:56<00:24,  2.51it/s]"
     ]
    },
    {
     "name": "stdout",
     "output_type": "stream",
     "text": [
      "Fetching data for movie ID tt11525812 from OMDb...\n",
      "Fetching data for movie ID tt15710032 from OMDb...\n"
     ]
    },
    {
     "name": "stderr",
     "output_type": "stream",
     "text": [
      "Fetching movie data:  98%|█████████████████▌| 2554/2614 [16:56<00:19,  3.05it/s]"
     ]
    },
    {
     "name": "stdout",
     "output_type": "stream",
     "text": [
      "Fetching data for movie ID tt11541624 from OMDb...\n"
     ]
    },
    {
     "name": "stderr",
     "output_type": "stream",
     "text": [
      "Fetching movie data:  98%|█████████████████▌| 2556/2614 [16:57<00:16,  3.45it/s]"
     ]
    },
    {
     "name": "stdout",
     "output_type": "stream",
     "text": [
      "Fetching data for movie ID tt35498426 from OMDb...\n",
      "Fetching data for movie ID tt10980782 from OMDb...\n"
     ]
    },
    {
     "name": "stderr",
     "output_type": "stream",
     "text": [
      "Fetching movie data:  98%|█████████████████▌| 2557/2614 [16:57<00:17,  3.26it/s]"
     ]
    },
    {
     "name": "stdout",
     "output_type": "stream",
     "text": [
      "Fetching data for movie ID tt13745944 from OMDb...\n"
     ]
    },
    {
     "name": "stderr",
     "output_type": "stream",
     "text": [
      "Fetching movie data:  98%|█████████████████▌| 2558/2614 [16:57<00:19,  2.86it/s]"
     ]
    },
    {
     "name": "stdout",
     "output_type": "stream",
     "text": [
      "Fetching data for movie ID tt7762298 from OMDb...\n"
     ]
    },
    {
     "name": "stderr",
     "output_type": "stream",
     "text": [
      "Fetching movie data:  98%|█████████████████▌| 2559/2614 [16:58<00:20,  2.65it/s]"
     ]
    },
    {
     "name": "stdout",
     "output_type": "stream",
     "text": [
      "Fetching data for movie ID tt8099184 from OMDb...\n"
     ]
    },
    {
     "name": "stderr",
     "output_type": "stream",
     "text": [
      "Fetching movie data:  98%|█████████████████▋| 2560/2614 [16:58<00:20,  2.65it/s]"
     ]
    },
    {
     "name": "stdout",
     "output_type": "stream",
     "text": [
      "Fetching data for movie ID tt21154882 from OMDb...\n"
     ]
    },
    {
     "name": "stderr",
     "output_type": "stream",
     "text": [
      "Fetching movie data:  98%|█████████████████▋| 2561/2614 [16:59<00:20,  2.61it/s]"
     ]
    },
    {
     "name": "stdout",
     "output_type": "stream",
     "text": [
      "Fetching data for movie ID tt7580240 from OMDb...\n"
     ]
    },
    {
     "name": "stderr",
     "output_type": "stream",
     "text": [
      "Fetching movie data:  98%|█████████████████▋| 2562/2614 [16:59<00:19,  2.66it/s]"
     ]
    },
    {
     "name": "stdout",
     "output_type": "stream",
     "text": [
      "Fetching data for movie ID tt21929356 from OMDb...\n"
     ]
    },
    {
     "name": "stderr",
     "output_type": "stream",
     "text": [
      "Fetching movie data:  98%|█████████████████▋| 2563/2614 [16:59<00:20,  2.48it/s]"
     ]
    },
    {
     "name": "stdout",
     "output_type": "stream",
     "text": [
      "Fetching data for movie ID tt27949746 from OMDb...\n"
     ]
    },
    {
     "name": "stderr",
     "output_type": "stream",
     "text": [
      "Fetching movie data:  98%|█████████████████▋| 2564/2614 [17:00<00:19,  2.60it/s]"
     ]
    },
    {
     "name": "stdout",
     "output_type": "stream",
     "text": [
      "Fetching data for movie ID tt4613012 from OMDb...\n"
     ]
    },
    {
     "name": "stderr",
     "output_type": "stream",
     "text": [
      "Fetching movie data:  98%|█████████████████▋| 2565/2614 [17:01<00:26,  1.86it/s]"
     ]
    },
    {
     "name": "stdout",
     "output_type": "stream",
     "text": [
      "Fetching data for movie ID tt19889004 from OMDb...\n"
     ]
    },
    {
     "name": "stderr",
     "output_type": "stream",
     "text": [
      "Fetching movie data:  98%|█████████████████▋| 2566/2614 [17:01<00:23,  2.06it/s]"
     ]
    },
    {
     "name": "stdout",
     "output_type": "stream",
     "text": [
      "Fetching data for movie ID tt12973746 from OMDb...\n"
     ]
    },
    {
     "name": "stderr",
     "output_type": "stream",
     "text": [
      "Fetching movie data:  98%|█████████████████▋| 2567/2614 [17:02<00:22,  2.12it/s]"
     ]
    },
    {
     "name": "stdout",
     "output_type": "stream",
     "text": [
      "Fetching data for movie ID tt10845302 from OMDb...\n"
     ]
    },
    {
     "name": "stderr",
     "output_type": "stream",
     "text": [
      "Fetching movie data:  98%|█████████████████▋| 2568/2614 [17:03<00:31,  1.47it/s]"
     ]
    },
    {
     "name": "stdout",
     "output_type": "stream",
     "text": [
      "Fetching data for movie ID tt8172146 from OMDb...\n"
     ]
    },
    {
     "name": "stderr",
     "output_type": "stream",
     "text": [
      "Fetching movie data:  98%|█████████████████▋| 2569/2614 [17:03<00:27,  1.61it/s]"
     ]
    },
    {
     "name": "stdout",
     "output_type": "stream",
     "text": [
      "Fetching data for movie ID tt6143970 from OMDb...\n"
     ]
    },
    {
     "name": "stderr",
     "output_type": "stream",
     "text": [
      "Fetching movie data:  98%|█████████████████▋| 2570/2614 [17:04<00:25,  1.71it/s]"
     ]
    },
    {
     "name": "stdout",
     "output_type": "stream",
     "text": [
      "Fetching data for movie ID tt15313532 from OMDb...\n"
     ]
    },
    {
     "name": "stderr",
     "output_type": "stream",
     "text": [
      "Fetching movie data:  98%|█████████████████▋| 2571/2614 [17:04<00:24,  1.77it/s]"
     ]
    },
    {
     "name": "stdout",
     "output_type": "stream",
     "text": [
      "Fetching data for movie ID tt27430218 from OMDb...\n"
     ]
    },
    {
     "name": "stderr",
     "output_type": "stream",
     "text": [
      "Fetching movie data:  98%|█████████████████▋| 2572/2614 [17:05<00:21,  1.94it/s]"
     ]
    },
    {
     "name": "stdout",
     "output_type": "stream",
     "text": [
      "Fetching data for movie ID tt6542180 from OMDb...\n"
     ]
    },
    {
     "name": "stderr",
     "output_type": "stream",
     "text": [
      "Fetching movie data:  98%|█████████████████▋| 2573/2614 [17:06<00:30,  1.34it/s]"
     ]
    },
    {
     "name": "stdout",
     "output_type": "stream",
     "text": [
      "Fetching data for movie ID tt16288898 from OMDb...\n"
     ]
    },
    {
     "name": "stderr",
     "output_type": "stream",
     "text": [
      "Fetching movie data:  98%|█████████████████▋| 2574/2614 [17:07<00:31,  1.25it/s]"
     ]
    },
    {
     "name": "stdout",
     "output_type": "stream",
     "text": [
      "Fetching data for movie ID tt14210206 from OMDb...\n"
     ]
    },
    {
     "name": "stderr",
     "output_type": "stream",
     "text": [
      "Fetching movie data:  99%|█████████████████▋| 2575/2614 [17:07<00:29,  1.33it/s]"
     ]
    },
    {
     "name": "stdout",
     "output_type": "stream",
     "text": [
      "Fetching data for movie ID tt32383877 from OMDb...\n"
     ]
    },
    {
     "name": "stderr",
     "output_type": "stream",
     "text": [
      "Fetching movie data:  99%|█████████████████▋| 2576/2614 [17:08<00:25,  1.46it/s]"
     ]
    },
    {
     "name": "stdout",
     "output_type": "stream",
     "text": [
      "Progress saved after 38900 movies.\n",
      "Fetching data for movie ID tt5876040 from OMDb...\n"
     ]
    },
    {
     "name": "stderr",
     "output_type": "stream",
     "text": [
      "Fetching movie data:  99%|█████████████████▋| 2577/2614 [17:08<00:21,  1.72it/s]"
     ]
    },
    {
     "name": "stdout",
     "output_type": "stream",
     "text": [
      "Fetching data for movie ID tt11059412 from OMDb...\n"
     ]
    },
    {
     "name": "stderr",
     "output_type": "stream",
     "text": [
      "Fetching movie data:  99%|█████████████████▊| 2579/2614 [17:09<00:14,  2.49it/s]"
     ]
    },
    {
     "name": "stdout",
     "output_type": "stream",
     "text": [
      "Fetching data for movie ID tt6265318 from OMDb...\n",
      "Fetching data for movie ID tt12617878 from OMDb...\n"
     ]
    },
    {
     "name": "stderr",
     "output_type": "stream",
     "text": [
      "Fetching movie data:  99%|█████████████████▊| 2580/2614 [17:09<00:14,  2.33it/s]"
     ]
    },
    {
     "name": "stdout",
     "output_type": "stream",
     "text": [
      "Fetching data for movie ID tt29795285 from OMDb...\n"
     ]
    },
    {
     "name": "stderr",
     "output_type": "stream",
     "text": [
      "Fetching movie data:  99%|█████████████████▊| 2581/2614 [17:10<00:13,  2.47it/s]"
     ]
    },
    {
     "name": "stdout",
     "output_type": "stream",
     "text": [
      "Fetching data for movie ID tt12283008 from OMDb...\n"
     ]
    },
    {
     "name": "stderr",
     "output_type": "stream",
     "text": [
      "Fetching movie data:  99%|█████████████████▊| 2582/2614 [17:10<00:12,  2.51it/s]"
     ]
    },
    {
     "name": "stdout",
     "output_type": "stream",
     "text": [
      "Fetching data for movie ID tt13519120 from OMDb...\n"
     ]
    },
    {
     "name": "stderr",
     "output_type": "stream",
     "text": [
      "Fetching movie data:  99%|█████████████████▊| 2583/2614 [17:10<00:12,  2.52it/s]"
     ]
    },
    {
     "name": "stdout",
     "output_type": "stream",
     "text": [
      "Fetching data for movie ID tt27971392 from OMDb...\n"
     ]
    },
    {
     "name": "stderr",
     "output_type": "stream",
     "text": [
      "Fetching movie data:  99%|█████████████████▊| 2584/2614 [17:11<00:11,  2.54it/s]"
     ]
    },
    {
     "name": "stdout",
     "output_type": "stream",
     "text": [
      "Fetching data for movie ID tt13798140 from OMDb...\n"
     ]
    },
    {
     "name": "stderr",
     "output_type": "stream",
     "text": [
      "Fetching movie data:  99%|█████████████████▊| 2585/2614 [17:11<00:11,  2.52it/s]"
     ]
    },
    {
     "name": "stdout",
     "output_type": "stream",
     "text": [
      "Fetching data for movie ID tt6101486 from OMDb...\n"
     ]
    },
    {
     "name": "stderr",
     "output_type": "stream",
     "text": [
      "Fetching movie data:  99%|█████████████████▊| 2586/2614 [17:12<00:11,  2.53it/s]"
     ]
    },
    {
     "name": "stdout",
     "output_type": "stream",
     "text": [
      "Fetching data for movie ID tt11330264 from OMDb...\n"
     ]
    },
    {
     "name": "stderr",
     "output_type": "stream",
     "text": [
      "Fetching movie data:  99%|█████████████████▊| 2587/2614 [17:12<00:10,  2.56it/s]"
     ]
    },
    {
     "name": "stdout",
     "output_type": "stream",
     "text": [
      "Fetching data for movie ID tt34818181 from OMDb...\n",
      "Fetching data for movie ID tt4531984 from OMDb...\n"
     ]
    },
    {
     "name": "stderr",
     "output_type": "stream",
     "text": [
      "Fetching movie data:  99%|█████████████████▊| 2589/2614 [17:12<00:07,  3.22it/s]"
     ]
    },
    {
     "name": "stdout",
     "output_type": "stream",
     "text": [
      "Fetching data for movie ID tt32888553 from OMDb...\n"
     ]
    },
    {
     "name": "stderr",
     "output_type": "stream",
     "text": [
      "Fetching movie data:  99%|█████████████████▊| 2591/2614 [17:13<00:06,  3.68it/s]"
     ]
    },
    {
     "name": "stdout",
     "output_type": "stream",
     "text": [
      "Fetching data for movie ID tt5237948 from OMDb...\n",
      "Fetching data for movie ID tt5909308 from OMDb...\n"
     ]
    },
    {
     "name": "stderr",
     "output_type": "stream",
     "text": [
      "Fetching movie data:  99%|█████████████████▊| 2592/2614 [17:13<00:07,  3.06it/s]"
     ]
    },
    {
     "name": "stdout",
     "output_type": "stream",
     "text": [
      "Fetching data for movie ID tt10895556 from OMDb...\n"
     ]
    },
    {
     "name": "stderr",
     "output_type": "stream",
     "text": [
      "Fetching movie data:  99%|█████████████████▊| 2594/2614 [17:14<00:05,  3.48it/s]"
     ]
    },
    {
     "name": "stdout",
     "output_type": "stream",
     "text": [
      "Fetching data for movie ID tt33348082 from OMDb...\n",
      "Fetching data for movie ID tt4259408 from OMDb...\n"
     ]
    },
    {
     "name": "stderr",
     "output_type": "stream",
     "text": [
      "Fetching movie data:  99%|█████████████████▊| 2595/2614 [17:14<00:06,  2.90it/s]"
     ]
    },
    {
     "name": "stdout",
     "output_type": "stream",
     "text": [
      "Fetching data for movie ID tt15379542 from OMDb...\n"
     ]
    },
    {
     "name": "stderr",
     "output_type": "stream",
     "text": [
      "Fetching movie data:  99%|█████████████████▉| 2596/2614 [17:18<00:25,  1.44s/it]"
     ]
    },
    {
     "name": "stdout",
     "output_type": "stream",
     "text": [
      "Fetching data for movie ID tt4643666 from OMDb...\n"
     ]
    },
    {
     "name": "stderr",
     "output_type": "stream",
     "text": [
      "Fetching movie data:  99%|█████████████████▉| 2597/2614 [17:19<00:19,  1.14s/it]"
     ]
    },
    {
     "name": "stdout",
     "output_type": "stream",
     "text": [
      "Fetching data for movie ID tt8333978 from OMDb...\n"
     ]
    },
    {
     "name": "stderr",
     "output_type": "stream",
     "text": [
      "Fetching movie data:  99%|█████████████████▉| 2598/2614 [17:19<00:14,  1.08it/s]"
     ]
    },
    {
     "name": "stdout",
     "output_type": "stream",
     "text": [
      "Fetching data for movie ID tt3210388 from OMDb...\n"
     ]
    },
    {
     "name": "stderr",
     "output_type": "stream",
     "text": [
      "Fetching movie data:  99%|█████████████████▉| 2599/2614 [17:20<00:12,  1.25it/s]"
     ]
    },
    {
     "name": "stdout",
     "output_type": "stream",
     "text": [
      "Fetching data for movie ID tt27788629 from OMDb...\n"
     ]
    },
    {
     "name": "stderr",
     "output_type": "stream",
     "text": [
      "Fetching movie data:  99%|█████████████████▉| 2600/2614 [17:20<00:09,  1.46it/s]"
     ]
    },
    {
     "name": "stdout",
     "output_type": "stream",
     "text": [
      "Fetching data for movie ID tt28022266 from OMDb...\n"
     ]
    },
    {
     "name": "stderr",
     "output_type": "stream",
     "text": [
      "Fetching movie data: 100%|█████████████████▉| 2601/2614 [17:21<00:07,  1.67it/s]"
     ]
    },
    {
     "name": "stdout",
     "output_type": "stream",
     "text": [
      "Fetching data for movie ID tt13134900 from OMDb...\n"
     ]
    },
    {
     "name": "stderr",
     "output_type": "stream",
     "text": [
      "Fetching movie data: 100%|█████████████████▉| 2602/2614 [17:21<00:06,  1.83it/s]"
     ]
    },
    {
     "name": "stdout",
     "output_type": "stream",
     "text": [
      "Fetching data for movie ID tt10049110 from OMDb...\n"
     ]
    },
    {
     "name": "stderr",
     "output_type": "stream",
     "text": [
      "Fetching movie data: 100%|█████████████████▉| 2603/2614 [17:22<00:05,  1.92it/s]"
     ]
    },
    {
     "name": "stdout",
     "output_type": "stream",
     "text": [
      "Fetching data for movie ID tt7379472 from OMDb...\n"
     ]
    },
    {
     "name": "stderr",
     "output_type": "stream",
     "text": [
      "Fetching movie data: 100%|█████████████████▉| 2604/2614 [17:28<00:23,  2.34s/it]"
     ]
    },
    {
     "name": "stdout",
     "output_type": "stream",
     "text": [
      "Fetching data for movie ID tt11080024 from OMDb...\n"
     ]
    },
    {
     "name": "stderr",
     "output_type": "stream",
     "text": [
      "Fetching movie data: 100%|█████████████████▉| 2605/2614 [17:33<00:27,  3.09s/it]"
     ]
    },
    {
     "name": "stdout",
     "output_type": "stream",
     "text": [
      "Fetching data for movie ID tt8961266 from OMDb...\n"
     ]
    },
    {
     "name": "stderr",
     "output_type": "stream",
     "text": [
      "Fetching movie data: 100%|█████████████████▉| 2606/2614 [17:33<00:18,  2.28s/it]"
     ]
    },
    {
     "name": "stdout",
     "output_type": "stream",
     "text": [
      "Fetching data for movie ID tt2614776 from OMDb...\n"
     ]
    },
    {
     "name": "stderr",
     "output_type": "stream",
     "text": [
      "Fetching movie data: 100%|█████████████████▉| 2607/2614 [17:36<00:17,  2.46s/it]"
     ]
    },
    {
     "name": "stdout",
     "output_type": "stream",
     "text": [
      "Fetching data for movie ID tt8983228 from OMDb...\n"
     ]
    },
    {
     "name": "stderr",
     "output_type": "stream",
     "text": [
      "Fetching movie data: 100%|█████████████████▉| 2608/2614 [17:37<00:11,  1.88s/it]"
     ]
    },
    {
     "name": "stdout",
     "output_type": "stream",
     "text": [
      "Fetching data for movie ID tt26772032 from OMDb...\n"
     ]
    },
    {
     "name": "stderr",
     "output_type": "stream",
     "text": [
      "Fetching movie data: 100%|█████████████████▉| 2609/2614 [17:37<00:07,  1.43s/it]"
     ]
    },
    {
     "name": "stdout",
     "output_type": "stream",
     "text": [
      "Fetching data for movie ID tt6214958 from OMDb...\n"
     ]
    },
    {
     "name": "stderr",
     "output_type": "stream",
     "text": [
      "Fetching movie data: 100%|█████████████████▉| 2610/2614 [17:41<00:09,  2.29s/it]"
     ]
    },
    {
     "name": "stdout",
     "output_type": "stream",
     "text": [
      "Fetching data for movie ID tt12268038 from OMDb...\n"
     ]
    },
    {
     "name": "stderr",
     "output_type": "stream",
     "text": [
      "Fetching movie data: 100%|█████████████████▉| 2611/2614 [17:45<00:07,  2.58s/it]"
     ]
    },
    {
     "name": "stdout",
     "output_type": "stream",
     "text": [
      "Fetching data for movie ID tt5946852 from OMDb...\n"
     ]
    },
    {
     "name": "stderr",
     "output_type": "stream",
     "text": [
      "Fetching movie data: 100%|█████████████████▉| 2612/2614 [17:45<00:03,  1.94s/it]"
     ]
    },
    {
     "name": "stdout",
     "output_type": "stream",
     "text": [
      "Fetching data for movie ID tt21980046 from OMDb...\n"
     ]
    },
    {
     "name": "stderr",
     "output_type": "stream",
     "text": [
      "Fetching movie data: 100%|██████████████████| 2614/2614 [17:47<00:00,  2.45it/s]\n"
     ]
    },
    {
     "name": "stdout",
     "output_type": "stream",
     "text": [
      "Fetching data for movie ID tt17886916 from OMDb...\n",
      "Final dataset saved!\n"
     ]
    }
   ],
   "source": [
    "# Fetch movie data and generate a DataFrame\n",
    "save_path = parent_path + \"/movie_data.pkl\"\n",
    "movie_df = fetch_movie_data_from_omdb(movie_ids, omdb_key, save_path)\n",
    "\n",
    "movie_df.to_csv(parent_path + \"/filtered_movies.csv\", index=False)"
   ]
  },
  {
   "cell_type": "code",
   "execution_count": 23,
   "id": "c1d4e57c-c63f-4784-b25e-e6d270188a3a",
   "metadata": {},
   "outputs": [
    {
     "name": "stdout",
     "output_type": "stream",
     "text": [
      "      imdb_id                      title  year               genre  \\\n",
      "0   tt4076360               Third Person  2015  Documentary, Drama   \n",
      "1   tt3608918                  Azzurrina  2023              Horror   \n",
      "2  tt15908496                Dear Jackie  2021         Documentary   \n",
      "3  tt28378602  Zena s gumenim rukavicama  2023               Drama   \n",
      "4   tt6340460        Los caminos de Cuba  2019         Documentary   \n",
      "\n",
      "            director                                          actors  \\\n",
      "0       Sharon Luzon                                             N/A   \n",
      "1  Giacomo Franciosa  Tatiana Luter, Paolo Stella, Gianfranco Terrin   \n",
      "2        Henri Pardo  Ronald Jones, Ivan Livingstone, Majiza Philips   \n",
      "3       Mario Sulina   Areta Curkovic, Sandra Loncaric, Miro Cabraja   \n",
      "4      Luciano Nacci                                             N/A   \n",
      "\n",
      "                                                plot  \\\n",
      "0  Suzan, an Arab- Israeli woman, must reshape he...   \n",
      "1  The tale of Guendalina was passed down verball...   \n",
      "2  Dear Jackie paints a picture of the Black comm...   \n",
      "3  The film was inspired by the great strike of e...   \n",
      "4                                                N/A   \n",
      "\n",
      "                     country awards  \\\n",
      "0                     Israel    N/A   \n",
      "1                      Italy    N/A   \n",
      "2                     Canada    N/A   \n",
      "3                    Croatia    N/A   \n",
      "4  Argentina, Cuba, Colombia    N/A   \n",
      "\n",
      "                                              poster rating metascore votes  \\\n",
      "0  https://m.media-amazon.com/images/M/MV5BOTI5OT...    N/A       N/A   N/A   \n",
      "1  https://m.media-amazon.com/images/M/MV5BOWQ5MG...    N/A       N/A   N/A   \n",
      "2  https://m.media-amazon.com/images/M/MV5BNDIwYz...    N/A       N/A   N/A   \n",
      "3  https://m.media-amazon.com/images/M/MV5BODE4NG...    N/A       N/A   N/A   \n",
      "4  https://m.media-amazon.com/images/M/MV5BMzhjOT...    N/A       N/A   N/A   \n",
      "\n",
      "    type  \n",
      "0  movie  \n",
      "1  movie  \n",
      "2  movie  \n",
      "3  movie  \n",
      "4  movie  \n"
     ]
    }
   ],
   "source": [
    "# Load previously fetched movie data\n",
    "with open(save_path, \"rb\") as f:\n",
    "    movie_data_list = pickle.load(f)\n",
    "\n",
    "# Convert to DataFrame\n",
    "movie_df = pd.DataFrame(movie_data_list)\n",
    "print(movie_df.head())"
   ]
  },
  {
   "cell_type": "code",
   "execution_count": 27,
   "id": "bd8ddb34-3506-4b57-a6b3-4c37385f2021",
   "metadata": {},
   "outputs": [
    {
     "data": {
      "text/html": [
       "<div>\n",
       "<style scoped>\n",
       "    .dataframe tbody tr th:only-of-type {\n",
       "        vertical-align: middle;\n",
       "    }\n",
       "\n",
       "    .dataframe tbody tr th {\n",
       "        vertical-align: top;\n",
       "    }\n",
       "\n",
       "    .dataframe thead th {\n",
       "        text-align: right;\n",
       "    }\n",
       "</style>\n",
       "<table border=\"1\" class=\"dataframe\">\n",
       "  <thead>\n",
       "    <tr style=\"text-align: right;\">\n",
       "      <th></th>\n",
       "      <th>imdb_id</th>\n",
       "      <th>title</th>\n",
       "      <th>year</th>\n",
       "      <th>genre</th>\n",
       "      <th>director</th>\n",
       "      <th>actors</th>\n",
       "      <th>plot</th>\n",
       "      <th>country</th>\n",
       "      <th>awards</th>\n",
       "      <th>poster</th>\n",
       "      <th>rating</th>\n",
       "      <th>metascore</th>\n",
       "      <th>votes</th>\n",
       "      <th>type</th>\n",
       "    </tr>\n",
       "  </thead>\n",
       "  <tbody>\n",
       "    <tr>\n",
       "      <th>38932</th>\n",
       "      <td>tt6214958</td>\n",
       "      <td>Soul Exodus</td>\n",
       "      <td>2016</td>\n",
       "      <td>Documentary</td>\n",
       "      <td>Csaba Bereczki</td>\n",
       "      <td>Michael Alpert, Daniel Kahn, Psoy Korolenko</td>\n",
       "      <td>In search of their identities, five klezmer mu...</td>\n",
       "      <td>Hungary</td>\n",
       "      <td>1 win &amp; 1 nomination</td>\n",
       "      <td>https://m.media-amazon.com/images/M/MV5BZmZiYW...</td>\n",
       "      <td>7.5</td>\n",
       "      <td>7.5</td>\n",
       "      <td>N/A</td>\n",
       "      <td>movie</td>\n",
       "    </tr>\n",
       "    <tr>\n",
       "      <th>38933</th>\n",
       "      <td>tt12268038</td>\n",
       "      <td>America's Last Little Italy: The Hill</td>\n",
       "      <td>2020</td>\n",
       "      <td>Documentary</td>\n",
       "      <td>Joseph Puleo</td>\n",
       "      <td>Anne Agusti, Josephine Aiazzi, Keith Ballentine</td>\n",
       "      <td>The Hill in St. Louis, Missouri is an Italian ...</td>\n",
       "      <td>United States</td>\n",
       "      <td>4 wins &amp; 2 nominations</td>\n",
       "      <td>https://m.media-amazon.com/images/M/MV5BNzM1Mz...</td>\n",
       "      <td>8.8</td>\n",
       "      <td>8.8</td>\n",
       "      <td>N/A</td>\n",
       "      <td>movie</td>\n",
       "    </tr>\n",
       "    <tr>\n",
       "      <th>38934</th>\n",
       "      <td>tt5946852</td>\n",
       "      <td>Janatha Garage</td>\n",
       "      <td>2016</td>\n",
       "      <td>Action, Crime, Drama</td>\n",
       "      <td>Koratala Siva</td>\n",
       "      <td>N.T. Rama Rao Jr., Mohanlal, Samantha Ruth Prabhu</td>\n",
       "      <td>An environmental activist comes to Hyderabad t...</td>\n",
       "      <td>India</td>\n",
       "      <td>19 wins &amp; 7 nominations</td>\n",
       "      <td>https://m.media-amazon.com/images/M/MV5BNGUyN2...</td>\n",
       "      <td>7.2</td>\n",
       "      <td>7.2</td>\n",
       "      <td>N/A</td>\n",
       "      <td>movie</td>\n",
       "    </tr>\n",
       "    <tr>\n",
       "      <th>38935</th>\n",
       "      <td>tt21980046</td>\n",
       "      <td>Mrs. Buica</td>\n",
       "      <td>2023</td>\n",
       "      <td>Documentary</td>\n",
       "      <td>Eugene Buica</td>\n",
       "      <td>N/A</td>\n",
       "      <td>It's no surprise that no one ever celebrated M...</td>\n",
       "      <td>Romania, United States</td>\n",
       "      <td>2 nominations</td>\n",
       "      <td>https://m.media-amazon.com/images/M/MV5BMjA4N2...</td>\n",
       "      <td>8.8</td>\n",
       "      <td>8.8</td>\n",
       "      <td>N/A</td>\n",
       "      <td>movie</td>\n",
       "    </tr>\n",
       "    <tr>\n",
       "      <th>38936</th>\n",
       "      <td>tt17886916</td>\n",
       "      <td>El Humor en Tiempos De Covid</td>\n",
       "      <td>2022</td>\n",
       "      <td>Documentary</td>\n",
       "      <td>N/A</td>\n",
       "      <td>Carlos Sanchez</td>\n",
       "      <td>About the effects of the COVID-19 pandemic on ...</td>\n",
       "      <td>Dominican Republic</td>\n",
       "      <td>N/A</td>\n",
       "      <td>N/A</td>\n",
       "      <td>N/A</td>\n",
       "      <td>N/A</td>\n",
       "      <td>N/A</td>\n",
       "      <td>movie</td>\n",
       "    </tr>\n",
       "  </tbody>\n",
       "</table>\n",
       "</div>"
      ],
      "text/plain": [
       "          imdb_id                                  title  year  \\\n",
       "38932   tt6214958                            Soul Exodus  2016   \n",
       "38933  tt12268038  America's Last Little Italy: The Hill  2020   \n",
       "38934   tt5946852                         Janatha Garage  2016   \n",
       "38935  tt21980046                             Mrs. Buica  2023   \n",
       "38936  tt17886916           El Humor en Tiempos De Covid  2022   \n",
       "\n",
       "                      genre        director  \\\n",
       "38932           Documentary  Csaba Bereczki   \n",
       "38933           Documentary    Joseph Puleo   \n",
       "38934  Action, Crime, Drama   Koratala Siva   \n",
       "38935           Documentary    Eugene Buica   \n",
       "38936           Documentary             N/A   \n",
       "\n",
       "                                                  actors  \\\n",
       "38932        Michael Alpert, Daniel Kahn, Psoy Korolenko   \n",
       "38933    Anne Agusti, Josephine Aiazzi, Keith Ballentine   \n",
       "38934  N.T. Rama Rao Jr., Mohanlal, Samantha Ruth Prabhu   \n",
       "38935                                                N/A   \n",
       "38936                                     Carlos Sanchez   \n",
       "\n",
       "                                                    plot  \\\n",
       "38932  In search of their identities, five klezmer mu...   \n",
       "38933  The Hill in St. Louis, Missouri is an Italian ...   \n",
       "38934  An environmental activist comes to Hyderabad t...   \n",
       "38935  It's no surprise that no one ever celebrated M...   \n",
       "38936  About the effects of the COVID-19 pandemic on ...   \n",
       "\n",
       "                      country                   awards  \\\n",
       "38932                 Hungary     1 win & 1 nomination   \n",
       "38933           United States   4 wins & 2 nominations   \n",
       "38934                   India  19 wins & 7 nominations   \n",
       "38935  Romania, United States            2 nominations   \n",
       "38936      Dominican Republic                      N/A   \n",
       "\n",
       "                                                  poster rating metascore  \\\n",
       "38932  https://m.media-amazon.com/images/M/MV5BZmZiYW...    7.5       7.5   \n",
       "38933  https://m.media-amazon.com/images/M/MV5BNzM1Mz...    8.8       8.8   \n",
       "38934  https://m.media-amazon.com/images/M/MV5BNGUyN2...    7.2       7.2   \n",
       "38935  https://m.media-amazon.com/images/M/MV5BMjA4N2...    8.8       8.8   \n",
       "38936                                                N/A    N/A       N/A   \n",
       "\n",
       "      votes   type  \n",
       "38932   N/A  movie  \n",
       "38933   N/A  movie  \n",
       "38934   N/A  movie  \n",
       "38935   N/A  movie  \n",
       "38936   N/A  movie  "
      ]
     },
     "execution_count": 27,
     "metadata": {},
     "output_type": "execute_result"
    }
   ],
   "source": [
    "movie_df.tail()"
   ]
  },
  {
   "cell_type": "code",
   "execution_count": 29,
   "id": "181c03ba-260f-4636-bf9e-97c85171f4f1",
   "metadata": {},
   "outputs": [
    {
     "data": {
      "text/html": [
       "<div>\n",
       "<style scoped>\n",
       "    .dataframe tbody tr th:only-of-type {\n",
       "        vertical-align: middle;\n",
       "    }\n",
       "\n",
       "    .dataframe tbody tr th {\n",
       "        vertical-align: top;\n",
       "    }\n",
       "\n",
       "    .dataframe thead th {\n",
       "        text-align: right;\n",
       "    }\n",
       "</style>\n",
       "<table border=\"1\" class=\"dataframe\">\n",
       "  <thead>\n",
       "    <tr style=\"text-align: right;\">\n",
       "      <th></th>\n",
       "      <th>imdb_id</th>\n",
       "      <th>title</th>\n",
       "      <th>year</th>\n",
       "      <th>genre</th>\n",
       "      <th>director</th>\n",
       "      <th>actors</th>\n",
       "      <th>plot</th>\n",
       "      <th>country</th>\n",
       "      <th>awards</th>\n",
       "      <th>poster</th>\n",
       "      <th>rating</th>\n",
       "      <th>metascore</th>\n",
       "      <th>votes</th>\n",
       "      <th>type</th>\n",
       "    </tr>\n",
       "  </thead>\n",
       "  <tbody>\n",
       "    <tr>\n",
       "      <th>0</th>\n",
       "      <td>tt4076360</td>\n",
       "      <td>Third Person</td>\n",
       "      <td>2015</td>\n",
       "      <td>Documentary, Drama</td>\n",
       "      <td>Sharon Luzon</td>\n",
       "      <td>N/A</td>\n",
       "      <td>Suzan, an Arab- Israeli woman, must reshape he...</td>\n",
       "      <td>Israel</td>\n",
       "      <td>N/A</td>\n",
       "      <td>https://m.media-amazon.com/images/M/MV5BOTI5OT...</td>\n",
       "      <td>N/A</td>\n",
       "      <td>N/A</td>\n",
       "      <td>N/A</td>\n",
       "      <td>movie</td>\n",
       "    </tr>\n",
       "    <tr>\n",
       "      <th>1</th>\n",
       "      <td>tt3608918</td>\n",
       "      <td>Azzurrina</td>\n",
       "      <td>2023</td>\n",
       "      <td>Horror</td>\n",
       "      <td>Giacomo Franciosa</td>\n",
       "      <td>Tatiana Luter, Paolo Stella, Gianfranco Terrin</td>\n",
       "      <td>The tale of Guendalina was passed down verball...</td>\n",
       "      <td>Italy</td>\n",
       "      <td>N/A</td>\n",
       "      <td>https://m.media-amazon.com/images/M/MV5BOWQ5MG...</td>\n",
       "      <td>N/A</td>\n",
       "      <td>N/A</td>\n",
       "      <td>N/A</td>\n",
       "      <td>movie</td>\n",
       "    </tr>\n",
       "    <tr>\n",
       "      <th>2</th>\n",
       "      <td>tt15908496</td>\n",
       "      <td>Dear Jackie</td>\n",
       "      <td>2021</td>\n",
       "      <td>Documentary</td>\n",
       "      <td>Henri Pardo</td>\n",
       "      <td>Ronald Jones, Ivan Livingstone, Majiza Philips</td>\n",
       "      <td>Dear Jackie paints a picture of the Black comm...</td>\n",
       "      <td>Canada</td>\n",
       "      <td>N/A</td>\n",
       "      <td>https://m.media-amazon.com/images/M/MV5BNDIwYz...</td>\n",
       "      <td>N/A</td>\n",
       "      <td>N/A</td>\n",
       "      <td>N/A</td>\n",
       "      <td>movie</td>\n",
       "    </tr>\n",
       "    <tr>\n",
       "      <th>3</th>\n",
       "      <td>tt28378602</td>\n",
       "      <td>Zena s gumenim rukavicama</td>\n",
       "      <td>2023</td>\n",
       "      <td>Drama</td>\n",
       "      <td>Mario Sulina</td>\n",
       "      <td>Areta Curkovic, Sandra Loncaric, Miro Cabraja</td>\n",
       "      <td>The film was inspired by the great strike of e...</td>\n",
       "      <td>Croatia</td>\n",
       "      <td>N/A</td>\n",
       "      <td>https://m.media-amazon.com/images/M/MV5BODE4NG...</td>\n",
       "      <td>N/A</td>\n",
       "      <td>N/A</td>\n",
       "      <td>N/A</td>\n",
       "      <td>movie</td>\n",
       "    </tr>\n",
       "    <tr>\n",
       "      <th>4</th>\n",
       "      <td>tt6340460</td>\n",
       "      <td>Los caminos de Cuba</td>\n",
       "      <td>2019</td>\n",
       "      <td>Documentary</td>\n",
       "      <td>Luciano Nacci</td>\n",
       "      <td>N/A</td>\n",
       "      <td>N/A</td>\n",
       "      <td>Argentina, Cuba, Colombia</td>\n",
       "      <td>N/A</td>\n",
       "      <td>https://m.media-amazon.com/images/M/MV5BMzhjOT...</td>\n",
       "      <td>N/A</td>\n",
       "      <td>N/A</td>\n",
       "      <td>N/A</td>\n",
       "      <td>movie</td>\n",
       "    </tr>\n",
       "  </tbody>\n",
       "</table>\n",
       "</div>"
      ],
      "text/plain": [
       "      imdb_id                      title  year               genre  \\\n",
       "0   tt4076360               Third Person  2015  Documentary, Drama   \n",
       "1   tt3608918                  Azzurrina  2023              Horror   \n",
       "2  tt15908496                Dear Jackie  2021         Documentary   \n",
       "3  tt28378602  Zena s gumenim rukavicama  2023               Drama   \n",
       "4   tt6340460        Los caminos de Cuba  2019         Documentary   \n",
       "\n",
       "            director                                          actors  \\\n",
       "0       Sharon Luzon                                             N/A   \n",
       "1  Giacomo Franciosa  Tatiana Luter, Paolo Stella, Gianfranco Terrin   \n",
       "2        Henri Pardo  Ronald Jones, Ivan Livingstone, Majiza Philips   \n",
       "3       Mario Sulina   Areta Curkovic, Sandra Loncaric, Miro Cabraja   \n",
       "4      Luciano Nacci                                             N/A   \n",
       "\n",
       "                                                plot  \\\n",
       "0  Suzan, an Arab- Israeli woman, must reshape he...   \n",
       "1  The tale of Guendalina was passed down verball...   \n",
       "2  Dear Jackie paints a picture of the Black comm...   \n",
       "3  The film was inspired by the great strike of e...   \n",
       "4                                                N/A   \n",
       "\n",
       "                     country awards  \\\n",
       "0                     Israel    N/A   \n",
       "1                      Italy    N/A   \n",
       "2                     Canada    N/A   \n",
       "3                    Croatia    N/A   \n",
       "4  Argentina, Cuba, Colombia    N/A   \n",
       "\n",
       "                                              poster rating metascore votes  \\\n",
       "0  https://m.media-amazon.com/images/M/MV5BOTI5OT...    N/A       N/A   N/A   \n",
       "1  https://m.media-amazon.com/images/M/MV5BOWQ5MG...    N/A       N/A   N/A   \n",
       "2  https://m.media-amazon.com/images/M/MV5BNDIwYz...    N/A       N/A   N/A   \n",
       "3  https://m.media-amazon.com/images/M/MV5BODE4NG...    N/A       N/A   N/A   \n",
       "4  https://m.media-amazon.com/images/M/MV5BMzhjOT...    N/A       N/A   N/A   \n",
       "\n",
       "    type  \n",
       "0  movie  \n",
       "1  movie  \n",
       "2  movie  \n",
       "3  movie  \n",
       "4  movie  "
      ]
     },
     "execution_count": 29,
     "metadata": {},
     "output_type": "execute_result"
    }
   ],
   "source": [
    "movie_df.head()"
   ]
  }
 ],
 "metadata": {
  "kernelspec": {
   "display_name": "Python [conda env:base] *",
   "language": "python",
   "name": "conda-base-py"
  },
  "language_info": {
   "codemirror_mode": {
    "name": "ipython",
    "version": 3
   },
   "file_extension": ".py",
   "mimetype": "text/x-python",
   "name": "python",
   "nbconvert_exporter": "python",
   "pygments_lexer": "ipython3",
   "version": "3.12.2"
  }
 },
 "nbformat": 4,
 "nbformat_minor": 5
}
